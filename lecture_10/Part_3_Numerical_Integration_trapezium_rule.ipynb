{
 "cells": [
  {
   "cell_type": "markdown",
   "metadata": {
    "id": "oIjL_oANJ_ok"
   },
   "source": [
    "# The Trapezium rule\n",
    "\n",
    "The rectangle rule is a \"0th order\" solution for numerical integration. Let's now consider a \"1st order\" solution. The difference is that with rectangles we are assuming that the value of the function is constant over the rectangle and jumps to a new value when we get to next one. What if instead the function varied (in a straight line) between each point. To do that we use trapeziums instead of rectangles, and we need to evaluate the value of the function at the *edge* of each trapezium not in the middle.\n",
    "\n",
    "Let's visualize what this would look like with 3 trapeziums, and compare to the rectangles used previously (we use a small number of shapes to make it easier to see the trapeziums)"
   ]
  },
  {
   "cell_type": "markdown",
   "metadata": {
    "id": "dz_WScyIZK6J"
   },
   "source": [
    "![image.png](data:image/png;base64,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)"
   ]
  },
  {
   "cell_type": "markdown",
   "metadata": {
    "id": "LSDRu7Ewj9v_"
   },
   "source": [
    "Here the red line is the actual curve, the green is the rectangles used in the rectangular method, and the yellow is the area used in the trapezium rule. It looks like the yellow and red agree almost perfectly."
   ]
  },
  {
   "cell_type": "markdown",
   "metadata": {
    "id": "yNzhFiSPZwbO"
   },
   "source": [
    "As before to compute the integral we need to compute the area of each of the trapeziums and sum them up to get an approximation of the integral. If you are happy to try this out on your own, please proceed below. Otherwise we will guide you through the differences between this and the rectangle approach."
   ]
  },
  {
   "cell_type": "code",
   "execution_count": 1,
   "metadata": {
    "id": "dXmU3yGqZ6P_"
   },
   "outputs": [],
   "source": [
    "import numpy as np\n",
    "import matplotlib.pyplot as plt"
   ]
  },
  {
   "cell_type": "code",
   "execution_count": null,
   "metadata": {
    "id": "GmOPwQ7pkah2"
   },
   "outputs": [],
   "source": []
  },
  {
   "cell_type": "markdown",
   "metadata": {
    "id": "JcJrtuMeZ61t"
   },
   "source": [
    "One thing to highlight here is that there are a lot of similarities between the trapezium and rectangle approaches. The shapes have the same positions on the x-axis so we can re-use a lot of code from before. We do not compute any \"midpoints\" here, but `stepsize` and `rectangle_edges` can be used directly. (Copy them into this workbook)\n",
    "\n",
    "### STEP 1\n",
    "\n",
    "We do need a function to compute the area of a trapezium. Write a function `compute_trapeze_area(height_at_left, height_at_right, width)`. Note that the area of a trapeze is `(height_at_left + height_at_right)/2 * width`."
   ]
  },
  {
   "cell_type": "code",
   "execution_count": null,
   "metadata": {
    "id": "yPxmD_tVkngm"
   },
   "outputs": [],
   "source": []
  },
  {
   "cell_type": "code",
   "execution_count": null,
   "metadata": {
    "id": "esxKItopknpI"
   },
   "outputs": [],
   "source": []
  },
  {
   "cell_type": "code",
   "execution_count": null,
   "metadata": {
    "colab": {
     "base_uri": "https://localhost:8080/"
    },
    "id": "o0HOBUjqauJ8",
    "outputId": "86ae650b-7541-4e47-d3a2-b69709b9ce39"
   },
   "outputs": [
    {
     "name": "stdout",
     "output_type": "stream",
     "text": [
      "Should be 5\n",
      "Value computed was 5.0\n"
     ]
    }
   ],
   "source": [
    "def compute_trapeze_area(height_at_left, height_at_right, width):\n",
    "    # Complete function here\n",
    "\n",
    "\n",
    "\n",
    "# One example to test this\n",
    "example_area = compute_trapeze_area(3,2,2)\n",
    "print(\"Should be 5.0\")\n",
    "print(f\"Value computed was {example_area}\")"
   ]
  },
  {
   "cell_type": "markdown",
   "metadata": {
    "id": "QRrjT2OPbBIl"
   },
   "source": [
    "## STEP 2\n",
    "\n",
    "We now have everything we need (we're deliberately using fewer steps here than when we introduced the rectangle rule). Write a function `compute_trapeze_integral(function, lower_val, upper_val, num_rectangles)`. The `function` should be the function to compute (ie. compute_ex2) in the example above, `lower_val` is the lower value of integration, `upper_val` is the upper value and `num_trapeziums` is the number of trapeziums to use. Here's roughly how this should work:\n",
    "\n",
    "1. Call `rectangle_edges` to get the edges of your trapeziums (maybe rename the function if you want to avoid the confusion of calling something with rectangle in the name)\n",
    "1. Call `compute_step_size` to get the step size.\n",
    "1. Call `function` to get the y_values (the heights) of your trapeziums at all the edges.\n",
    "1. For all trapeziums use `compute_trapeze_area` to compute the area.\n",
    "1. Sum over all trapezium areas.\n",
    "1. Return the integral."
   ]
  },
  {
   "cell_type": "code",
   "execution_count": null,
   "metadata": {
    "colab": {
     "base_uri": "https://localhost:8080/"
    },
    "id": "5PFFK6e9auKv",
    "outputId": "2cbad56e-284f-4177-fce4-38d1ea2b57b6"
   },
   "outputs": [
    {
     "name": "stdout",
     "output_type": "stream",
     "text": [
      "Integral should be 0.42919855086111813\n",
      "Integral was computed to be 0.4261447643956601\n"
     ]
    }
   ],
   "source": [
    "def compute_trapeze_integral(function, lower_val, upper_val, num_trapeziums):\n",
    "    # Complete function below\n",
    "\n",
    "\n",
    "# Checking that it works\n",
    "integral = compute_trapeze_integral(compute_ex2, 0.5, 2, 5)\n",
    "print(\"Integral should be 0.4261447643956601\")\n",
    "print(f\"Integral was computed to be {integral}\")"
   ]
  },
  {
   "cell_type": "markdown",
   "metadata": {
    "id": "D5gtGy50ophI"
   },
   "source": [
    "## Exercise\n",
    "\n",
    "Make a plot of the accuracy of the integral of $e^{-x^2}dx$ between $x=0.5$ and $x=2$ computed using the \"rectangle rule\" *and* using the trapezium rule. Plot both on the same plot using two different lines.\n",
    "\n",
    "The x-axis of the plot should be the number of rectangles used in the integral vary this between 1 rectangle and 100 rectangles. The y-axis should show the value of the integral.\n",
    "\n",
    "**HINT** As before, you don't need to write any integration code here, by this stage you've already written it all!"
   ]
  },
  {
   "cell_type": "code",
   "execution_count": null,
   "metadata": {
    "id": "YAsquB2vokhK"
   },
   "outputs": [],
   "source": [
    "# ADD CODE HERE\n",
    "\n"
   ]
  },
  {
   "cell_type": "markdown",
   "metadata": {
    "id": "vr0VHsNbUY5m"
   },
   "source": [
    "## Exercise\n",
    "\n",
    "Again, repeat the process for the other two integrals:\n",
    "\n",
    "Make a plot of the accuracy of $\\int_1^3\\frac{\\sin{x}}{x} dx$ computed using the \"rectangle rule\", and the \"trapezium rule\".\n",
    "\n",
    "The x-axis of the plot should be the number of rectangles/trapeziums used in the integral vary this between 1 and 100 shapes. The y-axis should show the value of the integral.\n",
    "\n",
    "**HINT** All you have to do is copy the previous solution and change the function used, and the range used. I computed the integral to be roughly 0.90257."
   ]
  },
  {
   "cell_type": "code",
   "execution_count": null,
   "metadata": {
    "id": "7l_dtJXBpXbW"
   },
   "outputs": [],
   "source": [
    "# ADD CODE HERE\n"
   ]
  },
  {
   "cell_type": "markdown",
   "metadata": {
    "id": "7_kpZ6sSUgXM"
   },
   "source": [
    "Make a plot of the accuracy of $\\int_1^3 \\sqrt{\\sin{x}} dx$ computed using the \"rectangle rule\", and the \"trapezium rule\"\n",
    "\n",
    "The x-axis of the plot should be the number of rectangles/trapeziums used in the integral vary this between 1 and 100 shapes. The y-axis should show the value of the integral.\n",
    "\n",
    "I computed the integral to be 1.717835 here.\n"
   ]
  },
  {
   "cell_type": "code",
   "execution_count": null,
   "metadata": {
    "id": "cuG3srSBUkwe"
   },
   "outputs": [],
   "source": [
    "# ADD CODE HERE\n"
   ]
  },
  {
   "cell_type": "code",
   "execution_count": null,
   "metadata": {
    "id": "Vg1l0sNjeitI"
   },
   "outputs": [],
   "source": []
  }
 ],
 "metadata": {
  "colab": {
   "collapsed_sections": [
    "bvB6W-0iJFuP"
   ],
   "provenance": []
  },
  "kernelspec": {
   "display_name": "Python 3 (ipykernel)",
   "language": "python",
   "name": "python3"
  },
  "language_info": {
   "codemirror_mode": {
    "name": "ipython",
    "version": 3
   },
   "file_extension": ".py",
   "mimetype": "text/x-python",
   "name": "python",
   "nbconvert_exporter": "python",
   "pygments_lexer": "ipython3",
   "version": "3.9.7"
  }
 },
 "nbformat": 4,
 "nbformat_minor": 1
}
