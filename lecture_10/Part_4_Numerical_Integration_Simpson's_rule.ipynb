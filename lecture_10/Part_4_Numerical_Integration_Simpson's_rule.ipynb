{
 "cells": [
  {
   "cell_type": "markdown",
   "metadata": {
    "id": "8F2D5D0WVwSS"
   },
   "source": [
    "# Simpson's rule\n",
    "\n",
    "We have now demonstrated both the rectangular and trapezium integration methods. While the trapezium method looks like a visibly better fit, there are cases (including the cases above) where the rectangle method is actually more accurate. However, this can be improved by using a \"2nd-order\" solution to the problem.\n",
    "\n",
    "Simpson's rule is that. In this case rather than assuming that the curve is a series of straight lines, we assume that the curve is a series of quadratic lines. A nice introduction to this can be seen here:\n",
    "\n",
    "https://web.stanford.edu/group/sisl/k12/optimization/MO-unit4-pdfs/4.2simpsonintegrals.pdf\n",
    "\n",
    "(see up to slide 7). Let's try and visualize how this will look for our $e^{-x^2}dx$. Here I will compare to using only one rectangle/trapezium to emphasize the difference."
   ]
  },
  {
   "cell_type": "markdown",
   "metadata": {
    "id": "EWZvVvJ5erXw"
   },
   "source": [
    "![image.png](data:image/png;base64,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)"
   ]
  },
  {
   "cell_type": "markdown",
   "metadata": {
    "id": "XMnYO6lreuGt"
   },
   "source": [
    "Here the red is the actual curve, the green is the rectangle, the orange the trapezium, and the black is the new quadrature fit. We can see that each is progressively fitting better."
   ]
  },
  {
   "cell_type": "markdown",
   "metadata": {
    "id": "UWvDEUx1tu5a"
   },
   "source": [
    "Now we just need to evaluate this integral. Now we *could* analytically integrate the quadratic curve at every point, but it turns out that the integral of a quadratic curve over the interval $a$ to $b$ (where the midpoint is $m$) is given by:\n",
    "\n",
    "$$\\int_a^b f(x) dx \\approx  \\frac{(b-a)}{6}\\left(f(a)+4f(m) + f(b) \\right) $$\n",
    "\n",
    "We can code this up.\n"
   ]
  },
  {
   "cell_type": "markdown",
   "metadata": {
    "id": "ahrqRZN3fEVV"
   },
   "source": [
    "## Step 1\n",
    "\n",
    "Write a function `compute_quadrature_area(height_at_left, height_at_middle, height_at_right, width)` to compute the area of the shapes used in Simpson's rule. As described above this function should return `width/6. * (height_at_left + 4*height_at_middle + height_at_right)`"
   ]
  },
  {
   "cell_type": "code",
   "execution_count": null,
   "metadata": {
    "colab": {
     "base_uri": "https://localhost:8080/"
    },
    "id": "Mdq9u4fgfhAm",
    "outputId": "b67f91f1-564b-4229-a819-c91de271f498"
   },
   "outputs": [
    {
     "name": "stdout",
     "output_type": "stream",
     "text": [
      "Should be 4.666666666666666\n",
      "Value computed was 4.666666666666666\n"
     ]
    }
   ],
   "source": [
    "def compute_quadrature_area(height_at_left, height_at_middle, height_at_right, width):\n",
    "    # Complete function below\n",
    "\n",
    "\n",
    "\n",
    "# One example to test this\n",
    "example_area = compute_quadrature_area(3,2,3,2)\n",
    "print(\"Should be 4.666666666666666\")\n",
    "print(f\"Value computed was {example_area}\")"
   ]
  },
  {
   "cell_type": "markdown",
   "metadata": {
    "id": "P7tnQKoNf9QH"
   },
   "source": [
    "## Step 2\n",
    "\n",
    "Now we can write a function `compute_simpsons_integral(function, lower_val, upper_val, num_rectangles)`. The `function` should be the function to compute (ie. compute_ex2) in the example above, `lower_val` is the lower value of integration, `upper_val` is the upper value and `num_trapeziums` is the number of trapeziums to use. Here's roughly how this could work:\n",
    "\n",
    "1. Call `rectangle_edges` to get the edges of your shapes (maybe rename the function if you want to avoid the confusion of calling something with rectangle in the name)\n",
    "1. Call `compute_step_size` to get the step size.\n",
    "1. Call `f_midpoints` to get the midpoints of your shapes\n",
    "1. Call `function` to get the y_values (the heights) of your shapes at all the edges.\n",
    "1. Call `function` *again* to get the y_values of the shapes at all the midpoints.\n",
    "1. For all shapes use `compute_quadrature_area` to compute the area.\n",
    "1. Sum over all areas.\n",
    "1. Return the integral."
   ]
  },
  {
   "cell_type": "code",
   "execution_count": null,
   "metadata": {
    "id": "I3n8l37onWBP"
   },
   "outputs": [],
   "source": [
    "# copy the functions you want to use from the previous workbook\n",
    "\n"
   ]
  },
  {
   "cell_type": "code",
   "execution_count": null,
   "metadata": {
    "colab": {
     "base_uri": "https://localhost:8080/"
    },
    "id": "EDxrfDFTgaWr",
    "outputId": "5ad14511-b2a1-4866-92bb-2aaef0b9a4c7"
   },
   "outputs": [
    {
     "name": "stdout",
     "output_type": "stream",
     "text": [
      "Integral should be 0.4207871236381236\n",
      "Integral was computed to be 0.4207871236381236\n"
     ]
    }
   ],
   "source": [
    "def compute_simpsons_integral(function, lower_val, upper_val, num_rectangles):\n",
    "    # COMPLETE CODE HERE\n",
    "\n",
    "\n",
    "# Checking that it works\n",
    "integral = compute_simpsons_integral(compute_ex2, 0.5, 2, 5)\n",
    "print(\"Integral should be 0.4207871236381236\")\n",
    "print(f\"Integral was computed to be {integral}\")"
   ]
  },
  {
   "cell_type": "markdown",
   "metadata": {
    "id": "iLgA5uH_wDqA"
   },
   "source": [
    "### Some optimization\n",
    "\n",
    "If we examine this closely (with 2 shapes), we can see that the right edge of the first shape is the left edge of the second shape, therefore we don't need to compute that twice. We can just compute the value of the function at all the points we need (which will be twice as many points as with the trapezium rule, as we need to compute midpoints). Then we just multiply each point by a *weighting*. This weighting will be 4 for all the midpoints, 1 for the first and last point, and 2 otherwise. So for example if we were doing this with 3 shapes we would do something like:\n",
    "\n",
    "$$\n",
    "\t\\begin{array}{|c|c|c|}\\hline\n",
    "\tx & f(x) & \\mbox{weight} \\\\\n",
    "\t\\hline\n",
    "\t0.5 & 0.778801 & 1\\\\\n",
    "\t0.666667 & 0.641180 & 4\\\\\n",
    "\t0.833333 & 0.499352 & 2\\\\\n",
    "\t1 & 0.367880 & 4\\\\\n",
    "\t1.166667 & 0.256376 & 2\\\\\n",
    "    1.333333 & 0.169013 & 4\\\\\n",
    "    1.5 & 0.105399 & 1\\\\\n",
    "\t\\hline\n",
    "\t\\end{array}\n",
    "$$\n",
    "\n",
    "Then we just multiply all the f(x) values by the weights and sum everything up.\n",
    "\n",
    "Integral = (0.778801 + 0.641180\\*4 + 0.499352\\*2 + 0.367880\\*4 + 0.256376\\*2 + 0.169013\\*4 + 0.105399) * width / 6.\n"
   ]
  },
  {
   "cell_type": "code",
   "execution_count": null,
   "metadata": {
    "colab": {
     "base_uri": "https://localhost:8080/"
    },
    "id": "F0eHnvriwHdj",
    "outputId": "0c66d91e-1849-41fa-dd63-f430b6e32189"
   },
   "outputs": [
    {
     "name": "stdout",
     "output_type": "stream",
     "text": [
      "I have computed the integral to be 0.42078712363812343 with numerical integration using Simpson's rule\n"
     ]
    }
   ],
   "source": [
    "def simpson_rule(function, lower_val, upper_val, num_shapes):\n",
    "    h = (upper_val - lower_val)/num_shapes\n",
    "    x_vals = np.linspace(lower_val, upper_val, num_shapes*2+1)\n",
    "    f_vals = function(x_vals)\n",
    "    weights = np.ones(len(f_vals)) # Start with all weights equal to 1, then use slicing magic\n",
    "    weights[1::2] = 4 # Set every other value, starting with the second, to 4\n",
    "    weights[2:-1:2] = 2 # Set every other value, starting with the third, and not including the last, to 2\n",
    "    #print(weights) # Definitely use a debug statement here to check we got what we expected!!\n",
    "    return h/6*np.sum(f_vals*weights)\n",
    "\n",
    "current_area = simpson_rule(compute_ex2, 0.5, 2, 5)\n",
    "\n",
    "print(f\"I have computed the integral to be {current_area} with numerical integration using Simpson's rule\")"
   ]
  },
  {
   "cell_type": "markdown",
   "metadata": {
    "id": "qpSEyFJSS-aM"
   },
   "source": [
    "## Exercise\n",
    "\n",
    "Make a plot of the accuracy of the integral of $e^{-x^2}dx$ between $x=0.5$ and $x=2$ computed using Simpson's rule.\n",
    "\n",
    "The x-axis of the plot should be the number of shapes used in the integral. Vary this between 1 shape and 100 shapes. The y-axis should show the value of the integral.\n",
    "\n",
    "**HINT** As before, you don't need to write any integration code here, it's all provided above."
   ]
  },
  {
   "cell_type": "code",
   "execution_count": null,
   "metadata": {
    "id": "fCt5t6qKwC5V"
   },
   "outputs": [],
   "source": [
    "# ADD CODE HERE\n"
   ]
  },
  {
   "cell_type": "markdown",
   "metadata": {
    "id": "Gg9Z4kb2TaBW"
   },
   "source": [
    "## Exercise\n",
    "\n",
    "TL:DR: Now repeat the process but plot the accuracy using Simpson's rule, Trapezium rule and rectangle rule on the same plot!\n",
    "\n",
    "Longer: Make a plot of the accuracy of the integral of $e^{-x^2}dx$ between $x=0.5$ and $x=2$ computed using Simpson's rule, Trapezium rule and the Rectangle rule. Show the 3 lines on the same plot.\n",
    "\n",
    "The x-axis of the plot should be the number of shapes used in the integral. Vary this between 1 shape and 100 shapes. The y-axis should show the value of the integral.\n",
    "\n",
    "**HINT** As before, you don't need to write any integration code here, it's all provided above."
   ]
  },
  {
   "cell_type": "code",
   "execution_count": null,
   "metadata": {
    "id": "AxL3iqc8jO2G"
   },
   "outputs": [],
   "source": [
    "# ADD CODE HERE"
   ]
  },
  {
   "cell_type": "markdown",
   "metadata": {
    "id": "Pe-NpJmocSid"
   },
   "source": [
    "## Exercise\n",
    "\n",
    "Again, repeat the process for the other two integrals:\n",
    "\n",
    "Make a plot of the accuracy of $\\int_1^3\\frac{\\sin{x}}{x} dx$ computed using the \"rectangle rule\", the \"trapezium rule\" and \"Simpson's rule\"\n",
    "\n",
    "The x-axis of the plot should be the number of shapes used in the integral vary this between 1 and 100 shapes. The y-axis should show the value of the integral.\n",
    "\n",
    "**HINT** All you have to do is copy the previous solution and change the function used, and the range used. I computed the integral to be roughly 0.90257."
   ]
  },
  {
   "cell_type": "code",
   "execution_count": null,
   "metadata": {
    "id": "isV-nTNLcMYv"
   },
   "outputs": [],
   "source": [
    "# ADD CODE HERE"
   ]
  },
  {
   "cell_type": "markdown",
   "metadata": {
    "id": "1JJiU48mc9N2"
   },
   "source": [
    "Make a plot of the accuracy of $\\int_1^3 \\sqrt{\\sin{x}} dx$ computed using the \"rectangle rule\", the \"trapezium rule\" and \"Simpson's rule\"\n",
    "\n",
    "The x-axis of the plot should be the number of shapes used in the integral vary this between 1 and 100 shapes. The y-axis should show the value of the integral.\n",
    "\n",
    "I computed the integral to be 1.717835 here.\n"
   ]
  },
  {
   "cell_type": "code",
   "execution_count": null,
   "metadata": {
    "id": "vqwwTxYacuYg"
   },
   "outputs": [],
   "source": [
    "# ADD CODE HERE"
   ]
  },
  {
   "cell_type": "markdown",
   "metadata": {
    "id": "89j5tMpEePOX"
   },
   "source": [
    "## Exercise\n",
    "\n",
    "Compute the integral:\n",
    "\n",
    "$$\\int_{0.2}^{0.5} \\tan(x) dx$$\n",
    "\n",
    "using numerical integration"
   ]
  },
  {
   "cell_type": "code",
   "execution_count": null,
   "metadata": {
    "id": "1wOOrLCLed2m"
   },
   "outputs": [],
   "source": []
  },
  {
   "cell_type": "markdown",
   "metadata": {
    "id": "EN6hRabIfCgX"
   },
   "source": [
    "## Exercise\n",
    "\n",
    "Compute the integral\n",
    "\n",
    "$$\\int_0^{20} e ^ {\\sin(x)} dx $$"
   ]
  },
  {
   "cell_type": "code",
   "execution_count": null,
   "metadata": {
    "id": "w55U--3KfMf_"
   },
   "outputs": [],
   "source": []
  },
  {
   "cell_type": "markdown",
   "metadata": {
    "id": "FcyedscQfmyO"
   },
   "source": [
    "## Exercise\n",
    "\n",
    "Compute the integral\n",
    "\n",
    "$$\\int_1^{100} \\frac{\\ln (x + 1)}{x} dx $$"
   ]
  },
  {
   "cell_type": "code",
   "execution_count": null,
   "metadata": {
    "id": "klZJOZhgftwH"
   },
   "outputs": [],
   "source": []
  },
  {
   "cell_type": "markdown",
   "metadata": {
    "id": "j0lKHr_afu8G"
   },
   "source": [
    "## Exercise\n",
    "\n",
    "Compute the integral:\n",
    "\n",
    "$$\\int_{1}^{2} \\tan(x) dx$$\n",
    "\n",
    "using numerical integration.\n",
    "\n",
    "**WARNING** There's a catch in this one! Maybe try plotting $\\tan(x)$ in this interval first?? If you can see the catch, is it still possible to integrate this?"
   ]
  },
  {
   "cell_type": "code",
   "execution_count": null,
   "metadata": {
    "id": "-hx6LL31f3Pn"
   },
   "outputs": [],
   "source": []
  },
  {
   "cell_type": "code",
   "execution_count": null,
   "metadata": {
    "id": "cZHrRlqoFA--"
   },
   "outputs": [],
   "source": []
  },
  {
   "cell_type": "code",
   "execution_count": null,
   "metadata": {
    "id": "xSmnvBgMFBCR"
   },
   "outputs": [],
   "source": []
  },
  {
   "cell_type": "code",
   "execution_count": null,
   "metadata": {
    "id": "EzyFrz9MFBE-"
   },
   "outputs": [],
   "source": []
  },
  {
   "cell_type": "code",
   "execution_count": null,
   "metadata": {
    "id": "Vg1l0sNjeitI"
   },
   "outputs": [],
   "source": []
  }
 ],
 "metadata": {
  "colab": {
   "collapsed_sections": [
    "bvB6W-0iJFuP"
   ],
   "provenance": []
  },
  "kernelspec": {
   "display_name": "Python 3 (ipykernel)",
   "language": "python",
   "name": "python3"
  },
  "language_info": {
   "codemirror_mode": {
    "name": "ipython",
    "version": 3
   },
   "file_extension": ".py",
   "mimetype": "text/x-python",
   "name": "python",
   "nbconvert_exporter": "python",
   "pygments_lexer": "ipython3",
   "version": "3.9.7"
  }
 },
 "nbformat": 4,
 "nbformat_minor": 1
}
