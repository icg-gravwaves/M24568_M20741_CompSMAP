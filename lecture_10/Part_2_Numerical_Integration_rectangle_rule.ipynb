{
 "cells": [
  {
   "cell_type": "markdown",
   "metadata": {
    "id": "cl3Y6mdmIu3V"
   },
   "source": [
    "# The rectangle rule\n",
    "\n",
    "We have just shown illustratively how numerical integration works using the rectangle method. We will discuss other methods later, but first we will walk through how to code up the rectangular integration method together. If you feel like you can already do this given the illustrations, try to jump straight in and code up a function to integrate $e^{-x^2}$ between 0.5 and 2 using the rectangle rule and compare with the number we computed (0.4208). Otherwise follow through the following steps with us."
   ]
  },
  {
   "cell_type": "code",
   "execution_count": null,
   "metadata": {
    "id": "AhmoFDYuLxIr"
   },
   "outputs": [],
   "source": [
    "import numpy as np\n",
    "import matplotlib.pyplot as plt"
   ]
  },
  {
   "cell_type": "code",
   "execution_count": null,
   "metadata": {
    "id": "pvF83Eo8JRgm"
   },
   "outputs": [],
   "source": []
  },
  {
   "cell_type": "markdown",
   "metadata": {
    "id": "zCYe6vUeJR7d"
   },
   "source": [
    "### Guided exercise part 1\n",
    "\n",
    "The first step in this process is to place our rectangles. We will begin by deciding where the *edges* of the rectangles are. To do so we will write a function `rectangle_edges` which takes 3 inputs `N` the number of edges that we want, `lower_val` the value of the smallest edge, `upper_val` the value of the highest edge. In this function you will need to\n",
    "\n",
    "1. Define an array of `N` linearly spaced x values between `lower_val` and `upper_val`.\n",
    "1. Return that array"
   ]
  },
  {
   "cell_type": "code",
   "execution_count": null,
   "metadata": {
    "id": "Yh0ZACUdKiw-"
   },
   "outputs": [],
   "source": [
    "def rectangle_edges(N, lower_val, upper_val):\n",
    "    # COMPLETE THIS FUNCTION AS DESCRIBED\n"
   ]
  },
  {
   "cell_type": "markdown",
   "metadata": {
    "id": "Am1JJ0MUKo1d"
   },
   "source": [
    "To test your function, run the following code."
   ]
  },
  {
   "cell_type": "code",
   "execution_count": null,
   "metadata": {
    "colab": {
     "base_uri": "https://localhost:8080/"
    },
    "id": "1iefIRBSKyIe",
    "outputId": "db617f4c-76fc-4e7e-eb33-5d68755699d2"
   },
   "outputs": [
    {
     "name": "stdout",
     "output_type": "stream",
     "text": [
      "This should read [0.5, 0.8, 1.1, 1.4, 1.7, 2]\n",
      "[0.5 0.8 1.1 1.4 1.7 2. ]\n"
     ]
    }
   ],
   "source": [
    "print(\"This should read [0.5, 0.8, 1.1, 1.4, 1.7, 2]\")\n",
    "print(rectangle_edges(6, 0.5, 2.0))"
   ]
  },
  {
   "cell_type": "markdown",
   "metadata": {
    "id": "vjdGE6_lNoig"
   },
   "source": [
    "## Guided exercise part 2\n",
    "\n",
    "Write a function `compute_stepsize` that computes the gap between the rectangles. **HINT** the rectangles are equally spaced so you only have to compute the gap between the first two points."
   ]
  },
  {
   "cell_type": "code",
   "execution_count": null,
   "metadata": {
    "colab": {
     "base_uri": "https://localhost:8080/"
    },
    "id": "zXnAyp9wN-K3",
    "outputId": "975bf385-a818-45fe-e6a3-2fa3fe0dd1c6"
   },
   "outputs": [
    {
     "name": "stdout",
     "output_type": "stream",
     "text": [
      "Stepsize should be 0.3\n",
      "Stepsize is 0.30000000000000004\n"
     ]
    }
   ],
   "source": [
    "def compute_step_size(rect_edges):\n",
    "    # COMPLETE CODE\n",
    "\n",
    "rect_edges = rectangle_edges(6, 0.5, 2.0)\n",
    "stepsize = compute_step_size(rect_edges)\n",
    "\n",
    "print(\"Stepsize should be 0.3\")\n",
    "print(f\"Stepsize is {stepsize}\")"
   ]
  },
  {
   "cell_type": "markdown",
   "metadata": {
    "id": "LsY2xbRYLPwm"
   },
   "source": [
    "### Guided exercise part 3\n",
    "\n",
    "We now need to identify the midpoint (on the x-axis) of each of the rectangles. Again, let's describe what is needed:\n",
    "\n",
    "1. Write a function `f_midpoint`. This function should take 2 input values `lower_edge` and `upper_edge` and return the midpoint. For example if the lower_edge is 0.5 and the upper_edge is 1, the midpoint is 0.75 (which is halfway between 0.5 and 1).\n",
    "2. Use the `f_midpoint` function to find the midpoint of all your rectangles. *HINT* our example above used 5 rectangles. But 5 rectangles have 6 edges. Therefore if we use N=6 when calling `rectangle_edges` we will expect only 5 rectangles, and so 5 midpoints. You could do this in a for loop, but is it possible to do it using *slicing* of numpy arrays? (Do whatever you are happiest with, and talk to us if it is unclear.)"
   ]
  },
  {
   "cell_type": "code",
   "execution_count": null,
   "metadata": {
    "colab": {
     "base_uri": "https://localhost:8080/"
    },
    "id": "KO4bvgZRM4Ha",
    "outputId": "ac4ec9b7-f070-46c6-e420-93072afc77f5"
   },
   "outputs": [
    {
     "name": "stdout",
     "output_type": "stream",
     "text": [
      "The midpoints should be [0.65, 0.95, 1.25, 1.55, 1.85\n",
      "[0.65 0.95 1.25 1.55 1.85]\n"
     ]
    }
   ],
   "source": [
    "# Write your function f_midpoint here\n",
    "\n",
    "\n",
    "# Create our set of 5 rectangles from before\n",
    "rect_edges = rectangle_edges(6, 0.5, 2.0)\n",
    "stepsize = compute_step_size(rect_edges)\n",
    "# Now write code to compute the midpoints of these rectangles\n",
    "# INSERT CODE HERE\n",
    "\n",
    "\n",
    "\n",
    "print(\"The midpoints should be [0.65, 0.95, 1.25, 1.55, 1.85\")\n",
    "print(rect_midpoints) # Change the variable name if you called it something else"
   ]
  },
  {
   "cell_type": "markdown",
   "metadata": {
    "id": "jHnjJPD5Oeu3"
   },
   "source": [
    "## Guided exercise part 4\n",
    "\n",
    "Write a function to compute $e^{-x^2}$. It should take as input a numpy array of x values, and return an array of $e^{-x^2}$ for all inputs."
   ]
  },
  {
   "cell_type": "code",
   "execution_count": null,
   "metadata": {
    "colab": {
     "base_uri": "https://localhost:8080/"
    },
    "id": "KpiyoMS_OusW",
    "outputId": "e9d98c71-a44d-4e07-92c3-2e41f36b1f41"
   },
   "outputs": [
    {
     "name": "stdout",
     "output_type": "stream",
     "text": [
      "The y_values should be [0.65540625 0.40555451 0.20961139 0.09049144 0.03263076]\n",
      "The y_values are [0.65540625 0.40555451 0.20961139 0.09049144 0.03263076]\n"
     ]
    }
   ],
   "source": [
    "def compute_ex2(x_values):\n",
    "    # Complete function below\n",
    "\n",
    "\n",
    "rect_edges = rectangle_edges(6, 0.5, 2.0)\n",
    "stepsize = compute_step_size(rect_edges)\n",
    "rect_midpoints = f_midpoints(rect_edges[:-1], rect_edges[1:])\n",
    "\n",
    "y_values = compute_ex2(rect_midpoints)\n",
    "\n",
    "print(\"The y_values should be [0.65540625 0.40555451 0.20961139 0.09049144 0.03263076]\")\n",
    "print(f\"The y_values are {y_values}\")"
   ]
  },
  {
   "cell_type": "markdown",
   "metadata": {
    "id": "vAha7ZvVPW_h"
   },
   "source": [
    "## Guided exercise part 5\n",
    "\n",
    "Now we can make a plot to illustrate this. If all your functions above work, you should just be able to run the code below and produce the plots we used for illustration earlier!"
   ]
  },
  {
   "cell_type": "code",
   "execution_count": null,
   "metadata": {
    "colab": {
     "base_uri": "https://localhost:8080/",
     "height": 296
    },
    "id": "-TArhByYPoFo",
    "outputId": "78104e22-4f5f-4d16-d002-c842069b8143"
   },
   "outputs": [
    {
     "data": {
      "text/plain": [
       "(0.5, 2.0)"
      ]
     },
     "execution_count": 44,
     "metadata": {},
     "output_type": "execute_result"
    },
    {
     "data": {
      "image/png": "[encoded data removed]",
      "text/plain": [
       "<Figure size 432x288 with 1 Axes>"
      ]
     },
     "metadata": {
      "needs_background": "light"
     },
     "output_type": "display_data"
    }
   ],
   "source": [
    "# These 4 values are the things that are specific to this example. If we changed these we could compute any integral in this way\n",
    "N_rectangles = 5\n",
    "lower_bound = 0.5\n",
    "upper_bound = 2.0\n",
    "function = compute_ex2\n",
    "\n",
    "rect_edges = rectangle_edges(N_rectangles+1, lower_bound, upper_bound)\n",
    "stepsize = compute_step_size(rect_edges)\n",
    "rect_midpoints = f_midpoints(rect_edges[:-1], rect_edges[1:])\n",
    "y_values = function(rect_midpoints)\n",
    "\n",
    "# Plot the red crosses\n",
    "plt.plot(rect_midpoints, y_values, 'rx') # Plot the line\n",
    "\n",
    "# Plot the rectangles, this is a bit more involved\n",
    "for index in range(N_rectangles):\n",
    "    plt.fill([rect_edges[index], rect_edges[index], rect_edges[index+1], rect_edges[index+1]],\n",
    "             [0, y_values[index], y_values[index], 0], alpha=0.5, color='green', linestyle='-')\n",
    "plt.xlabel('x')\n",
    "plt.ylabel('$e^{-x^2}$')\n",
    "plt.xlim(0.5,2)\n",
    "\n"
   ]
  },
  {
   "cell_type": "markdown",
   "metadata": {
    "id": "7iol_ZF7Qvwp"
   },
   "source": [
    "## Guided exercise part 6\n",
    "\n",
    "Now we can compute the integral. To do this we write another function `compute_rect_area`. This function takes as input `y_values` the height of the rectangles and `stepsize` the width of the rectangles. Note the `y_values` should be a numpy array (as it is different for each rectangle), but `stepsize` is just a single value (as all rectangles have the same width). This function should then:\n",
    "\n",
    "1. Compute the area of each rectangle. Remember area = width * height, so you can quickly compute the area for each rectangle.\n",
    "1. Sum the area of all the rectangles up\n",
    "1. Return the sum of the areas of all the rectangles"
   ]
  },
  {
   "cell_type": "code",
   "execution_count": null,
   "metadata": {
    "colab": {
     "base_uri": "https://localhost:8080/"
    },
    "id": "vX5gAeoXRhg4",
    "outputId": "48b7ebc8-b09d-4ce7-e410-84e4622a672b"
   },
   "outputs": [
    {
     "name": "stdout",
     "output_type": "stream",
     "text": [
      "The integral should be 0.4181083032593553\n",
      "The integral was computed to be 0.4181083032593553\n"
     ]
    }
   ],
   "source": [
    "def compute_rect_area(y_values, stepsize):\n",
    "    # COMPLETE CODE HERE\n",
    "\n",
    "rect_edges = rectangle_edges(6, 0.5, 2.0)\n",
    "stepsize = compute_step_size(rect_edges)\n",
    "rect_midpoints = f_midpoints(rect_edges[:-1], rect_edges[1:])\n",
    "y_values = compute_ex2(rect_midpoints)\n",
    "\n",
    "# Now the new bit\n",
    "integral = compute_rect_area(y_values, stepsize)\n",
    "\n",
    "print(\"The integral should be 0.4181083032593553\")\n",
    "print(f\"The integral was computed to be {integral}\")"
   ]
  },
  {
   "cell_type": "markdown",
   "metadata": {
    "id": "3AyIt3G9R_G3"
   },
   "source": [
    "## Guided exercise part 7\n",
    "\n",
    "Well done. You've just computed the numerical integral of $e^{-x^2}$. Now let's tie all this together so we can more easily compute other integrals, and change the ranges. To do this:\n",
    "\n",
    "Write a function `compute_rectangle_integral(function, lower_val, upper_val, num_rectangles)`. The function should be the function to compute (ie. compute_ex2) in the example above, `lower_val` is the lower value of integration, `upper_val` is the upper value and `num_rectangles` is the number of rectangles to use.\n",
    "\n",
    "Within this function you should call all the things you've already written, so:\n",
    "\n",
    "1. Call `rectangle_edges` to get the edges of your rectangles\n",
    "1. Call `compute_step_size` to get the step size.\n",
    "1. Call `f_midpoints` to get the midpoints of your rectangles\n",
    "1. Call `function` to get the y_values (the heights) of your rectangles.\n",
    "1. Call `compute_rect_area` to get the integral.\n",
    "1. Return the integral."
   ]
  },
  {
   "cell_type": "code",
   "execution_count": null,
   "metadata": {
    "colab": {
     "base_uri": "https://localhost:8080/"
    },
    "id": "aMV-5E57S5fZ",
    "outputId": "8c7cd51e-db85-48ae-ef54-d37e94222cfd"
   },
   "outputs": [
    {
     "name": "stdout",
     "output_type": "stream",
     "text": [
      "The integral should be 0.42079376964408877\n",
      "The integral is 0.42079376964408877\n"
     ]
    }
   ],
   "source": [
    "def compute_rectangle_integral(function, lower_val, upper_val, num_rectangles):\n",
    "    # COMPLETE THIS CODE BELOW\n",
    "\n",
    "\n",
    "integral = compute_rectangle_integral(compute_ex2, 0.5, 2, 100)\n",
    "print(\"The integral should be 0.42079376964408877\")\n",
    "print(f\"The integral is {integral}\")"
   ]
  },
  {
   "cell_type": "markdown",
   "metadata": {
    "id": "VgDPs34KTe-i"
   },
   "source": [
    "## Exercise\n",
    "\n",
    "Now compute the integral of $e^{-x^2}$ between $x=0.5$ and $x=2$ computed using the rectangle rule using 100 rectangles.\n"
   ]
  },
  {
   "cell_type": "code",
   "execution_count": null,
   "metadata": {
    "id": "ZupTXLNVTn-2"
   },
   "outputs": [],
   "source": [
    "# ADD CODE BELOW\n"
   ]
  },
  {
   "cell_type": "markdown",
   "metadata": {
    "id": "7-AKhVEd6y67"
   },
   "source": [
    "## Exercise\n",
    "\n",
    "Make a plot of the accuracy of the integral of $e^{-x^2}dx$ between $x=0.5$ and $x=2$ computed using the \"rectangle rule\" as a function of the number of rectangles used.\n",
    "\n",
    "The x-axis of the plot should be the number of rectangles used in the integral. Vary this between 1 rectangle and 100 rectangles. The y-axis should show the value of the integral.\n",
    "\n",
    "**HINT** You don't need to write any integration code here, it's all provided above. Just remove the plotting calls, then call the existing code for many values of the number of rectangles, store the outputs in a list, and then plot."
   ]
  },
  {
   "cell_type": "code",
   "execution_count": null,
   "metadata": {
    "id": "fPAgrGGu6Les"
   },
   "outputs": [],
   "source": [
    "# ADD CODE BELOW\n"
   ]
  },
  {
   "cell_type": "markdown",
   "metadata": {
    "id": "OTYzNZbv9wkN"
   },
   "source": [
    "Hopefully you can see that the integral very quickly approaches one value. Surprisingly (at least to me) we don't need many rectangles at all to accurately compute the integral of this function!"
   ]
  },
  {
   "cell_type": "markdown",
   "metadata": {
    "id": "9RwgBFMT-FYf"
   },
   "source": [
    "## Exercise\n",
    "\n",
    "Now repeat the process for the other two integrals:\n",
    "\n",
    "Make a plot of the accuracy of $\\int_1^3\\frac{\\sin{x}}{x} dx$ computed using the \"rectangle rule\" as described above.\n",
    "\n",
    "The x-axis of the plot should be the number of rectangles used in the integral vary this between 1 rectangle and 100 rectangles. The y-axis should show the value of the integral.\n",
    "\n",
    "**HINT** All you have to do is copy the previous solution and change the function used, and the range used. You will need to write a function to compute $\\frac{\\sin{x}}{x}$ to replace the `compute_ex2` function.\n",
    "\n",
    "**HINT** I compute this integral to be roughly 0.90257"
   ]
  },
  {
   "cell_type": "code",
   "execution_count": 1,
   "metadata": {
    "id": "ETfTV6_Z9YKf"
   },
   "outputs": [],
   "source": [
    "# ADD CODE BELOW\n"
   ]
  },
  {
   "cell_type": "markdown",
   "metadata": {
    "id": "XV9BMKC5-ph8"
   },
   "source": [
    "Make a plot of the accuracy of $\\int_1^3 \\sqrt{\\sin{x}} dx$ computed using the \"rectangle rule\" as described above.\n",
    "\n",
    "The x-axis of the plot should be the number of rectangles used in the integral vary this between 1 rectangle and 100 rectangles. The y-axis should show the value of the integral.\n",
    "\n",
    "I computed the integral to be 1.717835 here.\n"
   ]
  },
  {
   "cell_type": "code",
   "execution_count": null,
   "metadata": {
    "id": "671mPfcDjoGI"
   },
   "outputs": [],
   "source": []
  },
  {
   "cell_type": "markdown",
   "metadata": {
    "id": "ZEsQha5ejqop"
   },
   "source": [
    "### Rectangle rule - summarized\n",
    "\n",
    "The rectangle rule is a simple approximation for numerically integrating a function. It can also be done on pen and paper if you want to integrate a function you have plotted .... But we live in a world with computers, so do we really want to do that in the 2020s?\n",
    "\n",
    "We have shown for the example functions shown that we only need a relatively small number of rectangles to compute this, with a very low computational cost. We have demonstrated how we can show that the integral is \"converging\" to the right answer by plotting the integral as a function of the number of rectangles used. We will not get a different answer if we use 100000000 rectangles, the integral has already converged. However, there may be functions that require many more points than we used here ... But you now know how to check if the integral is accurate enough!\n",
    "\n",
    "It is possible to compute this using fewer points if we change our approximation to not use rectangles, but to use something else. Let's explore that now."
   ]
  },
  {
   "cell_type": "code",
   "execution_count": null,
   "metadata": {
    "id": "8GJQLwx6jwPo"
   },
   "outputs": [],
   "source": []
  }
 ],
 "metadata": {
  "colab": {
   "collapsed_sections": [
    "bvB6W-0iJFuP"
   ],
   "provenance": []
  },
  "kernelspec": {
   "display_name": "Python 3 (ipykernel)",
   "language": "python",
   "name": "python3"
  },
  "language_info": {
   "codemirror_mode": {
    "name": "ipython",
    "version": 3
   },
   "file_extension": ".py",
   "mimetype": "text/x-python",
   "name": "python",
   "nbconvert_exporter": "python",
   "pygments_lexer": "ipython3",
   "version": "3.9.7"
  }
 },
 "nbformat": 4,
 "nbformat_minor": 1
}
