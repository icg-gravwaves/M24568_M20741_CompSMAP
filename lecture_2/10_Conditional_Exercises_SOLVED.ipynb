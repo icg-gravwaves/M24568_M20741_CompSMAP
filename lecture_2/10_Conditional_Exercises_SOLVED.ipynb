{
 "cells": [
  {
   "cell_type": "markdown",
   "id": "6cf25ec2",
   "metadata": {
    "id": "6cf25ec2"
   },
   "source": [
    "# Conditionals - Exercises - SOLVED\n"
   ]
  },
  {
   "cell_type": "markdown",
   "id": "ba93d967",
   "metadata": {
    "id": "ba93d967"
   },
   "source": [
    "## Exercise\n",
    "\n",
    "Write a conditional to check if a number is bigger than 20. Print some message based on if it is, or isn't bigger than 20. Your code should contain:\n",
    "\n",
    "* A line to assign a value to a number\n",
    "* An if to check if the number is bigger than 20\n",
    "* An indented line to print something appropriate if it is bigger.\n",
    "* An `else` (or `elif`, but `else` is preferred here) line.\n",
    "* A second indented line to print something appropriate if the number is smaller than 20.\n",
    "\n",
    "Run your code with some different values of the number (including exactly 20) and see if it does the right thing."
   ]
  },
  {
   "cell_type": "code",
   "execution_count": 2,
   "id": "aae81485",
   "metadata": {
    "executionInfo": {
     "elapsed": 245,
     "status": "ok",
     "timestamp": 1696495623658,
     "user": {
      "displayName": "Ian Harry",
      "userId": "09765021565160415280"
     },
     "user_tz": -60
    },
    "id": "aae81485"
   },
   "outputs": [],
   "source": [
    "def twenty_check(num):\n",
    "    if num > 20:\n",
    "        print(\"Number bigger than 20\")\n",
    "    else:\n",
    "        print(\"Number not bigger than 20\")"
   ]
  },
  {
   "cell_type": "code",
   "execution_count": 6,
   "id": "nPzXsfaGBOXs",
   "metadata": {
    "colab": {
     "base_uri": "https://localhost:8080/"
    },
    "executionInfo": {
     "elapsed": 3,
     "status": "ok",
     "timestamp": 1696495671392,
     "user": {
      "displayName": "Ian Harry",
      "userId": "09765021565160415280"
     },
     "user_tz": -60
    },
    "id": "nPzXsfaGBOXs",
    "outputId": "d37bbeea-6477-447a-aefc-7b2885947f80"
   },
   "outputs": [
    {
     "name": "stdout",
     "output_type": "stream",
     "text": [
      "Number not bigger than 20\n",
      "Number bigger than 20\n",
      "Number not bigger than 20\n"
     ]
    },
    {
     "data": {
      "text/plain": [
       "(None, None, None)"
      ]
     },
     "execution_count": 6,
     "metadata": {},
     "output_type": "execute_result"
    }
   ],
   "source": [
    "twenty_check(1), twenty_check(21), twenty_check(20)"
   ]
  },
  {
   "cell_type": "markdown",
   "id": "b9a6dfab",
   "metadata": {
    "id": "b9a6dfab"
   },
   "source": [
    "## Exercise\n",
    "\n",
    "Write a conditional to check if a number is divisable by 3. **HINT** We showed in the Conditionals section an example to check if a number was even (is divisable by 2), this would be very similar."
   ]
  },
  {
   "cell_type": "code",
   "execution_count": 7,
   "id": "714fbc02",
   "metadata": {
    "executionInfo": {
     "elapsed": 1,
     "status": "ok",
     "timestamp": 1696495729515,
     "user": {
      "displayName": "Ian Harry",
      "userId": "09765021565160415280"
     },
     "user_tz": -60
    },
    "id": "714fbc02"
   },
   "outputs": [],
   "source": [
    "def divisible_three(number):\n",
    "    if number % 3 == 0:\n",
    "        return True\n",
    "    else:\n",
    "        return False"
   ]
  },
  {
   "cell_type": "code",
   "execution_count": 11,
   "id": "emumixMqBoFz",
   "metadata": {
    "colab": {
     "base_uri": "https://localhost:8080/"
    },
    "executionInfo": {
     "elapsed": 3,
     "status": "ok",
     "timestamp": 1696495789006,
     "user": {
      "displayName": "Ian Harry",
      "userId": "09765021565160415280"
     },
     "user_tz": -60
    },
    "id": "emumixMqBoFz",
    "outputId": "df60057c-2f90-4085-b60c-2afd8411e2fb"
   },
   "outputs": [
    {
     "name": "stdout",
     "output_type": "stream",
     "text": [
      "Not divisible by 3\n"
     ]
    }
   ],
   "source": [
    "test_num = 8\n",
    "\n",
    "if divisible_three(test_num):\n",
    "    print(\"Divisible by 3\")\n",
    "else:\n",
    "    print(\"Not divisible by 3\")"
   ]
  },
  {
   "cell_type": "markdown",
   "id": "d6400c44",
   "metadata": {
    "id": "d6400c44"
   },
   "source": [
    "## Exercise\n",
    "\n",
    "Write a conditional to check:\n",
    "\n",
    "* If a number is *greater* than 0 (print \"greater than 0\")\n",
    "* Or if a number is *less* than 0 (print \"less than 0\")\n",
    "* Or if a number is *equal* to 0 (print \"equal to 0\")"
   ]
  },
  {
   "cell_type": "code",
   "execution_count": 12,
   "id": "a3f96dcd",
   "metadata": {
    "executionInfo": {
     "elapsed": 224,
     "status": "ok",
     "timestamp": 1696495861759,
     "user": {
      "displayName": "Ian Harry",
      "userId": "09765021565160415280"
     },
     "user_tz": -60
    },
    "id": "a3f96dcd"
   },
   "outputs": [],
   "source": [
    "def positive_number_check(num):\n",
    "    if num > 0:\n",
    "        print(\"greater than 0\")\n",
    "    elif num == 0:\n",
    "        print(\"Number equal to 0\")\n",
    "    elif num < 0:\n",
    "        print(\"less than 0\")\n",
    "    else:\n",
    "        print(\"something's wrong!!\")"
   ]
  },
  {
   "cell_type": "code",
   "execution_count": 18,
   "id": "2mGEdlWCCIYj",
   "metadata": {
    "colab": {
     "base_uri": "https://localhost:8080/"
    },
    "executionInfo": {
     "elapsed": 288,
     "status": "ok",
     "timestamp": 1696495915459,
     "user": {
      "displayName": "Ian Harry",
      "userId": "09765021565160415280"
     },
     "user_tz": -60
    },
    "id": "2mGEdlWCCIYj",
    "outputId": "894c91c5-37ab-4090-e05e-d775064701d0"
   },
   "outputs": [
    {
     "name": "stdout",
     "output_type": "stream",
     "text": [
      "greater than 0\n",
      "less than 0\n",
      "Number equal to 0\n"
     ]
    },
    {
     "data": {
      "text/plain": [
       "(None, None, None)"
      ]
     },
     "execution_count": 18,
     "metadata": {},
     "output_type": "execute_result"
    }
   ],
   "source": [
    "positive_number_check(4), positive_number_check(-2), positive_number_check(0)"
   ]
  },
  {
   "cell_type": "markdown",
   "id": "8d9f4932",
   "metadata": {
    "id": "8d9f4932"
   },
   "source": [
    "### Exercise\n",
    "\n",
    "By using what we've demonstrated above try to write a code to\n",
    "check if a number is divisible by both 2 and 3.\n",
    "If it is divisible by both say \"Yay, I divide by 6\", otherwise say \"I wish I divided by 6\"."
   ]
  },
  {
   "cell_type": "code",
   "execution_count": 19,
   "id": "3832bed1",
   "metadata": {
    "executionInfo": {
     "elapsed": 210,
     "status": "ok",
     "timestamp": 1696496028819,
     "user": {
      "displayName": "Ian Harry",
      "userId": "09765021565160415280"
     },
     "user_tz": -60
    },
    "id": "3832bed1"
   },
   "outputs": [],
   "source": [
    "def divisible_six(num):\n",
    "    if (num%2==0) and (num%3==0):\n",
    "        print(\"Yay, I divide by 6\")\n",
    "    else:\n",
    "        print(\"I wish I divided by 6\")"
   ]
  },
  {
   "cell_type": "code",
   "execution_count": 20,
   "id": "0iUA5KMvCwoR",
   "metadata": {
    "colab": {
     "base_uri": "https://localhost:8080/"
    },
    "executionInfo": {
     "elapsed": 248,
     "status": "ok",
     "timestamp": 1696496055362,
     "user": {
      "displayName": "Ian Harry",
      "userId": "09765021565160415280"
     },
     "user_tz": -60
    },
    "id": "0iUA5KMvCwoR",
    "outputId": "860291ec-6f13-4ed3-aba8-4127b9d787aa"
   },
   "outputs": [
    {
     "name": "stdout",
     "output_type": "stream",
     "text": [
      "Yay, I divide by 6\n",
      "I wish I divided by 6\n",
      "Yay, I divide by 6\n"
     ]
    },
    {
     "data": {
      "text/plain": [
       "(None, None, None)"
      ]
     },
     "execution_count": 20,
     "metadata": {},
     "output_type": "execute_result"
    }
   ],
   "source": [
    "divisible_six(36), divisible_six(29), divisible_six(2604)"
   ]
  },
  {
   "cell_type": "code",
   "execution_count": null,
   "id": "SuO2yhSiC3FJ",
   "metadata": {
    "id": "SuO2yhSiC3FJ"
   },
   "outputs": [],
   "source": []
  }
 ],
 "metadata": {
  "colab": {
   "provenance": [
    {
     "file_id": "https://github.com/icg-gravwaves/M24568_M20741_CompSMAP/blob/main/lecture_2/10_Conditional_Exercises.ipynb",
     "timestamp": 1696495517969
    }
   ]
  },
  "kernelspec": {
   "display_name": "Python 3 (ipykernel)",
   "language": "python",
   "name": "python3"
  },
  "language_info": {
   "codemirror_mode": {
    "name": "ipython",
    "version": 3
   },
   "file_extension": ".py",
   "mimetype": "text/x-python",
   "name": "python",
   "nbconvert_exporter": "python",
   "pygments_lexer": "ipython3",
   "version": "3.9.7"
  }
 },
 "nbformat": 4,
 "nbformat_minor": 5
}
