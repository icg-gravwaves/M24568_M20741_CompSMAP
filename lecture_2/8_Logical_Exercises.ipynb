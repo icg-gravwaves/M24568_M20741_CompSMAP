{
 "cells": [
  {
   "cell_type": "markdown",
   "id": "56fcd980",
   "metadata": {},
   "source": [
    "# Logical Operators - Exercises"
   ]
  },
  {
   "cell_type": "markdown",
   "id": "04661708",
   "metadata": {},
   "source": [
    "We'll run through how to demonstrate a mathematical logical proof \"de Morgan's\" law, using logical operators. We'll do this by asking you to write a number of functions to compute logical operations, and then explore this law, and how to prove it:"
   ]
  },
  {
   "cell_type": "markdown",
   "id": "0571ce66",
   "metadata": {},
   "source": [
    "## Exercise\n",
    "\n",
    "Write a function, `logical_1` that takes two inputs `P` and `Q` and returns the logical operation\n",
    "\n",
    "$$ \\mbox{not } (P \\mbox{ or } Q) $$"
   ]
  },
  {
   "cell_type": "code",
   "execution_count": 2,
   "id": "5412dd2c",
   "metadata": {},
   "outputs": [],
   "source": [
    "def logical_1(P, Q):\n",
    "    return not (P or Q)"
   ]
  },
  {
   "cell_type": "markdown",
   "id": "76b2174e",
   "metadata": {},
   "source": [
    "Test that your function works by calling it with the 4 possible inputs. As `P` and `Q` are boolean, they each have two possible values; `True` or `False`. So we can only call it as follows:"
   ]
  },
  {
   "cell_type": "code",
   "execution_count": 9,
   "id": "c2d2e6f1",
   "metadata": {},
   "outputs": [
    {
     "name": "stdout",
     "output_type": "stream",
     "text": [
      "False\n",
      "False\n",
      "True\n",
      "False\n",
      "\n",
      "\n",
      "This should have read\n",
      "False\n",
      "False\n",
      "True\n",
      "False\n"
     ]
    }
   ],
   "source": [
    "print(logical_1(True, False))\n",
    "print(logical_1(True, True))\n",
    "print(logical_1(False, False))\n",
    "print(logical_1(False, True))\n",
    "\n",
    "print(\"\\n\\nThis should have read\\nFalse\\nFalse\\nTrue\\nFalse\")"
   ]
  },
  {
   "cell_type": "markdown",
   "id": "3fb6d2a0",
   "metadata": {},
   "source": [
    "## Exercise\n",
    "\n",
    "Write a function, `logical_2` that takes two inputs `P` and `Q` and returns the logical operation\n",
    "\n",
    "$$ \\quad (\\mbox{not } P) \\mbox{ and }  (\\mbox{not } Q)$$\n",
    "\n",
    "Test this for the possible values of input values, same as above!"
   ]
  },
  {
   "cell_type": "code",
   "execution_count": null,
   "id": "65b6c274",
   "metadata": {},
   "outputs": [],
   "source": []
  },
  {
   "cell_type": "markdown",
   "id": "224a43b7",
   "metadata": {},
   "source": [
    "## Exercise\n",
    "\n",
    "One of de Morgan's Laws states that\n",
    "\n",
    "$$ \\mbox{not } (P \\mbox{ or } Q) \\quad \\textbf{ is equivalent to } \\quad (\\mbox{not } P) \\mbox{ and }  (\\mbox{not } Q)$$\n",
    "\n",
    "From your functions above, show that this is always true. *HINT* there is only 2 possible values of $P$ and 2 possible values of $Q$ so if this is True for all the 4 possible combinations, it is always true."
   ]
  },
  {
   "cell_type": "code",
   "execution_count": null,
   "id": "f15cd7aa",
   "metadata": {},
   "outputs": [],
   "source": []
  },
  {
   "cell_type": "markdown",
   "id": "b0749772",
   "metadata": {},
   "source": [
    "## Exercise\n",
    "\n",
    "de Morgan's other Law states that\n",
    "\n",
    "$$ \\mbox{not } (P \\mbox{ and } Q) \\quad \\textbf{ is equivalent to } \\quad (\\mbox{not } P) \\mbox{ or }  (\\mbox{not } Q)$$\n",
    "\n",
    "Also demonstrate, following the same process as above, that this is always true."
   ]
  },
  {
   "cell_type": "code",
   "execution_count": null,
   "id": "66f0bc36",
   "metadata": {},
   "outputs": [],
   "source": []
  }
 ],
 "metadata": {
  "kernelspec": {
   "display_name": "Python 3 (ipykernel)",
   "language": "python",
   "name": "python3"
  },
  "language_info": {
   "codemirror_mode": {
    "name": "ipython",
    "version": 3
   },
   "file_extension": ".py",
   "mimetype": "text/x-python",
   "name": "python",
   "nbconvert_exporter": "python",
   "pygments_lexer": "ipython3",
   "version": "3.9.7"
  }
 },
 "nbformat": 4,
 "nbformat_minor": 5
}
