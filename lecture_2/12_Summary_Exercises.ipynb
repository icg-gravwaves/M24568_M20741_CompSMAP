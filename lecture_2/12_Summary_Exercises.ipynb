{
 "cells": [
  {
   "cell_type": "markdown",
   "id": "b2cca81e",
   "metadata": {},
   "source": [
    "# End of class exercises"
   ]
  },
  {
   "cell_type": "markdown",
   "id": "6ed89e7f",
   "metadata": {},
   "source": [
    "## Exercise 1\n",
    "\n",
    "In the cell below, define a function of two variables, call it, `mymax`, which returns the maximum of two real numbers $a$ and $b$.\n",
    "\n",
    "**NOTE** In class, we introduced the `max` function. Here you should write your own function to do the same. **DO NOT** use `max` itself (or anything similar) to do this."
   ]
  },
  {
   "cell_type": "code",
   "execution_count": null,
   "id": "a0b30ee9",
   "metadata": {},
   "outputs": [],
   "source": []
  },
  {
   "cell_type": "markdown",
   "id": "72bb0195",
   "metadata": {},
   "source": [
    "## Exercise 2\n",
    "\n",
    "Predict (by writing on paper) what the\n",
    "\n",
    "\n",
    "following expressions must evaluate to:\n",
    "\n",
    "- True and True\n",
    "- True and False\n",
    "- False and False\n",
    "- False and True\n",
    "\n",
    "If you are not sure you can try printing them in the cell below."
   ]
  },
  {
   "cell_type": "code",
   "execution_count": null,
   "id": "f7e37ea5",
   "metadata": {},
   "outputs": [],
   "source": []
  },
  {
   "cell_type": "markdown",
   "id": "760bf059",
   "metadata": {},
   "source": [
    "This is called a \"truth table\". What about the truth table for \"or\":\n",
    "\n",
    "- True or True\n",
    "- True or False\n",
    "- False or False\n",
    "- False or True\n",
    "\n",
    "Verify in the cell below"
   ]
  },
  {
   "cell_type": "code",
   "execution_count": null,
   "id": "acc037dc",
   "metadata": {},
   "outputs": [],
   "source": []
  },
  {
   "cell_type": "markdown",
   "id": "bd17b25a",
   "metadata": {},
   "source": [
    "## Exercise 3\n",
    "\n",
    "What do the following expressions evaluate to? Try to figure this out in your head first and then print the values of the variables defined in the cell below."
   ]
  },
  {
   "cell_type": "code",
   "execution_count": 2,
   "id": "97feb546",
   "metadata": {},
   "outputs": [],
   "source": [
    "x1 = 1 < 2 and 2 < 3\n",
    "x2 = 1 < 2 and 2 > 3\n",
    "x3 = 1 > 2 and 2 > 3\n",
    "x4 = 1 > 2 and 2 < 3"
   ]
  },
  {
   "cell_type": "code",
   "execution_count": null,
   "id": "82363c54",
   "metadata": {},
   "outputs": [],
   "source": []
  },
  {
   "cell_type": "markdown",
   "id": "0c53776f",
   "metadata": {},
   "source": [
    "## Exercise 4\n",
    "\n",
    "Evaluate (__Shift+Enter__) the cell below:"
   ]
  },
  {
   "cell_type": "code",
   "execution_count": 3,
   "id": "35b61f03",
   "metadata": {},
   "outputs": [
    {
     "name": "stdout",
     "output_type": "stream",
     "text": [
      "Please input an integer: 3\n",
      "The number is a multiple of 3\n"
     ]
    }
   ],
   "source": [
    "x= int(input('Please input an integer: '))\n",
    "if x%3 == 0:\n",
    "    print('The number is a multiple of 3')\n",
    "else:\n",
    "    print('The number is not a multiple of 3')"
   ]
  },
  {
   "cell_type": "markdown",
   "id": "2538acf0",
   "metadata": {},
   "source": [
    "This introduces the `input` command, to take a value from the command line. Make sure that you understand every single line of the above code. Discuss with us if you don't! Remember, a lot of learning with python and computing in general is learning by trying, so feel free to test out what happens if you tweak this etc.\n",
    "\n",
    "**WARNING** `input` is a useful command for these interactive notebooks, but will very rarely be of use in data science, where one would read in large datasets (which we'll show later on). *NEVER* use this command in the coursework questions. We will always provide inputs to you there, using this will just make things fail!!"
   ]
  },
  {
   "cell_type": "code",
   "execution_count": null,
   "id": "48eb80f4",
   "metadata": {},
   "outputs": [],
   "source": []
  },
  {
   "cell_type": "markdown",
   "id": "f1473822",
   "metadata": {},
   "source": [
    "## Exercise 5\n",
    "\n",
    "In the cell below, write a code that reads an integer from the keyboard (your input). If this input is divisible by $2$ and $3$ display the following:\n",
    "\n",
    "* This number is divisible by 2 and by 3!"
   ]
  },
  {
   "cell_type": "code",
   "execution_count": null,
   "id": "0cd71d45",
   "metadata": {},
   "outputs": [],
   "source": []
  },
  {
   "cell_type": "markdown",
   "id": "33826ac0",
   "metadata": {},
   "source": [
    "Now extend your answer to do the following:\n",
    "\n",
    "In the cell below, write a code that reads an integer from the keyboard. You need to include conditions which display the following statements if they are true:\n",
    "- \"This number is divisiable by $2$ and $3$.\"\n",
    "- \"This number is divisiable only by $2$.\"\n",
    "- \"This number is divisiable only by $3$.\"\n",
    "- \"This number is not divisiable by $2$ and $3$.\"\n",
    "\n",
    "You need one __if__ condition, two __elif__ conditions and one __else__ condition."
   ]
  },
  {
   "cell_type": "code",
   "execution_count": null,
   "id": "bbd5586a",
   "metadata": {},
   "outputs": [],
   "source": []
  },
  {
   "cell_type": "markdown",
   "id": "f4923b1f",
   "metadata": {},
   "source": [
    "## Exercise 6\n",
    "\n",
    "Define a function so that it returns an absolute value of an input. We will define this as:\n",
    "\n",
    "* If `x` is greater than or equal to 0, return `x`\n",
    "* Otherwise, return `-x`\n",
    "\n",
    "In concise maths notation this is written as\n",
    "\n",
    "$$f(x) = |x| = \\begin{cases}x & \\mbox{if } x \\geq 0 \\\\ -x & \\mbox{if } x<0 \\end{cases}.$$\n",
    "Name it __abs_val__.\n",
    "\n",
    "Hint: Use if, else conditionals."
   ]
  },
  {
   "cell_type": "code",
   "execution_count": null,
   "id": "8cf1767c",
   "metadata": {},
   "outputs": [],
   "source": []
  },
  {
   "cell_type": "markdown",
   "id": "c664efca",
   "metadata": {},
   "source": [
    "## Exercise 7\n",
    "\n",
    "Define a function of two numbers (numerical variables) that returns the distance between these numbers (ie. what is the absolute value of the difference of the two numbers).\n",
    "Please use your function __abs_val__ from the exercise above. Test this for some example input."
   ]
  },
  {
   "cell_type": "code",
   "execution_count": null,
   "id": "bafd37e3",
   "metadata": {},
   "outputs": [],
   "source": []
  },
  {
   "cell_type": "markdown",
   "id": "ef6e01ad",
   "metadata": {},
   "source": [
    "## Exercise 8\n",
    "\n",
    "In the cell below, write a code that reads a letter of the alphabet from the\n",
    "keyboard. Then send that entered letter to a function, if the entered letter is  a, e, i, o or u then you should display a message\n",
    "indicating that the entered letter is a vowel. If the user enters y then your program\n",
    "should display a message indicating that sometimes y is a vowel, and sometimes y is\n",
    "a consonant. Otherwise your program should display a message indicating that the letter is a consonant."
   ]
  },
  {
   "cell_type": "code",
   "execution_count": null,
   "id": "499cba69",
   "metadata": {},
   "outputs": [],
   "source": []
  },
  {
   "cell_type": "markdown",
   "id": "75fb1cf0",
   "metadata": {},
   "source": [
    "## Exercise 9\n",
    "\n",
    "In the cell below, write a function that determines the name of a shape from its number of sides. Take\n",
    "the number of sides as an input and then return the appropriate name of the shape.\n",
    "Your function should support shapes with anywhere from $3$\n",
    "up to (and including) $10$ sides.\n",
    "\n",
    "We have\n",
    "\n",
    "- Triangle - $3$ Sides, Square - $4$ Sides\n",
    "- Pentagon - $5$ Sides, Hexagon - $6$ sides\n",
    "- Heptagon - $7$ Sides, Octagon - $8$ Sides\n",
    "- Nonagon - $9$ Sides, Decagon - $10$ Sides"
   ]
  },
  {
   "cell_type": "code",
   "execution_count": null,
   "id": "cde53c42",
   "metadata": {},
   "outputs": [],
   "source": []
  },
  {
   "cell_type": "markdown",
   "id": "46334e9a",
   "metadata": {},
   "source": [
    "## Exercise 10\n",
    "\n",
    "In the cell below, define the following function,\n",
    "$$ H(x) = \\begin{cases} 1 & \\mbox{if } x\\geq 0 \\\\\n",
    "0 & \\mbox{if } x< 0 \\end{cases}.$$\n",
    "\n",
    "(That is, a function that:\n",
    "\n",
    "* Takes one input variable, called `x`\n",
    "* Returns 1 if `x` is bigger than or equal to 0.\n",
    "* Return 0 if `x` is less than 0.\n",
    ")\n",
    "\n",
    "and test for some example input values"
   ]
  },
  {
   "cell_type": "code",
   "execution_count": null,
   "id": "b94523f9",
   "metadata": {},
   "outputs": [],
   "source": []
  },
  {
   "cell_type": "markdown",
   "id": "1a76bde7",
   "metadata": {},
   "source": [
    "## Exercise 11\n",
    "\n",
    "In the cell below, define the following three functions,\n",
    "$$ x(R, \\theta, \\phi) = R \\cos \\phi \\sin \\theta $$\n",
    "$$ y(R, \\theta, \\phi) = R \\sin \\phi \\sin \\theta $$\n",
    "$$ z(R, \\theta, \\phi) = R \\cos \\theta $$\n",
    "and test for some example input values.\n",
    "\n",
    "Could you write this as a single function, returning $x$, $y$ and $z$?"
   ]
  },
  {
   "cell_type": "code",
   "execution_count": null,
   "id": "f1e1e82f",
   "metadata": {},
   "outputs": [],
   "source": []
  },
  {
   "cell_type": "markdown",
   "id": "fc93e575",
   "metadata": {},
   "source": [
    "## Exercise 12\n",
    "\n",
    "In the cell below, add a new function definition for a function $g(x) = x^3 -4x + 2$. Then print the following:\n",
    "- $g(-4)$,\n",
    "- $g(g(1))$,\n",
    "- $g(g(0))$."
   ]
  },
  {
   "cell_type": "code",
   "execution_count": null,
   "id": "90d68aee",
   "metadata": {},
   "outputs": [],
   "source": []
  },
  {
   "cell_type": "markdown",
   "id": "5aee66b5",
   "metadata": {},
   "source": [
    "## Exercise 13\n",
    "\n",
    "In the cell below, define a function called __rectangle_area__ that takes two varables $w$ and $h$ as an input and returns the area of the rectangle with width $w$ and height $h$. Test your function by printing a couple of examples."
   ]
  },
  {
   "cell_type": "code",
   "execution_count": null,
   "id": "af42ea60",
   "metadata": {},
   "outputs": [],
   "source": []
  },
  {
   "cell_type": "markdown",
   "id": "756dc530",
   "metadata": {},
   "source": [
    "## Exercise 14\n",
    "\n",
    "A triangle can be classified based on the lengths of its sides as __equilateral__, __isosceles__\n",
    "or __scalene__. All 3 sides of an __equilateral__ triangle have the same length. An __isosceles__\n",
    "triangle has two sides that are the same length, and a third side that is a different\n",
    "length. If all of the sides have different lengths then the triangle is __scalene__.\n",
    "In the cell below, write a code that reads lengths of 3 sides of a triangle from the keyboard and\n",
    "displays a message indicating the type of the triangle."
   ]
  },
  {
   "cell_type": "code",
   "execution_count": null,
   "id": "8435f796",
   "metadata": {},
   "outputs": [],
   "source": []
  },
  {
   "cell_type": "markdown",
   "id": "5244e67c",
   "metadata": {},
   "source": [
    "## Exercise 15 (difficult)\n",
    "\n",
    "Write a function which determines if a *float* input is a \"happy number\". We will define a happy number as:\n",
    "\n",
    "* One that is closer to the integer above it, than the integer below it.\n",
    "* If you take the number, convert it to an integer (with `int`) and square it, is a multiple of 3.\n",
    "* If you multiply the number by 9 the resulting number has a 9 in it *before* the decimal point.\n",
    "\n",
    "Are any of these \"happy numbers\"?\n",
    "\n",
    "* 4.59\n",
    "* 4.05\n",
    "* 12.35\n",
    "* 15.45\n",
    "* 99.001"
   ]
  },
  {
   "cell_type": "code",
   "execution_count": null,
   "id": "4602687d",
   "metadata": {},
   "outputs": [],
   "source": []
  },
  {
   "cell_type": "markdown",
   "id": "058d7e44",
   "metadata": {},
   "source": [
    "## Exercise 16\n",
    "\n",
    "**WARNING** This may sound challenging, but the coding here isn't as bad as some of the previous exercises. Often a challenge in coding is wading through some complex sounding description to break it down into simple, step-by-step things to code. This is a good example of that:\n",
    "\n",
    "A quadratic polynomial has a form $p(x)= ax^2 + bx+c$, where $a, b$ and $c$ are constants and $a$ is non-zero.\n",
    "We say that $x_0$ is a root of $p$ if $p(x_0)=0$. A __discriminant__ of a polynomial is a polynomial function of its coefficients, which allows deducing some properties of the roots without computing them. For example, the discriminant of $p$ is $\\Delta= b^2 - 4ac$. In the cell below, write a code that reads the coefficients of $p$, that is, $a$, $b$ and $c$ from the keyboard. Then depending on the value of $\\Delta$ display if $p$ has two distinct roots, one double root or no real roots.\n",
    "\n",
    "Recall that if\n",
    "- $\\Delta >0$ then $p$ has two distinct real roots,\n",
    "- $\\Delta = 0 $ then $p$ has one double root,\n",
    "- $\\Delta <0$ then $p$ has no real roots."
   ]
  },
  {
   "cell_type": "code",
   "execution_count": null,
   "id": "c9368852",
   "metadata": {},
   "outputs": [],
   "source": []
  }
 ],
 "metadata": {
  "kernelspec": {
   "display_name": "Python 3 (ipykernel)",
   "language": "python",
   "name": "python3"
  },
  "language_info": {
   "codemirror_mode": {
    "name": "ipython",
    "version": 3
   },
   "file_extension": ".py",
   "mimetype": "text/x-python",
   "name": "python",
   "nbconvert_exporter": "python",
   "pygments_lexer": "ipython3",
   "version": "3.9.7"
  }
 },
 "nbformat": 4,
 "nbformat_minor": 5
}
