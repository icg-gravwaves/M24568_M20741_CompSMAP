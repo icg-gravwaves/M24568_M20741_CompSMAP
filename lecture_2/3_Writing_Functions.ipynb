{
 "cells": [
  {
   "cell_type": "markdown",
   "id": "ba54039d",
   "metadata": {},
   "source": [
    "# How to write your own function\n",
    "\n",
    "We've now seen how to \"call\" a function, but we're going to need to be able to write our own functions to do new things. So lets learn how to write our own function in python. **Most of the coursework questions will be \"Write a function to do [SOMETHING], it's therefore crucial to know this bit**\n",
    "\n",
    "First, let's see an image: the syntax of functions in python looks like:\n",
    "\n",
    "![image.png](./images/Lecture2_Image1.png)\n",
    "\n",
    " Just under the `def` statement, we can put a string which documents the function.\n",
    "\n",
    "Then the body of the function does all the calculations, using the values in the argument variables. At the end, we have a `return` statement, which determines what the function outputs.\n",
    "\n",
    "Now, let's see an example of this in code. This function takes one input value and returns that value squared."
   ]
  },
  {
   "cell_type": "code",
   "execution_count": 1,
   "id": "2472285c",
   "metadata": {},
   "outputs": [],
   "source": [
    "def square(x):\n",
    "    \"\"\"Squares a number\"\"\"\n",
    "    y = x*x\n",
    "    return y"
   ]
  },
  {
   "cell_type": "code",
   "execution_count": 3,
   "id": "82077b16",
   "metadata": {},
   "outputs": [
    {
     "name": "stdout",
     "output_type": "stream",
     "text": [
      "4 squared is equal to  16\n"
     ]
    }
   ],
   "source": [
    "print(\"4 squared is equal to \", square(4))  # Note that \"square(4)\" is \"calling\" our function"
   ]
  },
  {
   "cell_type": "code",
   "execution_count": 4,
   "id": "14169aea",
   "metadata": {},
   "outputs": [],
   "source": [
    "# You can run this cell for help on the square function.\n",
    "# It's just the function name followed by a ? ... This works for all functions, but you need to have written\n",
    "# the docstring for it to be useful!\n",
    "square?"
   ]
  },
  {
   "cell_type": "markdown",
   "id": "ee42509b",
   "metadata": {},
   "source": [
    "## Don't forget the return!\n",
    "\n",
    "The return statement is the only thing that is *returned* by the function. Anything else computed within the function *is lost*. So for example if you did:"
   ]
  },
  {
   "cell_type": "code",
   "execution_count": 5,
   "id": "55567ddc",
   "metadata": {},
   "outputs": [],
   "source": [
    "def square(x):\n",
    "    \"\"\"Squares a number\"\"\"\n",
    "    y = x*x\n"
   ]
  },
  {
   "cell_type": "markdown",
   "id": "b9d96ece",
   "metadata": {},
   "source": [
    "This will not do anything. The variable `y` is not accessible outside of the function and is lost, and we never return the square. So we will never know what `4*4` is :(\n",
    "\n",
    "Similarly, doing:"
   ]
  },
  {
   "cell_type": "code",
   "execution_count": 6,
   "id": "8c2e0522",
   "metadata": {},
   "outputs": [],
   "source": [
    "def square(x):\n",
    "    \"\"\"Squares a number\"\"\"\n",
    "    y = x*x\n",
    "    print(y)"
   ]
  },
  {
   "cell_type": "markdown",
   "id": "a892f9a1",
   "metadata": {},
   "source": [
    "Is in almost all cases **not** what you want to do. While this will print the value of y to the screen, the computer will not know the value of y outside of the function.\n",
    "\n",
    "So we might want to assign the value of `3**2` to a new variable using this function doing:"
   ]
  },
  {
   "cell_type": "code",
   "execution_count": 7,
   "id": "612b5fda",
   "metadata": {},
   "outputs": [
    {
     "name": "stdout",
     "output_type": "stream",
     "text": [
      "9\n",
      "The value of three squared is None\n"
     ]
    }
   ],
   "source": [
    "def square(x):\n",
    "    \"\"\"Squares a number\"\"\"\n",
    "    y = x*x\n",
    "    print(y)\n",
    "\n",
    "three_squared = square(3)\n",
    "print(f\"The value of three squared is {three_squared}\") "
   ]
  },
  {
   "cell_type": "markdown",
   "id": "709e2c52",
   "metadata": {},
   "source": [
    "This doesn't work! We need to use the `return` statement correctly to get what we want."
   ]
  },
  {
   "cell_type": "code",
   "execution_count": 8,
   "id": "d447e70a",
   "metadata": {},
   "outputs": [
    {
     "name": "stdout",
     "output_type": "stream",
     "text": [
      "The value of three squared is 9\n"
     ]
    }
   ],
   "source": [
    "def square(x):\n",
    "    \"\"\"Squares a number\"\"\"\n",
    "    y = x*x\n",
    "    return y\n",
    "\n",
    "three_squared = square(3)\n",
    "print(f\"The value of three squared is {three_squared}\") "
   ]
  },
  {
   "cell_type": "markdown",
   "id": "c8e24d5b",
   "metadata": {},
   "source": [
    "## Return versus Print\n",
    "\n",
    "__return__ <br>\n",
    "- $\\verb|return|$ has a meaning only inside a function.\n",
    "- Only one $\\verb|return|$ can be executed inside the function.\n",
    "- the code that is inside the function but it is placed after the $\\verb|return|$ statement is not executed.\n",
    "- $\\verb|return|$ has a value associated with it, given to a function caller.\n",
    "\n",
    "__print__ <br>\n",
    "-  $\\verb|print|$ can be used outside functions.\n",
    "-  Multiple $\\verb|print|$ statements can be executed inside the function.\n",
    "-  The code inside function can be executed after the $\\verb|print|$ statement\n",
    "-  $\\verb|print|$ has a value associated with it, outputted to the console."
   ]
  }
 ],
 "metadata": {
  "kernelspec": {
   "display_name": "Python 3 (ipykernel)",
   "language": "python",
   "name": "python3"
  },
  "language_info": {
   "codemirror_mode": {
    "name": "ipython",
    "version": 3
   },
   "file_extension": ".py",
   "mimetype": "text/x-python",
   "name": "python",
   "nbconvert_exporter": "python",
   "pygments_lexer": "ipython3",
   "version": "3.9.7"
  }
 },
 "nbformat": 4,
 "nbformat_minor": 5
}
