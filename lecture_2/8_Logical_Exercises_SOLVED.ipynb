{
 "cells": [
  {
   "cell_type": "markdown",
   "id": "56fcd980",
   "metadata": {
    "id": "56fcd980"
   },
   "source": [
    "# Logical Operators - Exercises - SOLVED"
   ]
  },
  {
   "cell_type": "markdown",
   "id": "04661708",
   "metadata": {
    "id": "04661708"
   },
   "source": [
    "We'll run through how to demonstrate a mathematical logical proof \"de Morgan's\" law, using logical operators. We'll do this by asking you to write a number of functions to compute logical operations, and then explore this law, and how to prove it:"
   ]
  },
  {
   "cell_type": "markdown",
   "id": "0571ce66",
   "metadata": {
    "id": "0571ce66"
   },
   "source": [
    "## Exercise\n",
    "\n",
    "Write a function, `logical_1` that takes two inputs `P` and `Q` and returns the logical operation\n",
    "\n",
    "$$ \\mbox{not } (P \\mbox{ or } Q) $$\n",
    "\n",
    "**NOTE: We provide the solution here for you to see an example. You'll then have to do this yourself in the next exercise!**"
   ]
  },
  {
   "cell_type": "code",
   "execution_count": 1,
   "id": "5412dd2c",
   "metadata": {
    "executionInfo": {
     "elapsed": 3,
     "status": "ok",
     "timestamp": 1696495143213,
     "user": {
      "displayName": "Ian Harry",
      "userId": "09765021565160415280"
     },
     "user_tz": -60
    },
    "id": "5412dd2c"
   },
   "outputs": [],
   "source": [
    "def logical_1(P, Q):\n",
    "    return not (P or Q)"
   ]
  },
  {
   "cell_type": "markdown",
   "id": "76b2174e",
   "metadata": {
    "id": "76b2174e"
   },
   "source": [
    "Test that your function works by calling it with the 4 possible inputs.\n",
    "\n",
    "**Again we give the solution:**\n",
    "As `P` and `Q` are boolean, they each have two possible values; `True` or `False`. So we can only call it as follows:"
   ]
  },
  {
   "cell_type": "code",
   "execution_count": 2,
   "id": "c2d2e6f1",
   "metadata": {
    "colab": {
     "base_uri": "https://localhost:8080/"
    },
    "executionInfo": {
     "elapsed": 5,
     "status": "ok",
     "timestamp": 1696495146941,
     "user": {
      "displayName": "Ian Harry",
      "userId": "09765021565160415280"
     },
     "user_tz": -60
    },
    "id": "c2d2e6f1",
    "outputId": "b82a3a86-b1db-44af-9623-7e73aa7d339c"
   },
   "outputs": [
    {
     "name": "stdout",
     "output_type": "stream",
     "text": [
      "False\n",
      "False\n",
      "True\n",
      "False\n",
      "\n",
      "\n",
      "This should have read\n",
      "False\n",
      "False\n",
      "True\n",
      "False\n"
     ]
    }
   ],
   "source": [
    "print(logical_1(True, False))\n",
    "print(logical_1(True, True))\n",
    "print(logical_1(False, False))\n",
    "print(logical_1(False, True))\n",
    "\n",
    "print(\"\\n\\nThis should have read\\nFalse\\nFalse\\nTrue\\nFalse\")"
   ]
  },
  {
   "cell_type": "markdown",
   "id": "3fb6d2a0",
   "metadata": {
    "id": "3fb6d2a0"
   },
   "source": [
    "## Exercise\n",
    "\n",
    "Write a function, `logical_2` that takes two inputs `P` and `Q` and returns the logical operation\n",
    "\n",
    "$$ \\quad (\\mbox{not } P) \\mbox{ and }  (\\mbox{not } Q)$$\n",
    "\n",
    "Test this for the possible values of input values, same as above!"
   ]
  },
  {
   "cell_type": "code",
   "execution_count": 3,
   "id": "65b6c274",
   "metadata": {
    "executionInfo": {
     "elapsed": 2,
     "status": "ok",
     "timestamp": 1696495185450,
     "user": {
      "displayName": "Ian Harry",
      "userId": "09765021565160415280"
     },
     "user_tz": -60
    },
    "id": "65b6c274"
   },
   "outputs": [],
   "source": [
    "def logical_2(P, Q):\n",
    "    \"\"\"Returns (not P) and (not Q)\"\"\"\n",
    "    return (not P) and (not Q)"
   ]
  },
  {
   "cell_type": "code",
   "execution_count": 4,
   "id": "2AdoS4YL_ke6",
   "metadata": {
    "colab": {
     "base_uri": "https://localhost:8080/"
    },
    "executionInfo": {
     "elapsed": 2,
     "status": "ok",
     "timestamp": 1696495208200,
     "user": {
      "displayName": "Ian Harry",
      "userId": "09765021565160415280"
     },
     "user_tz": -60
    },
    "id": "2AdoS4YL_ke6",
    "outputId": "647c14a1-8d2b-4613-ad52-5a39d755b2d7"
   },
   "outputs": [
    {
     "name": "stdout",
     "output_type": "stream",
     "text": [
      "False\n",
      "False\n",
      "True\n",
      "False\n"
     ]
    }
   ],
   "source": [
    "print(logical_2(True, False))\n",
    "print(logical_2(True, True))\n",
    "print(logical_2(False, False))\n",
    "print(logical_2(False, True))\n",
    "\n"
   ]
  },
  {
   "cell_type": "markdown",
   "id": "224a43b7",
   "metadata": {
    "id": "224a43b7"
   },
   "source": [
    "## Exercise\n",
    "\n",
    "One of de Morgan's Laws states that\n",
    "\n",
    "$$ \\mbox{not } (P \\mbox{ or } Q) \\quad \\textbf{ is equivalent to } \\quad (\\mbox{not } P) \\mbox{ and }  (\\mbox{not } Q)$$\n",
    "\n",
    "From your functions above, show that this is always true. *HINT* there is only 2 possible values of $P$ and 2 possible values of $Q$ so if this is True for all the 4 possible combinations, it is always true. The functions for the 2 exercises above should also be used *directly* here."
   ]
  },
  {
   "cell_type": "code",
   "execution_count": 5,
   "id": "f15cd7aa",
   "metadata": {
    "executionInfo": {
     "elapsed": 2,
     "status": "ok",
     "timestamp": 1696495315791,
     "user": {
      "displayName": "Ian Harry",
      "userId": "09765021565160415280"
     },
     "user_tz": -60
    },
    "id": "f15cd7aa"
   },
   "outputs": [],
   "source": [
    "def eval_func(P, Q):\n",
    "    return logical_1(P,Q) == logical_2(P,Q)"
   ]
  },
  {
   "cell_type": "code",
   "execution_count": 7,
   "id": "PlvXczr2ACPD",
   "metadata": {
    "colab": {
     "base_uri": "https://localhost:8080/"
    },
    "executionInfo": {
     "elapsed": 3,
     "status": "ok",
     "timestamp": 1696495348020,
     "user": {
      "displayName": "Ian Harry",
      "userId": "09765021565160415280"
     },
     "user_tz": -60
    },
    "id": "PlvXczr2ACPD",
    "outputId": "8549ed66-bd21-4ece-81a1-90307d58f01f"
   },
   "outputs": [
    {
     "name": "stdout",
     "output_type": "stream",
     "text": [
      "True True True True\n"
     ]
    }
   ],
   "source": [
    "print(eval_func(True, True), eval_func(True, False), eval_func(False, True), eval_func(False, False))"
   ]
  },
  {
   "cell_type": "markdown",
   "id": "b0749772",
   "metadata": {
    "id": "b0749772"
   },
   "source": [
    "## Exercise\n",
    "\n",
    "de Morgan's other Law states that\n",
    "\n",
    "$$ \\mbox{not } (P \\mbox{ and } Q) \\quad \\textbf{ is equivalent to } \\quad (\\mbox{not } P) \\mbox{ or }  (\\mbox{not } Q)$$\n",
    "\n",
    "Also demonstrate, following the same process as above, that this is always true."
   ]
  },
  {
   "cell_type": "code",
   "execution_count": 8,
   "id": "66f0bc36",
   "metadata": {
    "executionInfo": {
     "elapsed": 1,
     "status": "ok",
     "timestamp": 1696495422673,
     "user": {
      "displayName": "Ian Harry",
      "userId": "09765021565160415280"
     },
     "user_tz": -60
    },
    "id": "66f0bc36"
   },
   "outputs": [],
   "source": [
    "def logical_3(P, Q):\n",
    "    return not (P and Q)\n",
    "\n",
    "def logical_4(P, Q):\n",
    "    return (not P) or (not Q)\n",
    "\n",
    "def eval_func2(P, Q):\n",
    "    return logical_3(P,Q) == logical_4(P,Q)"
   ]
  },
  {
   "cell_type": "code",
   "execution_count": 9,
   "id": "ku6MLHbkAcbU",
   "metadata": {
    "colab": {
     "base_uri": "https://localhost:8080/"
    },
    "executionInfo": {
     "elapsed": 3,
     "status": "ok",
     "timestamp": 1696495439131,
     "user": {
      "displayName": "Ian Harry",
      "userId": "09765021565160415280"
     },
     "user_tz": -60
    },
    "id": "ku6MLHbkAcbU",
    "outputId": "e2e12674-f5fa-4846-f798-97a3272c3174"
   },
   "outputs": [
    {
     "name": "stdout",
     "output_type": "stream",
     "text": [
      "True True True True\n"
     ]
    }
   ],
   "source": [
    "print(eval_func2(True, True), eval_func2(True, False), eval_func2(False, True), eval_func2(False, False))"
   ]
  },
  {
   "cell_type": "code",
   "execution_count": null,
   "id": "lR-_lDrFAgkp",
   "metadata": {
    "id": "lR-_lDrFAgkp"
   },
   "outputs": [],
   "source": []
  }
 ],
 "metadata": {
  "colab": {
   "provenance": [
    {
     "file_id": "https://github.com/icg-gravwaves/M24568_M20741_CompSMAP/blob/main/lecture_2/8_Logical_Exercises.ipynb",
     "timestamp": 1696495084257
    }
   ]
  },
  "kernelspec": {
   "display_name": "Python 3 (ipykernel)",
   "language": "python",
   "name": "python3"
  },
  "language_info": {
   "codemirror_mode": {
    "name": "ipython",
    "version": 3
   },
   "file_extension": ".py",
   "mimetype": "text/x-python",
   "name": "python",
   "nbconvert_exporter": "python",
   "pygments_lexer": "ipython3",
   "version": "3.9.7"
  }
 },
 "nbformat": 4,
 "nbformat_minor": 5
}
