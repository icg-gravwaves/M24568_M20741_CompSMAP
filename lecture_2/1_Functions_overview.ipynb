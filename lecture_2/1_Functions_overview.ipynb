{
 "cells": [
  {
   "cell_type": "markdown",
   "id": "7b1fd358",
   "metadata": {},
   "source": [
    "# Functions - An overview\n",
    "\n",
    "Using functions is very important in writing readable code. It lets you write a small block of code, which does some small thing that is useful. Then to do something larger you would call a series of functions to get what you want. It's like building blocks, you first design the blocks that you need, then connect them together to build something good."
   ]
  },
  {
   "cell_type": "markdown",
   "id": "3240e6da",
   "metadata": {},
   "source": [
    "## Function characteristics\n",
    "\n",
    "- function's name,\n",
    "- input parameters ($0$ or more)\n",
    "- docstring (documentation of your function, optional but recommended),\n",
    "- body of a function (indented block of code).\n",
    "\n",
    "Functions are not run in the program until we __call__ them in the code which is going to be executed/run"
   ]
  }
 ],
 "metadata": {
  "kernelspec": {
   "display_name": "Python 3 (ipykernel)",
   "language": "python",
   "name": "python3"
  },
  "language_info": {
   "codemirror_mode": {
    "name": "ipython",
    "version": 3
   },
   "file_extension": ".py",
   "mimetype": "text/x-python",
   "name": "python",
   "nbconvert_exporter": "python",
   "pygments_lexer": "ipython3",
   "version": "3.9.7"
  }
 },
 "nbformat": 4,
 "nbformat_minor": 5
}
