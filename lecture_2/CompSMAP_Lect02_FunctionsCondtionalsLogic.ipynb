{
  "cells": [
    {
      "cell_type": "markdown",
      "metadata": {
        "id": "YX27sjSlf1Jx"
      },
      "source": [
        "# Computational SMAP\n",
        "## Lecture 2 - Functions, Conditionals, and Logic\n",
        "\n",
        "In Lecture 2 we'll continue our introduction to python. In particular we\n",
        "will teach you\n",
        "\n",
        "* How to write functions to perform particular tasks.\n",
        "  * **NOTE** All the coursework questions will require you to use functions. Ple\n",
        "ase ask us and/or use the drop-in sessions to get help if you are confused about\n",
        " functions after going through today's material\n",
        "* How to write conditional statements (\"if\" and \"while\" blocks) using python.\n",
        "* How to use logical operators (and, not, or) in python.\n"
      ]
    },
    {
      "cell_type": "markdown",
      "metadata": {
        "id": "Vb-jEw9hf1KI"
      },
      "source": [
        "# Functions\n",
        "\n",
        "Using functions is very important in writing readable code. It lets you write a small block of code, which does some small thing that is useful. Then to do something larger you would call a series of functions to get what you want. It's like building blocks, you first design the blocks that you need, then connect them together to build something good."
      ]
    },
    {
      "cell_type": "markdown",
      "metadata": {
        "id": "8nVOdu4qf1KK"
      },
      "source": [
        "### Function characteristics\n",
        "\n",
        "- function's name,\n",
        "- input parameters ($0$ or more)\n",
        "- docstring (documentation of your function, optional but recommended),\n",
        "- body of a function (indented block of code).\n",
        "\n",
        "Functions are not run in the program until we __call__ them in the code which is going to be executed/run"
      ]
    },
    {
      "cell_type": "markdown",
      "metadata": {
        "id": "onS62W0Cf1KK"
      },
      "source": [
        "You've also already used at least one useful function, the `print` function. (Technically `range` is something different, but we'll explore that later on).\n",
        "\n",
        "Another example is `abs`, which gives the absolute value of a number, or the magnitude of a complex number. Give that a try.\n",
        "\n",
        "### Exercise\n",
        "\n",
        "What does `abs(3)` give? Try using `abs` on a negative integer, or on a complex number (look back to last week for definition of complex numbers). What does it give?"
      ]
    },
    {
      "cell_type": "code",
      "execution_count": null,
      "metadata": {
        "id": "5b3TAdmtf1KK"
      },
      "outputs": [],
      "source": []
    },
    {
      "cell_type": "markdown",
      "source": [
        "## Exercise\n",
        "\n",
        "Assign the value of `abs(-4)` to a variable named `abs_of_minus_4`. Then compute the square root of `abs_of_minus_4` and assign this to a new, suitably named variable."
      ],
      "metadata": {
        "id": "vnsCPZFyDYSm"
      }
    },
    {
      "cell_type": "code",
      "source": [],
      "metadata": {
        "id": "c3kPFRTzDXpI"
      },
      "execution_count": null,
      "outputs": []
    },
    {
      "cell_type": "markdown",
      "source": [
        "## Exercise\n",
        "\n",
        "Another two functions built-in to python are `min` and `max`. These take a number of input argument and return the minimum, or maximum value from among the inputs, respectively. To demonstrate this:"
      ],
      "metadata": {
        "id": "OKp8HDXHDbAS"
      }
    },
    {
      "cell_type": "code",
      "source": [
        "print(\"Minimum value out of 4, 1 and 2 is\", min(4,1,2))\n",
        "print(\"Minimum value out of -4, 10 and 12 is\", min(-4,10,12))\n",
        "print(\"Minimum value out of 3.4, 2.1 and 11.9 is\", min(3.4,2.1,11.9))\n",
        "\n",
        "print(\"Maximum value out of 4, 1 and 2 is\", max(4,1,2))\n",
        "print(\"Maximum value out of -4, 10 and 12 is\", max(-4,10,12))\n",
        "print(\"Maximum value out of 3.4, 2.1 and 11.9 is\", max(3.4,2.1,11.9))"
      ],
      "metadata": {
        "id": "k5g2Le8yDb0J"
      },
      "execution_count": null,
      "outputs": []
    },
    {
      "cell_type": "markdown",
      "source": [
        "Find the minimum values in the following sets of numbers:\n",
        "\n",
        "* 4, 10 and 100\n",
        "* 1, 2, 3, 4, 5, 6, 7, 8, 9 and 10\n",
        "* -10, -100 and -1000"
      ],
      "metadata": {
        "id": "ZwvBlyniDdZv"
      }
    },
    {
      "cell_type": "code",
      "source": [],
      "metadata": {
        "id": "q5KhJEHXDf3Q"
      },
      "execution_count": null,
      "outputs": []
    },
    {
      "cell_type": "markdown",
      "source": [
        "Find the maximum values from the following sets of numbers:\n",
        "\n",
        "* 1, 1.1 and 1.2\n",
        "* 9, 10, 11, 12 and 100\n",
        "* e, $\\pi$ and 0\n"
      ],
      "metadata": {
        "id": "cUYnQb8kDf8K"
      }
    },
    {
      "cell_type": "code",
      "source": [],
      "metadata": {
        "id": "t54rAR3ODgBG"
      },
      "execution_count": null,
      "outputs": []
    },
    {
      "cell_type": "markdown",
      "metadata": {
        "id": "iWhLu4CRf1KK"
      },
      "source": [
        "## Exercise\n",
        "\n",
        "You've also used `print` already. You can use this to print many values. For example try doing `print(1,2,3)`. Or to make this fancy. `print(f\"My 3 values are {1}, {2} and {3}\"`."
      ]
    },
    {
      "cell_type": "code",
      "execution_count": null,
      "metadata": {
        "id": "FnSxkJaLf1KK"
      },
      "outputs": [],
      "source": []
    },
    {
      "cell_type": "markdown",
      "metadata": {
        "id": "P-82ZK-rf1KL"
      },
      "source": [
        "## Writing functions\n",
        "\n",
        "We've now seen how to \"call\" a function, but we're going to need to be able to write our own functions to do new things. So lets learn how to write our own function in python. **Most of the coursework questions will be \"Write a function to do [SOMETHING], it's therefore crucial to know this bit**\n",
        "\n",
        "First, let's see an image: the syntax of functions in python looks like:\n",
        "\n",
        "![image.png](data:image/png;base64,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)\n",
        "\n",
        " Just under the `def` statement, we can put a string which documents the function.\n",
        "\n",
        "Then the body of the function does all the calculations, using the values in the argument variables. At the end, we have a `return` statement, which determines what the function outputs.\n",
        "\n",
        "Now, let's see an example of this in code. This function takes one input value and returns that value squared."
      ]
    },
    {
      "cell_type": "code",
      "execution_count": null,
      "metadata": {
        "id": "F3wRNOzhf1KL"
      },
      "outputs": [],
      "source": [
        "def square(x):\n",
        "    \"\"\"Squares a number\"\"\"\n",
        "    y = x*x\n",
        "    return y"
      ]
    },
    {
      "cell_type": "code",
      "execution_count": 4,
      "metadata": {
        "colab": {
          "base_uri": "https://localhost:8080/"
        },
        "id": "wgaDPmkvf1KL",
        "outputId": "0c901cb3-a84b-4d4e-8465-bbd35d647264"
      },
      "outputs": [
        {
          "output_type": "stream",
          "name": "stdout",
          "text": [
            "4 squared is equal to  16\n"
          ]
        }
      ],
      "source": [
        "print(\"4 squared is equal to \", square(4))  # Note that \"square(4)\" is \"calling\" our function"
      ]
    },
    {
      "cell_type": "code",
      "execution_count": null,
      "metadata": {
        "id": "zn_DvOyPf1KL"
      },
      "outputs": [],
      "source": [
        "# Evaluate the line below for help on the square function\n",
        "square?"
      ]
    },
    {
      "cell_type": "markdown",
      "metadata": {
        "id": "5MHuY_eFf1KL"
      },
      "source": [
        "## Don't forget the return!\n",
        "\n",
        "The return statement is the only thing that is *returned* by the function. Anything else computed within the function *is lost*. So for example if you did:"
      ]
    },
    {
      "cell_type": "code",
      "execution_count": null,
      "metadata": {
        "id": "RMqJwkvvf1KL"
      },
      "outputs": [],
      "source": [
        "def square(x):\n",
        "    \"\"\"Squares a number\"\"\"\n",
        "    y = x*x\n"
      ]
    },
    {
      "cell_type": "markdown",
      "metadata": {
        "id": "Z_aLdbLlf1KL"
      },
      "source": [
        "This will not do anything. The variable `y` is not accessible outside of the function and is lost, and we never return the square. So we will never know what `4*4` is :(\n",
        "\n",
        "Similarly, doing:"
      ]
    },
    {
      "cell_type": "code",
      "source": [
        "def square(x):\n",
        "    \"\"\"Squares a number\"\"\"\n",
        "    y = x*x\n",
        "    print(y)"
      ],
      "metadata": {
        "id": "1gyN0p2dswX5"
      },
      "execution_count": null,
      "outputs": []
    },
    {
      "cell_type": "markdown",
      "source": [
        "Is in almost all cases **not** what you want to do. While this will print the value of y to the screen, the computer will not know the value of y outside of the function.\n",
        "\n",
        "So we might want to assign the value of `3**2` to a new variable using this function doing:"
      ],
      "metadata": {
        "id": "dfm9ytYVsyGF"
      }
    },
    {
      "cell_type": "code",
      "source": [
        "def square(x):\n",
        "    \"\"\"Squares a number\"\"\"\n",
        "    y = x*x\n",
        "    print(y)\n",
        "\n",
        "three_squared = square(3)\n",
        "print(f\"The value of three squared is {three_squared}\")"
      ],
      "metadata": {
        "colab": {
          "base_uri": "https://localhost:8080/"
        },
        "id": "WxrHdi-QtCgq",
        "outputId": "5d24cf38-1f45-4819-c435-b77e2566ef76"
      },
      "execution_count": 2,
      "outputs": [
        {
          "output_type": "stream",
          "name": "stdout",
          "text": [
            "9\n",
            "The value of three squared is None\n"
          ]
        }
      ]
    },
    {
      "cell_type": "markdown",
      "source": [
        "This doesn't work! We need to use the `return` statement correctly to get what we want."
      ],
      "metadata": {
        "id": "0XN5H2zjtUlB"
      }
    },
    {
      "cell_type": "code",
      "source": [
        "def square(x):\n",
        "    \"\"\"Squares a number\"\"\"\n",
        "    y = x*x\n",
        "    return y\n",
        "\n",
        "three_squared = square(3)\n",
        "print(f\"The value of three squared is {three_squared}\")"
      ],
      "metadata": {
        "colab": {
          "base_uri": "https://localhost:8080/"
        },
        "id": "lRvII--AtY7P",
        "outputId": "3024e3f9-8ad4-486b-f9f3-103592f1799d"
      },
      "execution_count": 3,
      "outputs": [
        {
          "output_type": "stream",
          "name": "stdout",
          "text": [
            "The value of three squared is 9\n"
          ]
        }
      ]
    },
    {
      "cell_type": "markdown",
      "metadata": {
        "id": "jNuwUMA7f1KM"
      },
      "source": [
        "### Return versus Print\n",
        "\n",
        "__return__ <br>\n",
        "- $\\verb|return|$ has a meaning only inside a function.\n",
        "- Only one $\\verb|return|$ can be executed inside the function.\n",
        "- the code that is inside the function but it is placed after the $\\verb|return|$ statement is not executed.\n",
        "- $\\verb|return|$ has a value associated with it, given to a function caller.\n",
        "\n",
        "__print__ <br>\n",
        "-  $\\verb|print|$ can be used outside functions.\n",
        "-  Multiple $\\verb|print|$ statements can be executed inside the function.\n",
        "-  The code inside function can be executed after the $\\verb|print|$ statement\n",
        "-  $\\verb|print|$ has a value associated with it, outputted to the console."
      ]
    },
    {
      "cell_type": "code",
      "execution_count": null,
      "metadata": {
        "id": "MzWy6gl2f1KM"
      },
      "outputs": [],
      "source": []
    },
    {
      "cell_type": "markdown",
      "metadata": {
        "id": "yrK7MWuef1KM"
      },
      "source": [
        "## Exercise\n",
        "Define a function so that it returns an absolute value of an input. We will define this as:\n",
        "\n",
        "* If `x` is greater than or equal to 0, return `x`\n",
        "* Otherwise, return `-x`\n",
        "\n",
        "In concise maths notation this is written as\n",
        "\n",
        "$$f(x) = |x| = \\begin{cases}x & \\mbox{if } x \\geq 0 \\\\ -x & \\mbox{if } x<0 \\end{cases}.$$\n",
        "Name it __abs_val__.\n",
        "\n",
        "Hint: Use if, else conditionals."
      ]
    },
    {
      "cell_type": "code",
      "execution_count": null,
      "metadata": {
        "id": "XbOP-J8nf1KM"
      },
      "outputs": [],
      "source": []
    },
    {
      "cell_type": "markdown",
      "metadata": {
        "id": "y85TkU5ff1KM"
      },
      "source": [
        "## Two or more inputs (Example)"
      ]
    },
    {
      "cell_type": "code",
      "execution_count": null,
      "metadata": {
        "id": "NsQ6mRpsf1KM"
      },
      "outputs": [],
      "source": [
        "def g(x, y):\n",
        "    \"\"\"Takes two inputs, x and y, and returns their sum\"\"\"\n",
        "    return x + y"
      ]
    },
    {
      "cell_type": "code",
      "execution_count": null,
      "metadata": {
        "colab": {
          "base_uri": "https://localhost:8080/"
        },
        "id": "QlnsV2Luf1KM",
        "outputId": "63de6c71-7249-4331-fe20-02888675d523"
      },
      "outputs": [
        {
          "output_type": "stream",
          "name": "stdout",
          "text": [
            "12\n"
          ]
        }
      ],
      "source": [
        "a = 5\n",
        "b = 7\n",
        "print(g(a, b))"
      ]
    },
    {
      "cell_type": "markdown",
      "metadata": {
        "id": "-rJGVEf4f1KM"
      },
      "source": [
        "## Exercise\n",
        "Define a function of two numbers (numerical variables) that returns the distance between these numbers (ie. what is the absolute value of the difference of the two numbers).\n",
        "Please use your function __abs_val__ from the exercise above. Test this for some example input."
      ]
    },
    {
      "cell_type": "code",
      "execution_count": null,
      "metadata": {
        "id": "5C-b0qjcf1KM"
      },
      "outputs": [],
      "source": []
    },
    {
      "cell_type": "code",
      "execution_count": null,
      "metadata": {
        "id": "qy5v8moef1KN"
      },
      "outputs": [],
      "source": []
    },
    {
      "cell_type": "markdown",
      "metadata": {
        "id": "IcSba-Wpf1KN"
      },
      "source": [
        "### Importing a function\n",
        "\n",
        "There's only a few functions built into Python. You may notice that there's no trigonometry functions. Python's capabilities can be massively extended by importing a module. Many very powerful modules are available, but for an example we'll use the math module. Functions in the module are accessed with a similar syntax to methods. We'll see ways of shortening this later."
      ]
    },
    {
      "cell_type": "code",
      "execution_count": null,
      "metadata": {
        "id": "avA1lltdf1KN"
      },
      "outputs": [],
      "source": [
        "import math"
      ]
    },
    {
      "cell_type": "code",
      "execution_count": null,
      "metadata": {
        "colab": {
          "base_uri": "https://localhost:8080/"
        },
        "id": "Jdz36UIhf1KN",
        "outputId": "0df13b12-d405-47c7-8c11-ca9fba3553bb"
      },
      "outputs": [
        {
          "output_type": "stream",
          "name": "stdout",
          "text": [
            "0.5000000000000001\n",
            "0.5000000000000001\n"
          ]
        }
      ],
      "source": [
        "print(math.cos(math.pi/3))\n",
        "\n",
        "# Note that this computes cos(x) assuming x in \"radians\". If you wanted to do cos of 30 degrees you would do:\n",
        "\n",
        "num_degrees = 60\n",
        "print(math.cos(num_degrees * (2*math.pi / 360.)))\n"
      ]
    },
    {
      "cell_type": "code",
      "execution_count": null,
      "metadata": {
        "id": "Y_gzZpQCf1KN"
      },
      "outputs": [],
      "source": [
        "# To get help on what any function does.\n",
        "math.cos?"
      ]
    },
    {
      "cell_type": "markdown",
      "metadata": {
        "id": "L-vfsbpNf1KN"
      },
      "source": [
        "## Exercise\n",
        "\n",
        "Test the identity $\\cos^2 \\theta + \\sin^2 \\theta = 1$ for many values of $\\theta$."
      ]
    },
    {
      "cell_type": "code",
      "execution_count": null,
      "metadata": {
        "id": "r5vQe5kqf1KN"
      },
      "outputs": [],
      "source": []
    },
    {
      "cell_type": "markdown",
      "metadata": {
        "id": "Qp5lcY1tf1J2"
      },
      "source": [
        "In this lecture, we'll go beyond simple expressions and write multi-line programs. We'll learn about functions and methods. But first a quick recap and test of stuff from last week. Some notes to remember:\n",
        "\n",
        "* Always press Shift+Enter to Evaluate your code cells.\n",
        "* If any issues occur you may want to \"restart your kernel\" (this is basically \"turn it off and on again\"), for that go to Runtime > Restart Runtime."
      ]
    },
    {
      "cell_type": "markdown",
      "metadata": {
        "id": "4zx1OB7Af1J9"
      },
      "source": [
        "## Taking input from the keyboard"
      ]
    },
    {
      "cell_type": "markdown",
      "metadata": {
        "id": "yWUQTHkjf1J-"
      },
      "source": [
        "If you wish to provide a value for a variable from the keyboard,\n",
        "we use e.g. `input(\"your_value\")`\n",
        "However, the type of such variable is going to be a string (str). If we intend to the input a number we can convert it either to `int` or to `float`."
      ]
    },
    {
      "cell_type": "code",
      "execution_count": null,
      "metadata": {
        "colab": {
          "base_uri": "https://localhost:8080/"
        },
        "id": "HOPneHRyf1J-",
        "outputId": "324585ee-16aa-4e73-bd7e-e4541dc2d0d4"
      },
      "outputs": [
        {
          "name": "stdout",
          "output_type": "stream",
          "text": [
            "Please input something:   f\n"
          ]
        }
      ],
      "source": [
        "first_input = input(\"Please input something:   \")"
      ]
    },
    {
      "cell_type": "code",
      "execution_count": null,
      "metadata": {
        "colab": {
          "base_uri": "https://localhost:8080/",
          "height": 36
        },
        "id": "2R_3kEUjf1J-",
        "outputId": "ae2f5de4-020c-4472-d389-556a61e3f3b2"
      },
      "outputs": [
        {
          "output_type": "execute_result",
          "data": {
            "text/plain": [
              "'f'"
            ],
            "application/vnd.google.colaboratory.intrinsic+json": {
              "type": "string"
            }
          },
          "metadata": {},
          "execution_count": 5
        }
      ],
      "source": [
        "first_input"
      ]
    },
    {
      "cell_type": "code",
      "execution_count": null,
      "metadata": {
        "colab": {
          "base_uri": "https://localhost:8080/"
        },
        "id": "WlBfYxTOf1J-",
        "outputId": "17b0d361-bc2f-4191-a00b-e8c9a2dee54c"
      },
      "outputs": [
        {
          "output_type": "stream",
          "name": "stdout",
          "text": [
            "Please input an integer and press enter: 5\n",
            "Please input a float (number with decimal places) and press enter: 5.5\n",
            "Your integer is 5\n",
            "Your float is: 5.5\n"
          ]
        }
      ],
      "source": [
        "x_int = int(input('Please input an integer and press enter: '))\n",
        "x_float = float(input('Please input a float (number with decimal places) and press enter: '))\n",
        "\n",
        "# Here we use the print statement with formatting (the f before the quotes makes this work!)\n",
        "# Google \"python f-strings\" to get more information on this\n",
        "print(f'Your integer is {x_int}')\n",
        "print(f'Your float is: {x_float}')"
      ]
    },
    {
      "cell_type": "markdown",
      "metadata": {
        "id": "YAYf3ZmMf1J_"
      },
      "source": [
        "# Logic"
      ]
    },
    {
      "cell_type": "markdown",
      "metadata": {
        "id": "YbICxMOPf1J_"
      },
      "source": [
        "## Comparison operators on ints and floats\n",
        "\n",
        "Recall the comparison operators:\n",
        "\n",
        "* `a>b` returns `True` if `a>b` (a greater than b) and `False` otherwise.\n",
        "* `a>=b` returns `True` if `a >= b` (a greater than or equal tob ) and `False` otherwise.\n",
        "* `a<b` returns `True` if `a<b` (a less than b) and `False` otherwise.\n",
        "* `a<=b` returns `True` if `a <= b` (a less than or equal to b) and `False` otherwise.\n",
        "* `a==b`, equality test, returns `True` if `a` equals `b` and `False` otherwise.\n",
        "* `a!=b`, inequality test, returns `True` if `a` does not equal `b`  and `False` otherwise.\n"
      ]
    },
    {
      "cell_type": "code",
      "execution_count": null,
      "metadata": {
        "colab": {
          "base_uri": "https://localhost:8080/"
        },
        "id": "Q-43AWgLf1KA",
        "outputId": "f7366039-1eda-4d98-87f5-c292d3ee208d"
      },
      "outputs": [
        {
          "output_type": "execute_result",
          "data": {
            "text/plain": [
              "True"
            ]
          },
          "metadata": {},
          "execution_count": 8
        }
      ],
      "source": [
        "5 != 6"
      ]
    },
    {
      "cell_type": "markdown",
      "metadata": {
        "id": "D2O6U7Iwf1KA"
      },
      "source": [
        "We can store the result of the comparison in a varible, e.g.\n",
        "`logicvar = 2==2 ` means that `logicvar` returns `True` when called and `type(logicvar)` returns `<class 'bool'>`."
      ]
    },
    {
      "cell_type": "code",
      "execution_count": null,
      "metadata": {
        "id": "2cA1ImSLf1KA"
      },
      "outputs": [],
      "source": [
        "logicvar = (2 == 2) # Using brackets to make order of operations clear"
      ]
    },
    {
      "cell_type": "code",
      "execution_count": null,
      "metadata": {
        "colab": {
          "base_uri": "https://localhost:8080/"
        },
        "id": "wokHZc8pf1KA",
        "outputId": "db1b3c1e-6c3b-418e-dc14-970a8f3a5d87"
      },
      "outputs": [
        {
          "output_type": "execute_result",
          "data": {
            "text/plain": [
              "True"
            ]
          },
          "metadata": {},
          "execution_count": 10
        }
      ],
      "source": [
        "logicvar"
      ]
    },
    {
      "cell_type": "markdown",
      "metadata": {
        "id": "Ava_ChwQf1KB"
      },
      "source": [
        "## Quick Exercise\n",
        "Try to compare a few different numbers and store the values of your tests in variables, for example\n",
        "\n",
        "my_test1 = 3>5\n",
        "\n",
        "Print the value of my_test."
      ]
    },
    {
      "cell_type": "code",
      "execution_count": null,
      "metadata": {
        "id": "uHCTCRDTf1KB"
      },
      "outputs": [],
      "source": []
    },
    {
      "cell_type": "markdown",
      "metadata": {
        "id": "phZMYyJ-f1KB"
      },
      "source": [
        "## Logic operations on booleans\n",
        "\n",
        "Boolean = a special variable that can take two values: True or False.\n",
        "\n",
        "For two given variables of type bool `a` and `b` we have\n",
        "\n",
        "* `not a`, returns `True` if `a` is `False`, and returns `False` if `a` is `True`.\n",
        "* `a and b`, returns `True` if both are `True`\n",
        "*  `a or b`, returns `True` if either `a`  or `b` are `True`.\n"
      ]
    },
    {
      "cell_type": "markdown",
      "metadata": {
        "id": "jvMKew0ff1KB"
      },
      "source": [
        "### Now try printing the cells below (Press Shift + Enter to evaluate)"
      ]
    },
    {
      "cell_type": "code",
      "execution_count": null,
      "metadata": {
        "colab": {
          "base_uri": "https://localhost:8080/"
        },
        "id": "Jq7S5v15f1KB",
        "outputId": "f158f190-345f-4749-f424-6b19f0af33b9"
      },
      "outputs": [
        {
          "output_type": "stream",
          "name": "stdout",
          "text": [
            "False True\n"
          ]
        }
      ],
      "source": [
        "a = True\n",
        "b = False\n",
        "print(not a, not b)"
      ]
    },
    {
      "cell_type": "code",
      "execution_count": null,
      "metadata": {
        "colab": {
          "base_uri": "https://localhost:8080/"
        },
        "id": "FO9nke2Sf1KB",
        "outputId": "070ef6b3-6c48-4872-ba89-cd638c2adace"
      },
      "outputs": [
        {
          "output_type": "stream",
          "name": "stdout",
          "text": [
            "True\n"
          ]
        }
      ],
      "source": [
        "a = True\n",
        "b = True\n",
        "print(a and b)"
      ]
    },
    {
      "cell_type": "code",
      "execution_count": null,
      "metadata": {
        "colab": {
          "base_uri": "https://localhost:8080/"
        },
        "id": "SVWI_bKbf1KB",
        "outputId": "27731a93-fb5b-45b9-fd76-69e71f04a90b"
      },
      "outputs": [
        {
          "output_type": "stream",
          "name": "stdout",
          "text": [
            "True\n"
          ]
        }
      ],
      "source": [
        "a = True\n",
        "b = False\n",
        "print(a or b)"
      ]
    },
    {
      "cell_type": "markdown",
      "metadata": {
        "id": "2XkrbSxaf1KC"
      },
      "source": [
        "# Exercise (de Morgan's Laws)\n",
        "\n",
        "The next exercise demonstrates a couple of powerful laws that come from logic and have a vast array of applications in computer science and mathematics. The theory itself is not important, just being able to understand what is written and implement it!\n",
        "\n",
        "De Morgan's laws state the following\n",
        "\n",
        "$$ \\mbox{not } (P \\mbox{ or } Q) \\quad \\textbf{ is equivalent to } \\quad (\\mbox{not } P) \\mbox{ and }  (\\mbox{not } Q)$$\n",
        "and\n",
        "$$ \\mbox{not } (P \\mbox{ and } Q) \\quad \\textbf{ is equivalent to } \\quad (\\mbox{not } P) \\mbox{ or }  (\\mbox{not } Q)$$\n",
        "\n",
        "Please verify them for all the cases of $P$ and $Q$.\n",
        "\n",
        "In the cell below we show that when `P=True` and `Q=True` the first of these relationships holds. Try with `P=True` and `Q=False`, `P=False` and `Q=True`, and `P=False` and `Q=False` by changing the values in the cell below and running it again."
      ]
    },
    {
      "cell_type": "code",
      "execution_count": null,
      "metadata": {
        "colab": {
          "base_uri": "https://localhost:8080/"
        },
        "id": "ABr5Motyf1KC",
        "outputId": "52ea7aeb-46ea-4872-f24a-627ce645a71c"
      },
      "outputs": [
        {
          "output_type": "stream",
          "name": "stdout",
          "text": [
            "False False True\n"
          ]
        }
      ],
      "source": [
        "P = True\n",
        "Q = True\n",
        "LHS = not (P or Q)\n",
        "RHS = (not P) and (not Q)\n",
        "print(LHS, RHS, LHS == RHS)"
      ]
    },
    {
      "cell_type": "markdown",
      "metadata": {
        "id": "P2rjnyP5f1KC"
      },
      "source": [
        "Now repeat the process for the *second* De Morgan law:\n",
        "\n",
        "$$ \\mbox{not } (P \\mbox{ and } Q) \\quad \\textbf{ is equivalent to } \\quad (\\mbox{not } P) \\mbox{ or }  (\\mbox{not } Q)$$\n",
        "\n",
        "Copy the code from the cell above, but change the LHS and RHS to reflect the left hand side and right hand side of what is written above. (e.g. the `or`s change to `and` and the `and`s change to `or`). Check the left-hand side does equal the right-hand side for `P=True` and `Q=True`,  `P=True` and `Q=False`, `P=False` and `Q=True`, and `P=False` and `Q=False`."
      ]
    },
    {
      "cell_type": "code",
      "execution_count": null,
      "metadata": {
        "id": "Po01XCgnf1KC"
      },
      "outputs": [],
      "source": []
    },
    {
      "cell_type": "markdown",
      "metadata": {
        "id": "tcZwekw_f1KC"
      },
      "source": [
        "# Conditionals"
      ]
    },
    {
      "cell_type": "markdown",
      "metadata": {
        "id": "oNVwUuatf1KC"
      },
      "source": [
        "## Binary decision diagrams"
      ]
    },
    {
      "cell_type": "markdown",
      "metadata": {
        "id": "_XiKBWt9f1KC"
      },
      "source": [
        "A binary decision diagram (or a branching program) is a data structure that is used to represent a Boolean function. A Boolean function describes how to determine a Boolean value output (True or False) based on some logical calculation from Boolean inputs.\n",
        "\n",
        "The simplest branching statement is a  <b>conditional</b>:\n",
        "<ul>\n",
        "    <li> A test that evaluates the logical value of the expression. </li>\n",
        "    <li> Code to be executed if the test is true (Branch 1).  </li>\n",
        "    <li> Code to be executed if the test is false (Branch 2) </li>\n",
        "</ul>\n",
        "\n",
        "\n"
      ]
    },
    {
      "cell_type": "markdown",
      "metadata": {
        "id": "hI7hN6byf1KD"
      },
      "source": [
        "![image.png](data:image/png;base64,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)"
      ]
    },
    {
      "cell_type": "markdown",
      "metadata": {
        "id": "4D0KQaF3f1KD"
      },
      "source": [
        "## Conditionals - If, elif and else (General Structure)\n",
        "\n",
        "In python conditional statements (including ones with more than two branches) can be written using `if` `elif` and `else`. This is the first time we will be showing indentation in python. Indentation is *crucial* in writing and reading python. Things **within** the conditional will be indented with respect to those outside. If we want a conditional within a conditional (an if statement within an if statement) we indent a second layer. Perhaps, as with most things in python, this is easier demonstrated:"
      ]
    },
    {
      "cell_type": "markdown",
      "metadata": {
        "id": "JhGcIVSKf1KE"
      },
      "source": [
        "![image.png](data:image/png;base64,iVBORw0KGgoAAAANSUhEUgAABvgAAAMvCAYAAAAXt9dCAAAgAElEQVR4Aeydz4sbSdrn9W/ovFff5ranPOmwc+iFoWEPRVG4Lwt9q4PAMIdhD/UaCurUUFAgxjTd4jUmG4NJMGYKY6r74KYwBXMoCndtN9tGFgwv3fUDZswgniUkRUZkKCVlpFKpTOXH0CjyhyKe+DyP1Bn61vNES/gHAQhAAAIQgAAEIAABCEAAAhCAAAQgAAEIQAACEIAABCAAAQjUhkCrNpZiKAQgAAEIQAACEIAABCAAAQhAAAIQgAAEIAABCEAAAhCAAAQgIAh8BAEEIAABCEAAAhCAAAQgAAEIQAACEIAABCAAAQhAAAIQgAAEakQAga9GzsJUCEAAAhCAAAQgAAEIQAACEIAABCAAAQhAAAIQgAAEIAABCCDwEQMQgAAEIAABCEAAAhCAAAQgAAEIQAACEIAABCAAAQhAAAIQqBEBBL4aOQtTIQABCEAAAhCAAAQgAAEIQAACEIAABCAAAQhAAAIQgAAEIIDARwxAAAIQgAAEIAABCEAAAhCAAAQgAAEIQAACEIAABCAAAQhAoEYEEPhq5CxMhQAEIAABCEAAAhCAAAQgAAEIQAACEIAABCAAAQhAAAIQgAACHzEAAQhAAAIQgAAEIAABCEAAAhCAAAQgAAEIQAACEIAABCAAgRoRQOCrkbMwFQIQgAAEIAABCEAAAhCAAAQgAAEIQAACEIAABCAAAQhAAAIIfMQABCAAAQhAAAIQgAAEIAABCEAAAhCAAAQgAAEIQAACEIAABGpEAIGvRs7CVAhAAAIQgAAEIAABCEAAAhCAAAQgAAEIQAACEIAABCAAAQgg8BEDEIAABCAAAQhAAAIQgAAEIAABCEAAAhCAAAQgAAEIQAACEKgRAQS+GjkLUyEAAQhAAAIQgAAEIAABCEAAAhCAAAQgAAEIQAACEIAABCCAwOfEQKvVEv6DATFADBADxAAxQAwQA8QAMVCvGHAe6zmEQC4CfO7r9bnHX/iLGCAGiAFigBggBogBYiDXg/+WvAmBz3IkXwZ8GRADxAAxQAwQA8QAMUAMEAP1jAHrsZ4mBHIR4LNfz88+fsNvxAAxQAwQA8QAMUAMEAO5FgBb8CYEPsuJfBHwRUAMEAPEADFADBADxAAxQAzUMwasx3qaEMhFgM9+PT/7+A2/EQPEADFADBADxAAxQAzkWgBswZsQ+Cwn8kXAFwExQAwQA8QAMUAMEAPEADFQzxiwHutpQiAXAT779fzs4zf8RgwQA8QAMUAMEAPEADGQawGwBW9C4LOcmPZFYF2mCQEIQAACEIAABCAAAQhUhID77F4RszCjxgTcmFLH/IMABCAAAQhAAAIQgAAEqkWA53bjD1YshoUQGBYMmhCAAAQgAAEIQAACEKgwAffZvcKmYlpNCLgxpY75BwEIQAACEIAABCAAAQhUiwDP7cYfrFgMCwQ+iwVNCEAAAhCAAAQgAAEIVJmAu6irsq3YVg8Cbkwh8NXDb1gJAQhAAAIQgAAEINAsAjy3G38j8BkWCHwWC5oQgAAEIAABCEAAAhCoMgF3UVdlW7GtHgTcmELgq4ffsBICEIAABCAAAQhAoFkEeG43/kbgMywQ+CwWNCEAAQhAAAIQgAAEIFBlAu6irsq2Yls9CLgxhcBXD79hJQQgAAEIQAACEIBAswjw3G78jcBnWCDwWSxoQgACEIAABCAAAQhAoMoE3EVdlW3FtnoQcGMKga8efsNKCEAAAhCAAAQgAIFmEeC53fgbgc+wQOCzWNCEAAQgAAEIQAACEIBAlQm4i7oq24pt9SDgxhQCXz38hpUQgAAEIAABCEAAAs0iwHO78TcCn2GBwGexoAkBCEAAAhCAAAQgAIEqE3AXdVW2FdvqQcCNKQS+evgNKyEAAQhAAAIQgAAEmkWA53bjbwQ+wwKBz2JBEwIQgAAEIAABCEAAAlUm4C7qqmwrttWDgBtTCHz18BtWQgACEIAABCAAAQg0iwDP7cbfCHyGBQKfxYImBCAAAQhAAAIQgAAEqkzAXdRV2VZsqwcBN6YQ+OrhN6yEAAQgAAEIQAACEGgWAZ7bjb8R+AwLBD6LBU0IQAACEIAABCAAAQhUmYC7qKuyrdhWDwJuTCHw1cNvWAkBCEAAAhCAAAQg0CwCPLcbfyPwGRYIfBYLmhCAAAQgAAEIQAACEKgyAXdRV2Vbsa0eBNyYQuCrh9+wEgIQgAAEIAABCECgWQR4bjf+RuAzLBD4LBY0IQABCEAAAhCAAAQgUGUC7qKuyrZiWz0IuDGFwFcPv2ElBCAAAQhAAAIQgECzCPDcbvyNwGdYIPBZLGhCAAIQgAAEIAABCECgygTcRV2VbcW2ehBwYwqBrx5+w0oIQAACEIAABCAAgWYR4Lnd+BuBz7BA4LNY0IQABCAAAQhAAAIQgECVCbiLuirbim31IODGFAJfPfyGlRCAAAQgAAEIQAACzSLAc7vxNwKfYYHAZ7GgCQEIQAACEIAABCAAgSoTcBd1VbYV2+pBwI0pBL56+A0rIQABCEAAAhCAAASaRYDnduNvBD7DAoHPYkETAhCAAAQgAAEIQAACVSbgLuqqbCu21YOAG1MIfPXwG1ZCAAIQgAAEIAABCDSLAM/txt8IfIYFAp/FgiYEIAABCEAAAhCAAASqTMBd1FXZVmyrBwE3phD46uE3rIQABCAAAQhAAAIQaBYBntuNvxH4DAsEPosFTQhAAAIQgAAEIAABCFSZgLuoq7Kt2FYPAm5MIfDVw29YCQEIQAACEIAABCDQLAI8txt/I/AZFgh8FguaEIAABCAAAQhAAAIQqDIBd1FXZVuxrR4E3JhC4KuH37ASAhCAAAQgAAEIQKBZBHhuN/5G4DMsEPhGIr2OSKsl0mqLnN5YcGhCAALrJzC6lF6nPfkuaj+S05vR+scsc4Rtn1+ZLBkLAhCAAARmnt1BAoFVCfBDwaoEN/h+1rIbhM/QEBCR0Xvp73UkCAIJOo/l7Hbb1rJbPj+CGAIQgEDNCPDcbhyGwGdYzPxI0Li/2NzgomhwLhL2RAIlLjr/tXdFnoUiYShyemU5jCYENkRg9CGUh+2W853Rlk7vUlZaxmy7ALbt89tQPDIsBCAAgaYScBd1TeXAvIsj4MZU49aDxaEsvyfWsuUzZ8RaEhh9jKTbCSZCnBLjxv91ZK//fsW17JYLYNsuYNYymjEaAhBoMgGe2433EfgMC+fH+smP99bl7W9uYlF0JxJ2Z0U9V+Szj7un2+8KZlhtAgh8Of2DwJcTHG+DAAQgAIE0Au6iLu0ezkHAh4AbUwh8PvQ2fC9r2Q07gOHrQgCBL6enEPhyguNtEIAABNZDgOd2wxWBz7BA4Ct7UTQSCR9Oxb1ApPdcZOCmP92JnE6z9w53J/cenltOowmBjRP4p1z1PpdWqw4ZfFNbgyM5v3M/bCWAROArATJDQAACEGgOAXdR15yZM9N1EXBjCoFvXaTX0C9r2TVApcvtJ/Avue5/KUFQhwy+qa07J3Jxv4m17JZnKG5/sDNDCEBgywjw3G4cisBnWCDwlbwo+hCKtFsiqgTn5Z3liIY2R4Of5KdNiC4N5V3ctGsk8MUC2+fSu/pncQiy9hSP35LWNu4xmJVD5vvuZDDgyzEzLm6EAAQaR8Bd1DUOABMunIAbUwh8hSNeX4esZdfHNkPPo+HP8vMmRJcMtnHLIgI1EvjiDLovpX/9r0WTWs+1ePwt3WOwcGr3MhzeF94rHUIAAhDQBHhu1yREEPgMCwQ+i8Xam3oB1hYJP6x9tEoPMBqcS3i4K+1WS9rdU7mptLUYN0ugQIFvtvNiz8QC24YEvmJns+W9mbgKuj05veKbYcsdzvQgAIEcBNxFXY4ueAsEEgTcmELgS+DhQBNgLatJyGh4IdHxvnSCQDoHZ3IbX6FRDwIFCnzrnnAssG1I4Fv3/LaqfxNXOwd9Obvmm2Gr3MtkIFARAjy3G0cg8BkWCHwWi7U3b0S6bZFWR+RqA9UV1j6/LAOMBnL+pCtBa7LfYyvoypPzwWobW2cZl3sKJmCEmE7vstr+Q+Ar2Pfr7W40+F6Odh9M/9/0QHYPQzkffFrvoPQOAQhAoEYE3EVdjUzH1IoScGMKga+ijtq0WaxlRUZDuXh6IDtBIIH6b+dAnl4Mq70W2nTcVHJ8I8Ts9d9X238IfJWMoHlGjYY/ysn+Z5Pvh+Az2T+O5GLIWnYeL85DAAL+BHhuN8wQ+AwLBD6LxbqboyuRTqupAt+NXL06kt32VNhr78pheD67/+C6nUD/BRFA4CsIJN2kEriRq9OedIP29P9RHek+ecv3RSorTkIAAk0j4C7qmjZ/5ls8ATemEPiKZ7wNPTZ7LXsr129OZL8zFfY6+3IcXciwqX+0W/uARuCrvQsrPYFbuT7ry8FOZyr07cnB03d8X1TaZxgHgfoQ4Lnd+AqBz7BA4LNYrLvZzEXRJxmcf239UK8ycl7KFfvurTvc1tw/At+aAdO9IqAyfsPD5B8GvLoSdugjPCAAgSYTcBd1TWbB3Ish4MYUAl8xXLetl6auZYcXz6wf6lVGzmu5Zt+9moc3Al/NHVgP81XGb3Sc/MOAN9fCDn31cB9WQqCqBHhuN55B4DMsEPgsFutuNmtRNJK7q5dyGJfaa0vQ/ZpSe+sOstL6R+ArDTUDidxdyWmP0r6EAgQgAAFFwF3UQQUCqxJwYwqBb1Wi2/n+pq1l769fy3Fcaq8jOwfPKLW3NaGNwLc1rqzDRO6v5axPad86uAobIVAHAjy3Gy8h8BkWMz8SbPOC7kMo0lYlMhf817uy4KzQzDLWIjvG1wKR8xqmqowGb+VJtxPHVnv3SF5d3axAM+2tSkB8LWF4YmUHTst/tlSW4LcSPrdLgE4FqU4v3/6HKpPoeSjPDnelrfcPHL8q4fJEwvC1f1bi6BcJH+q9xqa2u/YpYWNmjtP5nRaZyaQyLSMJbRFlPL95Y+UR+D7Jh/BLh5/2mX79XHpX/0xzeMZzWcbQYy16bUtw+NYzUyzL2KvObwGGrY9RldBXxndLkrE7Zit4JGHh32fJMTmCAAQgsIiAu6hbdC/XIJCFgBtT27wezMKjqvdkWV+yll3de6PhO3l6sDctrRdIZ/9E3lzfrt5xooeR3F//IFH0jZUdOC3/Od636zuJXtolQKeC1F5frvOUBVWZRC8jeXG8Lx29f+D4VQmX30gU/eCflTj6VaKu3mtsartrnxI2ZuaosiC/k+isyEymTzK8+JtEtogynt+8sfIIfJ/kY/Rnh5/2mX79UvrX/0p42u8gyxh6rEWvHdk5fueZKZZl7FXnt4DG1seo2sKzjO+WJGN3zGDnsUSFf58lx+QIAhBYLwGe2w1fBD7DIhZh7ACxLm9Vk0XRmt1ZSpaNmxm4SKRR16Z7d/37UnodtZ+Xr8Di7B2YEPfcsT33CVso8N3IVfhIgoXjtaQV/EVOB6ts2uzBs70rR28H003IEfhmP02bEvi2PUZd0m7MrjE7+O6tHMb7AFqf9/aXEn5Y5XPnzoljCEAAAtkJ2M/sCDHZuXHnfAJuTBFX81lt8gpr2TXTLyXLRgl7dmbgIpFGXZvu3fXv99LfU/t5+Qoszt6BCXHPHdtzn7CFAt+tXEePZWfheIEEO0dyNlzlmdqDZ2dfTt4Np2tZBL7ZT9OmBL5tj1GXtBuza8wOvn8nx/E+gNbnvfNniT6u8rlz58QxBCBQJgGe2w1tBD7DolECnzXtZHMk0utMMvuK+qvH5ACTo60ta1LaPlmfZHD6l6noNc2cS2TpaerTbLRnZu+u9u6+7I9/qPcQ+O7+Lr24xOi8TLaUzLc8otvNqXTbLWmpDL5/D+Tt0TRTsL0rh8/c7MAbuTr9T1P+NM94Y1RJEbG9eyjPZjIRJ/MzmYsPZPfoexmM8gh82j8pr6O8AmxKX+6pdfbtjjXveF02bH2MzgOqzqvYtPf37Ei3d+qfSTt3iJHcnD6ak3Halk7vcvoDwdwOuAABCEBgLQTcRd1aBqHTRhFwYwqBr2buZy27msNK2yfrkwzPjqai1zRzLpGlp6cxzUZ7Yfbu6uz/H/k/4x/qPQS++0vpxyVG52WypWS+5RHdbs/koBNIoDL4/j2UdyfTTMHOvhy/cLMDb+X67Lkpf5pnvDGqpIjY2T+WFzOZiJP5mczFz2T/5EcZjvIIfNo/Ka+jvAJsSl/uqXX27Y4173hdNmx9jM4Dqs6r2LT399yTg/6Zfybt3CFGcnv2eE7GaUf2+u9Zy85lxwUIVJsAz+3GPwh8hgUCn2LBosiKCJ+mEpp6VonMon9gt22xxD2fEnkjSywbZ8NlFPgs4SRzidG7Swl1aVJf0S0W+P5Dnp08HIsK7d2v5O2i7LzRBzl9NCmF2u6eil8RVDvbrCPd8HJpOcrR4Hs5GgueqnzlaznvfS6tVkFCx7oEsPHne43ioR2ii9rrmN/Wx+gioPY1J4NRieKhXZ7XvtenjcDnQ4t7IQCB8gi4i7ryRmakbSXgxhQCX808zVo2p8OU0NS3SmQW/QO7bZYl7vmUyBtZYtk4Gy6jwGcJJ5lLjN6/l0iXJvUV3WKB7yt58U13LCp09v8q7xZl540+ytnjSSnUzsGZ+BVBtbPN9uQger+0HOVo+KOcjAVPVb7yB7nofylBUJDQsS4BTIXQOvu2Q3RRex02bH2MLgJqX3MyGJUoHtnlee17fdoIfD60uBcCdSLAc7vxFgKfYYHAp1iwKLIiIktTZc6EJoNsvOddKOeLxKgs3c69ZyR350eTzD1f4Wzc541c9iaiWaYSnbFwprIEQ8+MIGus4EjO7zJukqAFPl2SM+t7cwlHFs/2Q+ldekiDsaj03yQI/oDANzdmnQu5/OT0YR9ufYzak83YVpnET7qmrG3Qld6q+1RSojMjfG6DAATKJOAu6socm7G2k4AbUwh8NfMza1lPh6nMmchkkI33vIvkYpEY5TlC8vaR3F+cTDL3fIWzcUe38r4/Ec0yleiMhTOVJRh5ZgRZY+2cyMV9xrWsFvh0Sc6s780lHFk8O13pv/eQBmNR6X/Izs6fEPiSgTr/KJef5ncnWx+jC+Y+75LKJH56YMra7hxIf9V9KinROY825yFQawI8txv3IfAZFgh8igWLIisiFjXV3len0tNZai0lgPXk9MpDIFrU/bxr8V51f5TD89/m3bX4fGaBxWTttHefyGVWgc4e3RJfMpfxswU+LxEzR6nMmGdHHp1+8C/NkBA9yOCzXT+3nTn+5vZgXWhAjFqz9W2OBucSHk5L3LZaokrPhud670jf3kRGg7fyJP7OU/teduXJCv35W8A7IAABCCQJuIu65FWOIOBPwI0pBD5/hht9B2vZjPjV3ldn0tdZaoESwPpydu0hEGUcKXFbvFfdF3J88XviUuaDzAKLydrp7D+V91kFOtsQS3zJXMbPFvi8RMwcpTJjnnvy+Oyj/1o2IXqQwWe7fm47c/zN7cG60IAYtWbr2xwNLyQ6npa4DQJRpWejC713pG9vIqPhO3kaf+epfS8P5OkK/flbwDsgAIGiCfDcbogi8BkWCHyKBYsiKyLmNY2ooL9M/MtCzut70XmTbbbaeL/J+eEfJ3vcLfpDxKKEGC3YtR/J6c2iAadz1/e3fEVM7ZesQlsRPE0flOhcFLvWtaLiSnVZVF865ioXoxa33E0tfLem/4/L+vnIPSBvhAAEIFAaAf0cpl9LG5iBtpaAjiX7dWsnu40TYy2bwatGVAimWWb+ZSEzDDNzi8k2W2283+Xi+IvJHneLlpZFCTFasOs8lrPbRQNOJ6zvD3xFTO2XrEJbETxNH5TonAnY9BNFxZXqvai+dMxVLkbTEfqd1cJ3IJPvq6yfD79RuBsCEKgnAft5XbfrOZPVrUbgsxjqYLBfrcvNaLIoyujnTWTw/UNOu6oUZMa98zLOZN5to6uedFTWj/eedm6PWmD4g3RP/+FenD3WYkunJ1cZ1lCmA1+BT/P0FRLNiONWLDIVJJzE/a3Bz+vs28Ey97BAG7Y/RudSzHSh6Ay+TINyEwQgAIESCdjP7KrNPwisSsCNKeJqVaIlv5+1bEbgm8jg+y85O1ClIDPunZdxJvNuG133ZU9l/Xjvaef2qAWGP8nB2X+5F2ePtdiy15drz7Xs7dlj6WTeC0/z9BUSHZNjkakg4STubw1+XmffDpa5hwXasP0xOpdipgtFZ/BlGpSbIACBWhHgud24i5WwYUEGn2LBosiKiCzNEvfg08JI1iyjLObPvUeLcsWIVl5CTFkCX2E8i2VVWFZamm/1nEsSidNMKG5+xXKvZIymAsxwch178GUYllsgAAEIlE3AXdSVPT7jbR8BN6YQ+GrmY9ayng4rcQ8+LYxkzTLynEnydi3KFSNaeQkxZQl8hfEsllVhWWlJh06O9JxLEonTTChufsVyr2SMpgLMcHIde/BlGJZbIACB+hHgud34DIHPsEDgUyxYFFkR4dO8kavTnnSD9jSOOtLtncpVnn3r5g2bW/ia1+Gi8zq7LWPW3aKuVFhNswFbWbLycs/TM4Mv9zjuZIsVmooTwFw7lSMupddRMbqG7MCU4VJPFWZDA2I0FeCikzdy9epIdtvTcpztXTkMz2Xg9dfDi/rnGgQgAIFqEXAXddWyDmvqSMCNKQS+mnmRtWxOh93K9VlfDnY60zJ4e3LQP5PrPPvWzbMgt/A1r8NF53V2W8asu0VdqSXUNBswyJKVl3ueniU6c4/jTrZYoak4Acy1UznivfT3VIyuITswZbjUU4XZ0IAYTQW46OStXL85kf3OtBxnZ1+OowsZspZdBI1rEGg0AZ7bjfsR+AwLBD7FgkWRFRE5mipzJjxM/sD+6krucnTlvsVLJHPf7H1crHgiPmKaz72JefkJfMXxROBLuGHZQUUFvirG6DKU5rrKJP56vX9gYAajBQEIQKAyBNxFXWUMw5DaEnBjCoGvZq5kLbuaw1TmTHSc/IH9zbXcr9br+N1eItnK4xUrnoiPmOZzb2KefgJfcTwR+BJuWHZQUYGvijG6DKW5rjKJn633DwzMYLQgAIEtIsBzu3EmAp9hgcCnWLAosiJihebdlZz2uhK0ppk0QVeenA8U3vz/cgtfeYYsVuDzEtNyz9NP4PMSdBYiROBbiMe9WFGBr5Ix6rKbOVZ7gb6Uw90H0/9/tSXofi3ng08zd3ICAhCAwDYScBd12zhH5lQuATemEPjK5b/yaKxlV0Y47uD+Ws76B7ITTDNpdg7k6cVwtbVsbuErz5SKFfi8xLTc8/QT+LwEnYUIEfgW4nEvVlTgq2SMuuxmjtVeoK/leP+zaeZwR3YOnsnFkLXsDCpOQAACqQR4bjdYEPgMCwQ+xYJFkRURqzdHg7fypNuJY6u9eySvrm7ydayFkdrtwaeFt5a0u6eydPZlCXyF8UTg8wpozX3lMqFFcq9ojC4AW+h3y4JxuAQBCECgygTcRV2VbcW2ehBwYwqBrx5+i61kLRujKKIxGr6Tpwd70x/fA+nsn8ib69t8XWthpHZ78GnhLZDOwZksnX1ZAl9hPBH4vAJac1+5TGiR3CsaowvAFvrdsmAcLkEAAttNgOd2418EPsMiFmHsALEuN6PJomgNfi4qy0Zn1ZWzf5rOaMokyi2kpoWYjPv5lSXwieb5Rzk8/23hDBZejAWrtnR6l6v9ZasaKO5vDX5eZ98LIVkXC7Rh+2PU4qab68gO1n3zCgEIQKBmBOxndoSYmjmvoua6MUVcVdRR88xiLTuPzArni8qy0Vl15eyfpjOaMolyC+loISbjfn5lCXyieX4hxxe/L5zBwouxYNWRvf77Ataya9wnL7a1nBhK5VagDdsfoykE15EdnDIMpyAAgWYQ4Lnd+BmBz7BA4FMsWBRZEVF0090n64HsHr6Uq7ushTs9s4xWNT8WYlYUwLRglzXzUN/f6clVVjTjuWo+WYW2kdydH43LqLYfhvLBaywN1/TRamUdV793zmvMHYFvDiFzOma1rTFqpipr3N/TGoUmBCAAgVoRcBd1tTIeYytJwI0pBL5Kumm+Uaxl57NZ+Yq7T9Znsn/8Wq7vsy6iPLOMVrU3FmJWFMC0YJc181Dfv9eX66xoxnPVfLIKbSO5vzgZl1HtdCP56DWWhmv6CIKs4+r3znmNua9BhFtn33OmM3O6SBvivrY1Ri16a9zf0xqFJgQg0DACPLcbhyPwGRYIfIoFiyIrItbVvJGrV0ey257uz9felcPwXAZZHsrv3sph0JZWa0VBQ27ksvdQ2sGRnM8VGLVg1pL27hO5nHvfAk6jD3L6SJUo9RC/ShP4VLz/IuFDtX9ZRx6dfvD/i8XYH8qXHnNcgGytGXxx1uIaxMNFc7KvxaJcETY0IEblRq5Oe9Idf+5VnHWk++Rttu8Lm3sBbbcsaKuIvUULsIsuIACB5hJwF3XNJcHMiyLgxhQCX1FkS+qHtWwJoG/l+s2J7Hem+/N19uU4upBhlrXs/Ts53ulIEKwoaMitvO93pbNzIhdzBUYtmKnSok/l/dz7FiAbfZSzx6pEqYf4VZrAp9ayv0rUVfuX7cnjs4/+a9nYH8qXHnNcgExi0WoNAl+ctbiOvhdNyrpW6PwaEKNyK9dnfTkYf+5VnO3JwdN32b4vLOxFNN2yoEERe4sWYRh9QAACuQnw3G7QIfAZFgh8igWLIisi1txUGTlPuuMMsvGXUqYfy62MseAvcjrIsQHxaCBvj3al3WpJa6HAp+LBCHRBN/TINlTv9RjHRl2mwCcWz/ZD6V0u3SHQWHr3d+ntKnHwv0kQ/KEmAp8ul/pAHoa/eC8CR4Of5Kc8Qq+hVnwJ0i2O0dHgezkax5gS9lTGbyjneT7zNv+87YSYPf3jBPUd0v5Swg85vofy2sH7IAABCFgE3EWddYkmBHIRcGNKHfOvRgRYy5bnLJWR8/RgnEEWBIFk+7HcyhjbOZKzYY5nyNFQ3og9y+0AACAASURBVJ3sS2c85iKBT61HjUC3cxB5ZBuq93qMY1MvU+ATi2enK/33S3cINJbeX0p/X4mD/0N2dv5UE4FPl0v9TLrRr/5r2eHP8nMeoddQk8IFzC2O0dHwRzkZx5gS9lTGbyQXeT7zNv+87YSYPf3jBPUd0vmzRB9zfA/ltYP3QQAChRLgud3gZMViWCDwKRYsiqyIKKc5GpxLeDgR3LLtd/ebnB/+cRKvwSMJr7KKUk6J0KwCYSxkqUy+I3mVYbxEpk/WcTTuUgU+Negn+RB+ORE8VXZUeCl32pY5r0Z4aUtw+FrOe5/XROAT0fvW+QgzKkaf9yZidLYYnQNOnS40g286zlbGqBZj2xJ0e3Ka4XO3gPqKl0ym5OwDVEGZqytayNshAIFmEnC/k5pJgVkXScCNKXXMvxoRYC1burNGwwuJjieCW7b97n6Xi+MvZCIKPpboOqso5ZQIzSoQxkKWyuQ7kTcZxktk+mQdR5MvVeBTg36Sj9GfJ4Knyo6K3su9tmXOqxFeOrJz/INc9L+sicAnovet8xFmVIy+7E/E6GwxOgecOl1oBt90nK2MUS3GdmTnoC9nGT53C6iveMlkSo6/d5SwF/9XUObqihbydghAIB8BntsNN1YshkUjBL4PoUi7JaLWqqv+134oy/ctG4mED1cf62E41h4tb21f0y87alpiU2XQjDN7vpXw9CpFmFLl/Z5L+OzQlAQd3++z95+IWALK/PGUgBhJOBWCxl+0mcQ9K4tuPB8rO0gfL8gSGn0I5aEud6rvj1+zljK9kavwUZxN2d49lGfhaydjcTK/Z1Mxdszh6HsZjLQQ49qdVoLSFhPd+/2P8+0daAnEqjzss2g2K0xllz4PJQxPrNKQyr5lpUw3OL+tjNE7GQyWyc1lfBci8JVBmTEgAAF/Au6izr8H3gGBJAE3ptQx/6pDgLVsdXzhWjLyyo6altgc/8iuMnu+k+jsOkWYUuX9Xkr04tiUBB1nAvns/SciloAyySRKG08JiH+TaCoETQTILFmGVhZdLBrYAsLiLKHRx0i6utzpzPu/kOOL313UKce3ch09jrMpO/vH8iL6wclYnMzvxVSMHXM4+VGGIy3EODYHaWUwbTHRvd//ON/egZZArMrDvvjbbFaYyi59GUkUfWOVhlT2LStlusH5bWWM3stwuExuTgnnwk8h8BWOlA4hUBECPLcbR7BiMSwQ+DxFPwQ+K3g20nQy8mJRa55QtGomkLN34MLxfPYJq4LApxw4krurl3IYl0Scx1GVJdyVw1daUK2bwKemapVPXejHKYOxEOgKnmlBv0GBb2zOtsdoGvOSzlGisyTQDAMBCPgQcBd1Pu/lXgikEXBjCoEvjdLmziHwbY598SM7GXkz4pYrGK2aCeTsHbhwPJ99wqog8CnvjOT++rUcxyURXX7WsRLG3mhBtW4Cn5qqVT51oR+ncx4Lga7gmRbRGxT4xuZse4ymMS/pHCU6SwLNMBAolwDP7YY3Ap9h0QiBz5ouza0hMM2cS2TpaXFK7dv1rYRhSpZW3vlPs7tMJpseSwmIJxLOZL7lHWhT70vJRByLYFOWz89lkGUT+U2Z7zHuuPTmTJae8qeOm+cbLg3pMRn71q2PUXuy5bUTpXfVZ8KrRHB5djISBCDQHALuoq45M2em6yLgxhQC37pI0y8ENIFp5lwiS0+LUdPsviglS0u/3fd1mt1lMtn0WEpA/Eaimcw33wE2fX9KJuJYBJuyfHkhw21Zy6rSmzNZesqfOm5ebrg0ZM5Y2PoYzcllxbclSu+qz8SOT4ngFQfn7RCAwFoI8NxusCLwGRYIfBYLmhCAAAQgAAEIQAACEKgyAXdRV2Vbsa0eBNyYQuCrh9+wEgIQgAAEIAABCECgWQR4bjf+RuAzLBD4LBY0IQABCEAAAhCAAAQgUGUC7qKuyrZiWz0IuDGFwFcPv2ElBCAAAQhAAAIQgECzCPDcbvyNwGdYIPBZLGhCAAIQgAAEIAABCECgygTcRV2VbcW2ehBwYwqBrx5+w0oIQAACEIAABCAAgWYR4Lnd+BuBz7BA4LNY0IQABCAAAQhAAAIQgECVCbiLuirbim31IODGFAJfPfyGlRCAAAQgAAEIQAACzSLAc7vxNwKfYYHAZ7GgCQEIQAACEIAABCAAgSoTcBd1VbYV2+pBwI0pBL56+A0rIQABCEAAAhCAAASaRYDnduNvBD7DAoHPYkETAhCAAAQgAAEIQAACVSbgLuqqbCu21YOAG1MIfPXwG1ZCAAIQgAAEIAABCDSLAM/txt8IfIYFAp/FgiYEIAABCEAAAhCAAASqTMBd1FXZVmyrBwE3phD46uE3rIQABCAAAQhAAAIQaBYBntuNvxH4DAsEPosFTQhAAAIQgAAEIAABCFSZgLuoq7Kt2FYPAm5MIfDVw29YCQEIQAACEIAABCDQLAI8txt/I/AZFgh8FguaEIAABCAAAQhAAAIQqDIBd1FXZVuxrR4E3JhC4KuH37ASAhCAAAQgAAEIQKBZBHhuN/5G4DMsEPgsFjQhAAEIQAACEIAABCBQZQLuoq7KtmJbPQi4MYXAVw+/YSUEIAABCEAAAhCAQLMI8Nxu/I3AZ1gg8FksaEIAAhCAAAQgAAEIQKDKBNxFXZVtxbZ6EHBjCoGvHn7DSghAAAIQgAAEIACBZhHgud34G4HPsEDgs1jQhAAEIAABCEAAAhCAQJUJuIu6KtuKbfUg4MYUAl89/IaVEIAABCAAAQhAAALNIsBzu/E3Ap9hgcBnsaAJAQhAAAIQgAAEIACBKhNwF3VVthXb6kHAjSkEvnr4DSshAAEIQAACEIAABJpFgOd2428EPsMCgc9iQRMCEIAABCAAAQhAAAJVJuAu6qpsK7bVg4AbUwh89fAbVkIAAhCAAAQgAAEINIsAz+3G3wh8hgUCn8WCJgQgAAEIQAACEIAABKpMwF3UVdlWbKsHATemEPjq4TeshAAEIAABCEAAAhBoFgGe242/EfgMCwQ+iwVNCEAAAhCAAAQgAAEIVJmAu6irsq3YVg8Cbkwh8NXDb1gJAQhAAAIQgAAEINAsAjy3G38j8BkWCHwWC5oQgAAEIAABCEAAAhCoMgF3UVdlW7GtHgTcmELgq4ffsBICEIAABCAAAQhAoFkEeG43/kbgMywQ+CwWNCEAAQhAAAIQgAAEIFBlAu6irsq2Yls9CLgxhcBXD79hJQQgAAEIQAACEIBAswjw3G78jcBnWCDwWSxoQgACEIAABCAAAQhAoMoE3EVdlW3FtnoQcGMKga8efsNKCEAAAhCAAAQgAIFmEeC53fgbgc+wQOCzWNCEAAQgAAEIQAACEIBAlQm4i7oq24pt9SDgxhQCXz38hpUQgAAEIAABCEAAAs0iwHO78TcCn2GBwGexoAkBCEAAAhCAAAQgAIEqE3AXdVW2FdvqQcCNKQS+evgNKyEAAQhAAAIQgAAEmkWA53bjbwQ+wwKBz2JBEwIQgAAEIAABCEAAAlUm4C7qqmwrttWDgBtTCHz18BtWQgACEIAABCAAAQg0iwDP7cbfCHyGBQKfxYImBCAAAQhAAAIQgAAEqkzAXdRV2VZsqwcBN6YQ+OrhN6yEAAQgAAEIQAACEGgWAZ7bjb8R+AwLBD6LBU0IQAACEIAABCAAAQhUmYC7qKuyrdhWDwJuTCHw1cNvWAkBCEAAAhCAAAQg0CwCPLcbfyPwGRYIfBYLmhCAAAQgAAEIQAACEKgyAXdRV2Vbsa0eBNyYQuCrh9+wEgIQgAAEIAABCECgWQR4bjf+RuAzLBD4LBY0IQABCEDAk8DoUnqd9uT/Je1Hcnoz8uyA2yEAAQhAwIeAu6jzeS/3QiCNgBtTCHxplDgHAQhAAAJbR2D0Xvp7HQmCQILOYzm7ZS27dT5mQhDYMgI8txuHIvAZFgh8FguaEIAABCDgSQCBzxMYt0MAAhBYjYC7qFutN94NAWE9SBBAAAIQgEAzCSDwNdPvzBoCNSbgrgWb/Id5CHxWIBMYFgyaEIAABCDgRwCBz48Xd0MAAhBYkYD77L5id7wdAgh8xAAEIAABCDSTAAJfM/3OrCFQYwLuWhCBr8bOLNJ0AqNImvQFAQhAoGEEEPga5nCmCwEIbJqA++y+aXsYv/4E3Jhq8g8F9fcmM4AABCAAgcwEEPgyo+JGCECgGgR4bjd+IIPPsOAvNi0WNLefwGjwk/x0R1317fc0MyyNAAKfJ+o7GQzuPN/D7RCAAAQMAXdRZ67QgkA+Am5MIfDl48i7ILBuAqPhz/LzPWvZdXOm/wYRQODzdPa9DIf3nu/hdghAoEgCPLcbmgh8hgUCn8WC5vYSGA3OJTzclXarJe3uqdxs71SZGQQgUFkC/5Sr3ufSarUl6Pbk9Ipvosq6CsMgUGEC7qKuwqZiWk0IuDGFwFcTx2FmYwiMhhcSHe9LJwikc3Amt42ZOROFAASqQ+Bfct3/UoKgIzsHfTm75puoOr7BkiYR4LndeBuBz7BA4LNY0NxCAqOBnD/pStBqTWI96MqT84Hwd49b6GumBIEaEBgNvpej3QfT//c+kN3DUM4Hn2pgOSZCAAJVIeAu6qpiF3bUl4AbUwh89fUllm8ZgdFQLp4eyE4QSKD+2zmQpxdD1rJb5mamA4G6EBgNf5ST/c8m30fBZ7J/HMnFkLVsXfyHndtBgOd240cEPsMCgc9iQXObCNzI1asj2W1Phb32rhyG5zJA2dsmJzMXCNSUwI1cnfakG7Sn/w/uSPfJW76faupNzIZA2QTcRV3Z4zPe9hFwYwqBb/t8zIzqRuBWrt+cyH5nKux19uU4upAha9m6ORJ7IbCFBG7l+qwvBzudqdC3JwdP3/H9tIWeZkrVJMBzu/ELAp9hgcBnsaC5DQQ+yeD8a+uHc5Uh81Ku2HdvG5zLHCCwXQRUhnF4mPxDhFdXwg592+VmZgOBogm4i7qi+6e/5hFwYwqBr3kxwIyrQuCTDC+eWT+cqwyZ13LNvntVcRB2QAACmoDKMI6Ok3+I8OZa2KFPA+IVAushwHO74YrAZ1gg8FksaNaZwEjurl7KYVz6Tu1x9TWl7+rsUmyHQFMI3F3JaY9Swk1xN/OEwKoE3EXdqv3xfgi4MYXAR0xAoGwCI7m/fi3Hcek7tcfVM0rfle0GxoMABPwJ3F/LWZ9Swv7geAcE8hHgud1wQ+AzLBD4LBY060lgNHgrT7qdOJbbu0fy6uqmwMko8fC1hOGJlRk4Lf3ZUhmC30r4PE/5z0/yIfxS2np/QPc1OJLztMzD0S8SPtR7eGk79GtbgsO3sxlA897T6clVotSLKh34XJ4d7jp2KcH0RMLwdb5syHnjqznP2DBx3WhwLs8TzJUNPTnN5dt1+XB+mE3s/9YSnbWPWtLePZRnYRQL0KMPoTxsfy69q3/O73DJlfWPtyRex/G72hwWTlFluz0Pi43NtLh041GJb4k4VH6cfu5Pi822W/932ULCXIQABGpCwF3U1cRszKwwATemEPgq7CxM2zoCo+E7eXqwNy11F0hn/0TeXN8WOE8lHv4gUfSNlRk4Lf053kPrO4le5in/+Uk+Rn+Wjt4f0H3dOZGLtMzD0a8SdfUeXtoO/dqRneN3sxlA896z15frxFpWlQ58KS+O9x27lGD6jUTRD/myIeeNr+Y8Y8PEdaPhhbxMMFc29OUsl2/X5cP5YTax/ztLdNY+UjF6LC+iv8UC9OhjJN3Ol9K//tf8DpdcWf94S+J1HL+rzWHhFFW228uo2NhMi0s3HpX4lohD5UeVGfydRGfFZtut/7tsIWEuQqAxBHhuN65G4DMsYlHEDhDrMk0IVJfA2rNe3KxAI9DYnxfT9t1Ha4lgUqrAp+YapgiYaXPOUfY0TUjRgqYrqCgh54mVzaTvi18fyO7R9xn3K1u3D2c/Hq5IY+JjHstQwsP/Ka1WWzq9S0msUWe7nzlT3nhL4nVtAp+zn2YcB2k8PT+DaXEZx+ONXIWPJFg4XktawV/kdFDkxuJuzJKNPBP0nIBAwwm4/19pOA6mXwABN6bUMf8gAIE1E1h71oubFWgEmsAV48bHvvtoLRFMShX41FyjFAEzbc45yp6mCSmaoSuoKCHnqZXNpO+LXz+T/ZMfM+5Xtm4fzsa4K9Kkx4rmqlhGEh3/bwmCjuz13/uvZR2Be33jLYnXsX/WIfA5+2nGcaAZ2q+en8G0uIzj8Vauo8eys3C8QIKdIzkbFruWJRt59nPFGQgUSYDndkOTFYthgcBnsaBZEwKl7Fv1SQanfzE/7gdd6YXPZ7PHxllFz6SXyCB8IpdpmXdz8d7IZe/hJGPOVyy4+7v0xmVJ2xI8epVR9BIZXfWko4SLsZiRFDLG2WUzGYlqb8NIwkQZwUcS5sqmm4BI2qDOuSKjEhL/0zBP+P0P0j39x1yikwtl+nA6p3Em3lR4GseMydJLGDvOCnOz+/wFvknmX3njJeZgH4wupddpS6tVcAZfHN9qjvOy5tJiM4fodnMq3fb0M/Hvgbw9mmaxtnfl8JmbuaoyXf/TZGf6fm5tdnPb7n6iHen2TvNl0M4dgwsQgEAdCbiLujrOAZurRcCNKQS+avkHa7aMQCn7Vn2S4dmR+XF/50D60cvZ7LFxVtEL6ScyCJ/K+7TMu7luuJX3/e4kY85XLLi/lP64LGlHdh6/ySh6iYyu+7KnhIuxmJEUMsbZZTMZiWpvw79JlCgj+FiiXNl0ExBJG9Q5V2RU4tdzwzzh9z/Jwdl/zSU6uVCmD6dzGmfiTQWnccyYLL2EseOsMDe7z1/gm2T+lTdeYg72wei99Pc6EgQFC3xxfKs5zsuaS4vNHKLb7ZkcdKafiX8P5d3JNIu1sy/HL9zMVZXp+txkZ/p+bm12c9vufqJ7ctA/y5dBO3cMLkCgmQR4bjd+R+AzLBD4LBY0q05A/ajes7LM1vWDt52p1JFueDlb8nIGVTLrpr3rK/JZYlSQUTiLxQ8/cU+ZbsS1/5BnJ1Nxsb0rR28HS//qLpExtoKwYWxQZUJdkfEreTsnK2pSitIVXFyHbMCHcTaYT4ah5XffDL6yx3MR28frEPji+FYlTTOW3b27lFCL7b6xGQt85jPR3p0fh+Ppjz7I6aNJeeB291SKLAxs8DoZjEpwDPOUBDY90oIABOpNwF3U1Xs2WF8FAm5MIfBVwSvYsH0E1I/qfSvLbF0/eNuZSntyEL2fLXk5AzeZKdbZ9xX5LDFqJ6NwFosffuKeMt2Ia1/Ji2+m4mJnX07eDZevZe2MsRWEDWODKhPqiox/lXdzsqImpShdwcV1yAZ8GGeD+WQYWn73zeArezwXsX28DoEvjm+Psrv37yXSYrtvbMYCn/lMdPbnx+F4+qOPcvZ4Uh64c3AmRRYGNnidDEYlOEZ5SgKbHmlBoOkEeG43EYDAZ1gg8FksaFaVgMpkCU22zDiTJ4z3LyvW6pHcnR9NMvfaD6V36fmTffyD/5y98BYaa4k9S8YeDb6XoxyZe3r4WFzT5Qd9xZB4ni1pPwzlg29dSVtkDLpyEu/5l1VQ1TNJe92MD2OmcYnHNNvSzv0m54d/9C7RWfZ4aZbH54oW+OL4UuUpQ8+sNTsjds4+lrHhVkMLfPFnIuN7i567ZVKi6ZauVRmiBe8BmBiPAwhAoLIE3EVdZQ3FsNoQcGMKga82rsPQWhBQmSyRyZYZZ/JE8f5lxU5hJPcXJ5PMvU5X+u89f7KPf/CfsxfeQmMtsWfJ2KPhj3KSI3NPDx+La7r8oK8YEs8zkE43ko951rI6i3DnQL6J9/zLKqjqmaS9bsaHMdO4xGOabWnnfpeL4y+8S3SWPV6a5fG5ogW+OL7UvouRZ9aanRE7Zx/L2HCroQW++DOR8b1Fz90yKdF0S9eqDNGC9wBMjMcBBLaYAM/txrkIfIYFAp/FgmbVCKisuFOr/KX6sb9nSjauw9z4x/o/yuH5b/lGiDOP8vSxXOQbDV7Jo0CVQ/TJFEtOJRaHxmJGHjuVQveLhA8fSKuVpVxmcnx1lLRB7WWWMXNxtqvkmQ35UM/HP5NLC5J+5S3LHi8J2TmKmfvNwellejiSm9NH45K1/pmwugudWedR9tQW+LwE73/KVe9zb4E2fe7Lz6oM1jAWxFV246GE58szb5f3zB0QgEBdCLiLurrYjZ3VJeDGFAJfdX2FZXUioLLizqzyl+rH/r4p2biOqcQ/1n8hxxe/5xshzjzK08dykW80fCOPd1Q5RJ9MseRUYnFoLGbksVMtRn+VqPuZBEGWcpnJ8dVR0ga1l1nGzMXZrpJnNuRDPR//TC4tSPqVtyx7vCRk5yhm7jcHp5fp4Uhuzx6PS9b6Z8LqLnRmnUfZU1vg8xK8/yXX/S+9Bdr0uS8/qzJYo1gQV9mNxxJdLM+8Xd4zd0CgOQR4bje+RuAzLBD4LBY0q0TA/Mivv7z8hRPf+ZgxVx0rv/iibJ4v8iXEvd7fM5QOTWeg7Wu18mQamj7jfryz1pIC39JSiGbIJa0N+jAWiDry6PTD0vIwSyay/HLZ4y2yqEiBr6i+NJ/2Izm9yfBnufr+lq/grWPOQ0xcxDLTNS0qTvdf9C3vmmkMboIABKpKQD8X6deq2old9SGgY8l+rY/1WAqBKhIwP/IH04waf+HEd15mzFXHyi++KJvni3wJca9/maF0aDoDbV8Q5Mk0NH3G/XhnrSUFvqWlEM2QS1ob9GEsEO3J47OP61/Llj3eIvJFCnxF9aX5dB7L2W2Gtay+P/AVvHXMeYiJi1hmuqZFxen+i77lXTONwU0Q2F4C9vO6bm/vbBfPDIHP4qODwX61LtOEwAYJlJ3B9w857f5BWq0CspB0dltWcWGG8kjuLp/IbrslrWm5zqLEPTVULMytPNf8zGIbcoiDM7jiE/ntibvQDW8f2vv+TTKrnoXP15hxWvZ4GkzKa1GinBWbq4rsIloEy5hhqgU+73gsV+Ajgy8l/jgFgYYRsJ/ZVZt/EFiVgBtTxNWqRHk/BBSBsjP4/kvODv4kQVBAFpLObssqLsw4fCT375/KfieQYFqusyhxb0xWl8dcea75ma0iDs7gik/ktyfuQje8fWjv+zfJrHoRvVxjxmnZ42kwKa9FiXJWZueqIruIFsEyZphqgc9brC5X4CODLyX+OAUBTwI8txtgrIQNCzL4LBY0q0qgpD349A/8uUU5m5+nuGC/NW5bIp/eF0yV5Vwhc093HYtrK881/zxjG7wFFT2LlNeN+/BGrsJHkz0cY5/pLCv1qsrMnkgYhhKGrz33lkuZr5Q9XpoNaiVzKb2OKhu7qjiu46mYbDgdY5nEQh073vFYksDHHnxzgo/TEGgeAXdR1zwCzLhoAm5MIfAVTZj+mk2gpD349A/8uUU520ue4oL91rhtiXx6XzBVlnOFzD3ddSyurTzX/POMbfAWVPQsUl437sNbuY4eT/ZwjH2ms6zUqyoz+41EUSRR9IPn3nIp85Wyx0uzQa1l30t/T5WNXVUc1/FUTDacjrFMYqGOHe94LEngYw++OcHHaQj4E+C53TBD4DMsEPgsFjSrTuBGrk570h3vP6fEko50e6cFiCTTeesf+FOFGVuk8WmvKlRowWMyZiahIoMbtfDR8hYz3M61ff7zLM4Gy6aK+FBlWT0PT6xYnR8z7d0jeXV1Y03Cv1n2eDMWFibw6QzMjFl3M4YkT3jFmI4d78/EugW+G7l6dTTJ5lXfTe1dOQzPZZChUkuSBkcQgMC2EHAXddsyL+axOQJuTCHwbc4XjLzNBG7l+qwvB+P955RYsicH/bMCRJIpM/0Df6owY4s0Pu1VhQoteEzGzCRUZAgBLXwE3mKG27m2z3+exdlg2VQRH6osq5fRN1aszo+Zzv6JvLm+tSbh3yx7vBkLCxP4dAZmxqy7GUOSJ7xiTMeO92di3QLfrVy/OZlk86rvps6+HEcXMmQtm3Q2RxDwIMBzu4GFwGdYIPBZLGjWhIDKZAkPkz94v7rKvR9dPGv9A39lBL60DL5i9nfzEj5iQGkNBL40KrPnlDj9fJq5F8qzw11pJ+KsmMxMM27J41VU4BP9mc4i2vnca0CPyy/dnD6SduH74KnM5a8tkbjgP2hIzIEDCECgTgTcRV2dbMfWahJwYwqBr5p+wqotIaAyWaLj5A/eb65z70cXU9E/8FdG4EvL4Ctmfzcv4SMGlNZA4EujMntOidMvp5l7kbw43pdOIs6Kycw045Y8XkUFPtGf6Syinc+9BvR4LXt79lg6he+DpzKXn1kiccF/0JCYAwcQaBYBntuNvxH4DAsEPosFzZoRuLuS017XlEMMuvLkfJB/Q2j9A//KZSuL4GiLe0rU+39ycxVOf+xfXeSLBb6V56oFPv+Mq9iGLOJLVqSV8uEyo909Jh/Iw/CX/PG7bDhZ43gVFfi8YkzHjnc8Fp3Bp/z0Ug53H0z//6zKun4t54NPSz3MDRCAQDMIuIu6ZsyaWa6TgBtTCHzrpE3fEJgSuL+Ws/6BKYe4cyBPL4b51wL6B/6Vy1YW4SFb3FOi3ge5vY6mP/avLvLFAt/Kc9UCn3/GVWxDFvElK9JK+XCZ0e4ek59JN/o1f/wuG25mT8sCx6uowOcVYzp2vOOx6Aw+FRev5Xj/MwnGIrAq6/pMLoasZZeGODdAICMBntsNKAQ+wwKBz2JBs54ERoO38qTbiWM5d8nDwkSKVTl+ksHbr6YZikkxbzR4JY/GJUpXy/iKhY9V90xbgVlsg7egsoDvCvYs6HXNlz7J4PQvE6G6SBZzrV7DeIVx14Kxf8nX2elq4a0lmUrbVkDgK+y7bBYGZyAAgS0i4C7qtmhqTGVDBNyYQuDbkCMYtpEERsN38vRgb/pjeCC5Sx4WJlKs6oZPMnz312mGYlLMGw3fyONxidLVMr5i4WPVPdNWYBbb4C2oLOC7gj0Lel3zpU8yPDuaCNVFsphrr5puBwAAIABJREFU9RrGK4y7Foz9S77OTlcLb4FkKm1bAYGvsO+yWRicgQAELAI8txsYCHyGRSyK2AFiXaYJgZoQKCLrpUhxIS82S3xp78rR29mMxCJEvlhca7UlOHybu7xp3E8OYWqV986nWwUfzrdu/hW999zn0rv65/zbCrtS8HiFCXwiOi4yiXILeehYyJhdukmBr+hs5IVcuAgBCNSdgP3MjhBTd29Ww343poiravgFK5pEoIislyLFhbzsLfGlsy8n72YzEosQ+WJxLejIzvG73OVN435yCFOrvHc+3Sr4cL5186/ovee+lP71v+bfVtiVgscrTOAT0XGRSZRbyEPHQsbs0k0KfEVnIy/kwkUIQIDndhMDCHyGBQKfxYLmNhBw9616ILuHL+XqLtsuvqMPoTxst6S1cunKPCxtce+h9C5v5nayqsinRZTJ/xj+KIfnv80da+6F0S8SPlRlBDMKKE5HsQ05xEGnq8ThJnw4GXOVEpt+YlTZ4yUApx0UKPBJ3FfOuNT2acEu62dZ3+8djzpTMEfW4br2E9UMeIUABLaSgLuo28pJMqlSCbgxpY75BwEIbIKAu2/VZ7J//Fqu7zOuZT9G0u0EEqxcujLP3G1xryv997dzO1lV5NMiyqQE4BdyfPH73LHmXhj9KlFXlRHMKKA4HcU25BAHna4Sh6MN+HAy5iolL/3EqLLHSwBOOyhQ4JO4r5xxqe3Tgl3Wz7K+3zsedaZgjqzDde0nqhnwCgEIpBLgud1gYcViWCDwWSxobhOBG7l6dTQtc6kEu105DM9lsHRt9JucH/5RWiqz7dGrDPcXxSy7uKdHHA2+l6PxPl3+5Tpjca3VmnwHBH+RU589vkYf5PTRpCxq+2EoH5Zy1Vab19gGb0HF9JHeKtuHWuDJWAoy1WifjLqyx0s1OHkyFuWKyEC05rf7RC4zivMJg+L49BDdShX4buTqtDfdU1N9BjvSffK2xO+bBC0OIACBmhFwF3U1Mx9zK0jAjSkEvgo6CZMaRuBWrt+cTMtcKsFuX46jCxkuXXP9LhfHX0igMtsev8lwf1FYs4t7esTR8Ec5Ge/T5V+uMxbXxnt8BRLsHMmZzx5fo49y9nhSFrXTjeTjUq7aavMa2+AtqJg+0ltl+1ALPBlLQaYa7ZNRV/Z4qQYnT8aiXBEZiNb89p/K+4zifMKgOD49RLdSBb5buT7rT/fUDCQI9uTg6bsSv28StDiAQOMI8NxuXI7AZ1gg8FksaG4hAZUh86Q72d9MiVlBV56cz5a9TMz87u/SGwtnq4h8eh+9LFlI/uJebG9OW4249h/y7OShtBWbOSVB47GmjcQ+Yb7CoNWZsaEnVzkWVVZXs82cXJIdZfWhEaRa7S8l/OC7gfRI7i6fTMToTGJn2eMlqaQeFSrwiYgl0AXdMHMG7ti20UDeHu1OYjo4kvOsAmFJAp8R5pWwpzKMQzn3EddTHcBJCECgSQTcRV2T5s5c10PAjSkEvvVwplcIeBNQGTJPDyb7mykxa+dAnl7Mlr1M9Ht/Kf2xcLaKyKf30cuSheQv7sX25rTViGtfyYtvutJRbOaUBI3HmjYS+4T5CoNWZ8aGvlwXvZbNycUyT0Sy+tAIUkHnzxJ99F/L3r9/OhGjM4mdZY+XpJJ6VKjAp9ayWkDuyM5BlDkDd2zbaCjvTvYnMb1zIhdZBcKSBD4jzCthT2UYR3LhI66nOoCTEICADwGe2w0tBD7DAoHPYkFzewmMBucSHk5+9M+yt5cpgdmS9u5X8jbzD/BqL8BT6XUn2W2t1jKB70Yue1OBLXgk4dX8spxzvZNDzEqKa5YNLTXfQ3n23M12VKVPIwl7tljqmfXnTCBpg3OxgMPyfGgJbllF5Hh+lri3NFb0m8oeT4+74LVogU8NFce1iskjeZXhs7GS+FyKwKdLsbYl6PbkNMOcFlDnEgQg0FAC7qKuoRiYdoEE3JhC4CsQLl1BoAACo+GFRMeTH/2z7O1lSmAG0tn/q7zL/AO82gvwTPoHk+y2IFgm8N3K+/5UYNt5LNH1/LKcczHkELOS4pplQ6DmeywvXrrZjqr06d8k6ttiqWfWnzOBpA3OxQIOy/OhJbhlFZHj+Y0kFveWxop+U9nj6XEXvBYt8Kmh4rhWMXkibzJ8NlYSn0sR+HQpViVc9uUsw5wWUOcSBCCQkwDP7QYcAp9hgcBnsaC5/QRGg5/kp4wZPclMG/WD/ImEM8KXYqbK7T2XMDyxSu4ty4j7JB/CLydZRrpMpvs6N/tIl6Ccltd036dEuiVlM2fFNXfvwvl9T7KOsu9raPZUW9TnsmsepRatMF6vD/VARnBrB4H896k/xkJpGKVnZ91dyWn4zBKCfcqslj1ehlhNicG0hw51bllsaqrjV0vkm8TdtxKeXsld4qa84vNI7s6PTHZv2hwWZGTGez2mvW+hWHsng0FyBonpcAABCEBgCQH3+3XJ7VyGwFICbkypY/5BAALVIzAa/iw/Z8zoSWbaqB/kv5FoRvhSc1Tl9l5KFH1jldxblhH3ST5Gf55kGekyme7r3OwjXYJSZQCl/7esbOasuObuXZje72Q8v30NzZ5qi/pcds2j1KIVduv1oR7ICG6dnR35X1OfjIXS6G/p2Vn313IWvbCEYJ8yq2WPlyFW58RhWnwui01NdfxqiXyTbLfvJDq7lvvETXnF55HcX5yY7N60OSzIyIz3ekx730Kx9l6Gw+QMEtPhAAIQWDsBntsNYlYshgUCn8WCJgRmCKgSn+Gh2csv9cd8R5wKutJLFQLt3jOIJqUKfNq2qVhpZ+pN5zwRrF77lUtU3cbZXQ6nLCzjex7Iw/AXyVX9ZG0+1MxURclQHraVjf9Xbq5eyuG4xGvG+WYsjWpGK3u8DLEa+2n5nL0EvvGknf00F47ls5fdpgQ+25O0IQABCPgTcBd1/j3wDggkCbgxhcCX5MMRBGpLQJX4jI7NXn6pP+Y74tTOgfRThUCbQgbRpFSBT9s2FSvtTL3pnCeC1Q9+5RJVt3F2l8MpC8v4ns+kG/2acy27Lh9qZqqiZCTdjrLxF7m9fi3H4xKvGeebsTSqGa3s8TLEauyn5XP2EvjGk3b201w4ls9edpsS+GxP0oYABDZBgOd2Qx2Bz7BA4LNY0ITAXAJKJHoeJktUxkKD2kfrWwnD57UpuTebwTd35ttzoVQfqlKtryUMv00X+9q7cvgsTMlGy4u77PHy2rnC+6b+ezYttWseaqbZtWEO8XkFc3grBCAAgU0RMN9/kz+q2JQdjLs9BNyYUsf8gwAEtoiAEvpeRskSlbHQoDLavpMoelmbknuzGXxb5Kt5UynVh6pU6w8SRd+li32dfTl+EaVko80zftn5ssdbZs8ark/992JaatdkB06za6Mc4vMazKRLCECg+gR4bjc+YsViWCDwWSxoQqApBBop8DXFucwTAhCAAAS2moC7qNvqyTK5Ugi4MYXAVwp2BoEABHISaKTAl5MVb4MABCAAge0iwHO78ScCn2GBwGexoAmBphBA4GuKp5knBCAAAQhsGwF3Ubdt82M+5RNwYwqBr3wfMCIEIJCdAAJfdlbcCQEIQAAC20WA53bjTwQ+wwKBz2JBEwJNIYDA1xRPM08IQAACENg2Au6ibtvmx3zKJ+DGFAJf+T5gRAhAIDsBBL7srLgTAhCAAAS2iwDP7cafCHyGBQKfxYImBJpCAIGvKZ5mnhCAAAQgsG0E3EXdts2P+ZRPwI0pBL7yfcCIEIBAdgIIfNlZcScEIAABCGwXAZ7bjT8R+AwLBD6LBU0INIUAAl9TPM08IQABCEBg2wi4i7ptmx/zKZ+AG1MIfOX7gBEhAIHsBBD4srPiTghAAAIQ2C4CPLcbfyLwGRYIfBYLmhBoCgEEvqZ4mnlCAAIQgMC2EXAXdds2P+ZTPgE3phD4yvcBI0IAAtkJIPBlZ8WdEIAABCCwXQR4bjf+ROAzLBD4LBY0IbC1BEa/SPjwQernffZ/Dm3p9C5ltLUwmBgEIAABCECgvgTc/2/XdyZYXhUCbkypY/5BAAIQqAyB0a8SdT+TIAgy/NeRvf571rKVcR6GQAACEIBAkQR4bjc0WbEYFqk/+FuXaUIAAttAwEvgeyAPw19YFG2D35kDBCAAAQhsHQF3Ubd1E2RCpRNwYwqBr3QXMCAEILCIgJfA95l0o19Zyy7iyTUIQAACEKgtAZ7bjesQ+AwLBD6LBU0IQAACEIAABCAAAQhUmYC7qKuyrdhWDwJuTCHw1cNvWAkBCEAAAhCAAAQg0CwCPLcbfyPwGRYIfBYLmhCAAAQgAAEIQAACEKgyAXdRV2Vbsa0eBNyYQuCrh9+wEgIQgAAEIAABCECgWQR4bjf+RuAzLBD4LBY0IQABCEAAAhCAAAQgUGUC7qKuyrZiWz0IuDGFwFcPv2ElBCAAAQhAAAIQgECzCPDcbvyNwGdYIPBZLGhCAAIQgAAEIAABCECgygTcRV2VbcW2ehBwYwqBrx5+w0oIQAACEIAABCAAgWYR4Lnd+BuBz7BA4LNY0IQABCAAAQhAAAIQgECVCbiLuirbim31IODGFAJfPfyGlRCAAAQgAAEIQAACzSLAc7vxNwKfYYHAZ7GgCQEIQAACEIAABCAAgSoTcBd1VbYV2+pBwI0pBL56+A0rIQABCEAAAhCAAASaRYDnduNvBD7DAoHPYkETAhCAAAQgAAEIQAACVSbgLuqqbCu21YOAG1MIfPXwG1ZCAAIQgAAEIAABCDSLAM/txt8IfIYFAp/FgiYEIAABCEAAAhCAAASqTMBd1FXZVmyrBwE3phD46uE3rIQABCAAAQhAAAIQaBYBntuNvxH4DAsEPosFTQhAAAIQgAAEIAABCFSZgLuoq7Kt2FYPAm5MIfDVw29YCQEIQAACEIAABCDQLAI8txt/I/AZFgh8FguaEIAABCAAAQhAAAIQqDIBd1FXZVuxrR4E3JhC4KuH37ASAhCAAAQgAAEIQKBZBHhuN/5G4DMsEPgsFjQhAAEIQAACEIAABCBQZQLuoq7KtmJbPQi4MYXAVw+/YSUEIAABCEAAAhCAQLMI8Nxu/I3AZ1gg8FksaEIAAhCAAAQgAAEIQKDKBNxFXZVtxbZ6EHBjCoGvHn7DSghAAAIQgAAEIACBZhHgud34G4HPsEDgs1jQhAAEIAABCEAAAhCAQJUJuIu6KtuKbfUg4MYUAl89/IaVEIAABCAAAQhAAALNIsBzu/E3Ap9hgcBnsaAJAQhAAAIQgAAEIACBKhNwF3VVthXb6kHAjSkEvnr4DSshAAEIQAACEIAABJpFgOd2428EPsMCgc9iQRMCEIAABCAAAQhAAAJVJuAu6qpsK7bVg4AbUwh89fAbVkIAAhCAAAQgAAEINIsAz+3G3wh8hgUCn8WCJgQgAAEIQAACEIAABKpMwF3UVdlWbKsHATemEPjq4TeshAAEIAABCEAAAhBoFgGe242/EfgMCwQ+iwVNCEAAAhCAAAQgAAEIVJmAu6irsq3YVg8Cbkwh8NXDb1gJAQhAAAIQgAAEINAsAjy3G38j8BkWCHwWC5oQgAAEIOBJYHQpvU578v+S9iM5vRl5dsDtEIAABCDgQ8Bd1Pm8l3shkEbAjSkEvjRKnIMABCAAga0jMHov/b2OBEEgQeexnN2ylt06HzMhCGwZAZ7bjUMR+AwLBD6LBU0IQAACEPAkgMDnCYzbIQABCKxGwF3UrdYb74aAsB4kCCAAAQhAoJkEEPia6XdmDYEaE3DXgk3+wzwEPiuQCQwLBk0IQAACEPAjgMDnx4u7IQABCKxIwH12X7E73g4BBD5iAAIQgAAEmkkAga+ZfmfWEKgxAXctiMBXY2cWaTqBUSRN+oIABCDQMAIIfA1zONOFAAQ2TcB9dt+0PYxffwJuTDX5h4L6e5MZQAACEIBAZgIIfJlRcSMEIFANAjy3Gz+QwWdY8BebFgua209gNPhJfrqjrvr2e5oZlkYAgc8T9Z0MBnee7+F2CEAAAoaAu6gzV2hBIB8BN6YQ+PJx5F0QWDeB0fBn+fmetey6OdN/gwgg8Hk6+16Gw3vP93A7BCBQJAGe2w1NBD7DAoHPYkFzewmMBucSHu5Ku9WSdvdUbrZ3qswMAhCoLIF/ylXvc2m12hJ0e3J6xTdRZV2FYRCoMAF3UVdhUzGtJgTcmELgq4njMLMxBEbDC4mO96UTBNI5OJPbxsyciUIAAtUh8C+57n8pQdCRnYO+nF3zTVQd32BJkwjw3G68jcBnWCDwWSxobiGB0UDOn3QlaLUmsR505cn5QPi7xy30NVOCQA0IjAbfy9Hug+n/ex/I7mEo54NPNbAcEyEAgaoQcBd1VbELO+pLwI0pBL76+hLLt4zAaCgXTw9kJwgkUP/tHMjTiyFr2S1zM9OBQF0IjIY/ysn+Z5Pvo+Az2T+O5GLIWrYu/sPO7SDAc7vxIwKfYYHAZ7GguU0EbuTq1ZHstqfCXntXDsNzGaDsbZOTmQsEakrgRq5Oe9IN2tP/B3ek++Qt30819SZmQ6BsAu6iruzxGW/7CLgxhcC3fT5mRnUjcCvXb05kvzMV9jr7chxdyJC1bN0cib0Q2EICt3J91peDnc5U6NuTg6fv+H7aQk8zpWoS4Lnd+AWBz7BA4LNY0NwGAp9kcP619cO5ypB5KVfsu7cNzmUOENguAirDODxM/iHCqythh77tcjOzgUDRBNxFXdH901/zCLgxhcDXvBhgxlUh8EmGF8+sH85VhsxruWbfvao4CDsgAAFNQGUYR8fJP0R4cy3s0KcB8QqB9RDgud1wReAzLBD4LBY060xgJHdXL+UwLn2n9rj6mtJ3dXYptkOgKQTuruS0RynhpribeUJgVQLuom7V/ng/BNyYQuAjJiBQNoGR3F+/luO49J3a4+oZpe/KdgPjQQAC/gTur+WsTylhf3C8AwL5CPDcbrgh8BkWCHwWC5r1JDAavJUn3U4cy+3dI3l1dVPgZJR4+FrC8MTKDJyW/mypDMFvJXyep/znJ/kQfiltvT+g+xocyXla5uHoFwkf6j28tB36tS3B4dvZDKB57+n05CpR6kWVDnwuzw53HbuUYHoiYfg6XzbkvPHVnGdsmLhuNDiX5wnmyoaenOby7bp8mB5mE9u/tQRn7Z+WtHcP5VkYxeLz6EMoD9ufS+/qn+mdZTy7/jGXxOs4flefx9zpqmy352GxsZkWl248KvEtEYfKl9PP/Wmx2Xbr/y6bS5cLEIBAjQi4i7oamY6pFSXgxhQCX0UdhVlbSWA0fCdPD/ampe4C6eyfyJvr2wLnqsTDHySKvrEyA6elP8d7aH0n0cs85T8/ycfoz9LR+wO6rzsncpGWeTj6VaKu3sNL26FfO7Jz/G42A2jee/b6cp1Yy6rSgS/lxfG+Y5cSTL+RKPohXzbkvPHVnGdsmLhuNLyQlwnmyoa+nOXy7bp8mB5mE9u/swRn7R8Vn8fyIvpbLD6PPkbS7Xwp/et/pXeW8ez6x1wSr+P4XX0ec6erst1eRsXGZlpcuvGoxLdEHCpfqszg7yQ6Kzbbbv3fZXPpcgECjSLAc7txNwKfYRGLInaAWJdpQqC6BNae9eJmBRqRxv68mLbvPlpLBJNSBT411zBFwEybc46yp2lCihY0XUFFCTlPrGwmfV/8+kB2j77PuF/Zun2Y/Hi4Ao2JjXkcQwkP/6e0Wm3p9C4lsT5Ndj33qLwxl8Tr2gQ+Zz/NOA7SmHp+BtPiMo7HG7kKH0mwcLyWtIK/yOmgyI3F3ZglG3lu8HMBAg0l4P6/paEYmHaBBNyYUsf8gwAE1kxg7VkvblagEWkCV4wbH/vuo7VEMClV4FNzjVIEzLQ55yh7miakaIauoKKEnKdWNpO+L379TPZPfsy4X9m6fZiMcVegSY8TzVRxjCQ6/t8SBB3Z67/Pt5Z1BO71jbkkXsf+WYfA5+ynGceB5mi/en4G0+IyjsdbuY4ey87C8QIJdo7kbFjsWpZs5OTniiMIFE2A53ZDlBWLYYHAZ7GgWRMCpexb9UkGp38xP+4HXemFz2ezx8ZZRc+kl8ggfCKXaZl3c/HeyGXv4SRjzlcsuPu79MZlSdsSPHqVUfQSGV31pKOEi7GYkRQyxhlmMxmJam/DSMJEGcFHEubKppuASNqgzrkioxIS/9MwT/j9D9I9/cdcopMLZfpQZJKJNxWdxvFisvQSho4zwtzsvnwC3ybGTMxFH4wupddpS6tVcAZfHN+K67ysubTYzCG63ZxKtz39TPx7IG+Pplms7V05fOZmrqpM1/80GZq+n1vNbeGru59oR7q903wZtAvH4SIEIFA3Au6irm72Y2/1CLgxhcBXPR9h0RYRKGXfqk8yPDsyP+7vHEg/ejmbPTbOKnoh/UQG4VN5n5Z5N9cFt/K+351kzPmKBfeX0h+XJe3IzuM3GUUvkdF1X/aUcDEWM5JCxjjDbCYjUe1t+DeJEmUEH0uUK5tuAiJpgzrnioxKAHtumCf8/ic5OPuvuUQnF8r0ocgkE28qNo3jxWTpJQwdZ4S52X35BL5NjJmYiz4YvZf+XkeCoGCBL45vxXVe1lxabOYQ3W7P5KAz/Uz8eyjvTqZZrJ19OX7hZq6qTNfnJkPT93OruS18dfcT3ZOD/lm+DNqF43ARAs0jwHO78TkCn2GBwGexoFl1AupH9Z6VZbauH7ztTKWOdMPL2ZKXM6iSWTftXV+RzxKjgozCWSx++Il7ynQjrv2HPDuZiovtXTl6O1j6l3eJjLEVhA1jgyoT6oqMX8nbOVlRk1KUruDiOqRkH8aZYD7ZhZbP82TwbWJMF7M+XofAF8e3Kmuasezu3aWEWmz3jc1Y4DOfifbu/DgcT330QU4fTcoDt7unUmRhYI1WxMlgVIJjmKcksOmRFgQgUG8C7qKu3rPB+ioQcGMKga8KXsGG7SOgflTvW1lm6/rB285U2pOD6P1sycsZuMlMsc6+r8hniVE7GYWzWPzwE/eU6UZc+0pefDMVFzv7cvJuuHwta2eMrSBsGBtUmVBXZPyrvJuTFTUpRekKLq5DSvZhnAnmk11o+TxPBt8mxnQx6+N1CHxxfHuU3b1/L5EW231jMxb4zGeisz8/DsdTH32Us8eT8sCdgzMpsjCwRiviZDAqwTHKUxLY9EgLAk0nwHO7iQAEPsMCgc9iQbOqBFQmS2iyZcaZPGG8h1mxVo/k7vxokrnXfii9S8+f7OMf/OfshbfQWEvwWTL2aPC9HOXI3NPDx+KaLj/oK4bE82xJ+2EoH3LUloxtCLpyEu/5l1VQ1TNJey3fh/Fc4vKOaXalnftNzg//mKtE5ybGTJvB+FzRAl8cX6o8ZeiZtWZnxM7ZxzJtIlrgiz8TGd9b9NzTbFPn3NK1Kku04D0A5w3NeQhAoFoE3EVdtazDmjoScGMKga+OXsTm6hJQmSyRyZYZZ/JE8R5mxdo9kvuLk0nmXqcr/feeP9nHP/jP2QtvobGW4LNk7NHwRznJkbmnh4/FNV1+0FcMiecZSKcbycc8a1mdRbhzIN/Ee/5lFVT1TNJey/dhzDMu75hmV9q53+Xi+ItcJTo3MWbaDMbnihb44vhS+y5GnllrdkbsnH0s0yaiBb74M5HxvUXPPc02dc4tXauyRAveA3De0JyHwLYR4LndeBSBz7BA4LNY0KwaAZUVd2qVv1Q/9vdMycZ1mBv/WP9HOTz/Ld8IceZRnj6Wi3yjwSt5FKhyiD7ZYsmpxOLQWMzIY6d6SPtFwocPpNXKUi4zOb46Stqg9jLLmLk421XyzAZ8qOfin8WlxUj/0pabGDMJ2jqKmfvPw+pl2hzJzemjccla/0xY3YXOrPMofWoLfF6C9z/lqvd5LpF2du7Lz6gM1jAWxFV246GE58szb5f3zB0QgEBdCLiLurrYjZ3VJeDGFAJfdX2FZXUioLLizqzyl+rH/r4p2biOqcQ/1n8hxxe/5xshzjzK08dykW80fCOPd1Q5RJ9sseRUYnFoLGbksVMtRn+VqPuZBEGWcpnJ8dVR0ga1l1nGzMXZrpJnNuBDPRf/LC4tRvqXttzEmEnQ1lHM3H8eVi/T5khuzx6PS9b6Z8LqLnRmnUfpU1vg8xK8/yXX/S9zibSzc19+RmWwRrEgrrIbjyW6WJ55u7xn7oBAcwjw3G58jcBnWCDwWSxoVomA+ZFff3n5iye+8zFjrjpWfvFF2Txf5EuIe72/Zygdms5A29dq5ck0NH3G/XhnriUFvqWlEM2QS1ob8mEsDnXk0emHpaVhlkwi2+VNjDnPsiIFvqL60nzaj+T0JsOf5er7W76Ct445DzFxHsfM57WoON3zMU+J18xjcSMEIFA1Avq5SL9WzT7sqR8BHUv2a/1mgcUQqBIB8yN/MM2o8RdPfOdjxlx1rPzii7J5vsiXEPf6lxlKh6Yz0PYFQZ5MQ9Nn3I935lpS4FtaCtEMuaS1IR/G4tCePD77WM5adhNjzqNfpMBXVF+aT+exnN1mWMvq+wNfwVvHnIeYOI9j5vNaVJzu+ZinxGvmsbgRAttHwH5e1+3tm2W2GSHwWZx0MNiv1mWaENgggbIz+P4hp90/SKtVQBaSzm7LKi7MUB7J3eUT2W23pDUt11mUuKeGioW5leean1lsQw5xcAZXfCK/PXEXuuHlQ3vPv0lW1bPw+XqzTWUTY2o4zmtRopwVm6uK7CJaBMuYYaoFPu94LFfgI4PPiT0OIdBAAvYzu2rzDwKrEnBjirhalSjvh4AiUHYG33/J2cGfJAgKyELS2W1ZxYUZh4/k/v1T2e8EEkzLdRYl7o3J6vKYK881P7NVxMEZXPGJ/PbEXeiGlw/tPf8mWVUvopfrzTaVTYyp4TivRYlyVmbnqiK7iBbBMmaYaoHPW6wuV+Ajg8+JPQ4hkIMAz+0GGithw4IMPosFzaoSKGkPPv0Df25RzubnKS7Yb40jm8jaAAAgAElEQVTblsin9wVTZTlXyNzTXcfi2spzzT/P2AZvQUXPIuV1oz68kavw0WT/xthfOsNKvaoSsycShqGE4WvPfeVS5jo+tYkxU2wpTODT8VRMNpyOsUxioY4d73gsSeBjD76UwOMUBJpJwF3UNZMCsy6SgBtTCHxF0qUvCJS0B5/+gT+3KGd7ylNcsN8aty2RT+8LpspyrpC5p7uOxbWV55p/nrEN3oKKnkXK60Z9eCvX0ePJ/o2xv3SGlXpVJWa/kSiKJIp+8NxXLmWu41ObGDPFlsIEPh1PxWTD6RjLJBbq2PGOx5IEPvbgSwk8TkEgHwGe2w03BD7DAoHPYkGz6gRu5Oq0J93x/nNKMOlIt3dakFAiIvoH/lRxxhZqfNqrChVa8JiMmUmoyOBGLXy0vMUMt3Ntn/88i7PBsqkCPlQZVs/DEytO58dLe/dIXl3dWBPI19zEmAlLCxP4dAZmxqy7hBGzB14xpmPH+zOxboHvRq5eHU2yedV3U3tXDsNzGWSo1DJLhDMQgMA2EHAXddswJ+awWQJuTCHwbdYfjL6tBG7l+qwvB+P955RgsicH/bOChBIR0T/wp4oztlDj015VqNCCx2TMTEJFBvdr4SPwFjPczrV9/vMszgbLpgr4UGVYvYy+seJ0frx09k/kzfWtNYF8zU2MmbC0MIFPZ2BmzLpLGDF74BVjOna8PxPrFvhu5frNySSbV303dfblOLqQIWvZWYdzBgIZCfDcbkAh8BkWCHwWC5o1IaAyWcLD5A/er65y70cXz1r/wF8ZgS8tg6+YPd68hI8YUFoDgS+NSvKcEqafTzP3Qnl2uCvtRIwVk5W50TErKvDFon0W0U5//rPcm4C9LoFPZS5/bQnFBf9BQ2IOHEAAAnUi4C7q6mQ7tlaTgBtTCHzV9BNWbQkBlckSHSd/8H5znXs/upiK/oG/MgJfWgZfMXu8eQkfMaC0BgJfGpXkOSVMv5xm7kXy4nhfOokYKyYrc6NjVlTgi0X7LKKd/vxnuTcBe10Cn8pcfmYJxQX/QUNiDhxAoFkEeG43/kbgMywQ+CwWNGtG4O5KTntdUxIx6MqT80H+TaH1D/wrl60sgqMt7ilR7//JzVU4/bF/dZEvFvhWnqsW+PwzrmIbvAWVBXwr5cMFdoq7v+QDeRj+kj92Fw0VX1vjmBUV+LxiTMeOdzwWLfApP72Uw90H0/8/q9KuX8v54FPsSRoQgECzCbiLumbTYPZFEHBjCoGvCKr0AYElBO6v5ax/YEoi7hzI04th/vWA/oF/5bKVS+zOdNkW95So90Fur6Ppj/2ri3yxwLfyXLXA559xFdvgLagsAFgpHy6wc2Z/yc+kG/2aP3YXDRVfc/e0LHDMigp8XjGmY8c7HosW+JSfXsvx/mcSjIVgVdr1mVwMWcvGoUwDAisS4LndAETgMywQ+CwWNOtJYDR4K0+6nTiWc5c9LEykWJXjJxm8/WqaoZgU80aDV/JoXKJ0tayvWPhofS69q3/mN3gFZrEN3oLKAnNXsGdBr2u89EkGp3+ZiNRFclho8RrGLIy7Foz9S77OTlkLby3JVNq2AgJfYd9lszA4AwEIbBEBd1G3RVNjKhsi4MYUAt+GHMGwjSQwGr6Tpwd70x/DA8ld9rAwkWJVN3yS4bu/TjMUk2LeaPhGHo9LlK6W9RULH8GX0r/+V36DV2AW2+AtqCwwdwV7FvS6xkufZHh2NBGpi+Sw0OI1jFkYdy0Y+5d8nZ2yFt4CyVTatgICX2HfZbMwOAMBCFgEeG43MBD4DItYFLEDxLpMEwI1IVBE1kuR4kJebJb40t6Vo7ezGYlFiHyxuNZqS3D4Nnd507ifHOLUKu+dT7cKPpxvXfoVve/cimJreudzzhY8ZmECn4iOi0yi3JzZTU7rWMiYXbpJga/obOSFXLgIAQjUnYD9zI4QU3dvVsN+N6aIq2r4BSuaRKCIrJcixYW87C3xpbMvJ+9mMxKLEPlicS3oyM7xu9zlTeN+cohTq7x3Pt0q+HC+delX9L5zK4qt6Z3POVvwmIUJfCI6LjKJcnNmNzmtYyFjdukmBb6is5EXcuEiBCDAc7uJAQQ+wwKBz2JBcxsIuPtWPZDdw5dydZdtF9/Rh1AetlvSWrl0ZR6Wtrj3UHqXN3M7WVXk0yLK5H8Mf5TD89/mjjX3wugXCR+qMoIZBRSno9iGHOKg01XisGwfTsZbpcSmpxAlIpsYMwHZPShQ4JO4r5xxqW3Tgl3Wz7K+3zsedaZgjqzDde0nqhnwCgEIbCUBd1G3lZNkUqUScGNKHfMPAhDYBAF336rPZP/4tVzfZ1zLfoyk2wkkWLl0ZZ652+JeV/rvb+d2sqrIp0WUSQnAL+T44ve5Y829MPpVoq4qI5hRQHE6im3IIQ46XSUORyX7cDLeKuUuPYUotZYdz7HcMROQ3YMCBT6J+8oZl9o2Ldhl/Szr+73jUWcK5sg6XNd+opoBrxCAQCoBntsNFlYshgUCn8WC5jYRuJGrV0fTMpdKsNuVw/BcBkvXRr/J+eEfpaUy2x69ynB/Ucyyi3t6xNHgezka79PlX64zFtdarcl3QPAXOfXZ42v0QU4fTcqith+G8mEpV221eY1t8BZUTB/prTJ9qMWdjGUgUw32zabbxJiphpuTsShXRBaiNb/dJ3KZUZw3xowV0Gl8eohupQp8N3J12pvuqak+gx3pPnlb4vdNghYHEIBAzQi4i7qamY+5FSTgxhQCXwWdhEkNI3Ar129OpmUulWC3L8fRhQyXrrl+l4vjLyRQmW2P32S4vyis2cU9PeJo+KOcjPfp8i/XGYtr4z2+Agl2juTMZ4+v0Uc5ezwpi9rpRvJxKVdttXmNbfAWVEwf6a0yfajFnYxlIFMN9s2m28SYqYabk7EoV0QWojW//afyPqM4b4wZK6DT+PQQ3UoV+G7l+qw/3VMzkCDYk4On70r8vknQ4gACjSPAc7txOQKfYYHAZ7GguYUEVIbMk+5kjzMlZgVdeXI+W/YyMfO7v0tvLJytIvLpffSyZCH5i3uxvTltNeLaf8izk4fSVmzmlASNx5o2EvuE+QqDVmfGhp5c5VhUWV3NNnNySXaUxYdGjGq1v5Twg+/m0SO5u3wyEaIzC52bGDNJZuaoUIEvKdAF3TBzBu7YrtFA3h7tTmI6OJLzrAJhSQKfEeaVsKcyjEM59xHXZ+BzAgIQaBoBd1HXtPkz3+IJuDGFwFc8Y3qEQC4CKkPm6cFkjzMlZu0cyNOL2bKXib7vL6U/Fs5WEfn0PnpZspD8xb3Y3py2GnHtK3nxTVc6is2ckqDxWNNGYp8wX2HQ6szY0JfroteyOblY5olIFh8aMSro/Fmij/5r2fv3TydCdGahcxNjJsnMHBUq8CUFup2DKHMG7tiu0VDenexPYnrnRC6yCoQlCXxGmFfCnsowjuTCR1yfgc8JCEDAlwDP7YYYAp9hgcBnsaC5vQRGg3MJDyc/+mfZ28uUwGxJe/creZv5B3i1F+Cp9LqT7LZWa5nAdyOXvanAFjyS8Gp+Wc653skhZiXFNcuGlprvoTx77mY7qtKnkYQ9Wyz1zPpzJpC0wblYwGE5PrTEtqwCcjw3S9xbGifxm9SKQW5OH00ErNLGtMdPaRct8Kkh4rhWMXkkrzJ8NlYSn0sR+HQ51rYE3Z6cZphTCm1OQQACDSfgLuoajoPpF0DAjSkEvgKg0gUECiQwGl5IdDz50T/L3l6mBGYgnf2/yrvMP8CrvQDPpH8wyW4LgmUC3628708Ftp3HEl3PL8s5F0cOMSsprlk2BGq+x/LipZvtqEqf/k2ivi2Wemb9ORNI2uBcLOCwHB9aYltWATme20hicW9pnMRvGq9lb88eTwSs0sa0x09pFy3wqSHiuFYxeSJvMnw2VhKfSxH4dDnWjuwc9OUsw5xSaHMKAhBYkQDP7QYgAp9hgcBnsaC5/QRGg5/kp4wZPclMG/WD/ImEM8KXYqbK7T2XMDyxSu4ty4j7JB/CL41Io4Qa97+52Ue6BGXKe6Z9LCubOSuuuXsXzu97knWUfV9Ds6faoj6XXfMotWiF8Xp9qAYyYls7COS/a/5KJA2j9Mysuys5DZ9ZIrBvidWyx8wQq27sLjheFpuW+xIi3yTuvpXw9EruEjflFZ9Hcnd+ZLJ702xekJUZ7/WY9r6Fgu2dDAbJGSSmwwEEIACBJQTc54Ult3MZAksJuDGljvkHAQhUj8Bo+LP8nDGjJ5lpo36Q/0aiGeFLzVGV23spUfSNVXJvWUbcJ/kY/dmINEqocf+bm32kS1CmvGfax7KymbPimrt34fy+J1lH2fc1NHuqLepz2TWPUotW2K3Xh2ogI/B1dnbkf2n+SiSN/paemXV/LWfRC0sE9i2xWvaYGWLVjd0Fx8ti03JfQuSbxN13Ep1dy33iprzi80juL05Mdm+azQuyMuO9HtPet1CwvZfhMDmDxHQ4gAAE1k6A53aDmBWLYTErKrCgs+jQbDwBVeIzPDR7+aX+mO+IU0FXeqlCoE0zg2hSqsCnbZuKlXam3nTO48y+8LVfuUTVbZzd5XDKwjK+54E8DH+RXNVP1ubDCbOJ0KPs+79yc/VSDsflXTPONWNZVO0d/VrumBliNfbT8nl7CXzjCTv7aS4cy2cvu00JfNqLvEIAAhDIR8Bd1OXrhXdBwBBwYwqBz7ChBYFaE1AlPqNjs5df6o/5jji1cyD9VCHQJpFBNClV4NO2TcVKO1NvOudxZl/0g1+5RNVtnN3lcMrCMr7nM+lGv+Zcy67LhxNmE6FH2feL3F6/luNxedeMc81YFlV7R7+WO2aGWI39tHzeXgLfeMLOfpoLx/LZy25TAp/2Iq8QgMCmCPDcbsgj8BkWCHwWC5oQmEtAiUTPw2SJylhoUPtofSth+Lw2JfdmM/jmznx7LpTmQ1Wm9bWE4bfpYl97Vw6fhSmZaKug3sSYq9ib471T/z2blto1DzXT7No84nMOM3gLBCAAgU0TMN9/kz+q2LQ9jF9/Am5MqWP+QQACW0RACX0vo2SJylhoUPtofSdR9LI2JfdmM/i2yFfzplKaD1WZ1h8kir5LF/s6+3L8IkrJRJtneJbzmxgzi10F3jP134tpqV2T8TrNrs0jPhdoHl1BAAL1IcBzu/EVKxbDAoHPYkETAk0h0EiBrynOZZ4QgAAEILDVBNxF3f9n735eG1nuf//r39D6bs/us/uuetWLm8V8IQS+C2PMnM2F2XkhGMgi3IXvgMGrgMEgMoSJ+JhBh4GhYTjEDINyFnMwg+GzMMYRCfcMHsGHkOMfkDOE5v2lJFVXqdSSulutdrX6GTi49av7XY8qO916TVVvdWNpXCUC7pgi4KuEnYMggEBBgUYGfAWt+BgCCCCAwHYJcN5u+pOAz1gQ8FkWbCLQFAECvqb0NO1EAAEEENg2AfeibtvaR3uqF3DHFAFf9X3AERFAILsAAV92K96JAAIIILBdApy3m/4k4DMWBHyWBZsINEWAgK8pPU07EUAAAQS2TcC9qNu29tGe6gXcMUXAV30fcEQEEMguQMCX3Yp3IoAAAghslwDn7aY/CfiMBQGfZcEmAk0RIOBrSk/TTgQQQACBbRNwL+q2rX20p3oBd0wR8FXfBxwRAQSyCxDwZbfinQgggAAC2yXAebvpTwI+Y0HAZ1mwiUBTBAj4mtLTtBMBBBBAYNsE3Iu6bWsf7alewB1TBHzV9wFHRACB7AIEfNmteCcCCCCAwHYJcN5u+pOAz1gQ8FkWbCLQFAECvqb0NO1EAAEEENg2AfeibtvaR3uqF3DHFAFf9X3AERFAILsAAV92K96JAAIIILBdApy3m/4k4DMWBHyWBZsIbK1A/HfpP/0m9fd9/v8c2hJ2LyXeWgwahgACCCCAQH0F3P/frm9LqNwXAXdMqcf8DwEEEPBGIP5Jos4TCYIgw3+h7PWuuZb1pvMoBAEEEECgTAHO240mVyzGIvULf+tlNhFAYBsEcgV838jT/t+5KNqGfqcNCCCAAAJbJ+Be1G1dA2lQ5QLumCLgq7wLOCACCCwTyBXwPZFO9BPXsss8eQ0BBBBAoLYCnLebriPgMxYEfJYFmwgggAACCCCAAAII+CzgXtT5XCu11UPAHVMEfPXoN6pEAAEEEEAAAQQQaJYA5+2mvwn4jAUBn2XBJgIIIIAAAggggAACPgu4F3U+10pt9RBwxxQBXz36jSoRQAABBBBAAAEEmiXAebvpbwI+Y0HAZ1mwiQACCCCAAAIIIICAzwLuRZ3PtVJbPQTcMUXAV49+o0oEEEAAAQQQQACBZglw3m76m4DPWBDwWRZsIoAAAggggAACCCDgs4B7UedzrdRWDwF3TBHw1aPfqBIBBBBAAAEEEECgWQKct5v+JuAzFgR8lgWbCCCAAAIIIIAAAgj4LOBe1PlcK7XVQ8AdUwR89eg3qkQAAQQQQAABBBBolgDn7aa/CfiMBQGfZcEmAggggAACCCCAAAI+C7gXdT7XSm31EHDHFAFfPfqNKhFAAAEEEEAAAQSaJcB5u+lvAj5jQcBnWbCJAAIIIIAAAggggIDPAu5Fnc+1Uls9BNwxRcBXj36jSgQQQAABBBBAAIFmCXDebvqbgM9YEPBZFmwigAACCCCAAAIIIOCzgHtR53Ot1FYPAXdMEfDVo9+oEgEEEEAAAQQQQKBZApy3m/4m4DMWBHyWBZsIIIAAAggggAACCPgs4F7U+VwrtdVDwB1TBHz16DeqRAABBBBAAAEEEGiWAOftpr8J+IwFAZ9lwSYCCCCAAAIIIIAAAj4LuBd1PtdKbfUQcMcUAV89+o0qEUAAAQQQQAABBJolwHm76W8CPmNBwGdZsIkAAggggAACCCCAgM8C7kWdz7VSWz0E3DFFwFePfqNKBBBAAAEEEEAAgWYJcN5u+puAz1gQ8FkWbCKAAAIIIIAAAggg4LOAe1Hnc63UVg8Bd0wR8NWj36gSAQQQQAABBBBAoFkCnLeb/ibgMxYEfJYFmwgggAACCCCAAAII+CzgXtT5XCu11UPAHVMEfPXoN6pEAAEEEEAAAQQQaJYA5+2mvwn4jAUBn2XBJgIIIIAAAggggAACPgu4F3U+10pt9RBwxxQBXz36jSoRQAABBBBAAAEEmiXAebvpbwI+Y0HAZ1mwiQACCCCAAAIIIICAzwLuRZ3PtVJbPQTcMUXAV49+o0oEEEAAAQQQQACBZglw3m76m4DPWBDwWRZsIoAAAggggAACCCDgs4B7UedzrdRWDwF3TBHw1aPfqBIBBBBAAAEEEECgWQKct5v+JuAzFgR8lgWbCCCAAAIIIIAAAgj4LOBe1PlcK7XVQ8AdUwR89eg3qkQAAQQQQAABBBBolgDn7aa/CfiMBQGfZcEmAggggAACCCCAAAI+C7gXdT7XSm31EHDHFAFfPfqNKhFAAAEEEEAAAQSaJcB5u+lvAj5jQcBnWbCJAAIIIIAAAggggIDPAu5Fnc+1Uls9BNwxRcBXj36jSgQQQAABBBBAAIFmCXDebvqbgM9YEPBZFmwigAACCCCAAAIIIOCzgHtR53Ot1FYPAXdMEfDVo9+oEgEEEEAAAQQQQKBZApy3m/4m4DMWBHyWBZsIIIAAAggggAACCPgs4F7U+VwrtdVDwB1TBHz16DeqRAABBBBAAAEEEGiWAOftpr8J+IwFAZ9lwSYCCCCAAAIIIIAAAj4LuBd1PtdKbfUQcMcUAV89+o0qEUAAAQQQQAABBJolwHm76W8CPmNBwGdZsIkAAggggAACCCCAgM8C7kWdz7VSWz0E3DFFwFePfqNKBBBAAAEEEEAAgWYJcN5u+puAz1gQ8FkWbCKAAAIIIIAAAggg4LOAe1Hnc63UVg8Bd0wR8NWj36gSAQQQQAABBBBAoFkCnLeb/ibgMxYEfJYFmwgggAACCCCAAAII+CzgXtT5XCu11UPAHVMEfPXoN6pEAAEEEEAAAQQQaJYA5+2mvwn4jAUBn2XBJgIIIIAAAggggAACPgu4F3U+10pt9RBwxxQBXz36jSoRQAABBBBAAAEEmiXAebvpbwI+Y0HAZ1mwiQACCCCAAAIIIICAzwLuRZ3PtVJbPQTcMUXAV49+o0oEEEAAAQQQQACBZglw3m76m4DPWBDwWRZsIoAAAggggAACCCDgs4B7UedzrdRWDwF3TBHw1aPfqBIBBBBAAAEEEECgWQKct5v+JuAzFgR8lgWbCCCAAAIIIIAAAgj4LOBe1PlcK7XVQ8AdUwR89eg3qkQAAQQQQAABBBBolgDn7aa/CfiMBQGfZcEmAggggAACCCCAAAI+C7gXdT7XSm31EHDHFAFfPfqNKhFAAAEEEEAAAQSaJcB5u+lvAj5jQcBnWbCJAAIIIIAAAggggIDPAu5Fnc+1Uls9BNwxRcBXj36jSgQQQAABBBBAAIFmCXDebvqbgM9YEPBZFmwigAACCCCAAAIIIOCzgHtR53Ot1FYPAXdMEfDVo9+oEgEEEEAAAQQQQKBZApy3m/4m4DMWBHyWBZsIIIAAAggggAACCPgs4F7U+VwrtdVDwB1TBHz16DeqRAABBBBAAAEEEGiWAOftpr8J+IwFAZ9lwSYCCCCAAAIIIIAAAj4LuBd1PtdKbfUQcMcUAV89+o0qEUAAAQQQQAABBJolwHm76W8CPmNBwGdZsIkAAggggAACCCCAgM8C7kWdz7VSWz0E3DFFwFePfqNKBBBAAAEEEEAAgWYJcN5u+puAz1gQ8FkWbCKAAAIIIIAAAggg4LOAe1Hnc63UVg8Bd0wR8NWj36gSAQQQQAABBBBAoFkCnLeb/ibgMxYEfJYFmwgggAACCCCAAAII+CzgXtT5XCu11UPAHVMEfPXoN6pEAAEEEEAAAQQQaJYA5+2mvwn4jAUBn2XBJgIIIIAAAggggAACPgu4F3U+10pt9RBwxxQBXz36jSoRQAABBBBAAAEEmiXAebvpbwI+Y0HAZ1mwiQACCCCAAAIIIICAzwLuRZ3PtVJbPQTcMUXAV49+o0oEEEAAAQQQQACBZglw3m76m4DPWBDwWRZsIoAAAggggAACCCDgs4B7UedzrdRWDwF3TBHw1aPfqBIBBBBAAAEEEECgWQKct5v+JuAzFgR8lgWbCCCAAAIIIIAAAgj4LOBe1PlcK7XVQ8AdUwR89eg3qkQAAQQQQAABBBBolgDn7aa/CfiMBQGfZcEmAggggAACCCCAAAI+C7gXdT7XSm31EHDHFAFfPfqNKhFAAAEEEEAAAQSaJcB5u+lvAj5jQcBnWbBZP4H45qO87IRmHAcdeXl+I/GGmrLtx9sQG7tFAAEEEEAAgZIE3Iu6knbLbhos4I4pAr4GDwaaXqlAPPokpwd7EgTB5L+dAzm9GG3uWnbLj1dp53EwBBBAAAEEHkGA83aDTsBnLEww0mol29bLbCLgr8D9RzkM2sm4Tf7ItZ9J//PX8uve9uOVL8YeEUAAAQQQQKBkgeR8Z3ruXvLu2V0DBdwxpR7zPwQQ2LDAwyc53glNuKdDvvC3En3ZwLXsth9vw93F7hFAAAEEEPBBgPN20wtcsRiL+XCECzpLh01/BWK5PXsubSuYNn/k2hJ2L0v+l4/bfjx/e5rKEEAAAQQQQMAImPOdyT/OM6+whUAxAXdMqcf8DwEENikQy93ghYQ61Jv5Gcpe77r0a9ntPt4m+4p9I4AAAggg4I8A5+2mL7hiMRYEfJYFm3US2PbArer21anvqRUBBBBAAIHmCrgXdc2VoOVlCbhjioCvLFn2g8AiAQK+Td1SY5E4zyOAAAIIILANApy3m14k4DMWBHyWBZs1E9j2JTOrbl/Nup9yEUAAAQQQaKKAe1HXRAPaXK6AO6YI+Mr1ZW8IpAps+5KZVbcvFZknEUAAAQQQ2C4BzttNfxLwGQsCPsuCzfoJxDcf5WUnNOM4eC79q9uNNWTbj7cxOHaMAAIIIIAAAqUIuBd1peyUnTRawB1TBHyNHg40vkKBePRJTg/2zH34dl5INLzbWAXbfryNwbFjBBBAAAEEPBHgvN10BAGfsTDBiHUvM+tlNhFAAAEEEEAAAQQQQMATAfeizpOyKKPGAu6YIuCrcWdSOgIIIIAAAggggMDWCnDebrqWgM9YEPBZFmwigAACCCCAAAIIIOCzgHtR53Ot1FYPAXdMEfDVo9+oEgEEEEAAAQQQQKBZApy3m/4m4DMWBHyWBZsIIIAAAggggAACCPgs4F7U+VwrtdVDwB1TBHz16DeqRAABBBBAAAEEEGiWAOftpr8J+IwFAZ9lwSYCCCCAAAIIIIAAAj4LuBd1PtdKbfUQcMcUAV89+o0qEUAAAQQQQAABBJolwHm76W8CPmNBwGdZsIkAAggggAACCCCAgM8C7kWdz7VSWz0E3DFFwFePfqNKBBBAAAEEEEAAgWYJcN5u+puAz1gQ8FkWbCKAAAIIIIAAAggg4LOAe1Hnc63UVg8Bd0wR8NWj36gSAQQQQAABBBBAoFkCnLeb/ibgMxYEfJYFmwgggAACCCCAAAII+CzgXtT5XCu11UPAHVMEfPXoN6pEAAEEEEAAAQQQaJYA5+2mvwn4jAUBn2XBJgIIIIAAAggggAACPgu4F3U+10pt9RBwxxQBXz36jSoRQAABBBBAAAEEmiXAebvpbwI+Y0HAZ1mwiQACCCCAAAIIIICAzwLuRZ3PtVJbPQTcMUXAV49+o0oEEEAAAQQQQACBZglw3m76m4DPWBDwWRZsIoAAAggggAACCCDgs4B7UedzrdRWDwF3TBHw1aPfqBIBBBBAAAEEEECgWQKct5v+JuAzFgR8lgWbCCCAAAIIIIAAAgj4LOBe1PlcK7XVQ8AdUwR89eg3qkQAAQQQQAABBBBolgDn7aa/CfiMBQGfZcEmAggggAACCCCAAAI+C7gXdT7XSm31EHDHFAFfPfqNKhFAAAEEEEmKc2gAACAASURBVEAAAQSaJcB5u+lvAj5jQcBnWbCJAAIIIIAAAggggIDPAu5Fnc+1Uls9BNwxRcBXj36jSgQQQAABBBBAAIFmCXDebvqbgM9YEPBZFmwigAACCCCAAAIIIOCzgHtR53Ot1FYPAXdMEfDVo9+oEgEEEEAAAQQQQKBZApy3m/4m4DMWBHyWBZsIIIAAAggggAACCPgs4F7U+VwrtdVDwB1TBHz16DeqRAABBBBAAAEEEGiWAOftpr8J+IwFAZ9lwSYCCCCAAAIIIIAAAj4LuBd1PtdKbfUQcMcUAV89+o0qEUAAAQQQQAABBJolwHm76W8CPmNBwGdZsIkAAggggAACCCCAgM8C7kWdz7VSWz0E3DFFwFePfqNKBBBAAAEEEEAAgWYJcN5u+puAz1gQ8FkWbCKAAAIIIIAAAggg4LOAe1Hnc63UVg8Bd0wR8NWj36gSAQQQQAABBBBAoFkCnLeb/ibgMxYEfJYFmwgggAACCCCAAAII+CzgXtT5XCu11UPAHVMEfPXoN6pEAAEEEEAAAQQQaJYA5+2mvwn4jAUBn2XBJgIIIIAAAggggAACPgu4F3U+10pt9RBwxxQBXz36jSoRQAABBBBAAAEEmiXAebvpbwI+Y0HAZ1mwiQACCCCAAAIIIICAzwLuRZ3PtVJbPQTcMUXAV49+o0oEEEAAAQQQQACBZglw3m76m4DPWBDwWRZsIoAAAggggAACCCDgs4B7UedzrdRWDwF3TBHw1aPfqBIBBBBAAAEEEECgWQKct5v+JuAzFgR8lgWbCCCAAAIIIIAAAgj4LOBe1PlcK7XVQ8AdUwR89eg3qkQAAQQQQAABBBBolgDn7aa/CfiMBQGfZcEmAggggAACCCCAAAI+C7gXdT7XSm31EHDHFAFfPfqNKhFAAAEEEEAAAQSaJcB5u+lvAj5jQcBnWbCJAAIIIIAAAggggIDPAu5Fnc+1Uls9BNwxRcBXj36jSgQQQAABBBBAAIFmCXDebvqbgM9YEPBZFmwigAACCCCAAAIIIOCzgHtR53Ot1FYPAXdMEfDVo98aUWUs0g1FWi2RVlvk7LYRraaRCPgjEF9Lby+UIAgkCF/I4C72p7YyKtn29pVhxD4QQMArAc7bTXcQ8BkLAj7Lgk0EEEAAAQQQQAABBHwWcC/qfK6V2uoh4I4pAr569Numq/zcF2mrYG3Rf1UEbo8Y8N2ci/S7IkFK+9u7Iq/7Iv2+yNnVpnuC/SOwWiD+EkknDCZBnArjxv+Fste7lrUiuW0PwLa9fauHDu9AAIGaCXDebjqMgM9YEPBZFmwigAACCCCAAAIIIOCzgHtR53Ot1FYPAXdMEfDVo982XWVjA757kX5nSbCZEvh1zjbdG+wfgeUCBHzLfRa+SsC3kIYXEEDATwHO202/EPAZi9SAL22w8FwLqxYG/B4wBhgDjAHGAGOAMcAY8GkMWKf1bCJQSCBtPBfaER9qhoCeVbeNM/hikf7TabgXiHTfiNy405/uRc6ms/cOdyfvPTxvRtfTyroI/CLD3jMJgjrM4JvWunMiFw/uL1sF3gR8FSBzCAQQKFOA83ajScBnLAitCK0YA4wBxgBjgDHAGGAMMAYYAzUdA9ZpPZsIFBLgi4JCbM390BYHfHrWolqC8/K+uV2sWx6P/iZ/e4zQRRfAz4ICNQr4koDtmfSGvxRs7xofS46/pfcYXIMm/aMPMho9pL/EswggUIkA5+2GmYDPWPBlTk2/zEn7heY5ZhQwBhgDjAHGAGOAMcAYaNYYsE7r2USgkEDa34xCO+JDzRCoMuCrUtRqV/9zlQf271jx6EKi430Jg0DCg4Hc+VciFS0VKDHgW3qcEl5MArZHCvhKaEJzdmHG1c5BTwZD/jI0p+9pqU8CnLeb3iDgMxbjrbTBwXPN+nKI/qa/GQOMAcYAY4AxwBhgDNRvDDin9TxEILdA2u997p3wgeYIWEHY2e0WNftWpNMWaYUiV4+wUqAXkvFILk4PZCcIJFD/7RzI6cVImsrhRZ8UKsIEMXu9a7/7j4CvUA8/1ofi0Y9ysv9k8vcheCL7x5FcjL4+VjkcF4FGCnDebrqdgM9YjLfSBgfP1e8LHvqMPmMMMAYYA4wBxgBjgDHQnDHgnNLzEIFCAml/MwrtiA81Q2BLA774SiRsNTXgu5PhhxPZD6fBXrgvx9GFjEj2avo7TcBX046rSdl3Mhz05GAnnAZ9e3Jw+om/FzXpPcqsvwDn7aYPCfiMBVsIIIAAAggggAACCCCAAAINFeCLgoZ2fNFmE/AVlfPwc19ldPHa+qJezch5L0Puu+dhX+UpiYAvjxbvLSigZvxGx7P/MODDULhDX0FPPoZARgHO2w0UAZ+xYAsBBBBAAAEEEEAAAQQQQKChAnxR0NCOL9psAr6ich59LpaH4Xs5TpbaC2Xn4DVL7XnUQ+uVQsC3nh+fziXwMJRBj6V9c5nxZgTWEOC83eAR8BkLthBAAAEEEEAAAQQQQAABBBoqwBcF9ev4+yuRfl+kE4i01LKS1n+7hyL9NyI3m1pecUMB3+e+SNtqh90mvd29KqevshxLH3Phz0Dk/L6ceqrcSzz6JKcHe9Ol9QIJ90/kw/Cu5BJUgPiDRNEra3bgdPnP8X27vpPonb0E6DSQ2uvJsOi4VbOJ3kXy9nhfQn0PwfFPFV6+kij6If/MxPgniTr6fmPT+t0aVbgx1041E/I7iQZlzWZSMy3/LJEdoozbtug4RQK+r/Il+q1jp/tM/3wmveEva4yVLMfQx1r2M5Sd4085Z4plOfa67VtCs9Xjc9Luav62zBq7xwx2XkhU+t+z2WPyCIHHFuC83fQAAZ+xYAsBBBBAAAEEEEAAAQQQQKChAnxRUJ+OV8He4e5soLcwgGqJdF5uIOgj4JsEqnUL+CqZZePODFwW0qjXpvfu+ve19PbU/byKBCzO/QNnwj33+DnvFbY04LuTYfRCdpYeL5Bg50gGo68F/8jk8Az35eTTSCb5KAHfPPhjBXzbPD7nlUXcMbvB2cEPn+Q4uQ+g9bse/laiL0V/59LaxHMI+CXAebvpDwI+Y8EWAggggAACCCCAAAIIIIBAQwX4oqAeHX9zJhLoGW6BSLcvcubOaItFzt+IdDsmBGzvilyWOdNsQwHfwl7Qx2uJlDWDL+1Y8ZVIqHxDkauis8jSdvzYz1V2n6yvMhocTQOv6ay5mVl6GmI6G+2tuXdXuP+/5X+Pv6jPGfA9XEovWWZ00Wy2lNlvRUK3u4EchIEEagbfv0fy6WQ6UzDcl+O37uzAOxkO3pglUIscT2YDxHD/WN7OzUKctM3MWnwi+yc/yiguEvDp/kn5Ga8TwKbsz35qk/u2j7Nse1M1bPX4XAaqXlNj076/554c9Ab5Z9EuPEwsd4MXC2achrLXu56G3Qt3wAsI1FaA83bTdQR8xoItBBBAAAEEEEAAAQQQQACBhgrwRYH/HW8vKdnpi2TJ6+zZfqWGfDpwa4uc3VZgp49HwJcTW4VMPWuJzLK/YLfLscK9PEvkxVZQNp4JlyPgs8KTzMuMPlxLpJcnzRu6JQHf7+Xtq844WAj3/yCfls3Oi7/I4MVkOdTwYCDZF0K1Z5vtyUF0vXI5ynj0o5yMw061fOUPctF7JkFQUtCxqQBMDaFN7tseosu2N1HDVo/PZZjua84MRhWIR/byvO77sz4m4Msqxfu2T4DzdtOnBHzGgi0EEEAAAQQQQAABBBBAAIGGCvBFgd8df38+nbnXFule5qw1Fjl7PpnNFxxmCwZXHkEHbgR8K6ke5w1q5kxkZo+N73kXycWyIGqtQmN5uDiZzNzLG5qNj3sn171JYJZ5ic4kOFMzBaOcs4Ks4+2cyMVDxumaOuDTS3Jm/Wzu8MjyDDvSu84eC0oSKv1P2dn5NQFf1nGdu49W7Hirx+eKti96Wc0kPj0wS9ruHEhv3XtUskTnIm2e33IBzttNBxPwGQu2EEAAAQQQQAABBBBAAAEEGirAFwUed7wO01oih+cF67wX6U7v21d4H/ahdU0EfLaKB9vq3lcD6ekZaoEKv3oyGOYIiIq0IrlP3bdyfPFzkT3knMVlZu6E+6dynTWgsyuzApjMS/nZAV+uIDPncpmJ5568GHzJv8zgTOjBDD672xdulxrwbfn4XIiY7YV4dCHR8XR52yAQtfRsdKHvHZltH/a74tEnOU3+5ql7Xh7I6Rr7s/fNNgK+CnDebnqGgM9YsIUAAggggAACCCCAAAIIINBQAb4o8Lfjb89E2i2RdkdkndUw9f3l1t3PWIqAz8MBY0KFYDrDLN+SkEWbZGabrXe8n+Xi+NvJ/e1WTagrK4zRgV34QgZ3qw4qIvr9Qd4gU/dNlrCtDE+zD5bozDiuyxpT6nBl7UuPN6/GZ0bPlW/ToXcgk79XWX43Vu6UNyDQGAHO201XE/AZC7YQQAABBBBAAAEEEEAAAQQaKsAXBf52/Flnsrxm92rNGmOR/lORVhmz7gj41uyMTX38MWbw/UMGB2opyBz3zluz+fGwJ3tq5k+ue9qlHVSHDL+Wg8E/0t4w+5wOXPZ6MsyQB5oP5wn4tGfeENEcbbyVhEwlBSfJ/jbQz5vct8Oy8GGJNWz3+FwomPmFsmfwZT4wb0RgiwQ4bzedScBnLNhCAAEEEEAAAQQQQAABBBBoqABfFHja8bcinXZJoZyIXHUnYWHnbM32EvCtCbjpj1d4Dz4djGSdZbR203UoV05wlSuMqSLgK82zXKfSZqWl9b9uc4Uh8VwZpdVQrrt343MOLscTm7gHX47D81YEtkmA83bTmwR8xoItBBBAAAEEEEAAAQQQQACBhgrwRYGnHa8DvtYkmGuV9DPsSv77etlEBHy2hsfbdzIc9ORgJ5wug7cnB72BDIvcs25RKwuHXot2uOp5PcMt46y7FbvTAUqQZVZe4bbmmMFX+BhuQ8sNmgj4XN9Fj7d8fC5q9tLn72T44UT2w+lynOG+HEcXMso1C3bpAXgRgcYJcN5uupyAz1iwhQACCCCAAAIIIIAAAggg0FABvijwtOMJ+CYdowPFlsjaS5Uu6Wp9n8JWKHK1TV8+q5kz0fHsF+wfhvKwxCLrS7kCsqw7Xfq+cgOU5L56ngR85XkS8C0dRu6Lpc3g2+7x6bItf6xmEr/e7D8wWF4AryKwtQKct5uuJeAzFmwhgAACCCCAAAIIIIAAAgg0VIAvCjzteB3wlXHfvDKbqAO3qurSxyPgW68XH4Yy6B3ITjCdSbNzIKcXo/Vmc5Y24yxr08oNUHIFaoXbygy+pb1bWri29CjLXyythi0fn8sVp6+qe4G+l+P9J9OZw6HsHLyWi9HXTJ/mTQggsFqA83ZjRMBnLNhCAAEEEEAAAQQQQAABBBBoqABfFHja8RUFW7lbr+si4MtN58MH4tEnOT3Ym375Hki4fyIfhnfFStPBSC3vwaeDt0DCg4GsFKgi4CvNkxl8uQa0dl/7PoBluns4Pleglvq3ZcWxeBmBJgtw3m56n4DPWLCFAAIIIIAAAggggAACCCDQUAG+KPC346+6k/vvrX3fvDKbSMBXpuYj7ausWTZ6xtIz6Q1/qaQtetZdplBuaUU6jMl4P78qAj7Rnt/K8cXPS6tf+mISWIWy17teb5amOlCyvw308yb3vRTJerHEGrZ7fFpm9uYmZgfb+2cbAQRmBDhvNxwEfMaCLQQQQAABBBBAAAEEEEAAgYYK8EWBvx0ffxZ52hZpVTVbLgsFAV8WpZq8x71P1hPZP34vw4esNyHMOcuoDJUkjFkzBNOBXdbZh/r9We7XN9NObZQlbIvl4eJkvIxq2InkS9ZucI6n9xEEWY458+H0B4k5AV86kPVsYrWN49Nqp9rc4P09nSPxEAEELAHO2w0GAZ+xYAsBBBBAAAEEEEAAAQQQQKChAnxR4HfHnx9OZvEFz0VuCn3hX3L7CPhKBvVhd3cy/HAi++H0/nzhvhxHFzLKMt4ePsnxTihBsGagIXdy3etIuHMiF0sDRh2YqeVFT+V66XsX2MZfZPBCLVOaIwCrJOBToclPEnXU/cv25MXgS/7Zd0l/qL7M0b4FVOOnk9BqAwFfMmtxE/te1ijrtVLbt+Xjc8x2J8NBTw7Gv/dqnO3JwemnbH8vLPYyNt1lQYMy7i1aRmHsA4ENCnDebnAJ+IwFWwgggAACCCCAAAIIIIAAAg0V4IsCzzv+XqS7u37Id/NRZLctcni+ZnsJ+NYE9PjjakbO6cF4BlkQBJLty3Iz6yzYOZLB6Gv+BsYj+XSyL+H4mKsCPhWCmYBu5yDKMeNwMuso17F0a6oK+MTyDDvSu155d0BdocjDpfT2VTj4P2Vn59c1Cfj0UqlPpBP9lDvQjEd/k78VCXmNWvlLkG7x+IxHP8rJeIypYE/N+I3kosjvvO1fdHsmzJ7+4wT1NyT8rURfCvwdKloHn0OgYgHO2w04AZ+xYAsBBBBAAAEEEEAAAQQQQKChAnxR4H/Hxzciz4NJyNfeFfl4k73m+yuRbmfy2VaLgG+RXHwlErZEWqHIVZaZa4t2tAXPx6MLiY4ngVu2e939LBfH38okFHwh0TBrKOUsEZonIEzCLDWT70Q+ZDjmzGyfPMdSfVpZwKcO9lW+RL+dBJ5qdlR0LQ8rxpUJXkLZOf5BLnrPahLwiej71uUJZtQYfdebhNHZxugSwFJn8E2Ps5XjU4exoewc9GSQ4XduifqaL5mZkuO/OyrYS/4raebqmhXycQQ2JcB5u5El4DMW4620wcFzLcEAA8YAY4AxwBhgDDAGGAOMAV/HgHNKz0MECgmkje9CO+JDGxVQId/RdCafCuqCjkj/TfqynVdnIv2+SGcaCqr3q/v4HX2UlTNkPvdF2ur9JfzXfiryeUVYVvXxFED/6frte9pfbbnRAVHBzvPNjpousTn+kl3N7PlOosEwJZhSy/u9k+jtsVkSdDwTKM+9/6aNt0KUyWyitGOqEPHPEk3DoEkImWWmoTWTLgkO7BBh+Uyh+EskHb3k6dznv5Xji59X9OCdDKMXyWzKcP9Y3kY/OLMVJ217Ow1jxwYnP8oo1kGMU2+QtgymHSa678//uNi9A62AWC0P+/bP87PC1OzSd5FE0StraUhV36qlTB+xfVs5Ph9kNFoVN68Y2qW8TMBXCiM7qaUA5+2m2wj4jMV4K21w8BxfZjEGGAOMAcYAY4AxwBhgDDAG/B4Dzmk9DxHILZD2O557J3ygGoFY5Lw/WWozcwAXiHQXBIFpRVcduFV9PAK+tF4v6zlnRt5csOUGRmXMBHLuH7j0mHnuFfbYAZ/qk1gehu/lOFkS0fWzHqtg7IMOVOsW8DlLpy7tw2mbx0GgG3imjeNHDPjG5Wzz+EzzrvA5luisEJtD+STAebvpDQI+Y8EstZbfX9qk/eLyHH3GGGAMMAYYA4wBxgBjgDGgxgD/Q2BdgbS/Jevuk89vWEAFfW9E+l2RIGWm3e7hZAbf2dWG62D3CKQKTGfNzczS02HUdHZflDJLK3VfGZ+czvAys9n08VSI+EqiudlvGffrxdtSZiGOQ7Cp5bsLGa2YKetFMzIUMV56c26WnupLPW7ePfLSkBkakfaWrR6faQ2u5rmZZXfV78ROniWCq6mRoyBQtgDn7UaUK2FjQcBHwMcYYAwwBhgDjAHGAGOAMcAYqOkYsE7r2USgkABfFBRi40MIIIAAAggggAACCFQqwHm74SbgMxZ8mVPTL3PSfqF5jn/JzxhgDDAGGAOMAcYAY6BZY8A6rWcTgUICaX8zCu2IDyGAAAIIIIAAAggggMDGBDhvN7QEfMYiNeCzXmYTAQQQQAABBBBAAAEEPBFwL+o8KYsyaizgjin1mP8hgAACCCCAAAIIIICAXwKct5v+4IrFWBDwWRZsIoAAAggggAACCCDgs4B7UedzrdRWDwF3TBHw1aPfqBIBBBBAAAEEEECgWQKct5v+JuAzFgR8lgWbCCCAAAIIIIAAAgj4LOBe1PlcK7XVQ8AdUwR89eg3qkQAAQQQQAABBBBolgDn7aa/CfiMBQGfZcEmAggggAACCCCAAAI+C7gXdT7XSm31EHDHFAFfPfqNKhFAAAEEEEAAAQSaJcB5u+lvAj5jQcBnWbCJAAIIIIAAAggggIDPAu5Fnc+1Uls9BNwxRcBXj36jSgQQQAABBBBAAIFmCXDebvqbgM9YEPBZFmwigAACCCCAAAIIIOCzgHtR53Ot1FYPAXdMEfDVo9+oEgEEEEAAAQQQQKBZApy3m/4m4DMWBHyWBZsIIIAAAggggAACCPgs4F7U+VwrtdVDwB1TBHz16DeqRAABBBBAAAEEEGiWAOftpr8J+IwFAZ9lwSYCCCCAAAIIIIAAAj4LuBd1PtdKbfUQcMcUAV89+o0qEUAAAQQQQAABBJolwHm76W8CPmNBwGdZsIkAAggggAACCCCAgM8C7kWdz7VSWz0E3DFFwFePfqNKBBBAAAEEEEAAgWYJcN5u+puAz1gQ8FkWbCKAAAIIIIAAAggg4LOAe1Hnc63UVg8Bd0wR8NWj36gSAQQQQAABBBBAoFkCnLeb/ibgMxYEfJYFmwgggAACCCCAAAII+CzgXtT5XCu11UPAHVMEfPXoN6pEAAEEEEAAAQQQaJYA5+2mvwn4jAUBn2XBJgIIIIAAAggggAACPgu4F3U+10pt9RBwxxQBXz36jSoRQAABBBBAAAEEmiXAebvpbwI+Y0HAZ1mwiQACCCCAAAIIIICAzwLuRZ3PtVJbPQTcMUXAV49+o0oEEEAAAQQQQACBZglw3m76m4DPWBDwWRZsIoAAAggggAACCCDgs4B7UedzrdRWDwF3TBHw1aPfqBIBBBBAAAEEEECgWQKct5v+JuAzFgR8lgWbCCCAAAIIIIAAAgj4LOBe1PlcK7XVQ8AdUwR89eg3qkQAAQQQQAABBBBolgDn7aa/CfiMBQGfZcEmAggggAACCCCAAAI+C7gXdT7XSm31EHDHFAFfPfqNKhFAAAEEEEAAAQSaJcB5u+lvAj5jQcBnWbCJAAIIIIAAAggggIDPAu5Fnc+1Uls9BNwxRcBXj36jSgQQQAABBBBAAIFmCXDebvqbgM9YEPBZFmwigAACCCCAAAIIIOCzgHtR53Ot1FYPAXdMEfDVo9+oEgEEEEAAAQQQQKBZApy3m/4m4DMWBHyWBZsIIIAAAggggAACCPgs4F7U+VwrtdVDwB1TBHz16DeqRAABBBBAAAEEEGiWAOftpr8J+IwFAZ9lwSYCCCCAAAIIIIAAAj4LuBd1PtdKbfUQcMcUAV89+o0qEUAAAQQQQAABBJolwHm76W8CPmNBwGdZsIkAAggggAACCCCAgM8C7kWdz7VSWz0E3DFFwFePfqNKBBBAAAEEEEAAgWYJcN5u+puAz1gQ8FkWbCKAAAIIIIAAAggg4LOAe1Hnc63UVg8Bd0wR8NWj36gSAQQQQAABBBBAoFkCnLeb/ibgMxYEfJYFmwgggAACCCCAAAII+CzgXtT5XCu11UPAHVMEfPXoN6pEAAEEEEAAAQQQaJYA5+2mvwn4jAUBXyzSDUVaLZFWW+Ts1sJhEwEENi8QX0o3bE/+FrWfy9ltvPljVnmEbW9flZYcCwEEEEBg7twdEgTWFeCLgnUF+TwCCCCAQC0F4mvp7YUSBIEE4QsZ3G3ZdxG17BSKRgCBZQKctxsdAj5jMfclQeP+xeYjBnw35yL9rkigwkXnv/auyOu+SL8vcnZldRibCDySQPy5L0/bLedvRlvC7qWsdRq87QHYtrfvkcYjh0UAAQSaKuBe1DXVgXaXJ+COqcZdD5ZHyZ4QQAABBOokQMBXp96iVgQQEJUfuN/LNjfmam7LU34VGj8wHiPguxfpd+ZDPTfksx93zlI6j6cQqFCAgK8gNgFfQTg+hgACCCCQJuCeu6e9h+cQyCPgjin1mP8hgAACCCCw9QIEfFvfxTQQgW0T4Lzd9ChXLMaC5LfqgC8W6T+dhnuBSPeNyI07/ele5Gw6e+9wd/Lew3Or09hE4NEF/iVX3d9Iq1WHGXzTWoMjOb93f9kqgCTgqwCZQyCAAALNEXAv6prTclq6KQF3TBHwbUqa/SKAAAIIeCVAwOdVd1AMAgisFuC83RgR8BkLAr6KA77PfZF2S0QtwXl5b3VEQzfjm7/KXx8jdGmod3nNrlHAlwRsv5Hu1b/KI8i6p+T4LWlt4z0Gszpkft+93NzwxzEzF29EAIHGCbgXdY0DoMGlC7hjioCvdGJ2iEApAvHob/K3h0f4B4ulVM9OEPBQgIAvZ6c8yGj0kPMzvB0BBMoU4LzdaBLwGQsCPsti45s6TGyL9D9v/GheHyC+OZf+4a60Wy1pd87k1utqKW5eoMSAb37n5T6TBGyPFPCV25ot35sZV0GnK2dX/GXY8g6neQggUEDAvagrsAs+gsCMgDumCPhmeHiAwKMLxKMLiY73JQwCCQ8GcvfoFVEAAgg0T+AXGfaeSRCEsnPQk8GQv0TNGwO02AcBzttNLxDwGQsCPsti45u3Ip22SCsUuWrqP7yLb+T8ZUcCfVPQoCMvz2+kqRwbH3MbO4AJYsLupd/9R8C3sVGwiR3HN3+Ro91vpv/f9I3sHvbl/ObrJg7FPhFAAIFaCrgXdbVsBEV7JeCOKQI+r7qHYposEI/k4vRAdoJAAvXfzoGcXoz8vvZqcn/RdgS2XCAe/Sgn+08mf4+CJ7J/HMnFiGv1Le92mueZAOftpkMI+IwFAZ9lsenN+EokbDU14LuVq++PZLfdmoy59q4c9s/n7z+46U5g/yUJEPCVBMluUgVu5eqsK52gPf3/qFA6Lz/y9yLViicRQKBpAu5FXdPaT3vLF3DHFAFf+cbsEYF8Ancy/HAi++E02Av35Ti6kBH/KjYfI+9GAIENCNzJcNCTg51wGvTtycHpJ/4+bUCaXSKQJsB5gG3J1QAAIABJREFUu1Eh4DMWBHyWxaY3mxnwfZWb8z9aX9SrGTnv5Ir77m16uG14/wR8GwZm90pAzfjtH87+w4Dvr4Q79DE8EECgyQLuRV2TLWh7OQLumCLgK8eVvSCQX+CrjC5eW1+cqxky72XIfffyU/IJBBDYrICaYRwdz/5DhA9D4Q59m2Vn7whw3m7GAAGfsSDgsyw2vdmsgC+W+6t3cpgstdeWoPNHltrb9CCrbP8EfJVRcyCR+ys567K0L0MBAQQQUALuRR0qCKwr4I4pAr51Rfk8AnkFYnkYvpfjZOk7dY+r1yx9l5eR9yOAQPUCD0MZ9FhKuHp4jthUAc7bTc8T8BmLuS8JtvmC7nNfpK2WyFzyX/fKwlljM8uxltUxfi0QOa/hVJX45qO87ITJ2GrvHsn3V7draKZ9VAWI76XfP7FmB06X/2ypWYJ/kv4bewnQaSAVdovd/1DNJHrTl9eHu9LW9w8c/1TB5Yn0++/zz0qM/y79p/peY9Pa3fpUsDHXxmn7zsqcyaRmWkbSt0OUcfsWHatIwPdVPvefOX66z/TP30j36l9pHZ7xuSzH0Mda9rMtweHHnDPFshx73fYtYdj6Maom9FXxt2XW2D1mK3gu/dL/ns0ek0cIIIDAMgH3om7Ze3kNgSwC7pja5uvBLB68B4EqBeLRJzk92JsudRdIuH8iH4Z3JZagwsMfJIpeWTMDp0t/ju+h9Z1E74os//lVvkS/lVDfH9D9uXMiF2kzD+OfJOroe3jpOvTPUHaOP83PAFr0mb2eDGeWLVVLB76Tt8f7Tl0qMH0lUfRDsdmQi46v2jxXw6Tr4tGFvJsxVzX0ZFCobzfVh+nDbFL7d1bgrPtHjc9jeRv9OQmf4y+RdMJn0hv+kr6zjM9u/pgrxut4/K7fjoXNVbPd3kXljs20cemORxW+zYxD1ZdqZvB3Eg3KnW23+b9lC3V5AYFGCXDebrqbgM9YJCGMPUCsl7dqM0voRsC3RpdXMsvGnRm4LKRRr03v3fXvS+mG6n5eeQMW596BM+Gee+yc9wlbGvDdylX/uQRLj9eSVvA7ObtZ56bGOTzbu3L08WZ6U3cCvvnflMcK+LZ9jLrS7pjd4Ozg+49ymNwH0Pp9bz+T/ud1fu/cNvEYAQQQyC5gn7MTxGR3452LBdwxxbhabMUrCJQmsPFZL+6sQBPSBG4YN36c9z5aKwKTSgM+1dYoJcBMa3OBZU/TghRt6AYqKsg5tWYz6fclP5/I/smPGe9Xtuk+nB3NbkCTPk60qXKMJDr+XxIEoez1rqffE8zuc9Wj6o65YryO+2cTAZ9zP81kHGhH+2fO38G0cZmMxzsZRi9kZ+nxAgl2jmQwKvO61h2zzEZe9TvA6wjkFeC83YgR8BmLRgV8VrNnN2ORbjiZ2VdWwDd7gMmjrV2is7L7ZH2Vm7PfTUOv6cy5mVl6Wn06G+21uXdXe3df9sdf1OcI+O7/S7rJEqOLZrKlzHwrErrdnkmn3ZKWmsH37xv5eDSdKdjelcPX7uzAW7k6+0+z/GmR442pZkPE9u6hvJ6biThpn5m5+I3sHv1FbuIiAZ/un5SfcdEANmVf7lOb3Ld7rEWPN1XD1o/RRaDqeTU27ft7htLpnuWfSbvwELHcnj1fMOO0LWH3stBF7MLD8QICCCCQUcC9qMv4Md6GwEIBd0wR8C2k4gUE1heo5L5VX2U0ODJf7u8cSC96Nz97bDyr6K30ZmYQnsp12sy7hS2/k+teZzJjLm9Y8HApvfGypKHsvPiQMfQSiYc92VPBxTjMmA0yxjPM5mYkqnsb/lmimWUEX0hUaDbdBGK2BvWcGzKqAOyNMZ/p91/LweAfC0UnL1TZhyKTmXjTsGk8XswsvZlCxzPC3Nl9xQK+xzjmTFv0g/haenuhBEHJAV8yvpXrollzaWOzQOh2N5CDcPo78e+RfDqZzmIN9+X4rTtzVc10fWNmaOb9vdVuS3+69xPdk4PeoNgM2qXH4UUEmifAebvpcwI+Y0HApywI+KwRkWdTBU1da4nMsr9gt2uxwr08S+TFVlg2ng2XMeCzgpPMS4zeX0pfL02aN3RLAr7/I69Pno5Dhfbu7+Xjstl58Wc5ez5ZCrXdOZN8i6Das81C6fQvVy5HGd/8RY7GgadavvK9nHd/I61WSUHHpgKw8e/3BsNDe4gu295E+7Z+jC4DtV9zZjCqULxvL89rvzfPNgFfHi3eiwAC1Qm4F3XVHZkjbauAO6YI+La1p2nX4wqoL9V71iyzTX3hbc9U2pOD6Hp+ycs5iNlZN+F+3pDPCqN2MgZnSfiRL9xTpZtw7ffy9tU0XAz35eTTaOU/wJuZMbZGsGFqUMuEuiHjH+TTgllRk6Uo3cDF7ZCK+zCZCZZndqHV50Vm8D3GMV1m/XgTAV8yvnMsu/twLZEO2/OOzSTgM78T4f7icThuevxFBi8mywOHBwMpc2FgTSvizGBUgWNUZElgs0e2EGi6AOftZgQQ8BkLAj5lQcBnjYgsm2rmTN/MIBvf864v58vCqCy7XfieWO7PjyYz9/IGZ+N93spldxKaZVqiMwnO1CzBfs4ZQdaxgiM5v5+5KcDCFooO+PSSnFk/Wyg4sjzbT6V7mSMaTEKl/yFB8B8EfIt7dPaVQv00u4uZR1s/Rmdam+2Bmkn8smOWtQ060l33PpUs0ZnNnnchgEClAu5FXaUH52BbKeCOKQK+rexmGvVoAmomS2Rmy4xn8kTJPczKLSuWh4uTycy9sCO965xf2Sdf+C+4F97SYq3AZ8Wx49GPclJg5p4+fBKu6eUH84YhSTsDCTuRfMl4ya6Pr34mNewcyKvknn9ZA1V7T+529X2YtCVZ3tGtadHjn+Xi+NtCS3Q+xjEXtULKDviS8aWWp4xyzlqzZ8QuuI9lWkN0wJf8TmT8bNltT6tNPecuXatmiZZ8D8BFh+Z5BLZNgPN206MEfMaCgE9ZEPBZI2LZprr31Zl09Sy1lgrAunJ2lSMgWrb7Ra8l96r7lRye/3PRu5Y/nzlgMbN22rsv5TJrQGcf3QpfMi/jZwd8uULMAktlJp6hPD/7vPJfOdpNG2/PhB7M4JvzSXsi8/hL+7D7XAPGqNvkHI/jm3PpH06XuG21RC092z/X947MsaPpW+Obj/Iy+Zun7nvZkZdr7C9/BXwCAQQQmBVwL+pmX+URAvkF3DFFwJffkE8gMC+gZsUNrOUv1Zf9PbNk4/wH1n8m+bL+Wzm++LnY/pKZR0X2sTrki0cf5MWOWg4xz2yx2aYk4dA4zChSp/oO6CeJOk8kCLIslzl7fPVotgZ1L7OMMxfndzX7zCP0oW5L/llcOozMv7TlYxxzFtp6lJjnb4e1l+lmLHeDF+Mla/PPhNW70DPrcix9agd8uQLvX2TYe1YopJ1v++pn1AzWKAnE1ezGY4kuVs+8Xb1n3oFAcwQ4bzd9TcBnLAj4lAUBnzUiFm2aUEH/Mcm/LOSifS973sw2W+94/5Tzw19N7nG37F/olRXE6MCu/VzObpcdcNp2/f5W3hBT90vWoK0MT7MPluhcNnat18oaV2qXZe1LjznvxqjlVnhTB9+t6f/HZf39KHxAPogAAghUJqDPw/TPyg7MgbZWQI8l++fWNpaGIVCJgPmSP5jOqMkfnuQt1Bxz3WMVD19UzYtDvplwr3eZYenQdANdXxAUmWlo9pnsJ/fMtdmAb+VSiOaQK7YeqQ+TcGhPXgy+5P8HwCtalfryYxwztRB1fV3iPfjK2pf2CV/I4C7D90n6/UHewFuPuRxh4iLHzM/rUHF6z8ciS7xmPhZvRGD7BOzzdb29fa3M1iICPstJDwb7p/VyMzYJ+DL282PM4PtvOeuopSAz3jsvY0sWvS2+6kqoZv3kvqedu0cdMPyHdM7+231x/rEOW8KuXGU4fzM7yBvwac+8QaI54ngrCZlKCk6S/W2gnze5b4dl4cMSa9j+MbpQMdMLZc/gy3RQ3oQAAghUKGCfs6tt/ofAugLumGJcrSvK5xFQAlXP4PuHDA5+LUFQwiwkPbsta7gw1+GxPFyfyn4YSDBdrrOscG8sO+zJ3jg4Xbetxc3WCQfnuJIniteT7EJv5OpD+55/k1lVb6N3m51tKo9xTI3j/CwrlFO/9dOxuW7ILqJDsIwzTHXAlzusrjbgYwafM/Z4iEABAc7bDRpXwsaCGXzKgoDPGhFZNiu8B58ORrLOMspS/sL36FCunNAqVxBTVcBXmme5VqXNSkvrW93mikLitBLKa1+57l6O0VTADE9u4h58GQ7LWxBAAIGqBdyLuqqPz/G2T8AdUwR829fHtOgxBSq6B5/+gr9wKGcb5QwX7I8m21bIp+8LppblXGPmnt61DlGCtdtavJ1JDbkDFd2KlJ+P2od3MoxeTO7fmPSXnmGlfqolZl9JFEUSRT/kvK9cSlvHTz3GMVNqKS3g0+OpnNlweoxlCgv12Mk9HisK+LgHX8rA4ykEiglw3m7cCPiMBQGfsiDgs0ZEns1buTrrSidoT8dRKJ3umVwVuW/dosMWDr4W7XDZ83p2W8ZZd8t2pYbVdDZgK8usvMLtzDmDr/Bx3MaWGzSVF4C5daqOuJRuqMboBmYHphwu9anSamjAGE0FXPbkrVx9fyS77elynO1dOeyfy02umbDL9s9rCCCAgF8C7kWdX9VRTR0F3DFFwFfHXqRm/wXuZDjoycH4/nMqMNmTg96gpKBERPQX/KnhjB3U5NleN6jQgcfkmJmCigwdqYOPIHeY4e5c15e/neXVYNXkQR+qGVbvolfWOF08XsL9E/kwvLMaUGzzMY45U2lpAZ+egZlx1t1MEfMPco0xPXZy/05sOuC7k+GHk8lsXvW3KdyX4+hCRlyrz3c4zyCQUYDzdgNFwGcsCPiUBQGfNSIKbKqZM/3D2S/Yv7+S+wK7cj+SKyRzP5z7cbnhieQJ0/K8d6Zd+QK+8jwJ+Ga6YdUDTwM+H8foKkrzuppJ/MfN/gMDczC2EEAAAW8E3Is6bwqjkNoKuGOKgK+2XUnhdRBQM1mi49kvvD8MC9+PLmmy/oLfm4AvbQZfOfd4yxV8JEBpGwR8aSqzz6lg+t105l4kb4/3JZwZY+XMynzUY3oa8CWhfZbQTv/+Z3nvDPamAj41c/m1FRSX/A8aZtrAAwSaJcB5u+lvAj5jQcCnLAj4rBGxxub9lZx1OxK0pjNpgo68PL9RvMX/Vzj4KnLIcgO+XGFa4XbmC/hyBTpLCQn4lvK4L3oa8Hk5Rl27ucfqXqDv5HD3m+n/f7Ul6PxRzm++zr2TJxBAAIFtFHAv6raxjbSpWgF3TBHwVevP0Roq8DCUQe/ALIm4cyCnF6Pi1876C/61l60soz/scE+Fep/lbhhNv+xfP+RLAr6126oDvvwzrpIacgcqS3y96sMldc7dX/KJdKKfio/dZYdKXnPvaVniMT0N+HKNMT12co/HsgM+1U/v5Xj/iQTjIFgt7fpaLkZcqydDmQ0E1hTgvN0AEvAZCwI+ZUHAZ42I9Tfjm4/yshMmY6u9eyTfX90W27EORmp3Dz4dvLWk3TmTla2vKuArzZOAL9eA1u5rLxNaprunY3QJbKl/W5Ych5cQQAABnwXcizqfa6W2egi4Y4qArx79RpXbIRCPPsnpwd70y/BACi97WFpIsa7rVxl9+sN0huJsmBePPsiL8RKl6836SoKP4Jn0hr8UL3gNs6SG3IHKknLXqGfJXjf40lcZDY4mIXWZDksr3sAxS3PXgXH+JV/nm6yDt0AyLW3rQcBX2t+yeQyeQQABS4DzdoNBwGcskhDGHiDWy83YJODbQD+XNctGz6qr5v5pekZTplBuqZoOYjLez6+qgE+056/k8PyfS1uw9MUksGpL2L1c/1/rJfvbQD9vct9LkawXS6xh+8eo5aY3NzE7WO+bnwgggEDNBOxzdoKYmnWep+W6Y4px5WlHUdYWC5Qx66XMcKEotRW+hPty8ml+RmIZIV8SrgWh7Bx/Kry8abKfAuHUOp9drOtDHy6uLv0Vfd+5NcPW9J0veLbkY5YW8InocZEplFvQusnTeixknF36mAFf2bORl7rwIgIIcN5uxgABn7Eg4FMWBHzWiCh7071P1jeye/hOru6zLtyZc5bRuuUnQcyaAZgO7LLOPNTvD7tylZVm3FbtkzVoi+X+/Gi8jGr7aV8+5zqWxjX7aLWyHld/dsHPxJ2Ab4GQeTqx2tYxapoqG7y/p3UUNhFAAIFaCbgXdbUqnmK9FHDHFAGfl91EUY0QcO9b9UT2j9/L8CHbRVv8JZJOGEiw9tKVRbDtcK8jveu7hTtZN+TTIcpkCcBv5fji54XHWvhC/JNEHbWMYMYAxdlRUkOBcNDZ1czDqvtwcrx1lrvMGUSpr9/G47TaY84guw9KDPgk2VfBcalr04Fd1t9l/f7c41HPFCww63BT9xPVBvxEAIFUAc7bDQsBn7Eg4FMWBHzWiNjU5q1cfX8ku+3p/fnau3LYP5ebLNcq9x/lMGhLq7VmoCG3ctl9Ku3gSM4XBow6MGtJe/elXC583xKn+LOcPVdLlOYIvyoL+NR4/7v0n6r7l4Xy/Oxz/tl3SX+ovszRxiVkkoRWGwj4klmLm9j3skZZr5XavgaMUbmVq7OudMa/92qchdJ5+THb3wuLvYxNd1nQVhn3Fi2jMPaBAAKNFXAv6hoLQcNLE3DHFAFfabTsCIGCAncy/HAyXeZSBXb7chxdyGjltfPPcnH8rQRqZtuLDxneX7C8uY9lD/f0R+PRj3Iyvk9X/uU6k3BtfI+vQIKdIxnkucdX/EUGLybLooadSL6sdNVVm59JDbkDFbOP9K0q+1CHOxmXgUwtOO9susc4Zmrh5skklCtjFqLVvv1Tuc4YzptixgnodHzmCN0qDfjuZDjoTe+pGUgQ7MnB6acK/97MaPEAgcYJcN5uupyAz1gQ8CkLAj5rRGx4U83IedkZzyAb/1HK9GW5NWMs+J2c3RS4QW98Ix+PdqXdaklracCnxoMJ6IJOP8dsQ/XZHMexqasM+MTybD+V7uXKOwSaSu//S7q7Khz8HxIE/1GTgE8vl/qNPO3/PXegGd/8Vf5aJOg1alJ6gLnFYzS++YscjceYCvbUjN++nBf5nbf9i27PhNnTf5yg/oa0n0n/c4G/Q0Xr4HMIIICAJeBe1FkvsYlAIQF3TKnH/A8BBDwQUDNkTg8m9zhTYdbOgZxezC97OVPpw6X0xsHZOiGfvo9elllI+cO9pN6CtZpw7ffy9lVHQmWzYEnQ5FjTjZn7hOUNBq2dmRp6MiwQEFq7mt8s6DK7oyx9aMKoIPytRF/yXt/E8nB9OgmiMwedj3HMWZm5R6UGfLMB3c5BlHkG7riueCSfTvYnY3rnRC6yBoQVBXwmmFfBnpphHMlFnnB9Dp8nEEAgrwDn7UaMKxZjQcCnLAj4rBFRzWZ8cy79w0nglu1+d/+U88NfTcZr8Fz6V1lDKWeJ0KwBYRJkqZl8R/J9huPNzPTJehzNXWnApw76VT73n00CTzU7qn8p97qWBT9N8NKW4PC9nHd/U5OAT0Tfty5PMKPG6JvuJIzONkYXwKmnS53BNz3OVo5RHca2Jeh05SzD790S9TVfMjMl50+gSpq5umaFfBwBBJop4P5NaqYCrS5TwB1T6jH/QwABfwTi0YVEx5Mv/bPc28ssgRlIuP8H+ZT5C3h1L8CB9A4ms9uCYFXAdyfXvWnAtvNCouHiZTkXahYIs2bDNauGQLX3WN6+c2c7qqVP/yxRzw5Lc876cxowW4PzYgkPq+lDK2zLGiAnbbPCvZXjJPnQ+Mu3u8GLSYBV2THt46dslx3wqUMk41qNyRP5kOF3Y63wuZKATy/HGsrOQU8GGdqUos1TCCCwpgDn7QaQKxZj0YiA73NfpN0SUdeq6/7Xfiqr71sWi/Sfrn+sp/1x9mj11vZt5psdNV1iU82gGc/s+ZP0z65Sgim1vN8b6b8+NEuCjt+f595/ImIFKIuPpwLESPrTIGj8hzZTuGfNohu3x5odpB8vmSUUf+7LU73cqX5/8jPrUqa3ctV/nsymbO8eyuv+e2fG4qR9r6dh7Njh6C9yE+sgxq07bRlMO0x035//cbF7B1oBsVoe9nU0PytMzS5905d+/8RaGlLVt2op00ds31aO0Xu5uVkVN1fxt5CArwpljoEAAvkF3Iu6/HvgEwjMCrhjSj3mfwgg4J9APPqb/C3jjJ7ZmTbqC/lXEs0FX6qNarm9dxJFr6wl91bNiPsqX6LfmpBGBTXufwtnH+klKFM+M93HqmUz58M1996Fi/c9mXWU/b6G5p5qy/a56rUcSy1aw26zfagOZAK+cGdH/j/tr0LS6M/pM7MehjKI3lohcN4lVqs+Zoax6o7dJY9XjU2r+2ZCvsm4+06iwVAeZt5UNHyO5eHixMzuTat5yazM5F6PaZ9bGtg+yGg024KZ5vAAAQQ2LsB5uyHmisVYEPDlDP0I+KzB8yibzoy8JNRaFBStOxPIuXfg0uPluU+YDwGf6sBY7q/eyWGyJOIiR7Us4a4cfq8D1boFfKqp1vKpS/txajAOAt3AM23QP2LANy5n28domnlFz7FEZ0XQHAYBBPIIuBd1eT7LexFIE3DHFAFfmhLPIVBDAbXEZ3Rs7uWX+mW+E07tHEgvNQi0258hNKk04NO1TcNKe6betM3jmX3RD/mWS1S7TWZ3OU5ZLJP3PJFO9FPuW0WMW7WxPpyYTYIeVd/f5W74Xo7Hy7tmbGvGZVF17+if1R4zw1hN+ml1u3MFfOMGO/fTXHqsPPeye6yAT/ciPxFA4LEEOG838gR8xqIRAZ/VXDa3RmA6c25mlp4Op9R9u/4k/X7KLK2i7Z/O7jIz2fSxVIB4Iv25mW9FD/RYn0uZiTgOwaaWb87lpux7CzxSU8dLb87N0lP9qcfNm0deGrIgzNaP0YIua35sZuld9TuRa4ngNQ/OxxFAAIEUAfeiLuUtPIVALgF3TBHw5eLjzQj4L6BConfR7BKVSdCg7qP1nUTRu9osuTc/g8//Lli7wsr6UC3T+oNE0XfpYV+4L8dvo5SZaOu08DGOuU69BT477b+306V2zYzX6ezaIuFzgTL4CAII1F+A83bThwR8xoKAz7JgEwEEEEAAAQQQQAABnwXcizqfa6W2egi4Y4qArx79RpUINFWgkQFfUzubdiOAAAIIzAhw3m44CPiMBQGfZcEmAggggAACCCCAAAI+C7gXdT7XSm31EHDHFAFfPfqNKhFoqgABX1N7nnYjgAACCHDebsYAAZ+xIOCzLNhEAAEEEEAAAQQQQMBnAfeizudaqa0eAu6YIuCrR79RJQJNFSDga2rP024EEEAAAc7bzRgg4DMWBHyWBZsIIIAAAggggAACCPgs4F7U+VwrtdVDwB1TBHz16DeqRKCpAgR8Te152o0AAgggwHm7GQMEfMaCgM+yYBMBBBBAAAEEEEAAAZ8F3Is6n2ultnoIuGOKgK8e/UaVCDRVgICvqT1PuxFAAAEEOG83Y4CAz1gQ8FkWbCKAAAIIIIAAAggg4LOAe1Hnc63UVg8Bd0wR8NWj36gSgaYKEPA1tedpNwIIIIAA5+1mDBDwGQsCPsuCTQQQQAABBBBAAAEEfBZwL+p8rpXa6iHgjikCvnr0G1Ui0BiB+CeJOk8kCIIM/4Wy17uWuDE4NBQBBBBAoEkCnLeb3ibgMxYEfJYFmwgggAACCCCAAAII+CzgXtT5XCu11UPAHVMEfPXoN6pEoDECuQK+J9KJfiLga8zgoKEIIIBAswQ4bzf9TcBnLAj4LAs2EUAAAQQQQAABBBDwWcC9qPO5Vmqrh4A7pgj46tFvVIkAAggggAACCCDQLAHO201/E/AZCwI+y4JNBBBAAAEEEEAAAQR8FnAv6nyuldrqIeCOKQK+evQbVSKAAAIIIIAAAgg0S4DzdtPfBHzGgoDPsmATAQQQQAABBBBAAAGfBdyLOp9rpbZ6CLhjioCvHv1GlQgggAACCCCAAALNEuC83fQ3AZ+xIOCzLNhEAAEEEEAAAQQQQMBnAfeizudaqa0eAu6YIuCrR79RJQIIIIAAAggggECzBDhvN/1NwGcsCPgsCzYRQAABBBBAAAEEEPBZwL2o87lWaquHgDumCPjq0W9UiQACCCCAAAIIINAsAc7bTX8T8BkLAj7Lgk0EEEAAAQQQQAABBHwWcC/qfK6V2uoh4I4pAr569BtVIoAAAggggAACCDRLgPN2098EfMaCgM+yYBMBBBBAAAEEEEAAAZ8F3Is6n2ultnoIuGOKgK8e/UaVCCCAAAIIIIAAAs0S4Lzd9DcBn7Eg4LMs2EQAAQQQQAABBBBAwGcB96LO51qprR4C7pgi4KtHv1ElAggggAACCCCAQLMEOG83/U3AZywI+CwLNhFAAAEEEEAAAQQQ8FnAvajzuVZqq4eAO6YI+OrRb1SJAAIIIIAAAggg0CwBzttNfxPwGQsCPsuCTQQQQAABBBBAAAEEfBZwL+p8rpXa6iHgjikCvnr0G1UigAACCCCAAAIINEuA83bT3wR8xoKAz7JgEwEEEEAAAQQQQAABnwXcizqfa6W2egi4Y4qArx79RpUIIIAAAggggAACzRLgvN30NwGfsSDgsyzYRAABBBBAAAEEEEDAZwH3os7nWqmtHgLumCLgq0e/USUCCCCAAAIIIIBAswQ4bzf9TcBnLAj4LAs2EUAAAQQQQAABBBDwWcC9qPO5Vmqrh4A7pgj46tFvVIkAAggggAACCCDQLAHO201/E/AZCwI+y4JNBBBAAAEEEEAAAQR8FnAv6nyuldrqIeCOKQK+evQbVSKAAAIIIIAAAgg0S4DzdtPfBHzGgoDPsmATAQQQQAABBBBAAAGfBdyLOp9rpbZ6CLhjioCvHv1GlQgggAACCCCAAALNEuC83fQ3AZ8Ogx4VAAAgAElEQVSxIOCzLNhEAAEEEEAAAQQQQMBnAfeizudaqa0eAu6YIuCrR79RJQIIIIAAAggggECzBDhvN/1NwGcsCPgsCzYRQAABBBBAAAEEEPBZwL2o87lWaquHgDumCPjq0W9UiQACCCCAAAIIINAsAc7bTX8T8BkLAj7Lgk0EEEAAgZwC8aV0w/bk/0vaz+XsNs65A96OAAIIIJBHwL2oy/NZ3otAmoA7pgj40pR4DgEEEEBg6wTia+nthRIEgQThCxnccS27dX1MgxDYMgHO202HEvAZCwI+y4JNBBBAAIGcAgR8OcF4OwIIILCegHtRt97e+DQCwvUggwABBBBAoJkCBHzN7HdajUCNBdxrwSb/wzwCPmsgMzAsDDYRQAABBPIJEPDl8+LdCCCAwJoC7rn7mrvj4wgQ8DEGEEAAAQSaKUDA18x+p9UI1FjAvRYk4KtxZ5ZZOgOjTE32hQACCDRMgICvYR1OcxFA4LEF3HP3x66H49dfwB1TTf6ioP69SQsQQAABBDILEPBlpuKNCCDghwDn7aYfmMFnLPgXm5YFm9svEN/8Vf56z7rq29/TtLAyAQK+nNT3cnNzn/MzvB0BBBAwAu5FnXmFLQSKCbhjioCvmCOfQmDTAvHob/K3B65lN+3M/hskQMCXs7MfZDR6yPkZ3o4AAmUKcN5uNAn4jAUBn2XB5vYKxDfn0j/clXarJe3Omdxub1NpGQIIeCvwL7nq/kZarbYEna6cXfGXyNuuojAEPBZwL+o8LpXSaiLgjikCvpp0HGU2RiAeXUh0vC9hEEh4MJC7xrSchiKAgD8Cv8iw90yCIJSdg54Mhvwl8qdvqKRJApy3m94m4DMWBHyWBZtbKBDfyPnLjgSt1mSsBx15eX4j/LvHLexrmoRADQTim7/I0e430//v/UZ2D/tyfvO1BpVTIgII+CLgXtT5Uhd11FfAHVMEfPXtSyrfMoF4JBenB7ITBBKo/3YO5PRixLXslnUzzUGgLgLx6Ec52X8y+XsUPJH940guRlzL1qX/qHM7BDhvN/1IwGcsCPgsCza3SeBWrr4/kt32NNhr78ph/1xuSPa2qZNpCwI1FbiVq7OudIL29P+DQ+m8/Mjfp5r2JmUjULWAe1FX9fE53vYJuGOKgG/7+pgW1U3gToYfTmQ/nAZ74b4cRxcy4lq2bh1JvQhsocCdDAc9OdgJp0HfnhycfuLv0xb2NE3yU4DzdtMvBHzGgoDPsmBzGwS+ys35H60vztUMmXdyxX33tqFzaQMC2yWgZhj3D2f/IcL3V8Id+rarm2kNAmULuBd1Ze+f/TVPwB1TBHzNGwO02BeBrzK6eG19ca5myLyXIffd86WDqAMBBLSAmmEcHc/+Q4QPQ+EOfRqInwhsRoDzduNKwGcsCPgsCzbrLBDL/dU7OUyWvlP3uPojS9/VuUupHYGmCNxfyVmXpYSb0t20E4F1BdyLunX3x+cRcMcUAR9jAoGqBWJ5GL6X42TpO3WPq9csfVd1N3A8BBDIL/AwlEGPpYTzw/EJBIoJcN5u3Aj4jAUBn2XBZj0F4puP8rITJmO5vXsk31/dltgYFR6+l37/xJoZOF36s6VmCP5J+m+KLP/5VT73n0lb3x/Q/RkcyXnazMP479J/qu/hpevQP9sSHH6cnwG06DNhV65mlnpRSwe+kdeHu05dKjA9kX7/fbHZkIuOr9o8V8Ok6+Kbc3kzY65q6MpZob7dVB8uHmaT+v9khc66j1rS3j2U1/0oCaDjz3152v6NdK/+tXiHK17Z/PFWjNfx+F2vDUubqGa7vemXOzbTxqU7HlX4NjMOVT9Of+/Pyp1tt/m/ZUuFeREBBGoi4F7U1aRsyvRYwB1TBHwedxalbZ1APPokpwd706XuAgn3T+TD8K7Edqrw8AeJolfWzMDp0p/je2h9J9G7Ist/fpUv0W8l1PcHdH/unMhF2szD+CeJOvoeXroO/TOUneNP8zOAFn1mryfDmWtZtXTgO3l7vO/UpQLTVxJFPxSbDbno+KrNczVMui4eXci7GXNVQ08Ghfp2U324eJhN6v/OCp11H6kxeixvoz8nAXT8JZJO+Ex6w18W73DFK5s/3orxOh6/67VhaRPVbLd3UbljM21cuuNRhW8z41D1o5oZ/J1Eg3Jn223+b9lSYV5EoDECnLebribgMxZJKGIPEOtlNhHwV2Djs17cWYEmoLF/X8x23vtorQhMKg34VFv7KQFmWpsLLHuaFqToQNMNVFSQ89KazaTfl/z8RnaP/pLxfmWb7sP5Xw83pDHjY5FlX/qH/6+0Wm0Ju5cyc406v/u5Z6o73orxurGAz7mfZjIO0jxz/g6mjctkPN7KVf+5BEuP15JW8Ds5uynzxuLumGU28tyg5wkEGi7g/v9KwzlofgkC7phSj/kfAghsWGDjs17cWYEmoAncMG78OO99tFYEJpUGfKqtUUqAmdbmAsuepgUp2tANVFSQc2rNZtLvS34+kf2THzPer2zTfTg/xt2QJn2saFdlGUl0/L8kCELZ613nv5Z1Au7NHW/FeB33zyYCPud+msk40Ib2z5y/g2njMhmPdzKMXsjO0uMFEuwcyWBU7rUss5Hnf694BoEyBThvN5pcsRgLAj7Lgs2aCFRy36qvcnP2O/PlftCRbv/N/Oyx8ayi19KdmUH4Ui7TZt4t5L2Vy+7TyYy5vGHB/X9Jd7wsaVuC599nDL1E4quuhCq4GIcZs0HGeHbZ3IxEdW/DSPozywg+l36h2XQTiNka1HNuyKiCxP805jP9/h/SOfvvhaKTF6rsw2mbxjPxpsHTeMyYWXozxY5nhbmz+/IHfJOZf9Udb6YN9oP4UrphW1qtkmfwJeNbtXHRrLm0sVkgdLs9k057+jvx7xv5eDSdxdrelcPX7sxVNdP1P83szLy/t7bdwm33fqKhdLpnxWbQLjwGLyCAQB0F3Iu6OraBmv0ScMcUAZ9f/UM1WyZQyX2rvspocGS+3N85kF70bn722HhW0VvpzcwgPJXrtJl3C7vhTq57ncmMubxhwcOl9MbLkoay8+JDxtBLJB72ZE8FF+MwYzbIGM8um5uRqO5t+GeJZpYRfCFRodl0E4jZGtRzbsiowq83xnym338tB4N/LBSdvFBlH07bNJ6JNw2cxmPGzNKbKXY8K8yd3Zc/4JvM/KvueDNtsB/E19LbCyUISg74kvGt2rho1lza2CwQut0N5CCc/k78eySfTqazWMN9OX7rzlxVM13fmNmZeX9vbbuF2+79RPfkoDcoNoN24TF4AYFmCnDebvqdgM9YEPBZFmz6LqC+VO9as8w29YW3PVMplE7/cn7Jyzmq2Vk37d28IZ8VRgUZg7Mk/MgX7qnSTbj2f+T1yTRcbO/K0ceblf/qbmbG2BrBhqlBLRPqhoy/l48LZkVNlqJ0Axe3Qx6hD5PZYHlmGFr9nncGX9XHc4ntx5sI+JLxrZY0zbjs7v2l9HXYnndsJgGf+Z1o7y4eh+Pmx5/l7PlkeeB250zKXBjY8DozGFXg2C+yJLDZI1sIIFBvAfeirt6toXofBNwxRcDnQ69Qw/YJqC/Ve9Yss0194W3PVNqTg+h6fsnLOdzZmWLhft6QzwqjdjIGZ0n4kS/cU6WbcO338vbVNFwM9+Xk02j1taw9Y2yNYMPUoJYJdUPGP8inBbOiJktRuoGL2yGP0IfJbLA8Mwytfs87g6/q47nE9uNNBHzJ+M6x7O7DtUQ6bM87NpOAz/xOhPuLx+G4+fEXGbyYLA8cHgykzIWBDa8zg1EFjlGRJYHNHtlCoOkCnLebEUDAZywI+CwLNn0VUDNZ+ma2zHgmTz+5f1m5Vcdyf340mbnXfirdy5xf2Sdf+C+4F97SYq2wZ8Wx45u/yFGBmXv68Em4ppcfzBuGJO1sSftpXz7nXVfSDhmDjpwk9/zLGqjqlqT9fJw+TEyTJR7Takt77p9yfvir3Et0Vn28tMqT58oO+JLxpZan7OectWbPiF1wH8ukcGtDB3zJ70TGz5bddqukmU136Vo1Q7TkewDOHI8HCCDgrYB7UedtoRRWGwF3TBHw1abrKLQWAmomS2Rmy4xn8kTJ/cvKbUIsDxcnk5l7YUd61zm/sk++8F9wL7ylxVphz4pjx6Mf5aTAzD19+CRc08sP5g1DknYGEnYi+VLkWlbPItw5kFfJPf+yBqq6JWk/H6cPE9Nkice02tKe+1kujr/NvURn1cdLqzx5ruyALxlf6r6LUc5Za/aM2AX3sUwKtzZ0wJf8TmT8bNltt0qa2XSXrlUzREu+B+DM8XiAwBYLcN5uOpeAz1gQ8FkWbPomoGbFnVnLX6ov+7tmycZNlJt8Wf8rOTz/Z7EjJDOPiuxjdcgX33wvzwO1HGKemWKzTUnCoXGYUaROldD9XfpPv5FWK8tymbPHV49ma1D3Mss4c3F+V7PPPFIf6vbkn8mlA8l8y1tWfbxZZOdRYp6vDc5epg9juT17Pl6yNv9MWL0LPbMux7KndsCXK/D+l1x1f5M7oE1v++pn1QzWfhKIq9mNh9I/Xz3zdvWeeQcCCNRFwL2oq0vd1OmvgDumCPj87Ssqq5OAmhU3sJa/VF/298ySjZtoSvJl/bdyfPFzsSMkM4+K7GN1yBePPsiLHbUcYp6ZYrNNScKhcZhRpE51MfqTRJ0nEgRZlsucPb56NFuDupdZxpmL87uafeaR+lC3J/9MLh1I5lvesurjzSI7jxLzfG1w9jJ9GMvd4MV4ydr8M2H1LvTMuhzLntoBX67A+xcZ9p7lDmjT2776WTWDNUoCcTW78Viii9Uzb1fvmXcg0BwBzttNXxPwGQsCPsuCTZ8EzJf8+o9X/uAkb3vMMdc9VvHwRdW8OOSbCfe6/5Vh6dB0A11fq1VkpqHZZ7Kf3LPWZgO+lUshmkOu2HrEPkwColCen31euTzMioasfrnq4y2rqMyAr6x9aZ/2czm7zfDPcvX7W3kDbz3mcoSJyywzvaZDxen9F/Mu75rpGLwJAQR8FdDnRfqnr3VSV30E9Fiyf9aneipFwEcB8yV/MJ1Rkz84ydsuc8x1j1U8fFE1Lw75ZsK93mWGpUPTDXR9QVBkpqHZZ7Kf3LPWZgO+lUshmkOu2HrEPkwCoj15Mfiy+WvZqo+3TL7MgK+sfWmf8IUM7jJcy+r3B3kDbz3mcoSJyywzvaZDxen9F/Mu75rpGLwJge0VsM/X9fb2tnZ5ywj4LB89GOyf1stsIvCIAlXP4PtvOev8h7RaJcxC0rPbsoYLc8qx3F++lN12S1rT5TrLCvfUoZJgbu22FjdLaigQDs5xJU8UryfZhd7I3Yf2ff8mM6te999scMZp1cfTMCk/ywrlrLG5bsguokOwjDNMdcCXezxWG/Axgy9l/PEUAg0TsM/Z1Tb/Q2BdAXdMMa7WFeXzCCiBqmfw/UMGB7+WIChhFpKe3ZY1XJjr8Fgerk9lPwwkmC7XWVa4N5bVy2Ou3dbiZuuEg3NcyRPF60l2oTdy96F937/JzKq30bsNzjit+ngaJuVnWaGcNbNz3ZBdRIdgGWeY6oAvd1hdbcDHDL6U8cdTCOQU4LzdgHElbCyYwWdZsOmrQEX34NNf8BcO5Wy/nOGC/dFk2wr59H3B1LKca8zc07tOwrW121q8nUkNuQMV3YqUn4/eh7dy1X8+uYdj0md6lpX6qZaZPZF+vy/9/vuc95ZLaa9Ufby0GtSVzKV0Q7Vs7LrhuB5P5cyG02MsU1iox07u8VhRwMc9+BYMPp5GoHkC7kVd8wRocdkC7pgi4CtbmP01W6Cie/DpL/gLh3J2L+UMF+yPJttWyKfvC6aW5Vxj5p7edRKurd3W4u1MasgdqOhWpPx89D68k2H0YnIPx6TP9Cwr9VMtM/tKoiiSKPoh573lUtorVR8vrQZ1LXstvT21bOy64bgeT+XMhtNjLFNYqMdO7vFYUcDHPfgWDD6eRiC/AOftxoyAz1gQ8FkWbPoucCtXZ13pjO8/p8KSUDrdsxJCkmm79Rf8qcGMHdLk2V43qNCBx+SYmYKKDN2og49W7jDD3bmuL387y6vBqsmTPlSzrN70T6yxunjMtHeP5PurW6sR+TerPt5chaUFfHoGZsZZd3OFzD6Ra4zpsZP7d2LTAd+tXH1/NJnNq/42tXflsH8uNxlWapnV4BECCGyLgHtRty3toh2PJ+COKQK+x+sLjrzNAncyHPTkYHz/ORWW7MlBb1BCSDI101/wpwYzdkiTZ3vdoEIHHpNjZgoqMgwBHXwEucMMd+e6vvztLK8GqyZP+lDNsnoXvbLG6uIxE+6fyIfhndWI/JtVH2+uwtICPj0DM+Osu7lCZp/INcb02Mn9O7HpgO9Ohh9OJrN51d+mcF+OowsZcS0729k8QiCHAOftBouAz1gQ8FkWbNZEQM1k6R/OfuH9/VXh+9ElrdZf8HsT8KXN4Cvn/m65go8EKG2DgC9NZf45FU6/mc7c68vrw11pz4yzcmZmmuNWfDxPAz7Rv9NZQrs87zXQ4+WXbs+eS7v0++Cpmct/tELikv9Bw0wbeIAAAnUScC/q6lQ7tfop4I4pAj4/+4mqtkRAzWSJjme/8P4wLHw/ukRFf8HvTcCXNoOvnPu75Qo+EqC0DQK+NJX551Q4/W46cy+St8f7Es6Ms3JmZprjVnw8TwM+0b/TWUK7PO810ONr2bvBCwlLvw+emrn82gqJS/4HDTNt4AECzRLgvN30NwGfsSDgsyzYrJnA/ZWcdTtmOcSgIy/Pb4rfEFp/wb/2spVlONrhngr1/q/cXvWnX/avH/IlAd/abdUBX/4ZV0kNWcKXrKRe9eGqot17TH4jT/t/Lz5+Vx1ONng8TwO+XGNMj53c47HsGXyqn97J4e430/9/Vsu6/lHOb76u7GHegAACzRBwL+qa0WpauUkBd0wR8G1Sm30jMBV4GMqgd2CWQ9w5kNOLUfFrAf0F/9rLVpbRQ3a4p0K9z3I3jKZf9q8f8iUB39pt1QFf/hlXSQ1ZwpespF714aqi3XtMPpFO9FPx8bvqcHP3tCzxeJ4GfLnGmB47ucdj2TP41Lh4L8f7TyQYh8BqWdfXcjHiWnblEOcNCGQU4LzdQBHwGQsCPsuCzXoKxDcf5WUnTMZy4SUPSwsp1nX8Kjcffz+doTgb5sU338vz8RKl6834SoKPde+ZtoZZUkPuQGWJ7xr1LNnrhl/6Kjdnv5sE1WVaLKx6A8crzV0HxvmXfJ1vrg7eWpJpaVsPAr7S/pbNY/AMAghskYB7UbdFTaMpjyTgjikCvkfqCA7bSIF49ElOD/amX4YHUnjJw9JCinW74auMPv1hOkNxNsyLRx/kxXiJ0vVmfCXBx7r3TFvDLKkhd6CyxHeNepbsdcMvfZXR4GgSVJdpsbDqDRyvNHcdGOdf8nW+uTp4CyTT0rYeBHyl/S2bx+AZBBCwBDhvNxgEfMYiCUXsAWK9zCYCNREoY9ZLmeFCUTYrfGnvytHH+RmJZYR8SbjWaktw+LHw8qbJfgoEU+t8drGuD324uLrFr+h7z/1Gulf/Wvy20l4p+XilBXwielxkCuWWeuixkHF26WMGfGXPRl7qwosIIFB3AfucnSCm7r3pR/3umGJc+dEvVNEkgTJmvZQZLhS1t8KXcF9OPs3PSCwj5EvCtSCUneNPhZc3TfZTIJha57OLdX3ow8XVLX5F33vumfSGvyx+W2mvlHy80gI+ET0uMoVySz30WMg4u/QxA76yZyMvdeFFBBDgvN2MAQI+Y0HAZ1mwuQ0C7n2rvpHdw3dydZ/tLr7x5748bbektfbSlUUs7XDvqXQvbxfuZN2QT4cok/9j+JUcnv9z4bEWvhD/XfpP1TKCGQMUZ0dJDQXCQWdXMw8fow8nx1xnic18YVTVx5sBTntQYsAnyb4Kjktdnw7ssv4u6/fnHo96pmCBWYebup+oNuAnAghspYB7UbeVjaRRlQq4Y0o95n8IIPAYAu59q57I/vF7GT5kvJb9EkknDCRYe+nKIm23w72O9K7vFu5k3ZBPhyiTJQC/leOLnxcea+EL8U8SddQyghkDFGdHSQ0FwkFnVzMP40fow8kx11nyMl8YVfXxZoDTHpQY8Emyr4LjUtenA7usv8v6/bnHo54pWGDW4abuJ6oN+IkAAqkCnLcbFq5YjAUBn2XB5jYJ3MrV90fTZS5VYLcrh/1zuVl5bfRPOT/8lbTUzLbn32d4f1lm2cM9fcT45i9yNL5PV/7lOpNwrdWa/A0Ifidnee7xFX+Ws+eTZVHbT/vyeaWrrtr8TGrIHaiYfaRvVd2HOuDJuBRkatF5ZtRVfbzUgmefTEK5MmYgWu3bfSmXGcP5mYKS8ZkjdKs04LuVq7Pu9J6a6ncwlM7LjxX+vZnR4gECCNRMwL2oq1n5lOuhgDumCPg87CRKapjAnQw/nEyXuVSB3b4cRxcyWnnN9bNcHH8rgZrZ9uJDhveXxZo93NNHjEc/ysn4Pl35l+tMwrXxPb4CCXaOZJDnHl/xFxm8mCyLGnYi+bLSVVdtfiY15A5UzD7St6ruQx3wZFwKMrXoPDPqqj5easGzTyahXBkzEK327Z/KdcZwfqagZHzmCN0qDfjuZDjoTe+pGUgQ7MnB6acK/97MaPEAgcYJcN5uupyAz1gQ8FkWbG6hgJoh87Izub+ZCrOCjrw8n1/2cqbl9/8l3XFwtk7Ip++jl2UWUv5wL6m3YK0mXPs/8vrkqbSVzYIlQZNjTTdm7hOWNxi0dmZq6MpVgYsqa1fzmwVdZneUtQ9NINVqP5P+57w3kI7l/vLlJIzOFHZWfbxZldRHpQZ8ImIFdEGnn3kG7ri2+EY+Hu1OxnRwJOdZA8KKAj4TzKtgT80w7st5nnA9tQN4EgEEmiTgXtQ1qe20dTMC7pgi4NuMM3tFILeAmiFzejC5v5kKs3YO5PRiftnLmf0+XEpvHJytE/Lp++hlmYWUP9xL6i1YqwnXfi9vX3UkVDYLlgRNjjXdmLlPWN5g0NqZqaEnw7KvZQu6WOWJSNY+NIFUEP5Woi/5r2Ufrk8nYXSmsLPq482qpD4qNeBT17I6QA5l5yDKPAN3XFs8kk8n+5MxvXMiF1kDwooCPhPMq2BPzTCO5CJPuJ7aATyJAAJ5BDhvN1oEfMaCgM+yYHN7BeKbc+kfTr70z3JvL7MEZkvau7+Xj5m/gFf3AjyTbmcyu63VWhXw3cpldxqwBc+lf7V4Wc6FvVMgzJoN16waWqq9h/L6jTvbUS19Gkm/a4elOWf9OQ2YrcF5sYSH1fWhFbhlDZGT9lnh3sqxoj9U9fH0cZf8LDvgU4dKxrUak0fyfYbfjbXC50oCPr0Ua1uCTlfOMrRpiTovIYBAQwXci7qGMtDsEgXcMUXAVyIuu0KgBIF4dCHR8eRL/yz39jJLYAYS7v9BPmX+Al7dC3AgvYPJ7LYgWBXw3cl1bxqw7byQaLh4Wc6FDAXCrNlwzaohUO09lrfv3NmOaunTP0vUs8PSnLP+nAbM1uC8WMLD6vrQCtyyhshJ+2JJwr2VY0V/qOrj6eMu+Vl2wKcOlYxrNSZP5EOG3421wudKAj69FKsKLnsyyNCmJeq8hAACBQU4bzdwBHzGgoDPsmBz+wXim7/KXzPO6JmdaaO+kD+R/lzwpczUcntvpN8/sZbcWzUj7qt87j+bzDLSy2S6PxfOPtJLUE6X13Q/p0K6Fctmzodr7r0LF+97Muso+30NzT3Vlu1z1Ws5llq0hvFm+1AfyARu7SCQ/2faH+OgtB+lz866v5Kz/msrCM6zzGrVx8swVlPGYNpJh3pu1djUquOfVsg3GXd/kv7ZldzPvKlo+BzL/fmRmd2b1oYlMzKTez2mfW5pWHsvNzezLfj/2buf18iRPO/j+W/k/9C3ve1Jp7zMoReWgedgTOG5LPTNhwTDHObkLTD41GAwJGOGHrNFoaagSCiKSZrC04caTGGYg0lq/EzztMkyLMuM7YKZYhHfh8jMUIQilU5JqVSGpHdBYeUPS994Rdgl5acilGgODxBAAIEVAu7v1xVv52UEVgq4Y0o95g8CCPgnEN39Vf6acUZPcqaN+kD+OxkuBF+qjWq5vTcyHH5nLbm3akbcF/k0/PVslpFeJtP9unT2kV6CUs0ASv+7atnMxXDNvXdh+n5nx8t3X0NzT7Wn9rnqtRxLLVrDbrN9qA9kArfezo78n3mfTIPS4R/SZ2d9vpGL4WsrCM6zzGrVx8swVpeMw7TxuWpsatXpVyvkm812+16GFzfyOfGmouFzJJ+vTs3s3rQ2PDEjM77XY9r3PRnWfpa7u2QLEs3hAQIIbFyA83ZDzBWLsSDgsyzYRGBBQC3xGR6Ze/mlfpjvhFNBXwapQaC99wyhSaUBn65tHlbaM/XmbZ4FVj/kWy5R7Tae3eU4ZbGM3/OV7IU/SaHVTzbWh9pMrSgZyl5X1fh/5X78Ro6mS7xmbG/GpVHN0ao+XoaxGvfT6jbnCvimjXbup/nksfLcy25bAZ/dk2wjgAAC+QXci7r8e+A7EEgKuGOKgC/pwyMEaiuglvgcnph7+aV+mO+EUzuHcp4aBNoKGUKTSgM+Xds8rLRn6s3bPAusfsy3XKLabTy7y3HKYhm/52vpD38ueC27qT7UZmpFyaH0e6rGn+Th5gc5mS7xmrG9GZdGNUer+ngZxmrcT6vbnCvgmzbauZ/mk8fKcy+7bQV8dk+yjQAC2xDgvN2oE/AZCwI+y4JNBJYKqJDoVZhcojIOGtR9tH4vYfiqNkvuLc7gW9ry5rxQaR+qpVp/kDD8fXrY192Vo5dhymy0otxVH69onWt837z/Xs6X2jUnNfPZtWGB8HmNcvhWBBBAYFsC5vff7D9VbKsOjtscAXdMqcf8QQCBBgmooO/NMLlEZRw0qBlt38tw+KY2S+4tzuBrUF8ta0qlfaiWav1RhsApDFQAACAASURBVMPv08O+3r6cvB6mzEZbVvyq56s+3qp6NvD6vP9ez5faNbMD57NrhwXC5w2UyS4RQMB/Ac7bTR9xxWIsCPgsCzYRaItAKwO+tnQu7UQAAQQQaLSAe1HX6MbSuEoE3DFFwFcJOwdBAIGCAq0M+Apa8W0IIIAAAs0S4Lzd9CcBn7Eg4LMs2ESgLQIEfG3padqJAAIIINA0Afeirmntoz3VC7hjioCv+j7giAggkF2AgC+7Fe9EAAEEEGiWAOftpj8J+IwFAZ9lwSYCbREg4GtLT9NOBBBAAIGmCbgXdU1rH+2pXsAdUwR81fcBR0QAgewCBHzZrXgnAggggECzBDhvN/1JwGcsCPgsCzYRaIsAAV9bepp2IoAAAgg0TcC9qGta+2hP9QLumCLgq74POCICCGQXIODLbsU7EUAAAQSaJcB5u+lPAj5jQcBnWbCJQFsECPja0tO0EwEEEECgaQLuRV3T2kd7qhdwxxQBX/V9wBERQCC7AAFfdiveiQACCCDQLAHO201/EvAZCwI+y4JNBNoiQMDXlp6mnQgggAACTRNwL+qa1j7aU72AO6YI+KrvA46IAALZBQj4slvxTgQQQACBZglw3m76k4DPWBDwWRZsItBYgegnCfe+Sv15X/zHoSu9wbVEjcWgYQgggAACCNRXwP13u74toXJfBNwxpR7zBwEEEPBGIPpZhv2vJQiCDH978uz8I9ey3nQehSCAAAIIlCnAebvR5IrFWKR+4G+9zCYCCDRBIFfA95XshT9xUdSEfqcNCCCAAAKNE3Av6hrXQBpUuYA7pgj4Ku8CDogAAk8J5Ar4vpb+8GeuZZ/y5DUEEEAAgdoKcN5uuo6Az1gQ8FkWbCKAAAIIIIAAAggg4LOAe1Hnc63UVg8Bd0wR8NWj36gSAQQQQAABBBBAoF0CnLeb/ibgMxYEfJYFmwgggAACCCCAAAII+CzgXtT5XCu11UPAHVMEfPXoN6pEAAEEEEAAAQQQaJcA5+2mvwn4jAUBn2XBJgIIIIAAAggggAACPgu4F3U+10pt9RBwxxQBXz36jSoRQAABBBBAAAEE2iXAebvpbwI+Y0HAZ1mwiQACCCCAAAIIIICAzwLuRZ3PtVJbPQTcMUXAV49+o0oEEEAAAQQQQACBdglw3m76m4DPWBDwWRZsIoAAAggggAACCCDgs4B7UedzrdRWDwF3TBHw1aPfqBIBBBBAAAEEEECgXQKct5v+JuAzFgR8lgWbCCCAAAIIIIAAAgj4LOBe1PlcK7XVQ8AdUwR89eg3qkQAAQQQQAABBBBolwDn7aa/CfiMBQGfZcEmAggggAACCCCAAAI+C7gXdT7XSm31EHDHFAFfPfqNKhFAAAEEEEAAAQTaJcB5u+lvAj5jQcBnWbCJAAIIIIAAAggggIDPAu5Fnc+1Uls9BNwxRcBXj36jSgQQQAABBBBAAIF2CXDebvqbgM9YEPBZFmwigAACCCCAAAIIIOCzgHtR53Ot1FYPAXdMEfDVo9+oEgEEEEAAAQQQQKBdApy3m/4m4DMWBHyWBZsIIIAAAggggAACCPgs4F7U+VwrtdVDwB1TBHz16DeqRAABBBBAAAEEEGiXAOftpr8J+IwFAZ9lwSYCCCCAAAIIIIAAAj4LuBd1PtdKbfUQcMcUAV89+o0qEUAAAQQQQAABBNolwHm76W8CPmNBwGdZsIkAAggggAACCCCAgM8C7kWdz7VSWz0E3DFFwFePfqNKBBBAAAEEEEAAgXYJcN5u+puAz1gQ8FkWbCKAAAIIIIAAAggg4LOAe1Hnc63UVg8Bd0wR8NWj36gSAQQQQAABBBBAoF0CnLeb/ibgMxYEfJYFmwgggAACCCCAAAII+CzgXtT5XCu11UPAHVMEfPXoN6pEAAEEEEAAAQQQaJcA5+2mvwn4jAUBn2XBJgIIIIAAAggggAACPgu4F3U+10pt9RBwxxQBXz36jSoRQAABBBBAAAEE2iXAebvpbwI+Y0HAZ1mwiQACCCCAAAIIIICAzwLuRZ3PtVJbPQTcMUXAV49+o0oEEEAAAQQQQACBdglw3m76m4DPWBDwWRZsIoAAAggggAACCCDgs4B7UedzrdRWDwF3TBHw1aPfqBIBBBBAAAEEEECgXQKct5v+JuAzFgR8lgWbCCCAAAI5BaJrGfS6s39Lugcyuo9y7oC3I4AAAgjkEXAv6vJ8L+9FIE3AHVMEfGlKPIcAAggggAACCCCAwHYFOG83/gR8xoKAz7JgEwEEEEAgpwABX04w3o4AAgisJ+Be1K23N74bAeF6kEGAAAIIIIAAAggggEANBNxrwTb/xzwCPmvAMjAsDDYRQAABBPIJEPDl8+LdCCCAwJoC7rn7mrvj2xEg4GMMIIAAAggggAACCCBQAwH3WpCArwadVkWJDIwqlDkGAggg0FABAr6GdizNQgABXwXcc3df66Su+gi4Y6rNHxTUp9eoFAEEEEAAAQQQQKBtApy3mx5nBp+x4H9sWhZsNl8gmvxF/vLIPcKa39O0sDIBAr6c1I8ymTzm/B7ejgACCBgB96LOvMIWAsUE3DFFwFfMke9CAAEEEEAAAQQQQGCTApy3G10CPmNBwGdZsNlcgWhyKeHRrnQ7Hen2R3Lf3KbSMgQQ8FbgHzIe/FI6na4E/YGMxvwm8rarKAwBjwXcizqPS6W0mgi4Y4qAryYdR5kIIIAAAggggAACrRLgvN10NwGfsSDgsyzYbKBANJHLs74Enc5srAd9ObucCHP4GtjXNAmBGghEkz/K8e5X8397v5Ldo1AuJ19qUDklIoCALwLuRZ0vdVFHfQXcMUXAV9++pHIEEEAAAQQQQACB5gpw3m76loDPWBDwWRZsNkngXsZvj2W3Ow/2urtyFF7KhGSvSZ1MWxCoqcC9jEcD6Qfd+b/BPemfvef3U017k7IRqFrAvair+vgcr3kC7pgi4GteH9MiBBBAAAEEEEAAgfoLcN5u+pCAz1gQ8FkWbDZB4ItMLn9nfXCuZsi8kTH33WtC59IGBJoloGYYh0fJ/4jwdizcoa9Z3UxrEChbwL2oK3v/7K99Au6YIuBr3xigxQgggAACCCCAAAL+C3DebvqIgM9YEPBZFmzWWSCSx/EbOYqXvlP3uPodS9/VuUupHYG2CDyOZTRgKeG2dDftRGBdAfeibt398f0IuGOKgI8xgQACCCCAAAIIIICAfwKct5s+IeAzFgR8lgWb9RSIJu/lrN+Lx3J391jeju9LbIwKD3+QMDy1ZgbOl/7sqBmCv5fwVZHlP7/IbfiNdPX9Ad2vwbFcps08jH6ScE/fw0vXob92JTh6vzgDaNn39AYyTixbqpYOfCUvj3adulRgeiph+EOx2ZDLjq/avFDDrOuiyaW8SpirGgYyKtS3m+rD5cNsVv/vrdBZ91FHurtH8jIcxgF0dBvKXveXMhj/Y/kOV7yy+eOtGK/T8bteG55soprt9iosd2ymjUt3PKrwLTEOVT/Of+5H5c622/zvsieFeREBBGoi4F7U1aRsyvRYwB1TBHwedxalIYAAAggggAACCLRWgPN20/UEfMYiDkXsAWK9zCYC/gpsfNaLOyvQBDT2z4vZznsfrRWBSaUBn2prmBJgprW5wLKnaUGKDjTdQEUFOWfWbCb9vvjrV7J7/MeM9yvbdB8u/ni4IY0ZH8ssQwmP/k06na70BteSyFsXd7/wTHXHWzFeNxbwOffTjMdBmmfOn8G0cRmPx3sZhwcSPHm8jnSC38ho8mWhX4o/4Y5ZZiMXt+Q7EWimgPvvSjNbSauqFHDHlHrMHwQQQAABBBBAAAEEEPBLgPN20x9csRgLAj7Lgs2aCFRy36ovMhn9xny4H/RlEL5anD02nVX0UgaJGYRncp02824p771cD/ZmM+byhgWPf5bBdFnSrgQHbzOGXiLReCA9FVxMw4xkkDGdXbYwI1Hd23AoYWIZwQMJC82mm0Eka1DPuSGjChL/y5gn+v1fpD/676Wisxeq7MN5m6Yz8ebB03TMmFl6iWKns8Lc2X35A77ZzL/qjpdog/0gupZBryudTskz+OLxrdq4bNZc2tgsELrdj6Tfnf9M/O9E3h/PZ7F2d+XopTtzVc10/S8zOzPvz61tt3TbvZ9oT/qDUbEZtEuPwQsIIFBHAfeiro5toGa/BNwxRcDnV/9QDQIIIIAAAggggAACSoDzdjMOCPiMBQPDsmDTdwH1ofrAmmW2qQ+87ZlKPemH14tLXi5QJWfddHfzhnxWGBVkDM7i8CNfuKdKN+Haf8rL03m42N2V4/eTlTPIEjPG1gg2TA1qmVA3ZPxW3i+ZFTVbitINXNwO2UIfxrPB8swwtPo97wy+qo/nEtuPNxHwxeNbLWmacdndx2sJddied2zGAZ/5mejuLh+H0+ZHtzI6mC0P3O2PpMyFgQ2vM4NRBY5hkSWBzR7ZQgCBegu4F3X1bg3V+yDgjikCPh96hRoQQAABBBBAAAEEEEgKcN5uPAj4jAUBn2XBpq8CaiZLaGbLTGfyhPH9y8qtOpLHy+PZzL3ungyuc35kH3/gv+ReeE8Wa4U9K44dTf4oxwVm7unDx+GaXn4wbxgSt7Mj3b1QbvOuK2mHjEFfTuN7/mUNVHVL0r5upw9j03iJx7Ta0p77m1we/SL3Ep1VHy+t8vi5sgO+eHyp5SnDnLPW7BmxS+5jGRdubeiAL/6ZyPi9ZbfdKimx6S5dq2aIlnwPwMTxeIAAAt4KuBd13hZKYbURcMcUAV9tuo5CEUAAAQQQQAABBFokwHm76WwCPmNBwGdZsOmbgJoVN7KWv1Qf9g/Mko2bKDf+sP4XcnT5t2JHiGceFdnH6pAvmryVg0Ath5hnpliyKXE4NA0zitSpErqfJNz7SjqdLMtlJo+vHiVrUPcyyzhzcXFXyWe21Ie6PflnculAMt/yllUfL4nsPIrN87XB2cv8YST3o4PpkrX5Z8LqXeiZdTmWPbUDvlyB9z9kPPhl7oA2ve2rn1UzWMM4EFezG48kvFw983b1nnkHAgjURcC9qKtL3dTpr4A7pgj4/O0rKkMAAQQQQAABBBBorwDn7abvCfiMBQGfZcGmTwLmQ379yyt/cJK3PeaY6x6rePiial4e8iXCvcGfMywdmm6g6+t0isw0NPuM95N71loy4Fu5FKI55IqtLfZhHBD15GB0u3Kp0xUNWf1y1cd7qqIyA76y9qV9ugcyus8wxVS/v5M38NZjLkeY+JRlptd0qDi//2Le5V0zHYM3IYCArwL6vEh/9bVO6qqPgB5L9tf6VE+lCCCAAAIIIIAAAgi0Q8A+X9fb7Wj5YisJ+CwTPRjsr9bLbCKwRYGqZ/D9t4z6/yKdTgmzkPTstqzhwoJyJI/XZ7Lb7UhnvlxnWeGeOlQczK3d1uJmcQ0FwsEFrviJ4vXEu9AbufvQvu/fbGbVy/DVBmecVn08DZPytaxQzhqb64bsIjoEyzjDVAd8ucdjtQEfM/hSxh9PIdAyAfucXW3zB4F1BdwxxbhaV5TvRwABBBBAAAEEEECgfAHO240pV8LGghl8lgWbvgpUdA8+/QF/4VDO9ssZLtjfGm9bIZ++L5halnONmXt613G4tnZbi7czriF3oKJbkfJ16314L+PwYHYPx7jP9Cwr9VUtM3sqYRhKGP6Q895yKe2Vqo+XVoNK5a5l0FPLxq4bjuvxVM5sOD3GMoWFeuzkHo8VBXzcg2/J4ONpBNon4F7UtU+AFpct4I4pAr6yhdkfAggggAACCCCAAALrC3DebgwJ+IwFAZ9lwabvAvcyHg2kP73/nApLetIfjEoISebt1h/wpwYzdkiTZ3vdoEIHHrNjZgoqMnSjDj46ucMMd+e6vvztLK8GqyZP+lDNsnoVnlpjdfmY6e4ey9vxvdWI/JtVH2+hwtICPj0DM+Osu4VCkk/kGmN67OT+mdh0wHcv47fHs9m86ndTd1eOwkuZZFh1NKnBIwQQaIqAe1HXlHbRju0JuGOKgG97fcGREUAAAQQQQAABBBBYJsB5u5Eh4DMWBHyWBZs1EVAzWcKj5Afeb8eF70cXt1p/wO9NwJc2g6+c+7vlCj5ioLQNAr40lcXnVDj9aj5zL5SXR7vSTYyzcmZmmuNWfDxPAz7RP9NZQrs87zXQavqi3I8OpFv6ffDUzOXfWSFxyf+hIdEGHiCAQJ0E3Iu6OtVOrX4KuGOKgM/PfqIqBBBAAAEEEEAAgXYLcN5u+p+Az1gQ8FkWbNZM4HEso0HfLIcY9OXsciKFJ7boD/jXXrayDEc73FOh3v+T+3E4/7B//ZAvDvjWbqsO+PLPuIpryBK+ZCX1qg9XFe3eY/Ir2Qt/Kj5+Vx1ONng8TwO+XGNMj53c47HsgE/10xs52v1q/u+zWtb1d3I5+bKyh3kDAgi0Q8C9qGtHq2nlJgXcMUXAt0lt9o0AAggggAACCCCAQDEBztuNGwGfsSDgsyzYrKdANHkvZ/1ePJYLL3lYWkixruMXmbz/dj5DMRnmRZO3cjBdonS9GV9x8LHuPdPWMItryB2oPOG7Rj1P7HXDL32Ryeg3s6C6TIulVW/geKW568A4/5Kvi83VwVtHMi1t60HAV9rvskUMnkEAgQYJuBd1DWoaTdmSgDumCPi21BEcFgEEEEAAAQQQQACBJwQ4bzc4BHzGIg5F7AFivcwmAjURKGPWS5nhQlE2K3zp7srx+8UZiWWEfHG41ulKcPS+8PKm8X4KBFPrfO9yXR/6cHl1y1/R9577pQzG/1j+ttJeKfl4pQV8InpcZArlnvTQYyHj7NJtBnxlz0Z+0oUXEUCg7gL2OTtBTN1704/63THFuPKjX6gCAQQQQAABBBBAAAFbgPN2o0HAZywI+CwLNpsg4N636ivZPXoj48dsC3dGt6HsdTvSWXvpyiKWdri3J4Pr+6U7WTfk0yHK7B+GX8jR5d+WHmvpC9FPEu6pZQQzBijOjuIaCoSDzq4SD7fRh7NjrrPEZr4wqurjJYDTHpQY8Em8r4LjUtenA7usP8v6/bnHo54pWGDW4abuJ6oN+IoAAo0UcC/qGtlIGlWpgDum1GP+IIAAAggggAACCCCAgF8CnLeb/uCKxVgQ8FkWbDZJ4F7Gb4/ny1yqwG5XjsJLmazM+f4ml0e/kI6a2XbwNsP7yzLLHu7pI0aTP8rx9D5d+ZfrjMO1Tmf2OyD4jYzy3OMrupXRwWxZ1O5eKLcrXXXV5mtcQ+5AxewjfavqPtQBT8alIFOLzjOjrurjpRacfDIO5cqYgWi1b/dMrjOG84mC4vGZI3SrNOC7l/FoML+npvoZ7En/7H2Fv28SWjxAAIGaCbgXdTUrn3I9FHDHFAGfh51ESY0UiO4+yIvDZxIEwezvzqG8uLrb2D25m368Rg4SGoUAAggggIAlwHm7wSDgMxYEfJYFmw0UUDNkzvqz+5upMCvoy9nl4rKXiZY//lkG0+BsnZBP30cvyyyk/OFeXG/BWk249p/y8nRPuspmyZKg8bHmG4n7hOUNBq2dmRoGMi4QEFq7Wtws6JLcUdY+NIFUp/uNhLdfkrtZ+SiSx+uzWRidKeys+ngrGyBm1l0ZAZ+IWAFd0A8zz8CdVhpN5P3x7mxMB8dymTUgrCjgM8G8CvbUDONQLvOE6xm6g7cggECzBdyLuma3ltZVIeCOKQK+KtQ5RusFPn+Qk52eCfd0yNf7tQw/5b2eyKDZ9ONlIOAtCCCAAAII1F2A83bTgwR8xoKAz7Jgs7kC0eRSwqPZh/5Z7u1llsDsSHf3W3mf+QN4dS/AkQz6s9ltnc6qgO9ergfzgC04kHC8fFnOpb1TIMxKhmtWDR3V3iN5+cqd7aiWPh1KOLDD0pyz/pwGJGtwXizhYXV9aAVuWUPkuH1WuLdyrOhvqvp4+rhPfC11Bt/8OPG4VmPyWN5m+NlYK3yuJODTS7F2JegPZJShTU+o8xICCLRUwL2oaykDzS5RwB1TBHwl4rIrBFIFInm4eC49Heolvvbk2fnHkmfxNf14qcg8iQACCCCAQOMEOG83XUrAZywI+CwLNpsvEE3+In/JOKMnOdNGfSB/KuFC8KXM1HJ7ryQMT60l91bNiPsit+E3s1lGeplM9+vS2Ud6Ccr58pru96mQbsWymYvhmnvvwuX7ns06yn5fQzO766l9rnotx1KL1jDebB/qA5nArRsE8q/z/pgGpeEwfXbW41hG4UsrCM6zzGrVx8swVlPGYNpJh3pu1djUqtOvVsg3G3e/l3A0lsfEm4qGz5E8Xh6b2b1pbXhiRmZ8r8e073syrH2UySTZgkRzeIAAAgisEHB/v654Oy8jsFLAHVPqMX8QQGCTAk0P3Kpu3yb7in0jgAACCCDgjwDn7aYvuGIxFgR8lgWbCCwIqCU+wyNzL7/UD/OdcCroyyA1CLT3niE0qTTg07XNw0p7pt68zbPA6od8yyWq3cazuxynLJbxe76SvfCnYv+TdWN9qM3UipKh7HVVjf9X7sdv5Gi6xGvG9mZcGtUcrerjZRircT+tbnOugG/aaOd+mk8eK8+97LYV8Nk9yTYCCCCQX8C9qMu/B74DgaSAO6YI+JI+PEJgIwJNXzKz6vZtpJPYKQIIIIAAAn4JcN5u+oOAz1gQ8FkWbCKwVECFRK/C5BKVcdCg7qP1ewnDV7VZcm9xBt/SljfnhUr7UC3V+oOE4e/Tw77urhy9DFNmoxXlrvp4Retc4/vm/fdyvtSuOamZz64NC4TPa5TDtyKAAALbEjC//2b/qWJbdXDc5gi4Y0o95g8CCGxeILr7IC8On5n78O08l+HNw8YO3PTjbQyOHSOAAAIIIOCJAOftpiO4YjEWBHyWBZsItEWglQFfWzqXdiKAAAIINFrAvahrdGNpXCUC7pgi4KuEnYMggAACCCCAAAIIIJBLgPN2w0XAZywI+CwLNhFoiwABX1t6mnYigAACCDRNwL2oa1r7aE/1Au6YIuCrvg84IgIIIIAAAggggAACqwQ4bzdCBHzGgoDPsmATgbYIEPC1padpJwIIIIBA0wTci7qmtY/2VC/gjikCvur7gCMigAACCCCAAAIIILBKgPN2I0TAZywI+CwLNhFoiwABX1t6mnYigAACCDRNwL2oa1r7aE/1Au6YIuCrvg84IgIIIIAAAggggAACqwQ4bzdCBHzGgoDPsmATgbYIEPC1padpJwIIIIBA0wTci7qmtY/2VC/gjikCvur7gCMigAACCCCAAAIIILBKgPN2I0TAZywI+CwLNhFoiwABX1t6mnYigAACCDRNwL2oa1r7aE/1Au6YIuCrvg84IgIIIIAAAggggAACqwQ4bzdCBHzGgoDPsmATgcYKRD9JuPdV6s/74j8OXekNriVqLAYNQwABBBBAoL4C7r/b9W0Jlfsi4I4p9Zg/CCCAAAIIIIAAAggg4JcA5+2mP7hiMRapH/hbL7OJAAJNEMgV8H0le+FPBHxN6HfagAACCCDQOAH3oq5xDaRBlQu4Y4qAr/Iu4IAIIIAAAggggAACCKwU4LzdEBHwGQsCPsuCTQQQQAABBBBAAAEEfBZwL+p8rpXa6iHgjikCvnr0G1UigAACCCCAAAIItEuA83bT3wR8xoKAz7JgEwEEEEAAAQQQQAABnwXcizqfa6W2egi4Y4qArx79RpUIIIAAAggggAAC7RLgvN30NwGfsSDgsyzYRAABBBBAAAEEEEDAZwH3os7nWqmtHgLumCLgq0e/USUCCCCAAAIIIIBAuwQ4bzf9TcBnLAj4LAs2EUAAAQQQQAABBBDwWcC9qPO5Vmqrh4A7pgj46tFvVIkAAggggAACCCDQLgHO201/E/AZCwI+y4JNBBBAAAEEEEAAAQR8FnAv6nyuldrqIeCOKQK+evQbVSKAAAIIIIAAAgi0S4DzdtPfBHzGgoDPsmATAQQQQAABBBBAAAGfBdyLOp9rpbZ6CLhjioCvHv1GlQgggAACCCCAAALtEuC83fQ3AZ+xIOCzLNhEAAEEEEAAAQQQQMBnAfeizudaqa0eAu6YIuCrR79RJQIIIIAAAggggEC7BDhvN/1NwGcsCPgsCzYRQAABBBBAAAEEEPBZwL2o87lWaquHgDumCPjq0W9UiQACCCCAAAIIINAuAc7bTX8T8BkLAj7Lgk0EEEAAAQQQQAABBHwWcC/qfK6V2uoh4I4pAr569BtVIoAAAggggAACCLRLgPN2098EfMaCgM+yYBMBBBBAAAEEEEAAAZ8F3Is6n2ultnoIuGOKgK8e/UaVCCCAAAIIIIAAAu0S4Lzd9DcBn7Eg4LMs2EQAAQQQQAABBBBAwGcB96LO51qprR4C7pgi4KtHv1ElAggggAACCCCAQLsEOG83/U3AZywI+CwLNhFAAAEEEEAAAQQQ8FnAvajzuVZqq4eAO6YI+OrRb1SJAAIIIIAAAggg0C4BzttNfxPwGQsCPsuCTQQQQAABBBBAAAEEfBZwL+p8rpXa6iHgjikCvnr0G1UigAACCCCAAAIItEuA83bT3wR8xoKAz7JgEwEEEEAAAQQQQAABnwXcizqfa6W2egi4Y4qArx79RpUIIIAAAggggAAC7RLgvN30NwGfsSDgsyzYRAABBBBAAAEEEEDAZwH3os7nWqmtHgLumCLgq0e/USUCCCCAAAIIIIBAuwQ4bzf9TcBnLAj4LAs2EUAAAQQQQAABBBDwWcC9qPO5Vmqrh4A7pgj46tFvVIkAAggggAACCCDQLgHO201/E/AZCwI+y4JNBBBAAAEEEEAAAQR8FnAv6nyuldrqIeCOKQK+evQbVSKAAAIIIIAAAgi0S4DzdtPfBHzGgoDPsmATAQQQQAABBBBAAAGfBdyLOp9rpbZ6CLhjioCvHv1GlQgggAACCCCAAALtEuC83fQ3AZ+xIOCzLNhEAAEEEEAAAQQQQMBnAfeizudaqa0eAu6YIuCrR79RJQIIUhK+ywAAIABJREFUIIAAAggggEC7BDhvN/1NwGcsCPgsCzYRQAABBBBAAAEEEPBZwL2o87lWaquHgDumCPjq0W+brvI2FOl2RDrL/nZFRvebroL9I4AAAggggAACCGgBztu1hAgBn7Eg4LMs2EQAAQQQQAABBBBAwGcB96LO51qprR4C7pgi4KtHv226SgK+TQuzfwQQQAABBBBAIJ8A5+3Gi4DPWBDwWRZsIoAAAggggAACCCDgs4B7UedzrdRWDwF3TBHw1aPftlZlJDLoiXSYwbe1LuDACCCAAAIIINBOAc7bTb8T8BkLAj7Lgk0EEEAAAQQQQAABBHwWcC/qfK6V2uoh4I4pAr569NvWqiTg2xo9B0YAAQQQQACBdgtw3m76n4DPWBDwWRZsIoAAAggggAACCCDgs4B7UedzrdRWDwF3TBHw1aPftlYlAd/W6DkwAggggAACCLRbgPN20/8EfMaCgM+yYBMBBBBAAAEEEEAAAZ8F3Is6n2ultnoIuGOKgK8e/ba1Kgn4tkbPgRFAAAEEEECg3QKct5v+J+AzFgR8lgWbCCCAAAIIIIAAAgj4LOBe1PlcK7XVQ8AdUwR89ei3rVVJwLc1eg6MAAIIIIAAAu0W4Lzd9D8Bn7Eg4LMs2EQAAQQQQAABBBBAwGcB96LO51qprR4C7pgi4KtHv22tSgK+rdFzYAQQQAABBBBotwDn7ab/CfiMBQGfZcEmAggggAACCCCAAAI+C7gXdT7XSm31EHDHFAFfPfpta1US8G2NngMjgAACCCCAQLsFOG83/U/AZywI+CwLNhFAAAEEEEAAAQQQ8FnAvajzuVZqq4eAO6YI+Pzvt8exSBiK9AORTif5d/dIJHwlMok21I4KAr5oIvIqFDnaTbZNtbW7K/IyFLmczNoX3YrsdUUG4+Lt3ZZndPdBXhw+kyAIZn93nsvw5qF4Q/hOBBBAAAEEEGi0AOftpnsJ+IwFAZ9lwSYCCCCAAAIIIIAAAj4LuBd1PtdKbfUQcMcUAZ+//aaCqLTQyw359OP+2QaCvg0GfCrYO+svhnq6Pe7XaZh5NHt/byCSN9PcqufnD3Ky0zPhng75er+W4acv/g5CKkMAAQQQQACBrQlw3m7oCfiMBQGfZcEmAggggAACCCCAAAI+C7gXdT7XSm31EHDHFAGfn/02GYkEerZeIDIIRUburLVI5PKVyMAKydSMt+vHEtu0oYBPz8Sbhnjz9ulZeonqH0VGKbP78gZ82/WM5OHiufR0qJf42pNn5x9zh5UJIx4ggAACCCCAQCMFOG833UrAZywI+CwLNhFAAAEEEEAAAQQQ8FnAvajzuVZqq4eAO6YI+Pzrt9tQpDsP9/qhSJa8zp6dVmrIt4mALxIJ92Yz8XaPs886tEO6PAHf9j0J+Pz7KaMiBBBAAAEE/BfgvN30EQGfsSDgsyzYRAABBBBAAAEEEEDAZwH3os7nWqmtHgLumCLg86vfHi/nM/fUfeauc9YWiYwOZsFZcJQtGFx5hA0EfNFYpKcCzJ7IOOc6m5c5l+j0xpMlOlcONd6AAAIIIIAAAkkBztuNBwGfsSDgsyzYRAABBBBAAAEEEEDAZwH3os7nWqmtHgLumCLg86jfdJjWETm6LFjXo8hgdxbyFd6HfWhdU1dkdG+/UHxbB3zdvkjeXerAbuAuV5pWjq7dE8/o7oO8OHxm7sO3cygvru5YnjOt73gOAQQQQAABBMhxrDFAwGdjdDoLg8N6mU0EEEAAAQQQQAABBBDwRMANYzwpizJqLOCOKQI+fzrzfjRbmrNI8GW3Yp0Azd7PdFuHZCUGfCrV63dnIeTBSDYWcHnpuQDMEwgggAACCCCAQLoA5+3GhYDPWCyEe1zQWThsIoAAAggggAACCCDgkYB7UedRaZRSUwF3THE96E9Hjvqz0CvT7LSnytb3uCsjlNtEwCci9n3x1D0DX4Yioyyz8p5qt/Oal55OjTxEAAEEEEAAAQSWCXDebmQI+IwFAZ9lwSYCCCCAAAIIIIAAAj4LuBd1PtdKbfUQcMcUAZ8n/aZntZURyonIeDALC/ujNdu3oYBPVTUO5/cbVPfjS/kb9EXCcPZ3/JizHb565mwGb0cAAQQQQACB9gpw3m76noDPWBDwWRZsIoAAAggggAACCCDgs4B7UedzrdRWDwF3TBHwedJvOpBKCbrSwq+sz/UGay6BucGAT8lHE5FXoUg/SA/57HaqmX5vs87y89XTk+FGGQgggAACCCDgvwDn7aaPCPiMBQGfZcEmAggggAACCCCAAAI+C7gXdT7XSm31EHDHFAGfJ/3mayC14YAvTX88MjP3Xh7N7ktoB327A5GVE/p89UxrMM8hgAACCCCAAAIpApy3GxQCPmNBwGdZsIkAAggggAACCCCAgM8C7kWdz7VSWz0E3DFFwOdJv+lAqqQlOktr1RYCvrTaH8cig/k9ClXYtxeumJnoq2da43gOAQQQQAABBBBIEeC83aAQ8BkLAj7Lgk0EEEAAAQQQQAABBHwWcC/qfK6V2uoh4I4pAj5P+k0HaR2RQdZlKKsoXdflSfA4Gc3v29cTGUdPAOi6ffN8omReQgABBBBAAAEEbAHO240GAZ+xIOCzLNhEAAEEEEAAAQQQQMBnAfeizudaqa0eAu6YIuDzp9/Gg9l96Na+b16ZTdJBmScBn2raaD6Tb1UQ6qVnmX3DvhBAAAEEEECg0QKct5vuJeAzFgR8lgWbCCCAAAIIIIAAAgj4LOBe1PlcK7XVQ8AdUwR8/vRbdCuy1xXpeBSmSckBn27jyiU2n+gWHdz1R0+8SUT0sbzyfLpkXkUAAQQQQAABBGIBzttjCiHgMxYEfJYFm/UTiCbv5azfM+M46MvZ5URdd27kT9OPtxE0dooAAggggAACpQm4F3Wl7ZgdtVbAHVMEfH4Nhcuj2Sy+4EBksqmLnDxNLjngux+JdDsi3b7IfZ46rPdmncGnvsUnz+jug7w4fCZBEMz+7hzKi6u7jV3LWmRsIoAAAggggEANBThvN51GwGcsTDDS6cTb1stsIuCvwON7OQq68biNf8l1v5Hw9kv5dTf9eOWLsUcEEEAAAQQQKFkgPt+Zn7uXvHt210IBd0ypx/zxSOBRZLC7fsg3eS+y2xU5ulyzbRsK+NSsuvA2f22P17N2dVbdg0/v2hfPzx/kZKdnwj0d8vV+LcNPG7iW1e3nKwIIIIAAAgjUVoDzdtN1XLEYi8VwhAs6S4dNfwUiuR8dSNcKps0vua70Btcl/8/Hph/P356mMgQQQAABBBAwAuZ8Z/af88wrbCFQTMAdU+oxf/wSiCYiB8Es5OvuiryfZK/vcSwymN+jTnWttwFfR6QTiJxdSubruDjcy9mu7XtG8nDxXHo61Et87cmz84+ZDbKPBN6JAAIIIIAAAnUX4Lzd9CBXLMaCgM+yYLNOAk0P3KpuX536nloRQAABBBBor4B7UddeCVpeloA7pgj4ypItdz8qlDqez+RTQV3QFwlfpS/bOR6JhKFIfx4KqverGXLH71eHZ7fhbMnM6feo71vjb3dP5HbFsqLxEp2ByL/Oj6VCzJehyGVakPkoMgqToeXuQOQxJ3dVnullEfClu/AsAggggAACCDwlwHm70SHgMxYEfJYFmzUTaPqSmVW3r2bdT7kIIIAAAgi0UcC9qGujAW0uV8AdUwR85fqWurdI5DKcL0mZNXgLRAZLgsC02qoO+KJbkb2uyF4ocj8WObJCzJXhYsbQMq2d0+cq8Fx6bJboXErDCwgggAACCCCQLsB5u3Eh4DMWBHyWBZv1E4gm7+Ws3zPjODiQcFz09uyr29/0460W4B0IIIAAAgggsE0B96Jum7Vw7GYIuGOKgK8G/aqCqVci4UAkSAn6do9mM/hG4xq0JaVEtayomoGYGvap+wi+FAlH+WftpRxq9tSWPKO7D/Li8Jm5D9/OcxnePCwtkxcQQAABBBBAoN0CnLeb/ifgMxYmGLHuZWa9zCYCCCCAAAIIIIAAAgh4IuBe1HlSFmXUWMAdUwR8Ne5MSkcAAQQQQAABBBBorADn7aZrCfiMBQGfZcEmAggggAACCCCAAAI+C7gXdT7XSm31EHDHFAFfPfqNKhFAAAEEEEAAAQTaJcB5u+lvAj5jQcBnWbCJAAIIIIAAAggggIDPAu5Fnc+1Uls9BNwxRcBXj36jSgQQQAABBBBAAIF2CXDebvqbgM9YEPBZFmwigAACCCCAAAIIIOCzgHtR53Ot1FYPAXdMEfDVo9+oEgEEEEAAAQQQQKBdApy3m/4m4DMWBHyWBZsIIIAAAggggAACCPgs4F7U+VwrtdVDwB1TBHz16DeqRAABBBBAAAEEEGiXAOftpr8J+IwFAZ9lwSYCCCCAAAIIIIAAAj4LuBd1PtdKbfUQcMcUAV89+o0qEUAAAQQQQAABBNolwHm76W8CPmNBwGdZsIkAAggggAACCCCAgM8C7kWdz7VSWz0E3DFFwFePfqNKBBBAAAEEEEAAgXYJcN5u+puAz1gQ8FkWbCKAAAIIIIAAAggg4LOAe1Hnc63UVg8Bd0wR8NWj36gSAQQQQAABBBBAoF0CnLeb/ibgMxYEfJYFmwgggAACCCCAAAII+CzgXtT5XCu11UPAHVMEfPXoN6pEAAEEEEAAAQQQaJcA5+2mvwn4jAUBn2XBJgIIIIAAAggggAACPgu4F3U+10pt9RBwxxQBXz36jSoRQAABBBBAAAEE2iXAebvpbwI+Y0HAZ1mwiQACCCCAAAIIIICAzwLuRZ3PtVJbPQTcMUXAV49+o0oEEEAAAQQQQACBdglw3m76m4DPWBDwWRZsIoAAAggggAACCCDgs4B7UedzrdRWDwF3TBHw1aPfqBIBBBBAAAEEEECgXQKct5v+JuAzFgR8lgWbCCCAAAIIIIAAAgj4LOBe1PlcK7XVQ8AdUwR89eg3qkQAAQQQQAABBBBolwDn7aa/CfiMBQGfZcEmAggggAACCCCAAAI+C7gXdT7XSm31EHDHFAFfPfqNKhFAAAEEEEAAAQTaJcB5u+lvAj5jQcBnWbCJAAIIIIAAAggggIDPAu5Fnc+1Uls9BNwxRcBXj36jSgQQQAABBBBAAIF2CXDebvqbgM9YEPBZFmwigAACCCCAAAIIIOCzgHtR53Ot1FYPAXdMEfDVo9+oEgEEEEAAAQQQQKBdApy3m/4m4DMWBHyWBZsIIIAAAggggAACCPgs4F7U+VwrtdVDwB1TBHz16DeqRAABBBBAAAEEEGiXAOftpr8J+IwFAZ9lwSYCCCCAAAIIIIAAAj4LuBd1PtdKbfUQcMcUAV89+o0qEUAAAQQQQAABBNolwHm76W8CPmNBwGdZsIkAAggggAACCCCAgM8C7kWdz7VSWz0E3DFFwFePfqNKBBBAAAEEEEAAgXYJcN5u+puAz1gQ8FkWbCKAAAIIIIAAAggg4LOAe1Hnc63UVg8Bd0wR8NWj36gSAQQQQAABBBBAoF0CnLeb/ibgMxYEfJYFmwgggAACCCCAAAII+CzgXtT5XCu11UPAHVMEfPXoN6pEAAEEEEAAAQQQaJcA5+2mvwn4jAUBn2XBJgIIIIAAAggggAACPgu4F3U+10pt9RBwxxQBXz36jSoRQAABBBBAAAEE2iXAebvpbwI+Y0HAZ1mwiQACCCCAAAIIIICAzwLuRZ3PtVJbPQTcMUXAV49+o0oEEEAAAQQQQACBdglw3m76m4DPWBDwWRZsIoAAAggggAACCCDgs4B7UedzrdRWDwF3TBHw1aPfqBIBBBBAAAEEEECgXQKct5v+JuAzFgR8lgWbCCCAAAIIIIAAAgj4LOBe1PlcK7XVQ8AdUwR89eg3qkQAAQQQQAABBBBolwDn7aa/CfiMBQGfZcEmAggggAACCCCAAAI+C7gXdT7XSm31EHDHFAFfPfqNKhFAAAEE1hSIPsr5s54EQSBB77lcPERr7pBvRwABBDYrwHm78SXgMxYEfJZF2Zu3oUi3I9JZ9rcrMrov+6jsDwEEEEAAAQQQQKCpAu5FXVPbSbuqE3DHFAFfdfYcCQEEEEBgiwIEfFvE59AIIFBEgPN2o0bAZywI+CyLsjcJ+MoWZX8IIIAAAggggEC7BdyLunZr0PoyBNwxRcBXhir7QAABBBDwXoCAz/suokAEEEgKcN5uPAj4jAUBn2VR2WYkMuiJdJjBVxk5B0IAAQQQQAABBJog4F7UNaFNtGG7Au6YIuDbbn9wdAQQQACBigQI+CqC5jAIIFCWAOftRpKAz1gQ8FkWlW0S8FVGzYEQQAABBBBAAIEmCbgXdU1qG23ZjoA7pgj4ttMPHBWBVQLR3V/lr5+5R9gqJ15HILMAAV9mqtkbP8vd3eec38PbEUCgTAHO240mAZ+xIOCzLCrbJOCrjJoDIYAAAggggAACTRJwL+qa1Dbash0Bd0wR8G2nHzgqAssEorsrGZ7sSy8IpHd4IQ/L3sjzCCCAwMYE/ik3599IEPRk5/BcLm74TbQxanaMwBMCnLcbHAI+Y0HAZ1lUtknAVxk1B0IAAQQQQAABBJok4F7UNalttGU7Au6YIuDbTj9wVAQWBKI7uXpxKDtBIIH6u3MoL67uhDl8C1I8gQACFQhEd3+S0/2vZ7+Pgq9l/2QoV3dfKjgyh0AAAS3AebuWECHgMxYEfJZFZZsEfJVRcyAEEEAAAQQQQKBJAu5FXZPaRlu2I+COKQK+7fQDR0XACDzIzbtT2e/Ng73evpwMr+SOZM8QsYUAAlsSeJCbi3M53OnNg75ncvjiA7+fttQbHLZ9Apy3mz4n4DMWBHyWRWWbBHyVUXMgBBBAAAEEEECgSQLuRV2T2kZbtiPgjikCvu30A0dFQOSL3F29tD44VzNkfpAb7rvH4EAAAd8E1Azj4UnyPyK8uxHu0OdbR1FP0wQ4bzc9SsBnLAj4LIvKNgn4KqPmQAgggAACCCCAQJME3Iu6JrWNtmxHwB1TBHzb6QeO2maBSD7f/CAn8dJ36h5XL1n6rs1DgrYjUBeBzzdycc5SwnXpLuqsvwDn7aYPCfiMRWsDvsexSBiK9AORTif5d/dIJHwlMtnUEhgVBHzRRORVKHK0m2ybamt3V+RlKHI5mQ2E6FZkrysyGFsDI+fmtjyjyXs56/fMOA4OJBzf56yetyOAAAIIIIAAAvUQcC/q6lE1Vfos4I4pAj6fe4vamiYQ3X2QF4fP5kvdBdLbP5V3Nw8lNlOFhz/KcPidNTNwvvTn9B5a38vwTZHlP7/Ip+GvpafvD+h+3TmVq7SZh9HPMuzre3jpOvTXnuycfFicAbTse56dy03iMxu1dOAbeX2y79SlAtPvZDj8sdhsyGXHV21eqGHWddHdlbxJmKsazuWiUN9uqg/Th9ms9u+twFn3jxqfJ/J6+Ic4fI4+DaXf+0bOb/6ZvrOMz27+mCvG63T8rt+Opc1Vs93eDMsdm2nj0h2PKnxLjEPVl2pm8PcyvCh3tt3mf5ct1eUFBFolwHm76W4CPmNhgpFOJ962Xm7cpgqi0kIvN+TTj/tnGwj6NhjwqWDvrL8Y6un2uF+nYebR7P29geS+YfdWPR/fy1HQjcdt/Euu+42Et9zot3E/vDQIAQQQQAABBBbOeyBBYF2B+By6JdeD63rx/QiUIrDxWS/urEAT0gRuGDd9nPc+WisCk0oDPtXWYUqAmdbmAsuepgUp2tANVFSQ88KazaTfF3/9WvZP/5TxfmWb7sPkSHYDmvRxok2V41CGJ/8hQdCTZ+cfc3+WpI5e3TFXjNdp/2wi4HPupxmPA+1of835M5g2LuPx+CA3w+ey8+TxAgl2juXirszPztwxy2zk5E8ZjxBYX4DzdmNIwGcsFj4kUAOlqX8mI5FAz9YLRAahyMidtRaJXL4SGVghmZrxdv1YosqGAj49E28a4s3bp2fpJap/FBmlzO7LG/Bt1zOS+9GBdK0PIswvua70BteFTjATTjxAAAEEEEAAAQQ8EzDnO7P/nOdZeZRTQwF3TDX5erCG3UPJTROo5L5VX+Tu4th8uL9zKOfDN4uzx6azil7LeWIG4Qv5mDbzbmk/PMjH8/5sxlzesODztZxPlyXtyc7zdxlDL5Ho5lyeqeBiGmYkg4zpDLOFGYnq3oZ/kGFiGcHnMiw0m24GkaxBPeeGjCoAe2XME/3+73J48T9LRWcvVNmHIrOZePOwaTpezCy9RKHTGWHu7L5iAd82jploi34QfZTzZz0JgpIDvnh8K9dls+bSxmaB0O3hQg5785+J/72TD6fzWay9fTl57c5cVTNdX5kZmnl/brXbk1/d+4k+k8Pzi2IzaJ88Di8i0D4BzttNnzc3wTJtzLzVloFxG4p05+FePxTJktfZs9NKDfk2EfBFIuHebCbe7nH2WYd2SJcn4Nu+JwFf5h9y3ogAAggggAACjRFwz90b0zAasjUBd0ypx/xBAIGyBdSH6ufWLLNNfeBtz1R6JofDj4tLXi40LTnrprefN+SzwqidjMFZHH7kC/dU6SZc+1ZefzcPF3v7cvrhbuV/8k3MGFsj2DA1qGVC3ZDxt/Jhyayo2VKUbuDidkjFfRjPBMszu9Dq8yIz+LZxTJdZP95EwBeP7xzL7n7+KEMdtucdm3HAZ34mevvLx+G06dEnuXg+Wx64d3ghZS4MrGlFnBmMKnAcFlkS2OyRLQTaLsB5uxkBXLEYi1bM4Hu8nM/cU/eZu7Yan2UzEhkdzIKz4ChbMLhytxsI+KKxSE8FmD2RcWId+pXVyGXOJTq98WSJztWdyzsQQAABBBBAoFEC7kVdoxpHY7Yi4I4pAr6tdAMHbayAmskyNLNlpjN5hvE9zMptdiSfr05nM/d6fTn/mPMj+/gD/yX3wnuyWCvwWXHs6O5Pclpg5p4+fByu6eUH84YhcTsD6fWH8inn5yeqjriGnUP5Lr7nX9ZAVbck7Wv1fRi3JV7eMa2utOf+Llcnvyq0ROc2jpnWgulzZQd88fhSy1MOc85as2fELrmPZVpDdMAX/0xk/N6y255Wm3rOXbpWzRIt+R6Ayw7N8wg0TYDzdtOjBHzGovkBnw7TOiJHl1bD82w+igx2ZyFf4X3Yx9M1dUVG9/YLxbd1wNfti+TdpQ7sBu5ypWnl6No98Ywm7+Ws3zPjOOjL2eVk5f/cS2sazyGAAAIIIIAAAr4LuBd1vtdLff4LuGOKgM//PqPCOgioWXEX1vKX6sP+c7Nk4yaaEH9Y/ys5ufp7sSPEM4+K7GN1yBfdvZPnO2o5xDyzxZJNicOhaZhRpE4VOPwsw/7XEgRZlstMHl89Stag7mWWcebi4q6Sz2yhD3Vb8s/i0mFk/qUtt3HMJLT1KDbP3w5rL/PNSB4unk+XrM0/E1bvQs+sy7H0qR3w5Qq8/yk3598UCmkX2776GTWDdRgH4mp244kMr1bPvF29Z96BQHsEOG83fU3AZyxMMGLdy8x6ufab96PZ0pxFgi+78esEaPZ+pts6JCsx4FOpXr87CyEPRmoF+M388dJzM01lrwgggAACCCCAgHcC7kWddwVSUO0E3DFFwFe7LqRg7wTMh/zBfEZN/vAkb6PMMdc9VvHwRdW8PORLhHvn1xmWDk030PUFQZGZhmaf8X5yz1xLBnwrl0I0h1yxtaU+jMOhZ/L84tPGPktKNH4bx0wUYD0oM+Ara1/ap/dcLh4yfLqn3x/kDbz1mMsRJlp0xTZ1qDi/52ORJV6LHZjvQqARApy3m24k4DMWjQ/4Rv1Z6JVpdprlsrCp73FXRii3iYBPROz74ql7Br4MRUZZZuUtNHb5E156Li+XVxBAAAEEEEAAgUYJuBd1jWocjdmKgDumCPi20g0ctHECVc/g+x+5OPx3CYISZiHp2W1Zw4WFvovk88cXst8LJJgv11lWuKcOFQdza7e1uFlcQ4FwcIErfqJ4PfEu9EauPrTv+TebVfV6+Gazs01lG8fUOM7XskI5a2yuG7KL6BAs4wxTHfDlHo/VBnzM4HPGHg8RKCDAebtBI+AzFs0O+PSstjJCOREZD2ZhYX9kARbZ3FDAp0oZh/P7Dar78aX8DfoiYTj7O37MWbyvnjmbwdsRQAABBBBAAIG6CrgXdXVtB3X7I+COKQI+f/qGSpogUNE9+PQH/IVDOds6Z7hgf2u8bYV8+r5galnONWbu6V3H4drabS3ezriG3IGKbkXK16324YPcDJ/P7t8Y95eeYaW+qiVmv5PhcCjD4Y857yuX0tbpU9s4ZkotpQV8ejyVMxtOj7FMYaEeO7nHY0UBH/fgSxl4PIVAMQHO240bAZ+xaEfAlxJ0pYVfWZ/rDdZcAnODAZ/q2mgi8ioU6QfpIZ/dTjXT723WWX464PPN0xrPbCKAAAIIIIAAAk0WcC/qmtxW2laNgDumCPiqcecobRN4kJuLczmc3n9OBSbP5PD8oqSgRET0B/yp4Ywd1OTZXjeo0IHH7JiZgooMw0IHH0HuMMPdua4vfzvLq8GqyYM+VDOs3gy/s8bp8vHS2z+VdzcPVgOKbW7jmIlKSwv49AzMjLPuEkUsPsg1xvTYyf0zsemA70Fu3p3OZvOq3029fTkZXsldhlVHF0V4BgEElADn7WYcEPAZi2YPDF8DqQ0HfFb3xpvjkZm59/Jodl9CO+jbHYisnNDnq2fcSjYQQAABBBBAAIFmC7gXdc1uLa2rQsAdUwR8VahzjNYKqJksw5PkB97vbgrfjy521B/wexPwpc3gK+ceb7mCjxgobYOAL00l+ZwKpt/MZ+4N5fXJvvQSY6ycWZlbPaanAV8c2mcJ7fTPf5b3JrA3FfCpmcsvraC45P/QkGgDDxBolwDn7aa/CfiMRTsCvpKW6LTY1tvcQsCXVvDjWGQwv0ehCvv2whUzE3XA55tnWuN4DgEEEEAAAQQQaKCAe1HXwCbSpIoF3DFFwFdxB3C4dgp8vpGL80MsJhOGAAAgAElEQVSzJOLOoby4upPCE1v0B/xrL1tZRnfY4Z4K9W7l4WY4/7B//ZAvDvjWbqsO+PLPuIpryB2oPOHrVR8+Uae495f8WvrDn4uP3acOFb+2wWN6GvDlGmN67OQej2UHfKqffpCT/a8lmAbBamnXl3J19yXuSTYQQGA9Ac7bjR8Bn7FodsCng7SOyCDrMpSWzcY2dV2eBGWT0fy+fT2R8VNXFLpu3zw31lHsGAEEEEAAAQQQ8EvAvajzqzqqqaOAO6YI+OrYi9RcV4Ho7oO8OHw2/zA8kMLLHpYWUqwr+UXuPvx2PkMxGeZFd+/k+XSJ0vVmfcXBR/CNnN/8s3jBa5jFNeQOVJ4od416ntjrBl/6IncXx7OQukyHJyvewDFLc9eBcf4lXxebrIO3QDItbetBwFfa77JFDJ5BAAFLgPN2g0HAZyyaHfCJyHgwuw/d2vfNs8zW3tRBmScBn2rPaD6Tb1UQ6qXn2h3CDhBAAAEEEEAAgXoIuBd19aiaKn0WcMcUAZ/PvUVtzRQoY9ZLmeFCUWUrfOnty+mHxRmJZYR8cbgW9GTn5EPh5U3j/RQIp9b53uW6PvTh8urSX9H3nVszbE3f+ZJnSz5maQGfiB4XmUK5Ja2bPa3HQsbZpdsM+MqejfykCy8igADn7WYMEPAZi8YHfNGtyF5XpONRmKbWLhj0yqtJt3HlEptWv7ubOrjrj9xXko/1sbzyTJbIIwQQQAABBBBAoLEC7kVdYxtKwyoTcMcUAV9l9BwIAUfAvW/V17J/8oPcfH5qmR2zi+jTUPq9QIK1l640+8y+ZYd7fTn/+LD0W9cN+XSIMlsC8FdycvX3pcda+kL0swz7ahnBjAGKs6O4hgLhoLOrxMOq+3B2vHWW2MwZRInINo6ZQHYflBjwSbyvguNS16YDu6w/y/r9ucejnilYYNbhpu4nqg34igACqQKctxsWAj5j0fiATzX18mg2iy84EJlkOze2hDawWXLAdz8S6XZEun2R+4LlZp3B55tnNHkvZ/2eGcdBX84uJxte/70gMt+GAAIIIIAAAgisKeBe1K25O74dAXMe3enE27AggMA2BR7k5t3pfJlLFdjty8nwSu5Wfpbxd7k6+ZUEambb83cZ3l9WG7OHe/qI0d2f5HR6n678y3XG4dr0Hl+BBDvHcpHnHl/RJ7l4PlsWtdcfyqeVrrpq8zWuIXegYvaRvlVlH+pwJ+MykKkF551Nt41jphZunoxDuTJmIVrt238hHzOG86aYaQI6H585QrdKA74Hubk4n99TM5AgeCaHLz5U+PsmocUDBFon4F4Ltvk/5hHwWcO/FQPjUWSwu37IN3kvstsVObq0AItsbijgU7Pqwtv8BT1ez9rVWXUPPr1rXzwf38tR0I0/iIjHcvcbCW+5ia/uLr4igAACCCCAQHME4vOdeRjTnJbRkm0JuGNKPeYPAgh4IKBmyLw4nN3jTIVZO4fy4mpx2ctEpZ+v5XwanK0T8un76GWZhZQ/3IvrLVirCde+ldff9aWnbJYsCRofa76RuE9Y3mDQ2pmp4VxuCgSE1q4WNwu6JHeUpQ9NGBX0fi3DT3k/Q4nk88cXsyA6c9C5jWMmZRYelRrwJQO6ncNh5hm407qiO/lwuj8b0zuncpU1IKwo4DPBvAr21AzjoVzlCdcX8HkCAQTyCnDebsS4YjEWi+FIQy/ooonIQTAL+bq7Iu8nFsKKzcexyGB+jzrF423A1xHpBCJnl5J5Blsc7uVs1/Y9I7kfHUjX+p/G5pdcV3qD68wGK7qflxFAAAEEEEAAAW8EzPnObLaVN4VRSG0F3DGlHvMHAQT8EYjurmR4MvvQP8u9vcwSmIH09n8rHzJ/AK/uBXgh54ez2W1BsCrge5CP5/OAbee5DG+WL8u5VLNAmJUM16waAtXeE3n9xp3tqJY+/YMMz+2wNOesP6cByRqcF0t4WE0fWmFb1gA5bpsV7q0cJ/E3qfRLHi6ezwKsyo5pHz9lu+yATx0iHtdqTJ7Kuww/G2uFz5UEfHo51p7sHJ7LRYY2pWjzFAIIrCnAebsB5IrFWLQm4FNNVqHU8Xwmn7puDfoi4av0ZTvHI5EwFOnPQ0H1fjVD7vj96vDsNpwtmTn9HvV9a/zt7oncrvgfYfESnYHIv86PpULMl6HIZVqQ+SgyCpOh5e5A5NEaF1k2q/JMr4WAL92FZxFAAAEEEECgyQLuRV2T20rbqhFwxxQBXzXuHAWBvALR3V/lrxln9CRn2qgP5L+T4ULwpSpQy+29keHwO2vJvVUz4r7Ip+GvTUijghr379LZR3oJypTvme9j1bKZi+Gae+/C5fuezTrKfl9Dc0+1p/a56rUcSy1ag2KzfagOZMK23s6O/B/tr0LS4R/SZ2Z9vpGL4WsrBM67xGrVx8wwVt2x+8TjVWPT6r5EyDcbd9/L8OJGPifeVDR8juTz1amZ3ZtW8xOzMuN7PaZ935OB7We5u0u2INEcHiCAwMYFOG83xAR8xqJVAd+02ZHIZThfkjJr8BaIDJYEgRZlvFl1wBfdiux1RfZCkfuxyJEVYq4MFzOGlnHj3I0KPN1Dxo9ZojOmYAMBBBBAAAEE2iHgXtS1o9W0cpMC7pgi4NukNvtGoEIBtcTn8MTcyy/1w3wnnNo5lPPUINCuO0NoUmnAp2ubh5X2TL15m6cz+4Y/5lsuUe02nt3lOGWxjN/ztfSHPxdbYWhjfTgzmwU9qr6f5OHmBzmZLu+asa0Zl0XVvaO/VnvMDGM17qfV7c4V8E0b7NxP88lj5bmX3bYCPt2LfEUAgW0JcN5u5An4jEX7Aj7ddhVMvRIJByJBStC3ezSbwTca62+o11e1rKiagZga9qn7CL4UCUf5Z+0tVdiSZzR5L2f9nhnHwYGE4/ulZfICAggggAACCCBQZwH3oq7ObaF2PwTcMUXA50e/UAUCpQmokOjNMLlEZRw0qPtofS/D4ZvaLLm3OIOvNCl/d1RZH6plWn+U4fD79LCvty8nr4cpM9HWodvGMdept8D3zvvv9XypXTPjdT67tkj4XKAMvgUBBOovwHm76UMCPmNhghHrXmbWy2wigAACCCCAAAIIIICAJwLuRZ0nZVFGjQXcMUXAV+POpHQEWiDQyoCvBf1KExFAAAEEVgtw3m6MCPiMBQGfZcEmAggggAACCCCAAAI+C7gXdT7XSm31EHDHFAFfPfqNKhFoqwABX1t7nnYjgAACCHDebsYAAZ+xIOCzLNhEAAEEEEAAAQQQQMBnAfeizudaqa0eAu6YIuCrR79RJQJtFSDga2vP024EEEAAAc7bzRgg4DMWBHyWBZsIIIAAAggggAACCPgs4F7U+VwrtdVDwB1TBHz16DeqRKCtAgR8be152o0AAgggwHm7GQMEfMaCgM+yYBMBBBBAAAEEEEAAAZ8F3Is6n2ultnoIuGOKgK8e/UaVCLRVgICvrT1PuxFAAAEEOG83Y4CAz1gQ8FkWbCKAAAIIIIAAAggg4LOAe1Hnc63UVg8Bd0wR8NWj36gSgbYKEPC1tedpNwIIIIAA5+1mDBDwGQsCPsuCTQQQQAABBBBAAAEEfBZwL+p8rpXa6iHgjikCvnr0G1Ui0BqB6GcZ9r+WIAgy/O3Js/OPErUGh4YigAACCLRJgPN209sEfMaCgM+yYBMBBBBAAAEEEEAAAZ8F3Is6n2ultnoIuGOKgK8e/UaVCLRGIFfA97X0hz8T8LVmcNBQBBBAoF0CnLeb/ibgMxYEfJYFmwgggAACCCCAAAII+CzgXtT5XCu11UPAHVMEfPXoN6pEAAEEEEAAAQQQaJcA5+2mvwn4jAUBn2XBJgIIIIAAAggggAACPgu4F3U+10pt9RBwxxQBXz36jSoRQAABBBBAAAEE2iXAebvpbwI+Y0HAZ1mwiQACCCCAAAIIIICAzwLuRZ3PtVJbPQTcMUXAV49+o0oEEEAAAQQQQACBdglw3m76m4DPWBDwWRZsIoAAAggggAACCCDgs4B7UedzrdRWDwF3TBHw1aPfqBIBBBBAAAEEEECgXQKct5v+JuAzFgR8lgWbCCCAAAIIIIAAAgj4LOBe1PlcK7XVQ8AdUwR89eg3qkQAAQQQQAABBBBolwDn7aa/CfiMBQGfZcEmAggggAACCCCAAAI+C7gXdT7XSm31EHDHFAFfPfqNKhFAAAEEEEAAAQTaJcB5u+lvAj5jQcBnWbCJAAIIIIAAAggggIDPAu5Fnc+1Uls9BNwxRcBXj36jSgQQQAABBBBAAIF2CXDebvqbgM9YEPBZFmwigAACCCCAAAIIIOCzgHtR53Ot1FYPAXdMEfDVo9+oEgEEEEAAAQQQQKBdApy3m/4m4DMWBHyWBZsIIIAAAggggAACCPgs4F7U+VwrtdVDwB1TBHz16DeqRAABBBBAAAEEEGiXAOftpr8J+IwFAZ9lwSYCCCCAAAIIIIAAAj4LuBd1PtdKbfUQcMcUAV89+o0qEUAAAQQQQAABBNolwHm76W8CPmNBwGdZsIkAAggggAACCCCAgM8C7kWdz7VSWz0E3DFFwFePfqNKBBBAAAEEEEAAgXYJcN5u+puAz1gQ8FkWbCKAAAIIIIAAAggg4LOAe1Hnc63UVg8Bd0wR8NWj36gSAQQQQAABBBBAoF0CnLeb/ibgMxYEfJYFmwgggAACCCCAAAII+CzgXtT5XCu11UPAHVMEfPXoN6pEAAEEEEAAAQQQaJcA5+2mvwn4jAUBn2XBJgIIIIAAAggggAACPgu4F3U+10pt9RBwxxQBXz36jSoRQAABBBBAAAEE2iXAebvpbwI+Y0HAZ1mwiQACCCCAAAIIIICAzwLuRZ3PtVJbPQTcMUXAV49+o0oEEEAAAQQQQACBdglw3m76m4DPWBDwWRZsIoAAAggggAACCCDgs4B7UedzrdRWDwF3TBHw1aPfqBIBBBBAAAEEEECgXQKct5v+JuAzFgR8lgWbCCCAAAIIIIAAAgj4LOBe1PlcK7XVQ8AdUwR89eg3qkQAAQQQQAABBBBolwDn7aa/CfiMBQGfZcEmAggggEBOgehaBr3u7N+S7oGM7qOcO+DtCCCAAAJ5BNyLujzfy3sRSBNwxxQBX5oSzyGAAAIINE4g+ijnz3oSBIEEvedy8cC1bOP6mAYh0DABzttNhxLwGQsCPsuCTQQQQACBnAIEfDnBeDsCCCCwnoB7Ubfe3vhuBITrQQYBAggggEA7BQj42tnvtBqBGgu414Jt/o95BHzWQGZgWBhsIoAAAgjkEyDgy+fFuxFAAIE1Bdxz9zV3x7cjQMDHGEAAAQQQaKcAAV87+51WI1BjAfdakICvxp1ZZukMjDI12RcCCCDQMgECvpZ1OM1FAIFtC7jn7tuuh+PXX8AdU23+oKD+vUkLEEAAAQQyCxDwZabijQgg4IcA5+2mH5jBZyz4H5uWBZvNF4gmf5G/PLKuevN7mhZWJkDAl5P6USaTx5zfw9sRQAABI+Be1JlX2EKgmIA7pgj4ijnyXQhsWiC6+6v89TPXspt2Zv8tEiDgy9nZn+Xu7nPO7+HtCCBQpgDn7UaTgM9YEPBZFmw2VyCaXEp4tCvdTke6/ZHcN7eptAwBBLwV+IeMB7+UTqcrQX8gozG/ibztKgpDwGMB96LO41IprSYC7pgi4KtJx1FmawSiuysZnuxLLwikd3ghD61pOQ1FAAF/BP4pN+ffSBD0ZOfwXC5u+E3kT99QSZsEOG83vU3AZywI+CwLNhsoEE3k8qwvQaczG+tBX84uJ8L/e2xgX9MkBGogEE3+KMe7X83/7f1Kdo9CuZx8qUHllIgAAr4IuBd1vtRFHfUVcMcUAV99+5LKGyYQ3cnVi0PZCQIJ1N+dQ3lxdce1bMO6meYgUBeB6O5Pcrr/9ez3UfC17J8M5eqOa9m69B91NkOA83bTjwR8xoKAz7Jgs0kC9zJ+eyy73Xmw192Vo/BSJiR7Tepk2oJATQXuZTwaSD/ozv8N7kn/7D2/n2ram5SNQNUC7kVd1cfneM0TcMcUAV/z+pgW1U3gQW7encp+bx7s9fblZHgld1zL1q0jqReBBgo8yM3FuRzu9OZB3zM5fPGB308N7Gma5KcA5+2mXwj4jAUBn2XBZhMEvsjk8nfWB+dqhswbGXPfvSZ0Lm1AoFkCaoZxeJT8jwhvx8Id+prVzbQGgbIF3Iu6svfP/ton4I4pAr72jQFa7IvAF7m7eml9cK5myPwgN9x3z5cOog4EENACaobx8CT5HxHe3Qh36NNAfEVgMwKctxtXAj5jQcBnWbBZZ4FIHsdv5Che+k7d4+p3LH1X5y6ldgTaIvA4ltGApYTb0t20E4F1BdyLunX3x/cj4I4pAj7GBAJVC0Ty+eYHOYmXvlP3uHrJ0ndVdwPHQwCB/AKfb+TinKWE88PxHQgUE+C83bgR8BkLAj7Lgs16CkST93LW78Vjubt7LG/H9yU2RoWHP0gYnlozA+dLf3bUDMHfS/iqyPKfX+Q2/Ea6+v6A7tfgWC7TZh5GP0m4p+/hpevQX7sSHL1fnAG07Ht6AxknlnpRSwe+kpdHu05dKjA9lTD8odhsyGXHV21eqGHWddHkUl4lzFUNAxkV6ttN9eHyYTar//dW6Kz7qCPd3SN5GQ7jADq6DWWv+0sZjP+xfIcrXtn88VaM1+n4Xa8NTzZRzXZ7FZY7NtPGpTseVfiWGIeqH+c/96NyZ9tt/nfZk8K8iAACNRFwL+pqUjZleizgjikCPo87i9IaJxDdfZAXh8/mS90F0ts/lXc3DyW2U4WHP8pw+J01M3C+9Of0Hlrfy/BNkeU/v8in4a+lp+8P6H7dOZWrtJmH0c8y7Ot7eOk69Nee7Jx8WJwBtOx7np3LTeJaVi0d+EZen+w7danA9DsZDn8sNhty2fFVmxdqmHVddHclbxLmqoZzuSjUt5vqw+XDbFb/91borPtIjdETeT38QxxAR5+G0u99I+c3/1y+wxWvbP54K8brdPyu14Ynm6hmu70Zljs208alOx5V+JYYh6of1czg72V4Ue5su83/LntSmBcRaI0A5+2mqwn4jEUcitgDxHqZTQT8Fdj4rBd3VqAJaOyfF7Od9z5aKwKTSgM+1dYwJcBMa3OBZU/TghQdaLqBigpyzqzZTPp98devZPf4jxnvV7bpPlz88XBDGjM+llmGEh79m3Q6XekNriVxjbq4+4VnqjveivG6sYDPuZ9mPA7SPHP+DKaNy3g83ss4PJDgyeN1pBP8RkaTMm8s7o5ZZiMvDHqeQKDlAu6/Ky3noPklCLhjSj3mDwIIbFhg47Ne3FmBJqAJ3DBu+jjvfbRWBCaVBnyqrcOUADOtzQWWPU0LUrShG6ioIOeFNZtJvy/++rXsn/4p4/3KNt2Hi2PcDWnSx4p2VZZDGZ78hwRBT56df8x/LesE3Js73orxOu2fTQR8zv0043GgDe2vOX8G08ZlPB4f5Gb4XHaePF4gwc6xXNyVey3LbOTFnyueQaBMAc7bjSZXLMaCgM+yYLMmApXct+qLTEa/MR/uB30ZhK8WZ49NZxW9lEFiBuGZXKfNvFvKey/Xg73ZjLm8YcHjn2UwXZa0K8HB24yhl0g0HkhPBRfTMCMZZExnly3MSFT3NhxKmFhG8EDCQrPpZhDJGtRzbsiogsT/MuaJfv8X6Y/+e6no7IUq+3DepulMvHnwNB0zZpZeotjprDB3dl/+gG8286+64yXaYD+IrmXQ60qnU/IMvnh8qzYumzWXNjYLhG73I+l35z8T/zuR98fzWazdXTl66c5cVTNd/8vMzsz7c2vbLd127yfak/5gVGwG7dJj8AICCNRRwL2oq2MbqNkvAXdMEfD51T9U0zCBSu5b9UXuLo7Nh/s7h3I+fLM4e2w6q+i1nCdmEL6Qj2kz75Z2w4N8PO/PZszlDQs+X8v5dFnSnuw8f5cx9BKJbs7lmQoupmFGMsiYzi5bmJGo7m34BxkmlhF8LsNCs+lmEMka1HNuyKjCr1fGPNHv/y6HF/+zVHT2QpV9OG/TdCbePHCajhkzSy9R7HRWmDu7L3/AN5v5V93xEm2wH0Qf5fxZT4Kg5IAvHt+qjctmzaWNzQKh28OFHPbmPxP/eycfTuezWHv7cvLanbmqZrq+MrMz8/7c2nZLt937iT6Tw/OLYjNolx6DFxBopwDn7abfCfiMBQGfZcGm7wLqQ/WBNctsUx942zOVetIPrxeXvFygSs666e7mDfmsMCrIGJzF4Ue+cE+VbsK1/5SXp/Nwsbsrx+8nK//XXWLG2BrBhqlBLRPqhozfyvsls6JmS1G6gYvbIVvow3g2WJ4Zhla/553BV/XxXGL78SYCvnh8qyVNMy67+3gtoQ7b847NOOAzPxPd3eXjcNr86FZGB7Plgbv9kZS5MLDhdWYwqsAxLLIksNkjWwggUG8B96Ku3q2heh8E3DFFwOdDr1BD8wTUh+rn1iyzTX3gbc9UeiaHw4+LS14u4CZnivX284Z8Vhi1kzE4i8OPfOGeKt2Ea9/K6+/m4WJvX04/3K2+lrVnjK0RbJga1DKhbsj4W/mwZFbUbClKN3BxO2QLfRjPBsszw9Dq97wz+Ko+nktsP95EwBeP7xzL7n7+KEMdtucdm3HAZ34mevvLx+G0+dEnuXg+Wx64d3ghZS4MbHidGYwqcBwWWRLY7JEtBNouwHm7GQEEfMaCgM+yYNNXATWTJTSzZaYzecL4/mXlVh3J4+XxbOZed08G1zk/so8/8F9yL7wni7XCnhXHjiZ/lOMCM/f04eNwTS8/mDcMidvZke5eKLd515W0Q8agL6fxPf+yBqq6JWlft9OHsWm8xGNabWnP/U0uj36Re4nOqo+XVnn8XNkBXzy+1PKUYc5Za/aM2CX3sYwLtzZ0wBf/TGT83rLbbpWU2HSXrlUzREu+B2DieDxAAAFvBdyLOm8LpbDaCLhjioCvNl1HobUQUDNZhma2zHQmzzC+f1m5TYjk89XpbOZery/nH3N+ZB9/4L/kXnhPFmuFPSuOHd39SU4LzNzTh4/DNb38YN4wJG5nIL3+UD4VuZbVswh3DuW7+J5/WQNV3ZK0r9vpw9g0XuIxrba05/4uVye/yr1EZ9XHS6s8fq7sgC8eX+q+i8Ocs9bsGbFL7mMZF25t6IAv/pnI+L1lt90qKbHpLl2rZoiWfA/AxPF4gECDBThvN51LwGcsCPgsCzZ9E1Cz4kbW8pfqw/6BWbJxE+XGH9b/Qo4u/1bsCPHMoyL7WB3yRZO3chCo5RDzzBRLNiUOh6ZhRpE6VUL3k4R7X0mnk2W5zOTx1aNkDepeZhlnLi7uKvnMlvpQtyf/TC4dSOZb3rLq4yWRnUexeb42OHuZP4zkfnQwXbI2/0xYvQs9sy7Hsqd2wJcr8P6HjAe/zB3Qprd99bNqBmsYB+JqduORhJerZ96u3jPvQACBugi4F3V1qZs6/RVwxxQBn799RWV1ElCz4i6s5S/Vh/3nZsnGTTQl/rD+V3Jy9fdiR4hnHhXZx+qQL7p7J8931HKIeWaKJZsSh0PTMKNInepi9GcZ9r+WIMiyXGby+OpRsgZ1L7OMMxcXd5V8Zkt9qNuTfyaXDiTzLW9Z9fGSyM6j2DxfG5y9zB9G8nDxfLpkbf6ZsHoXemZdjmVP7YAvV+D9T7k5/yZ3QJve9tXPqhmswzgQV7MbT2R4tXrm7eo98w4E2iPAebvpawI+Y0HAZ1mw6ZOA+ZBf//LKH5zkbY855rrHKh6+qJqXh3yJcG/w5wxLh6Yb6Po6nSIzDc0+4/3knrWWDPhWLoVoDrlia4t9GAdEPTkY3a5cHmZFQ1a/XPXxnqqozICvrH1pn+6BjO4z/Ldc/f5O3sBbj7kcYeJTlple06Hi/P6LeZd3zXQM3oQAAr4K6PMi/dXXOqmrPgJ6LNlf61M9lSLgo4D5kD+Yz6jJH5zkbZc55rrHKh6+qJqXh3yJcO/8OsPSoekGur4gKDLT0Owz3k/uWWvJgG/lUojmkCu2ttiHcUD0TJ5ffNr8tWzVx3tKvsyAr6x9aZ/ec7l4yHAtq98f5A289ZjLESY+ZZnpNR0qzu+/mHd510zH4E0INFfAPl/X281t7dMtI+CzfPRgsL9aL7OJwBYFqp7B998y6v+LdDolzELSs9uyhgsLypE8Xp/JbrcjnflynWWFe+pQcTC3dluLm8U1FAgHF7jiJ4rXE+9Cb+TuQ/u+f7OZVS/DVxuccVr18TRMyteyQjlrbK4bsovoECzjDFMd8OUej9UGfMzgSxl/PIVAywTsc3a1zR8E1hVwxxTjal1Rvh8BJVD1DL7/kYvDf5cgKGEWkp7dljVcWOjwSD5/fCH7vUCC+XKdZYV7U1m9PObabS1utk44uMAVP1G8nngXeiN3H9r3/ZvNrHo9fLPBGadVH0/DpHwtK5SzZnauG7KL6BAs4wxTHfDlDqurDfiYwZcy/ngKgZwCnLcbMK6EjQUz+CwLNn0VqOgefPoD/sKhnO2XM1ywvzXetkI+fV8wtSznGjP39K7jcG3tthZvZ1xD7kBFtyLl69b78F7G4cHsHo5xn+lZVuqrWmb2VMIwlDD8Iee95VLaK1UfL60GdSVzLYOeWjZ23XBcj6dyZsPpMZYpLNRjJ/d4rCjg4x58SwYfTyPQPgH3oq59ArS4bAF3TBHwlS3M/totUNE9+PQH/IVDObuXcoYL9rfG21bIp+8LppblXGPmnt51HK6t3dbi7YxryB2o6FakfN16Hz7IzfD57B6OcZ/pWVbqq1pm9jsZDocyHP6Y895yKe2Vqo+XVoO6lv0o58/UsrHrhuN6PJUzG06PsUxhoR47ucdjRQEf9+BbMvh4GoH8Apy3GzMCPmNBwGdZsOm7wL2MRwPpT+8/p8KSnvQHoxJCknm79Qf8qcGMHdLk2V43qNCBx+yYmYKKDN2og49O7jDD3bmuL2zlKsYAACAASURBVH87y6vBqsmTPlSzrF6Fp9ZYXT5murvH8nZ8bzUi/2bVx1uosLSAT8/AzDjrbqGQ5BO5xpgeO7l/JjYd8N3L+O3xbDav+t3U3ZWj8FImGVZqSWrwCAEEmiLgXtQ1pV20Y3sC7pgi4NteX3DkJgs8yM3FuRxO7z+nwpJncnh+UUJIMjfTH/CnBjN2SJNne92gQgces2NmCioyDAEdfAS5wwx357q+/O0srwarJk/6UM2yejP8zhqry8dMb/9U3t08WI3Iv1n18RYqLC3g0zMwM866Wygk+USuMabHTu6fiU0HfA9y8+50NptX/W7q7cvJ8EruuJZNdjaPEMghwHm7wSLgMxYEfJYFmzURUDNZwqPkB95vx4XvRxe3Wn/A703AlzaDr5z7u+UKPmKgtA0CvjSVxedUOP1qPnMvlJdHu9JNjLNyZmaa41Z8PE8DPtE/01lCuzzvNdDT5ZfuRwfSLf0+eGrm8u+skLjk/9CQaAMPEECgTgLuRV2daqdWPwXcMUXA52c/UVVDBNRMluFJ8gPvdzeF70cXq+gP+L0J+NJm8JVzf7dcwUcMlLZBwJemsvicCqffzGfuDeX1yb70EuOsnJmZ5rgVH8/TgE/0z3SW0C7Pew309Fr24eK59Eq/D56aufzSColL/g8NiTbwAIF2CXDebvqbgM9YEPBZFmzWTOBxLKNB3yyHGPTl7HJS/IbQ+gP+tZetLMPRDvdUqPf/5H4czj/sXz/kiwO+tduqA778M67iGrKEL1lJverDVUW795j8SvbCn4qP31WHkw0ez9OAL9cY02Mn93gsewaf6qc3crT71fzfZ7Ws6+/kcvJlZQ/zBgQQaIeAe1HXjlbTyk0KuGOKgG+T2uwbgbnA5xu5OD80yyHuHMqLq7vi1wL6A/61l60so4fscE+FerfycDOcf9i/fsgXB3xrt1UHfPlnXMU1ZAlfspJ61YerinbvMfm19Ic/Fx+/qw63cE/LEo/nacCXa4zpsZN7PJY9g0+Nix/kZP9rCaYhsFrW9aVc3XEtu3KI8wYEMgpw3m6gCPiMBQGfZcFmPQWiyXs56/fisVx4ycPSQop1Hb/I5P238xmKyTAvmryVg+kSpevN+IqDj3XvmbaGWVxD7kDlCd816nlirxt+6YtMRr+ZBdVlWiytegPHK81dB8b5l3xdbK4O3jqSaWlbDwK+0n6XLWLwDAIINEjAvahrUNNoypYE3DFFwLeljuCwrRSI7j7Ii8Nn8w/DAym85GFpIcW63fBF7j78dj5DMRnmRXfv5Pl0idL1ZnzFwce690xbwyyuIXeg8oTvGvU8sdcNv/RF7i6OZ0F1mRZLq97A8Upz14Fx/iVfF5urg7dAMi1t60HAV9rvskUMnkEAAUuA83aDQcBnLOJQxB4g1stsIlATgTJmvZQZLhRls8KX7q4cv1+ckVhGyBeHa52uBEfvCy9vGu+nQDC1zvcu1/WhD5dXt/wVfe+5X8pg/I/lbyvtlZKPV1rAJ6LHRaZQ7kkPPRYyzi7dZsBX9mzkJ114EQEE6i5gn7MTxNS9N/2o3x1TjCs/+oUq2iRQxqyXMsOFovZW+NLbl9MPizMSywj54nAt6MnOyYfCy5vG+ykQTK3zvct1fejD5dUtf0Xfe+4bOb/55/K3lfZKyccrLeAT0eMiUyj3pIceCxlnl24z4Ct7NvKTLryIAAKct5sxQMBnLAj4LAs2myDg3rfqK9k9eiPjx2x38Y1uQ9nrdqSz9tKVRSztcG9PBtf3S3eybsinQ5TZPwy/kKPLvy091tIXop8k3FPLCGYMUJwdxTUUCAedXSUebqMPZ8dcZ4nNfGFU1cdLAKc9KDHgk3hfBcelrk8Hdll/lvX7c49HPVOwwKzDTd1PVBvwFQEEGingXtQ1spE0qlIBd0ypx/xBAIFtCLj3rfpa9k9+kJvPGa9lPw2l3wskWHvpyiJtt8O9vpx/fFi6k3VDPh2izJYA/JWcXP196bGWvhD9LMO+WkYwY4Di7CiuoUA46Owq8TDaQh/OjrnOkpf5wqiqj5cATntQYsAn8b4Kjktdnw7ssv4s6/fnHo96pmCBWYebup+oNuArAgikCnDebli4YjEWBHyWBZtNEriX8dvj+TKXKrDblaPwUiYrr43+JpdHv5COmtl28DbD+8syyx7u6SNGkz/K8fQ+XfmX64zDtU5n9jsg+I2M8tzjK7qV0cFsWdTuXii3K1111eZrXEPuQMXsI32r6j7UAU/GpSBTi84zo67q46UWnHwyDuXKmIFotW/3TK4zhvOJguLxmSN0qzTgu5fxaDC/p6b6GexJ/+x9hb9vElo8QACBmgm4F3U1K59yPRRwxxQBn4edREktE3iQm3en82UuVWC3LyfDK7lbec31d7k6+ZUEambb83cZ3l8Wa/ZwTx8xuvuTnE7v05V/uc44XJve4yuQYOdYLvLc4yv6JBfPZ8ui9vpD+bTSVVdtvsY15A5UzD7St6ruQx3wZFwKMrXoPDPqqj5easHJJ+NQrowZiFb79l/Ix4zhfKKgeHzmCN0qDfge5ObifH5PzUCC4JkcvvhQ4e+bhBYPEGidAOftpssJ+IwFAZ9lwWYDBdQMmbP+7P5mKswK+nJ2ubjsZaLlj3+WwTQ4Wyfk0/fRyzILKX+4F9dbsFYTrv2nvDzdk66yWbIkaHys+UbiPmF5g0FrZ6aGgYwLXFRZu1rcLOiS3FHWPjSBVKf7jYS3eW8gHcnj9dksjM4UdlZ9vKRK6qNSAz4RsQK6oB9mnoE7rS2ayPvj3dmYDo7lMmtAWFHAZ4J5FeypGcahXOYJ11M7gCcRQKBNAu5FXZvaTls3I+COKQK+zTizVwRyC6gZMi8OZ/c3U2HWzqG8uFpc9jKx38/Xcj4NztYJ+fR99LLMQsof7sX1FqzVhGvfyuvv+tJTNkuWBI2PNd9I3CcsbzBo7czUcC43ZV/LFnSxyhORrH1oAqmg92sZfsp/Lfv544tZGJ0p7Kz6eEmV1EelBnzqWlYHyD3ZORxmnoE7rS26kw+n+7MxvXMqV1kDwooCPhPMq2BPzTAeylWecD21A3gSAQTyCHDebrQI+IwFAZ9lwWZzBaLJpYRHsw/9s9zbyyyB2ZHu7rfyPvMH8OpegCMZ9Gez2zqdVQHfvVwP5gFbcCDhePmynEt7p0CYlQzXrBo6qr1H8vKVO9tRLX06lHBgh6U5Z/05DUjW4LxYwsPq+tAK3LKGyHH7rHBv5VjR31T18fRxn/hadsCnDhWPazUmj+Vthp+NtcLnSgI+vRRrV4L+QEYZ2vSEOi8hgEBLBdyLupYy0OwSBdwxRcBXIi67QqAEgejuSoYnsw/9s9zbyyyBGUhv/7fyIfMH8OpegBdyfjib3RYEqwK+B/l4Pg/Ydp7L8Gb5spxLGQqEWclwzaohUO09kddv3NmOaunTP8jw3A5Lc876cxqQrMF5sYSH1fWhFbhlDZHj9kUSh3srx4r+pqqPp4/7xNeyAz51qHhcqzF5Ku8y/GysFT5XEvDppVhVcHkuFxna9IQ6LyGAQEEBztsNHAGfsSDgsyzYbL5ANPmL/CXjjJ7kTBv1gfyphAvBlzJTy+29kjA8tZbcWzUj7ovcht/MZhnpZTLdr0tnH+klKOfLa7rfp0K6/9/eHbxGktz5Ate/Uf9D3/a2J5108cHvYniHQZi++vYOgoY9+ORdEPTJYBgQNGbHrGnSNBjB0DwxB3sPDcIs+NCItXeb9aAd2IOR22CaRxGPlFQVUaGSqrJUqo7I+AwMHWpJlb/4/H7dk6nvZNaKx2beDdfy9y68/7Vv7jpa/30N43uqPfSaqz434FGLyRg/bQ9nB4qB22R/P/z9bT+ug9LudPndWR8vwln3OgmChzxmddfHW2NWl8zgspOO/vdWzeZM9frXJOS7mbuvQnd2ET4ufNGm4fM0fDx/Ge/uXbaHB+7InL/X47LvezCs/RguLxd3sLAdHxAgQGCFQP7364ov92kCKwXymeo/9g8BAuUJTL/7z/Cfa97Rs3inTf8D+X8Op3eCr36P/eP2vg6np/+cPHJv1R1xn8J/n/7DzV1Gs8dk5r/ee/fR7BGU/R1Ay/9d9djMu+Fa/t6Fy1/35njD3tcwvqfaQ6+56nMDHrWYjN3T9nB2oBi4HXzxRfjftz25DkpP/+/yu7P++sfwm9NfJ0HwkMes7vp4a8zqPXO4bD5XzeZM9frXJOS7udvtV+H0N38Mf134ok3D52n46799Ge/uXbaHB+7InL/X47LvezCs/Wv47rvFHSxsxwcECDy5gPP2SOyKJVoI+BILSwJ3BPpHfHbH8b38lv4wPwun9o/CydIgMH31NUKTnQZ8s9puw8r0Tr3bPd8EVt8Me1xi/7Lzu7syp3Us51/zLDzvPoSNnn7yZD2cmfVPlOzC80lf43+Eq4uvw/H1I17X3O+aj0aNR9v18daY1XmfVu95UMB3vens/TQfPNaQ97L7XAFf2klrAgQIDBfIL+qGv4LvILAokM+UgG/Rx0cEqhXoH/F5+rP4Xn5Lf5ifhVNf/CT8YmkQmCqsEZrsNOCb1XYbVqZ36t3u+Saw+tdhj0vsX3Z+d1fmtI7l/Gu+H45O/7ThtexT9XBm1j9R8jQcHfQ1fgh/+eM34WfXj3hdc79rPho1Hm3Xx1tjVud9Wr3nQQHf9aaz99N88FhD3svucwV8aSetCRD4HALO26O6gC9aCPgSC0sC9wr0IdGbbvERlfOgoX8fra9C172p5pF7d+/gu3fn4/nETnvYP6r1m9B1Xy0P+yaH4fh1t+RutE25d328Tet8xPfd9u/17aN240nN7d213Qbh8yPK8a0ECBD4XALx77+b/6nic9XhuOMRyGeq/9g/BAiMSKAP+r4+XXxE5Txo6O9o+1U4Pf26mkfu3b2Db0S9um8rO+1h/6jWfw2np79aHvYd/J/ws1+fLrkb7b7iV/3+ro+3qp4n+Pxt/359+6jdeHfg7d21pxuEz09QppckQKB8AeftsUeuWKKFgC+xsCTQikCTAV8rzbVPAgQIEBi1QH5RN+rN2txOBPKZEvDthN1BCBDYUKDJgG9DK99GgAABAuMScN4e+yngixYCvsTCkkArAgK+VjptnwQIECAwNoH8om5s+7Of3QvkMyXg230PHJEAgfUFBHzrW/lKAgQIEBiXgPP22E8BX7QQ8CUWlgRaERDwtdJp+yRAgACBsQnkF3Vj25/97F4gnykB3+574IgECKwvIOBb38pXEiBAgMC4BJy3x34K+KKFgC+xsCTQioCAr5VO2ycBAgQIjE0gv6gb2/7sZ/cC+UwJ+HbfA0ckQGB9AQHf+la+kgABAgTGJeC8PfZTwBctBHyJhSWBVgQEfK102j4JECBAYGwC+UXd2PZnP7sXyGdKwLf7HjgiAQLrCwj41rfylQQIECAwLgHn7bGfAr5oIeBLLCwJtCIg4Gul0/ZJgAABAmMTyC/qxrY/+9m9QD5TAr7d98ARCRBYX0DAt76VryRAgACBcQk4b4/9FPBFCwFfYmFJYLQC0w+he/5s6Z/3u/9xmISDk/dhOloMGyNAgAABAvUK5P/drncnKi9FIJ+p/mP/ECBAoBiB6Z/C6dH3w/7+/hr/HoQf/uLfXcsW0zyFECBAgMA2BZy3R01XLNFi6Q/8k09bEiAwBoFBAd+z8Lz74KJoDH23BwIECBAYnUB+UTe6DdrQzgXymRLw7bwFDkiAwEMCgwK+74ej0z+5ln3I0+cIECBAoFoB5+2xdQK+aCHgSywsCRAgQIAAAQIECJQskF/UlVyr2uoQyGdKwFdH31RJgAABAgQIECDQloDz9thvAV+0EPAlFpYECBAgQIAAAQIEShbIL+pKrlVtdQjkMyXgq6NvqiRAgAABAgQIEGhLwHl77LeAL1oI+BILSwIECBAgQIAAAQIlC+QXdSXXqrY6BPKZEvDV0TdVEiBAgAABAgQItCXgvD32W8AXLQR8iYUlAQIECBAgQIAAgZIF8ou6kmtVWx0C+UwJ+OromyoJECBAgAABAgTaEnDeHvst4IsWAr7EwpIAAQIECBAgQIBAyQL5RV3JtaqtDoF8pgR8dfRNlQQIECBAgAABAm0JOG+P/RbwRQsBX2JhSYAAAQIECBAgQKBkgfyiruRa1VaHQD5TAr46+qZKAgQIECBAgACBtgSct8d+C/iihYAvsbAkQIAAAQIECBAgULJAflFXcq1qq0MgnykBXx19UyUBAgQIECBAgEBbAs7bY78FfNFCwJdYWBIgQIAAAQIECBAoWSC/qCu5VrXVIZDPlICvjr6pkgABAgQIECBAoC0B5+2x3wK+aCHgSywsCRAgQIAAAQIECJQskF/UlVyr2uoQyGdKwFdH31RJgAABAgQIECDQloDz9thvAV+0EPAlFpYECBAgQIAAAQIEShbIL+pKrlVtdQjkMyXgq6NvqiRAgAABAgQIEGhLwHl77LeAL1oI+BILSwIECBAgQIAAAQIlC+QXdSXXqrY6BPKZEvDV0TdVEiBAgAABAgQItCXgvD32W8AXLQR8iYUlAQIECBAgQIAAgZIF8ou6kmtVWx0C+UwJ+OromyoJECBAgAABAgTaEnDeHvst4IsWAr7EwpIAAQIECBAgQIBAyQL5RV3JtaqtDoF8pgR8dfRNlQQIECBAgAABAm0JOG+P/RbwRQsBX2JhSYAAAQIECBAgQKBkgfyiruRa1VaHQD5TAr46+qZKAgQIECBAgACBtgSct8d+C/iihYAvsbAkQIAAAQIECBAgULJAflFXcq1qq0MgnykBXx19UyUBAgQIECBAgEBbAs7bY78FfNFCwJdYWBIgQIAAAQIECBAoWSC/qCu5VrXVIZDPlICvjr6pkgABAgQIECBAoC0B5+2x3wK+aCHgSywsCRAgQIAAAQIECJQskF/UlVyr2uoQyGdKwFdH31RJgAABAgQIECDQloDz9thvAV+0EPAlFpYECBAgMFBg+j6cHExu/lsyeRHOrqYDX8CXEyBAgMAQgfyibsj3+loCywTymRLwLVPyewQIECBAgAABAgQ+r4Dz9ugv4IsWAr7EwpIAAQIEBgoI+AaC+XICBAg8TiC/qHvcq/luAsH1oCEgQIAAAQIECBAgUIFAfi3Y8v+YJ+BLBtZgJBiWBAgQIDBMQMA3zMtXEyBA4JEC+bn7I1/OtxMQ8JkBAgQIECBAgAABAhUI5NeCAr4KmraLEg3GLpQdgwABAiMVEPCNtLG2RYBAqQL5uXupdaqrHoF8plr+QUE9XVMpAQIECBAgQIBAawLO22PH3cEXLfwfm4mF5fgFppd/CH/46D3Cxt9pO9yZgIBvIPXHcHn5ceD3+HICBAhEgfyiLn7GisBmAvlMCfg2c/RdBAgQIECAAAECBJ5SwHl71BXwRQsBX2JhOV6B6eV56I4Pw2RvL0yOzsLVeLdqZwQIFCvwt3Bx8oOwtzcJ+0cn4ezC30TFtkphBAoWyC/qCi5VaZUI5DMl4KukccokQIAAAQIECBBoSsB5e2y3gC9aCPgSC8sRCkwvw/mro7C/t3cz6/tH4dX5ZXAP3wh7bUsEKhCYXv42vDx8dvvf3mfh8LgL55efKqhciQQIlCKQX9SVUpc66hXIZ0rAV28vVU6AAAECBAgQIDBeAeftsbcCvmgh4EssLMckcBUu3r4Mh5PbYG9yGI6783Ap2RtTk+2FQKUCV+Hi7CQc7U9u/xt8EI5evfP3U6XdVDaBXQvkF3W7Pr7jjU8gnykB3/h6bEcECBAgQIAAAQL1Czhvjz0U8EULAV9iYTkGgU/h8vznyQ/O+ztkvg4X3ndvDM21BwLjEujvMO6OF/9HhLcXwTv0javNdkNg2wL5Rd22X9/rtSeQz5SAr70ZsGMCBAgQIECAAIHyBZy3xx4J+KKFgC+xsKxZYBo+XnwdjuePvuvf4+rnHn1Xc0vVTqAVgY8X4ezEo4Rbabd9EnisQH5R99jX8/0E8pkS8JkJAgQIECBAgAABAuUJOG+PPRHwRQsBX2JhWafA9PJdeHV0MJ/lyeHL8Pbiaoub6cPDb0LXfZncGXj76M+9/g7Br0L3ZpPHf34K33Y/CpPZ+wPmv+6/DOfL7jycfgjd89l7eM3qmP06CfvH7+7eAXTf9xychIuFx5b2jw58E14fH2Z19YHpl6Hrvtnsbsj7jt/v+U4NN62bXp6HNwvmfQ0n4Wyj3j5VD+8fs5v6v0pC51mP9sLk8Di87k7nAfT02y48n/wgnFz87f4XXPGZpz/einm9nt/H7eHBLfZ3u73ptjuby+Yyn8c+fFuYw76Pt3/uz7Z7t93T/132oLBPEiBQiUB+UVdJ2cosWCCfKQFfwc1SGgECBAgQIECAQLMCzttj6wV80WIeiqQDknzakkC5Ak9+10t+V2AMaNI/L3E99H20VgQmOw34+r12SwLMZXve4LGny4KUWaCZByp9kPMquZtp9nXzX5+Fw5e/XfP9yp66h3f/eOQhTZyP+yy70B3/r7C3NwkHJ+/DQt569+Xv/M7ujrdiXp8s4MveT3M+B8s8B/4ZXDaX83m8Chfdi7D/4PH2wt7+j8PZ5ac7fdn8N/KZdTfy5pa+k8A4BfL/roxzl3a1S4F8pvqP/UOAAAECBAgQIECAQFkCzttjP1yxRAsBX2JhWYnATt636lO4PPtx/OH+/lE46d7cvXvs+q6i1+Fk4Q7CV+H9sjvv7uW9Cu9Pnt/cMTc0LPj4+3By/VjSSdh/8XbN0CuE6cVJOOiDi+swYzHIuL677M4dif17G56GbuExgi9Ct9HddDcQizX0v5eHjH2Q+C/RfKHvfxeOzv7nXtGbT+yyh7d7ur4T7zZ4up6ZeJfeQrHXd4Xld/cND/hu7vzb3fEW9pB+MH0fTg4mYW9vy3fwzee73+N9d80tm80NQrers3A0uf0z8f8uw7uXt3exTg7D8ev8ztX+Ttd/iXdnDv1zm9rdu87fT/QgHJ2cbXYH7b3H8AkCBGoUyC/qatyDmssSyGdKwFdWf1RDgAABAgQIECBAoBdw3h7nQMAXLQxGYmFZukD/Q/WT5C6zp/qBd3qn0kE46t7ffeTlHarFu24mh0NDviSM2l8zOJuHH8PCvb70GK79Y3j95W24ODkML99drryDbOGOsUcEG7GG/jGhecj40/Dunruibh5FmQcueUM+Qw/nd4MNucMw6fvQO/h2fbycOP34KQK++Xz3jzRd87G7H9+Hbha2D53NecAX/0xMDu+fw+vtT78NZy9uHg88OToL23wwcOTN7mDsA8duk0cCx1e0IkCgboH8oq7u3ai+BIF8pgR8JXRFDQQIECBAgAABAgQWBZy3Rw8BX7QQ8CUWlqUK9HeydPFumes7ebr5+5dtt+pp+Hj+8ubOvcnzcPJ+4I/s5z/wv+e98B4sNgl7Vhx7evnb8HKDO/dmh5+Ha7PHDw4NQ+b73AuT5134duhzJdOQcf8ofDl/z791A9XZTpb9+nl6ODedP+JxWW3Lfu/P4fz4e4Mf0bnr4y2rfP572w745vPVP56yG3jXWnpH7D3vYzkvPFnMAr75n4k1v3fbe09KWljmj67t7xDd8nsALhzPBwQIFCuQX9QVW6jCqhHIZ0rAV03rFEqAAAECBAgQINCQgPP22GwBX7QQ8CUWlqUJ9HfFnSWPv+x/2H8SH9n4FOXOf1j/vXB8/ufNjjC/82iT11gd8k0v34YX+/3jEIfcKba4lXk4dB1mbFJnn9B9CN3zZ2Fvb53HZS4ev/9osYb+vczWvHPx7kst/s5n6uFsP8Pv5JoFksMeb7nr4y0iZx/NzYftIXuV2w+n4ersxfUja4ffCTt7idmddQMee5oGfIMC77+Fi5MfDA5ol+999e/2d7B280C8v7vxOHTnq++8Xf3KvoIAgVoE8ou6WupWZ7kC+UwJ+MrtlcoIECBAgAABAgTaFXDeHnsv4IsWAr7EwrIkgfhD/tlfXsODk6H7icd87LE2D1/6mu8P+RbCvZPfr/Ho0OUGs/r29ja50zC+5vx1Bt+1thjwrXwUYjzkitVn7OE8IDoIL86+Xfmo0xUbWf3pXR/voYq2GfBt67VmPpMX4exqjVtMZ1+/NzTwns3cgDDxIcu1PjcLFW/ff3Ho413XOoYvIkCgVIHZedHs11LrVFc9ArNZSn+tp3qVEiBAgAABAgQIEGhDID1fn63b2PndXQr4EpPZMKS/Jp+2JPAZBXZ9B9//hLOjvwt7e1u4C2l2d9u64cId5Wn4+P5VOJzshb3bx3VuK9zrDzUP5h69183N5jVsEA7e4Zr/xub1zF9ithjcw/R9/27urHrdvXnCO053fbwZzJJftxXKJbP52JA9hFkItuYdprOAb/A87jbgcwffkvnzWwQaE0jP2fu1fwg8ViCfKXP1WFHfT4AAAQIECBAgQGD7As7bo6kr4WjhDr7EwrJUgR29B9/sB/wbh3Kp38BwIf3W+ToJ+WbvC9Y/lvMRd+7NXnoerj16r5vvc17D4EBltoslv372Hl6Fi+7FzXs4zns2u8uq/7V/zOyXoeu60HXfDHxvuSX7Dbs+3rIa+lTufTg56B8b+9hwfDZP27kbbjZja4WFs9kZPI87Cvi8B989w+e3CbQnkF/UtSdgx9sWyGdKwLdtYa9HgAABAgQIECBA4PECztujoYAvWgj4EgvL0gWuwsXZSTi6fv+5Piw5CEcnZ1sISW73PfsB/9JgJg1phqwfG1TMAo+bY64VVKzRxlnwsTc4zMhffFbf8H1ur4akpkJ62N9l9ab7MpnV+2dmcvgyvL24SjYxfLnr492pcGsB3+wOzDXvurtTyOJvDJqx2ewM/jPx1AHfVbh4+/Lmbt7+76bJYTjuzsPlGk8dXdTwEQECYxHIL+rGsi/7+HwC+UwJ+D5fLxyZAAECBAgQIECAwH0CztujjIAvWgj4EgvLSgT6qaM/aAAAIABJREFUO1m648UfeL+92Pj96Oa7nv2Av5iAb9kdfNt5f7dBwcccaNlCwLdM5e7v9eH0m9s797rw+vgwTBbmbDt3Zsbj7vh4hQZ8YfZnep3QbsjXRuj+9sVwdfYiTLb+Pnj9ncs/T0LiLf8PDQt78AEBAjUJ5Bd1NdWu1jIF8pkS8JXZJ1URIECAAAECBAi0LeC8PfZfwBctBHyJhWVlAh8vwtnJUXwc4v5ReHV+GTa+sWX2A/5HP7ZyG45puNeHev8Vri662x/2Pz7kmwd8j97rLOAbfsfVvIZ1wpd1SYvq4aqi8/eYfBaedx82n99VhwtPeLxCA75BMzabncHzuO2Ar+/T1+H48Nntf5/7x7r+PJxfflrZYV9AgEAbAvlFXRu7tsunFMhnSsD3lNpemwABAgQIECBAgMBmAs7bo5uAL1oI+BILyzoFppfvwqujg/ksb/zIw62FFI91/BQu3/309g7FxTBvevk2vLh+ROnj7viaBx+Pfc+0R5jNaxgcqDzg+4h6HnjVJ/7Up3B59uOboHqbFvdW/QTH25r7LDAe/sjXu9udBW97Ya1H2xYQ8G3t77K7GH6HAIERCeQXdSPamq18JoF8pgR8n6kRDkuAAAECBAgQIEDgAQHn7RFHwBct5qFIOiDJpy0JVCKwjbtethkubMqWhC+Tw/Dy3d07ErcR8s3Dtb1J2D9+t/HjTeevs0Ew9ZjvvV+3hB7eX939n5m999wPwsnF3+7/sq19ZsvH21rAF8JsLtYK5R70mM3CmneXfs6Ab9t3Iz/o4pMECNQukJ6zC2Jq72YZ9eczZa7K6IsqCBAgQIAAAQIECKQCztujhoAvWgj4EgvLMQjk71v1LBwefx0uPq734M7pt114PtkLe49+dOUmlmm49zycvL+690UeG/LNQpSb/zB8Lxyf//neY937iemH0D3vHyO4ZoCSvdC8hg3CweylFj78HD28OeZjHrE5LIza9fEWgJd9sMWAL8xfa8O5nNU3C+zW/bM8+/rB8zi7U3CDuw6f6v1EZwZ+JUBglAL5Rd0oN2lTOxXIZ6r/2D8ECBAgQIAAAQIECJQl4Lw99sMVS7QQ8CUWlmMSuAoXb1/ePuayD+wOw3F3Hi5X5nx/DufH3wt7/Z1tL96u8fXbMls/3JsdcXr52/Dy+n26hj+ucx6u7e3d/B2w/+NwNuQ9vqbfhrMXN49FnTzvwrcrXWdVx1/nNQwOVOJrLF/tuoezgGfNR0EuLXrIHXW7Pt7Sghd/cx7KbeMOxGR/h6/C+zXD+YWC5vM5IHTbacB3FS7OTm7fU7P/M3gQjl692+HfNwtaPiBAoDKB/KKusvKVW6BAPlMCvgKbpKRRCky/+1345U9+GPb392/+/eIn4Zf/9t2TvSf32I83yiGxKQIECBAgkAg4b48YAr5oIeBLLCxHKNDfIfPq6Ob9zfowa/8ovDq/+9jLhZ1//H04uQ7OHhPyzd5Hb527kIaHe/N6N6w1hmv/GF5/+TxMept7Hgk6P9btYuF9woYGg8mLxRpOwsUGAWHyUneXG7osvtC6PYyB1N7kR6H79tPiy6z8aBo+vn91E0avFXbu+ngrNxDiXXfbCPhCCElAt3/UrX0H7nWl08vw7uXhzUzvvwzn6waEOwr4YjDfB3v9HcZdOB8Srq/RDl9CgMC4BfKLunHv1u52IZDPlIBvF+qO0bzAX38XfvbFQQz3ZiHfwT+E0/8eej2xhubYj7cGgS8hQIAAAQK1Czhvjx0U8EULAV9iYTlegenleeiOb37ov857e8VHYO6FyeFPw7u1fwDfvxfgWTg5urm7bW9vVcB3Fd6f3AZs+y9Cd3H/Yznv7c4GYdZiuJbUsNfv9zi8fpPf7dg/+vQ0dCdpWDrwrr9sA4s1ZJ/cwoe762ESuK0bIs/3l4R7K2dl9k27Pt7suA/8utU7+G6PM5/rfiZfhrdr/Nl4VPi8k4Bv9ijWSdg/Oglna+zpAXWfIkCgUYH8oq5RBtveokA+UwK+LeJ6KQJLBabhL7/5p3AwC/UWfj0IP/zFv2/5Lr6xH28pst8kQIAAAQKjE3DeHlsq4IsWAr7EwnL8AtPLP4Q/rHlHz+KdNv0P5L8M3Z3gqzfrH7f3JnTdl8kj91bdEfcpfNv96OYuo9ljMvNf7737aPYIytvHa+bf14d0Kx6beTdcy9+78P7XvrnraP33NYx3dz30mqs+N+BRi8kYP20PZweKgdtkfz/8/W0/roPS7nT53VkfL8JZ9zoJgoc8ZnXXx1tjVpfM4LKTjv73Vs3mTPX61yTku5m7r0J3dhE+LnzRpuHzNHw8fxnv7l22hwfuyJy/1+Oy73swrP0YLi8Xd7CwHR8QIEBghUD+9+uKL/dpAisF8pnqP/YPAQJPKTD2wG3X+3vKXnltAgQIECBQjoDz9tgLVyzRQsCXWFgSuCPQP+KzO47v5bf0h/lZOLV/FE6WBoHpq68Rmuw04JvVdhtWpnfq3e75JrD6ZtjjEvuXnd/dlTmtYzn/mmfhefdhs/+T9cl6ODPrnyjZheeTvsb/CFcXX4fj60e8rrnfNR+NGo+26+OtMavzPq3e86CA73rT2ftpPnisIe9l97kCvrST1gQIEBgukF/UDX8F30FgUSCfKQHfoo+PCDyJwNgfmbnr/T1Jk7woAQIECBAoS8B5e+yHgC9aCPgSC0sC9wr0IdGbbvERlfOgoX8fra9C172p5pF7d+/gu3fn4/nETnvYP6r1m9B1Xy0P+yaH4fh1t+RutE25d328Tet8xPfd9u/17aN240nN7d213Qbh8yPK8a0ECBD4XALx77+b/6nic9XhuOMRyGeq/9g/BAg8vcD0u9+FX/7kh/F9+L74p3D6x7882YHHfrwng/PCBAgQIECgEAHn7bERrliihYAvsbAk0IpAkwFfK821TwIECBAYtUB+UTfqzdrcTgTymRLw7YTdQQgQIECAAAECBAgMEnDeHrkEfNFCwJdYWBJoRUDA10qn7ZMAAQIExiaQX9SNbX/2s3uBfKYEfLvvgSMSIECAAAECBAgQWCXgvD0KCfiihYAvsbAk0IqAgK+VTtsnAQIECIxNIL+oG9v+7Gf3AvlMCfh23wNHJECAAAECBAgQILBKwHl7FBLwRQsBX2JhSaAVAQFfK522TwIECBAYm0B+UTe2/dnP7gXymRLw7b4HjkiAAAECBAgQIEBglYDz9igk4IsWAr7EwpJAKwICvlY6bZ8ECBAgMDaB/KJubPuzn90L5DMl4Nt9DxyRAAECBAgQIECAwCoB5+1RSMAXLQR8iYUlgVYEBHytdNo+CRAgQGBsAvlF3dj2Zz+7F8hnSsC3+x44IgECBAgQIECAAIFVAs7bo5CAL1oI+BILSwKjFZh+CN3zZ0v/vN/9j8MkHJy8D9PRYtgYAQIECBCoVyD/73a9O1F5KQL5TPUf+4cAAQIECBAgQIAAgbIEnLfHfrhiiRZLf+CffNqSAIExCAwK+J6F590HAd8Y+m4PBAgQIDA6gfyibnQbtKGdC+QzJeDbeQsckAABAgQIECBAgMBKAeftkUjAFy0EfImFJQECBAgQIECAAIGSBfKLupJrVVsdAvlMCfjq6JsqCRAgQIAAAQIE2hJw3h77LeCLFgK+xMKSAAECBAgQIECAQMkC+UVdybWqrQ6BfKYEfHX0TZUECBAgQIAAAQJtCThvj/0W8EULAV9iYUmAAAECBAgQIECgZIH8oq7kWtVWh0A+UwK+OvqmSgIECBAgQIAAgbYEnLfHfgv4ooWAL7GwJECAAAECBAgQIFCyQH5RV3KtaqtDIJ8pAV8dfVMlAQIECBAgQIBAWwLO22O/BXzRQsCXWFgSIECAAAECBAgQKFkgv6gruVa11SGQz5SAr46+qZIAAQIECBAgQKAtAeftsd8Cvmgh4EssLAkQIECAAAECBAiULJBf1JVcq9rqEMhnSsBXR99USYAAAQIECBAg0JaA8/bYbwFftBDwJRaWBAgQIECAAAECBEoWyC/qSq5VbXUI5DMl4Kujb6okQIAAAQIECBBoS8B5e+y3gC9aCPgSC0sCBAgQIECAAAECJQvkF3Ul16q2OgTymRLw1dE3VRIgQIAAAQIECLQl4Lw99lvAFy0EfImFJQECBAgQIECAAIGSBfKLupJrVVsdAvlMCfjq6JsqCRAgQIAAAQIE2hJw3h77LeCLFgK+xMKSAAECBAgQIECAQMkC+UVdybWqrQ6BfKYEfHX0TZUECBAgQIAAAQJtCThvj/0W8EULAV9iYUmAAAECBAgQIECgZIH8oq7kWtVWh0A+UwK+OvqmSgIECBAgQIAAgbYEnLfHfgv4ooWAL7GwJECAAAECBAgQIFCyQH5RV3KtaqtDIJ8pAV8dfVMlAQIECBAgQIBAWwLO22O/BXzRQsCXWFgSIECAAAECBAgQKFkgv6gruVa11SGQz5SAr46+qZIAAQIECBAgQKAtAeftsd8Cvmgh4EssLAkQIECAAAECBAiULJBf1JVcq9rqEMhnSsBXR99USYAAAQIECBAg0JaA8/bYbwFftBDwJRaWBAgQIECAAAECBEoWyC/qSq5VbXUI5DMl4Kujb6okQIAAAQIECBBoS8B5e+y3gC9aCPgSC0sCBAgQIECAAAECJQvkF3Ul16q2OgTymRLw1dE3VRIgQIAAAQIECLQl4Lw99lvAFy0EfImFJQECBAgQIECAAIGSBfKLupJrVVsdAvlMCfjq6JsqCRAgQIAAAQIE2hJw3h77LeCLFgK+xMKSAAECBAgQIECAQMkC+UVdybWqrQ6BfKYEfHX0TZUECBAgQIAAAQJtCThvj/0W8EULAV9iYUmAAAECBAgQIECgZIH8oq7kWtVWh0A+UwK+OvqmSgIECBAgQIAAgbYEnLfHfgv4ooWAL7GwJECAAAECBAgQIFCyQH5RV3KtaqtDIJ8pAV8dfVMlAQIECBAgQIBAWwLO22O/BXzRQsCXWFgSIECAAAECBAgQKFkgv6gruVa11SGQz5SAr46+qZIAAQIECBAgQKAtAeftsd8Cvmgh4EssLAkQIECAAAECBAiULJBf1JVcq9rqEMhnSsBXR99USYAAAQIECBAg0JaA8/bYbwFftBDwJRaWBAgQIECAAAECBEoWyC/qSq5VbXUI5DMl4Kujb6okQIAAAQIECBBoS8B5e+y3gC9aCPgSC0sCBAgQIECAAAECJQvkF3Ul16q2OgTymRLw1dE3VRIgQIAAAQIECLQl4Lw99lvAFy0EfImFJQECBAgQIECAAIGSBfKLupJrVVsdAvlMCfjq6JsqCRAgQIAAAQIE2hJw3h77LeCLFgK+xMKSAAECBAgQIECAQMkC+UVdybWqrQ6BfKYEfHX0TZUECBAgQIAAAQJtCThvj/0W8EULAV9iYUmAAAECBAgQIECgZIH8oq7kWtVWh0A+UwK+OvqmSgIECBAgQIAAgbYEnLfHfgv4ooWAL7GwJECAAAECBAgQIFCyQH5RV3KtaqtDIJ8pAV8dfVMlAQIECBAgQIBAWwLO22O/BXzRQsCXWFgSIECAAAECBAgQKFkgv6gruVa11SGQz5SAr46+qZIAAQIECBAgQKAtAeftsd8Cvmgh4EssLAkQIECAAAECBAiULJBf1JVcq9rqEMhnSsBXR99USYAAAQIECBAg0JaA8/bYbwFftBDwJRaWBAgQIECAAAECBEoWyC/qSq5VbXUI5DMl4Kujb6okQIAAAQIECBBoS8B5e+y3gC9aCPgSC0sCBAgQIECAAAECJQvkF3Ul16q2OgTymRLw1dE3VRIgQIAAAQIECLQl4Lw99lvAFy0EfImFJQECBAgQIECAAIGSBfKLupJrVVsdAvlMCfjq6JsqCRAgQIAAAQIE2hJw3h77LeCLFgK+xMKSAAECBAgQIECAQMkC+UVdybWqrQ6BfKYEfHX0TZUECBAgQIAAAQJtCThvj/0W8EULAV9iYUmAAAECBAgQIECgZIH8oq7kWtVWh0A+UwK+OvqmSgIECBAgQIAAgbYEnLfHfgv4ooWAL7GwJECAAAECBAgQIFCyQH5RV3KtaqtDIJ8pAV8dfVMlAQIECBAgQIBAWwLO22O/BXzRQsCXWFgSIECAAAECBAgQKFkgv6gruVa11SGQz5SAr46+qZIAAQIECBAgQKAtAeftsd8Cvmgh4EssLAkQIECAAAECBAiULJBf1JVcq9rqEMhnSsBXR99USYAAAQIECBAg0JaA8/bYbwFftBDwJRaWBAgQIECAAAECBEoWyC/qSq5VbXUI5DMl4Kujb6okQIAAAQIECBBoS8B5e+y3gC9aCPgSC0sCBAgQIECAAAECJQvkF3Ul16q2OgTymRLw1dE3VRIgQIAAAQIECLQl4Lw99lvAFy0EfImFJQECBAgQIECAAIGSBfKLupJrVVsdAvlMCfjq6JsqCRAgQIAAAQIE2hJw3h77LeCLFgK+xMKSAAECBAgQIECAQMkC+UVdybWqrQ6BfKYEfHX0TZUECBAgQIAAAQJtCThvj/0W8EULAV9iYVmfwPTyXXh1dBDneP8ovDq/DNMn2srYj/dEbF6WAAECBAgQ2JJAflG3pZf1Mg0L5DMl4Gt4GGydAAECBAgQIECgWAHn7bE1Ar5oEYORvb35Ovm0JYFyBT6+C8f7k/nczv+Sm/wodN9+2n7dYz/e9sW8IgECBAgQILBlgfn5zu25+5Zf3ss1KJDPVP+xfwgQIECAAAECBAgQKEvAeXvshyuWaHE3HHFBl+hYliswDVdnL8IkCabjX3KTcHDyfst38Y39eOV2WmUECBAgQIBAFIjnOzf/c178jBWBzQTymeo/9g8BAgQIECBAgAABAmUJOG+P/XDFEi0EfImFZU0CYw/cdr2/mnqvVgIECBAg0K5AflHXroSdb0sgnykB37ZkvQ4BAgQIECBAgACB7Qk4b4+WAr5oIeBLLCwrExj7IzN3vb/K2q9cAgQIECDQokB+UdeigT1vVyCfKQHfdn29GgECBAgQIECAAIFtCDhvj4oCvmgh4EssLOsTmF6+C6+ODuIc778I3cXVk21k7Md7MjgvTIAAAQIECGxFIL+o28qLepGmBfKZEvA1PQ42T4AAAQIECBAgUKiA8/bYGAFftIjBSPJeZsmnLQkQIECAAAECBAgQKEQgv6grpCxlVCyQz5SAr+JmKp0AAQIECBAgQGC0As7bY2sFfNFCwJdYWBIgQIAAAQIECBAoWSC/qCu5VrXVIZDPlICvjr6pkgABAgQIECBAoC0B5+2x3wK+aCHgSywsCRAgQIAAAQIECJQskF/UlVyr2uoQyGdKwFdH31RJgAABAgQIECDQloDz9thvAV+0EPAlFpYECBAgQIAAAQIEShbIL+pKrlVtdQjkMyXgq6NvqiRAgAABAgQIEGhLwHl77LeAL1oI+BILSwIECBAgQIAAAQIlC+QXdSXXqrY6BPKZEvDV0TdVEiBAgAABAgQItCXgvD32W8AXLQR8iYUlAQIECBAgQIAAgZIF8ou6kmtVWx0C+UwJ+OromyoJECBAgAABAgTaEnDeHvst4IsWAr7EwpIAAQIECBAgQIBAyQL5RV3JtaqtDoF8pgR8dfRNlQQIECBAgAABAm0JOG+P/RbwRQsBX2JhSYAAAQIECBAgQKBkgfyiruRa1VaHQD5TAr46+qZKAgQIECBAgACBtgSct8d+C/iihYAvsbAkQIAAAQIECBAgULJAflFXcq1qq0MgnykBXx19UyUBAgQIECBAgEBbAs7bY78FfNFCwJdYWBIgQIAAAQIECBAoWSC/qCu5VrXVIZDPlICvjr6pkgABAgQIECBAoC0B5+2x3wK+aCHgSywsCRAgQIAAAQIECJQskF/UlVyr2uoQyGdKwFdH31RJgAABAgQIECDQloDz9thvAV+0EPAlFpYECBAgQIAAAQIEShbIL+pKrlVtdQjkMyXgq6NvqiRAgAABAgQIEGhLwHl77LeAL1oI+BILSwIECBAgQIAAAQIlC+QXdSXXqrY6BPKZEvDV0TdVEiBAgAABAgQItCXgvD32W8AXLQR8iYUlAQIECBAgQIAAgZIF8ou6kmtVWx0C+UwJ+OromyoJECBAgAABAgTaEnDeHvst4IsWAr7EwpIAAQIECBAgQIBAyQL5RV3JtaqtDoF8pgR8dfRNlQQIECBAgAABAm0JOG+P/RbwRQsBX2JhSYAAAQIECBAgQKBkgfyiruRa1VaHQD5TAr46+qZKAgQIECBAgACBtgSct8d+C/iihYAvsbAkQIAAAQIECBAgULJAflFXcq1qq0MgnykBXx19UyUBAgQIECBAgEBbAs7bY78FfNFCwJdYWBIgQIAAAQIECBAoWSC/qCu5VrXVIZDPlICvjr6pkgABAgQIECBAoC0B5+2x3wK+aCHgSywsCRAgQIAAAQIECJQskF/UlVyr2uoQyGdKwFdH31RJgAABAgQIECDQloDz9thvAV+0EPAlFpYECBAgQIAAAQIEShbIL+pKrlVtdQjkMyXgq6NvqiRAgAABAgQIEGhLwHl77LeAL1oI+BILSwIECBAgQIAAAQIlC+QXdSXXqrY6BPKZEvDV0TdVEiBAgAABAgQItCXgvD32W8AXLQR8iYUlAQIECBAgQIAAgZIF8ou6kmtVWx0C+UwJ+OromyoJECBAgAABAgTaEnDeHvst4IsWSwO+ZcPi9/ZY7THw58AMmAEzYAbMgBkwAyXNQHJab0lgI4GS5lkt/n41A2bADJgBM2AGzIAZMAPrz8BGFwAj+CYBX9JEf2DW/wPDipUZMANmwAyYATNgBsxASTOQnNZbEthIoKR5Vou/X82AGTADZsAMmAEzYAbMwPozsNEFwAi+ScCXNNEfmPX/wLBiZQbMgBkwA2bADJgBM1DSDCSn9ZYENhIoaZ7V4u9XM2AGzIAZMANmwAyYATOw/gxsdAEwgm8S8GVN9Idm/T80rFiZATNgBsyAGTADZsAMlDID2Wm9DwkMFihlltXh71UzYAbMgBkwA2bADJgBMzBsBgaf/I/kGwR8WSP9wRn2B4cXLzNgBsyAGTADZsAMmIESZiA7rfchgY0ESphlNfg71QyYATNgBsyAGTADZsAMrD8DG534j+SbBHwjaaRtECBAgAABAgQIECBAgAABAgQIECBAgAABAgQItCEg4Gujz3ZJgAABAgQIECBAgAABAgQIECBAgAABAgQIECAwEgEB30gaaRsECBAgQIAAAQIECBAgQIAAAQIECBAgQIAAAQJtCAj42uizXRIgQIAAAQIECBAgQIAAAQIECBAgQIAAAQIECIxEQMA3kkbaBgECBAgQIECAAAECBAgQIECAAAECBAgQIECAQBsCAr42+myXBAgQIECAAAECBAgQIECAAAECBAgQIECAAAECIxEQ8I2kkbZBgAABAgQIECBAgAABAgQIECBAgAABAgQIECDQhoCAr40+2yUBAgQIECBAgAABAgQIECBAgAABAgQIECBAgMBIBAR8I2mkbRAgQIAAAQIECBAgQIAAAQIECBAgQIAAAQIECLQhIOBro892SYAAAQIECBAgQIAAAQIECBAgQIAAAQIECBAgMBIBAd9IGmkbBAgQIECAAAECBAgQIECAAAECBAgQIECAAAECbQgI+Nros10SIECAAAECBAgQIECAAAECBAgQIECAAAECBAiMREDAN5JG2gYBAgQIECBAgAABAgQIECBAgAABAgQIECBAgEAbAgK+NvpslwQIECBAgAABAgQIECBAgAABAgQIECBAgAABAiMREPCNpJG2QYAAAQIECBAgQIAAAQIECBAgQIAAAQIECBAg0IaAgK+NPtslAQIECBAgQIAAAQIECBAgQIAAAQIECBAgQIDASAQEfCNppG0QIECAAAECBAgQIECAAAECBAgQIECAAAECBAi0ISDga6PPdkmAAAECBAgQIECAAAECBAgQIECAAAECBAgQIDASAQHfSBppGwQIECBAgAABAgQIECBAgAABAgQIECBAgAABAm0ICPja6LNdEiBAgAABAgQIECBAgAABAgQIECBAgAABAgQIjERAwDeSRtoGAQIECBAgQIAAAQIECBAgQIAAAQIECBAgQIBAGwICvjb6bJcECBAgQIAAAQIECBAgQIAAAQIECBAgQIAAAQIjERDwjaSRtkGAAAECBAgQIECAAAECBAgQIECAAAECBAgQINCGgICvjT7bJQECBAgQIECAAAECBAgQIECAAAECBAgQIECAwEgEBHwjaaRtECBAgAABAgQIECBAgAABAgQIECBAgAABAgQItCEg4Gujz3ZJgAABAgQIECBAgAABAgQIECBAgAABAgQIECAwEgEB30gaaRsECBAgQIAAAQIECBAgQIAAAQIECBAgQIAAAQJtCAj42uizXRIgQIAAAQIECBAgQIAAAQIECBAgQIAAAQIECIxEQMA3kkbaBgECBAgQIECAAAECBAgQIECAAAECBAgQIECAQBsCAr42+myXBAgQIECAAAECBAgQIECAAAECBAgQIECAAAECIxEQ8I2kkbZBgAABAgQIECBAgAABAgQIECBAgAABAgQIECDQhoCAr40+2yUBAgQIECBAgAABAgQIECBAgAABAgQIECBAgMBIBAR8I2mkbRAgQIAAAQIECBAgQIAAAQIECBAgQIAAAQIECLQhIOBro892SYAAAQIECBAgQIAAAQIECBAgQIAAAQIECBAgMBIBAd9IGmkbBAgQIECAAAECBAgQIECAAAECBAgQIECAAAECbQgI+Nros10SIECAAAECBAgQIECAAAECBAgQIECAAAECBAiMREDAN5JG2gYBAgQIECBAgAABAgQIECBAgAABAgQIECBAgEAbAgK+NvpslwQIECBAgAABAgQIECBAgAABAgQIECBAgAABAiMREPCNpJG2QYAAAQIECBAgQIAAAQKtPmnCAAABDUlEQVQECBAgQIAAAQIECBAg0IaAgK+NPtslAQIECBAgQIAAAQIECBAgQIAAAQIECBAgQIDASAQEfCNppG0QIECAAAECBAgQIECAAAECBAgQIECAAAECBAi0ISDga6PPdkmAAAECBAgQIECAAAECBAgQIECAAAECBAgQIDASAQHfSBppGwQIECBAgAABAgQIECBAgAABAgQIECBAgAABAm0ICPja6LNdEiBAgAABAgQIECBAgAABAgQIECBAgAABAgQIjERAwDeSRtoGAQIECBAgQIAAAQIECBAgQIAAAQIECBAgQIBAGwICvjb6bJcECBAgQIAAAQIECBAgQIAAAQIECBAgQIAAAQIjEfj/IVJUhDzt0VgAAAAASUVORK5CYII=)"
      ]
    },
    {
      "cell_type": "markdown",
      "metadata": {
        "id": "fyXuviXlf1KH"
      },
      "source": [
        "So a basic example first:"
      ]
    },
    {
      "cell_type": "code",
      "execution_count": null,
      "metadata": {
        "colab": {
          "base_uri": "https://localhost:8080/"
        },
        "id": "nQ0fTLxWf1KH",
        "outputId": "f8322b8d-07ff-450b-dfcd-06d791546d9b"
      },
      "outputs": [
        {
          "output_type": "stream",
          "name": "stdout",
          "text": [
            "Please give me an int:    8\n",
            "Cool, your number is even\n"
          ]
        }
      ],
      "source": [
        "my_input = input(\"Please give me an int:    \")\n",
        "my_input = int(my_input)\n",
        "\n",
        "if my_input%2 == 0:\n",
        "    print(\"Cool, your number is even\")\n",
        "else:\n",
        "    print(\"I'm afraid your number is odd\")"
      ]
    },
    {
      "cell_type": "markdown",
      "metadata": {
        "id": "rC_o7ZJBf1KH"
      },
      "source": [
        "Some observations on this:\n",
        "\n",
        "* The expression `if my_input%2 ==0` evaluates to `True` if our input `my_input`is even.\n",
        "* Here `==` is used for comparison, once again make sure that you don't confuse it with the assignment operator `=`\n",
        "* The **indentation** is important! Each intended set of expressions stands for a block (branch) of instructions.\n"
      ]
    },
    {
      "cell_type": "markdown",
      "metadata": {
        "id": "3y1FkqnHf1KH"
      },
      "source": [
        "Now we can make this an example with some more branches. Try to run the cell below after choosing a range of different  values for my_num."
      ]
    },
    {
      "cell_type": "code",
      "execution_count": null,
      "metadata": {
        "colab": {
          "base_uri": "https://localhost:8080/"
        },
        "id": "6ClxnL2Lf1KH",
        "outputId": "2bf3567e-4c12-4d0b-f6b2-acacd05877db"
      },
      "outputs": [
        {
          "output_type": "stream",
          "name": "stdout",
          "text": [
            "My number is less than 5\n"
          ]
        }
      ],
      "source": [
        "my_num = 4\n",
        "\n",
        "if my_num < 5:\n",
        "    print(\"My number is less than 5\")\n",
        "elif my_num < 10:\n",
        "    print(\"My number is less than 10 but greater or equal to 5\")\n",
        "else:\n",
        "    print(\"My number has to be greater or equal to 10\")"
      ]
    },
    {
      "cell_type": "markdown",
      "metadata": {
        "id": "dODjH7wif1KH"
      },
      "source": [
        "### Quick Exercise\n",
        "\n",
        "By using what we've demonstrated above try to write a code to\n",
        "check if a number read in from `input` is divisible by both 2 and 3.\n",
        "If it is divisible by both say \"Yay, I divide by 6\", otherwise say \"I wish I divided by 6\"."
      ]
    },
    {
      "cell_type": "code",
      "execution_count": null,
      "metadata": {
        "id": "M2biPA_wf1KH"
      },
      "outputs": [],
      "source": []
    },
    {
      "cell_type": "markdown",
      "metadata": {
        "id": "C5J0Y_jUf1KI"
      },
      "source": [
        "## Nested conditionals\n",
        "\n",
        "Let's look at if statements within if statements .... This is where indentation *really* helps python to be readable"
      ]
    },
    {
      "cell_type": "code",
      "execution_count": null,
      "metadata": {
        "colab": {
          "base_uri": "https://localhost:8080/"
        },
        "id": "1iIKr-yUf1KI",
        "outputId": "23c3c954-4271-4f35-e8e6-4e1de09e5c7e"
      },
      "outputs": [
        {
          "output_type": "stream",
          "name": "stdout",
          "text": [
            "Input an integer (either positive or negative) and then press enter: 8\n",
            "Your input is less than or equal to 10\n"
          ]
        }
      ],
      "source": [
        "x = int(input('Input an integer (either positive or negative) and then press enter: '))\n",
        "\n",
        "if x>0:\n",
        "    if x<=10:\n",
        "        print('Your input is less than or equal to 10')\n",
        "    else:\n",
        "        print('Your input is greater than 10')\n",
        "else:\n",
        "    if x>-10:\n",
        "        print('your input is negative and it is greater than -10')\n",
        "    else:\n",
        "        print('your input is less or equal to -10')\n"
      ]
    },
    {
      "cell_type": "markdown",
      "metadata": {
        "id": "L55eof66f1KI"
      },
      "source": [
        "Is it clear what's going on here? How will the code walk through all of this? If it's not clear ask one of us and let's walk through it together!"
      ]
    },
    {
      "cell_type": "markdown",
      "metadata": {
        "id": "lKnL_n-4f1KN"
      },
      "source": [
        "# End of class exercises"
      ]
    },
    {
      "cell_type": "markdown",
      "metadata": {
        "id": "81iscKqDf1KO"
      },
      "source": [
        "## Exercise 1\n",
        "\n",
        "In the cell below, define a function of two variables, call it, __mymax__, which returns the maximum of two real numbers $a$ and $b$."
      ]
    },
    {
      "cell_type": "code",
      "execution_count": null,
      "metadata": {
        "id": "WfocKzh6f1KO"
      },
      "outputs": [],
      "source": []
    },
    {
      "cell_type": "markdown",
      "metadata": {
        "id": "bGv-PGj-f1KO"
      },
      "source": [
        "## Exercise 2\n",
        "\n",
        "What do the following expressions evaluate to? Try to figure this out in your head first and then print the values of the variables defined in the cell below."
      ]
    },
    {
      "cell_type": "code",
      "execution_count": null,
      "metadata": {
        "id": "ymaRyhBYf1KO"
      },
      "outputs": [],
      "source": [
        "x1 = 1 < 2 and 2 < 3\n",
        "x2 = 1 < 2 and 2 > 3\n",
        "x3 = 1 > 2 and 2 > 3\n",
        "x4 = 1 > 2 and 2 < 3"
      ]
    },
    {
      "cell_type": "code",
      "execution_count": null,
      "metadata": {
        "id": "2L-MKBMFf1KO"
      },
      "outputs": [],
      "source": []
    },
    {
      "cell_type": "markdown",
      "metadata": {
        "id": "oC2hQRs7f1KO"
      },
      "source": [
        "## Exercise 3\n",
        "\n",
        "Based on the previous exercise, predict (by writing on paper) what the\n",
        "\n",
        "\n",
        "following expressions must evaluate to:\n",
        "\n",
        "- True and True\n",
        "- True and False\n",
        "- False and False\n",
        "- False and True\n",
        "\n",
        "If you are not sure you can try printing them in the cell below."
      ]
    },
    {
      "cell_type": "code",
      "execution_count": null,
      "metadata": {
        "id": "bLPWSrJOf1KO"
      },
      "outputs": [],
      "source": []
    },
    {
      "cell_type": "markdown",
      "metadata": {
        "id": "i3Z1rDWRf1KO"
      },
      "source": [
        "How about the truth table for \"or\":\n",
        "\n",
        "- True or True\n",
        "- True or False\n",
        "- False or False\n",
        "- False or True\n",
        "\n",
        "Verify in the cell below"
      ]
    },
    {
      "cell_type": "code",
      "execution_count": null,
      "metadata": {
        "id": "u1ZB4XFgf1KO"
      },
      "outputs": [],
      "source": []
    },
    {
      "cell_type": "markdown",
      "metadata": {
        "id": "BlDnU6caf1KP"
      },
      "source": [
        "## Exercise 4\n",
        "\n",
        "Evaluate (__Shift+Enter__) the cell below:"
      ]
    },
    {
      "cell_type": "code",
      "execution_count": null,
      "metadata": {
        "id": "cxEiAS82f1KP"
      },
      "outputs": [],
      "source": [
        "x= int(input('Please input an integer: '))\n",
        "if x%3 == 0:\n",
        "    print('The number is a multiple of 3')\n",
        "else:\n",
        "    print('The number is not a multiple of 3')"
      ]
    },
    {
      "cell_type": "markdown",
      "metadata": {
        "id": "RIW2cXLtf1KP"
      },
      "source": [
        "Make sure that you understand every single line of the above code. Discuss with us if you don't!"
      ]
    },
    {
      "cell_type": "markdown",
      "metadata": {
        "id": "3Xb7rk0Cf1KP"
      },
      "source": [
        "## Exercise 5\n",
        "\n",
        "In the cell below, write a code that reads an integer from the keyboard (your input). If this input is divisible by $2$ and $3$ display the following:\n",
        "\n",
        "* This number is divisible by 2 and by 3!"
      ]
    },
    {
      "cell_type": "code",
      "execution_count": null,
      "metadata": {
        "id": "Q2yeWfnLf1KP"
      },
      "outputs": [],
      "source": []
    },
    {
      "cell_type": "markdown",
      "metadata": {
        "id": "qQyu_5Yaf1KP"
      },
      "source": [
        "Now extend your answer to do the following:\n",
        "\n",
        "In the cell below, write a code that reads an integer from the keyboard. You need to include conditions which display the following statements if they are true:\n",
        "- \"This number is divisiable by $2$ and $3$.\"\n",
        "- \"This number is divisiable only by $2$.\"\n",
        "- \"This number is divisiable only by $3$.\"\n",
        "- \"This number is not divisiable by $2$ and $3$.\"\n",
        "\n",
        "You need one __if__ condition, two __elif__ conditions and one __else__ condition."
      ]
    },
    {
      "cell_type": "code",
      "execution_count": null,
      "metadata": {
        "id": "dmxWqX3If1KP"
      },
      "outputs": [],
      "source": []
    },
    {
      "cell_type": "markdown",
      "metadata": {
        "id": "r0rvy61yf1KP"
      },
      "source": [
        "## Exercise 6\n",
        "\n",
        "In the cell below, write a code that reads a letter of the alphabet from the\n",
        "keyboard. If the entered letter is  a, e, i, o or u then you should display a message\n",
        "indicating that the entered letter is a vowel. If the user enters y then your program\n",
        "should display a message indicating that sometimes y is a vowel, and sometimes y is\n",
        "a consonant. Otherwise your program should display a message indicating that the letter is a consonant."
      ]
    },
    {
      "cell_type": "code",
      "execution_count": null,
      "metadata": {
        "id": "eXKNHVDDf1KP"
      },
      "outputs": [],
      "source": []
    },
    {
      "cell_type": "markdown",
      "metadata": {
        "id": "opOeWUBQf1KQ"
      },
      "source": [
        "## Exercise 7\n",
        "\n",
        "In the cell below, write a function that determines the name of a shape from its number of sides. Take\n",
        "the number of sides as an input and then return the appropriate name of the shape.\n",
        "Your function should support shapes with anywhere from $3$\n",
        "up to (and including) $10$ sides.\n",
        "\n",
        "We have\n",
        "\n",
        "- Triangle - $3$ Sides, Square - $4$ Sides\n",
        "- Pentagon - $5$ Sides, Hexagon - $6$ sides\n",
        "- Heptagon - $7$ Sides, Octagon - $8$ Sides\n",
        "- Nonagon - $9$ Sides, Decagon - $10$ Sides"
      ]
    },
    {
      "cell_type": "code",
      "execution_count": null,
      "metadata": {
        "id": "4heV6qEEf1KQ"
      },
      "outputs": [],
      "source": []
    },
    {
      "cell_type": "markdown",
      "metadata": {
        "id": "-ADa5nQAf1KQ"
      },
      "source": [
        "## Exercise 8\n",
        "\n",
        "In the cell below, define the following function,\n",
        "$$ H(x) = \\begin{cases} 1 & \\mbox{if } x\\geq 0 \\\\\n",
        "0 & \\mbox{if } x< 0 \\end{cases}.$$\n",
        "\n",
        "(That is, a function that:\n",
        "\n",
        "* Takes one input variable, called `x`\n",
        "* Returns 1 if `x` is bigger than or equal to 0.\n",
        "* Return 0 if `x` is less than 0.\n",
        ")\n",
        "\n",
        "and test for some example input values"
      ]
    },
    {
      "cell_type": "code",
      "execution_count": null,
      "metadata": {
        "id": "_aY4Jz73f1KQ"
      },
      "outputs": [],
      "source": []
    },
    {
      "cell_type": "markdown",
      "metadata": {
        "id": "2KrXbAH_f1KQ"
      },
      "source": [
        "## Exercise 9\n",
        "\n",
        "In the cell below, define the following three functions,\n",
        "$$ x(R, \\theta, \\phi) = R \\cos \\phi \\sin \\theta $$\n",
        "$$ y(R, \\theta, \\phi) = R \\sin \\phi \\sin \\theta $$\n",
        "$$ z(R, \\theta, \\phi) = R \\cos \\theta $$\n",
        "and test for some example input values.\n",
        "\n",
        "Could you write this as a single function, returning $x$, $y$ and $z$?"
      ]
    },
    {
      "cell_type": "code",
      "execution_count": null,
      "metadata": {
        "id": "T3Ju9HBgf1KQ"
      },
      "outputs": [],
      "source": []
    },
    {
      "cell_type": "markdown",
      "metadata": {
        "id": "umXhT26Bf1KQ"
      },
      "source": [
        "## Exercise 10:\n",
        "\n",
        "In the cell below, add a new function definition for a function $g(x) = x^3 -4x + 2$. Then print the following:\n",
        "- $g(-4)$,\n",
        "- $g(g(1))$,\n",
        "- $g(g(0))$."
      ]
    },
    {
      "cell_type": "code",
      "execution_count": null,
      "metadata": {
        "id": "GF4LJ2s6f1KQ"
      },
      "outputs": [],
      "source": []
    },
    {
      "cell_type": "markdown",
      "metadata": {
        "id": "x0h4F5Apf1KR"
      },
      "source": [
        "## Exercise 11:\n",
        "\n",
        "In the cell below, define a function called __rectangle_area__ that takes two varables $w$ and $h$ as an input and returns the area of the rectangle with width $w$ and height $h$. Test your function by printing a couple of examples."
      ]
    },
    {
      "cell_type": "code",
      "execution_count": null,
      "metadata": {
        "id": "j5py20-7f1KR"
      },
      "outputs": [],
      "source": []
    },
    {
      "cell_type": "markdown",
      "metadata": {
        "id": "7FDYzvjMf1KR"
      },
      "source": [
        "## Exercise 12\n",
        "\n",
        "A triangle can be classified based on the lengths of its sides as __equilateral__, __isosceles__\n",
        "or __scalene__. All 3 sides of an __equilateral__ triangle have the same length. An __isosceles__\n",
        "triangle has two sides that are the same length, and a third side that is a different\n",
        "length. If all of the sides have different lengths then the triangle is __scalene__.\n",
        "In the cell below, write a code that reads lengths of 3 sides of a triangle from the keyboard and\n",
        "displays a message indicating the type of the triangle."
      ]
    },
    {
      "cell_type": "code",
      "execution_count": null,
      "metadata": {
        "id": "L-CFof3Ff1KR"
      },
      "outputs": [],
      "source": []
    },
    {
      "cell_type": "markdown",
      "metadata": {
        "id": "nQb9ELQtf1KR"
      },
      "source": [
        "## Exercise 13 (difficult)\n",
        "\n",
        "Write a function which determines if a *float* input is a \"happy number\". We will define a happy number as:\n",
        "\n",
        "* One that is closer to the integer above it, than the integer below it.\n",
        "* If you take the number, convert it to an integer (with `int`) and square it, is a multiple of 3.\n",
        "* If you multiply the number by 9 the resulting number has a 9 in it *before* the decimal point.\n",
        "\n",
        "Are any of these \"happy numbers\"?\n",
        "\n",
        "* 4.59\n",
        "* 4.05\n",
        "* 12.35\n",
        "* 15.45\n",
        "* 99.001"
      ]
    },
    {
      "cell_type": "code",
      "execution_count": null,
      "metadata": {
        "id": "XxE8itcqf1KR"
      },
      "outputs": [],
      "source": []
    },
    {
      "cell_type": "markdown",
      "metadata": {
        "id": "DRxVIe-Af1KR"
      },
      "source": [
        "## Exercise 14\n",
        "\n",
        "**WARNING** This may sound challenging, but the coding here isn't as bad as some of the previous exercises. Often a challenge in coding is wading through some complex sounding description to break it down into simple, step-by-step things to code. This is a good example of that:\n",
        "\n",
        "A quadratic polynomial has a form $p(x)= ax^2 + bx+c$, where $a, b$ and $c$ are constants and $a$ is non-zero.\n",
        "We say that $x_0$ is a root of $p$ if $p(x_0)=0$. A __discriminant__ of a polynomial is a polynomial function of its coefficients, which allows deducing some properties of the roots without computing them. For example, the discriminant of $p$ is $\\Delta= b^2 - 4ac$. In the cell below, write a code that reads the coefficients of $p$, that is, $a$, $b$ and $c$ from the keyboard. Then depending on the value of $\\Delta$ display if $p$ has two distinct roots, one double root or no real roots.\n",
        "\n",
        "Recall that if\n",
        "- $\\Delta >0$ then $p$ has two distinct real roots,\n",
        "- $\\Delta = 0 $ then $p$ has one double root,\n",
        "- $\\Delta <0$ then $p$ has no real roots."
      ]
    },
    {
      "cell_type": "code",
      "execution_count": null,
      "metadata": {
        "id": "8ZKYTmRff1KR"
      },
      "outputs": [],
      "source": []
    }
  ],
  "metadata": {
    "kernelspec": {
      "display_name": "Python 3 (ipykernel)",
      "language": "python",
      "name": "python3"
    },
    "language_info": {
      "codemirror_mode": {
        "name": "ipython",
        "version": 3
      },
      "file_extension": ".py",
      "mimetype": "text/x-python",
      "name": "python",
      "nbconvert_exporter": "python",
      "pygments_lexer": "ipython3",
      "version": "3.9.7"
    },
    "colab": {
      "provenance": []
    }
  },
  "nbformat": 4,
  "nbformat_minor": 0
}