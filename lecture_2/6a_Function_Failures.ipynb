{
 "cells": [
  {
   "cell_type": "markdown",
   "id": "56d763ef",
   "metadata": {},
   "source": [
    "# The most common reasons people use functions wrong and don't pass coursework questions"
   ]
  },
  {
   "cell_type": "markdown",
   "id": "54d2985e",
   "metadata": {},
   "source": [
    "## Reason 1: Don't override input values"
   ]
  },
  {
   "cell_type": "markdown",
   "id": "12f1a88d",
   "metadata": {},
   "source": [
    "Here is a code to take 2 inputs, $x$ and $y$ and return `x / y`"
   ]
  },
  {
   "cell_type": "code",
   "execution_count": 4,
   "id": "18c64179",
   "metadata": {},
   "outputs": [],
   "source": [
    "def dividor(x, y):\n",
    "    x = 6\n",
    "    y = 2\n",
    "    return x/y"
   ]
  },
  {
   "cell_type": "markdown",
   "id": "e132d798",
   "metadata": {},
   "source": [
    "Let's try and run our code:"
   ]
  },
  {
   "cell_type": "code",
   "execution_count": 5,
   "id": "c5c6399f",
   "metadata": {},
   "outputs": [
    {
     "name": "stdout",
     "output_type": "stream",
     "text": [
      "3.0\n"
     ]
    }
   ],
   "source": [
    "print(dividor(6 , 2))"
   ]
  },
  {
   "cell_type": "markdown",
   "id": "374e295d",
   "metadata": {},
   "source": [
    "Looks great, right?? However, when you submit the solution in our autograding platform, it says that you pass one test case, but not any others. \n",
    "\n",
    "We get many coursework submissions like this, and unfortunately despite being *almost* correct, it scores very few marks. Why do you think this function would fail in our automated grading platform??\n",
    "\n",
    "\n",
    "....\n",
    "\n",
    "\n",
    "Let's demonstrate a second case:"
   ]
  },
  {
   "cell_type": "code",
   "execution_count": 6,
   "id": "2ba8ba40",
   "metadata": {},
   "outputs": [
    {
     "name": "stdout",
     "output_type": "stream",
     "text": [
      "3.0\n"
     ]
    }
   ],
   "source": [
    "print(dividor(12 , 2))"
   ]
  },
  {
   "cell_type": "markdown",
   "id": "323552ff",
   "metadata": {},
   "source": [
    "Now `12/ 2` is 6 and not 3, so this is clearly incorrect. However, this function will *only* ever compute `6/2`. It will always ignore whatever input values we give it. The lesson here is:\n",
    "\n",
    "***NEVER, EVER, IGNORE AND OVERWRITE FUNCTION INPUTS IN A FUNCTION***\n",
    "\n",
    "The solution to this would be:"
   ]
  },
  {
   "cell_type": "code",
   "execution_count": null,
   "id": "a7005e6d",
   "metadata": {},
   "outputs": [],
   "source": [
    "def dividor(x, y):\n",
    "    return x/y"
   ]
  },
  {
   "cell_type": "markdown",
   "id": "3364100a",
   "metadata": {},
   "source": [
    "Just deleting those middle two lines. The function does not choose it's input values, they are provided to the function."
   ]
  },
  {
   "cell_type": "code",
   "execution_count": 7,
   "id": "f9358aa3",
   "metadata": {},
   "outputs": [
    {
     "name": "stdout",
     "output_type": "stream",
     "text": [
      "3.0\n",
      "3.0\n"
     ]
    }
   ],
   "source": [
    "print(dividor(12 , 2))\n",
    "print(dividor(6,2))"
   ]
  },
  {
   "cell_type": "markdown",
   "id": "47a362e6",
   "metadata": {},
   "source": [
    "## Reason 2: No return statement (or print instead of return)"
   ]
  },
  {
   "cell_type": "markdown",
   "id": "5b22aae4",
   "metadata": {},
   "source": [
    "There's two ways this crops up, either someone writes a function with no `return`"
   ]
  },
  {
   "cell_type": "code",
   "execution_count": 11,
   "id": "55cf12c1",
   "metadata": {},
   "outputs": [],
   "source": [
    "def dividor2A(x, y):\n",
    "    z = x/y"
   ]
  },
  {
   "cell_type": "markdown",
   "id": "f7e6cf27",
   "metadata": {},
   "source": [
    "Or someone writes a function with a `print` in place of a `return`"
   ]
  },
  {
   "cell_type": "code",
   "execution_count": 12,
   "id": "a3e16164",
   "metadata": {},
   "outputs": [],
   "source": [
    "def dividor2B(x, y):\n",
    "    z = x/y\n",
    "    print(z)"
   ]
  },
  {
   "cell_type": "markdown",
   "id": "714fc659",
   "metadata": {},
   "source": [
    "In both cases the function will fail:"
   ]
  },
  {
   "cell_type": "code",
   "execution_count": 13,
   "id": "2b24e474",
   "metadata": {},
   "outputs": [
    {
     "name": "stdout",
     "output_type": "stream",
     "text": [
      "None no return\n",
      "6.0\n",
      "None print instead of return\n"
     ]
    }
   ],
   "source": [
    "print(dividor2A(6 , 2), 'no return')\n",
    "print(dividor2B(12 , 2), 'print instead of return')"
   ]
  },
  {
   "cell_type": "markdown",
   "id": "7c54a1d4",
   "metadata": {},
   "source": [
    "However, using a print can be confusing as the right answer is being printed to the screen. But something printed to the screen is only on the screen, and cannot be used, so if we do:"
   ]
  },
  {
   "cell_type": "code",
   "execution_count": 15,
   "id": "32096100",
   "metadata": {},
   "outputs": [
    {
     "name": "stdout",
     "output_type": "stream",
     "text": [
      "6.0\n"
     ]
    },
    {
     "ename": "AssertionError",
     "evalue": "",
     "output_type": "error",
     "traceback": [
      "\u001b[0;31m---------------------------------------------------------------------------\u001b[0m",
      "\u001b[0;31mAssertionError\u001b[0m                            Traceback (most recent call last)",
      "Input \u001b[0;32mIn [15]\u001b[0m, in \u001b[0;36m<module>\u001b[0;34m\u001b[0m\n\u001b[1;32m      1\u001b[0m answer \u001b[38;5;241m=\u001b[39m dividor2B(\u001b[38;5;241m12\u001b[39m , \u001b[38;5;241m2\u001b[39m)\n\u001b[0;32m----> 2\u001b[0m \u001b[38;5;28;01massert\u001b[39;00m(answer \u001b[38;5;241m==\u001b[39m \u001b[38;5;241m6.0\u001b[39m)\n",
      "\u001b[0;31mAssertionError\u001b[0m: "
     ]
    }
   ],
   "source": [
    "answer = dividor2B(12 , 2)\n",
    "assert(answer == 6.0)"
   ]
  },
  {
   "cell_type": "markdown",
   "id": "b5aaea8f",
   "metadata": {},
   "source": [
    "The code fails.\n",
    "\n",
    "Again the right solution is a `return` statement."
   ]
  },
  {
   "cell_type": "code",
   "execution_count": 16,
   "id": "c4937b4d",
   "metadata": {},
   "outputs": [],
   "source": [
    "def dividor2(x, y):\n",
    "    z = x/y\n",
    "    return z"
   ]
  },
  {
   "cell_type": "markdown",
   "id": "4cadd282",
   "metadata": {},
   "source": [
    "**ALWAYS REMEMBER YOUR RETURN IN A FUNCTION. WHILE print CAN BE USEFUL FOR DEBUGGING, IT WILL NOT BE USEFUL FOR MUCH ELSE. REMOVE print STATEMENTS BEFORE SUBMITTING SOLUTIONS**"
   ]
  },
  {
   "cell_type": "markdown",
   "id": "0d442c0f",
   "metadata": {},
   "source": [
    "## Reason 3: Using input"
   ]
  },
  {
   "cell_type": "markdown",
   "id": "80901921",
   "metadata": {},
   "source": [
    "**The input function should never be used in your coursework**. It won't work, and the system will just say \"code doesn't work\".\n",
    "\n",
    "An example of this is:"
   ]
  },
  {
   "cell_type": "code",
   "execution_count": null,
   "id": "a71f638d",
   "metadata": {},
   "outputs": [],
   "source": [
    "def dividor(x, y):\n",
    "    x = input()\n",
    "    y = input()\n",
    "    return x/y"
   ]
  },
  {
   "cell_type": "markdown",
   "id": "9eae0786",
   "metadata": {},
   "source": [
    "We are hoping to see less of this this year, as we have de-emphasized this function a lot."
   ]
  },
  {
   "cell_type": "markdown",
   "id": "6d8e2b93",
   "metadata": {},
   "source": [
    "## Reason 4: Your code is broken"
   ]
  },
  {
   "cell_type": "markdown",
   "id": "b2b78073",
   "metadata": {},
   "source": [
    "Someone might submit a code to divide two numbers that looks like this:"
   ]
  },
  {
   "cell_type": "code",
   "execution_count": 17,
   "id": "fab3116e",
   "metadata": {},
   "outputs": [],
   "source": [
    "def dividor(x, y):\n",
    "    return x*y"
   ]
  },
  {
   "cell_type": "markdown",
   "id": "c41ed460",
   "metadata": {},
   "source": [
    "How would you go about analysing this and seeing where the problem is? We have a lesson in week 7 where we will go over this in detail, but at this stage:\n",
    "\n",
    "* Carefully read over your code. Write down what you think each line is doing. Is it doing that?\n",
    "* Use print statements to figure out what the code is actually doing at each step.\n",
    "* If you've gone through this, ask one of us. Come to a drop-in class, or ask in class. We cannot give you solutions to coursework questions **but we can guide you in debugging your own code**."
   ]
  },
  {
   "cell_type": "markdown",
   "id": "db3faf53",
   "metadata": {},
   "source": [
    "## Reason 5: The system is broken"
   ]
  },
  {
   "cell_type": "markdown",
   "id": "948b328a",
   "metadata": {},
   "source": [
    "I do get a number of emails each year saying \"My code doesn't work in HackerRank, but does work for me, HackerRank is broken\". Some things to remember if you're going down this line:\n",
    "\n",
    "* HackerRank is not different from Colab. You do *not* need to write a solution in Colab and copy it across (though some may want to do this). You can print, debug, and do whatever you want within HackerRank.\n",
    "* In 90% of emails like this, the issue is \"Reason 4\". Do carefully check over your code.\n",
    "* However, while we do test coursework questions, we can make mistakes, and there have been instances where solutions are right, but do not pass. We are always happy to check cases like this and at least let you know if a problem is on your end (or fix the question on our end if not)."
   ]
  }
 ],
 "metadata": {
  "kernelspec": {
   "display_name": "Python 3 (ipykernel)",
   "language": "python",
   "name": "python3"
  },
  "language_info": {
   "codemirror_mode": {
    "name": "ipython",
    "version": 3
   },
   "file_extension": ".py",
   "mimetype": "text/x-python",
   "name": "python",
   "nbconvert_exporter": "python",
   "pygments_lexer": "ipython3",
   "version": "3.9.7"
  }
 },
 "nbformat": 4,
 "nbformat_minor": 5
}
