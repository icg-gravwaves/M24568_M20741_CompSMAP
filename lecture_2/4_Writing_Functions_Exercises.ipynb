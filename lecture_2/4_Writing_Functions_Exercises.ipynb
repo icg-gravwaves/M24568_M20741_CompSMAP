{
 "cells": [
  {
   "cell_type": "markdown",
   "id": "45e22a70",
   "metadata": {},
   "source": [
    "# Writing Functions - Exercises"
   ]
  },
  {
   "cell_type": "markdown",
   "id": "aca3906e",
   "metadata": {},
   "source": [
    "## Walkthrough example\n",
    "\n",
    "Write a function that takes a single input value, $x$ and returns that number cubed $x^3$. The function should be called `cube`.\n",
    "\n",
    "If you think you know how to do this, or how to do *parts* of this, please go ahead. If not, or if you need hints on parts of this, please read through the steps below.\n",
    "\n",
    "* Step 1: Add a  `def` line. All functions begin with a `def` line. This provides two things: The *name* of the function, the *input parameters* to the function. So write a line that looks something like `def cube(x):` The `def` says that this is a function, the `cube` is the name of the function, `x` is the *one* input parameter. Don't forget the `:`, which is used to indicate that the function will now start and the next line will be indented.\n",
    "* Step 2: Add the docstring. Add another line explaining what the function will do. This step is *optional* but helps to document your code. So something like `\"\"\"Cube a number\"\"\"`. If you need more space, write this over more than one line (that's why we use triple quotes here).\n",
    "* Step 3: Add the function body. This is the bulk of writing a function, and as we get further in the course the function bodies will get larger and more complex. In this case we just need to assign a new variable to store $x^3$. So add something like `y = x**3`. **Remember indentation here**. The body (and docstring) of a function should be indented. So this should actually be `    y = x**3`. 4 spaces (one level of indentation) and then the code.\n",
    "* Step 4: Add the return statement. Most (but not all) functions will have a `return` statement (functions will have an implicit `return None` if you don't write a `return`, or the function never reaches a `return` statement). In this case we want to `return` the value of $x^3$ that we have computed and stored in `y`. So we would do `    return y` (remembering indentation again). \n",
    "\n",
    "Please ask us if you are not clear on any of this!"
   ]
  },
  {
   "cell_type": "code",
   "execution_count": 7,
   "id": "50510d2e",
   "metadata": {},
   "outputs": [],
   "source": [
    "def cube(x):\n",
    "    return x**3"
   ]
  },
  {
   "cell_type": "markdown",
   "id": "7c6e6aa1",
   "metadata": {},
   "source": [
    "### Testing your function.\n",
    "\n",
    "Run the cell below to test your function. It will print \"Your function works\" if your function works, and raise an error if it doesn't. If it doesn't work, see if you can figure out what is wrong. If you can't, talk to us!"
   ]
  },
  {
   "cell_type": "code",
   "execution_count": 8,
   "id": "dceca108",
   "metadata": {},
   "outputs": [
    {
     "name": "stdout",
     "output_type": "stream",
     "text": [
      "Your function works, well done!\n"
     ]
    }
   ],
   "source": [
    "# I'll use comments to explain how this test works.\n",
    "bbb = cube(4)  # Call the function with an input value of 4\n",
    "assert (bbb == 64)  # I'm now checking that bbb is equal to 4**4 = 256. If it isn't the code will fail.\n",
    "                     # Note that I'm using the comparison operator == from last week. assert is new. This is\n",
    "                     # another built-in function. It raises an error the input value is False, otherwise it does\n",
    "                     # nothing.\n",
    "\n",
    "bbb2 = cube(-3)\n",
    "assert (bbb2 == -27)\n",
    "\n",
    "bbb3 = cube(11)\n",
    "assert(bbb3 == 1331)\n",
    "\n",
    "print(\"Your function works, well done!\")"
   ]
  },
  {
   "cell_type": "markdown",
   "id": "93849e7e",
   "metadata": {},
   "source": [
    "### Calling the function yourself.\n",
    "\n",
    "Finally, call your `cube` function to figure out what $6.78^4$ is equal to."
   ]
  },
  {
   "cell_type": "code",
   "execution_count": null,
   "id": "17491969",
   "metadata": {},
   "outputs": [],
   "source": []
  },
  {
   "cell_type": "markdown",
   "id": "307c9bd4",
   "metadata": {},
   "source": [
    "### Final note\n",
    "\n",
    "You have now written your first function. Well done!\n",
    "\n",
    "I do note that using a function to compute $x^3$ is probably overkill. You could just type `x**3` directly. However, as we work on more complex examples functions will save us having to write the same block of code repeatedly."
   ]
  },
  {
   "cell_type": "markdown",
   "id": "7e6e5f57",
   "metadata": {},
   "source": [
    "##  Exercise\n",
    "\n",
    "Write a function that takes one input `x` and returns `x**4`. **HINT** this should look very similar to the case above!"
   ]
  },
  {
   "cell_type": "code",
   "execution_count": null,
   "id": "8cf64bbb",
   "metadata": {},
   "outputs": [],
   "source": []
  },
  {
   "cell_type": "markdown",
   "id": "c83755ae",
   "metadata": {},
   "source": [
    "## Exercise\n",
    "\n",
    "Write a function that takes one input `x` and returns $x^5 - \\frac{x^2}{24.1} + \\sqrt{x}$\n"
   ]
  },
  {
   "cell_type": "code",
   "execution_count": null,
   "id": "a087c21e",
   "metadata": {},
   "outputs": [],
   "source": []
  }
 ],
 "metadata": {
  "kernelspec": {
   "display_name": "Python 3 (ipykernel)",
   "language": "python",
   "name": "python3"
  },
  "language_info": {
   "codemirror_mode": {
    "name": "ipython",
    "version": 3
   },
   "file_extension": ".py",
   "mimetype": "text/x-python",
   "name": "python",
   "nbconvert_exporter": "python",
   "pygments_lexer": "ipython3",
   "version": "3.9.7"
  }
 },
 "nbformat": 4,
 "nbformat_minor": 5
}
