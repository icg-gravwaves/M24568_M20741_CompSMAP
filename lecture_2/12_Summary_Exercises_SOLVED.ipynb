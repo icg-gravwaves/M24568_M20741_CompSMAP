{
 "cells": [
  {
   "cell_type": "markdown",
   "id": "b2cca81e",
   "metadata": {
    "id": "b2cca81e"
   },
   "source": [
    "# End of class exercises - SOLVED"
   ]
  },
  {
   "cell_type": "markdown",
   "id": "6ed89e7f",
   "metadata": {
    "id": "6ed89e7f"
   },
   "source": [
    "## Exercise 1\n",
    "\n",
    "In the cell below, define a function of two variables, call it, `mymax`, which returns the maximum of two real numbers $a$ and $b$.\n",
    "\n",
    "**NOTE** In class, we introduced the `max` function. Here you should write your own function to do the same. **DO NOT** use `max` itself (or anything similar) to do this."
   ]
  },
  {
   "cell_type": "code",
   "execution_count": 1,
   "id": "a0b30ee9",
   "metadata": {
    "executionInfo": {
     "elapsed": 2,
     "status": "ok",
     "timestamp": 1696500984716,
     "user": {
      "displayName": "Ian Harry",
      "userId": "09765021565160415280"
     },
     "user_tz": -60
    },
    "id": "a0b30ee9"
   },
   "outputs": [],
   "source": [
    "def mymax(a, b):\n",
    "    if a > b:\n",
    "        return a\n",
    "    else:\n",
    "        return b"
   ]
  },
  {
   "cell_type": "code",
   "execution_count": 6,
   "id": "ykTdcNI9VyrB",
   "metadata": {
    "colab": {
     "base_uri": "https://localhost:8080/"
    },
    "executionInfo": {
     "elapsed": 3,
     "status": "ok",
     "timestamp": 1696501048249,
     "user": {
      "displayName": "Ian Harry",
      "userId": "09765021565160415280"
     },
     "user_tz": -60
    },
    "id": "ykTdcNI9VyrB",
    "outputId": "af9bbe04-9e2e-4101-d08c-be194a5931be"
   },
   "outputs": [
    {
     "data": {
      "text/plain": [
       "(3, 4, 4)"
      ]
     },
     "execution_count": 6,
     "metadata": {},
     "output_type": "execute_result"
    }
   ],
   "source": [
    "mymax(3,3), mymax(4,3), mymax(-3,4)"
   ]
  },
  {
   "cell_type": "markdown",
   "id": "72bb0195",
   "metadata": {
    "id": "72bb0195"
   },
   "source": [
    "## Exercise 2\n",
    "\n",
    "Predict (by writing on paper) what the\n",
    "\n",
    "\n",
    "following expressions must evaluate to:\n",
    "\n",
    "- True and True\n",
    "- True and False\n",
    "- False and False\n",
    "- False and True\n",
    "\n",
    "If you are not sure you can try printing them in the cell below."
   ]
  },
  {
   "cell_type": "code",
   "execution_count": 7,
   "id": "f7e37ea5",
   "metadata": {
    "colab": {
     "base_uri": "https://localhost:8080/"
    },
    "executionInfo": {
     "elapsed": 2,
     "status": "ok",
     "timestamp": 1696501085401,
     "user": {
      "displayName": "Ian Harry",
      "userId": "09765021565160415280"
     },
     "user_tz": -60
    },
    "id": "f7e37ea5",
    "outputId": "5f4853a0-8acc-441a-c2eb-fbcb4a1edee6"
   },
   "outputs": [
    {
     "data": {
      "text/plain": [
       "(True, False, False, False)"
      ]
     },
     "execution_count": 7,
     "metadata": {},
     "output_type": "execute_result"
    }
   ],
   "source": [
    "True and True, True and False, False and False, False and True"
   ]
  },
  {
   "cell_type": "markdown",
   "id": "760bf059",
   "metadata": {
    "id": "760bf059"
   },
   "source": [
    "This is called a \"truth table\". What about the truth table for \"or\":\n",
    "\n",
    "- True or True\n",
    "- True or False\n",
    "- False or False\n",
    "- False or True\n",
    "\n",
    "Verify in the cell below"
   ]
  },
  {
   "cell_type": "code",
   "execution_count": 8,
   "id": "acc037dc",
   "metadata": {
    "colab": {
     "base_uri": "https://localhost:8080/"
    },
    "executionInfo": {
     "elapsed": 2,
     "status": "ok",
     "timestamp": 1696501118839,
     "user": {
      "displayName": "Ian Harry",
      "userId": "09765021565160415280"
     },
     "user_tz": -60
    },
    "id": "acc037dc",
    "outputId": "1b5a8432-85ff-43db-9b49-18cf8dcbb789"
   },
   "outputs": [
    {
     "data": {
      "text/plain": [
       "(True, True, False, True)"
      ]
     },
     "execution_count": 8,
     "metadata": {},
     "output_type": "execute_result"
    }
   ],
   "source": [
    "True or True, True or False, False or False, False or True"
   ]
  },
  {
   "cell_type": "markdown",
   "id": "bd17b25a",
   "metadata": {
    "id": "bd17b25a"
   },
   "source": [
    "## Exercise 3\n",
    "\n",
    "What do the following expressions evaluate to? Try to figure this out in your head first and then print the values of the variables defined in the cell below."
   ]
  },
  {
   "cell_type": "code",
   "execution_count": 13,
   "id": "97feb546",
   "metadata": {
    "executionInfo": {
     "elapsed": 3,
     "status": "ok",
     "timestamp": 1696501214164,
     "user": {
      "displayName": "Ian Harry",
      "userId": "09765021565160415280"
     },
     "user_tz": -60
    },
    "id": "97feb546"
   },
   "outputs": [],
   "source": [
    "x1 = 1 < 2 and 2 < 3\n",
    "x2 = 1 < 2 and 2 > 3\n",
    "x3 = 1 > 2 and 2 > 3\n",
    "x4 = 1 > 2 and 2 < 3"
   ]
  },
  {
   "cell_type": "code",
   "execution_count": 15,
   "id": "82363c54",
   "metadata": {
    "colab": {
     "base_uri": "https://localhost:8080/"
    },
    "executionInfo": {
     "elapsed": 326,
     "status": "ok",
     "timestamp": 1696501219044,
     "user": {
      "displayName": "Ian Harry",
      "userId": "09765021565160415280"
     },
     "user_tz": -60
    },
    "id": "82363c54",
    "outputId": "21f32ef2-5740-4be2-ec82-bffd23991986"
   },
   "outputs": [
    {
     "data": {
      "text/plain": [
       "(True, True, False, True)"
      ]
     },
     "execution_count": 15,
     "metadata": {},
     "output_type": "execute_result"
    }
   ],
   "source": [
    "x1, x2, x3, x4"
   ]
  },
  {
   "cell_type": "markdown",
   "id": "0c53776f",
   "metadata": {
    "id": "0c53776f"
   },
   "source": [
    "## Exercise 4\n",
    "\n",
    "Evaluate (__Shift+Enter__) the cell below:"
   ]
  },
  {
   "cell_type": "code",
   "execution_count": 17,
   "id": "35b61f03",
   "metadata": {
    "colab": {
     "base_uri": "https://localhost:8080/"
    },
    "executionInfo": {
     "elapsed": 1937,
     "status": "ok",
     "timestamp": 1696501251067,
     "user": {
      "displayName": "Ian Harry",
      "userId": "09765021565160415280"
     },
     "user_tz": -60
    },
    "id": "35b61f03",
    "outputId": "2d657fb9-aae8-4017-b3c5-252a41e6302d"
   },
   "outputs": [
    {
     "name": "stdout",
     "output_type": "stream",
     "text": [
      "Please input an integer: 6\n",
      "The number is a multiple of 3\n"
     ]
    }
   ],
   "source": [
    "x= int(input('Please input an integer: '))\n",
    "if x%3 == 0:\n",
    "    print('The number is a multiple of 3')\n",
    "else:\n",
    "    print('The number is not a multiple of 3')"
   ]
  },
  {
   "cell_type": "markdown",
   "id": "2538acf0",
   "metadata": {
    "id": "2538acf0"
   },
   "source": [
    "This introduces the `input` command, to take a value from the command line. Make sure that you understand every single line of the above code. Discuss with us if you don't! Remember, a lot of learning with python and computing in general is learning by trying, so feel free to test out what happens if you tweak this etc.\n",
    "\n",
    "**WARNING** `input` is a useful command for these interactive notebooks, but will very rarely be of use in data science, where one would read in large datasets (which we'll show later on). *NEVER* use this command in the coursework questions. We will always provide inputs to you there, using this will just make things fail!!"
   ]
  },
  {
   "cell_type": "code",
   "execution_count": null,
   "id": "48eb80f4",
   "metadata": {
    "id": "48eb80f4"
   },
   "outputs": [],
   "source": []
  },
  {
   "cell_type": "markdown",
   "id": "f1473822",
   "metadata": {
    "id": "f1473822"
   },
   "source": [
    "## Exercise 5\n",
    "\n",
    "In the cell below, write a code that reads an integer from the keyboard (your input). If this input is divisible by $2$ and $3$ display the following:\n",
    "\n",
    "* This number is divisible by 2 and by 3!"
   ]
  },
  {
   "cell_type": "code",
   "execution_count": 19,
   "id": "0cd71d45",
   "metadata": {
    "colab": {
     "base_uri": "https://localhost:8080/"
    },
    "executionInfo": {
     "elapsed": 1971,
     "status": "ok",
     "timestamp": 1696501360861,
     "user": {
      "displayName": "Ian Harry",
      "userId": "09765021565160415280"
     },
     "user_tz": -60
    },
    "id": "0cd71d45",
    "outputId": "1d6494b3-2231-4625-f5ff-da7886ab4672"
   },
   "outputs": [
    {
     "name": "stdout",
     "output_type": "stream",
     "text": [
      "Please input an integer: 4\n"
     ]
    }
   ],
   "source": [
    "x= int(input('Please input an integer: '))\n",
    "if x%6 == 0:\n",
    "    print('This number is divisible by 2 and by 3')\n",
    "#else:\n",
    "#    print('The number is not a multiple of 6')"
   ]
  },
  {
   "cell_type": "markdown",
   "id": "33826ac0",
   "metadata": {
    "id": "33826ac0"
   },
   "source": [
    "Now extend your answer to do the following:\n",
    "\n",
    "In the cell below, write a code that reads an integer from the keyboard. You need to include conditions which display the following statements if they are true:\n",
    "- \"This number is divisiable by $2$ and $3$.\"\n",
    "- \"This number is divisiable only by $2$.\"\n",
    "- \"This number is divisiable only by $3$.\"\n",
    "- \"This number is not divisiable by $2$ and $3$.\"\n",
    "\n",
    "You need one __if__ condition, two __elif__ conditions and one __else__ condition."
   ]
  },
  {
   "cell_type": "code",
   "execution_count": 23,
   "id": "bbd5586a",
   "metadata": {
    "colab": {
     "base_uri": "https://localhost:8080/"
    },
    "executionInfo": {
     "elapsed": 1708,
     "status": "ok",
     "timestamp": 1696501470754,
     "user": {
      "displayName": "Ian Harry",
      "userId": "09765021565160415280"
     },
     "user_tz": -60
    },
    "id": "bbd5586a",
    "outputId": "34d20ef7-1495-400f-a3e2-5117578fcda4"
   },
   "outputs": [
    {
     "name": "stdout",
     "output_type": "stream",
     "text": [
      "Please input an integer: 5\n",
      "The number is not divisable by 2 or 3\n"
     ]
    }
   ],
   "source": [
    "x= int(input('Please input an integer: '))\n",
    "if x%6 == 0:\n",
    "    print('This number is divisible by 2 and by 3')\n",
    "elif x%2 == 0:\n",
    "    print('This number is divisable only by 2')\n",
    "elif x%3 == 0:\n",
    "    print('This number is divisable only by 3')\n",
    "else:\n",
    "    print('The number is not divisable by 2 or 3')"
   ]
  },
  {
   "cell_type": "markdown",
   "id": "f4923b1f",
   "metadata": {
    "id": "f4923b1f"
   },
   "source": [
    "## Exercise 6\n",
    "\n",
    "Define a function so that it returns an absolute value of an input. We will define this as:\n",
    "\n",
    "* If `x` is greater than or equal to 0, return `x`\n",
    "* Otherwise, return `-x`\n",
    "\n",
    "In concise maths notation this is written as\n",
    "\n",
    "$$f(x) = |x| = \\begin{cases}x & \\mbox{if } x \\geq 0 \\\\ -x & \\mbox{if } x<0 \\end{cases}.$$\n",
    "Name it __abs_val__.\n",
    "\n",
    "Hint: Use if, else conditionals."
   ]
  },
  {
   "cell_type": "code",
   "execution_count": 24,
   "id": "8cf1767c",
   "metadata": {
    "executionInfo": {
     "elapsed": 234,
     "status": "ok",
     "timestamp": 1696501524407,
     "user": {
      "displayName": "Ian Harry",
      "userId": "09765021565160415280"
     },
     "user_tz": -60
    },
    "id": "8cf1767c"
   },
   "outputs": [],
   "source": [
    "def abs_val(x):\n",
    "    if x >= 0:\n",
    "        return x\n",
    "    else:\n",
    "        return -x"
   ]
  },
  {
   "cell_type": "code",
   "execution_count": 26,
   "id": "D_gY8l04XuBt",
   "metadata": {
    "colab": {
     "base_uri": "https://localhost:8080/"
    },
    "executionInfo": {
     "elapsed": 203,
     "status": "ok",
     "timestamp": 1696501532339,
     "user": {
      "displayName": "Ian Harry",
      "userId": "09765021565160415280"
     },
     "user_tz": -60
    },
    "id": "D_gY8l04XuBt",
    "outputId": "5904e2b0-8f99-4baa-8a24-60a79ad09a32"
   },
   "outputs": [
    {
     "data": {
      "text/plain": [
       "(3, 21324)"
      ]
     },
     "execution_count": 26,
     "metadata": {},
     "output_type": "execute_result"
    }
   ],
   "source": [
    "abs_val(3), abs_val(-21324)"
   ]
  },
  {
   "cell_type": "markdown",
   "id": "c664efca",
   "metadata": {
    "id": "c664efca"
   },
   "source": [
    "## Exercise 7\n",
    "\n",
    "Define a function of two numbers (numerical variables) that returns the distance between these numbers (ie. what is the absolute value of the difference of the two numbers).\n",
    "Please use your function __abs_val__ from the exercise above. Test this for some example input."
   ]
  },
  {
   "cell_type": "code",
   "execution_count": 27,
   "id": "bafd37e3",
   "metadata": {
    "executionInfo": {
     "elapsed": 329,
     "status": "ok",
     "timestamp": 1696501586569,
     "user": {
      "displayName": "Ian Harry",
      "userId": "09765021565160415280"
     },
     "user_tz": -60
    },
    "id": "bafd37e3"
   },
   "outputs": [],
   "source": [
    "def distance(num1, num2):\n",
    "    return abs_val(num1 - num2)"
   ]
  },
  {
   "cell_type": "code",
   "execution_count": 30,
   "id": "S1hD95e9X9_z",
   "metadata": {
    "colab": {
     "base_uri": "https://localhost:8080/"
    },
    "executionInfo": {
     "elapsed": 2,
     "status": "ok",
     "timestamp": 1696501610050,
     "user": {
      "displayName": "Ian Harry",
      "userId": "09765021565160415280"
     },
     "user_tz": -60
    },
    "id": "S1hD95e9X9_z",
    "outputId": "2c7a5504-7935-42d5-b7a1-bf4e91433cde"
   },
   "outputs": [
    {
     "data": {
      "text/plain": [
       "(3, 3, 660)"
      ]
     },
     "execution_count": 30,
     "metadata": {},
     "output_type": "execute_result"
    }
   ],
   "source": [
    "distance(9,6), distance(6,9), distance(-100, 560)"
   ]
  },
  {
   "cell_type": "markdown",
   "id": "ef6e01ad",
   "metadata": {
    "id": "ef6e01ad"
   },
   "source": [
    "## Exercise 8\n",
    "\n",
    "In the cell below, write a code that reads a letter of the alphabet from the\n",
    "keyboard. Then send that entered letter to a function, if the entered letter is  a, e, i, o or u then you should display a message\n",
    "indicating that the entered letter is a vowel. If the user enters y then your program\n",
    "should display a message indicating that sometimes y is a vowel, and sometimes y is\n",
    "a consonant. Otherwise your program should display a message indicating that the letter is a consonant."
   ]
  },
  {
   "cell_type": "code",
   "execution_count": 35,
   "id": "499cba69",
   "metadata": {
    "colab": {
     "base_uri": "https://localhost:8080/"
    },
    "executionInfo": {
     "elapsed": 1722,
     "status": "ok",
     "timestamp": 1696501760649,
     "user": {
      "displayName": "Ian Harry",
      "userId": "09765021565160415280"
     },
     "user_tz": -60
    },
    "id": "499cba69",
    "outputId": "e8f6de65-1300-4f9c-f786-0e553fdd2d9b"
   },
   "outputs": [
    {
     "name": "stdout",
     "output_type": "stream",
     "text": [
      "Please type a letter: i\n",
      "i is a vowel\n"
     ]
    }
   ],
   "source": [
    "x = input('Please type a letter: ')\n",
    "\n",
    "if x == 'a' or x == 'e' or x =='i' or x == 'o' or x =='u':\n",
    "    print(f\"{x} is a vowel\")\n",
    "elif x == 'y':\n",
    "    print(\"Y is sometimes a vowel sometimes not\")\n",
    "else:\n",
    "    print(f\"{x} is a consonant\")"
   ]
  },
  {
   "cell_type": "code",
   "execution_count": 36,
   "id": "h8LvB0XtYpy6",
   "metadata": {
    "colab": {
     "base_uri": "https://localhost:8080/"
    },
    "executionInfo": {
     "elapsed": 2907,
     "status": "ok",
     "timestamp": 1696501794090,
     "user": {
      "displayName": "Ian Harry",
      "userId": "09765021565160415280"
     },
     "user_tz": -60
    },
    "id": "h8LvB0XtYpy6",
    "outputId": "2e6cbfcf-39c0-4a2a-84e9-ee192484030d"
   },
   "outputs": [
    {
     "name": "stdout",
     "output_type": "stream",
     "text": [
      "Please type a letter: i\n",
      "i is a vowel\n"
     ]
    }
   ],
   "source": [
    "# Using week 3 content\n",
    "x = input('Please type a letter: ')\n",
    "\n",
    "if x in ['a', 'e', 'i', 'o', 'u']:\n",
    "    print(f\"{x} is a vowel\")\n",
    "elif x == 'y':\n",
    "    print(\"Y is sometimes a vowel sometimes not\")\n",
    "else:\n",
    "    print(f\"{x} is a consonant\")"
   ]
  },
  {
   "cell_type": "markdown",
   "id": "75fb1cf0",
   "metadata": {
    "id": "75fb1cf0"
   },
   "source": [
    "## Exercise 9\n",
    "\n",
    "In the cell below, write a function that determines the name of a shape from its number of sides. Take\n",
    "the number of sides as an input and then return the appropriate name of the shape.\n",
    "Your function should support shapes with anywhere from $3$\n",
    "up to (and including) $10$ sides.\n",
    "\n",
    "We have\n",
    "\n",
    "- Triangle - $3$ Sides, Square - $4$ Sides\n",
    "- Pentagon - $5$ Sides, Hexagon - $6$ sides\n",
    "- Heptagon - $7$ Sides, Octagon - $8$ Sides\n",
    "- Nonagon - $9$ Sides, Decagon - $10$ Sides"
   ]
  },
  {
   "cell_type": "code",
   "execution_count": 39,
   "id": "cde53c42",
   "metadata": {
    "colab": {
     "base_uri": "https://localhost:8080/"
    },
    "executionInfo": {
     "elapsed": 3256,
     "status": "ok",
     "timestamp": 1696501929064,
     "user": {
      "displayName": "Ian Harry",
      "userId": "09765021565160415280"
     },
     "user_tz": -60
    },
    "id": "cde53c42",
    "outputId": "7bd7ad19-d799-41a3-8a77-b4e88c11af74"
   },
   "outputs": [
    {
     "name": "stdout",
     "output_type": "stream",
     "text": [
      "Please input number of sides: 13\n",
      "What am I?\n"
     ]
    }
   ],
   "source": [
    "x= int(input('Please input number of sides: '))\n",
    "if x == 3:\n",
    "    print('I am a triangle')\n",
    "elif x == 4:\n",
    "    print('I am a square')\n",
    "elif x == 5:\n",
    "    print('I am a pentagon')\n",
    "elif x == 6:\n",
    "    print('I am a hexagon')\n",
    "elif x == 7:\n",
    "    print('I am a heptagon')\n",
    "elif x == 8:\n",
    "    print('I am an octagon')\n",
    "elif x == 9:\n",
    "    print('I am a nonagon')\n",
    "elif x == 10:\n",
    "    print('I am a decagon')\n",
    "else:\n",
    "    print('What am I?')\n"
   ]
  },
  {
   "cell_type": "code",
   "execution_count": 43,
   "id": "7lKTS3D7ZR9f",
   "metadata": {
    "colab": {
     "base_uri": "https://localhost:8080/"
    },
    "executionInfo": {
     "elapsed": 1585,
     "status": "ok",
     "timestamp": 1696502041881,
     "user": {
      "displayName": "Ian Harry",
      "userId": "09765021565160415280"
     },
     "user_tz": -60
    },
    "id": "7lKTS3D7ZR9f",
    "outputId": "bd871df2-0328-4858-abcc-728a0cdeac73"
   },
   "outputs": [
    {
     "name": "stdout",
     "output_type": "stream",
     "text": [
      "Please input number of sides: 2\n",
      "I am a line\n"
     ]
    }
   ],
   "source": [
    "# Using content from week 4\n",
    "num_sides = {3: 'triangle', 4: 'square', 5: 'pentagon',\n",
    "             6: 'hexagon', 7: 'heptagon', 8: 'octagon',\n",
    "             9: 'nonagon', 10: 'decagon', 2: 'line'}\n",
    "\n",
    "x= int(input('Please input number of sides: '))\n",
    "if x in num_sides:\n",
    "    print(f\"I am a {num_sides[x]}\")\n",
    "else:\n",
    "    print('What am I?')"
   ]
  },
  {
   "cell_type": "markdown",
   "id": "46334e9a",
   "metadata": {
    "id": "46334e9a"
   },
   "source": [
    "## Exercise 10\n",
    "\n",
    "In the cell below, define the following function,\n",
    "$$ H(x) = \\begin{cases} 1 & \\mbox{if } x\\geq 0 \\\\\n",
    "0 & \\mbox{if } x< 0 \\end{cases}.$$\n",
    "\n",
    "(That is, a function that:\n",
    "\n",
    "* Takes one input variable, called `x`\n",
    "* Returns 1 if `x` is bigger than or equal to 0.\n",
    "* Return 0 if `x` is less than 0.\n",
    ")\n",
    "\n",
    "and test for some example input values"
   ]
  },
  {
   "cell_type": "code",
   "execution_count": 44,
   "id": "b94523f9",
   "metadata": {
    "executionInfo": {
     "elapsed": 213,
     "status": "ok",
     "timestamp": 1696502095463,
     "user": {
      "displayName": "Ian Harry",
      "userId": "09765021565160415280"
     },
     "user_tz": -60
    },
    "id": "b94523f9"
   },
   "outputs": [],
   "source": [
    "def exercise10(x):\n",
    "    if x >= 0:\n",
    "        return 1\n",
    "    else:\n",
    "        return 0"
   ]
  },
  {
   "cell_type": "code",
   "execution_count": 45,
   "id": "yWg5BiyhZ6Sg",
   "metadata": {
    "colab": {
     "base_uri": "https://localhost:8080/"
    },
    "executionInfo": {
     "elapsed": 235,
     "status": "ok",
     "timestamp": 1696502109053,
     "user": {
      "displayName": "Ian Harry",
      "userId": "09765021565160415280"
     },
     "user_tz": -60
    },
    "id": "yWg5BiyhZ6Sg",
    "outputId": "0d894a05-3275-492f-f59f-81cfd5b5c57a"
   },
   "outputs": [
    {
     "data": {
      "text/plain": [
       "(1, 1, 0)"
      ]
     },
     "execution_count": 45,
     "metadata": {},
     "output_type": "execute_result"
    }
   ],
   "source": [
    "exercise10(10), exercise10(1), exercise10(-3)"
   ]
  },
  {
   "cell_type": "markdown",
   "id": "1a76bde7",
   "metadata": {
    "id": "1a76bde7"
   },
   "source": [
    "## Exercise 11\n",
    "\n",
    "In the cell below, define the following three functions,\n",
    "$$ x(R, \\theta, \\phi) = R \\cos \\phi \\sin \\theta $$\n",
    "$$ y(R, \\theta, \\phi) = R \\sin \\phi \\sin \\theta $$\n",
    "$$ z(R, \\theta, \\phi) = R \\cos \\theta $$\n",
    "and test for some example input values.\n",
    "\n",
    "Could you write this as a single function, returning $x$, $y$ and $z$?"
   ]
  },
  {
   "cell_type": "code",
   "execution_count": 49,
   "id": "f1e1e82f",
   "metadata": {
    "executionInfo": {
     "elapsed": 2,
     "status": "ok",
     "timestamp": 1696502350667,
     "user": {
      "displayName": "Ian Harry",
      "userId": "09765021565160415280"
     },
     "user_tz": -60
    },
    "id": "f1e1e82f"
   },
   "outputs": [],
   "source": [
    "import math\n",
    "\n",
    "def x(R, theta, phi):\n",
    "    return R * math.cos(theta) * math.sin(theta)\n",
    "\n",
    "def y(R, theta, phi):\n",
    "    return R * math.sin(theta) * math.sin(theta)\n",
    "\n",
    "def z(R, theta, phi):\n",
    "    return R * math.cos(theta)\n",
    "\n",
    "def xyz(R, theta, phi):\n",
    "    return x(R, theta, phi), y(R, theta, phi), z(R, theta, phi)\n"
   ]
  },
  {
   "cell_type": "code",
   "execution_count": 50,
   "id": "6UHK-kZmaalx",
   "metadata": {
    "colab": {
     "base_uri": "https://localhost:8080/"
    },
    "executionInfo": {
     "elapsed": 2,
     "status": "ok",
     "timestamp": 1696502358949,
     "user": {
      "displayName": "Ian Harry",
      "userId": "09765021565160415280"
     },
     "user_tz": -60
    },
    "id": "6UHK-kZmaalx",
    "outputId": "7c64a7d5-d14e-45f2-bd5d-24d5b0a7e453"
   },
   "outputs": [
    {
     "data": {
      "text/plain": [
       "(0.42073549240394825,\n",
       " 0.22984884706593015,\n",
       " 0.8775825618903728,\n",
       " (0.42073549240394825, 0.22984884706593015, 0.8775825618903728))"
      ]
     },
     "execution_count": 50,
     "metadata": {},
     "output_type": "execute_result"
    }
   ],
   "source": [
    "x(1, 0.5, 0.6), y(1, 0.5, 0.6), z(1, 0.5, 0.6), xyz(1, 0.5, 0.6)\n"
   ]
  },
  {
   "cell_type": "markdown",
   "id": "fc93e575",
   "metadata": {
    "id": "fc93e575"
   },
   "source": [
    "## Exercise 12\n",
    "\n",
    "In the cell below, add a new function definition for a function $g(x) = x^3 -4x + 2$. Then print the following:\n",
    "- $g(-4)$,\n",
    "- $g(g(1))$,\n",
    "- $g(g(0))$."
   ]
  },
  {
   "cell_type": "code",
   "execution_count": 51,
   "id": "_teL4q5maZcf",
   "metadata": {
    "executionInfo": {
     "elapsed": 2,
     "status": "ok",
     "timestamp": 1696502408968,
     "user": {
      "displayName": "Ian Harry",
      "userId": "09765021565160415280"
     },
     "user_tz": -60
    },
    "id": "_teL4q5maZcf"
   },
   "outputs": [],
   "source": [
    "def exercise12(x):\n",
    "    return x**3 - 4*x + 2"
   ]
  },
  {
   "cell_type": "code",
   "execution_count": 52,
   "id": "90d68aee",
   "metadata": {
    "colab": {
     "base_uri": "https://localhost:8080/"
    },
    "executionInfo": {
     "elapsed": 311,
     "status": "ok",
     "timestamp": 1696502417939,
     "user": {
      "displayName": "Ian Harry",
      "userId": "09765021565160415280"
     },
     "user_tz": -60
    },
    "id": "90d68aee",
    "outputId": "4520dbb1-9072-4ce8-d95c-c9e4c299c335"
   },
   "outputs": [
    {
     "data": {
      "text/plain": [
       "-46"
      ]
     },
     "execution_count": 52,
     "metadata": {},
     "output_type": "execute_result"
    }
   ],
   "source": [
    "exercise12(-4)"
   ]
  },
  {
   "cell_type": "code",
   "execution_count": 55,
   "id": "TnUQwsnxbJW8",
   "metadata": {
    "colab": {
     "base_uri": "https://localhost:8080/"
    },
    "executionInfo": {
     "elapsed": 331,
     "status": "ok",
     "timestamp": 1696502505467,
     "user": {
      "displayName": "Ian Harry",
      "userId": "09765021565160415280"
     },
     "user_tz": -60
    },
    "id": "TnUQwsnxbJW8",
    "outputId": "3d75ac6a-6c6b-40c3-bd99-c10ae3ae1703"
   },
   "outputs": [
    {
     "data": {
      "text/plain": [
       "(5, 2)"
      ]
     },
     "execution_count": 55,
     "metadata": {},
     "output_type": "execute_result"
    }
   ],
   "source": [
    "exercise12(exercise12(1)), exercise12(exercise12(0))"
   ]
  },
  {
   "cell_type": "markdown",
   "id": "5aee66b5",
   "metadata": {
    "id": "5aee66b5"
   },
   "source": [
    "## Exercise 13\n",
    "\n",
    "In the cell below, define a function called __rectangle_area__ that takes two varables $w$ and $h$ as an input and returns the area of the rectangle with width $w$ and height $h$. Test your function by printing a couple of examples."
   ]
  },
  {
   "cell_type": "code",
   "execution_count": 56,
   "id": "af42ea60",
   "metadata": {
    "executionInfo": {
     "elapsed": 1,
     "status": "ok",
     "timestamp": 1696502536676,
     "user": {
      "displayName": "Ian Harry",
      "userId": "09765021565160415280"
     },
     "user_tz": -60
    },
    "id": "af42ea60"
   },
   "outputs": [],
   "source": [
    "def rectangle_area(w, h):\n",
    "    return w * h"
   ]
  },
  {
   "cell_type": "code",
   "execution_count": 59,
   "id": "lzZ4QmNObl_d",
   "metadata": {
    "colab": {
     "base_uri": "https://localhost:8080/"
    },
    "executionInfo": {
     "elapsed": 2,
     "status": "ok",
     "timestamp": 1696502552419,
     "user": {
      "displayName": "Ian Harry",
      "userId": "09765021565160415280"
     },
     "user_tz": -60
    },
    "id": "lzZ4QmNObl_d",
    "outputId": "71e6bd24-1e13-4442-c829-017ec3c3742b"
   },
   "outputs": [
    {
     "data": {
      "text/plain": [
       "(40, 0, 81)"
      ]
     },
     "execution_count": 59,
     "metadata": {},
     "output_type": "execute_result"
    }
   ],
   "source": [
    "rectangle_area(10, 4), rectangle_area(0,3), rectangle_area(9, 9)"
   ]
  },
  {
   "cell_type": "markdown",
   "id": "756dc530",
   "metadata": {
    "id": "756dc530"
   },
   "source": [
    "## Exercise 14\n",
    "\n",
    "A triangle can be classified based on the lengths of its sides as __equilateral__, __isosceles__\n",
    "or __scalene__. All 3 sides of an __equilateral__ triangle have the same length. An __isosceles__\n",
    "triangle has two sides that are the same length, and a third side that is a different\n",
    "length. If all of the sides have different lengths then the triangle is __scalene__.\n",
    "In the cell below, write a code that reads lengths of 3 sides of a triangle from the keyboard and\n",
    "displays a message indicating the type of the triangle."
   ]
  },
  {
   "cell_type": "code",
   "execution_count": 62,
   "id": "8435f796",
   "metadata": {
    "colab": {
     "base_uri": "https://localhost:8080/"
    },
    "executionInfo": {
     "elapsed": 3318,
     "status": "ok",
     "timestamp": 1696502738477,
     "user": {
      "displayName": "Ian Harry",
      "userId": "09765021565160415280"
     },
     "user_tz": -60
    },
    "id": "8435f796",
    "outputId": "e61526a5-5ab0-4dc4-9ffc-9d5afd8c6b63"
   },
   "outputs": [
    {
     "name": "stdout",
     "output_type": "stream",
     "text": [
      "Please enter length of side 15\n",
      "Please enter length of side 28\n",
      "Please enter length of side 31\n",
      "I am scalene\n"
     ]
    }
   ],
   "source": [
    "side1 = float(input('Please enter length of side 1'))\n",
    "side2 = float(input('Please enter length of side 2'))\n",
    "side3 = float(input('Please enter length of side 3'))\n",
    "\n",
    "if side1 == side2 and side2 == side3:\n",
    "    print(\"I am equilateral\")\n",
    "elif side1 == side2 or side2 == side3 or side1 == side3:\n",
    "    print(\"I am isosceles\")\n",
    "else:\n",
    "    print(\"I am scalene\")"
   ]
  },
  {
   "cell_type": "markdown",
   "id": "5244e67c",
   "metadata": {
    "id": "5244e67c"
   },
   "source": [
    "## Exercise 15 (difficult)\n",
    "\n",
    "Write a function which determines if a *float* input is a \"happy number\". We will define a happy number as:\n",
    "\n",
    "* One that is closer to the integer above it, than the integer below it.\n",
    "* If you take the number, convert it to an integer (with `int`) and square it, is a multiple of 3.\n",
    "* If you multiply the number by 9 the resulting number has a 9 in it *before* the decimal point.\n",
    "\n",
    "Are any of these \"happy numbers\"?\n",
    "\n",
    "* 4.59\n",
    "* 4.05\n",
    "* 12.35\n",
    "* 15.45\n",
    "* 99.001"
   ]
  },
  {
   "cell_type": "code",
   "execution_count": 66,
   "id": "4602687d",
   "metadata": {
    "executionInfo": {
     "elapsed": 1,
     "status": "ok",
     "timestamp": 1696503045542,
     "user": {
      "displayName": "Ian Harry",
      "userId": "09765021565160415280"
     },
     "user_tz": -60
    },
    "id": "4602687d"
   },
   "outputs": [],
   "source": [
    "def happy_number(x):\n",
    "    xr = int(x)\n",
    "    if (x - xr) <= 0.5:\n",
    "        return False\n",
    "\n",
    "    if not (xr**2 % 3 == 0):\n",
    "        return False\n",
    "\n",
    "    xn = x * 9\n",
    "    xn = str(int(xn))\n",
    "    if not ('9' in xn):\n",
    "        return False\n",
    "\n",
    "    return True"
   ]
  },
  {
   "cell_type": "code",
   "execution_count": 69,
   "id": "GuY9NA0UdTTg",
   "metadata": {
    "colab": {
     "base_uri": "https://localhost:8080/"
    },
    "executionInfo": {
     "elapsed": 2,
     "status": "ok",
     "timestamp": 1696503070796,
     "user": {
      "displayName": "Ian Harry",
      "userId": "09765021565160415280"
     },
     "user_tz": -60
    },
    "id": "GuY9NA0UdTTg",
    "outputId": "4253c9cf-cebf-439b-86ef-118e7903dfa6"
   },
   "outputs": [
    {
     "data": {
      "text/plain": [
       "(False, False, False, False, False, True)"
      ]
     },
     "execution_count": 69,
     "metadata": {},
     "output_type": "execute_result"
    }
   ],
   "source": [
    "happy_number(4.59), happy_number(4.05), happy_number(12.35), happy_number(15.45), happy_number(99.001), happy_number(15.55)\n",
    "\n"
   ]
  },
  {
   "cell_type": "markdown",
   "id": "058d7e44",
   "metadata": {
    "id": "058d7e44"
   },
   "source": [
    "## Exercise 16\n",
    "\n",
    "**WARNING** This may sound challenging, but the coding here isn't as bad as some of the previous exercises. Often a challenge in coding is wading through some complex sounding description to break it down into simple, step-by-step things to code. This is a good example of that:\n",
    "\n",
    "A quadratic polynomial has a form $p(x)= ax^2 + bx+c$, where $a, b$ and $c$ are constants and $a$ is non-zero.\n",
    "We say that $x_0$ is a root of $p$ if $p(x_0)=0$. A __discriminant__ of a polynomial is a polynomial function of its coefficients, which allows deducing some properties of the roots without computing them. For example, the discriminant of $p$ is $\\Delta= b^2 - 4ac$. In the cell below, write a code that reads the coefficients of $p$, that is, $a$, $b$ and $c$ from the keyboard. Then depending on the value of $\\Delta$ display if $p$ has two distinct roots, one double root or no real roots.\n",
    "\n",
    "Recall that if\n",
    "- $\\Delta >0$ then $p$ has two distinct real roots,\n",
    "- $\\Delta = 0 $ then $p$ has one double root,\n",
    "- $\\Delta <0$ then $p$ has no real roots."
   ]
  },
  {
   "cell_type": "code",
   "execution_count": 73,
   "id": "c9368852",
   "metadata": {
    "colab": {
     "base_uri": "https://localhost:8080/"
    },
    "executionInfo": {
     "elapsed": 12939,
     "status": "ok",
     "timestamp": 1696503272268,
     "user": {
      "displayName": "Ian Harry",
      "userId": "09765021565160415280"
     },
     "user_tz": -60
    },
    "id": "c9368852",
    "outputId": "b3b78845-af75-4123-c7e1-bdf1b626f514"
   },
   "outputs": [
    {
     "name": "stdout",
     "output_type": "stream",
     "text": [
      "Please enter a:  1\n",
      "Please enter b:  4\n",
      "Please enter c:  4\n",
      "I have a double root\n"
     ]
    }
   ],
   "source": [
    "a = float(input('Please enter a:  '))\n",
    "b = float(input('Please enter b:  '))\n",
    "c = float(input('Please enter c:  '))\n",
    "\n",
    "delta = b**2 - 4 * a * c\n",
    "\n",
    "if delta > 0:\n",
    "    print(\"I have 2 real roots\")\n",
    "elif delta == 0:\n",
    "    print(\"I have a double root\")\n",
    "else:\n",
    "    print(\"I have no real roots\")\n",
    "\n"
   ]
  },
  {
   "cell_type": "code",
   "execution_count": null,
   "id": "uOfIp9WMd8_6",
   "metadata": {
    "id": "uOfIp9WMd8_6"
   },
   "outputs": [],
   "source": []
  }
 ],
 "metadata": {
  "colab": {
   "provenance": [
    {
     "file_id": "https://github.com/icg-gravwaves/M24568_M20741_CompSMAP/blob/main/lecture_2/12_Summary_Exercises.ipynb",
     "timestamp": 1696500923969
    }
   ]
  },
  "kernelspec": {
   "display_name": "Python 3 (ipykernel)",
   "language": "python",
   "name": "python3"
  },
  "language_info": {
   "codemirror_mode": {
    "name": "ipython",
    "version": 3
   },
   "file_extension": ".py",
   "mimetype": "text/x-python",
   "name": "python",
   "nbconvert_exporter": "python",
   "pygments_lexer": "ipython3",
   "version": "3.9.7"
  }
 },
 "nbformat": 4,
 "nbformat_minor": 5
}
