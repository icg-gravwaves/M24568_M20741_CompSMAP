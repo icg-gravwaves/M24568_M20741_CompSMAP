{
 "cells": [
  {
   "cell_type": "markdown",
   "id": "d5a77af2",
   "metadata": {},
   "source": [
    "# Using (or \"calling\") a function - Interactive"
   ]
  },
  {
   "cell_type": "markdown",
   "id": "d492af38",
   "metadata": {},
   "source": [
    "You've also already used at least one useful function, the `print` function. (Technically `range` is something different, but we'll explore that later on).\n",
    "\n",
    "Another example is `abs`, which gives the absolute value of a number, or the magnitude of a complex number. Give that a try.\n",
    "\n",
    "## Exercise\n",
    "\n",
    "What does `abs(3)` give? Try using `abs` on a negative integer, or on a complex number (look back to last week for definition of complex numbers). What does it give?"
   ]
  },
  {
   "cell_type": "code",
   "execution_count": null,
   "id": "0e1c50c7",
   "metadata": {},
   "outputs": [],
   "source": []
  },
  {
   "cell_type": "markdown",
   "id": "3aa66252",
   "metadata": {},
   "source": [
    "## Exercise\n",
    "\n",
    "Assign the value of `abs(-4)` to a variable named `abs_of_minus_4`. Then compute the square root of `abs_of_minus_4` and assign this to a new, suitably named variable."
   ]
  },
  {
   "cell_type": "code",
   "execution_count": null,
   "id": "b16bf668",
   "metadata": {},
   "outputs": [],
   "source": []
  },
  {
   "cell_type": "markdown",
   "id": "7fe6a30e",
   "metadata": {},
   "source": [
    "## Exercise\n",
    "\n",
    "Another two functions built-in to python are `min` and `max`. These take a number of input argument and return the minimum, or maximum value from among the inputs, respectively. To demonstrate this:"
   ]
  },
  {
   "cell_type": "code",
   "execution_count": 5,
   "id": "a377ec36",
   "metadata": {},
   "outputs": [
    {
     "name": "stdout",
     "output_type": "stream",
     "text": [
      "Minimum value out of 4, 1 and 2 is 1\n",
      "Minimum value out of -4, 10 and 12 is -4\n",
      "Minimum value out of 3.4, 2.1 and 11.9 is 2.1\n",
      "Maximum value out of 4, 1 and 2 is 4\n",
      "Maximum value out of -4, 10 and 12 is 12\n",
      "Maximum value out of 3.4, 2.1 and 11.9 is 11.9\n"
     ]
    }
   ],
   "source": [
    "print(\"Minimum value out of 4, 1 and 2 is\", min(4,1,2))\n",
    "print(\"Minimum value out of -4, 10 and 12 is\", min(-4,10,12))\n",
    "print(\"Minimum value out of 3.4, 2.1 and 11.9 is\", min(3.4,2.1,11.9))\n",
    "\n",
    "print(\"Maximum value out of 4, 1 and 2 is\", max(4,1,2))\n",
    "print(\"Maximum value out of -4, 10 and 12 is\", max(-4,10,12))\n",
    "print(\"Maximum value out of 3.4, 2.1 and 11.9 is\", max(3.4,2.1,11.9))"
   ]
  },
  {
   "cell_type": "markdown",
   "id": "7f004438",
   "metadata": {},
   "source": [
    "Find the minimum values in the following sets of numbers:\n",
    "\n",
    "* 4, 10 and 100\n",
    "* 1, 2, 3, 4, 5, 6, 7, 8, 9 and 10\n",
    "* -10, -100 and -1000"
   ]
  },
  {
   "cell_type": "code",
   "execution_count": null,
   "id": "990cbfe0",
   "metadata": {},
   "outputs": [],
   "source": []
  },
  {
   "cell_type": "markdown",
   "id": "2c21934f",
   "metadata": {},
   "source": [
    "Find the maximum values from the following sets of numbers:\n",
    "\n",
    "* 1, 1.1 and 1.2\n",
    "* 9, 10, 11, 12 and 100\n",
    "* e, $\\pi$ and 0\n"
   ]
  },
  {
   "cell_type": "code",
   "execution_count": null,
   "id": "e581c410",
   "metadata": {},
   "outputs": [],
   "source": []
  },
  {
   "cell_type": "markdown",
   "id": "d20003a4",
   "metadata": {},
   "source": [
    "## Exercise\n",
    "\n",
    "You've also used `print` already. You can use this to print many values. For example try doing `print(1,2,3)`. Or to make this fancy. `print(f\"My 3 values are {1}, {2} and {3}\"`."
   ]
  },
  {
   "cell_type": "code",
   "execution_count": null,
   "id": "bd31dbe6",
   "metadata": {},
   "outputs": [],
   "source": []
  }
 ],
 "metadata": {
  "kernelspec": {
   "display_name": "Python 3 (ipykernel)",
   "language": "python",
   "name": "python3"
  },
  "language_info": {
   "codemirror_mode": {
    "name": "ipython",
    "version": 3
   },
   "file_extension": ".py",
   "mimetype": "text/x-python",
   "name": "python",
   "nbconvert_exporter": "python",
   "pygments_lexer": "ipython3",
   "version": "3.9.7"
  }
 },
 "nbformat": 4,
 "nbformat_minor": 5
}
