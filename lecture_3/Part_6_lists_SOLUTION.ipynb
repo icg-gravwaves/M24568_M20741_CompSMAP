{
 "cells": [
  {
   "cell_type": "markdown",
   "metadata": {
    "id": "ZtD4gERXw9mJ"
   },
   "source": [
    "# Lists (interactive) - SOLVED\n",
    "\n",
    "__List__ is an ordered sequence of information (data), which can be accessed by index (the position in the list).\n",
    "- A list is denoted by square brackets, <br> $\\verb:[item1, item2,:$ $\\ldots$ $\\verb:, itemN]:$, and has elements separated by a comma.\n",
    "- An empty list is a similar object to an empty set in mathematics; An empty list is represented by $\\verb|[]|$.\n",
    "- Elements of the list are usually of the same type, e.g. integers, or floats, however it is possible to a list can contain mixed types.\n",
    "- List elements, unlike string elements,  can be changed. This means that list is __mutable__.\n",
    "\n",
    "\n",
    "When we want to store multiple objects in order, we need a list. There are several different ways to create a list. The simplest is with square brackets, e.g.\n",
    "\n",
    "`lst = [0, 1, 2, 3]`\n",
    "\n",
    "If we want to know the length of a list, we use one of Python's built-in functions:\n",
    "\n",
    "`len(lst)`\n",
    "\n",
    "Try this, and also check the type of the list."
   ]
  },
  {
   "cell_type": "code",
   "execution_count": 2,
   "metadata": {
    "colab": {
     "base_uri": "https://localhost:8080/"
    },
    "executionInfo": {
     "elapsed": 224,
     "status": "ok",
     "timestamp": 1696858490710,
     "user": {
      "displayName": "Samantha Penny",
      "userId": "15930921040156864267"
     },
     "user_tz": -60
    },
    "id": "pWgctOsjwkY4",
    "outputId": "0d6bcbd2-8597-4993-ccbd-21ee838c2e31"
   },
   "outputs": [
    {
     "name": "stdout",
     "output_type": "stream",
     "text": [
      "[0, 1, 2, 3]\n",
      "4\n",
      "<class 'list'>\n"
     ]
    }
   ],
   "source": [
    "lst = [0, 1, 2, 3]\n",
    "\n",
    "print(lst)\n",
    "print(len(lst))\n",
    "print(type(lst))"
   ]
  },
  {
   "cell_type": "markdown",
   "metadata": {
    "id": "UkHJunm4xfjc"
   },
   "source": [
    "Does a list have to contain only integers? Try putting other things in a list, like floats, strings, and other lists. Does the length count the lists inside a list?"
   ]
  },
  {
   "cell_type": "code",
   "execution_count": 3,
   "metadata": {
    "executionInfo": {
     "elapsed": 368,
     "status": "ok",
     "timestamp": 1696858527411,
     "user": {
      "displayName": "Samantha Penny",
      "userId": "15930921040156864267"
     },
     "user_tz": -60
    },
    "id": "890fM5Oaxe6N"
   },
   "outputs": [],
   "source": [
    "lst_2 = [0,0.12,\"banana\",2,5,-0.354,2323]"
   ]
  },
  {
   "cell_type": "code",
   "execution_count": 4,
   "metadata": {
    "colab": {
     "base_uri": "https://localhost:8080/"
    },
    "executionInfo": {
     "elapsed": 207,
     "status": "ok",
     "timestamp": 1696858534202,
     "user": {
      "displayName": "Samantha Penny",
      "userId": "15930921040156864267"
     },
     "user_tz": -60
    },
    "id": "0QqnlIrLxs4X",
    "outputId": "af5e3981-3675-4243-c72f-d1b3cf611211"
   },
   "outputs": [
    {
     "name": "stdout",
     "output_type": "stream",
     "text": [
      "7\n"
     ]
    }
   ],
   "source": [
    "print(len(lst_2))"
   ]
  },
  {
   "cell_type": "markdown",
   "metadata": {
    "id": "tL6YJuqSxnc0"
   },
   "source": [
    "Now make an empty list. What do you expect its length to be? Are you right?"
   ]
  },
  {
   "cell_type": "code",
   "execution_count": 5,
   "metadata": {
    "colab": {
     "base_uri": "https://localhost:8080/"
    },
    "executionInfo": {
     "elapsed": 6,
     "status": "ok",
     "timestamp": 1696858556433,
     "user": {
      "displayName": "Samantha Penny",
      "userId": "15930921040156864267"
     },
     "user_tz": -60
    },
    "id": "vynj4t9VxrPs",
    "outputId": "f5da1db8-1ab5-469a-f306-ac4d2fc6f362"
   },
   "outputs": [
    {
     "name": "stdout",
     "output_type": "stream",
     "text": [
      "0\n"
     ]
    }
   ],
   "source": [
    "lst_3 = []\n",
    "print(len(lst_3))"
   ]
  },
  {
   "cell_type": "markdown",
   "metadata": {
    "id": "_O7MaAqgxtig"
   },
   "source": [
    "## Converting other types to lists\n",
    "\n",
    "Some things can be converted to lists. We do it the same way as converting to an integer or string, by using the name of the type:\n",
    "\n",
    "`list(\"a\")`\n",
    "\n",
    "Try this, and try a longer string. Does it work with an integer or float? What if you call `list` on something that's already a list?"
   ]
  },
  {
   "cell_type": "code",
   "execution_count": 14,
   "metadata": {
    "colab": {
     "base_uri": "https://localhost:8080/"
    },
    "executionInfo": {
     "elapsed": 317,
     "status": "ok",
     "timestamp": 1696859126275,
     "user": {
      "displayName": "Samantha Penny",
      "userId": "15930921040156864267"
     },
     "user_tz": -60
    },
    "id": "bYKa0OL1x1QD",
    "outputId": "03df94be-eccd-4b47-8b6d-6fb5a9a67c64"
   },
   "outputs": [
    {
     "name": "stdout",
     "output_type": "stream",
     "text": [
      "[1232, 434, 2, 3, 1, 21, 3]\n",
      "[1232, 434, 2, 3, 1, 21, 3]\n"
     ]
    }
   ],
   "source": [
    "b = [1232,434,2,3,1,21,3]\n",
    "print(b)\n",
    "c = list(b)\n",
    "print(c)"
   ]
  },
  {
   "cell_type": "markdown",
   "metadata": {
    "id": "CNoERSW_x4Vd"
   },
   "source": [
    "## Building a list with a for loop\n",
    "\n",
    "To build a list, we can start with an empty list, then in a loop append values to that list. Here's how this would work:"
   ]
  },
  {
   "cell_type": "code",
   "execution_count": 15,
   "metadata": {
    "colab": {
     "base_uri": "https://localhost:8080/"
    },
    "executionInfo": {
     "elapsed": 195,
     "status": "ok",
     "timestamp": 1696859135315,
     "user": {
      "displayName": "Samantha Penny",
      "userId": "15930921040156864267"
     },
     "user_tz": -60
    },
    "id": "feLmQLcLx_h3",
    "outputId": "acefa082-0186-4a2a-e1ae-50b9c94c694b"
   },
   "outputs": [
    {
     "name": "stdout",
     "output_type": "stream",
     "text": [
      "[0, 1, 2, 3, 4, 5, 6, 7, 8, 9]\n"
     ]
    }
   ],
   "source": [
    "my_list1 = []\n",
    "for ii in range(10):\n",
    "    my_list1.append(ii)\n",
    "print(my_list1)"
   ]
  },
  {
   "cell_type": "code",
   "execution_count": null,
   "metadata": {
    "id": "dOKA7OgTyCeP"
   },
   "outputs": [],
   "source": []
  }
 ],
 "metadata": {
  "colab": {
   "authorship_tag": "ABX9TyNbBpXaEV2ZrvgIsYYIu2az",
   "provenance": []
  },
  "kernelspec": {
   "display_name": "Python 3 (ipykernel)",
   "language": "python",
   "name": "python3"
  },
  "language_info": {
   "codemirror_mode": {
    "name": "ipython",
    "version": 3
   },
   "file_extension": ".py",
   "mimetype": "text/x-python",
   "name": "python",
   "nbconvert_exporter": "python",
   "pygments_lexer": "ipython3",
   "version": "3.9.7"
  }
 },
 "nbformat": 4,
 "nbformat_minor": 1
}
