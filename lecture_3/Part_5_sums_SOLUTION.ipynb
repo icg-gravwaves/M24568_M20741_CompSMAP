{
 "cells": [
  {
   "cell_type": "markdown",
   "metadata": {
    "id": "ZaseWTDWt8fW"
   },
   "source": [
    "# Writing sums as functions: INTERACTIVE - SOLVED\n",
    "\n",
    "We want to calculate the following general sum:\n",
    "\n",
    "$$\\sum_{k = 1}^{100} f(k) $$\n",
    "\n",
    "where $f$ is some function.\n",
    "\n",
    "For the specific case $f(k) = \\frac{1}{k^2}$ we would be computing\n",
    "\n",
    "$$\\sum_{k = 1}^{100} \\frac{1}{k^2} $$\n",
    "\n",
    "\n",
    "and we could use the following code:"
   ]
  },
  {
   "cell_type": "code",
   "execution_count": 1,
   "metadata": {
    "colab": {
     "base_uri": "https://localhost:8080/"
    },
    "executionInfo": {
     "elapsed": 680,
     "status": "ok",
     "timestamp": 1696857997035,
     "user": {
      "displayName": "Samantha Penny",
      "userId": "15930921040156864267"
     },
     "user_tz": -60
    },
    "id": "sdHrkoyCt2UX",
    "outputId": "4881b2a5-c587-469b-9a51-0e4c5bff24bd"
   },
   "outputs": [
    {
     "name": "stdout",
     "output_type": "stream",
     "text": [
      "1.6349839001848923\n"
     ]
    }
   ],
   "source": [
    "def my_sum(start, stop):\n",
    "    \"\"\"Sum the function 1/k^2 for integers between start and stop (inclusive)\"\"\"\n",
    "    total = 0\n",
    "    for k in range(start, stop + 1):\n",
    "        total = total + (1 / k**2)\n",
    "    return total\n",
    "\n",
    "print(my_sum(1,100))"
   ]
  },
  {
   "cell_type": "markdown",
   "metadata": {
    "id": "0ZSYjY36vPNm"
   },
   "source": [
    "But we could make this more general by allowing this to work on *any* function.\n",
    "\n",
    "Let's change this to accept an additional argument `my_func`"
   ]
  },
  {
   "cell_type": "code",
   "execution_count": 2,
   "metadata": {
    "executionInfo": {
     "elapsed": 3,
     "status": "ok",
     "timestamp": 1696857997036,
     "user": {
      "displayName": "Samantha Penny",
      "userId": "15930921040156864267"
     },
     "user_tz": -60
    },
    "id": "zavqiuCVvTmO"
   },
   "outputs": [],
   "source": [
    "def my_sum(start, stop, my_func):\n",
    "    \"\"\"Sum the function 1/k^2 for integers between start and stop (inclusive)\"\"\"\n",
    "    total = 0\n",
    "    for k in range(start, stop + 1):\n",
    "        total = total + my_func(k)\n",
    "    return total"
   ]
  },
  {
   "cell_type": "markdown",
   "metadata": {
    "id": "D1C3xtxsvhcs"
   },
   "source": [
    "Now to call this we have to provide a start, a stop, *and* the form of $f(k)$, my function. Of course, we are yet to define ```my_func``. So for $f(k) = \\frac{1}{k^2}$ we would do:"
   ]
  },
  {
   "cell_type": "code",
   "execution_count": 3,
   "metadata": {
    "executionInfo": {
     "elapsed": 590,
     "status": "ok",
     "timestamp": 1696858000738,
     "user": {
      "displayName": "Samantha Penny",
      "userId": "15930921040156864267"
     },
     "user_tz": -60
    },
    "id": "QDWJjtsvvgjy"
   },
   "outputs": [],
   "source": [
    "def my_func(k):\n",
    "    \"\"\"Return 1/k**2\"\"\"\n",
    "    return 1/k**2"
   ]
  },
  {
   "cell_type": "code",
   "execution_count": null,
   "metadata": {
    "colab": {
     "base_uri": "https://localhost:8080/"
    },
    "executionInfo": {
     "elapsed": 372,
     "status": "ok",
     "timestamp": 1696273034171,
     "user": {
      "displayName": "Samantha Penny",
      "userId": "15930921040156864267"
     },
     "user_tz": -60
    },
    "id": "Sj44gbDlwF9A",
    "outputId": "861ba7d2-a207-4f9e-9908-eab8d9af9739"
   },
   "outputs": [
    {
     "name": "stdout",
     "output_type": "stream",
     "text": [
      "1.6349839001848923\n"
     ]
    }
   ],
   "source": [
    "print(my_sum(1, 100, my_func))"
   ]
  },
  {
   "cell_type": "markdown",
   "metadata": {
    "id": "DzA39b7QwHoB"
   },
   "source": [
    "## Putting this together: exercise\n",
    "\n",
    "Using the above compute:\n",
    "\n",
    "$$ \\sum_{k=1}^{1000} \\frac{1}{k^2}.$$"
   ]
  },
  {
   "cell_type": "code",
   "execution_count": 4,
   "metadata": {
    "colab": {
     "base_uri": "https://localhost:8080/"
    },
    "executionInfo": {
     "elapsed": 244,
     "status": "ok",
     "timestamp": 1696858049325,
     "user": {
      "displayName": "Samantha Penny",
      "userId": "15930921040156864267"
     },
     "user_tz": -60
    },
    "id": "IB94qrRQwAS5",
    "outputId": "5f34b9a6-a63b-43b7-b84f-9c0ffe6cdd3e"
   },
   "outputs": [
    {
     "name": "stdout",
     "output_type": "stream",
     "text": [
      "1.6439345666815615\n"
     ]
    }
   ],
   "source": [
    "print(my_sum(1, 1000, my_func))"
   ]
  },
  {
   "cell_type": "markdown",
   "metadata": {
    "id": "R0jm28XMwQlu"
   },
   "source": [
    "## Exercise\n",
    "\n",
    "Compute\n",
    "\n",
    "$$ \\sum_{k=5}^{75} k^3 - 7k^2 + k.$$"
   ]
  },
  {
   "cell_type": "code",
   "execution_count": 5,
   "metadata": {
    "executionInfo": {
     "elapsed": 271,
     "status": "ok",
     "timestamp": 1696858095932,
     "user": {
      "displayName": "Samantha Penny",
      "userId": "15930921040156864267"
     },
     "user_tz": -60
    },
    "id": "tTgZcmQlwXDU"
   },
   "outputs": [],
   "source": [
    "def my_func2(k):\n",
    "  return k**3 - 7*k**2 +k"
   ]
  },
  {
   "cell_type": "code",
   "execution_count": 6,
   "metadata": {
    "colab": {
     "base_uri": "https://localhost:8080/"
    },
    "executionInfo": {
     "elapsed": 194,
     "status": "ok",
     "timestamp": 1696858111802,
     "user": {
      "displayName": "Samantha Penny",
      "userId": "15930921040156864267"
     },
     "user_tz": -60
    },
    "id": "nZV5lu9An78j",
    "outputId": "d2f4c0e0-5569-4a0a-8141-675ce5b1790b"
   },
   "outputs": [
    {
     "name": "stdout",
     "output_type": "stream",
     "text": [
      "7121300\n"
     ]
    }
   ],
   "source": [
    "print(my_sum(5,75,my_func2))"
   ]
  },
  {
   "cell_type": "code",
   "execution_count": null,
   "metadata": {
    "id": "QRhsK_94n_xZ"
   },
   "outputs": [],
   "source": []
  }
 ],
 "metadata": {
  "colab": {
   "authorship_tag": "ABX9TyPtLoML6jpXRsXa37s8vgMo",
   "provenance": []
  },
  "kernelspec": {
   "display_name": "Python 3 (ipykernel)",
   "language": "python",
   "name": "python3"
  },
  "language_info": {
   "codemirror_mode": {
    "name": "ipython",
    "version": 3
   },
   "file_extension": ".py",
   "mimetype": "text/x-python",
   "name": "python",
   "nbconvert_exporter": "python",
   "pygments_lexer": "ipython3",
   "version": "3.9.7"
  }
 },
 "nbformat": 4,
 "nbformat_minor": 1
}
