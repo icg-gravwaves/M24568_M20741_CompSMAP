{
 "cells": [
  {
   "cell_type": "markdown",
   "metadata": {
    "id": "FqoQamN8ySQF"
   },
   "source": [
    "# Lists: exercises\n",
    "\n",
    "## Exercise\n",
    "\n",
    "Make a list of the first 7 powers of 3 ($3^1$, $3^2$, etc.)."
   ]
  },
  {
   "cell_type": "code",
   "execution_count": null,
   "metadata": {
    "id": "Ewn5gdkwyNne"
   },
   "outputs": [],
   "source": []
  },
  {
   "cell_type": "markdown",
   "metadata": {
    "id": "xLll4Jwwybs2"
   },
   "source": [
    "## Exercise\n",
    "\n",
    "Make a list of the first 100 odd numbers. Check that it's 100 long."
   ]
  },
  {
   "cell_type": "code",
   "execution_count": null,
   "metadata": {
    "id": "tBy4BC2ByhzF"
   },
   "outputs": [],
   "source": []
  },
  {
   "cell_type": "markdown",
   "metadata": {
    "id": "sMq5ZYNayigE"
   },
   "source": [
    "**Important**: a for loop doesn't have to just use `range`. It can also iterate through a list that you provide. Here's an example:"
   ]
  },
  {
   "cell_type": "code",
   "execution_count": null,
   "metadata": {
    "id": "ksMqlmUcyom8"
   },
   "outputs": [],
   "source": [
    "for x in [1, 2., 'a']:\n",
    "    print(x)"
   ]
  },
  {
   "cell_type": "markdown",
   "metadata": {
    "id": "gCsQKEzGyr0I"
   },
   "source": [
    "## Exercise: a nested loop\n",
    "\n",
    "Write a nested for loop (one loop inside another) that prints a truth table for the 'or' operator. Use two variables `a` and `b` that take all combinations of True and False, and show the value of `(a or b)`. For example, you should have\n",
    "\n",
    "    a b => (a and b)\n",
    "    True True => True\n",
    "    True False => True\n",
    "    False True => True\n",
    "    False False => False"
   ]
  },
  {
   "cell_type": "code",
   "execution_count": null,
   "metadata": {
    "id": "O2VJkYtRy1Ds"
   },
   "outputs": [],
   "source": []
  }
 ],
 "metadata": {
  "colab": {
   "authorship_tag": "ABX9TyNRQZabCFxx8JhDEdfbQyfe",
   "provenance": []
  },
  "kernelspec": {
   "display_name": "Python 3 (ipykernel)",
   "language": "python",
   "name": "python3"
  },
  "language_info": {
   "codemirror_mode": {
    "name": "ipython",
    "version": 3
   },
   "file_extension": ".py",
   "mimetype": "text/x-python",
   "name": "python",
   "nbconvert_exporter": "python",
   "pygments_lexer": "ipython3",
   "version": "3.9.7"
  }
 },
 "nbformat": 4,
 "nbformat_minor": 1
}
