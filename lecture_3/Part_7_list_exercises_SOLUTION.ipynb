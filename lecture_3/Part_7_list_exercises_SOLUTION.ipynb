{
 "cells": [
  {
   "cell_type": "markdown",
   "metadata": {
    "id": "FqoQamN8ySQF"
   },
   "source": [
    "# Lists: exercises - SOLVED\n",
    "\n",
    "## Exercise\n",
    "\n",
    "Make a list of the first 7 powers of 3 ($3^1$, $3^2$, etc.)."
   ]
  },
  {
   "cell_type": "code",
   "execution_count": 1,
   "metadata": {
    "colab": {
     "base_uri": "https://localhost:8080/"
    },
    "executionInfo": {
     "elapsed": 7,
     "status": "ok",
     "timestamp": 1696859379914,
     "user": {
      "displayName": "Samantha Penny",
      "userId": "15930921040156864267"
     },
     "user_tz": -60
    },
    "id": "Ewn5gdkwyNne",
    "outputId": "74da469c-5fac-4805-fdde-66bec9a71aed"
   },
   "outputs": [
    {
     "name": "stdout",
     "output_type": "stream",
     "text": [
      "[3, 9, 27, 81, 243, 729, 2187]\n"
     ]
    }
   ],
   "source": [
    "a = []\n",
    "for i in range(1,8):\n",
    "  k = 3**i\n",
    "  a.append(k)\n",
    "\n",
    "print(a)"
   ]
  },
  {
   "cell_type": "markdown",
   "metadata": {
    "id": "xLll4Jwwybs2"
   },
   "source": [
    "## Exercise\n",
    "\n",
    "Make a list of the first 100 odd numbers. Check that it's 100 long."
   ]
  },
  {
   "cell_type": "code",
   "execution_count": 3,
   "metadata": {
    "colab": {
     "base_uri": "https://localhost:8080/"
    },
    "executionInfo": {
     "elapsed": 228,
     "status": "ok",
     "timestamp": 1696859986631,
     "user": {
      "displayName": "Samantha Penny",
      "userId": "15930921040156864267"
     },
     "user_tz": -60
    },
    "id": "tBy4BC2ByhzF",
    "outputId": "36b467fd-182d-474f-d857-fd456db27b4d"
   },
   "outputs": [
    {
     "name": "stdout",
     "output_type": "stream",
     "text": [
      "[1, 3, 5, 7, 9, 11, 13, 15, 17, 19, 21, 23, 25, 27, 29, 31, 33, 35, 37, 39, 41, 43, 45, 47, 49, 51, 53, 55, 57, 59, 61, 63, 65, 67, 69, 71, 73, 75, 77, 79, 81, 83, 85, 87, 89, 91, 93, 95, 97, 99, 101, 103, 105, 107, 109, 111, 113, 115, 117, 119, 121, 123, 125, 127, 129, 131, 133, 135, 137, 139, 141, 143, 145, 147, 149, 151, 153, 155, 157, 159, 161, 163, 165, 167, 169, 171, 173, 175, 177, 179, 181, 183, 185, 187, 189, 191, 193, 195, 197, 199]\n",
      "100\n"
     ]
    }
   ],
   "source": [
    "b = []\n",
    "ncount = 0\n",
    "current_number = 1\n",
    "\n",
    "while ncount < 100:\n",
    "  if current_number % 2 != 0:\n",
    "    b.append(current_number)\n",
    "    ncount += 1\n",
    "  current_number += 1\n",
    "\n",
    "print(b)\n",
    "print(len(b))"
   ]
  },
  {
   "cell_type": "markdown",
   "metadata": {
    "id": "sMq5ZYNayigE"
   },
   "source": [
    "**Important**: a for loop doesn't have to just use `range`. It can also iterate through a list that you provide. Here's an example:"
   ]
  },
  {
   "cell_type": "code",
   "execution_count": null,
   "metadata": {
    "id": "ksMqlmUcyom8"
   },
   "outputs": [],
   "source": [
    "for x in [1, 2., 'a']:\n",
    "    print(x)"
   ]
  },
  {
   "cell_type": "markdown",
   "metadata": {
    "id": "gCsQKEzGyr0I"
   },
   "source": [
    "## Exercise: a nested loop\n",
    "\n",
    "Write a nested for loop (one loop inside another) that prints a truth table for the 'or' operator. Use two variables `a` and `b` that take all combinations of True and False, and show the value of `(a or b)`. For example, you should have\n",
    "\n",
    "    a b => (a and b)\n",
    "    True True => True\n",
    "    True False => True\n",
    "    False True => True\n",
    "    False False => False"
   ]
  },
  {
   "cell_type": "code",
   "execution_count": 4,
   "metadata": {
    "colab": {
     "base_uri": "https://localhost:8080/"
    },
    "executionInfo": {
     "elapsed": 191,
     "status": "ok",
     "timestamp": 1696860130168,
     "user": {
      "displayName": "Samantha Penny",
      "userId": "15930921040156864267"
     },
     "user_tz": -60
    },
    "id": "O2VJkYtRy1Ds",
    "outputId": "7003124c-1d01-4949-fad1-dc457ba2d6bb"
   },
   "outputs": [
    {
     "name": "stdout",
     "output_type": "stream",
     "text": [
      "True True => True\n",
      "True False => True\n",
      "False True => True\n",
      "False False => False\n"
     ]
    }
   ],
   "source": [
    "for a in [True,False]:\n",
    "  for b in [True,False]:\n",
    "    c = a or b\n",
    "    print(f\"{a} {b} => {c}\")\n"
   ]
  },
  {
   "cell_type": "code",
   "execution_count": null,
   "metadata": {
    "id": "fDzggrI_vsmw"
   },
   "outputs": [],
   "source": []
  }
 ],
 "metadata": {
  "colab": {
   "authorship_tag": "ABX9TyNMH16I5L6IjzTRy7hrXKWX",
   "provenance": []
  },
  "kernelspec": {
   "display_name": "Python 3 (ipykernel)",
   "language": "python",
   "name": "python3"
  },
  "language_info": {
   "codemirror_mode": {
    "name": "ipython",
    "version": 3
   },
   "file_extension": ".py",
   "mimetype": "text/x-python",
   "name": "python",
   "nbconvert_exporter": "python",
   "pygments_lexer": "ipython3",
   "version": "3.9.7"
  }
 },
 "nbformat": 4,
 "nbformat_minor": 1
}
