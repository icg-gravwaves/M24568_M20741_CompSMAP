{
 "cells": [
  {
   "cell_type": "markdown",
   "metadata": {
    "id": "ereM2y0i8DDY"
   },
   "source": [
    "# Using a for loop: interactive - SOLVED\n",
    "\n",
    "If we want to do something many times, or for many different values, we can use a *for* loop. The lines of code to be repeated are indicated by *indenting* them. Code is indented by using 4 spaces (or Tab within Jupyter notebooks). You can type `Backspace` to remove an indentation.\n",
    "\n",
    "The loop ends when there's a line with non-indented code, or when the code ends. Here is an example *for loop* which prints 10 numbers, then 'Done' when it's finished:\n"
   ]
  },
  {
   "cell_type": "code",
   "execution_count": null,
   "metadata": {
    "colab": {
     "base_uri": "https://localhost:8080/"
    },
    "executionInfo": {
     "elapsed": 8,
     "status": "ok",
     "timestamp": 1696322039324,
     "user": {
      "displayName": "Samantha Penny",
      "userId": "15930921040156864267"
     },
     "user_tz": -60
    },
    "id": "YSMMlJ2i8BgI",
    "outputId": "7280f4dc-d973-419a-cd82-6028836a7ee3"
   },
   "outputs": [
    {
     "name": "stdout",
     "output_type": "stream",
     "text": [
      "Inside the for loop\n",
      "0\n",
      "Inside the for loop\n",
      "1\n",
      "Inside the for loop\n",
      "2\n",
      "Inside the for loop\n",
      "3\n",
      "Inside the for loop\n",
      "4\n",
      "Inside the for loop\n",
      "5\n",
      "Inside the for loop\n",
      "6\n",
      "Inside the for loop\n",
      "7\n",
      "Inside the for loop\n",
      "8\n",
      "Inside the for loop\n",
      "9\n",
      "Done\n"
     ]
    }
   ],
   "source": [
    "for x in range(10):\n",
    "  print('Inside the for loop')\n",
    "  # You can have multiple indented lines\n",
    "  # You can also add as many comments as you like\n",
    "  print(x)\n",
    "print('Done')"
   ]
  },
  {
   "cell_type": "markdown",
   "metadata": {
    "id": "Acic_IkA-9OT"
   },
   "source": [
    "## Quick exercise\n",
    "\n",
    "Use the __for__ loop to print the first 20 integers, use range(1, 21) to start from 1. Even though the range ended with $21$ what was the last integer that was printed?\n",
    "\n"
   ]
  },
  {
   "cell_type": "code",
   "execution_count": 1,
   "metadata": {
    "colab": {
     "base_uri": "https://localhost:8080/"
    },
    "executionInfo": {
     "elapsed": 6,
     "status": "ok",
     "timestamp": 1696854687816,
     "user": {
      "displayName": "Samantha Penny",
      "userId": "15930921040156864267"
     },
     "user_tz": -60
    },
    "id": "jCofeX6T87B9",
    "outputId": "be21737c-b486-4147-a750-af5876ae31f1"
   },
   "outputs": [
    {
     "name": "stdout",
     "output_type": "stream",
     "text": [
      "1\n",
      "2\n",
      "3\n",
      "4\n",
      "5\n",
      "6\n",
      "7\n",
      "8\n",
      "9\n",
      "10\n",
      "11\n",
      "12\n",
      "13\n",
      "14\n",
      "15\n",
      "16\n",
      "17\n",
      "18\n",
      "19\n",
      "20\n"
     ]
    }
   ],
   "source": [
    "for n in range(1,21):\n",
    "  print(n)\n",
    "\n",
    "# Python stops counting 1 before the end value in range."
   ]
  },
  {
   "cell_type": "markdown",
   "metadata": {
    "id": "QNMshyvaGoSs"
   },
   "source": [
    "There's several things we note here.\n",
    "\n",
    "* The `for` line ends with a colon.\n",
    "* We introduce the `range` builtin command. This can be used to loop over integers. If given only one value it will count the first ten numbers. If given 2 numbers (e.g. `range(4,19)` it will count from the first number to the second. If given 3 numbers (e.g. `range(4,19,3)` it will count from the first number to the second stepping forward by the third number each time. TRY THIS OUT TO MAKE THIS CLEAR!\n",
    "* Python, when told to count ten numbers, by default will count from 0 to 9. (0 being the first number is an important concept in python, and most computing languages (but not MATLAB), we will explore this more next week).\n",
    "* The last line of code is not indented, so it happens once, outside the loop."
   ]
  },
  {
   "cell_type": "markdown",
   "metadata": {
    "id": "Au88jZqaGy8r"
   },
   "source": [
    "Here's a schema of how the for loop works (when used with range):\n",
    "\n",
    "```python\n",
    "for variable in range(start, stop):\n",
    "  expression\n",
    "  expression\n",
    "  ...\n",
    "```"
   ]
  }
 ],
 "metadata": {
  "colab": {
   "authorship_tag": "ABX9TyPzyu3nHRpSFB3osmli4ZGA",
   "provenance": []
  },
  "kernelspec": {
   "display_name": "Python 3 (ipykernel)",
   "language": "python",
   "name": "python3"
  },
  "language_info": {
   "codemirror_mode": {
    "name": "ipython",
    "version": 3
   },
   "file_extension": ".py",
   "mimetype": "text/x-python",
   "name": "python",
   "nbconvert_exporter": "python",
   "pygments_lexer": "ipython3",
   "version": "3.9.7"
  }
 },
 "nbformat": 4,
 "nbformat_minor": 1
}
