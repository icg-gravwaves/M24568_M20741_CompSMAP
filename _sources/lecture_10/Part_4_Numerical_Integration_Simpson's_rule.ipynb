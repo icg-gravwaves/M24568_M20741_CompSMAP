{
 "cells": [
  {
   "cell_type": "markdown",
   "metadata": {
    "id": "8F2D5D0WVwSS"
   },
   "source": [
    "# Simpson's rule\n",
    "\n",
    "We have now demonstrated both the rectangular and trapezium integration methods. While the trapezium method looks like a visibly better fit, there are cases (including the cases above) where the rectangle method is actually more accurate. However, this can be improved by using a \"2nd-order\" solution to the problem.\n",
    "\n",
    "Simpson's rule is that. In this case rather than assuming that the curve is a series of straight lines, we assume that the curve is a series of quadratic lines. A nice introduction to this can be seen here:\n",
    "\n",
    "https://web.stanford.edu/group/sisl/k12/optimization/MO-unit4-pdfs/4.2simpsonintegrals.pdf\n",
    "\n",
    "(see up to slide 7). Let's try and visualize how this will look for our $e^{-x^2}dx$. Here I will compare to using only one rectangle/trapezium to emphasize the difference."
   ]
  },
  {
   "cell_type": "markdown",
   "metadata": {
    "id": "EWZvVvJ5erXw"
   },
   "source": [
    "![Illustration of simpsons rule](https://raw.githubusercontent.com/icg-gravwaves/M24568_M20741_CompSMAP/main/lecture_10/images/Part4_Image1.png)"
   ]
  },
  {
   "cell_type": "markdown",
   "metadata": {
    "id": "XMnYO6lreuGt"
   },
   "source": [
    "Here the red is the actual curve, the green is the rectangle, the orange the trapezium, and the black is the new quadrature fit. We can see that each is progressively fitting better."
   ]
  },
  {
   "cell_type": "markdown",
   "metadata": {
    "id": "UWvDEUx1tu5a"
   },
   "source": [
    "Now we just need to evaluate this integral. Now we *could* analytically integrate the quadratic curve at every point, but it turns out that the integral of a quadratic curve over the interval $a$ to $b$ (where the midpoint is $m$) is given by:\n",
    "\n",
    "$$\\int_a^b f(x) dx \\approx  \\frac{(b-a)}{6}\\left(f(a)+4f(m) + f(b) \\right) $$\n",
    "\n",
    "We can code this up.\n"
   ]
  },
  {
   "cell_type": "markdown",
   "metadata": {
    "id": "ahrqRZN3fEVV"
   },
   "source": [
    "## Step 1\n",
    "\n",
    "Write a function `compute_quadrature_area(height_at_left, height_at_middle, height_at_right, width)` to compute the area of the shapes used in Simpson's rule. As described above this function should return `width/6. * (height_at_left + 4*height_at_middle + height_at_right)`"
   ]
  },
  {
   "cell_type": "code",
   "execution_count": null,
   "metadata": {
    "colab": {
     "base_uri": "https://localhost:8080/"
    },
    "id": "Mdq9u4fgfhAm",
    "outputId": "b67f91f1-564b-4229-a819-c91de271f498"
   },
   "outputs": [
    {
     "name": "stdout",
     "output_type": "stream",
     "text": [
      "Should be 4.666666666666666\n",
      "Value computed was 4.666666666666666\n"
     ]
    }
   ],
   "source": [
    "def compute_quadrature_area(height_at_left, height_at_middle, height_at_right, width):\n",
    "    # Complete function below\n",
    "\n",
    "\n",
    "\n",
    "# One example to test this\n",
    "example_area = compute_quadrature_area(3,2,3,2)\n",
    "print(\"Should be 4.666666666666666\")\n",
    "print(f\"Value computed was {example_area}\")"
   ]
  },
  {
   "cell_type": "markdown",
   "metadata": {
    "id": "P7tnQKoNf9QH"
   },
   "source": [
    "## Step 2\n",
    "\n",
    "Now we can write a function `compute_simpsons_integral(function, lower_val, upper_val, num_rectangles)`. The `function` should be the function to compute (ie. compute_ex2) in the example above, `lower_val` is the lower value of integration, `upper_val` is the upper value and `num_trapeziums` is the number of trapeziums to use. Here's roughly how this could work:\n",
    "\n",
    "1. Call `rectangle_edges` to get the edges of your shapes (maybe rename the function if you want to avoid the confusion of calling something with rectangle in the name)\n",
    "1. Call `compute_step_size` to get the step size.\n",
    "1. Call `f_midpoints` to get the midpoints of your shapes\n",
    "1. Call `function` to get the y_values (the heights) of your shapes at all the edges.\n",
    "1. Call `function` *again* to get the y_values of the shapes at all the midpoints.\n",
    "1. For all shapes use `compute_quadrature_area` to compute the area.\n",
    "1. Sum over all areas.\n",
    "1. Return the integral."
   ]
  },
  {
   "cell_type": "code",
   "execution_count": null,
   "metadata": {
    "id": "I3n8l37onWBP"
   },
   "outputs": [],
   "source": [
    "# copy the functions you want to use from the previous workbook\n",
    "\n"
   ]
  },
  {
   "cell_type": "code",
   "execution_count": null,
   "metadata": {
    "colab": {
     "base_uri": "https://localhost:8080/"
    },
    "id": "EDxrfDFTgaWr",
    "outputId": "5ad14511-b2a1-4866-92bb-2aaef0b9a4c7"
   },
   "outputs": [
    {
     "name": "stdout",
     "output_type": "stream",
     "text": [
      "Integral should be 0.4207871236381236\n",
      "Integral was computed to be 0.4207871236381236\n"
     ]
    }
   ],
   "source": [
    "def compute_simpsons_integral(function, lower_val, upper_val, num_rectangles):\n",
    "    # COMPLETE CODE HERE\n",
    "\n",
    "\n",
    "# Checking that it works\n",
    "integral = compute_simpsons_integral(compute_ex2, 0.5, 2, 5)\n",
    "print(\"Integral should be 0.4207871236381236\")\n",
    "print(f\"Integral was computed to be {integral}\")"
   ]
  },
  {
   "cell_type": "markdown",
   "metadata": {
    "id": "iLgA5uH_wDqA"
   },
   "source": [
    "### Some optimization\n",
    "\n",
    "If we examine this closely (with 2 shapes), we can see that the right edge of the first shape is the left edge of the second shape, therefore we don't need to compute that twice. We can just compute the value of the function at all the points we need (which will be twice as many points as with the trapezium rule, as we need to compute midpoints). Then we just multiply each point by a *weighting*. This weighting will be 4 for all the midpoints, 1 for the first and last point, and 2 otherwise. So for example if we were doing this with 3 shapes we would do something like:\n",
    "\n",
    "$$\n",
    "\t\\begin{array}{|c|c|c|}\\hline\n",
    "\tx & f(x) & \\mbox{weight} \\\\\n",
    "\t\\hline\n",
    "\t0.5 & 0.778801 & 1\\\\\n",
    "\t0.666667 & 0.641180 & 4\\\\\n",
    "\t0.833333 & 0.499352 & 2\\\\\n",
    "\t1 & 0.367880 & 4\\\\\n",
    "\t1.166667 & 0.256376 & 2\\\\\n",
    "    1.333333 & 0.169013 & 4\\\\\n",
    "    1.5 & 0.105399 & 1\\\\\n",
    "\t\\hline\n",
    "\t\\end{array}\n",
    "$$\n",
    "\n",
    "Then we just multiply all the f(x) values by the weights and sum everything up.\n",
    "\n",
    "Integral = (0.778801 + 0.641180\\*4 + 0.499352\\*2 + 0.367880\\*4 + 0.256376\\*2 + 0.169013\\*4 + 0.105399) * width / 6.\n"
   ]
  },
  {
   "cell_type": "code",
   "execution_count": null,
   "metadata": {
    "colab": {
     "base_uri": "https://localhost:8080/"
    },
    "id": "F0eHnvriwHdj",
    "outputId": "0c66d91e-1849-41fa-dd63-f430b6e32189"
   },
   "outputs": [
    {
     "name": "stdout",
     "output_type": "stream",
     "text": [
      "I have computed the integral to be 0.42078712363812343 with numerical integration using Simpson's rule\n"
     ]
    }
   ],
   "source": [
    "def simpson_rule(function, lower_val, upper_val, num_shapes):\n",
    "    h = (upper_val - lower_val)/num_shapes\n",
    "    x_vals = np.linspace(lower_val, upper_val, num_shapes*2+1)\n",
    "    f_vals = function(x_vals)\n",
    "    weights = np.ones(len(f_vals)) # Start with all weights equal to 1, then use slicing magic\n",
    "    weights[1::2] = 4 # Set every other value, starting with the second, to 4\n",
    "    weights[2:-1:2] = 2 # Set every other value, starting with the third, and not including the last, to 2\n",
    "    #print(weights) # Definitely use a debug statement here to check we got what we expected!!\n",
    "    return h/6*np.sum(f_vals*weights)\n",
    "\n",
    "current_area = simpson_rule(compute_ex2, 0.5, 2, 5)\n",
    "\n",
    "print(f\"I have computed the integral to be {current_area} with numerical integration using Simpson's rule\")"
   ]
  },
  {
   "cell_type": "markdown",
   "metadata": {
    "id": "qpSEyFJSS-aM"
   },
   "source": [
    "## Exercise\n",
    "\n",
    "Make a plot of the accuracy of the integral of $e^{-x^2}dx$ between $x=0.5$ and $x=2$ computed using Simpson's rule.\n",
    "\n",
    "The x-axis of the plot should be the number of shapes used in the integral. Vary this between 1 shape and 100 shapes. The y-axis should show the value of the integral.\n",
    "\n",
    "**HINT** As before, you don't need to write any integration code here, it's all provided above."
   ]
  },
  {
   "cell_type": "code",
   "execution_count": null,
   "metadata": {
    "id": "fCt5t6qKwC5V"
   },
   "outputs": [],
   "source": [
    "# ADD CODE HERE\n"
   ]
  },
  {
   "cell_type": "markdown",
   "metadata": {
    "id": "Gg9Z4kb2TaBW"
   },
   "source": [
    "## Exercise\n",
    "\n",
    "TL:DR: Now repeat the process but plot the accuracy using Simpson's rule, Trapezium rule and rectangle rule on the same plot!\n",
    "\n",
    "Longer: Make a plot of the accuracy of the integral of $e^{-x^2}dx$ between $x=0.5$ and $x=2$ computed using Simpson's rule, Trapezium rule and the Rectangle rule. Show the 3 lines on the same plot.\n",
    "\n",
    "The x-axis of the plot should be the number of shapes used in the integral. Vary this between 1 shape and 100 shapes. The y-axis should show the value of the integral.\n",
    "\n",
    "**HINT** As before, you don't need to write any integration code here, it's all provided above."
   ]
  },
  {
   "cell_type": "code",
   "execution_count": null,
   "metadata": {
    "id": "AxL3iqc8jO2G"
   },
   "outputs": [],
   "source": [
    "# ADD CODE HERE"
   ]
  },
  {
   "cell_type": "markdown",
   "metadata": {
    "id": "Pe-NpJmocSid"
   },
   "source": [
    "## Exercise\n",
    "\n",
    "Again, repeat the process for the other two integrals:\n",
    "\n",
    "Make a plot of the accuracy of $\\int_1^3\\frac{\\sin{x}}{x} dx$ computed using the \"rectangle rule\", the \"trapezium rule\" and \"Simpson's rule\"\n",
    "\n",
    "The x-axis of the plot should be the number of shapes used in the integral vary this between 1 and 100 shapes. The y-axis should show the value of the integral.\n",
    "\n",
    "**HINT** All you have to do is copy the previous solution and change the function used, and the range used. I computed the integral to be roughly 0.90257."
   ]
  },
  {
   "cell_type": "code",
   "execution_count": null,
   "metadata": {
    "id": "isV-nTNLcMYv"
   },
   "outputs": [],
   "source": [
    "# ADD CODE HERE"
   ]
  },
  {
   "cell_type": "markdown",
   "metadata": {
    "id": "1JJiU48mc9N2"
   },
   "source": [
    "Make a plot of the accuracy of $\\int_1^3 \\sqrt{\\sin{x}} dx$ computed using the \"rectangle rule\", the \"trapezium rule\" and \"Simpson's rule\"\n",
    "\n",
    "The x-axis of the plot should be the number of shapes used in the integral vary this between 1 and 100 shapes. The y-axis should show the value of the integral.\n",
    "\n",
    "I computed the integral to be 1.717835 here.\n"
   ]
  },
  {
   "cell_type": "code",
   "execution_count": null,
   "metadata": {
    "id": "vqwwTxYacuYg"
   },
   "outputs": [],
   "source": [
    "# ADD CODE HERE"
   ]
  },
  {
   "cell_type": "markdown",
   "metadata": {
    "id": "89j5tMpEePOX"
   },
   "source": [
    "## Exercise\n",
    "\n",
    "Compute the integral:\n",
    "\n",
    "$$\\int_{0.2}^{0.5} \\tan(x) dx$$\n",
    "\n",
    "using numerical integration"
   ]
  },
  {
   "cell_type": "code",
   "execution_count": null,
   "metadata": {
    "id": "1wOOrLCLed2m"
   },
   "outputs": [],
   "source": []
  },
  {
   "cell_type": "markdown",
   "metadata": {
    "id": "EN6hRabIfCgX"
   },
   "source": [
    "## Exercise\n",
    "\n",
    "Compute the integral\n",
    "\n",
    "$$\\int_0^{20} e ^ {\\sin(x)} dx $$"
   ]
  },
  {
   "cell_type": "code",
   "execution_count": null,
   "metadata": {
    "id": "w55U--3KfMf_"
   },
   "outputs": [],
   "source": []
  },
  {
   "cell_type": "markdown",
   "metadata": {
    "id": "FcyedscQfmyO"
   },
   "source": [
    "## Exercise\n",
    "\n",
    "Compute the integral\n",
    "\n",
    "$$\\int_1^{100} \\frac{\\ln (x + 1)}{x} dx $$"
   ]
  },
  {
   "cell_type": "code",
   "execution_count": null,
   "metadata": {
    "id": "klZJOZhgftwH"
   },
   "outputs": [],
   "source": []
  },
  {
   "cell_type": "markdown",
   "metadata": {
    "id": "j0lKHr_afu8G"
   },
   "source": [
    "## Exercise\n",
    "\n",
    "Compute the integral:\n",
    "\n",
    "$$\\int_{1}^{2} \\tan(x) dx$$\n",
    "\n",
    "using numerical integration.\n",
    "\n",
    "**WARNING** There's a catch in this one! Maybe try plotting $\\tan(x)$ in this interval first?? If you can see the catch, is it still possible to integrate this?"
   ]
  },
  {
   "cell_type": "code",
   "execution_count": null,
   "metadata": {
    "id": "-hx6LL31f3Pn"
   },
   "outputs": [],
   "source": []
  },
  {
   "cell_type": "code",
   "execution_count": null,
   "metadata": {
    "id": "cZHrRlqoFA--"
   },
   "outputs": [],
   "source": []
  },
  {
   "cell_type": "code",
   "execution_count": null,
   "metadata": {
    "id": "xSmnvBgMFBCR"
   },
   "outputs": [],
   "source": []
  },
  {
   "cell_type": "code",
   "execution_count": null,
   "metadata": {
    "id": "EzyFrz9MFBE-"
   },
   "outputs": [],
   "source": []
  },
  {
   "cell_type": "code",
   "execution_count": null,
   "metadata": {
    "id": "Vg1l0sNjeitI"
   },
   "outputs": [],
   "source": []
  }
 ],
 "metadata": {
  "colab": {
   "collapsed_sections": [
    "bvB6W-0iJFuP"
   ],
   "provenance": []
  },
  "kernelspec": {
   "display_name": "Python 3 (ipykernel)",
   "language": "python",
   "name": "python3"
  },
  "language_info": {
   "codemirror_mode": {
    "name": "ipython",
    "version": 3
   },
   "file_extension": ".py",
   "mimetype": "text/x-python",
   "name": "python",
   "nbconvert_exporter": "python",
   "pygments_lexer": "ipython3",
   "version": "3.9.7"
  }
 },
 "nbformat": 4,
 "nbformat_minor": 1
}
