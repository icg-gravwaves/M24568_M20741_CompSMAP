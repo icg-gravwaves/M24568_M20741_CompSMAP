{
 "cells": [
  {
   "cell_type": "markdown",
   "metadata": {
    "id": "oIjL_oANJ_ok"
   },
   "source": [
    "# The Trapezium rule\n",
    "\n",
    "The rectangle rule is a \"0th order\" solution for numerical integration. Let's now consider a \"1st order\" solution. The difference is that with rectangles we are assuming that the value of the function is constant over the rectangle and jumps to a new value when we get to next one. What if instead the function varied (in a straight line) between each point. To do that we use trapeziums instead of rectangles, and we need to evaluate the value of the function at the *edge* of each trapezium not in the middle.\n",
    "\n",
    "Let's visualize what this would look like with 3 trapeziums, and compare to the rectangles used previously (we use a small number of shapes to make it easier to see the trapeziums)"
   ]
  },
  {
   "cell_type": "markdown",
   "metadata": {
    "id": "dz_WScyIZK6J"
   },
   "source": [
    "![Illustration of trapeziums and rectangles](https://raw.githubusercontent.com/icg-gravwaves/M24568_M20741_CompSMAP/main/lecture_10/images/Part3_Image1.png)"
   ]
  },
  {
   "cell_type": "markdown",
   "metadata": {
    "id": "LSDRu7Ewj9v_"
   },
   "source": [
    "Here the red line is the actual curve, the green is the rectangles used in the rectangular method, and the yellow is the area used in the trapezium rule. It looks like the yellow and red agree almost perfectly."
   ]
  },
  {
   "cell_type": "markdown",
   "metadata": {
    "id": "yNzhFiSPZwbO"
   },
   "source": [
    "As before to compute the integral we need to compute the area of each of the trapeziums and sum them up to get an approximation of the integral. If you are happy to try this out on your own, please proceed below. Otherwise we will guide you through the differences between this and the rectangle approach."
   ]
  },
  {
   "cell_type": "code",
   "execution_count": 1,
   "metadata": {
    "id": "dXmU3yGqZ6P_"
   },
   "outputs": [],
   "source": [
    "import numpy as np\n",
    "import matplotlib.pyplot as plt"
   ]
  },
  {
   "cell_type": "code",
   "execution_count": null,
   "metadata": {
    "id": "GmOPwQ7pkah2"
   },
   "outputs": [],
   "source": []
  },
  {
   "cell_type": "markdown",
   "metadata": {
    "id": "JcJrtuMeZ61t"
   },
   "source": [
    "One thing to highlight here is that there are a lot of similarities between the trapezium and rectangle approaches. The shapes have the same positions on the x-axis so we can re-use a lot of code from before. We do not compute any \"midpoints\" here, but `stepsize` and `rectangle_edges` can be used directly. (Copy them into this workbook)\n",
    "\n",
    "## STEP 1\n",
    "\n",
    "We do need a function to compute the area of a trapezium. Write a function `compute_trapeze_area(height_at_left, height_at_right, width)`. Note that the area of a trapeze is `(height_at_left + height_at_right)/2 * width`."
   ]
  },
  {
   "cell_type": "code",
   "execution_count": null,
   "metadata": {
    "id": "yPxmD_tVkngm"
   },
   "outputs": [],
   "source": []
  },
  {
   "cell_type": "code",
   "execution_count": null,
   "metadata": {
    "id": "esxKItopknpI"
   },
   "outputs": [],
   "source": []
  },
  {
   "cell_type": "code",
   "execution_count": null,
   "metadata": {
    "colab": {
     "base_uri": "https://localhost:8080/"
    },
    "id": "o0HOBUjqauJ8",
    "outputId": "86ae650b-7541-4e47-d3a2-b69709b9ce39"
   },
   "outputs": [
    {
     "name": "stdout",
     "output_type": "stream",
     "text": [
      "Should be 5\n",
      "Value computed was 5.0\n"
     ]
    }
   ],
   "source": [
    "def compute_trapeze_area(height_at_left, height_at_right, width):\n",
    "    # Complete function here\n",
    "\n",
    "\n",
    "\n",
    "# One example to test this\n",
    "example_area = compute_trapeze_area(3,2,2)\n",
    "print(\"Should be 5.0\")\n",
    "print(f\"Value computed was {example_area}\")"
   ]
  },
  {
   "cell_type": "markdown",
   "metadata": {
    "id": "QRrjT2OPbBIl"
   },
   "source": [
    "## STEP 2\n",
    "\n",
    "We now have everything we need (we're deliberately using fewer steps here than when we introduced the rectangle rule). Write a function `compute_trapeze_integral(function, lower_val, upper_val, num_rectangles)`. The `function` should be the function to compute (ie. compute_ex2) in the example above, `lower_val` is the lower value of integration, `upper_val` is the upper value and `num_trapeziums` is the number of trapeziums to use. Here's roughly how this should work:\n",
    "\n",
    "1. Call `rectangle_edges` to get the edges of your trapeziums (maybe rename the function if you want to avoid the confusion of calling something with rectangle in the name)\n",
    "1. Call `compute_step_size` to get the step size.\n",
    "1. Call `function` to get the y_values (the heights) of your trapeziums at all the edges.\n",
    "1. For all trapeziums use `compute_trapeze_area` to compute the area.\n",
    "1. Sum over all trapezium areas.\n",
    "1. Return the integral."
   ]
  },
  {
   "cell_type": "code",
   "execution_count": null,
   "metadata": {
    "colab": {
     "base_uri": "https://localhost:8080/"
    },
    "id": "5PFFK6e9auKv",
    "outputId": "2cbad56e-284f-4177-fce4-38d1ea2b57b6"
   },
   "outputs": [
    {
     "name": "stdout",
     "output_type": "stream",
     "text": [
      "Integral should be 0.42919855086111813\n",
      "Integral was computed to be 0.4261447643956601\n"
     ]
    }
   ],
   "source": [
    "def compute_trapeze_integral(function, lower_val, upper_val, num_trapeziums):\n",
    "    # Complete function below\n",
    "\n",
    "\n",
    "# Checking that it works\n",
    "integral = compute_trapeze_integral(compute_ex2, 0.5, 2, 5)\n",
    "print(\"Integral should be 0.4261447643956601\")\n",
    "print(f\"Integral was computed to be {integral}\")"
   ]
  },
  {
   "cell_type": "markdown",
   "metadata": {
    "id": "D5gtGy50ophI"
   },
   "source": [
    "## Exercise\n",
    "\n",
    "Make a plot of the accuracy of the integral of $e^{-x^2}dx$ between $x=0.5$ and $x=2$ computed using the \"rectangle rule\" *and* using the trapezium rule. Plot both on the same plot using two different lines.\n",
    "\n",
    "The x-axis of the plot should be the number of rectangles used in the integral vary this between 1 rectangle and 100 rectangles. The y-axis should show the value of the integral.\n",
    "\n",
    "**HINT** As before, you don't need to write any integration code here, by this stage you've already written it all!"
   ]
  },
  {
   "cell_type": "code",
   "execution_count": null,
   "metadata": {
    "id": "YAsquB2vokhK"
   },
   "outputs": [],
   "source": [
    "# ADD CODE HERE\n",
    "\n"
   ]
  },
  {
   "cell_type": "markdown",
   "metadata": {
    "id": "vr0VHsNbUY5m"
   },
   "source": [
    "## Exercise\n",
    "\n",
    "Again, repeat the process for the other two integrals:\n",
    "\n",
    "Make a plot of the accuracy of $\\int_1^3\\frac{\\sin{x}}{x} dx$ computed using the \"rectangle rule\", and the \"trapezium rule\".\n",
    "\n",
    "The x-axis of the plot should be the number of rectangles/trapeziums used in the integral vary this between 1 and 100 shapes. The y-axis should show the value of the integral.\n",
    "\n",
    "**HINT** All you have to do is copy the previous solution and change the function used, and the range used. I computed the integral to be roughly 0.90257."
   ]
  },
  {
   "cell_type": "code",
   "execution_count": null,
   "metadata": {
    "id": "7l_dtJXBpXbW"
   },
   "outputs": [],
   "source": [
    "# ADD CODE HERE\n"
   ]
  },
  {
   "cell_type": "markdown",
   "metadata": {
    "id": "7_kpZ6sSUgXM"
   },
   "source": [
    "Make a plot of the accuracy of $\\int_1^3 \\sqrt{\\sin{x}} dx$ computed using the \"rectangle rule\", and the \"trapezium rule\"\n",
    "\n",
    "The x-axis of the plot should be the number of rectangles/trapeziums used in the integral vary this between 1 and 100 shapes. The y-axis should show the value of the integral.\n",
    "\n",
    "I computed the integral to be 1.717835 here.\n"
   ]
  },
  {
   "cell_type": "code",
   "execution_count": null,
   "metadata": {
    "id": "cuG3srSBUkwe"
   },
   "outputs": [],
   "source": [
    "# ADD CODE HERE\n"
   ]
  },
  {
   "cell_type": "code",
   "execution_count": null,
   "metadata": {
    "id": "Vg1l0sNjeitI"
   },
   "outputs": [],
   "source": []
  }
 ],
 "metadata": {
  "colab": {
   "collapsed_sections": [
    "bvB6W-0iJFuP"
   ],
   "provenance": []
  },
  "kernelspec": {
   "display_name": "Python 3 (ipykernel)",
   "language": "python",
   "name": "python3"
  },
  "language_info": {
   "codemirror_mode": {
    "name": "ipython",
    "version": 3
   },
   "file_extension": ".py",
   "mimetype": "text/x-python",
   "name": "python",
   "nbconvert_exporter": "python",
   "pygments_lexer": "ipython3",
   "version": "3.9.7"
  }
 },
 "nbformat": 4,
 "nbformat_minor": 1
}
