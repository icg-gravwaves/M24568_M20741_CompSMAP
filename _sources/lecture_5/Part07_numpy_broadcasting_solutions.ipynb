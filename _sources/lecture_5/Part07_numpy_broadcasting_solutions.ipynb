{
 "cells": [
  {
   "cell_type": "markdown",
   "metadata": {
    "id": "rPjKCR8NcWEz"
   },
   "source": [
    "# Broadcasting - SOLVED\n",
    "\n",
    "There are times when you might want to carry out an operation between an array and a single number (also called an operation between a vector and a scalar) or between arrays of two different sizes.\n",
    "\n",
    "NumPy understands that the multiplication should happen with each cell. That concept is called broadcasting. Broadcasting is a mechanism that allows NumPy to perform operations on arrays of different shapes. The dimensions of your array must be compatible, for example, when the dimensions of both arrays are equal or when one of them is 1. If the dimensions are not compatible, you will get a ValueError."
   ]
  },
  {
   "cell_type": "code",
   "execution_count": 2,
   "metadata": {
    "executionInfo": {
     "elapsed": 362,
     "status": "ok",
     "timestamp": 1698854693096,
     "user": {
      "displayName": "Samantha Penny",
      "userId": "15930921040156864267"
     },
     "user_tz": 0
    },
    "id": "FK9Hn2kC-Y0V"
   },
   "outputs": [],
   "source": [
    "import numpy as np #Run this cell or none of the np commands will work"
   ]
  },
  {
   "cell_type": "code",
   "execution_count": null,
   "metadata": {
    "colab": {
     "base_uri": "https://localhost:8080/"
    },
    "id": "2nOcR_RjaJzP",
    "outputId": "6f946687-5eff-42cb-a3db-ae89195eefeb"
   },
   "outputs": [
    {
     "name": "stdout",
     "output_type": "stream",
     "text": [
      "[ 4 12]\n"
     ]
    }
   ],
   "source": [
    "data_array = np.array([2, 6])\n",
    "print(data_array * 2)"
   ]
  },
  {
   "cell_type": "code",
   "execution_count": null,
   "metadata": {
    "colab": {
     "base_uri": "https://localhost:8080/"
    },
    "id": "VfQWTdt-hYOD",
    "outputId": "e5ddda01-807e-43c5-9b82-4e212fa0e020"
   },
   "outputs": [
    {
     "name": "stdout",
     "output_type": "stream",
     "text": [
      "[[10.  6.]\n",
      " [ 6. 24.]]\n"
     ]
    }
   ],
   "source": [
    "data_array_other = np.array([[5., 1.], [3., 4.]])\n",
    "print(data_array * data_array_other) # try to guess how did it work"
   ]
  },
  {
   "cell_type": "code",
   "execution_count": null,
   "metadata": {
    "colab": {
     "base_uri": "https://localhost:8080/",
     "height": 180
    },
    "id": "TNpPezXGhvw2",
    "outputId": "6f092128-b864-41b8-a266-75b78ec7d17c"
   },
   "outputs": [
    {
     "ename": "ValueError",
     "evalue": "ignored",
     "output_type": "error",
     "traceback": [
      "\u001b[0;31m---------------------------------------------------------------------------\u001b[0m",
      "\u001b[0;31mValueError\u001b[0m                                Traceback (most recent call last)",
      "\u001b[0;32m<ipython-input-34-aa77d675db8d>\u001b[0m in \u001b[0;36m<module>\u001b[0;34m()\u001b[0m\n\u001b[1;32m      1\u001b[0m \u001b[0mdata_array_diff\u001b[0m \u001b[0;34m=\u001b[0m \u001b[0mnp\u001b[0m\u001b[0;34m.\u001b[0m\u001b[0marray\u001b[0m\u001b[0;34m(\u001b[0m\u001b[0;34m[\u001b[0m\u001b[0;34m[\u001b[0m\u001b[0;36m5.\u001b[0m\u001b[0;34m,\u001b[0m \u001b[0;36m1.\u001b[0m\u001b[0;34m,\u001b[0m \u001b[0;36m7.\u001b[0m\u001b[0;34m]\u001b[0m\u001b[0;34m,\u001b[0m \u001b[0;34m[\u001b[0m\u001b[0;36m3.\u001b[0m\u001b[0;34m,\u001b[0m \u001b[0;36m4.\u001b[0m\u001b[0;34m,\u001b[0m \u001b[0;36m6.\u001b[0m\u001b[0;34m]\u001b[0m\u001b[0;34m]\u001b[0m\u001b[0;34m)\u001b[0m\u001b[0;34m\u001b[0m\u001b[0;34m\u001b[0m\u001b[0m\n\u001b[0;32m----> 2\u001b[0;31m \u001b[0mprint\u001b[0m\u001b[0;34m(\u001b[0m\u001b[0mdata_array\u001b[0m \u001b[0;34m*\u001b[0m \u001b[0mdata_array_diff\u001b[0m\u001b[0;34m)\u001b[0m\u001b[0;34m\u001b[0m\u001b[0;34m\u001b[0m\u001b[0m\n\u001b[0m",
      "\u001b[0;31mValueError\u001b[0m: operands could not be broadcast together with shapes (2,) (2,3) "
     ]
    }
   ],
   "source": [
    "data_array_diff = np.array([[5., 1., 7.], [3., 4., 6.]])\n",
    "print(data_array * data_array_diff)"
   ]
  },
  {
   "cell_type": "markdown",
   "metadata": {
    "id": "7MKirzbc2oDc"
   },
   "source": [
    "## Exercise 6.1\n",
    "\n",
    "Without using ``np.full`` create a function that has two inputs\n",
    "- ``size``, an int.\n",
    "- ``value``, a float or an int.\n",
    "\n",
    "You function should return a one-dimensional numpy array so that it has the given ``size`` (from the input) and all its elements are equal to ``value``."
   ]
  },
  {
   "cell_type": "code",
   "execution_count": 1,
   "metadata": {
    "executionInfo": {
     "elapsed": 3,
     "status": "ok",
     "timestamp": 1698854271006,
     "user": {
      "displayName": "Samantha Penny",
      "userId": "15930921040156864267"
     },
     "user_tz": 0
    },
    "id": "0pRh_WSy2oDc"
   },
   "outputs": [],
   "source": [
    "def make_array(size,value):\n",
    "  arr_1 = np.ones(size)\n",
    "  return arr_1 * value"
   ]
  },
  {
   "cell_type": "code",
   "execution_count": 3,
   "metadata": {
    "colab": {
     "base_uri": "https://localhost:8080/"
    },
    "executionInfo": {
     "elapsed": 559,
     "status": "ok",
     "timestamp": 1698854697343,
     "user": {
      "displayName": "Samantha Penny",
      "userId": "15930921040156864267"
     },
     "user_tz": 0
    },
    "id": "t3ra15cemxWU",
    "outputId": "2c391d9e-7441-4955-8f0e-d2b769efd82d"
   },
   "outputs": [
    {
     "name": "stdout",
     "output_type": "stream",
     "text": [
      "[5. 5. 5. 5. 5. 5. 5. 5. 5. 5.]\n"
     ]
    }
   ],
   "source": [
    "new_arr = make_array(10,5)\n",
    "print(new_arr)"
   ]
  },
  {
   "cell_type": "markdown",
   "metadata": {
    "id": "vIZ4eKNnN8vb"
   },
   "source": [
    "## Exercise 6.2\n",
    "\n",
    "In the cell below try to use broadcasting with between two array of different shape. If you get the ``ValueError``, make sure that you understand why it occured.  "
   ]
  },
  {
   "cell_type": "code",
   "execution_count": 4,
   "metadata": {
    "colab": {
     "base_uri": "https://localhost:8080/"
    },
    "executionInfo": {
     "elapsed": 400,
     "status": "ok",
     "timestamp": 1698854997311,
     "user": {
      "displayName": "Samantha Penny",
      "userId": "15930921040156864267"
     },
     "user_tz": 0
    },
    "id": "F3J7u8g4N8vc",
    "outputId": "17eabda1-c221-4bb9-f78e-9b9e781d34e7"
   },
   "outputs": [
    {
     "name": "stdout",
     "output_type": "stream",
     "text": [
      "[ 4 12]\n"
     ]
    }
   ],
   "source": [
    "data_array = np.array([2, 6])\n",
    "print(data_array * 2)"
   ]
  },
  {
   "cell_type": "code",
   "execution_count": 5,
   "metadata": {
    "colab": {
     "base_uri": "https://localhost:8080/"
    },
    "executionInfo": {
     "elapsed": 401,
     "status": "ok",
     "timestamp": 1698854999626,
     "user": {
      "displayName": "Samantha Penny",
      "userId": "15930921040156864267"
     },
     "user_tz": 0
    },
    "id": "fYV4vLDXpYcw",
    "outputId": "6529a598-e61a-4fd9-b93c-43aae5c0a09b"
   },
   "outputs": [
    {
     "name": "stdout",
     "output_type": "stream",
     "text": [
      "[[10.  6.]\n",
      " [ 6. 24.]]\n"
     ]
    }
   ],
   "source": [
    "data_array_other = np.array([[5., 1.], [3., 4.]])\n",
    "print(data_array * data_array_other) # try to guess how did it work"
   ]
  },
  {
   "cell_type": "code",
   "execution_count": 6,
   "metadata": {
    "colab": {
     "base_uri": "https://localhost:8080/",
     "height": 194
    },
    "executionInfo": {
     "elapsed": 600,
     "status": "error",
     "timestamp": 1698855014277,
     "user": {
      "displayName": "Samantha Penny",
      "userId": "15930921040156864267"
     },
     "user_tz": 0
    },
    "id": "oKX3Ll1Rpdpb",
    "outputId": "ba323ac5-87d3-4d33-85a5-0de43cf20874"
   },
   "outputs": [
    {
     "ename": "ValueError",
     "evalue": "ignored",
     "output_type": "error",
     "traceback": [
      "\u001b[0;31m---------------------------------------------------------------------------\u001b[0m",
      "\u001b[0;31mValueError\u001b[0m                                Traceback (most recent call last)",
      "\u001b[0;32m<ipython-input-6-31d4b54bae85>\u001b[0m in \u001b[0;36m<cell line: 2>\u001b[0;34m()\u001b[0m\n\u001b[1;32m      1\u001b[0m \u001b[0mdata_array_diff\u001b[0m \u001b[0;34m=\u001b[0m \u001b[0mnp\u001b[0m\u001b[0;34m.\u001b[0m\u001b[0marray\u001b[0m\u001b[0;34m(\u001b[0m\u001b[0;34m[\u001b[0m\u001b[0;34m[\u001b[0m\u001b[0;36m5.\u001b[0m\u001b[0;34m,\u001b[0m \u001b[0;36m1.\u001b[0m\u001b[0;34m,\u001b[0m \u001b[0;36m7.\u001b[0m\u001b[0;34m]\u001b[0m\u001b[0;34m,\u001b[0m \u001b[0;34m[\u001b[0m\u001b[0;36m3.\u001b[0m\u001b[0;34m,\u001b[0m \u001b[0;36m4.\u001b[0m\u001b[0;34m,\u001b[0m \u001b[0;36m6.\u001b[0m\u001b[0;34m]\u001b[0m\u001b[0;34m]\u001b[0m\u001b[0;34m)\u001b[0m\u001b[0;34m\u001b[0m\u001b[0;34m\u001b[0m\u001b[0m\n\u001b[0;32m----> 2\u001b[0;31m \u001b[0mprint\u001b[0m\u001b[0;34m(\u001b[0m\u001b[0mdata_array\u001b[0m \u001b[0;34m*\u001b[0m \u001b[0mdata_array_diff\u001b[0m\u001b[0;34m)\u001b[0m\u001b[0;34m\u001b[0m\u001b[0;34m\u001b[0m\u001b[0m\n\u001b[0m",
      "\u001b[0;31mValueError\u001b[0m: operands could not be broadcast together with shapes (2,) (2,3) "
     ]
    }
   ],
   "source": [
    "data_array_diff = np.array([[5., 1., 7.], [3., 4., 6.]])\n",
    "print(data_array * data_array_diff)"
   ]
  },
  {
   "cell_type": "markdown",
   "metadata": {
    "id": "ymoyIS986Pmx"
   },
   "source": [
    "### Stacking"
   ]
  },
  {
   "cell_type": "markdown",
   "metadata": {
    "id": "rQulvRqJ3aLo"
   },
   "source": [
    "To allow broadcasting we may need to stack our 1d array to represent it as a 2d array, we do it as follows:"
   ]
  },
  {
   "cell_type": "code",
   "execution_count": null,
   "metadata": {
    "colab": {
     "base_uri": "https://localhost:8080/"
    },
    "executionInfo": {
     "elapsed": 322,
     "status": "ok",
     "timestamp": 1636632248541,
     "user": {
      "displayName": "Michal Gnacik",
      "photoUrl": "https://lh3.googleusercontent.com/a/default-user=s64",
      "userId": "16747943028598227166"
     },
     "user_tz": 0
    },
    "id": "F0k7-WZE3jeC",
    "outputId": "a8a9191f-ef1a-41d6-b847-74a9d7f55a70"
   },
   "outputs": [
    {
     "name": "stdout",
     "output_type": "stream",
     "text": [
      "Original array before verfical stacking is [1 2 3 4]\n",
      "Verfically stacked array is [[1]\n",
      " [2]\n",
      " [3]\n",
      " [4]]\n"
     ]
    }
   ],
   "source": [
    "one_dim_array = np.array([1, 2, 3, 4])\n",
    "vert_stack = np.vstack(one_dim_array)\n",
    "\n",
    "\n",
    "print(f\"Original array before verfical stacking is {one_dim_array}\")\n",
    "print(f\"Verfically stacked array is {vert_stack}\")\n"
   ]
  },
  {
   "cell_type": "markdown",
   "metadata": {
    "id": "r--BYjaT5KE0"
   },
   "source": [
    "You may also vertically stack two arrays"
   ]
  },
  {
   "cell_type": "code",
   "execution_count": null,
   "metadata": {
    "colab": {
     "base_uri": "https://localhost:8080/"
    },
    "executionInfo": {
     "elapsed": 806,
     "status": "ok",
     "timestamp": 1636632666829,
     "user": {
      "displayName": "Michal Gnacik",
      "photoUrl": "https://lh3.googleusercontent.com/a/default-user=s64",
      "userId": "16747943028598227166"
     },
     "user_tz": 0
    },
    "id": "nL6IpnOW4xSw",
    "outputId": "7117552e-b820-4056-fe8f-c4dd1adf53f8"
   },
   "outputs": [
    {
     "name": "stdout",
     "output_type": "stream",
     "text": [
      "Verfically stacked array is [[1 2]\n",
      " [3 4]\n",
      " [5 6]]\n"
     ]
    }
   ],
   "source": [
    "first_array = np.array([[1, 2], [3, 4]])\n",
    "sec_array = np.array([[5, 6]])\n",
    "vert_stack = np.vstack((first_array, sec_array))\n",
    "print(f\"Verfically stacked array is {vert_stack}\")\n"
   ]
  },
  {
   "cell_type": "markdown",
   "metadata": {
    "id": "StKgXG1G6bro"
   },
   "source": [
    "## Exercise 6.3\n",
    "\n",
    "a) Create a one dimensional array and stack it to form a two dimensional array. Print your results.\n",
    "\n",
    "b) Create two two dimensional arrays with the same number of columns (same width) then stack them into one array. Print your results."
   ]
  },
  {
   "cell_type": "code",
   "execution_count": 7,
   "metadata": {
    "colab": {
     "base_uri": "https://localhost:8080/"
    },
    "executionInfo": {
     "elapsed": 455,
     "status": "ok",
     "timestamp": 1698855158507,
     "user": {
      "displayName": "Samantha Penny",
      "userId": "15930921040156864267"
     },
     "user_tz": 0
    },
    "id": "pZsMoiRq6b-v",
    "outputId": "7f6ef7cd-f520-4850-9722-d134a511b172"
   },
   "outputs": [
    {
     "name": "stdout",
     "output_type": "stream",
     "text": [
      "Here is the first array stacked: [[0]\n",
      " [1]\n",
      " [2]\n",
      " [3]\n",
      " [4]\n",
      " [5]\n",
      " [6]\n",
      " [7]\n",
      " [8]\n",
      " [9]]\n",
      "Here is the second array stacked: [[1 2 3]\n",
      " [3 4 5]\n",
      " [9 3 4]\n",
      " [1 2 3]\n",
      " [3 4 5]]\n"
     ]
    }
   ],
   "source": [
    "#a)\n",
    "\n",
    "my_array = np.arange(10)\n",
    "stack_array = np.vstack(my_array)\n",
    "print(f\"Here is the first array stacked: {stack_array}\")\n",
    "\n",
    "#b)\n",
    "\n",
    "my_array1 = np.array([[1, 2, 3], [3, 4, 5]])\n",
    "my_array2 = np.array([[9, 3, 4], [1, 2, 3], [3, 4, 5]])\n",
    "stack_array = np.vstack((my_array1, my_array2))\n",
    "print(f\"Here is the second array stacked: {stack_array}\")"
   ]
  },
  {
   "cell_type": "markdown",
   "metadata": {
    "id": "TcwY9z2q5nTp"
   },
   "source": [
    "We can also do horizontal stacking"
   ]
  },
  {
   "cell_type": "code",
   "execution_count": null,
   "metadata": {
    "colab": {
     "base_uri": "https://localhost:8080/"
    },
    "executionInfo": {
     "elapsed": 314,
     "status": "ok",
     "timestamp": 1636632292365,
     "user": {
      "displayName": "Michal Gnacik",
      "photoUrl": "https://lh3.googleusercontent.com/a/default-user=s64",
      "userId": "16747943028598227166"
     },
     "user_tz": 0
    },
    "id": "_ChJKETT4EVY",
    "outputId": "50cb1e30-6e30-45e3-95aa-616ebc8f9c64"
   },
   "outputs": [
    {
     "name": "stdout",
     "output_type": "stream",
     "text": [
      "Original array before horizontal stacking is [[1, 2], [2, 3], [3, 4]]\n",
      "Horizontally stacked array is [1 2 2 3 3 4]\n"
     ]
    }
   ],
   "source": [
    "org_array = [[1, 2], [2, 3], [3, 4]]\n",
    "horz_stack = np.hstack(org_array)\n",
    "\n",
    "print(f\"Original array before horizontal stacking is {org_array}\")\n",
    "print(f\"Horizontally stacked array is {horz_stack}\")"
   ]
  },
  {
   "cell_type": "markdown",
   "metadata": {
    "id": "VGADRerz5ury"
   },
   "source": [
    "You can also horizontally stack two arrays"
   ]
  },
  {
   "cell_type": "code",
   "execution_count": null,
   "metadata": {
    "colab": {
     "base_uri": "https://localhost:8080/"
    },
    "executionInfo": {
     "elapsed": 301,
     "status": "ok",
     "timestamp": 1636632627111,
     "user": {
      "displayName": "Michal Gnacik",
      "photoUrl": "https://lh3.googleusercontent.com/a/default-user=s64",
      "userId": "16747943028598227166"
     },
     "user_tz": 0
    },
    "id": "yZejjutW5yfT",
    "outputId": "5a365caf-dc9b-4e23-b5af-e564a9981013"
   },
   "outputs": [
    {
     "name": "stdout",
     "output_type": "stream",
     "text": [
      "Horizontally stacked array is [[1 6 5 4]\n",
      " [3 4 2 3]]\n"
     ]
    }
   ],
   "source": [
    "first_array = np.array([[1, 6], [3, 4]])\n",
    "sec_array = np.array([[5, 4], [2, 3]])\n",
    "horz_stack = np.hstack((first_array, sec_array))\n",
    "\n",
    "\n",
    "print(f\"Horizontally stacked array is {horz_stack}\")"
   ]
  },
  {
   "cell_type": "markdown",
   "metadata": {
    "id": "1VGIK0_d7YI2"
   },
   "source": [
    "## Exercise 6.4\n",
    "\n",
    "a) Create a two dimensional array and stack it horizontally to form a one dimensional array. Print your result.\n",
    "\n",
    "b) Create two two dimensional arrays with the same number of rows (same height) then stack them horizontally into one array. Print your results"
   ]
  },
  {
   "cell_type": "code",
   "execution_count": 10,
   "metadata": {
    "colab": {
     "base_uri": "https://localhost:8080/"
    },
    "executionInfo": {
     "elapsed": 418,
     "status": "ok",
     "timestamp": 1698855339705,
     "user": {
      "displayName": "Samantha Penny",
      "userId": "15930921040156864267"
     },
     "user_tz": 0
    },
    "id": "EproaXrO79MV",
    "outputId": "ae95dd0e-496f-4508-b3c6-0c67455479bb"
   },
   "outputs": [
    {
     "name": "stdout",
     "output_type": "stream",
     "text": [
      "Horizontal stack of first array: [1 2 3 7 3 4 5 6]\n",
      "\n",
      "Horizontal stack of second array: \n",
      "[[1 2 3 9 3 4 4 6 8]\n",
      " [3 4 5 1 2 3 4 9 8]]\n"
     ]
    }
   ],
   "source": [
    "#a)\n",
    "\n",
    "my_array = np.array([[1, 2, 3, 7],[3, 4, 5, 6]])\n",
    "stack_array = np.hstack(my_array)\n",
    "print(f\"Horizontal stack of first array: {stack_array}\")\n",
    "\n",
    "#b)\n",
    "\n",
    "my_array1 = np.array([[1, 2, 3,], [3, 4, 5,]])\n",
    "my_array2 = np.array([[9, 3, 4, 4, 6, 8], [1, 2, 3, 4, 9, 8]])\n",
    "stack_array = np.hstack((my_array1, my_array2))\n",
    "print(f\"\"\"\n",
    "Horizontal stack of second array:\n",
    "{stack_array}\"\"\")"
   ]
  }
 ],
 "metadata": {
  "colab": {
   "authorship_tag": "ABX9TyMrW2zRFly0YVBw1MAfZhIk",
   "provenance": []
  },
  "kernelspec": {
   "display_name": "Python 3 (ipykernel)",
   "language": "python",
   "name": "python3"
  },
  "language_info": {
   "name": "python"
  }
 },
 "nbformat": 4,
 "nbformat_minor": 1
}
