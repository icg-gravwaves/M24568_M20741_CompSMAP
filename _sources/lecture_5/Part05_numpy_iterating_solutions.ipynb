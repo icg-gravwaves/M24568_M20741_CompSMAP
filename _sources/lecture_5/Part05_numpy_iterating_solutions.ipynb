{
 "cells": [
  {
   "cell_type": "markdown",
   "metadata": {
    "id": "9zf01w9xbtvI"
   },
   "source": [
    "# Iterating over an numpy array - SOLVED\n",
    "\n",
    "To iterate over the rows of a 2d numpy array we use:"
   ]
  },
  {
   "cell_type": "code",
   "execution_count": null,
   "metadata": {
    "id": "Yn1mU0E08ngo"
   },
   "outputs": [],
   "source": [
    "import numpy as np #Run this cell or none of the np commands will work"
   ]
  },
  {
   "cell_type": "code",
   "execution_count": null,
   "metadata": {
    "colab": {
     "base_uri": "https://localhost:8080/"
    },
    "executionInfo": {
     "elapsed": 389,
     "status": "ok",
     "timestamp": 1698768016742,
     "user": {
      "displayName": "Samantha Penny",
      "userId": "15930921040156864267"
     },
     "user_tz": 0
    },
    "id": "l_7Fa4E-bw_7",
    "outputId": "8422899c-168a-4225-b9f9-f524afd45850"
   },
   "outputs": [
    {
     "name": "stdout",
     "output_type": "stream",
     "text": [
      "######################\n",
      "the row is [1.4 2.3 5.3]\n",
      "######################\n",
      "the row is [1.5 3.2 6.7]\n"
     ]
    }
   ],
   "source": [
    "two_dim_array = np.array([[1.4, 2.3, 5.3],[1.5, 3.2, 6.7]])\n",
    "\n",
    "for row in two_dim_array:\n",
    "    print(\"######################\")\n",
    "    print(f\"the row is {row}\")"
   ]
  },
  {
   "cell_type": "markdown",
   "metadata": {
    "id": "dZsCOsaS2hq0"
   },
   "source": [
    "## Exercise 4.1\n",
    "\n",
    "Please evaluate the cell below."
   ]
  },
  {
   "cell_type": "code",
   "execution_count": null,
   "metadata": {
    "id": "BH1-r9jz2hq0"
   },
   "outputs": [],
   "source": [
    "two_dim_array_rand =  np.random.uniform(0, 100, size = (5, 10))"
   ]
  },
  {
   "cell_type": "markdown",
   "metadata": {
    "id": "3OqhPg7H_Stm"
   },
   "source": [
    "In the cell below iterate over each row of the above 2d numpy array, and print the (elementwise) square root of each row."
   ]
  },
  {
   "cell_type": "code",
   "execution_count": null,
   "metadata": {
    "colab": {
     "base_uri": "https://localhost:8080/"
    },
    "executionInfo": {
     "elapsed": 292,
     "status": "ok",
     "timestamp": 1698768110148,
     "user": {
      "displayName": "Samantha Penny",
      "userId": "15930921040156864267"
     },
     "user_tz": 0
    },
    "id": "nPC5EXe3_c9r",
    "outputId": "3bec98f9-f0b0-47db-c585-75bb55c10b53"
   },
   "outputs": [
    {
     "name": "stdout",
     "output_type": "stream",
     "text": [
      "######################\n",
      "the square root of the row [83.18831117 52.47275489  2.45411385  6.83428588 91.90321903 12.40267797\n",
      " 36.0111949  24.08914145 73.7281718  42.31896235] is 30.55080535248819.\n",
      "######################\n",
      "the square root of the row [32.65897531 18.79780814 33.04346565 83.34098514 67.33516714 38.79838185\n",
      " 14.14683332 69.3261518  34.14000727 96.94158866] is 26.833303564163973.\n",
      "######################\n",
      "the square root of the row [ 3.2702164  43.35002869 22.12230309 86.46795707 38.41941469 34.3707251\n",
      " 91.54505265 20.03942776 80.74434313 67.46210212] is 29.278352447020886.\n",
      "######################\n",
      "the square root of the row [87.76458264 62.64231177 47.07796805 93.56074851 98.72618016 31.88377881\n",
      " 33.53280247 84.77476322 22.71449012 56.81327062] is 26.529364785882258.\n",
      "######################\n",
      "the square root of the row [ 2.33253354 59.2443077  22.42631401  9.43871419  2.19546723 47.58592949\n",
      " 61.92071672 99.94834654 11.99618779 98.79790855] is 35.789983002572626.\n"
     ]
    }
   ],
   "source": [
    "for row in two_dim_array_rand:\n",
    "  sdev = np.std(row)\n",
    "  print(\"######################\")\n",
    "  print(f\"the square root of the row {row} is {sdev}.\")"
   ]
  },
  {
   "cell_type": "markdown",
   "metadata": {
    "id": "NjyUmnSdcMWm"
   },
   "source": [
    "To iterate *all* elements of the array we can use the ``flat`` function:"
   ]
  },
  {
   "cell_type": "code",
   "execution_count": null,
   "metadata": {
    "colab": {
     "base_uri": "https://localhost:8080/"
    },
    "id": "zRyrOCdZcU35",
    "outputId": "3b632033-18ff-4fba-8536-30b6be775ed4"
   },
   "outputs": [
    {
     "name": "stdout",
     "output_type": "stream",
     "text": [
      "######################\n",
      "the element is 1.4\n",
      "######################\n",
      "the element is 2.3\n",
      "######################\n",
      "the element is 5.3\n",
      "######################\n",
      "the element is 1.5\n",
      "######################\n",
      "the element is 3.2\n",
      "######################\n",
      "the element is 6.7\n"
     ]
    }
   ],
   "source": [
    "for element in two_dim_array.flat:\n",
    "    print(\"######################\")\n",
    "    print(f\"the element is {element}\")"
   ]
  },
  {
   "cell_type": "markdown",
   "metadata": {
    "id": "A2iWJCvSBAB6"
   },
   "source": [
    "but perhaps it is easier to understand this if we loop over the rows *and then* loop over the columns within this loop (so using nested looping as we introduced in the third week!)"
   ]
  },
  {
   "cell_type": "code",
   "execution_count": null,
   "metadata": {
    "colab": {
     "base_uri": "https://localhost:8080/"
    },
    "executionInfo": {
     "elapsed": 4,
     "status": "ok",
     "timestamp": 1666279959697,
     "user": {
      "displayName": "Ian Harry",
      "userId": "12539231435418418952"
     },
     "user_tz": -60
    },
    "id": "shNnQeinBOXW",
    "outputId": "c969780f-0ec4-4cc8-b5f8-2194897ec6f6"
   },
   "outputs": [
    {
     "name": "stdout",
     "output_type": "stream",
     "text": [
      "######################\n",
      "the element is 1.4\n",
      "######################\n",
      "the element is 2.3\n",
      "######################\n",
      "the element is 5.3\n",
      "######################\n",
      "the element is 1.5\n",
      "######################\n",
      "the element is 3.2\n",
      "######################\n",
      "the element is 6.7\n"
     ]
    }
   ],
   "source": [
    "for row in two_dim_array:\n",
    "    for element in row:\n",
    "        print(\"######################\")\n",
    "        print(f\"the element is {element}\")\n"
   ]
  },
  {
   "cell_type": "markdown",
   "metadata": {
    "id": "fvF5X2OV2iLs"
   },
   "source": [
    "## Exercise 4.2\n",
    "\n",
    "Please evaluate the cell below:"
   ]
  },
  {
   "cell_type": "code",
   "execution_count": null,
   "metadata": {
    "colab": {
     "base_uri": "https://localhost:8080/"
    },
    "executionInfo": {
     "elapsed": 308,
     "status": "ok",
     "timestamp": 1698768352179,
     "user": {
      "displayName": "Samantha Penny",
      "userId": "15930921040156864267"
     },
     "user_tz": 0
    },
    "id": "6kRlEEpA2iLs",
    "outputId": "aec77183-b718-4e1d-fe54-33058a425629"
   },
   "outputs": [
    {
     "name": "stdout",
     "output_type": "stream",
     "text": [
      "[[[1.13169973 9.76905622]\n",
      "  [9.0102443  8.6560646 ]\n",
      "  [0.3852     4.33477275]\n",
      "  [7.0685131  6.79397214]]\n",
      "\n",
      " [[0.01022187 3.52963969]\n",
      "  [2.81035945 6.98988701]\n",
      "  [6.91189417 5.77114685]\n",
      "  [2.86017778 8.73165679]]\n",
      "\n",
      " [[9.35091606 9.88628105]\n",
      "  [5.02850667 9.02716249]\n",
      "  [1.66208526 7.17957221]\n",
      "  [2.47400101 8.75195124]]\n",
      "\n",
      " [[6.28325582 2.94194586]\n",
      "  [0.76869755 4.77282471]\n",
      "  [7.17403101 7.25206593]\n",
      "  [5.63653023 8.08791847]]\n",
      "\n",
      " [[0.10231449 8.4750223 ]\n",
      "  [1.33082937 5.1385074 ]\n",
      "  [6.46399994 2.76536177]\n",
      "  [5.06544867 4.07532158]]]\n"
     ]
    }
   ],
   "source": [
    "three_dim_array =  np.random.uniform(0, 10, size = (5, 4, 2))\n",
    "print(three_dim_array)"
   ]
  },
  {
   "cell_type": "markdown",
   "metadata": {
    "id": "sKw7qSl7__qz"
   },
   "source": [
    "In the cell below iterate over each element of the array, and print the square of each element. (Note, that in this three dimensional array you would need *three* for loops if using nested loops. Using `flat` would certainly be easier here, but perhaps not so clear)"
   ]
  },
  {
   "cell_type": "code",
   "execution_count": null,
   "metadata": {
    "colab": {
     "base_uri": "https://localhost:8080/"
    },
    "executionInfo": {
     "elapsed": 5,
     "status": "ok",
     "timestamp": 1698768384720,
     "user": {
      "displayName": "Samantha Penny",
      "userId": "15930921040156864267"
     },
     "user_tz": 0
    },
    "id": "IL-lrDtP__1A",
    "outputId": "8202bee1-710d-4b4d-ec93-3d59abc74ab7"
   },
   "outputs": [
    {
     "name": "stdout",
     "output_type": "stream",
     "text": [
      "1.131699734627022\n",
      "9.769056219280351\n",
      "9.010244303622674\n",
      "8.65606460163018\n",
      "0.3852000026475866\n",
      "4.334772752003113\n",
      "7.068513095724102\n",
      "6.793972142514589\n",
      "0.010221873682785265\n",
      "3.529639691730443\n",
      "2.8103594544683084\n",
      "6.989887013030379\n",
      "6.911894170645569\n",
      "5.7711468488345865\n",
      "2.8601777848344256\n",
      "8.731656794325866\n",
      "9.35091606155366\n",
      "9.886281049016963\n",
      "5.028506669629396\n",
      "9.027162491117863\n",
      "1.662085260204591\n",
      "7.179572210160879\n",
      "2.474001010579575\n",
      "8.751951243606618\n",
      "6.283255821802555\n",
      "2.941945862040518\n",
      "0.768697547234265\n",
      "4.772824706024467\n",
      "7.174031008660263\n",
      "7.252065925112358\n",
      "5.636530226346615\n",
      "8.087918471772271\n",
      "0.10231449351210231\n",
      "8.475022303904256\n",
      "1.330829366066535\n",
      "5.138507403882433\n",
      "6.463999942788828\n",
      "2.765361769538993\n",
      "5.065448672210442\n",
      "4.075321576171756\n"
     ]
    }
   ],
   "source": [
    "for row in three_dim_array:\n",
    "  for column in row:\n",
    "    for val in column:\n",
    "      print(val)"
   ]
  },
  {
   "cell_type": "code",
   "execution_count": null,
   "metadata": {
    "id": "rNDe6MqXfHDV"
   },
   "outputs": [],
   "source": []
  }
 ],
 "metadata": {
  "colab": {
   "authorship_tag": "ABX9TyNsY07megK92tRs5ANN1XJh",
   "provenance": []
  },
  "kernelspec": {
   "display_name": "Python 3 (ipykernel)",
   "language": "python",
   "name": "python3"
  },
  "language_info": {
   "codemirror_mode": {
    "name": "ipython",
    "version": 3
   },
   "file_extension": ".py",
   "mimetype": "text/x-python",
   "name": "python",
   "nbconvert_exporter": "python",
   "pygments_lexer": "ipython3",
   "version": "3.9.7"
  }
 },
 "nbformat": 4,
 "nbformat_minor": 1
}
