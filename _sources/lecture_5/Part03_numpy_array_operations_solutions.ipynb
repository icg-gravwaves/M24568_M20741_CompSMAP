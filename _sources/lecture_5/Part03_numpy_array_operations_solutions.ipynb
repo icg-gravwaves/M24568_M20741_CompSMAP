{
 "cells": [
  {
   "cell_type": "markdown",
   "metadata": {
    "id": "85J1JDUOcO2u"
   },
   "source": [
    "# Basic array operations - SOLVED\n",
    "\n",
    "All arithmetic operators on numpy arrays apply **elementwise**.\n",
    "\n",
    "**Elementwise** operations are *really* powerful and we will be using them a lot!!! Let's illustrate this with some examples:\n"
   ]
  },
  {
   "cell_type": "code",
   "execution_count": 1,
   "metadata": {
    "executionInfo": {
     "elapsed": 5,
     "status": "ok",
     "timestamp": 1698766717607,
     "user": {
      "displayName": "Samantha Penny",
      "userId": "15930921040156864267"
     },
     "user_tz": 0
    },
    "id": "9LGgM_Gy7XuR"
   },
   "outputs": [],
   "source": [
    "import numpy as np # run this cell or the numpy commands won't run"
   ]
  },
  {
   "cell_type": "code",
   "execution_count": null,
   "metadata": {
    "id": "Lc6QoEw6cSI5"
   },
   "outputs": [],
   "source": [
    "array1 = np.array([10, 20, 13])\n",
    "array2 = np.arange(3)\n",
    "print(f\"array1 is {array1}, array2 is {array2}\")\n",
    "print(\"The (elementwise) sum of these two arrays\")\n",
    "print(array1 + array2)\n",
    "print(\"The (elementwise) difference of these two arrays\")\n",
    "print(array1 - array2)"
   ]
  },
  {
   "cell_type": "markdown",
   "metadata": {
    "id": "lLZ_1fFtZR-4"
   },
   "source": [
    "We can take the (elementwise) products:"
   ]
  },
  {
   "cell_type": "code",
   "execution_count": null,
   "metadata": {
    "id": "UfCRKv_kZZLi"
   },
   "outputs": [],
   "source": [
    "print(\"The (elementwise) product of these two arrays\")\n",
    "print(array1 * array2)"
   ]
  },
  {
   "cell_type": "markdown",
   "metadata": {
    "id": "Nbe9iUJa5ylZ"
   },
   "source": [
    "DO you see what this is doing?? Rather than having to loop over both arrays and multiply, or add, each pair of element together, we can do all of it in one command.\n",
    "\n",
    "So:\n",
    "\n",
    "```\n",
    "array_3 = array_1 * array_2\n",
    "```\n",
    "\n",
    "using numpy arrays is the same as doing\n",
    "\n",
    "```\n",
    "array_3 = []\n",
    "for idx in range(len(array_1)):\n",
    "    array_3.append(array_1[idx] * array_2[idx])\n",
    "```\n",
    "\n",
    "which is easier to read and quicker to write?\n",
    "\n",
    "You can also do things like:\n",
    "\n",
    "```\n",
    "array_1 = array_1 * 3\n",
    "```\n",
    "\n",
    "or even\n",
    "\n",
    "```\n",
    "array_1 *= 3\n",
    "```\n",
    "\n",
    "to multiply all values of array_1 by 3, rather than having to use a for loop for this."
   ]
  },
  {
   "cell_type": "markdown",
   "metadata": {
    "id": "6CaKyc1g1XqX"
   },
   "source": [
    "## Exercise 2.1\n",
    "\n",
    "In the cell below create two numpy arrays of the same size. One array should be created either by using ``np.arange`` or ``np.linspace``. Then add and subtruct them together (element-wise). Print the resulting arrays."
   ]
  },
  {
   "cell_type": "code",
   "execution_count": null,
   "metadata": {
    "colab": {
     "base_uri": "https://localhost:8080/"
    },
    "executionInfo": {
     "elapsed": 206,
     "status": "ok",
     "timestamp": 1698684420871,
     "user": {
      "displayName": "Samantha Penny",
      "userId": "15930921040156864267"
     },
     "user_tz": 0
    },
    "id": "DTmQHHUA1U41",
    "outputId": "65e83511-8e44-447b-9228-eb1cb4296fff"
   },
   "outputs": [
    {
     "name": "stdout",
     "output_type": "stream",
     "text": [
      "[3.         3.43333333 3.86666667 4.3        4.73333333 5.16666667\n",
      " 5.6        6.03333333 6.46666667 6.9       ]\n",
      "[1.         1.23333333 1.46666667 1.7        1.93333333 2.16666667\n",
      " 2.4        2.63333333 2.86666667 3.1       ]\n"
     ]
    }
   ],
   "source": [
    "array_one = np.linspace(2,5,10)\n",
    "array_two = np.arange(1,2,0.1)\n",
    "array_three = array_one + array_two\n",
    "array_four = array_one - array_two\n",
    "\n",
    "print(array_three)\n",
    "print(array_four)"
   ]
  },
  {
   "cell_type": "markdown",
   "metadata": {
    "id": "kmyuIBk91wlv"
   },
   "source": [
    "## Exercise 2.2\n",
    "\n",
    "In the cell below create one array by using ``np.linspace``, it should contain 5 equally spaced points in the interval $[0, 1]$ (so the first value should be 0, and the last value 1). Then raise this array to the power of three (element-wise) (ie. compute `value**3` for all values in the array). Print the resulting array. Then repeat the process but raise the array to the power of two (element-wise)."
   ]
  },
  {
   "cell_type": "code",
   "execution_count": 4,
   "metadata": {
    "colab": {
     "base_uri": "https://localhost:8080/"
    },
    "executionInfo": {
     "elapsed": 185,
     "status": "ok",
     "timestamp": 1698766945747,
     "user": {
      "displayName": "Samantha Penny",
      "userId": "15930921040156864267"
     },
     "user_tz": 0
    },
    "id": "48NS3loh2Ec5",
    "outputId": "46f016b7-10bc-4146-eeb8-d690ea549f33"
   },
   "outputs": [
    {
     "name": "stdout",
     "output_type": "stream",
     "text": [
      "[0.   0.25 0.5  0.75 1.  ]\n",
      "[0.       0.015625 0.125    0.421875 1.      ]\n",
      "[0.     0.0625 0.25   0.5625 1.    ]\n"
     ]
    }
   ],
   "source": [
    "new_array = np.linspace(0,1,5)\n",
    "print(new_array)\n",
    "\n",
    "cubed_array = new_array**3\n",
    "print(cubed_array)\n",
    "\n",
    "squared_array = new_array**2\n",
    "print(squared_array)"
   ]
  },
  {
   "cell_type": "markdown",
   "metadata": {
    "id": "eTjviHhrZir8"
   },
   "source": [
    "## Special functions\n",
    "We can use numpy mathematical functions to compute things like `sin` or the square root directly on all elements of an array, no loops required!"
   ]
  },
  {
   "cell_type": "code",
   "execution_count": null,
   "metadata": {
    "id": "3IVWGdN8Znvr"
   },
   "outputs": [],
   "source": [
    "array1 = np.linspace(0,4,20)\n",
    "\n",
    "print(\"The (elementwise) square root of array1 is\")\n",
    "print(np.sqrt(array1))\n",
    "print(\"The (elementwise) exp of array1 is\")\n",
    "print(np.exp(array1))\n",
    "print(\"The (elementwise) sin of array1 is\")\n",
    "print(np.sin(array1))"
   ]
  },
  {
   "cell_type": "markdown",
   "metadata": {
    "id": "-VwBrKN82PSN"
   },
   "source": [
    "## Exercise 2.3\n",
    "\n",
    "In the cell below create an array of $100$ equally spaced points from the interval $[0,10]$. Then print the array that contains the values of the function $\\cos$ evaluated on all points of this array.\n",
    "\n",
    "Example:    \n",
    "If we have an array of $[0, 1, 2]$ then  the array that contains the values of the function $\\cos$ evaluated at this array is $[\\cos(0), \\cos(1), \\cos(2)]$."
   ]
  },
  {
   "cell_type": "code",
   "execution_count": null,
   "metadata": {
    "colab": {
     "base_uri": "https://localhost:8080/"
    },
    "executionInfo": {
     "elapsed": 216,
     "status": "ok",
     "timestamp": 1698750517359,
     "user": {
      "displayName": "Samantha Penny",
      "userId": "15930921040156864267"
     },
     "user_tz": 0
    },
    "id": "lJhfkQQ12L-4",
    "outputId": "7f1362b0-14e7-4f9b-ecba-b27f0130058c"
   },
   "outputs": [
    {
     "name": "stdout",
     "output_type": "stream",
     "text": [
      "[ 1.          0.99490282  0.97966323  0.95443659  0.91948007  0.87515004\n",
      "  0.8218984   0.76026803  0.69088721  0.61446323  0.53177518  0.44366602\n",
      "  0.35103397  0.25482335  0.15601496  0.0556161  -0.04534973 -0.14585325\n",
      " -0.24486989 -0.34139023 -0.43443032 -0.52304166 -0.60632092 -0.68341913\n",
      " -0.75355031 -0.81599952 -0.87013012 -0.91539031 -0.95131866 -0.97754893\n",
      " -0.9938137  -0.99994717 -0.9958868  -0.981674   -0.95745366 -0.92347268\n",
      " -0.88007748 -0.82771044 -0.76690542 -0.69828229 -0.6225406  -0.54045251\n",
      " -0.45285485 -0.36064061 -0.26474988 -0.16616018 -0.06587659  0.03507857\n",
      "  0.13567613  0.23489055  0.33171042  0.4251487   0.51425287  0.59811455\n",
      "  0.67587883  0.74675295  0.8100144   0.86501827  0.91120382  0.94810022\n",
      "  0.97533134  0.99261957  0.99978867  0.99676556  0.98358105  0.96036956\n",
      "  0.9273677   0.88491192  0.83343502  0.77346177  0.70560358  0.63055219\n",
      "  0.54907273  0.46199582  0.37020915  0.27464844  0.17628785  0.07613012\n",
      " -0.0248037  -0.12548467 -0.2248864  -0.32199555 -0.41582217 -0.50540974\n",
      " -0.58984498 -0.66826712 -0.7398767  -0.8039437  -0.859815   -0.90692104\n",
      " -0.94478159 -0.97301068 -0.99132055 -0.99952453 -0.99753899 -0.98538417\n",
      " -0.96318398 -0.93116473 -0.88965286 -0.83907153]\n"
     ]
    }
   ],
   "source": [
    "narray = np.linspace(0.,10.,100)\n",
    "print(np.cos(narray))"
   ]
  },
  {
   "cell_type": "markdown",
   "metadata": {
    "id": "YR5pH3RWf1Mr"
   },
   "source": [
    "## Other important functions (including some from statistics)"
   ]
  },
  {
   "cell_type": "markdown",
   "metadata": {
    "id": "8OlwxAdWgLU8"
   },
   "source": [
    "## The sum"
   ]
  },
  {
   "cell_type": "code",
   "execution_count": null,
   "metadata": {
    "id": "t96m3Gdyf7oJ"
   },
   "outputs": [],
   "source": [
    "array_for_stats = np.array([3.4, 5.6, 7.8])\n",
    "print(\"The sum of the above array is\")\n",
    "print(np.sum(array_for_stats))\n",
    "print(\"or equivalently\")\n",
    "print(array_for_stats.sum())"
   ]
  },
  {
   "cell_type": "markdown",
   "metadata": {
    "id": "v1wikuhO2UFU"
   },
   "source": [
    "## Exercise 2.4\n",
    "\n",
    "In the cell below, create an array of the first 100 positive integers. Then print its sum."
   ]
  },
  {
   "cell_type": "code",
   "execution_count": null,
   "metadata": {
    "colab": {
     "base_uri": "https://localhost:8080/"
    },
    "executionInfo": {
     "elapsed": 211,
     "status": "ok",
     "timestamp": 1698750604927,
     "user": {
      "displayName": "Samantha Penny",
      "userId": "15930921040156864267"
     },
     "user_tz": 0
    },
    "id": "qRFQIx2h2UFU",
    "outputId": "f1333633-5c3a-4450-abb0-1be98ea5f5e8"
   },
   "outputs": [
    {
     "name": "stdout",
     "output_type": "stream",
     "text": [
      "5050\n"
     ]
    }
   ],
   "source": [
    "pint_array = np.arange(1,101)\n",
    "print(sum(pint_array))"
   ]
  },
  {
   "cell_type": "markdown",
   "metadata": {
    "id": "ML4gtd-GgPxe"
   },
   "source": [
    "The mean"
   ]
  },
  {
   "cell_type": "code",
   "execution_count": null,
   "metadata": {
    "id": "mjqvPsuPgNGE"
   },
   "outputs": [],
   "source": [
    "print(\"The mean of the above array is\")\n",
    "print(np.mean(array_for_stats))\n",
    "print(\"or equivalently\")\n",
    "print(array_for_stats.mean())"
   ]
  },
  {
   "cell_type": "markdown",
   "metadata": {
    "id": "ziuht9w92Uwk"
   },
   "source": [
    "## Exercise 2.5\n",
    "\n",
    "In the cell below, create an array of 10 numbers (float-s). Then print their mean."
   ]
  },
  {
   "cell_type": "code",
   "execution_count": null,
   "metadata": {
    "colab": {
     "base_uri": "https://localhost:8080/"
    },
    "executionInfo": {
     "elapsed": 216,
     "status": "ok",
     "timestamp": 1698751605442,
     "user": {
      "displayName": "Samantha Penny",
      "userId": "15930921040156864267"
     },
     "user_tz": 0
    },
    "id": "E2ufkOHt2Uwk",
    "outputId": "909a0286-648f-488a-e774-cf186f499db6"
   },
   "outputs": [
    {
     "name": "stdout",
     "output_type": "stream",
     "text": [
      "The mean of the above array is 2.3\n"
     ]
    }
   ],
   "source": [
    "f_array = np.linspace(0.1,4.5,10)\n",
    "a_mean = np.mean(f_array)\n",
    "print(f\"The mean of the above array is {a_mean}\")"
   ]
  },
  {
   "cell_type": "markdown",
   "metadata": {
    "id": "yOkaYGusgWAf"
   },
   "source": [
    "The standard deviation"
   ]
  },
  {
   "cell_type": "code",
   "execution_count": null,
   "metadata": {
    "id": "rQ9W6r5agZhi"
   },
   "outputs": [],
   "source": [
    "print(\"The standard deviation of the above array is\")\n",
    "print(np.std(array_for_stats))\n",
    "print(\"or equivalently\")\n",
    "print(array_for_stats.std())"
   ]
  },
  {
   "cell_type": "markdown",
   "metadata": {
    "id": "6eYf9ic32VzM"
   },
   "source": [
    "## Exercise 2.7\n",
    "\n",
    "In the cell below, create an array of 100 ones. Then calculate its standard deviation. Do you know why the standard deviation is equal to $0$?"
   ]
  },
  {
   "cell_type": "code",
   "execution_count": 8,
   "metadata": {
    "colab": {
     "base_uri": "https://localhost:8080/"
    },
    "executionInfo": {
     "elapsed": 205,
     "status": "ok",
     "timestamp": 1698767168398,
     "user": {
      "displayName": "Samantha Penny",
      "userId": "15930921040156864267"
     },
     "user_tz": 0
    },
    "id": "o6Mfjy_-W1qz",
    "outputId": "dc3f30bb-0053-41db-f006-523817841fe5"
   },
   "outputs": [
    {
     "name": "stdout",
     "output_type": "stream",
     "text": [
      "0.0\n",
      "The standard deviation of an array in which each element is identical \n",
      "is 0.0. \n",
      "This is becase there is no scatter or variation from the mean value.\n"
     ]
    }
   ],
   "source": [
    "array_of_many_ones = np.ones(100)\n",
    "sdev = np.std(array_of_many_ones)\n",
    "\n",
    "print(sdev)\n",
    "\n",
    "print(f\"\"\"The standard deviation of an array in which each element is identical\n",
    "is {sdev}.\n",
    "This is becase there is no scatter or variation from the mean value.\"\"\")"
   ]
  },
  {
   "cell_type": "markdown",
   "metadata": {
    "id": "xGl0hihjiC8g"
   },
   "source": [
    "## The largest (maximum) element of an array"
   ]
  },
  {
   "cell_type": "code",
   "execution_count": null,
   "metadata": {
    "id": "B4bETks1iDSK"
   },
   "outputs": [],
   "source": [
    "print(\"The maximum of the above array is\")\n",
    "print(np.max(array_for_stats))\n",
    "print(\"or equivalently\")\n",
    "print(array_for_stats.max())"
   ]
  },
  {
   "cell_type": "markdown",
   "metadata": {
    "id": "LXrtexuv2Wh8"
   },
   "source": [
    "## Exercise 2.8\n",
    "\n",
    "In the cell below create two arrays\n",
    "- first one having the elements ``[3.14, 6.28, 12.56]``.\n",
    "- second one having the elements ``[2.72, 6.81, 20.43]``.\n",
    "\n",
    "Divide the first array by the second array (element-wise), then find the maximum of the resulting array."
   ]
  },
  {
   "cell_type": "code",
   "execution_count": 10,
   "metadata": {
    "colab": {
     "base_uri": "https://localhost:8080/"
    },
    "executionInfo": {
     "elapsed": 184,
     "status": "ok",
     "timestamp": 1698767252166,
     "user": {
      "displayName": "Samantha Penny",
      "userId": "15930921040156864267"
     },
     "user_tz": 0
    },
    "id": "Kh20hJ_a2Wh8",
    "outputId": "3996ef4d-9369-4794-eea4-fda972fdf0ac"
   },
   "outputs": [
    {
     "name": "stdout",
     "output_type": "stream",
     "text": [
      "The maximum of the resulting array is 1.1544117647058822\n"
     ]
    }
   ],
   "source": [
    "my_array_one = np.array([3.14, 6.28, 12.56])\n",
    "my_array_two = np.array([2.72, 6.81, 20.43])\n",
    "my_array_three = my_array_one/my_array_two\n",
    "\n",
    "my_max = np.max(my_array_three)\n",
    "print(f\"The maximum of the resulting array is {my_max}\")"
   ]
  },
  {
   "cell_type": "markdown",
   "metadata": {
    "id": "PDg0MaJdiHOe"
   },
   "source": [
    "## The lowest (minimum) element of an array"
   ]
  },
  {
   "cell_type": "code",
   "execution_count": null,
   "metadata": {
    "id": "z45UEL7oiMK-"
   },
   "outputs": [],
   "source": [
    "print(\"The minimum of the above array is\")\n",
    "print(np.min(array_for_stats))\n",
    "print(\"or equivalently\")\n",
    "print(array_for_stats.min())"
   ]
  },
  {
   "cell_type": "markdown",
   "metadata": {
    "id": "hb9NQaVB2XTz"
   },
   "source": [
    "## Exercise 2.9\n",
    "\n",
    "In the cell below create two arrays\n",
    "- first one having the elements ``[3.14, 2.28, 4.26]``.\n",
    "- second one having the elements ``[1.72, 2.81, 0.43]``.\n",
    "\n",
    "Multiply the first array by the second array (element-wise), then find the minimum of the resulting array."
   ]
  },
  {
   "cell_type": "code",
   "execution_count": 11,
   "metadata": {
    "colab": {
     "base_uri": "https://localhost:8080/"
    },
    "executionInfo": {
     "elapsed": 220,
     "status": "ok",
     "timestamp": 1698767308736,
     "user": {
      "displayName": "Samantha Penny",
      "userId": "15930921040156864267"
     },
     "user_tz": 0
    },
    "id": "5DArvIeq2XTz",
    "outputId": "46a34cf0-ce6b-4a30-a61e-306d8bd97e7b"
   },
   "outputs": [
    {
     "name": "stdout",
     "output_type": "stream",
     "text": [
      "1.8317999999999999\n"
     ]
    }
   ],
   "source": [
    "a1 = np.array([3.14, 2.28, 4.26])\n",
    "a2 = np.array([1.72, 2.81, 0.43])\n",
    "a3 = a1*a2\n",
    "\n",
    "print(np.min(a3))"
   ]
  },
  {
   "cell_type": "markdown",
   "metadata": {
    "id": "zykFj58ygjCA"
   },
   "source": [
    "## Rounding an array"
   ]
  },
  {
   "cell_type": "code",
   "execution_count": null,
   "metadata": {
    "id": "l2IidP67gmcv"
   },
   "outputs": [],
   "source": [
    "array_lots_decim = np.array([2.33333333333, 3.555555555, 6.88685756464])\n",
    "n = 2\n",
    "print(f\"Rounding to {n} decimal places\")\n",
    "print(np.round(array_lots_decim, n))"
   ]
  },
  {
   "cell_type": "markdown",
   "metadata": {
    "id": "0IiEqdJq2X18"
   },
   "source": [
    "## Exercise 2.10\n",
    "\n",
    "In the cell below create 17 equally spaced points from the interval [0, 1]. Round the elements of the array to 3 decimal places and print the rounded array."
   ]
  },
  {
   "cell_type": "code",
   "execution_count": 13,
   "metadata": {
    "colab": {
     "base_uri": "https://localhost:8080/"
    },
    "executionInfo": {
     "elapsed": 213,
     "status": "ok",
     "timestamp": 1698767374637,
     "user": {
      "displayName": "Samantha Penny",
      "userId": "15930921040156864267"
     },
     "user_tz": 0
    },
    "id": "KFytXz1S2X18",
    "outputId": "0b7f4d32-0d3f-4229-caf5-4a48ef1c51e9"
   },
   "outputs": [
    {
     "name": "stdout",
     "output_type": "stream",
     "text": [
      "Rounding to 3 decimal places.\n",
      "[0.    0.062 0.125 0.188 0.25  0.312 0.375 0.438 0.5   0.562 0.625 0.688\n",
      " 0.75  0.812 0.875 0.938 1.   ]\n"
     ]
    }
   ],
   "source": [
    "spaced_array = np.linspace(0,1,17)\n",
    "n = 3\n",
    "print(f\"Rounding to {n} decimal places.\")\n",
    "print(np.round(spaced_array,n))"
   ]
  }
 ],
 "metadata": {
  "colab": {
   "authorship_tag": "ABX9TyNMi6XraqymvZMNfVbKfwDe",
   "provenance": []
  },
  "kernelspec": {
   "display_name": "Python 3 (ipykernel)",
   "language": "python",
   "name": "python3"
  },
  "language_info": {
   "codemirror_mode": {
    "name": "ipython",
    "version": 3
   },
   "file_extension": ".py",
   "mimetype": "text/x-python",
   "name": "python",
   "nbconvert_exporter": "python",
   "pygments_lexer": "ipython3",
   "version": "3.9.7"
  }
 },
 "nbformat": 4,
 "nbformat_minor": 1
}
