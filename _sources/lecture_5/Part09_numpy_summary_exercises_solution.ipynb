{
 "cells": [
  {
   "cell_type": "markdown",
   "metadata": {
    "id": "ZtT-pbTqpqvL"
   },
   "source": [
    "# Summary Exercises - SOLVED"
   ]
  },
  {
   "cell_type": "code",
   "execution_count": 9,
   "metadata": {
    "executionInfo": {
     "elapsed": 629,
     "status": "ok",
     "timestamp": 1698856731722,
     "user": {
      "displayName": "Samantha Penny",
      "userId": "15930921040156864267"
     },
     "user_tz": 0
    },
    "id": "AXUxa6QW_g-E"
   },
   "outputs": [],
   "source": [
    "import numpy as np #Run this cell or none of the np commands will work"
   ]
  },
  {
   "cell_type": "markdown",
   "metadata": {
    "id": "c-Sr0EMPpm4i"
   },
   "source": [
    "## Exercise 8.1\n",
    "\n",
    "In statistics, we often need to standardise the data. Standardisation is the process of considering different data sets on the same scale to make some comparisons between different type of datasets.\n",
    "\n",
    "This means that we need to transform our dataset so that it has zero mean and its standard deviation is 1. So that every dataset that we process will follow this rule.\n",
    "\n",
    "To demonstrate this on a simple example our data set is\n",
    "$[1, 3, 5]$ then its mean is $3$ and standard deviation is approximately $1.633$ (rounding with precision to 3 d.p.).\n",
    "\n",
    "To standardise this data set we would subtract the mean from each of the element and then divide each element by the standard deviation.\n",
    "\n",
    "Hence we transform $[1, 3, 5]$ into $\\left[\\frac{1-3}{1.633}, \\frac{3-3}{1.633}, \\frac{5-3}{1.633}  \\right] = \\left[ -1.225, 0, 1.225\\right]$. The transformed data will have mean zero, and standard deviation one.\n",
    "\n",
    "**Your task**\n",
    "\n",
    "Write a function that takes as an input a 2D numpy array.\n",
    "\n",
    "Then standardise each row of the input array (we treat each row as a new dataset).\n",
    "\n",
    "Your function should return a new 2D numpy array that contains standarlised row. Please test your function on a few examples. We don't need any rounding.  \n",
    "\n",
    "\n",
    "Hint: Use axis, and in-build numpy functions ``np.mean`` and ``np.std``.\n",
    "\n"
   ]
  },
  {
   "cell_type": "code",
   "execution_count": 2,
   "metadata": {
    "executionInfo": {
     "elapsed": 222,
     "status": "ok",
     "timestamp": 1698856378881,
     "user": {
      "displayName": "Samantha Penny",
      "userId": "15930921040156864267"
     },
     "user_tz": 0
    },
    "id": "IFYdDSn5poC6"
   },
   "outputs": [],
   "source": [
    "def standardise_array(test_array):\n",
    "    mu = test_array.mean(axis=1)\n",
    "    std = test_array.std(axis=1)\n",
    "    zero_mean = test_array - np.vstack(mu)\n",
    "    unit_std = zero_mean / np.vstack(std)\n",
    "    return unit_std"
   ]
  },
  {
   "cell_type": "code",
   "execution_count": 6,
   "metadata": {
    "colab": {
     "base_uri": "https://localhost:8080/"
    },
    "executionInfo": {
     "elapsed": 5,
     "status": "ok",
     "timestamp": 1698856523274,
     "user": {
      "displayName": "Samantha Penny",
      "userId": "15930921040156864267"
     },
     "user_tz": 0
    },
    "id": "VmNZxn13uzn0",
    "outputId": "d48b97b4-29ba-479b-e3f6-625240e1e458"
   },
   "outputs": [
    {
     "name": "stdout",
     "output_type": "stream",
     "text": [
      "[[-1.22474487  0.          1.22474487]\n",
      " [-1.37281295  0.39223227  0.98058068]\n",
      " [-1.22474487  0.          1.22474487]]\n"
     ]
    }
   ],
   "source": [
    "#test the above\n",
    "input_array = np.array([[1, 3, 5], [2, 5, 6], [1, 3, 5]])\n",
    "print(standardise_array(input_array))"
   ]
  },
  {
   "cell_type": "markdown",
   "metadata": {
    "id": "UjCH7FhhljpI"
   },
   "source": [
    "## Exercise 8.2\n",
    "\n",
    "Padding is an important tool when comes to image processing or image recognition. Earlier on in Exercise 5.2 we padded an 1d array with on the right hand side. You task it to write a function that pads with zeros a 2d array from the left and the right (one column in the left and one in the right).  \n",
    "\n",
    "Example:\n",
    "If the input array was ``[[1, 2], [3, 4]]``\n",
    "then the ouput padded array is\n",
    "`` [ [0, 1, 2, 0], [0, 3, 4, 0]]``\n",
    "\n",
    "You function should have one input\n",
    "- a 2d numpy array.\n",
    "\n",
    "It should return the new array that is the padded version of the input.\n",
    "\n",
    "Hint: Use can use ``np.vstack``, ``np.concatenate`` and axis. Alternatively, you could create a bigger numpy array of zeros and use slicing to insert the input array in the right place.   "
   ]
  },
  {
   "cell_type": "code",
   "execution_count": 10,
   "metadata": {
    "executionInfo": {
     "elapsed": 469,
     "status": "ok",
     "timestamp": 1698856738316,
     "user": {
      "displayName": "Samantha Penny",
      "userId": "15930921040156864267"
     },
     "user_tz": 0
    },
    "id": "TJ3koiEqljpI"
   },
   "outputs": [],
   "source": [
    "def pad_array(input_array):\n",
    "  numrows, numcols = input_array.shape\n",
    "  zerocol = np.zeros(numrows)\n",
    "  zerostack = np.vstack(zerocol)\n",
    "  a = np.hstack((zerostack,input_array))\n",
    "  b = np.hstack((a,zerostack))\n",
    "  return b"
   ]
  },
  {
   "cell_type": "code",
   "execution_count": 11,
   "metadata": {
    "colab": {
     "base_uri": "https://localhost:8080/"
    },
    "executionInfo": {
     "elapsed": 7,
     "status": "ok",
     "timestamp": 1698856738646,
     "user": {
      "displayName": "Samantha Penny",
      "userId": "15930921040156864267"
     },
     "user_tz": 0
    },
    "id": "GZQaEBnTvc5W",
    "outputId": "90362471-93e9-4df7-e8c6-518d093bf5b7"
   },
   "outputs": [
    {
     "data": {
      "text/plain": [
       "array([[0., 1., 2., 6., 0.],\n",
       "       [0., 3., 4., 5., 0.],\n",
       "       [0., 3., 4., 6., 0.]])"
      ]
     },
     "execution_count": 11,
     "metadata": {},
     "output_type": "execute_result"
    }
   ],
   "source": [
    "input_array = np.array([[1, 2, 6], [3, 4, 5], [3, 4, 6]])\n",
    "\n",
    "pad_array(input_array)"
   ]
  },
  {
   "cell_type": "markdown",
   "metadata": {
    "id": "WdmsTT6EueW1"
   },
   "source": [
    "## Exercise 8.3 ($\\star$)\n",
    "\n",
    "An integral of a function $f$ over an interval $[a, b]$ ($a$, $b$ are numbers so that $a<b$) yields the area under the curve $f$ between $a$ and $b$.\n",
    "\n",
    "In mathematics the intergrals are denoted by $\\int_a^b f(x) dx$.\n",
    "\n",
    "We can approximate the value of the integral by summation as follows\n",
    "\n",
    "$$(\\star) \\qquad  \\int_a^b f(x) dx \\approx \\sum_{k=0}^n f(x_k) \\delta x,$$\n",
    "\n",
    "where we divide the interval [a, b] into $n$ subintervals ($n$ should be large) of the same length, as follows\n",
    "$$ [a, b] = [\\underbrace{a}_{=x_0}, \\underbrace{a + \\delta x}_{=x_1}] \\cup [\\underbrace{a + \\delta x}_{=x_1}, \\underbrace{a + 2 \\delta x}_{=x_2}] \\cup \\cdots \\cdots \\cup [\\underbrace{a+ (n-1) \\delta x}_{=x_{n-1}}, \\underbrace{a+n \\delta x}_{=x_n} = b],$$\n",
    "where $\\delta x = \\frac{b-a}{n}$.\n",
    "Note that $x_k = a + k \\delta x$.\n",
    "\n",
    "**An example** to illustrate the interval split. Take an interval $[0, 1]$ (all real numbers between $0$ and $1$ including both ends, so $a=0$, $b=1$). Take $n = 2$ then $\\delta x = \\frac{b-a}{n} = \\frac{1}{2} = 0.5$, we can decompose $[0, 1]$ as the union of\n",
    "\n",
    "$$[0, 1] = \\left[0, \\frac{1}{2}\\right] \\cup \\left[ \\frac{1}{2}, 1\\right].$$\n",
    "We get that $x_0 = 1$, $x_1 = \\frac{1}{2}$, $x_2 = 1$. Of course, in general, we want large $n$ but this was just to explain the above complicated notation.\n",
    "\n",
    "\n",
    "\n",
    "**Task**\n",
    "\n",
    "Please complete the code of the function ``approx_integral`` below. This function should return the right-hand side of the formula ($\\star$).\n",
    "\n",
    "You can first try using the loops as this is very similar to the summation exercises from previous weeks. After you succeed try using only numpy functions."
   ]
  },
  {
   "cell_type": "code",
   "execution_count": 12,
   "metadata": {
    "executionInfo": {
     "elapsed": 231,
     "status": "ok",
     "timestamp": 1698856771984,
     "user": {
      "displayName": "Samantha Penny",
      "userId": "15930921040156864267"
     },
     "user_tz": 0
    },
    "id": "KsynrbIUp0rj"
   },
   "outputs": [],
   "source": [
    "def approx_integral_for_loop(f, a, b, n):\n",
    "    dx = (b-a)/n # this is the step delta x\n",
    "    xk_vals = [a + k*dx for k in range(0, n+1)] # this is the list of [x_0, x_1, ..., x_n]\n",
    "    total = 0.0\n",
    "    for xk in xk_vals:\n",
    "        total += f(xk)*dx\n",
    "    return total"
   ]
  },
  {
   "cell_type": "markdown",
   "metadata": {
    "id": "nz4uQWKkqApM"
   },
   "source": [
    "Now try to use only numpy, the comments should be helpful:"
   ]
  },
  {
   "cell_type": "code",
   "execution_count": 13,
   "metadata": {
    "executionInfo": {
     "elapsed": 5,
     "status": "ok",
     "timestamp": 1698856774092,
     "user": {
      "displayName": "Samantha Penny",
      "userId": "15930921040156864267"
     },
     "user_tz": 0
    },
    "id": "v5e-9UXfukKA"
   },
   "outputs": [],
   "source": [
    "def approx_integral(f, a, b, n):\n",
    "    dx = (b-a)/n\n",
    "    xk_vals = np.linspace(a, b, n+1)\n",
    "    f_vals = f(xk_vals)\n",
    "    summand = f(xk_vals)*dx\n",
    "    output = np.sum(summand)\n",
    "    return output"
   ]
  },
  {
   "cell_type": "markdown",
   "metadata": {
    "id": "DEi2CIKKvhti"
   },
   "source": [
    "Test your function on the examples below:"
   ]
  },
  {
   "cell_type": "code",
   "execution_count": 14,
   "metadata": {
    "colab": {
     "base_uri": "https://localhost:8080/"
    },
    "executionInfo": {
     "elapsed": 303,
     "status": "ok",
     "timestamp": 1698856776726,
     "user": {
      "displayName": "Samantha Penny",
      "userId": "15930921040156864267"
     },
     "user_tz": 0
    },
    "id": "Z2j2riz-vi_g",
    "outputId": "0325de7e-6081-47bd-95d1-80b1892bddc3"
   },
   "outputs": [
    {
     "name": "stdout",
     "output_type": "stream",
     "text": [
      "No numpy: The integral of f over the interval a=0, b=1 is 0.33383350000000034\n",
      "Numpy: The integral of f over the interval a=0, b=1 is 0.33383350000000006\n",
      "Your answer should be close to 1/3 = 0.333 (3 d.p).\n"
     ]
    }
   ],
   "source": [
    "def f(x):\n",
    "    return x**2\n",
    "\n",
    "a = 0\n",
    "b = 1\n",
    "n = 1000\n",
    "\n",
    "print(f\"No numpy: The integral of f over the interval a={a}, b={b} is {approx_integral_for_loop(f, a, b, n)}\")\n",
    "print(f\"Numpy: The integral of f over the interval a={a}, b={b} is {approx_integral(f, a, b, n)}\")\n",
    "print(\"Your answer should be close to 1/3 = 0.333 (3 d.p).\")"
   ]
  },
  {
   "cell_type": "code",
   "execution_count": 15,
   "metadata": {
    "colab": {
     "base_uri": "https://localhost:8080/"
    },
    "executionInfo": {
     "elapsed": 603,
     "status": "ok",
     "timestamp": 1698856781791,
     "user": {
      "displayName": "Samantha Penny",
      "userId": "15930921040156864267"
     },
     "user_tz": 0
    },
    "id": "bCaQzfrQvkyk",
    "outputId": "97d336e6-36b9-4274-c878-da108feef6ef"
   },
   "outputs": [
    {
     "name": "stdout",
     "output_type": "stream",
     "text": [
      "No numpy: The integral of f over the interval a=0, b=1 is 1.0013595106278563\n",
      "Numpy: The integral of f over the interval a=0, b=1 is 1.0013595106278566\n",
      "Your answer should be close to 1.0.\n"
     ]
    }
   ],
   "source": [
    "def f(x):\n",
    "    return x*np.exp(x)\n",
    "\n",
    "a = 0\n",
    "b = 1\n",
    "n = 1000\n",
    "\n",
    "print(f\"No numpy: The integral of f over the interval a={a}, b={b} is {approx_integral_for_loop(f, a, b, n)}\")\n",
    "print(f\"Numpy: The integral of f over the interval a={a}, b={b} is {approx_integral(f, a, b, n)}\")\n",
    "print(\"Your answer should be close to 1.0.\")"
   ]
  },
  {
   "cell_type": "markdown",
   "metadata": {
    "id": "Tun840Quicor"
   },
   "source": [
    "# External links to other numpy tutorials\n",
    "\n",
    "For more details, and extended numpy functionalities please see\n",
    "- https://numpy.org/learn/\n",
    "- https://www.learnpython.org/en/Numpy_Arrays"
   ]
  }
 ],
 "metadata": {
  "colab": {
   "authorship_tag": "ABX9TyNff6z3r5FAtLuHpB3ZCxhi",
   "provenance": []
  },
  "kernelspec": {
   "display_name": "Python 3 (ipykernel)",
   "language": "python",
   "name": "python3"
  },
  "language_info": {
   "codemirror_mode": {
    "name": "ipython",
    "version": 3
   },
   "file_extension": ".py",
   "mimetype": "text/x-python",
   "name": "python",
   "nbconvert_exporter": "python",
   "pygments_lexer": "ipython3",
   "version": "3.9.7"
  }
 },
 "nbformat": 4,
 "nbformat_minor": 1
}
