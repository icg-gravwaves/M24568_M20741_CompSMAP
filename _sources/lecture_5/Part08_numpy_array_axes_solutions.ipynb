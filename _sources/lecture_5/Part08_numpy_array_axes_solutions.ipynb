{
 "cells": [
  {
   "cell_type": "markdown",
   "metadata": {
    "id": "6uVw3yOacecp"
   },
   "source": [
    "# Using particular axis of an array - SOLVED\n",
    "\n",
    "Many numpy functions comes with an extra argument ``axis`` this allow you to perform them only with respect to a specified axis. The numbering of ``axis`` starts with ``0``. So a two dimensional array has two axis, ``0`` and ``1``."
   ]
  },
  {
   "cell_type": "code",
   "execution_count": 4,
   "metadata": {
    "executionInfo": {
     "elapsed": 245,
     "status": "ok",
     "timestamp": 1698856232658,
     "user": {
      "displayName": "Samantha Penny",
      "userId": "15930921040156864267"
     },
     "user_tz": 0
    },
    "id": "dMzhhf-a_BuX"
   },
   "outputs": [],
   "source": [
    "import numpy as np #Run this cell or none of the np commands will work"
   ]
  },
  {
   "cell_type": "code",
   "execution_count": null,
   "metadata": {
    "colab": {
     "base_uri": "https://localhost:8080/"
    },
    "id": "4F6MwaEAclDN",
    "outputId": "7b9cdf54-163d-4864-e7cf-dcb0ca93c1e9"
   },
   "outputs": [
    {
     "name": "stdout",
     "output_type": "stream",
     "text": [
      "The regular sum is\n",
      "24\n",
      "The sum with respect to axis=0 is\n",
      "[ 6  8 10]\n",
      "The sum with respect to axis=1 is\n",
      "[ 6 18]\n"
     ]
    }
   ],
   "source": [
    "example_array = np.array([[1, 2, 3], [5, 6, 7]])\n",
    "print(\"The regular sum is\")\n",
    "print(example_array.sum())\n",
    "print(\"The sum with respect to axis=0 is\")\n",
    "print(example_array.sum(axis=0))\n",
    "print(\"The sum with respect to axis=1 is\")\n",
    "print(example_array.sum(axis=1))"
   ]
  },
  {
   "cell_type": "code",
   "execution_count": null,
   "metadata": {
    "colab": {
     "base_uri": "https://localhost:8080/"
    },
    "id": "NPmOSc2sk5ZN",
    "outputId": "5b01ba45-ac43-4044-f217-01ccabbd6c6a"
   },
   "outputs": [
    {
     "name": "stdout",
     "output_type": "stream",
     "text": [
      "[[1 2]\n",
      " [3 4]\n",
      " [5 6]]\n"
     ]
    }
   ],
   "source": [
    "array1 = np.array([[1,2], [3, 4]])\n",
    "array2 = np.array([[5, 6]])\n",
    "print(np.concatenate((array1, array2), axis=0))"
   ]
  },
  {
   "cell_type": "markdown",
   "metadata": {
    "id": "Eb3Iny0b2pcM"
   },
   "source": [
    "## Exercise 7.1\n",
    "\n",
    "Write a function that has one input\n",
    "- a two dimensional numpy array.\n",
    "\n",
    "You function should calculate the mean of every row of the input array, and return the largest mean."
   ]
  },
  {
   "cell_type": "code",
   "execution_count": 9,
   "metadata": {
    "executionInfo": {
     "elapsed": 210,
     "status": "ok",
     "timestamp": 1698856267749,
     "user": {
      "displayName": "Samantha Penny",
      "userId": "15930921040156864267"
     },
     "user_tz": 0
    },
    "id": "lHdeI3dK2pcM"
   },
   "outputs": [],
   "source": [
    "def largest_mean(arr1):\n",
    "  mean_vals = np.mean(arr1,axis=1)\n",
    "  return np.max(mean_vals)"
   ]
  },
  {
   "cell_type": "code",
   "execution_count": 10,
   "metadata": {
    "colab": {
     "base_uri": "https://localhost:8080/"
    },
    "executionInfo": {
     "elapsed": 211,
     "status": "ok",
     "timestamp": 1698856269047,
     "user": {
      "displayName": "Samantha Penny",
      "userId": "15930921040156864267"
     },
     "user_tz": 0
    },
    "id": "xUdhFomXthDS",
    "outputId": "414c464a-8f6e-4aa1-ab3f-d6efd33fa9af"
   },
   "outputs": [
    {
     "data": {
      "text/plain": [
       "6.0"
      ]
     },
     "execution_count": 10,
     "metadata": {},
     "output_type": "execute_result"
    }
   ],
   "source": [
    "input_matrix = np.array([[1, 2, 3],[5, 6, 7]])\n",
    "largest_mean(input_matrix)"
   ]
  },
  {
   "cell_type": "code",
   "execution_count": null,
   "metadata": {
    "id": "j3V6C0SfuNL7"
   },
   "outputs": [],
   "source": []
  }
 ],
 "metadata": {
  "colab": {
   "authorship_tag": "ABX9TyOSklLVJyrZzmGfu8aJaRtL",
   "provenance": []
  },
  "kernelspec": {
   "display_name": "Python 3 (ipykernel)",
   "language": "python",
   "name": "python3"
  },
  "language_info": {
   "codemirror_mode": {
    "name": "ipython",
    "version": 3
   },
   "file_extension": ".py",
   "mimetype": "text/x-python",
   "name": "python",
   "nbconvert_exporter": "python",
   "pygments_lexer": "ipython3",
   "version": "3.9.7"
  }
 },
 "nbformat": 4,
 "nbformat_minor": 1
}
