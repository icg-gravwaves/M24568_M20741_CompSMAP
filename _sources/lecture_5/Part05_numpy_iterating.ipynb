{
 "cells": [
  {
   "cell_type": "markdown",
   "metadata": {
    "id": "9zf01w9xbtvI"
   },
   "source": [
    "# 4. Iterating over an numpy array\n",
    "\n",
    "To iterate over the rows of a 2d numpy array we use:"
   ]
  },
  {
   "cell_type": "code",
   "execution_count": null,
   "metadata": {
    "id": "Yn1mU0E08ngo"
   },
   "outputs": [],
   "source": [
    "import numpy as np #Run this cell or none of the np commands will work"
   ]
  },
  {
   "cell_type": "code",
   "execution_count": null,
   "metadata": {
    "colab": {
     "base_uri": "https://localhost:8080/"
    },
    "executionInfo": {
     "elapsed": 6,
     "status": "ok",
     "timestamp": 1666279883890,
     "user": {
      "displayName": "Ian Harry",
      "userId": "12539231435418418952"
     },
     "user_tz": -60
    },
    "id": "l_7Fa4E-bw_7",
    "outputId": "7488d5a6-5f1b-4a62-a1f4-b8e1696f39b8"
   },
   "outputs": [
    {
     "name": "stdout",
     "output_type": "stream",
     "text": [
      "######################\n",
      "the row is [1.4 2.3 5.3]\n",
      "######################\n",
      "the row is [1.5 3.2 6.7]\n"
     ]
    }
   ],
   "source": [
    "two_dim_array = np.array([[1.4, 2.3, 5.3],[1.5, 3.2, 6.7]])\n",
    "\n",
    "for row in two_dim_array:\n",
    "    print(\"######################\")\n",
    "    print(f\"the row is {row}\")"
   ]
  },
  {
   "cell_type": "markdown",
   "metadata": {
    "id": "nud7kLsx2hq0"
   },
   "source": [
    "---"
   ]
  },
  {
   "cell_type": "markdown",
   "metadata": {
    "id": "dZsCOsaS2hq0"
   },
   "source": [
    "## Exercise 4.1\n",
    "\n",
    "Please evaluate the cell below."
   ]
  },
  {
   "cell_type": "code",
   "execution_count": null,
   "metadata": {
    "id": "BH1-r9jz2hq0"
   },
   "outputs": [],
   "source": [
    "two_dim_array_rand =  np.random.uniform(0, 100, size = (5, 10))"
   ]
  },
  {
   "cell_type": "markdown",
   "metadata": {
    "id": "3OqhPg7H_Stm"
   },
   "source": [
    "In the cell below iterate over each row of the above 2d numpy array, and print the (elementwise) square root of each row."
   ]
  },
  {
   "cell_type": "code",
   "execution_count": null,
   "metadata": {
    "id": "nPC5EXe3_c9r"
   },
   "outputs": [],
   "source": []
  },
  {
   "cell_type": "markdown",
   "metadata": {
    "id": "CPZhPRGa2hq0"
   },
   "source": [
    "---"
   ]
  },
  {
   "cell_type": "markdown",
   "metadata": {
    "id": "NjyUmnSdcMWm"
   },
   "source": [
    "To iterate *all* elements of the array we can use the ``flat`` function:"
   ]
  },
  {
   "cell_type": "code",
   "execution_count": null,
   "metadata": {
    "colab": {
     "base_uri": "https://localhost:8080/"
    },
    "id": "zRyrOCdZcU35",
    "outputId": "3b632033-18ff-4fba-8536-30b6be775ed4"
   },
   "outputs": [
    {
     "name": "stdout",
     "output_type": "stream",
     "text": [
      "######################\n",
      "the element is 1.4\n",
      "######################\n",
      "the element is 2.3\n",
      "######################\n",
      "the element is 5.3\n",
      "######################\n",
      "the element is 1.5\n",
      "######################\n",
      "the element is 3.2\n",
      "######################\n",
      "the element is 6.7\n"
     ]
    }
   ],
   "source": [
    "for element in two_dim_array.flat:\n",
    "    print(\"######################\")\n",
    "    print(f\"the element is {element}\")"
   ]
  },
  {
   "cell_type": "markdown",
   "metadata": {
    "id": "A2iWJCvSBAB6"
   },
   "source": [
    "but perhaps it is easier to understand this if we loop over the rows *and then* loop over the columns within this loop (so using nested looping as we introduced in the third week!)"
   ]
  },
  {
   "cell_type": "code",
   "execution_count": null,
   "metadata": {
    "colab": {
     "base_uri": "https://localhost:8080/"
    },
    "executionInfo": {
     "elapsed": 4,
     "status": "ok",
     "timestamp": 1666279959697,
     "user": {
      "displayName": "Ian Harry",
      "userId": "12539231435418418952"
     },
     "user_tz": -60
    },
    "id": "shNnQeinBOXW",
    "outputId": "c969780f-0ec4-4cc8-b5f8-2194897ec6f6"
   },
   "outputs": [
    {
     "name": "stdout",
     "output_type": "stream",
     "text": [
      "######################\n",
      "the element is 1.4\n",
      "######################\n",
      "the element is 2.3\n",
      "######################\n",
      "the element is 5.3\n",
      "######################\n",
      "the element is 1.5\n",
      "######################\n",
      "the element is 3.2\n",
      "######################\n",
      "the element is 6.7\n"
     ]
    }
   ],
   "source": [
    "for row in two_dim_array:\n",
    "    for element in row:\n",
    "        print(\"######################\")\n",
    "        print(f\"the element is {element}\")\n"
   ]
  },
  {
   "cell_type": "markdown",
   "metadata": {
    "id": "3KrxmY5O2iLs"
   },
   "source": [
    "---"
   ]
  },
  {
   "cell_type": "markdown",
   "metadata": {
    "id": "fvF5X2OV2iLs"
   },
   "source": [
    "## Exercise 4.2\n",
    "\n",
    "Please evaluate the cell below:"
   ]
  },
  {
   "cell_type": "code",
   "execution_count": null,
   "metadata": {
    "id": "6kRlEEpA2iLs"
   },
   "outputs": [],
   "source": [
    "three_dim_array =  np.random.uniform(0, 10, size = (5, 4, 2))"
   ]
  },
  {
   "cell_type": "markdown",
   "metadata": {
    "id": "sKw7qSl7__qz"
   },
   "source": [
    "In the cell below iterate over each element of the array, and print the square of each element. (Note, that in this three dimensional array you would need *three* for loops if using nested loops. Using `flat` would certainly be easier here, but perhaps not so clear)"
   ]
  },
  {
   "cell_type": "code",
   "execution_count": null,
   "metadata": {
    "id": "IL-lrDtP__1A"
   },
   "outputs": [],
   "source": []
  }
 ],
 "metadata": {
  "colab": {
   "authorship_tag": "ABX9TyO8jR7PuckNAd8WMG6/LA5B",
   "provenance": []
  },
  "kernelspec": {
   "display_name": "Python 3 (ipykernel)",
   "language": "python",
   "name": "python3"
  },
  "language_info": {
   "codemirror_mode": {
    "name": "ipython",
    "version": 3
   },
   "file_extension": ".py",
   "mimetype": "text/x-python",
   "name": "python",
   "nbconvert_exporter": "python",
   "pygments_lexer": "ipython3",
   "version": "3.9.7"
  }
 },
 "nbformat": 4,
 "nbformat_minor": 1
}
