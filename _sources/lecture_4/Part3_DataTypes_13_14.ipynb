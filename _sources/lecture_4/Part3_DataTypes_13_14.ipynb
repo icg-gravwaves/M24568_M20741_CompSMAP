{
  "nbformat": 4,
  "nbformat_minor": 0,
  "metadata": {
    "colab": {
      "provenance": [],
      "collapsed_sections": [
        "0VigoPDtowMa"
      ]
    },
    "kernelspec": {
      "display_name": "Python 3 (ipykernel)",
      "language": "python",
      "name": "python3"
    },
    "language_info": {
      "codemirror_mode": {
        "name": "ipython",
        "version": 3
      },
      "file_extension": ".py",
      "mimetype": "text/x-python",
      "name": "python",
      "nbconvert_exporter": "python",
      "pygments_lexer": "ipython3",
      "version": "3.9.7"
    }
  },
  "cells": [
    {
      "cell_type": "markdown",
      "metadata": {
        "id": "Lt8xWPj9owLq"
      },
      "source": [
        "# Computational SMAP\n",
        "## Lecture 4 - Additional resources"
      ]
    },
    {
      "cell_type": "markdown",
      "metadata": {
        "id": "0VigoPDtowMa"
      },
      "source": [
        "## Exercise 13:\n",
        "\n",
        "Take the following quizzes to test your knowledge of these objects. These quizzes will push a little beyond what we've taught here, but will explain why answers are wrong:\n",
        "\n",
        "* https://pynative.com/basic-python-quiz-for-beginners/\n",
        "* https://pynative.com/python-functions-quiz/\n",
        "* https://realpython.com/quizzes/python-lists-tuples\n",
        "* https://pynative.com/python-tuple-quiz/\n",
        "* https://realpython.com/quizzes/python-sets\n",
        "* https://pynative.com/python-set-quiz/\n",
        "* https://realpython.com/quizzes/python-dicts/\n",
        "* https://pynative.com/python-dictionary-quiz/\n",
        "* https://realpython.com/quizzes/python-while-loop/\n",
        "* https://pynative.com/python-input-and-output-quiz/\n",
        "* https://pynative.com/python-variables-and-data-types-quiz/\n",
        "* https://pynative.com/python-if-else-and-for-loop-quiz/\n",
        "\n"
      ]
    },
    {
      "cell_type": "markdown",
      "metadata": {
        "id": "z-VY6oeMowMa"
      },
      "source": [
        "## Exercise 14:\n",
        "\n",
        "If you want some more examples, see (for example) the following cases:\n",
        "\n",
        "* https://www.w3resource.com/python-exercises/list\n",
        "* https://www.w3resource.com/python-exercises/dictionary/\n",
        "* https://pynative.com/python-dictionaries/\n",
        "* https://www.w3resource.com/python-exercises/tuple/\n",
        "* https://pynative.com/python-tuples/\n",
        "* https://www.w3resource.com/python-exercises/sets/\n",
        "* https://pynative.com/python-set-exercise-with-solutions/"
      ]
    },
    {
      "cell_type": "code",
      "metadata": {
        "id": "Z-Bhg-PXowMa"
      },
      "source": [],
      "execution_count": null,
      "outputs": []
    }
  ]
}