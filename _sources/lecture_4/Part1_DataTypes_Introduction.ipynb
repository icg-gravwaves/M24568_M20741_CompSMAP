{
 "cells": [
  {
   "cell_type": "markdown",
   "metadata": {
    "id": "zKdDPqjeowLv"
   },
   "source": [
    "# The File object: A brief introduction\n",
    "\n",
    "Python uses a `File` object to enable you to read and write data from a file. Here's a short example of this:"
   ]
  },
  {
   "cell_type": "code",
   "execution_count": null,
   "metadata": {
    "id": "jCXnPmYFowLv"
   },
   "outputs": [],
   "source": [
    "# The \"w\" option here indicates that the file is to be written. If the file already exists **it will be deleted**\n",
    "# Be careful!\n",
    "# Options are:\n",
    "#  \"r\": The file is to be read. It will not be possible to change anything in the file with this flag.\n",
    "#  \"w\": The file is to be written. If it already exists it will be deleted.\n",
    "#  \"a\": Open the file for both reading and writing. You *can* write to the file, but it will be written at the end\n",
    "#       of existing contents.\n",
    "#  \"b\": The \"b\" flag can be added to any of these \"rb\", \"wb\", or \"ab\". This indicates the file stores binary format\n",
    "#       data (not human readable).\n",
    "file_pointer = open('example_file.data', 'w')\n",
    "# The \\n here indicates a newline. It's what the return key produces.\n",
    "file_pointer.write(\"Hello\\n\")\n",
    "file_pointer.write(\"World\")\n",
    "file_pointer.close()"
   ]
  },
  {
   "cell_type": "markdown",
   "metadata": {
    "id": "SBgPZ0NIcDLa"
   },
   "source": [
    "This then leads to the question of \"where exactly is this file \"example_file.data\", which we've just created. We recorded a short video to answer that see here:\n",
    "\n",
    "* https://port.cloud.panopto.eu/Panopto/Pages/Viewer.aspx?id=3d51de82-e556-4710-81bc-adcf00f751cd (FOR MATHS STUDENTS)\n",
    "* https://port.cloud.panopto.eu/Panopto/Pages/Viewer.aspx?id=6a42753e-0477-4a55-805a-adcf00f8ec58 (FOR PHYSICS STUDENTS)\n",
    "\n",
    "(it is the same video, just duplicated in two Moodle entries).\n",
    "\n",
    "Also note that used the `\\n` character when we did `.write(\"Hello\\n\")` The `\\n` character is special and it means \"new line\". So if we do `file_pointer.write(\"\\n\")` it adds a new line to the file (same as having pressed the enter/return key). If we hadn't included this, the file would read `HelloWorld`."
   ]
  },
  {
   "cell_type": "code",
   "execution_count": null,
   "metadata": {
    "id": "ACAuNKXra5CI"
   },
   "outputs": [],
   "source": [
    "file_pointer = open('example_file.data', 'r')\n",
    "for line in file_pointer:\n",
    "    # We need the strip method here to avoid the newline character being written twice!\n",
    "    print(line.strip())\n",
    "file_pointer.close()"
   ]
  },
  {
   "cell_type": "markdown",
   "metadata": {
    "id": "axowhA63owLx"
   },
   "source": [
    "Equivalently we could write the following using the `with` statement. This is recommended because it ensures that the file is definitely closed outside of the `with` block. Forgetting to `close` a file can cause problems, so do this!"
   ]
  },
  {
   "cell_type": "code",
   "execution_count": null,
   "metadata": {
    "id": "Dm6-MxDRowLy"
   },
   "outputs": [],
   "source": [
    "with open('example_file.data', 'w') as file_pointer:\n",
    "    file_pointer.write(\"Hello\\n\")\n",
    "    file_pointer.write(\"World\")\n",
    "\n",
    "with open('example_file.data', 'r') as file_pointer:\n",
    "    for line in file_pointer:\n",
    "        # We need the strip method here to avoid the newline character being written twice!\n",
    "        print(line.strip())\n"
   ]
  },
  {
   "cell_type": "markdown",
   "metadata": {
    "id": "gVeHYoj2owL0"
   },
   "source": [
    "**EXERCISE** Write a file that contains the first 10 square numbers (1, 4, 9, ...) and then read this back in and print it to the screen.\n",
    "\n",
    "Hint: Remember the string formatting that we practiced last week? You can only write strings to a file, so you must convert these numbers to and from strings when reading/writing to a File. Don't forget the newline character (\\n)!\n",
    "\n",
    "Hint: Remember how to use for loops with a sequence or 'range' of values. You may need to look over your notebooks from previous weeks for a reminder.  \n",
    "\n",
    "We note that in general many of python's libraries contain file reading/writing utilities. We will explore utilities in numpy and pandas to do this in the coming weeks, which make storing and reading large datasets very efficient!"
   ]
  },
  {
   "cell_type": "code",
   "execution_count": null,
   "metadata": {
    "id": "Wha9SOy0owL0"
   },
   "outputs": [],
   "source": [
    "# Exercise solution goes here"
   ]
  },
  {
   "cell_type": "code",
   "execution_count": null,
   "metadata": {
    "id": "Z-Bhg-PXowMa"
   },
   "outputs": [],
   "source": []
  }
 ],
 "metadata": {
  "colab": {
   "collapsed_sections": [
    "0VigoPDtowMa"
   ],
   "provenance": []
  },
  "kernelspec": {
   "display_name": "Python 3 (ipykernel)",
   "language": "python",
   "name": "python3"
  },
  "language_info": {
   "codemirror_mode": {
    "name": "ipython",
    "version": 3
   },
   "file_extension": ".py",
   "mimetype": "text/x-python",
   "name": "python",
   "nbconvert_exporter": "python",
   "pygments_lexer": "ipython3",
   "version": "3.9.7"
  }
 },
 "nbformat": 4,
 "nbformat_minor": 1
}
