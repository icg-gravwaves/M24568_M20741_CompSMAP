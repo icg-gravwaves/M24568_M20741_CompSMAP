{
 "cells": [
  {
   "cell_type": "markdown",
   "id": "236f9ff3",
   "metadata": {},
   "source": [
    "# Variables - an interactive introduction\n",
    "\n",
    "Variables are used to store values and other objects. To create a variable, you use the assignment operator, like `x = 1`.\n",
    "\n",
    "Variables should be\n",
    "    <ul>\n",
    "\t\t\t<li> descriptive</li>\n",
    "\t\t\t<li> meaningful</li>\n",
    "\t\t\t<li> helps to re-read the code</li>\n",
    "\t\t\t<li> keywords cannot be used as a name</li>\n",
    "    </ul>\n",
    "\n",
    "Values assigned to a variable are\n",
    "\t<ul>\n",
    "\t\t\t<li> information that is stored</li>\n",
    "\t\t\t<li> can be updated</li>\n",
    "\t</ul>\n",
    "\n",
    "Assigning a value to a variable in steps:\n",
    "\n",
    "* We start with `name_of_a_variable = <expression>`.\n",
    "* Python computes the right hand side to obtain a value\n",
    "* Then stores it (in the left hand side) as a variable.\n",
    "\n",
    "You can always replace the value of the variable by using the assignment operator `=`\n",
    "\n",
    "\n",
    "**Let's try it**. Set x to 1, y to 2, and then calculate something with them, like x*y."
   ]
  },
  {
   "cell_type": "code",
   "execution_count": null,
   "id": "5548d45a",
   "metadata": {},
   "outputs": [],
   "source": []
  },
  {
   "cell_type": "code",
   "execution_count": null,
   "id": "d3ff8d61",
   "metadata": {},
   "outputs": [],
   "source": []
  },
  {
   "cell_type": "markdown",
   "id": "77ea83a6",
   "metadata": {},
   "source": [
    "Here's a bunch of examples to show how to use these to do basic arithmetic"
   ]
  },
  {
   "cell_type": "code",
   "execution_count": 1,
   "id": "72eb46a7",
   "metadata": {},
   "outputs": [],
   "source": [
    "# Assigning some numbers to different variables\n",
    "# NOTE: This is a comment, it's just to help you understand the code, the computer will ignore it!\n",
    "num1 = 10\n",
    "num2 = -3\n",
    "num3 = 7.41\n",
    "num4 = -.6\n",
    "num5 = 7\n",
    "num6 = 3\n",
    "num7 = 11.11"
   ]
  },
  {
   "cell_type": "code",
   "execution_count": 2,
   "id": "1cc8488e",
   "metadata": {},
   "outputs": [
    {
     "data": {
      "text/plain": [
       "7"
      ]
     },
     "execution_count": 2,
     "metadata": {},
     "output_type": "execute_result"
    }
   ],
   "source": [
    "# Addition\n",
    "num1 + num2"
   ]
  },
  {
   "cell_type": "code",
   "execution_count": 3,
   "id": "4c597a4f",
   "metadata": {},
   "outputs": [
    {
     "data": {
      "text/plain": [
       "-10.41"
      ]
     },
     "execution_count": 3,
     "metadata": {},
     "output_type": "execute_result"
    }
   ],
   "source": [
    "# Subtraction\n",
    "num2 - num3"
   ]
  },
  {
   "cell_type": "code",
   "execution_count": 4,
   "id": "7787610c",
   "metadata": {},
   "outputs": [
    {
     "data": {
      "text/plain": [
       "-4.446"
      ]
     },
     "execution_count": 4,
     "metadata": {},
     "output_type": "execute_result"
    }
   ],
   "source": [
    "# Multiplication\n",
    "num3 * num4"
   ]
  },
  {
   "cell_type": "code",
   "execution_count": 5,
   "id": "a7bfdca9",
   "metadata": {},
   "outputs": [
    {
     "data": {
      "text/plain": [
       "-0.08571428571428572"
      ]
     },
     "execution_count": 5,
     "metadata": {},
     "output_type": "execute_result"
    }
   ],
   "source": [
    "# Division\n",
    "num4 / num5"
   ]
  },
  {
   "cell_type": "code",
   "execution_count": 7,
   "id": "cbdb748c",
   "metadata": {},
   "outputs": [
    {
     "data": {
      "text/plain": [
       "343"
      ]
     },
     "execution_count": 7,
     "metadata": {},
     "output_type": "execute_result"
    }
   ],
   "source": [
    "# Exponent (powers)\n",
    "num5 ** num6"
   ]
  },
  {
   "cell_type": "markdown",
   "id": "1e100bcb",
   "metadata": {},
   "source": [
    "What happens if we set a variable to another one? Try doing `x = y`. Think about what x and y should be, *then* test whether you're correct."
   ]
  },
  {
   "cell_type": "code",
   "execution_count": null,
   "id": "2c1934e5",
   "metadata": {},
   "outputs": [],
   "source": []
  },
  {
   "cell_type": "code",
   "execution_count": null,
   "id": "fcf02e0b",
   "metadata": {},
   "outputs": [],
   "source": []
  },
  {
   "cell_type": "markdown",
   "id": "14de6462",
   "metadata": {},
   "source": [
    "What is this output telling us? Think about it. Ask us if you're unsure!"
   ]
  },
  {
   "cell_type": "markdown",
   "id": "2507946b",
   "metadata": {},
   "source": [
    "Now set y to something else, like `y = 3`. What will x be equal to after doing that? There are two possibilities. Think about them both, then test it. Try to explain to someone else the two possibilities, and what you've just learned about how Python treats variables."
   ]
  },
  {
   "cell_type": "code",
   "execution_count": null,
   "id": "c64cee1f",
   "metadata": {},
   "outputs": [],
   "source": []
  },
  {
   "cell_type": "code",
   "execution_count": null,
   "id": "58fd80e1",
   "metadata": {},
   "outputs": [],
   "source": []
  },
  {
   "cell_type": "markdown",
   "id": "4fd104cd",
   "metadata": {},
   "source": [
    "Variable names should be descriptive but not too long. Any name made with letters, numbers, and underscores will work if it's not a reserved Python keyword. Examples are energy, variable7, and very_long_variable_name. Try assigning to a few of your own."
   ]
  },
  {
   "cell_type": "code",
   "execution_count": null,
   "id": "97c9c701",
   "metadata": {},
   "outputs": [],
   "source": []
  },
  {
   "cell_type": "code",
   "execution_count": null,
   "id": "5573b274",
   "metadata": {},
   "outputs": [],
   "source": []
  },
  {
   "cell_type": "code",
   "execution_count": null,
   "id": "41b62489",
   "metadata": {},
   "outputs": [],
   "source": []
  },
  {
   "cell_type": "markdown",
   "id": "c14a5867",
   "metadata": {},
   "source": [
    "You can make your code clear by choosing good variable names, and also by writing comments. A comment is made by putting text after a hash sign."
   ]
  },
  {
   "cell_type": "code",
   "execution_count": 10,
   "id": "1cea022c",
   "metadata": {},
   "outputs": [],
   "source": [
    "# Example of a Python comment\n",
    "\n",
    "some_variable = 5 # You can put a comment after a statement\n",
    "\n",
    "# You can add a hash sign before a line\n",
    "# to temporarily stop it from being evaluated\n",
    "# when you're trying to debug your code, e.g.:\n",
    "\n",
    "# another_variable = 10*(some broken code)"
   ]
  },
  {
   "cell_type": "markdown",
   "id": "05d8d990",
   "metadata": {},
   "source": [
    "There's also some quick ways to write basic operators, let us demonstrate"
   ]
  },
  {
   "cell_type": "code",
   "execution_count": 11,
   "id": "b63c6643",
   "metadata": {},
   "outputs": [
    {
     "data": {
      "text/plain": [
       "21.11"
      ]
     },
     "execution_count": 11,
     "metadata": {},
     "output_type": "execute_result"
    }
   ],
   "source": [
    "# Increment existing variable\n",
    "num7 += 10 # the same as num7 = num7 + 10\n",
    "num7"
   ]
  },
  {
   "cell_type": "code",
   "execution_count": 12,
   "id": "afe25102",
   "metadata": {},
   "outputs": [
    {
     "data": {
      "text/plain": [
       "1"
      ]
     },
     "execution_count": 12,
     "metadata": {},
     "output_type": "execute_result"
    }
   ],
   "source": [
    "# Decrement existing variable\n",
    "num6 -= 2 # the same as num6 = num6 - 2\n",
    "num6"
   ]
  },
  {
   "cell_type": "code",
   "execution_count": 13,
   "id": "25577418",
   "metadata": {},
   "outputs": [
    {
     "data": {
      "text/plain": [
       "105.55"
      ]
     },
     "execution_count": 13,
     "metadata": {},
     "output_type": "execute_result"
    }
   ],
   "source": [
    "# Multiply & re-assign\n",
    "num7 *= 5 # the same as num3 = num3*5\n",
    "num7"
   ]
  }
 ],
 "metadata": {
  "kernelspec": {
   "display_name": "Python 3 (ipykernel)",
   "language": "python",
   "name": "python3"
  },
  "language_info": {
   "codemirror_mode": {
    "name": "ipython",
    "version": 3
   },
   "file_extension": ".py",
   "mimetype": "text/x-python",
   "name": "python",
   "nbconvert_exporter": "python",
   "pygments_lexer": "ipython3",
   "version": "3.9.7"
  }
 },
 "nbformat": 4,
 "nbformat_minor": 5
}
