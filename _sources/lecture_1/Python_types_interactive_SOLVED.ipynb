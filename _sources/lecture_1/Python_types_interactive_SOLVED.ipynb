{
 "cells": [
  {
   "cell_type": "markdown",
   "id": "841719fd",
   "metadata": {
    "id": "841719fd"
   },
   "source": [
    "# INTERACTIVE: Checking object types in Python - SOLVED\n",
    "\n",
    "This is our first interactive exercise. Click the button at the top to open this notebook in Colab, and run through the exercises interactively there!\n",
    "\n",
    "In order to check the type of an object, we use `type(<input_object>)`, where `<input_object>` is your input.\n",
    "Try the following (remember <shift> + <enter> to run the cells!):"
   ]
  },
  {
   "cell_type": "code",
   "execution_count": 1,
   "id": "5d2f2b3d",
   "metadata": {
    "colab": {
     "base_uri": "https://localhost:8080/"
    },
    "executionInfo": {
     "elapsed": 7,
     "status": "ok",
     "timestamp": 1695207599550,
     "user": {
      "displayName": "Ian Harry",
      "userId": "09765021565160415280"
     },
     "user_tz": -60
    },
    "id": "5d2f2b3d",
    "outputId": "dd49b780-cfd5-4186-8b7a-97844d114bb7"
   },
   "outputs": [
    {
     "name": "stdout",
     "output_type": "stream",
     "text": [
      "<class 'int'>\n"
     ]
    }
   ],
   "source": [
    "print(type(10))"
   ]
  },
  {
   "cell_type": "code",
   "execution_count": 2,
   "id": "715677dc",
   "metadata": {
    "colab": {
     "base_uri": "https://localhost:8080/"
    },
    "executionInfo": {
     "elapsed": 6,
     "status": "ok",
     "timestamp": 1695207599550,
     "user": {
      "displayName": "Ian Harry",
      "userId": "09765021565160415280"
     },
     "user_tz": -60
    },
    "id": "715677dc",
    "outputId": "f2a646b2-0c38-4113-941e-2687f4905632"
   },
   "outputs": [
    {
     "name": "stdout",
     "output_type": "stream",
     "text": [
      "<class 'float'>\n"
     ]
    }
   ],
   "source": [
    "print(type(10.0))"
   ]
  },
  {
   "cell_type": "code",
   "execution_count": 3,
   "id": "ad876280",
   "metadata": {
    "colab": {
     "base_uri": "https://localhost:8080/"
    },
    "executionInfo": {
     "elapsed": 6,
     "status": "ok",
     "timestamp": 1695207599550,
     "user": {
      "displayName": "Ian Harry",
      "userId": "09765021565160415280"
     },
     "user_tz": -60
    },
    "id": "ad876280",
    "outputId": "e2e92297-0e48-46a5-a1e3-c96f57207868"
   },
   "outputs": [
    {
     "name": "stdout",
     "output_type": "stream",
     "text": [
      "<class 'int'>\n"
     ]
    }
   ],
   "source": [
    "print(type(-3))"
   ]
  },
  {
   "cell_type": "code",
   "execution_count": 4,
   "id": "e9d85f05",
   "metadata": {
    "colab": {
     "base_uri": "https://localhost:8080/"
    },
    "executionInfo": {
     "elapsed": 5,
     "status": "ok",
     "timestamp": 1695207599550,
     "user": {
      "displayName": "Ian Harry",
      "userId": "09765021565160415280"
     },
     "user_tz": -60
    },
    "id": "e9d85f05",
    "outputId": "cd08ebe0-b7a6-4f4d-da97-0f6daf11316f"
   },
   "outputs": [
    {
     "name": "stdout",
     "output_type": "stream",
     "text": [
      "<class 'float'>\n"
     ]
    }
   ],
   "source": [
    "print(type(3.14))"
   ]
  },
  {
   "cell_type": "code",
   "execution_count": 5,
   "id": "d97ee69e",
   "metadata": {
    "colab": {
     "base_uri": "https://localhost:8080/"
    },
    "executionInfo": {
     "elapsed": 6,
     "status": "ok",
     "timestamp": 1695207599551,
     "user": {
      "displayName": "Ian Harry",
      "userId": "09765021565160415280"
     },
     "user_tz": -60
    },
    "id": "d97ee69e",
    "outputId": "ac494b08-2fea-4ff0-9fb1-722f50c4fb04"
   },
   "outputs": [
    {
     "name": "stdout",
     "output_type": "stream",
     "text": [
      "<class 'str'>\n"
     ]
    }
   ],
   "source": [
    "print(type(\"this is a string\"))"
   ]
  },
  {
   "cell_type": "code",
   "execution_count": 6,
   "id": "93c4fa7a",
   "metadata": {
    "colab": {
     "base_uri": "https://localhost:8080/"
    },
    "executionInfo": {
     "elapsed": 6,
     "status": "ok",
     "timestamp": 1695207599551,
     "user": {
      "displayName": "Ian Harry",
      "userId": "09765021565160415280"
     },
     "user_tz": -60
    },
    "id": "93c4fa7a",
    "outputId": "fe6e6669-6848-4438-b331-b1f2ee5679e7"
   },
   "outputs": [
    {
     "name": "stdout",
     "output_type": "stream",
     "text": [
      "<class 'str'>\n"
     ]
    }
   ],
   "source": [
    "print(type('this is also a string'))"
   ]
  },
  {
   "cell_type": "code",
   "execution_count": 7,
   "id": "6b8852f2",
   "metadata": {
    "colab": {
     "base_uri": "https://localhost:8080/"
    },
    "executionInfo": {
     "elapsed": 5,
     "status": "ok",
     "timestamp": 1695207599551,
     "user": {
      "displayName": "Ian Harry",
      "userId": "09765021565160415280"
     },
     "user_tz": -60
    },
    "id": "6b8852f2",
    "outputId": "c4b3dc37-6be5-4013-d41b-bace8668be4e"
   },
   "outputs": [
    {
     "name": "stdout",
     "output_type": "stream",
     "text": [
      "<class 'bool'>\n"
     ]
    }
   ],
   "source": [
    "print(type(True))"
   ]
  },
  {
   "cell_type": "code",
   "execution_count": 8,
   "id": "b63251bd",
   "metadata": {
    "colab": {
     "base_uri": "https://localhost:8080/"
    },
    "executionInfo": {
     "elapsed": 5,
     "status": "ok",
     "timestamp": 1695207599551,
     "user": {
      "displayName": "Ian Harry",
      "userId": "09765021565160415280"
     },
     "user_tz": -60
    },
    "id": "b63251bd",
    "outputId": "2878378e-63aa-4bef-d61b-af002b6d5b19"
   },
   "outputs": [
    {
     "name": "stdout",
     "output_type": "stream",
     "text": [
      "<class 'str'>\n"
     ]
    }
   ],
   "source": [
    "print(type(\"True\"))"
   ]
  },
  {
   "cell_type": "code",
   "execution_count": 9,
   "id": "c3084fc2",
   "metadata": {
    "colab": {
     "base_uri": "https://localhost:8080/"
    },
    "executionInfo": {
     "elapsed": 4,
     "status": "ok",
     "timestamp": 1695207599551,
     "user": {
      "displayName": "Ian Harry",
      "userId": "09765021565160415280"
     },
     "user_tz": -60
    },
    "id": "c3084fc2",
    "outputId": "11322987-187d-4dc6-e179-9b9f914aef1c"
   },
   "outputs": [
    {
     "name": "stdout",
     "output_type": "stream",
     "text": [
      "<class 'NoneType'>\n"
     ]
    }
   ],
   "source": [
    "print(type(None))"
   ]
  },
  {
   "cell_type": "markdown",
   "id": "fd452b7f",
   "metadata": {
    "id": "fd452b7f"
   },
   "source": [
    "Did all of that make sense? Was any answer unexpected? If so, ask one of us! This course relies on us discussing anything that's not clear, so make sure to talk to us.\n",
    "\n",
    "Note that we have used the `print( .. )` command here. Anything within `print( .. )` will be printed after the cell runs."
   ]
  },
  {
   "cell_type": "markdown",
   "id": "cdb01821",
   "metadata": {
    "id": "cdb01821"
   },
   "source": [
    "## Quick Exercise\n",
    "\n",
    "What is the correct type of\n",
    "- a) 4.5\n",
    "- b) 1.0\n",
    "- c) 2\n",
    "- d) \"Hello World\"\n",
    "- e) False\n",
    "- f) \"False\"\n",
    "\n",
    "Please check your answers in the cell below, by using `type()`. You can put multiple `print( .. )` statements in the same cell, try it!"
   ]
  },
  {
   "cell_type": "code",
   "execution_count": 10,
   "id": "58a8322c",
   "metadata": {
    "colab": {
     "base_uri": "https://localhost:8080/"
    },
    "executionInfo": {
     "elapsed": 194,
     "status": "ok",
     "timestamp": 1695207792485,
     "user": {
      "displayName": "Ian Harry",
      "userId": "09765021565160415280"
     },
     "user_tz": -60
    },
    "id": "58a8322c",
    "outputId": "38616116-ab08-4877-805a-71319cbfd209"
   },
   "outputs": [
    {
     "name": "stdout",
     "output_type": "stream",
     "text": [
      "<class 'float'>\n",
      "<class 'float'>\n",
      "<class 'int'>\n",
      "<class 'str'>\n",
      "<class 'bool'>\n",
      "<class 'str'>\n"
     ]
    }
   ],
   "source": [
    "print(type(4.5))\n",
    "print(type(1.0))\n",
    "print(type(2))\n",
    "print(type(\"Hello World\"))\n",
    "print(type(False))\n",
    "print(type(\"False\"))"
   ]
  },
  {
   "cell_type": "markdown",
   "id": "8f46daf9",
   "metadata": {
    "id": "8f46daf9"
   },
   "source": [
    "## Printing results\n",
    "\n",
    "In order to print results in the same cell, one below the other. Use <b>print (<your_expression>) </b> as follows\n",
    "\n"
   ]
  },
  {
   "cell_type": "code",
   "execution_count": 11,
   "id": "8e2c28b9",
   "metadata": {
    "colab": {
     "base_uri": "https://localhost:8080/"
    },
    "executionInfo": {
     "elapsed": 226,
     "status": "ok",
     "timestamp": 1695207805136,
     "user": {
      "displayName": "Ian Harry",
      "userId": "09765021565160415280"
     },
     "user_tz": -60
    },
    "id": "8e2c28b9",
    "outputId": "96dfe9af-35c7-4173-b28a-b69ae2b447aa"
   },
   "outputs": [
    {
     "name": "stdout",
     "output_type": "stream",
     "text": [
      "You can use multiple\n",
      "lines in a cell\n",
      "This works for all python operations\n",
      "not just the print statement\n"
     ]
    }
   ],
   "source": [
    "print(\"You can use multiple\")\n",
    "print(\"lines in a cell\")\n",
    "print(\"This works for all python operations\")\n",
    "print(\"not just the print statement\")"
   ]
  },
  {
   "cell_type": "code",
   "execution_count": null,
   "id": "G_BFc22AQk4c",
   "metadata": {
    "id": "G_BFc22AQk4c"
   },
   "outputs": [],
   "source": []
  }
 ],
 "metadata": {
  "colab": {
   "provenance": [
    {
     "file_id": "https://github.com/icg-gravwaves/M24568_M20741_CompSMAP/blob/main/lecture_1/Python_types_interactive.ipynb",
     "timestamp": 1695207578133
    }
   ]
  },
  "kernelspec": {
   "display_name": "Python 3 (ipykernel)",
   "language": "python",
   "name": "python3"
  },
  "language_info": {
   "codemirror_mode": {
    "name": "ipython",
    "version": 3
   },
   "file_extension": ".py",
   "mimetype": "text/x-python",
   "name": "python",
   "nbconvert_exporter": "python",
   "pygments_lexer": "ipython3",
   "version": "3.9.7"
  }
 },
 "nbformat": 4,
 "nbformat_minor": 5
}
