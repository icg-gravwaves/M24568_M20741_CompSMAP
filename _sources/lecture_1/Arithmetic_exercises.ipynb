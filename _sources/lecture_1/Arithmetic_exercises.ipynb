{
 "cells": [
  {
   "cell_type": "markdown",
   "id": "70831567",
   "metadata": {},
   "source": [
    "# Arithmetic Operators - Interactive exercises"
   ]
  },
  {
   "cell_type": "markdown",
   "id": "4371efe1",
   "metadata": {},
   "source": [
    "Make sure you are running this in Colab!\n",
    "\n",
    "Everything in a notebook is in cells. Text like what you're reading right now goes in a 'Markdown' cell. Code goes in a code cell, like the one below. Try doing a simple math calculation like $2+2$, and push `Shift+Enter` or click 'Run' in the top bar to evaluate it."
   ]
  },
  {
   "cell_type": "code",
   "execution_count": null,
   "id": "36e3d4af",
   "metadata": {},
   "outputs": [],
   "source": []
  },
  {
   "cell_type": "markdown",
   "id": "25e5f1fe",
   "metadata": {},
   "source": [
    "Now try multiplying, dividing, subtraction. When you evaluate a Python command in a code cell, the result is printed below the cell. You can put multiple lines in a cell by using `Enter` between them. When you evaluate the cell, the output is only the last value calculated. Try it."
   ]
  },
  {
   "cell_type": "code",
   "execution_count": null,
   "id": "a41ea394",
   "metadata": {},
   "outputs": [],
   "source": []
  },
  {
   "cell_type": "markdown",
   "id": "ffdc5e2a",
   "metadata": {},
   "source": [
    "Most math expressions are straightforward. One slightly unusual thing is the power operator. We code $x^y$ as `x**y`. Try using this to:\n",
    " 1. Find $2^{10}$.\n",
    " 2. Find the square root of a million.\n",
    " 3. Find the cube root of $4913$."
   ]
  },
  {
   "cell_type": "code",
   "execution_count": null,
   "id": "b69e6760",
   "metadata": {},
   "outputs": [],
   "source": []
  },
  {
   "cell_type": "code",
   "execution_count": null,
   "id": "9b145a7d",
   "metadata": {},
   "outputs": [],
   "source": []
  },
  {
   "cell_type": "code",
   "execution_count": null,
   "id": "19d3b157",
   "metadata": {},
   "outputs": [],
   "source": []
  },
  {
   "cell_type": "markdown",
   "id": "d8c14088",
   "metadata": {},
   "source": [
    "The standard division operator is `/`, for instance $1/4 = 0.25$. There is also the integer division operator `//` and the remainder operator `%` which are described above.\n",
    "\n",
    "**Exercise** Try a few things like `7//3` and `7%3` to see how they work. "
   ]
  },
  {
   "cell_type": "code",
   "execution_count": null,
   "id": "111f6fd2",
   "metadata": {},
   "outputs": [],
   "source": []
  },
  {
   "cell_type": "code",
   "execution_count": null,
   "id": "1a83e06a",
   "metadata": {},
   "outputs": [],
   "source": []
  },
  {
   "cell_type": "markdown",
   "id": "0c2212d5",
   "metadata": {},
   "source": [
    "**Exercise** Demonstrate how these operators (or just one of them!) can be used to quickly evaluate if a number is even or odd"
   ]
  },
  {
   "cell_type": "code",
   "execution_count": null,
   "id": "5920040c",
   "metadata": {},
   "outputs": [],
   "source": []
  },
  {
   "cell_type": "code",
   "execution_count": null,
   "id": "2e38909e",
   "metadata": {},
   "outputs": [],
   "source": []
  },
  {
   "cell_type": "markdown",
   "id": "3e23abf7",
   "metadata": {},
   "source": [
    "**WARNING** we will be using `//` and `%` for problems in the coming weeks, and will require you to identify *when* to use them. Still confused about what these do? Ask one of us!"
   ]
  }
 ],
 "metadata": {
  "kernelspec": {
   "display_name": "Python 3 (ipykernel)",
   "language": "python",
   "name": "python3"
  },
  "language_info": {
   "codemirror_mode": {
    "name": "ipython",
    "version": 3
   },
   "file_extension": ".py",
   "mimetype": "text/x-python",
   "name": "python",
   "nbconvert_exporter": "python",
   "pygments_lexer": "ipython3",
   "version": "3.9.7"
  }
 },
 "nbformat": 4,
 "nbformat_minor": 5
}
