{
 "cells": [
  {
   "cell_type": "markdown",
   "id": "b0d12989",
   "metadata": {},
   "source": [
    "# The string type - interactive\n",
    "\n",
    "A string is made by enclosing something in quotes. Here are three different ways of making a string. All are allowed, and you'll see all of them."
   ]
  },
  {
   "cell_type": "code",
   "execution_count": 1,
   "id": "9d487894",
   "metadata": {},
   "outputs": [],
   "source": [
    "string1 = 'string1'\n",
    "string2 = \"string2\"\n",
    "string3 = \"\"\"string3\"\"\" # Triple quotes"
   ]
  },
  {
   "cell_type": "markdown",
   "id": "149677da",
   "metadata": {},
   "source": [
    "The first two are common with short strings. If you want a long string that spans several lines, or that contains quotes in it, you can enclose it in triple quotes.\n",
    "\n",
    "**EXERCISES** Now let's try some operations on strings. For each, think about what you expect, remembering that Python should try to do the most sensible thing if it can.\n",
    " 1. Can you add two strings?\n",
    " 2. Can you add a number to a string?\n",
    " 3. Can you multiply two strings?\n",
    " 4. Can you multiply a string by an integer?\n",
    " 5. If two strings have the same content, what happens if I do `string1` == `string2`\n",
    " 6. What happens if you do `string1` > `string2`? Try with some test examples to figure out what's going on. Discuss with us!"
   ]
  },
  {
   "cell_type": "code",
   "execution_count": null,
   "id": "4a53459b",
   "metadata": {},
   "outputs": [],
   "source": []
  },
  {
   "cell_type": "code",
   "execution_count": null,
   "id": "a0722afa",
   "metadata": {},
   "outputs": [],
   "source": []
  },
  {
   "cell_type": "code",
   "execution_count": null,
   "id": "60a513a7",
   "metadata": {},
   "outputs": [],
   "source": []
  }
 ],
 "metadata": {
  "kernelspec": {
   "display_name": "Python 3 (ipykernel)",
   "language": "python",
   "name": "python3"
  },
  "language_info": {
   "codemirror_mode": {
    "name": "ipython",
    "version": 3
   },
   "file_extension": ".py",
   "mimetype": "text/x-python",
   "name": "python",
   "nbconvert_exporter": "python",
   "pygments_lexer": "ipython3",
   "version": "3.9.7"
  }
 },
 "nbformat": 4,
 "nbformat_minor": 5
}
