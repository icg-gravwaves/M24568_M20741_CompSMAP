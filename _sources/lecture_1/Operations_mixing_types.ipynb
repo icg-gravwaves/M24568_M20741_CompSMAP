{
 "cells": [
  {
   "cell_type": "markdown",
   "id": "565012c6",
   "metadata": {},
   "source": [
    "# Operations with different types"
   ]
  },
  {
   "cell_type": "markdown",
   "id": "f7f059f4",
   "metadata": {},
   "source": [
    "When you combine types in an expression, Python will try to do what it thinks is the most sensible thing. Let's explore this:\n",
    "\n",
    "`1` is an integer. `2` is an integer.\n",
    "\n",
    "**Exercise** What is the type of `1/2`? ."
   ]
  },
  {
   "cell_type": "code",
   "execution_count": null,
   "id": "5b31c092",
   "metadata": {},
   "outputs": [],
   "source": []
  },
  {
   "cell_type": "markdown",
   "id": "1b10015d",
   "metadata": {},
   "source": [
    "**Exercise** What is the type of `1 // 2` and `1 % 2`"
   ]
  },
  {
   "cell_type": "code",
   "execution_count": null,
   "id": "3004b595",
   "metadata": {},
   "outputs": [],
   "source": []
  },
  {
   "cell_type": "markdown",
   "id": "92a6e28a",
   "metadata": {},
   "source": [
    "**Exercise** What is the type of `5.0 * 2`? Is that the same type as `5 * 2`"
   ]
  },
  {
   "cell_type": "code",
   "execution_count": null,
   "id": "21de2a30",
   "metadata": {},
   "outputs": [],
   "source": []
  },
  {
   "cell_type": "markdown",
   "id": "7a6c4132",
   "metadata": {},
   "source": [
    "## The complex number type\n",
    "\n",
    "There's also a complex type, which are made in the form `1+2j` or `0.5-0.3j` where `j` is defined as the square-root of `-1` (normally written in maths/physics as `i`). (If complex numbers doesn't mean anything to you now, don't worry. It will do soon, and this could very well be useful in the future!)\n",
    "\n",
    "**Exercise** What is the type of `1 + 2j`?"
   ]
  },
  {
   "cell_type": "code",
   "execution_count": null,
   "id": "26c392fc",
   "metadata": {},
   "outputs": [],
   "source": [
    "1 + 2j"
   ]
  },
  {
   "cell_type": "code",
   "execution_count": null,
   "id": "47d2ab4f",
   "metadata": {},
   "outputs": [],
   "source": []
  }
 ],
 "metadata": {
  "kernelspec": {
   "display_name": "Python 3 (ipykernel)",
   "language": "python",
   "name": "python3"
  },
  "language_info": {
   "codemirror_mode": {
    "name": "ipython",
    "version": 3
   },
   "file_extension": ".py",
   "mimetype": "text/x-python",
   "name": "python",
   "nbconvert_exporter": "python",
   "pygments_lexer": "ipython3",
   "version": "3.9.7"
  }
 },
 "nbformat": 4,
 "nbformat_minor": 5
}
