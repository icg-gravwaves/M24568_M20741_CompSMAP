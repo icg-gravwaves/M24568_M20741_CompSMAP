{
 "cells": [
  {
   "cell_type": "markdown",
   "id": "06bd75e7",
   "metadata": {
    "id": "06bd75e7"
   },
   "source": [
    "# Type Conversion - A quick interactive intro - SOLVED\n",
    "\n",
    "The name of the type is also a function that converts an object to that type (if possible). For instance, you can turn an integer to a float by doing `float(5)`.\n",
    "\n",
    " 1. Convert a float to an integer. What does it do with the decimal part? (Try a few to be sure)\n",
    " 2. What kind of strings can be converted to int or float?"
   ]
  },
  {
   "cell_type": "code",
   "execution_count": 12,
   "id": "f17d1e84",
   "metadata": {
    "executionInfo": {
     "elapsed": 1,
     "status": "ok",
     "timestamp": 1695209223767,
     "user": {
      "displayName": "Ian Harry",
      "userId": "09765021565160415280"
     },
     "user_tz": -60
    },
    "id": "f17d1e84"
   },
   "outputs": [],
   "source": [
    "x = 17.923\n",
    "y = int(x)"
   ]
  },
  {
   "cell_type": "code",
   "execution_count": 13,
   "id": "9aca2229",
   "metadata": {
    "colab": {
     "base_uri": "https://localhost:8080/"
    },
    "executionInfo": {
     "elapsed": 2,
     "status": "ok",
     "timestamp": 1695209224602,
     "user": {
      "displayName": "Ian Harry",
      "userId": "09765021565160415280"
     },
     "user_tz": -60
    },
    "id": "9aca2229",
    "outputId": "070e21d5-d320-48cc-9a46-b8a6f0932f0b"
   },
   "outputs": [
    {
     "data": {
      "text/plain": [
       "17"
      ]
     },
     "execution_count": 13,
     "metadata": {},
     "output_type": "execute_result"
    }
   ],
   "source": [
    "y"
   ]
  },
  {
   "cell_type": "code",
   "execution_count": 18,
   "id": "N2g1ZhZGVyQS",
   "metadata": {
    "colab": {
     "base_uri": "https://localhost:8080/",
     "height": 178
    },
    "executionInfo": {
     "elapsed": 221,
     "status": "error",
     "timestamp": 1695209247451,
     "user": {
      "displayName": "Ian Harry",
      "userId": "09765021565160415280"
     },
     "user_tz": -60
    },
    "id": "N2g1ZhZGVyQS",
    "outputId": "d0cdf71f-6dc0-4b10-ef86-11346da34511"
   },
   "outputs": [
    {
     "ename": "ValueError",
     "evalue": "ignored",
     "output_type": "error",
     "traceback": [
      "\u001b[0;31m---------------------------------------------------------------------------\u001b[0m",
      "\u001b[0;31mValueError\u001b[0m                                Traceback (most recent call last)",
      "\u001b[0;32m<ipython-input-18-8160b2a1e584>\u001b[0m in \u001b[0;36m<cell line: 1>\u001b[0;34m()\u001b[0m\n\u001b[0;32m----> 1\u001b[0;31m \u001b[0mfloat\u001b[0m\u001b[0;34m(\u001b[0m\u001b[0;34m\"one\"\u001b[0m\u001b[0;34m)\u001b[0m\u001b[0;34m\u001b[0m\u001b[0;34m\u001b[0m\u001b[0m\n\u001b[0m",
      "\u001b[0;31mValueError\u001b[0m: could not convert string to float: 'one'"
     ]
    }
   ],
   "source": [
    "float(\"17\")"
   ]
  },
  {
   "cell_type": "code",
   "execution_count": null,
   "id": "oaewRfPxWBbU",
   "metadata": {
    "id": "oaewRfPxWBbU"
   },
   "outputs": [],
   "source": []
  }
 ],
 "metadata": {
  "colab": {
   "provenance": [
    {
     "file_id": "https://github.com/icg-gravwaves/M24568_M20741_CompSMAP/blob/main/lecture_1/Type_conversion.ipynb",
     "timestamp": 1695209092934
    }
   ]
  },
  "kernelspec": {
   "display_name": "Python 3 (ipykernel)",
   "language": "python",
   "name": "python3"
  },
  "language_info": {
   "codemirror_mode": {
    "name": "ipython",
    "version": 3
   },
   "file_extension": ".py",
   "mimetype": "text/x-python",
   "name": "python",
   "nbconvert_exporter": "python",
   "pygments_lexer": "ipython3",
   "version": "3.9.7"
  }
 },
 "nbformat": 4,
 "nbformat_minor": 5
}
