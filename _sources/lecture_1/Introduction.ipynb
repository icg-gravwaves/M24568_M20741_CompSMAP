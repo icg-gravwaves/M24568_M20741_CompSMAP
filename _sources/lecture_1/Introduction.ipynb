{
 "cells": [
  {
   "cell_type": "markdown",
   "id": "a16f48ee",
   "metadata": {},
   "source": [
    "# A quick look at the Colab/Jupyter interface"
   ]
  },
  {
   "cell_type": "markdown",
   "id": "955a6bb5",
   "metadata": {},
   "source": [
    "**NOTE** This page will provide a useful reference in the future for when you think \"how do I turn this on and off again\"\n",
    "\n",
    "A \"cell\" is a box in the Jupyter notebook. You can see one below.\n",
    "\n",
    "When you are editing a cell in Jupyter notebook, you need to run (or re-run) the cell by pressing **`<Shift> + <Enter>`**. This will allow changes you made to be available to other cells.\n",
    "\n",
    "Use **`<Enter>`** to make new lines inside a cell you are editing.\n",
    "\n",
    "## Code cells\n",
    "\n",
    "Re-running will execute any statements you have written. To edit an existing code cell, click on it.\n",
    "\n",
    "## Text cells (also known as Markdown cells)\n",
    "\n",
    "Re-running will render the text cell. To edit an existing markdown cell, double-click on it.\n"
   ]
  },
  {
   "cell_type": "markdown",
   "id": "546a8f30",
   "metadata": {},
   "source": [
    "## Common Colab/Jupyter operations\n",
    "\n",
    "Near the top of the page, Colab provides a row of menu options (`File`, `Edit`, `View`, `Insert`, ...).  Also, after highlighting a cell there is a row of icons appearing on the RHS:\n",
    "\n",
    "![image.png](https://raw.githubusercontent.com/icg-gravwaves/M24568_M20741_CompSMAP/main/lecture_1/images/Lecture1_image1.png)\n",
    "\n",
    "### Inserting and removing cells\n",
    "\n",
    "Use the\n",
    "\n",
    "![image.png](https://raw.githubusercontent.com/icg-gravwaves/M24568_M20741_CompSMAP/main/lecture_1/images/Lecture1_image2.png)\n",
    "\n",
    "buttons to insert either a code or text cell below the currently selected cell.\n",
    "\n",
    "### Clear the output of all cells\n",
    "\n",
    "- Use \"EDIT\" -> \"Clear All OUTPUTS\" \n",
    "\n",
    "### Clearing the memory / restarting the kernel\n",
    "\n",
    "- Use \"Runtime\" -> \"Restart Runtime\".\n",
    "\n",
    "### Save your notebook file locally\n",
    "\n",
    "- Clear the output of all cells\n",
    "- Use \"File\" -> \"Download .ipynb\" to download a notebook file representing your session"
   ]
  },
  {
   "cell_type": "markdown",
   "id": "0231754c",
   "metadata": {},
   "source": [
    "## Accessing Colab from Jupyter book"
   ]
  },
  {
   "cell_type": "markdown",
   "id": "e425869a",
   "metadata": {},
   "source": [
    "**THERE IS A VIDEO ON MOODLE SHOWING HOW TO DO THIS**\n",
    "\n",
    "* Within Jupyter Book, click on the rocket at the top.\n",
    "* Select \"Colab\" (other options will not do anything useful)\n",
    "* After notebook opens in Colab click \"Copy to Drive\"\n",
    "* Rename notebook as you want.\n",
    "* WOrk through notebook interactively!\n",
    "\n",
    "You can then access the notebook using the Google Drive link in Moodle."
   ]
  },
  {
   "cell_type": "markdown",
   "id": "b4758225",
   "metadata": {},
   "source": [
    "## Colab's own documentation\n",
    "\n",
    "Colab provides it's own documentation page here:\n",
    "\n",
    "- https://colab.research.google.com/notebooks/intro.ipynb#\n",
    "\n",
    "This is a good if you know python and want to understand Colab, but no so good if you're just learning python."
   ]
  }
 ],
 "metadata": {
  "kernelspec": {
   "display_name": "Python 3 (ipykernel)",
   "language": "python",
   "name": "python3"
  },
  "language_info": {
   "codemirror_mode": {
    "name": "ipython",
    "version": 3
   },
   "file_extension": ".py",
   "mimetype": "text/x-python",
   "name": "python",
   "nbconvert_exporter": "python",
   "pygments_lexer": "ipython3",
   "version": "3.9.7"
  }
 },
 "nbformat": 4,
 "nbformat_minor": 5
}
