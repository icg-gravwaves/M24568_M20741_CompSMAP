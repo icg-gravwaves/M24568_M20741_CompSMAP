{
 "cells": [
  {
   "cell_type": "markdown",
   "id": "a16f48ee",
   "metadata": {},
   "source": [
    "# A quick look at the Colab/Jupyter interface"
   ]
  },
  {
   "cell_type": "markdown",
   "id": "955a6bb5",
   "metadata": {},
   "source": [
    "**NOTE** This page will provide a useful reference in the future for when you think \"how do I turn this on and off again\"\n",
    "\n",
    "A \"cell\" is a box in the Jupyter notebook. You can see one below.\n",
    "\n",
    "When you are editing a cell in Jupyter notebook, you need to run (or re-run) the cell by pressing **`<Shift> + <Enter>`**. This will allow changes you made to be available to other cells.\n",
    "\n",
    "Use **`<Enter>`** to make new lines inside a cell you are editing.\n",
    "\n",
    "## Code cells\n",
    "\n",
    "Re-running will execute any statements you have written. To edit an existing code cell, click on it.\n",
    "\n",
    "## Text cells (also known as Markdown cells)\n",
    "\n",
    "Re-running will render the text cell. To edit an existing markdown cell, double-click on it.\n"
   ]
  },
  {
   "cell_type": "code",
   "execution_count": null,
   "id": "762bf95c",
   "metadata": {},
   "outputs": [],
   "source": []
  },
  {
   "cell_type": "markdown",
   "id": "546a8f30",
   "metadata": {},
   "source": [
    "## Common Colab/Jupyter operations\n",
    "\n",
    "Near the top of the page, Colab provides a row of menu options (`File`, `Edit`, `View`, `Insert`, ...).  Also, after highlighting a cell there is a row of icons appearing on the RHS:\n",
    "\n",
    "![image.png](data:image/png;base64,iVBORw0KGgoAAAANSUhEUgAAAOsAAAAYCAYAAAAbDApiAAAFf0lEQVR4Ae2cOU8kOxSF+6+SQgoppJAQQEpMTERASkwMIcTE7Ih6+lo66DyPq8pbD92DLVneru9+bFcPmsXn5+fw8fGxrO/v70Ov3Qc9B9YzBxZvb2/D6+vr8PLy0mv3Qc+BNc6BxdfX19BL90D3wPp7YLH+KnYNuwe6B/BAB2vPg43wwMPDw3B3dzdZn56eNsKWUiU7WEs9N7Hv8fFxuLi4yK7sa1FIbJfPeJPL4eHhsLW1lVQ32c453TtY5zxUsL67u5uUWGEC7u3tFUj7cwtAdd6MW5Tr6+shBfjccGdnZwP0LQq2wO/29na0Xl1dLW2GpkU5Pz8fjo6Ovivjny7JYCUAKJ8SrFqjcDgBauX4Wn1y9ztQcvu5sqAnNn4rk9gul7EKdKXPRfjs7OzM5sD+/v63/BaAxZa5A6dFzqTe4NC1Ljpgp+xMAivBPTg4WAYgJVi1hrRwfK0ONfsdKDh/rjp9iVxOfXicnp4uD1Tnpz4HLeuMa26JKcDyz4CXl5fLG1Vyaf0gKbEPHlNJDM8WOcPBMhcr1lscQKEf3F/hmsazYHWgiuGqAdvC8TLQW2zhuaSkJoGVuLR69rAOXekNJD/RppRceucJEHx/ar8GQDHAAlT8h3wHLLdsSeH2Eijg+TfAip7IVR6MtSX2zO3Bvjk7J8EqoG5vby+TF2YkMeNVAnYVYMUWvgnRnYCoOlg1Rwsd9CWAxU+qznOsL1ra3HJycvIty/kAKBKA1ufVZ19NccA6UMUfwN7c3BT5D73gI4B6f0znVjkj/afaMR1WPT8KVgcq36nuDMarBKzLauUAkgudU28U6KBnX27xQKfszaV3nsQi/EGLA9ULY5cBfYvfHgTY+/v74fj4+H8yuJWen59djaw++v4msJJv2DuVn1GwhkDFyyGAWgEWPtxgnjyhLOTH6HKiD/AUfPbxxIo9c/T0ggb6kl9oHRgxGeGc0+fYJFriNcfD10teC5LlLXx4YVEdsNjHbVtT0FfxIh+mkhg5sZwpke9+GuuX8J3bowN3Kt9GwcqTLQVA0NUEn7181/izOnQ8erAO4FynOQf4egyssWdpCFacmFs8yCl7c+lDnvhwjoev18RLsuGhHx3h7YCtBSoy4Olg9T+IiAE3zBnpmdu6n8b6uTxT6AXWqXyLgjXGvJUzYrxDwLqsFkBFpp5ssUDHdIKOBKx9BpNwc9WTIqbL1Bz+4TR2HnPP4PAlM8U/thYCVbL9wI3ty5mDp8Aq/mo17/w8Z3w+ty8ZU20uzxR68g27pvJzLcCKMQ5YfWPR1t6ochT8ObXg589Q/4HJ56GDnn25ZSrQc2u5sv72D0xjQOV1pAOx9PXjtuMngRIgwlu+07zTbzpY3Zax/tqAFQUFWAWFtubpGxoNfw4AElxPYAer5liHrgSoyNSTxu1I7Yc6z405iVN5O93UCT4mcwqo8lUrwKKrQMmnCWP9sYXmAaiexzrgmasp7qOxfg3/sb3Y5DbH6NYKrChI0BWUlkCNGb+qOT1pCEBKlb0Eq6Rw4LBXh1AsyTiIdAvrgMqVpdvL+aO7gCp+LQCLDHznQEWO5pHletAnX2pLyDM2rpUR2+9yYuvMrR1YUYqgkFwtnlNjhq/TvB9QJXqx329KfzKSBIxVoIO+pIRgjQFVfGsBi96AlRwgF6QzOshW+l5FIx1KWgDvwAn7LQ6EmF7YKptj68wlg3WMQZ9v4wESjeRvURR4JRrjFkXA0S09Bw4Bdo4uphu6s1/P3Lk2xqNkjj/kwL6xyvpPlQ7Wn/J8RG5JUkfYLG8jAKqqmyhGu+o5br6S4p8GOnSm2hIZm7ang3XTIvaL9OUm92fuVP83uKWD9TdEudv4T3hgwX872Uv3QPfA+nvgP0Kvigk698uXAAAAAElFTkSuQmCC)\n",
    "\n",
    "### Inserting and removing cells\n",
    "\n",
    "Use the\n",
    "\n",
    "![image.png](data:image/png;base64,iVBORw0KGgoAAAANSUhEUgAAAH0AAAAfCAYAAADKvMJ0AAADpElEQVRoBe1Y32fkUBjt33afLstQQilLqvSlMS/z0r7sWiZau0rzNPpQpfKwsqzsyzxUlt08rC41fYoupYQhLEMJJYSz7s38uDObaZLOHRq5IeTnd79zzne/e5INqK1xDGw0DrECDCV6A4tAia5EbyADDYSsZroSvYEMNBCymulK9AYy0EDIaqYr0RvIQAMh12+m31gg+y6iBoolC/LaRY//uDB3W6CEgNAW9K6L+3iF9OsoOsuZ4V+yWzcr8kEsDCqEKC368fExwjCsEBpIbi1oRIP5PUScAEkcwjvSQNsuorRSqNnDr0D0l3AxBRC5MIgBV1ar4gW1JtF3dnZwd3c3zb34IISzS6BfLhTKkw+TUEyrOw3hnRho0awTGCf+fEHEAc7bWaegugn34v18e08j+OL7FwPELy2oYlD8iepcCIGXib4MRxrB2SfQzoJxkBh+l4IeePh5Ot89ppwKw+Udlp7plYE+ejgk27AfFodNEN1eYzBMAGQAtHd9hOw0CeG0KWjXR7YCjOAdUGhHHiLWKUYB7DYVRI9x/bEF7fQaIyb0KMD5PoHxVdY0Wsw9O6/MhRgmV/QCHA829El3CHrQqNApXtVMzwUnogfAn+mgPxKuj/roTADm3f/9aSY6v2/Cf5q9n/wwQdouxJCzu3KOpIteAkdwpoF27ayovwhFLVN0tm4xcM/tz1LIgQgVmfcwS/itjfkFIEBvk2Ttn93f7GHS2HgIdm3i3jng+RbHzdLkft6YL7i2MhfimHm8lMHxNIC1SUC2egjE5Yu/K2lNZ6aNreGTnYl/dXU1PS9c35e2d2boYm7swBL+T/QBLFpB9MWiEAmWdLwyF2Iey0QvwhH7MJnv2bIwEDob53Bd7r16Sxsbuc/z8xiikeMErNDeQwc60eGIQ4izQCRb4nF1LoTB80QvxJGt+a3TPlzmcaamDnhlogPxjQWN7sH6FSJJ8z7ZxkZubNSYkXMPWs8YuQF6e6KRy4webdu4fwSQjhBcGtDPAjBfuK5NuugowMHN2yE8ZlSGDv/kc4ZjdEMHe6QD92+CpCTo9bn3cU7xrY3Dyc+ZNxo6J/35nzNpiH5XFz7ZPITibC38ZBPeJ3T1nz8lKkW+6Kxgl+BIQ9gLn77c1E3/dUTwPmzzn1/Gt3L2tbToJbhQj9SEASV6TYSSmaYSXSabNYmlRK+JUDLTVKLLZLMmsZToNRFKZppKdJls1iSWEr0mQslMU4kuk82axPoHkNmOo+R9tioAAAAASUVORK5CYII=)\n",
    "\n",
    "buttons to insert either a code or text cell below the currently selected cell.\n",
    "\n",
    "### Clear the output of all cells\n",
    "\n",
    "- Use \"EDIT\" -> \"Clear All OUTPUTS\" \n",
    "\n",
    "### Clearing the memory / restarting the kernel\n",
    "\n",
    "- Use \"Runtime\" -> \"Restart Runtime\".\n",
    "\n",
    "### Save your notebook file locally\n",
    "\n",
    "- Clear the output of all cells\n",
    "- Use \"File\" -> \"Download .ipynb\" to download a notebook file representing your session"
   ]
  },
  {
   "cell_type": "markdown",
   "id": "0231754c",
   "metadata": {},
   "source": [
    "## Accessing Colab from Jupyter book"
   ]
  },
  {
   "cell_type": "markdown",
   "id": "e425869a",
   "metadata": {},
   "source": [
    "ADD THIS LATER"
   ]
  },
  {
   "cell_type": "markdown",
   "id": "b4758225",
   "metadata": {},
   "source": [
    "## Colab's own documentation\n",
    "\n",
    "Colab provides it's own documentation page here:\n",
    "\n",
    "- https://colab.research.google.com/notebooks/intro.ipynb#\n",
    "\n",
    "This is a good if you know python and want to understand Colab, but no so good if you're just learning python."
   ]
  }
 ],
 "metadata": {
  "kernelspec": {
   "display_name": "Python 3 (ipykernel)",
   "language": "python",
   "name": "python3"
  },
  "language_info": {
   "codemirror_mode": {
    "name": "ipython",
    "version": 3
   },
   "file_extension": ".py",
   "mimetype": "text/x-python",
   "name": "python",
   "nbconvert_exporter": "python",
   "pygments_lexer": "ipython3",
   "version": "3.9.7"
  }
 },
 "nbformat": 4,
 "nbformat_minor": 5
}
