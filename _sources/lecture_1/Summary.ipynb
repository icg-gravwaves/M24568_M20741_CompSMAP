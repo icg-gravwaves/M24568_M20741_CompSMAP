{
 "cells": [
  {
   "cell_type": "markdown",
   "id": "6bc688dd",
   "metadata": {},
   "source": [
    "# Summary\n",
    "\n",
    "We've now introduced all the new concepts in week 1. Specific learning outcomes from this week arey\n",
    "\n",
    "* We want you to be able to use Google Colab, open the work notebooks in Colab, save them and be able to find your previous work.\n",
    "* We want you to be able to use *arithmetic operators* in python\n",
    "* We want you to be able to use *variables* and the *assignment operator* and know how to suitably name your variables.\n",
    "* We want you to be able to use *comparison operators* in python.\n",
    "* We want you to be able to recognize an error, identify the type of the error and know where to look to see the error message.\n",
    "* We want you to be able to get the *type* of a variable/object in python and know how to perform *type conversion* to change the type of an object.\n",
    "* We want you to be able to use and manipulate *strings* in python."
   ]
  },
  {
   "cell_type": "markdown",
   "id": "1ebabe97",
   "metadata": {},
   "source": [
    "To test these learning outcomes please go to the next page to work through the summary exercises. Every week we will produce summary exercises. Within the next few weeks the final summary exercises will become challenging.\n",
    "\n",
    "Your aim every week will be to work through the main body of the notebook, and then to attempt as many of the summary exercises as possible. This work should be done during the 2 hours timetabled in the lab, but also in the 3 hours assigned to work on this module outside of the timetabled lab classes. We will release solutions (video and on the website) for all exercises at the beginning of the next week. Also ask questions in the drop-in classes.\n",
    "\n",
    "Now try the summary exercises for week 1!"
   ]
  }
 ],
 "metadata": {
  "kernelspec": {
   "display_name": "Python 3 (ipykernel)",
   "language": "python",
   "name": "python3"
  },
  "language_info": {
   "codemirror_mode": {
    "name": "ipython",
    "version": 3
   },
   "file_extension": ".py",
   "mimetype": "text/x-python",
   "name": "python",
   "nbconvert_exporter": "python",
   "pygments_lexer": "ipython3",
   "version": "3.9.7"
  }
 },
 "nbformat": 4,
 "nbformat_minor": 5
}
