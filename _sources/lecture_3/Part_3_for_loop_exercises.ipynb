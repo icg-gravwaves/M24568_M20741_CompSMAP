{
 "cells": [
  {
   "cell_type": "markdown",
   "metadata": {
    "id": "OJLY2DceHhtK"
   },
   "source": [
    "# For loops: exercises\n",
    "\n",
    "\n",
    "## Exercise\n",
    "\n",
    "Try printing the numbers from 0 to 5, and from 1 to 12."
   ]
  },
  {
   "cell_type": "code",
   "execution_count": null,
   "metadata": {
    "id": "pfWy6gj0Hl4f"
   },
   "outputs": [],
   "source": []
  },
  {
   "cell_type": "markdown",
   "metadata": {
    "id": "hWSv4hRnHhu_"
   },
   "source": [
    "## Exercise\n",
    "\n",
    "In the cell below, by using the __for__ loop print all the integers from the interval $[-20,20]$. Remember to use __range(a,b)__."
   ]
  },
  {
   "cell_type": "code",
   "execution_count": null,
   "metadata": {
    "id": "p-3K39bZH7zB"
   },
   "outputs": [],
   "source": []
  },
  {
   "cell_type": "markdown",
   "metadata": {
    "id": "59UWrhASH-pA"
   },
   "source": [
    "## Guided exercise\n",
    "\n",
    "Let's look at something a little more complex. A pen and paper may be useful here. Consider the following bit of code:"
   ]
  },
  {
   "cell_type": "code",
   "execution_count": 1,
   "metadata": {
    "id": "C91B7KGyIPZA"
   },
   "outputs": [
    {
     "name": "stdout",
     "output_type": "stream",
     "text": [
      "j  = 3\n"
     ]
    }
   ],
   "source": [
    "j = 5\n",
    "for k in range(2, 6):\n",
    "    j = j + k * (-1)**k\n",
    "\n",
    "print(f\"j  = {j}\")"
   ]
  },
  {
   "cell_type": "markdown",
   "metadata": {
    "id": "FtsWRikJISX1"
   },
   "source": [
    "What is it doing? Could you predict (with pen and paper) what the value of `j` at the end was going to be. We currently have `j=5` on the first line, consider if we had instead `j=4` on the first line .. then what would the *final* value of `j` be?\n",
    "\n",
    "To help with this let's step through what will happen in the loop (when `j=5` on the first line). The loop will loop over 4 values of k (first k=2, then k=3, then k=4, then k=5).\n",
    "\n",
    "Before we enter the loop j has value 5. Then at each step\n",
    "\n",
    "Step 1) k = 2, j = 5 + 2 * (-1)^2 = 5 + 2 = 7\n",
    "\n",
    "Step 2) k = 3, j = 7 - 3 = 4\n",
    "\n",
    "Step 3) k = 4, j = 4 + 4 = 8\n",
    "\n",
    "Step 4) k = 5, j = 8 - 5 = 3"
   ]
  },
  {
   "cell_type": "code",
   "execution_count": null,
   "metadata": {
    "id": "WMvIdjTTIbDe"
   },
   "outputs": [],
   "source": []
  },
  {
   "cell_type": "markdown",
   "metadata": {
    "id": "exNsAUz2IdTZ"
   },
   "source": [
    "## Exercise\n",
    "\n",
    "In the cell below, by using the __for__ loop, calculate and print the following sum:\n",
    "\n",
    "$$ \\sum_{i=1}^{n} i^2 = 1^2 + 2^2 + 3^2 + \\ldots + n^2,$$\n",
    "\n",
    "\n",
    "where $n=100$. (This means: loop over all numbers from 1 to 100, square each of them, and add them all together)"
   ]
  },
  {
   "cell_type": "code",
   "execution_count": null,
   "metadata": {
    "id": "Nq39OYN_Iihy"
   },
   "outputs": [],
   "source": []
  },
  {
   "cell_type": "markdown",
   "metadata": {
    "id": "IAzx7bHEImFI"
   },
   "source": [
    "## Exercise\n",
    "\n",
    "Look at the function defined below. Try to determine, on paper, exactly what it will return for some small values of n. Test that. Can you figure out what mathematical function this is calculating?"
   ]
  },
  {
   "cell_type": "code",
   "execution_count": null,
   "metadata": {
    "id": "g9VOpBLFIqOX"
   },
   "outputs": [],
   "source": [
    "def mystery(n):\n",
    "    \"\"\"This function is a mystery\"\"\"\n",
    "    y = 1\n",
    "    for x in range(1, n+1):\n",
    "        y = y*x\n",
    "    return y"
   ]
  },
  {
   "cell_type": "code",
   "execution_count": null,
   "metadata": {},
   "outputs": [],
   "source": []
  }
 ],
 "metadata": {
  "colab": {
   "authorship_tag": "ABX9TyNbfNm6eESA3KWwwwc8hNAj",
   "provenance": []
  },
  "kernelspec": {
   "display_name": "Python 3 (ipykernel)",
   "language": "python",
   "name": "python3"
  },
  "language_info": {
   "codemirror_mode": {
    "name": "ipython",
    "version": 3
   },
   "file_extension": ".py",
   "mimetype": "text/x-python",
   "name": "python",
   "nbconvert_exporter": "python",
   "pygments_lexer": "ipython3",
   "version": "3.9.7"
  }
 },
 "nbformat": 4,
 "nbformat_minor": 1
}
