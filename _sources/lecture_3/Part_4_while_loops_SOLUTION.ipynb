{
 "cells": [
  {
   "cell_type": "markdown",
   "metadata": {
    "id": "QC4BgbkFSTYu"
   },
   "source": [
    "# The while loop: interactive - SOLVED\n",
    "\n",
    "We have already demonstrated the syntax for for loops. But sometimes looping over a set of numbers is not appropriate. For example if the problem is along the lines of \"Store the first X numbers satisfying Y\" you might not know how many numbers to consider to meet that criterion. With a `while` loop you can avoid this.\n"
   ]
  },
  {
   "cell_type": "markdown",
   "metadata": {
    "id": "HyKoM_B1Sq1X"
   },
   "source": [
    "**Here's an example:** We have a hot drink and add ice cubes to it until it reaches drinking temperature."
   ]
  },
  {
   "cell_type": "code",
   "execution_count": null,
   "metadata": {
    "id": "7TjUp8E0SSb3"
   },
   "outputs": [],
   "source": [
    "def cooling_hot_water(drinking_temp):\n",
    "    boiling_temp = 100 # boiling water temp. 100 degrees\n",
    "    current_temp = boiling_temp # current temp of the drink\n",
    "    ice_cube_temp  = -5 # adding one ice cube drops the temp by 5 degrees\n",
    "    number_of_ice_cubes = 0 # number of ice-cubes that has been added so far\n",
    "    while current_temp > drinking_temp:\n",
    "        current_temp += ice_cube_temp\n",
    "        number_of_ice_cubes += 1\n",
    "        print(f\"The current temperature of your drink is {current_temp}, number of ice cubes added to the drink is {number_of_ice_cubes}\")\n",
    "    return current_temp"
   ]
  },
  {
   "cell_type": "code",
   "execution_count": null,
   "metadata": {
    "colab": {
     "base_uri": "https://localhost:8080/"
    },
    "executionInfo": {
     "elapsed": 5,
     "status": "ok",
     "timestamp": 1696322101635,
     "user": {
      "displayName": "Samantha Penny",
      "userId": "15930921040156864267"
     },
     "user_tz": -60
    },
    "id": "qn3F5hscS4h_",
    "outputId": "061ffaca-2196-4647-f88a-a775adfdbe1a"
   },
   "outputs": [
    {
     "name": "stdout",
     "output_type": "stream",
     "text": [
      "The current temperature of your drink is 95, number of ice cubes added to the drink is 1\n",
      "The current temperature of your drink is 90, number of ice cubes added to the drink is 2\n",
      "The current temperature of your drink is 85, number of ice cubes added to the drink is 3\n",
      "The current temperature of your drink is 80, number of ice cubes added to the drink is 4\n",
      "The current temperature of your drink is 75, number of ice cubes added to the drink is 5\n",
      "The current temperature of your drink is 70, number of ice cubes added to the drink is 6\n",
      "The current temperature of your drink is 65, number of ice cubes added to the drink is 7\n",
      "The current temperature of your drink is 60, number of ice cubes added to the drink is 8\n",
      "The current temperature of your drink is 55, number of ice cubes added to the drink is 9\n",
      "The current temperature of your drink is 50, number of ice cubes added to the drink is 10\n",
      "The current temperature of your drink is 45, number of ice cubes added to the drink is 11\n",
      "The current temperature of your drink is 40, number of ice cubes added to the drink is 12\n",
      "The current temperature of your drink is 35, number of ice cubes added to the drink is 13\n"
     ]
    },
    {
     "data": {
      "text/plain": [
       "35"
      ]
     },
     "execution_count": 2,
     "metadata": {},
     "output_type": "execute_result"
    }
   ],
   "source": [
    "#This block calls the function above and returns an answer\n",
    "drinking_temp = 35\n",
    "cooling_hot_water(drinking_temp)"
   ]
  },
  {
   "cell_type": "markdown",
   "metadata": {
    "id": "x918KX5eS1Em"
   },
   "source": [
    "As soon as the `while` condition is not met the loop exits. You could also write this like:"
   ]
  },
  {
   "cell_type": "code",
   "execution_count": null,
   "metadata": {
    "colab": {
     "base_uri": "https://localhost:8080/"
    },
    "executionInfo": {
     "elapsed": 448,
     "status": "ok",
     "timestamp": 1696322189546,
     "user": {
      "displayName": "Samantha Penny",
      "userId": "15930921040156864267"
     },
     "user_tz": -60
    },
    "id": "YN349GairVag",
    "outputId": "66692e5f-7679-4bba-a39a-74ce5064e93a"
   },
   "outputs": [
    {
     "name": "stdout",
     "output_type": "stream",
     "text": [
      "The current temperature of your drink is 95, number of ice cubes added to the drink is 1\n",
      "The current temperature of your drink is 90, number of ice cubes added to the drink is 2\n",
      "The current temperature of your drink is 85, number of ice cubes added to the drink is 3\n",
      "The current temperature of your drink is 80, number of ice cubes added to the drink is 4\n",
      "The current temperature of your drink is 75, number of ice cubes added to the drink is 5\n",
      "The current temperature of your drink is 70, number of ice cubes added to the drink is 6\n",
      "The current temperature of your drink is 65, number of ice cubes added to the drink is 7\n",
      "The current temperature of your drink is 60, number of ice cubes added to the drink is 8\n",
      "The current temperature of your drink is 55, number of ice cubes added to the drink is 9\n",
      "The current temperature of your drink is 50, number of ice cubes added to the drink is 10\n",
      "The current temperature of your drink is 45, number of ice cubes added to the drink is 11\n",
      "The current temperature of your drink is 40, number of ice cubes added to the drink is 12\n",
      "The current temperature of your drink is 35, number of ice cubes added to the drink is 13\n"
     ]
    },
    {
     "data": {
      "text/plain": [
       "35"
      ]
     },
     "execution_count": 3,
     "metadata": {},
     "output_type": "execute_result"
    }
   ],
   "source": [
    "def cooling_hot_water(drinking_temp):\n",
    "    boiling_temp = 100 # boiling water temp. 100 degrees\n",
    "    current_temp = boiling_temp # current temp of the drink\n",
    "    ice_cube_temp  = -5 # adding one ice cube drops the temp by 5 degrees\n",
    "    number_of_ice_cubes = 0 # number of ice-cubes that has been added so far\n",
    "    while True:\n",
    "        if current_temp <= drinking_temp:\n",
    "            break\n",
    "        current_temp += ice_cube_temp\n",
    "        number_of_ice_cubes += 1\n",
    "        print(f\"The current temperature of your drink is {current_temp}, number of ice cubes added to the drink is {number_of_ice_cubes}\")\n",
    "    return current_temp\n",
    "\n",
    "drinking_temp = 35\n",
    "cooling_hot_water(drinking_temp)"
   ]
  },
  {
   "cell_type": "markdown",
   "metadata": {
    "id": "eu4vfC1krYtt"
   },
   "source": [
    "Here `while True` means \"Loop until you manually tell me to stop\". `True` will always be true. The `break` statement is used here to break from the loop. Be careful with while loops, it is possible to write cases that will *never* exit and **will run forever** ... Like this example:"
   ]
  },
  {
   "cell_type": "code",
   "execution_count": 2,
   "metadata": {
    "id": "b4zAjQdsrb6e"
   },
   "outputs": [
    {
     "name": "stdout",
     "output_type": "stream",
     "text": [
      "The current temperature of your drink is 95, number of ice cubes added to the drink is 1\n",
      "The current temperature of your drink is 90, number of ice cubes added to the drink is 2\n",
      "The current temperature of your drink is 85, number of ice cubes added to the drink is 3\n",
      "The current temperature of your drink is 80, number of ice cubes added to the drink is 4\n",
      "The current temperature of your drink is 75, number of ice cubes added to the drink is 5\n",
      "The current temperature of your drink is 70, number of ice cubes added to the drink is 6\n",
      "The current temperature of your drink is 65, number of ice cubes added to the drink is 7\n",
      "The current temperature of your drink is 60, number of ice cubes added to the drink is 8\n",
      "The current temperature of your drink is 55, number of ice cubes added to the drink is 9\n",
      "The current temperature of your drink is 50, number of ice cubes added to the drink is 10\n",
      "The current temperature of your drink is 45, number of ice cubes added to the drink is 11\n",
      "The current temperature of your drink is 40, number of ice cubes added to the drink is 12\n",
      "The current temperature of your drink is 35, number of ice cubes added to the drink is 13\n"
     ]
    },
    {
     "data": {
      "text/plain": [
       "35"
      ]
     },
     "execution_count": 2,
     "metadata": {},
     "output_type": "execute_result"
    }
   ],
   "source": [
    "def cooling_hot_water(drinking_temp):\n",
    "    boiling_temp = 100 # boiling water temp. 100 degrees\n",
    "    current_temp = boiling_temp # current temp of the drink\n",
    "    ice_cube_temp  = -5 # adding one ice cube drops the temp by 5 degrees\n",
    "    number_of_ice_cubes = 0 # number of ice-cubes that has been added so far\n",
    "    while True:\n",
    "        if current_temp <= drinking_temp:\n",
    "            break\n",
    "        current_temp += ice_cube_temp  # <- WHOOPS, forgot to cool the drink down when ice cube is added!!\n",
    "        number_of_ice_cubes += 1\n",
    "        print(f\"The current temperature of your drink is {current_temp}, number of ice cubes added to the drink is {number_of_ice_cubes}\")\n",
    "    return current_temp\n",
    "\n",
    "drinking_temp = 35\n",
    "cooling_hot_water(drinking_temp)"
   ]
  },
  {
   "cell_type": "markdown",
   "metadata": {
    "id": "-bg3hmDGrsw5"
   },
   "source": [
    "**You now need to use the stop button to tell the computer to stop running this! Go to Runtime -> Interrupt execution**"
   ]
  },
  {
   "cell_type": "markdown",
   "metadata": {
    "id": "pV1jlWM9sv6f"
   },
   "source": [
    "## The continue statement\n",
    "\n",
    "Let me also introduce the `continue` statement. This means \"move to the next iteration of the loop\". For example in this case we want to print the first 100 numbers which are multiples of 5 *or* of 7, but we don't want to print a number at all if it's a multiple of both ... In this case `and`s and `or`s could also do this, but it illustrates the point."
   ]
  },
  {
   "cell_type": "code",
   "execution_count": null,
   "metadata": {
    "colab": {
     "base_uri": "https://localhost:8080/"
    },
    "executionInfo": {
     "elapsed": 311,
     "status": "ok",
     "timestamp": 1696322196825,
     "user": {
      "displayName": "Samantha Penny",
      "userId": "15930921040156864267"
     },
     "user_tz": -60
    },
    "id": "A2uRKf_Tsuzm",
    "outputId": "0ba5f232-3657-49c1-9d67-dc989437d59b"
   },
   "outputs": [
    {
     "name": "stdout",
     "output_type": "stream",
     "text": [
      "5 is a multiple of 5 and I've printed 1 numbers\n",
      "7 is a multiple of 7 and I've printed 2 numbers\n",
      "10 is a multiple of 5 and I've printed 3 numbers\n",
      "14 is a multiple of 7 and I've printed 4 numbers\n",
      "15 is a multiple of 5 and I've printed 5 numbers\n",
      "20 is a multiple of 5 and I've printed 6 numbers\n",
      "21 is a multiple of 7 and I've printed 7 numbers\n",
      "25 is a multiple of 5 and I've printed 8 numbers\n",
      "28 is a multiple of 7 and I've printed 9 numbers\n",
      "30 is a multiple of 5 and I've printed 10 numbers\n",
      "40 is a multiple of 5 and I've printed 11 numbers\n",
      "42 is a multiple of 7 and I've printed 12 numbers\n",
      "45 is a multiple of 5 and I've printed 13 numbers\n",
      "49 is a multiple of 7 and I've printed 14 numbers\n",
      "50 is a multiple of 5 and I've printed 15 numbers\n",
      "55 is a multiple of 5 and I've printed 16 numbers\n",
      "56 is a multiple of 7 and I've printed 17 numbers\n",
      "60 is a multiple of 5 and I've printed 18 numbers\n",
      "63 is a multiple of 7 and I've printed 19 numbers\n",
      "65 is a multiple of 5 and I've printed 20 numbers\n",
      "75 is a multiple of 5 and I've printed 21 numbers\n",
      "77 is a multiple of 7 and I've printed 22 numbers\n",
      "80 is a multiple of 5 and I've printed 23 numbers\n",
      "84 is a multiple of 7 and I've printed 24 numbers\n",
      "85 is a multiple of 5 and I've printed 25 numbers\n",
      "90 is a multiple of 5 and I've printed 26 numbers\n",
      "91 is a multiple of 7 and I've printed 27 numbers\n",
      "95 is a multiple of 5 and I've printed 28 numbers\n",
      "98 is a multiple of 7 and I've printed 29 numbers\n",
      "100 is a multiple of 5 and I've printed 30 numbers\n",
      "110 is a multiple of 5 and I've printed 31 numbers\n",
      "112 is a multiple of 7 and I've printed 32 numbers\n",
      "115 is a multiple of 5 and I've printed 33 numbers\n",
      "119 is a multiple of 7 and I've printed 34 numbers\n",
      "120 is a multiple of 5 and I've printed 35 numbers\n",
      "125 is a multiple of 5 and I've printed 36 numbers\n",
      "126 is a multiple of 7 and I've printed 37 numbers\n",
      "130 is a multiple of 5 and I've printed 38 numbers\n",
      "133 is a multiple of 7 and I've printed 39 numbers\n",
      "135 is a multiple of 5 and I've printed 40 numbers\n",
      "145 is a multiple of 5 and I've printed 41 numbers\n",
      "147 is a multiple of 7 and I've printed 42 numbers\n",
      "150 is a multiple of 5 and I've printed 43 numbers\n",
      "154 is a multiple of 7 and I've printed 44 numbers\n",
      "155 is a multiple of 5 and I've printed 45 numbers\n",
      "160 is a multiple of 5 and I've printed 46 numbers\n",
      "161 is a multiple of 7 and I've printed 47 numbers\n",
      "165 is a multiple of 5 and I've printed 48 numbers\n",
      "168 is a multiple of 7 and I've printed 49 numbers\n",
      "170 is a multiple of 5 and I've printed 50 numbers\n",
      "180 is a multiple of 5 and I've printed 51 numbers\n",
      "182 is a multiple of 7 and I've printed 52 numbers\n",
      "185 is a multiple of 5 and I've printed 53 numbers\n",
      "189 is a multiple of 7 and I've printed 54 numbers\n",
      "190 is a multiple of 5 and I've printed 55 numbers\n",
      "195 is a multiple of 5 and I've printed 56 numbers\n",
      "196 is a multiple of 7 and I've printed 57 numbers\n",
      "200 is a multiple of 5 and I've printed 58 numbers\n",
      "203 is a multiple of 7 and I've printed 59 numbers\n",
      "205 is a multiple of 5 and I've printed 60 numbers\n",
      "215 is a multiple of 5 and I've printed 61 numbers\n",
      "217 is a multiple of 7 and I've printed 62 numbers\n",
      "220 is a multiple of 5 and I've printed 63 numbers\n",
      "224 is a multiple of 7 and I've printed 64 numbers\n",
      "225 is a multiple of 5 and I've printed 65 numbers\n",
      "230 is a multiple of 5 and I've printed 66 numbers\n",
      "231 is a multiple of 7 and I've printed 67 numbers\n",
      "235 is a multiple of 5 and I've printed 68 numbers\n",
      "238 is a multiple of 7 and I've printed 69 numbers\n",
      "240 is a multiple of 5 and I've printed 70 numbers\n",
      "250 is a multiple of 5 and I've printed 71 numbers\n",
      "252 is a multiple of 7 and I've printed 72 numbers\n",
      "255 is a multiple of 5 and I've printed 73 numbers\n",
      "259 is a multiple of 7 and I've printed 74 numbers\n",
      "260 is a multiple of 5 and I've printed 75 numbers\n",
      "265 is a multiple of 5 and I've printed 76 numbers\n",
      "266 is a multiple of 7 and I've printed 77 numbers\n",
      "270 is a multiple of 5 and I've printed 78 numbers\n",
      "273 is a multiple of 7 and I've printed 79 numbers\n",
      "275 is a multiple of 5 and I've printed 80 numbers\n",
      "285 is a multiple of 5 and I've printed 81 numbers\n",
      "287 is a multiple of 7 and I've printed 82 numbers\n",
      "290 is a multiple of 5 and I've printed 83 numbers\n",
      "294 is a multiple of 7 and I've printed 84 numbers\n",
      "295 is a multiple of 5 and I've printed 85 numbers\n",
      "300 is a multiple of 5 and I've printed 86 numbers\n",
      "301 is a multiple of 7 and I've printed 87 numbers\n",
      "305 is a multiple of 5 and I've printed 88 numbers\n",
      "308 is a multiple of 7 and I've printed 89 numbers\n",
      "310 is a multiple of 5 and I've printed 90 numbers\n",
      "320 is a multiple of 5 and I've printed 91 numbers\n",
      "322 is a multiple of 7 and I've printed 92 numbers\n",
      "325 is a multiple of 5 and I've printed 93 numbers\n",
      "329 is a multiple of 7 and I've printed 94 numbers\n",
      "330 is a multiple of 5 and I've printed 95 numbers\n",
      "335 is a multiple of 5 and I've printed 96 numbers\n",
      "336 is a multiple of 7 and I've printed 97 numbers\n",
      "340 is a multiple of 5 and I've printed 98 numbers\n",
      "343 is a multiple of 7 and I've printed 99 numbers\n",
      "345 is a multiple of 5 and I've printed 100 numbers\n"
     ]
    }
   ],
   "source": [
    "def print_multiples_of_N_or_M(N, M, num_to_print):\n",
    "    \"\"\"Print the first num_to_print multiples of N or M, but not both, starting from 1.\"\"\"\n",
    "    # In our example N is 7, M is 5, and num_to_print is 100, but these could be other values\n",
    "    number_printed = 0\n",
    "    current_number = 1\n",
    "    while True:\n",
    "        if (current_number % N == 0) and (current_number % M == 0):\n",
    "            # Multiple of both, don't consider any carry on\n",
    "            current_number += 1\n",
    "            continue # GO TO THE NEXT ITERATION OF THE FOR/WHILE LOOP.\n",
    "        if (current_number % N == 0):\n",
    "            number_printed += 1\n",
    "            print(\"{} is a multiple of {} and I've printed {} numbers\".format(current_number, N, number_printed))\n",
    "        if (current_number % M == 0):\n",
    "            number_printed += 1\n",
    "            print(\"{} is a multiple of {} and I've printed {} numbers\".format(current_number, M, number_printed))\n",
    "\n",
    "        current_number += 1\n",
    "\n",
    "        if number_printed == num_to_print:\n",
    "            break # break is used to exit a while, or for, loop NOW.\n",
    "\n",
    "print_multiples_of_N_or_M(5, 7, 100)"
   ]
  },
  {
   "cell_type": "markdown",
   "metadata": {
    "id": "iAu5vKkXuvvt"
   },
   "source": [
    "## Try it yourself\n",
    "\n",
    "Write a function to print the first 20 integers greater than 0 that:\n",
    "\n",
    "* Are even, and\n",
    "* Are multiples of 3."
   ]
  },
  {
   "cell_type": "code",
   "execution_count": 2,
   "metadata": {
    "colab": {
     "base_uri": "https://localhost:8080/"
    },
    "executionInfo": {
     "elapsed": 530,
     "status": "ok",
     "timestamp": 1696857023575,
     "user": {
      "displayName": "Samantha Penny",
      "userId": "15930921040156864267"
     },
     "user_tz": -60
    },
    "id": "scngeHbIu6-V",
    "outputId": "2c19dbaa-2a34-4d57-869d-39a934dd53da"
   },
   "outputs": [
    {
     "name": "stdout",
     "output_type": "stream",
     "text": [
      "6\n",
      "12\n",
      "18\n",
      "24\n",
      "30\n",
      "36\n",
      "42\n",
      "48\n",
      "54\n",
      "60\n",
      "66\n",
      "72\n",
      "78\n",
      "84\n",
      "90\n",
      "96\n",
      "102\n",
      "108\n",
      "114\n",
      "120\n"
     ]
    }
   ],
   "source": [
    "#approach 1\n",
    "def find_integers(N,M,number_to_print):\n",
    "  number_printed = 0\n",
    "  current_number = 1\n",
    "  while True:\n",
    "    if current_number % N == 0 and current_number % M == 0:\n",
    "      print(current_number)\n",
    "      current_number += 1\n",
    "      number_printed += 1\n",
    "      continue\n",
    "    current_number += 1\n",
    "    if number_printed == 20:\n",
    "      break\n",
    "\n",
    "find_integers(2,3,20)"
   ]
  },
  {
   "cell_type": "code",
   "execution_count": 6,
   "metadata": {
    "colab": {
     "base_uri": "https://localhost:8080/"
    },
    "executionInfo": {
     "elapsed": 213,
     "status": "ok",
     "timestamp": 1696857660651,
     "user": {
      "displayName": "Samantha Penny",
      "userId": "15930921040156864267"
     },
     "user_tz": -60
    },
    "id": "B7yLXkZgjQOc",
    "outputId": "592da724-6e5c-4752-b97b-2dbb1492f7e9"
   },
   "outputs": [
    {
     "name": "stdout",
     "output_type": "stream",
     "text": [
      "6\n",
      "12\n",
      "18\n",
      "24\n",
      "30\n",
      "36\n",
      "42\n",
      "48\n",
      "54\n",
      "60\n",
      "66\n",
      "72\n",
      "78\n",
      "84\n",
      "90\n",
      "96\n",
      "102\n",
      "108\n",
      "114\n",
      "120\n"
     ]
    }
   ],
   "source": [
    "#approach 2\n",
    "def find_integers_2(N,M,number_to_print):\n",
    "  number_printed = 0\n",
    "  current_number = 1\n",
    "  while number_printed < 20:\n",
    "    if current_number % N == 0 and current_number % M == 0:\n",
    "      number_printed += 1\n",
    "      print(current_number)\n",
    "      current_number += 1\n",
    "      continue\n",
    "    current_number += 1\n",
    "\n",
    "find_integers_2(2,3,20)"
   ]
  },
  {
   "cell_type": "code",
   "execution_count": 8,
   "metadata": {
    "colab": {
     "base_uri": "https://localhost:8080/"
    },
    "executionInfo": {
     "elapsed": 222,
     "status": "ok",
     "timestamp": 1696857669601,
     "user": {
      "displayName": "Samantha Penny",
      "userId": "15930921040156864267"
     },
     "user_tz": -60
    },
    "id": "WIE_77sml29b",
    "outputId": "144aff95-78de-49ed-c3f1-1b5beda5fd1c"
   },
   "outputs": [
    {
     "name": "stdout",
     "output_type": "stream",
     "text": [
      "6 is an even number and a multiple of 3. This is the 1 number printed.\n",
      "12 is an even number and a multiple of 3. This is the 2 number printed.\n",
      "18 is an even number and a multiple of 3. This is the 3 number printed.\n",
      "24 is an even number and a multiple of 3. This is the 4 number printed.\n",
      "30 is an even number and a multiple of 3. This is the 5 number printed.\n",
      "36 is an even number and a multiple of 3. This is the 6 number printed.\n",
      "42 is an even number and a multiple of 3. This is the 7 number printed.\n",
      "48 is an even number and a multiple of 3. This is the 8 number printed.\n",
      "54 is an even number and a multiple of 3. This is the 9 number printed.\n",
      "60 is an even number and a multiple of 3. This is the 10 number printed.\n",
      "66 is an even number and a multiple of 3. This is the 11 number printed.\n",
      "72 is an even number and a multiple of 3. This is the 12 number printed.\n",
      "78 is an even number and a multiple of 3. This is the 13 number printed.\n",
      "84 is an even number and a multiple of 3. This is the 14 number printed.\n",
      "90 is an even number and a multiple of 3. This is the 15 number printed.\n",
      "96 is an even number and a multiple of 3. This is the 16 number printed.\n",
      "102 is an even number and a multiple of 3. This is the 17 number printed.\n",
      "108 is an even number and a multiple of 3. This is the 18 number printed.\n",
      "114 is an even number and a multiple of 3. This is the 19 number printed.\n",
      "120 is an even number and a multiple of 3. This is the 20 number printed.\n"
     ]
    }
   ],
   "source": [
    "# approach 3\n",
    "def find_integers_3(number_to_print):\n",
    "  number_printed = 0\n",
    "  current_number = 1\n",
    "  while number_printed < 20:\n",
    "    if current_number % 2 == 0 and current_number % 3 == 0:\n",
    "      number_printed += 1\n",
    "      print(f\"{current_number} is an even number and a multiple of 3. This is the {number_printed} number printed.\")\n",
    "      current_number += 1\n",
    "      continue\n",
    "    current_number += 1\n",
    "\n",
    "find_integers_3(20)"
   ]
  },
  {
   "cell_type": "code",
   "execution_count": null,
   "metadata": {
    "id": "oyiK6deqmByZ"
   },
   "outputs": [],
   "source": []
  }
 ],
 "metadata": {
  "colab": {
   "authorship_tag": "ABX9TyOdsTIBQckscX2JZ6tua3wX",
   "provenance": []
  },
  "kernelspec": {
   "display_name": "Python 3 (ipykernel)",
   "language": "python",
   "name": "python3"
  },
  "language_info": {
   "codemirror_mode": {
    "name": "ipython",
    "version": 3
   },
   "file_extension": ".py",
   "mimetype": "text/x-python",
   "name": "python",
   "nbconvert_exporter": "python",
   "pygments_lexer": "ipython3",
   "version": "3.9.7"
  }
 },
 "nbformat": 4,
 "nbformat_minor": 1
}
