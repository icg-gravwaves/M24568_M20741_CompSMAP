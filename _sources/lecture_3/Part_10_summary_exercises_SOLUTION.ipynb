{
 "cells": [
  {
   "cell_type": "markdown",
   "metadata": {
    "id": "E8c7n0u12t-O"
   },
   "source": [
    "# Summary exercises - SOLVED\n",
    "\n"
   ]
  },
  {
   "cell_type": "markdown",
   "metadata": {
    "id": "8ceb671f"
   },
   "source": [
    "## Exercise 1\n",
    "\n",
    "Write a function containing a for loop and a conditional such that it prints the even numbers up to 100."
   ]
  },
  {
   "cell_type": "code",
   "execution_count": 3,
   "metadata": {
    "colab": {
     "base_uri": "https://localhost:8080/"
    },
    "executionInfo": {
     "elapsed": 227,
     "status": "ok",
     "timestamp": 1696928898127,
     "user": {
      "displayName": "Samantha Penny",
      "userId": "15930921040156864267"
     },
     "user_tz": -60
    },
    "id": "e85036ac",
    "outputId": "cb9f44cc-2729-40ef-ee2e-a13e2c797027"
   },
   "outputs": [
    {
     "name": "stdout",
     "output_type": "stream",
     "text": [
      "2\n",
      "4\n",
      "6\n",
      "8\n",
      "10\n",
      "12\n",
      "14\n",
      "16\n",
      "18\n",
      "20\n",
      "22\n",
      "24\n",
      "26\n",
      "28\n",
      "30\n",
      "32\n",
      "34\n",
      "36\n",
      "38\n",
      "40\n",
      "42\n",
      "44\n",
      "46\n",
      "48\n",
      "50\n",
      "52\n",
      "54\n",
      "56\n",
      "58\n",
      "60\n",
      "62\n",
      "64\n",
      "66\n",
      "68\n",
      "70\n",
      "72\n",
      "74\n",
      "76\n",
      "78\n",
      "80\n",
      "82\n",
      "84\n",
      "86\n",
      "88\n",
      "90\n",
      "92\n",
      "94\n",
      "96\n",
      "98\n",
      "100\n"
     ]
    }
   ],
   "source": [
    "def find_evens(N):\n",
    "  for n in range(1,N+1):\n",
    "    if n % 2 == 0:\n",
    "      print(n)\n",
    "\n",
    "a = find_evens(100)"
   ]
  },
  {
   "cell_type": "markdown",
   "metadata": {
    "id": "5884ad51"
   },
   "source": [
    "## Exercise 2\n",
    "\n",
    "Write a function which sums the numbers up to n, and returns the result. Test it."
   ]
  },
  {
   "cell_type": "code",
   "execution_count": 4,
   "metadata": {
    "colab": {
     "base_uri": "https://localhost:8080/"
    },
    "executionInfo": {
     "elapsed": 560,
     "status": "ok",
     "timestamp": 1696928906329,
     "user": {
      "displayName": "Samantha Penny",
      "userId": "15930921040156864267"
     },
     "user_tz": -60
    },
    "id": "4c3ed6c8",
    "outputId": "a9fc3089-95bc-44ad-9ede-7da7b49185c8"
   },
   "outputs": [
    {
     "name": "stdout",
     "output_type": "stream",
     "text": [
      "55\n"
     ]
    }
   ],
   "source": [
    "def my_sum(n):\n",
    "  current_sum = 0\n",
    "  for i in range(1,n+1):\n",
    "    current_sum += i\n",
    "  return(current_sum)\n",
    "\n",
    "print(my_sum(10))\n",
    "\n"
   ]
  },
  {
   "cell_type": "markdown",
   "metadata": {
    "id": "bb702939"
   },
   "source": [
    "## Exercise 3\n",
    "\n",
    "Using some of the stuff defined above, find\n",
    "$$ \\sum_{k=0}^{100}  \\frac{4(-1)^k}{2k+1},$$\n",
    "write your code in the cell (you may add more cells) below. We showed two examples for computing sums here, one using a for loop and a running count, one using the `sum` function, try using both. Which is more appropriate here? Discuss!"
   ]
  },
  {
   "cell_type": "code",
   "execution_count": 11,
   "metadata": {
    "colab": {
     "base_uri": "https://localhost:8080/"
    },
    "executionInfo": {
     "elapsed": 482,
     "status": "ok",
     "timestamp": 1696930118839,
     "user": {
      "displayName": "Samantha Penny",
      "userId": "15930921040156864267"
     },
     "user_tz": -60
    },
    "id": "110fce13",
    "outputId": "7393582f-de34-4177-d179-5eccf5a256d9"
   },
   "outputs": [
    {
     "name": "stdout",
     "output_type": "stream",
     "text": [
      "3.1514934010709914\n"
     ]
    }
   ],
   "source": [
    "#a better version of the sum function, for when we don't want to sum\n",
    "#up from zero\n",
    "\n",
    "def better_sum(start,stop,func):\n",
    "  \"\"\"\n",
    "  Function for summing a function evaluated at a range of values.\n",
    "  Takes three inputs:\n",
    "  start: the first value to use in the calculation\n",
    "  stop: the final value to use in the calculation\n",
    "  my_func: the function to sum over\n",
    "  \"\"\"\n",
    "  total = 0\n",
    "  for k in range(start,stop+1):\n",
    "    total += func(k)\n",
    "  return total\n",
    "\n",
    "#The mathematical function we need to put into the sum\n",
    "def my_func2(k):\n",
    "  return (4*(-1)**k)/(2*k+1)\n",
    "\n",
    "#call the function to carry out the sum\n",
    "print(better_sum(0,100,my_func2))\n"
   ]
  },
  {
   "cell_type": "markdown",
   "metadata": {
    "id": "8065771d"
   },
   "source": [
    "## Exercise 4\n",
    "\n",
    "* Create a list of the first 100 natural numbers. A natural number is a non-negative integer, though some definitions omit 0.\n",
    "* Square (multiply the number by itself) all the numbers in the list which are not divisible by 7. Remember that 'divide and give remainder' is the % operator."
   ]
  },
  {
   "cell_type": "code",
   "execution_count": 16,
   "metadata": {
    "colab": {
     "base_uri": "https://localhost:8080/"
    },
    "executionInfo": {
     "elapsed": 273,
     "status": "ok",
     "timestamp": 1696930234237,
     "user": {
      "displayName": "Samantha Penny",
      "userId": "15930921040156864267"
     },
     "user_tz": -60
    },
    "id": "cb25a1ee",
    "outputId": "64c534d9-4cd9-494e-c6dc-9d858c8e70f5"
   },
   "outputs": [
    {
     "name": "stdout",
     "output_type": "stream",
     "text": [
      "[1, 4, 9, 16, 25, 36, 64, 81, 100, 121, 144, 169, 225, 256, 289, 324, 361, 400, 484, 529, 576, 625, 676, 729, 841, 900, 961, 1024, 1089, 1156, 1296, 1369, 1444, 1521, 1600, 1681, 1849, 1936, 2025, 2116, 2209, 2304, 2500, 2601, 2704, 2809, 2916, 3025, 3249, 3364, 3481, 3600, 3721, 3844, 4096, 4225, 4356, 4489, 4624, 4761, 5041, 5184, 5329, 5476, 5625, 5776, 6084, 6241, 6400, 6561, 6724, 6889, 7225, 7396, 7569, 7744, 7921, 8100, 8464, 8649, 8836, 9025, 9216, 9409, 9801, 10000]\n"
     ]
    }
   ],
   "source": [
    "new_list = []\n",
    "\n",
    "#loop over the numbers and identify those that are not divisible by 7\n",
    "for n in range(1,101):\n",
    "  if n % 7 != 0:\n",
    "    new_list.append(n**2)\n",
    "\n",
    "print(new_list)"
   ]
  },
  {
   "cell_type": "markdown",
   "metadata": {
    "id": "c8c53f26"
   },
   "source": [
    "## Exercise 5\n",
    "\n",
    "Find\n",
    "$$ \\sum_{k=0}^{100}  \\frac{4}{(4k+1)(4k+3)},$$\n",
    "write your code in the cell (you may add more cells) below."
   ]
  },
  {
   "cell_type": "code",
   "execution_count": 14,
   "metadata": {
    "executionInfo": {
     "elapsed": 278,
     "status": "ok",
     "timestamp": 1696930149451,
     "user": {
      "displayName": "Samantha Penny",
      "userId": "15930921040156864267"
     },
     "user_tz": -60
    },
    "id": "3e5251bd"
   },
   "outputs": [],
   "source": [
    "#I'm going to reuse my sum function from above\n",
    "\n",
    "#code up the mathematical function\n",
    "\n",
    "def my_func3(k):\n",
    "  return 4/((4*k+1)*(4*k+3))\n",
    "\n"
   ]
  },
  {
   "cell_type": "code",
   "execution_count": 13,
   "metadata": {
    "colab": {
     "base_uri": "https://localhost:8080/"
    },
    "executionInfo": {
     "elapsed": 253,
     "status": "ok",
     "timestamp": 1696930147065,
     "user": {
      "displayName": "Samantha Penny",
      "userId": "15930921040156864267"
     },
     "user_tz": -60
    },
    "id": "qsFpXQWQT_2Y",
    "outputId": "d1d132cb-6216-40a0-c81d-c4df10e519f7"
   },
   "outputs": [
    {
     "name": "stdout",
     "output_type": "stream",
     "text": [
      "1.5683210944351496\n"
     ]
    }
   ],
   "source": [
    "answer = better_sum(0,100,my_func3)\n",
    "print(answer)"
   ]
  },
  {
   "cell_type": "markdown",
   "metadata": {
    "id": "20a10d10"
   },
   "source": [
    "## Exercise 6\n",
    "\n",
    "Create a function __consec_integers__ that has two inputs:\n",
    "\n",
    "-   a, an integer\n",
    "-   b, an integer\n",
    "\n",
    "\n",
    "and it returns a list of all integers between $a$ and $b$ (including them).\n",
    "\n",
    "Test your function with a few inputs."
   ]
  },
  {
   "cell_type": "code",
   "execution_count": 15,
   "metadata": {
    "colab": {
     "base_uri": "https://localhost:8080/"
    },
    "executionInfo": {
     "elapsed": 222,
     "status": "ok",
     "timestamp": 1696930213327,
     "user": {
      "displayName": "Samantha Penny",
      "userId": "15930921040156864267"
     },
     "user_tz": -60
    },
    "id": "9acbe7f8",
    "outputId": "935a76fb-a0ce-4b9e-ef33-bb6bc2dde9fb"
   },
   "outputs": [
    {
     "data": {
      "text/plain": [
       "[1, 2, 3, 4, 5]"
      ]
     },
     "execution_count": 15,
     "metadata": {},
     "output_type": "execute_result"
    }
   ],
   "source": [
    "def consec_integers(a,b):\n",
    "  return_list = []\n",
    "  for n in range(a,b+1):\n",
    "    return_list.append(n)\n",
    "  return return_list\n",
    "\n",
    "consec_integers(1,5)"
   ]
  },
  {
   "cell_type": "markdown",
   "metadata": {
    "id": "8e2d835c"
   },
   "source": [
    "## Exercise 7\n",
    "To check if $x$ is an element of a list __mylist__ you may use:\n",
    "    $$\\verb|x in mylist |$$\n",
    "\n",
    "To check if $x$ is not an element of a list __mylist__ you may use:\n",
    "    $$\\verb|x not in mylist |$$\n",
    "Create a function __common_element__ that has two inputs:\n",
    "- listA, a list of some elements,\n",
    "- listB, a list of some elements.\n",
    "\n",
    "It should return all elements that are both in listA and listB, so common elements of these two lists.\n",
    "\n",
    "Test your function with the following lists:\n",
    "- $[1, 4, 5, 6, 8, 9, 13, 16, 18, 23]$,\n",
    "- $[5, 8, 11, 12, 13, 15, 17, 18]$"
   ]
  },
  {
   "cell_type": "code",
   "execution_count": 17,
   "metadata": {
    "colab": {
     "base_uri": "https://localhost:8080/"
    },
    "executionInfo": {
     "elapsed": 221,
     "status": "ok",
     "timestamp": 1696930547860,
     "user": {
      "displayName": "Samantha Penny",
      "userId": "15930921040156864267"
     },
     "user_tz": -60
    },
    "id": "8b4d1e6a",
    "outputId": "6ebda426-8199-4ce8-bde1-f53404811600"
   },
   "outputs": [
    {
     "data": {
      "text/plain": [
       "[5, 8, 13, 18]"
      ]
     },
     "execution_count": 17,
     "metadata": {},
     "output_type": "execute_result"
    }
   ],
   "source": [
    "def common_element(listA, listB):\n",
    "  common_list = []\n",
    "  for item in listA:\n",
    "    if item in listB:\n",
    "      common_list.append(item)\n",
    "  return common_list\n",
    "\n",
    "list_A = [1,4,5,6,8,9,13,16,18,23]\n",
    "list_B = [5,8,11,12,13,15,17,18]\n",
    "\n",
    "common_element(list_A, list_B)\n"
   ]
  },
  {
   "cell_type": "markdown",
   "metadata": {
    "id": "824baf41"
   },
   "source": [
    "## Exercise 8\n",
    "\n",
    "Write a nested for loop (one loop inside another) that prints a truth table for the 'and' operator. Use two variables `a` and `b` that take all combinations of True and False, and show the value of `(a and b)`. For example, you should have\n",
    "\n",
    "    a b => (a and b)\n",
    "    True True => True\n",
    "    True False => False\n",
    "    False True => False\n",
    "    False False => False"
   ]
  },
  {
   "cell_type": "code",
   "execution_count": 20,
   "metadata": {
    "colab": {
     "base_uri": "https://localhost:8080/"
    },
    "executionInfo": {
     "elapsed": 229,
     "status": "ok",
     "timestamp": 1696930809171,
     "user": {
      "displayName": "Samantha Penny",
      "userId": "15930921040156864267"
     },
     "user_tz": -60
    },
    "id": "0ea394ef",
    "outputId": "21d9a783-9962-4cec-b355-817ecccdf1a9"
   },
   "outputs": [
    {
     "name": "stdout",
     "output_type": "stream",
     "text": [
      "a b => (a and b)\n",
      "True True => True\n",
      "True False => False\n",
      "False True => False\n",
      "False False => False\n"
     ]
    }
   ],
   "source": [
    "#We need to finc all the possible combos of True and False\n",
    "#This can be done using two lists\n",
    "a = [True,False]\n",
    "b = [True,False]\n",
    "\n",
    "print(\"a b => (a and b)\")\n",
    "\n",
    "#Use a nested loop to cycle through all element combos\n",
    "for x in a:\n",
    "  for y in b:\n",
    "    res = x and y\n",
    "    print(f\"{x} {y} => {res}\")\n"
   ]
  },
  {
   "cell_type": "markdown",
   "metadata": {
    "id": "b35e6ad2"
   },
   "source": [
    "## Exercise 9\n",
    "\n",
    "In the cell below, by using the __for__ loop, calculate and print the following sum\n",
    "$$ \\sum_{k=m}^n \\frac{(k+1)^2}{k^3},$$\n",
    "where $m=10$, $n=100$."
   ]
  },
  {
   "cell_type": "code",
   "execution_count": 22,
   "metadata": {
    "colab": {
     "base_uri": "https://localhost:8080/"
    },
    "executionInfo": {
     "elapsed": 210,
     "status": "ok",
     "timestamp": 1696931536880,
     "user": {
      "displayName": "Samantha Penny",
      "userId": "15930921040156864267"
     },
     "user_tz": -60
    },
    "id": "e8590158",
    "outputId": "a0753105-8da1-48d9-9bb4-a441f6dd0c38"
   },
   "outputs": [
    {
     "name": "stdout",
     "output_type": "stream",
     "text": [
      "2.554317016693555\n"
     ]
    }
   ],
   "source": [
    "#I'm going to use my big sum again\n",
    "\n",
    "#The mathematical function\n",
    "def my_func4(k):\n",
    "  return ((k+1)**2) / k**3\n",
    "\n",
    "new_result = better_sum(10,100,my_func4)\n",
    "print(new_result)"
   ]
  },
  {
   "cell_type": "markdown",
   "metadata": {
    "id": "a4a548c9"
   },
   "source": [
    "## Exercise 10\n",
    "\n",
    "Compute the first 15 numbers in the Fibonacci series (we've described this in previous classes .... or Google it) that are greater than 10 and are multiples of 3. The 15th number should be 10610209857723."
   ]
  },
  {
   "cell_type": "code",
   "execution_count": 31,
   "metadata": {
    "colab": {
     "base_uri": "https://localhost:8080/"
    },
    "executionInfo": {
     "elapsed": 4,
     "status": "ok",
     "timestamp": 1696932235796,
     "user": {
      "displayName": "Samantha Penny",
      "userId": "15930921040156864267"
     },
     "user_tz": -60
    },
    "id": "7e6ee3bb",
    "outputId": "258473b4-ffe5-43fa-ee9b-30199b32c1b4"
   },
   "outputs": [
    {
     "name": "stdout",
     "output_type": "stream",
     "text": [
      "21\n",
      "144\n",
      "987\n",
      "6765\n",
      "46368\n",
      "317811\n",
      "2178309\n",
      "14930352\n",
      "102334155\n",
      "701408733\n",
      "4807526976\n",
      "32951280099\n",
      "225851433717\n",
      "1548008755920\n",
      "10610209857723\n"
     ]
    }
   ],
   "source": [
    "f1 = 1\n",
    "f2 = 1\n",
    "counter = 0\n",
    "flist = []\n",
    "\n",
    "while counter < 15:\n",
    "  fnext = f1+f2\n",
    "  f1 = f2\n",
    "  f2 = fnext\n",
    "  if fnext > 10 and fnext % 3 == 0:\n",
    "    flist.append(fnext)\n",
    "    counter += 1\n",
    "\n",
    "#print each element of the list on a new line\n",
    "print(*flist, sep=\"\\n\")"
   ]
  },
  {
   "cell_type": "markdown",
   "metadata": {
    "id": "5765044c"
   },
   "source": [
    "## Exercise 11 - The factorial function\n",
    "\n",
    "Let us, again, consider a factorial of a natural number $n$ where n is a positive integer. It is defined as follows\n",
    "$$ n! = 1 \\cdot 2 \\cdot 3 \\cdots (n-1)\\cdot n,$$\n",
    "and $0! = 1$.\n",
    "\n",
    "We can write this in shorthand using the **big pi** operator.\n",
    "\n",
    "$$n ! = \\prod_{k=1}^n k$$\n",
    "\n",
    "So __big pi__ is a similar operator to $\\Sigma$ but represents a product rather than a sum.\n",
    "\n",
    "Write a factorial function using a similar approach to our summation function (except using multiplication instead of addition!)"
   ]
  },
  {
   "cell_type": "code",
   "execution_count": 34,
   "metadata": {
    "colab": {
     "base_uri": "https://localhost:8080/"
    },
    "executionInfo": {
     "elapsed": 221,
     "status": "ok",
     "timestamp": 1696932408625,
     "user": {
      "displayName": "Samantha Penny",
      "userId": "15930921040156864267"
     },
     "user_tz": -60
    },
    "id": "2cb51f83",
    "outputId": "3675f227-7c3d-45dc-f3ea-79ca9124410a"
   },
   "outputs": [
    {
     "data": {
      "text/plain": [
       "6"
      ]
     },
     "execution_count": 34,
     "metadata": {},
     "output_type": "execute_result"
    }
   ],
   "source": [
    "def big_pi(start,stop,func):\n",
    "  big_product = 1\n",
    "  for k in range(start,stop+1):\n",
    "    big_product *= func(k)\n",
    "  return big_product\n",
    "\n",
    "def my_func5(k):\n",
    "  return k\n",
    "\n",
    "big_pi(1,3,my_func5)"
   ]
  },
  {
   "cell_type": "markdown",
   "metadata": {
    "id": "720cf5e7"
   },
   "source": [
    "## Exercise 12\n",
    "\n",
    "Calculate\n",
    "$$ \\prod_{k=1}^{10} \\frac{1}{k^2}$$\n",
    "\n",
    "(The answer should be very small!)"
   ]
  },
  {
   "cell_type": "code",
   "execution_count": 35,
   "metadata": {
    "colab": {
     "base_uri": "https://localhost:8080/"
    },
    "executionInfo": {
     "elapsed": 232,
     "status": "ok",
     "timestamp": 1696932470257,
     "user": {
      "displayName": "Samantha Penny",
      "userId": "15930921040156864267"
     },
     "user_tz": -60
    },
    "id": "72f380dc",
    "outputId": "66ca9046-9852-4a62-a8c8-8316bfd495ed"
   },
   "outputs": [
    {
     "data": {
      "text/plain": [
       "7.594058428126622e-14"
      ]
     },
     "execution_count": 35,
     "metadata": {},
     "output_type": "execute_result"
    }
   ],
   "source": [
    "def my_func6(k):\n",
    "  return 1/k**2\n",
    "\n",
    "big_pi(1,10,my_func6)"
   ]
  },
  {
   "cell_type": "markdown",
   "metadata": {
    "id": "f195ba57"
   },
   "source": [
    "## Exercise 13\n",
    "\n",
    "The $n$-th term of the arithmetic sequence\n",
    "$$ a_1, a_2, \\ldots, a_n \\ldots $$\n",
    "is given by\n",
    "$$ a_n = a_1 + (n-1)d,$$\n",
    "where $a_1$ is the first term of the sequence,\n",
    "and $d$ is the common difference of successive members.\n",
    "\n",
    "Write a function __arithm_seq__ with three inputs:\n",
    "- a1 (any numerical)\n",
    "- n (positive int)\n",
    "- d (any numerical)\n",
    "\n",
    "so that it returns the n-th element of the arithmetic sequence with these parameters.\n",
    "\n",
    "Given that $a_1 = 3$, $n = 17$ and $d = \\frac{4}{3}$ use your function __geo_seq__\n",
    "to print $a_{17}$.\n",
    "\n",
    "**Then** find the sum\n",
    "$$\\sum_{k=1}^{100}a_k$$\n",
    "of first $100$ terms of the arithmetic progression,  \n",
    "with $a_1 = 5$, $d = \\frac{3}{2}$.\n"
   ]
  },
  {
   "cell_type": "code",
   "execution_count": 38,
   "metadata": {
    "colab": {
     "base_uri": "https://localhost:8080/"
    },
    "executionInfo": {
     "elapsed": 232,
     "status": "ok",
     "timestamp": 1696933464368,
     "user": {
      "displayName": "Samantha Penny",
      "userId": "15930921040156864267"
     },
     "user_tz": -60
    },
    "id": "ad9615e7",
    "outputId": "ea70dde4-a89e-46e7-b2fc-948947f16b68"
   },
   "outputs": [
    {
     "name": "stdout",
     "output_type": "stream",
     "text": [
      "7925.0\n"
     ]
    }
   ],
   "source": [
    "def arithm_seq(a1,n,d):\n",
    "  return a1 + (n-1)*d\n",
    "\n",
    "arithm_seq(3,17,4/3)\n",
    "\n",
    "#sum this\n",
    "ans = 0\n",
    "for k in range(1,101):\n",
    "  ans += arithm_seq(5,k,3/2)\n",
    "\n",
    "print(ans)"
   ]
  },
  {
   "cell_type": "markdown",
   "metadata": {
    "id": "23207948"
   },
   "source": [
    "## Exercise 14\n",
    "\n",
    "Write a function which determines if an integer is prime (meaning it has no number other than one that divides it without a remainder). Remember the remainder operator is `x % y`. This function will need a loop and a conditional.\n",
    "\n",
    "You can check if two things are not equal either with\n",
    "\n",
    "`if x != y:`\n",
    "\n",
    "or\n",
    "\n",
    "`if not x == y`:"
   ]
  },
  {
   "cell_type": "code",
   "execution_count": 48,
   "metadata": {
    "colab": {
     "base_uri": "https://localhost:8080/",
     "height": 35
    },
    "executionInfo": {
     "elapsed": 223,
     "status": "ok",
     "timestamp": 1696934108935,
     "user": {
      "displayName": "Samantha Penny",
      "userId": "15930921040156864267"
     },
     "user_tz": -60
    },
    "id": "32fd8c18",
    "outputId": "b9647204-c4f7-4151-927a-6162dc0ac9c2"
   },
   "outputs": [
    {
     "data": {
      "application/vnd.google.colaboratory.intrinsic+json": {
       "type": "string"
      },
      "text/plain": [
       "'999331 is a prime number.'"
      ]
     },
     "execution_count": 48,
     "metadata": {},
     "output_type": "execute_result"
    }
   ],
   "source": [
    "def is_prime(n):\n",
    "  if n == 1 or n == 2:\n",
    "    return f\"{n} is not a prime number.\"\n",
    "  for i in range(2,n):\n",
    "    if n % i == 0:\n",
    "      return f\"{n} is not a prime number.\"\n",
    "  return f\"{n} is a prime number.\"\n",
    "\n",
    "is_prime(999331)"
   ]
  },
  {
   "cell_type": "markdown",
   "metadata": {
    "id": "4eec455a"
   },
   "source": [
    "## Exercise 15 - Challenging\n",
    "\n",
    "In 14th century an Indian mathematician and astronomer, __Madhava of Sangamagrama__,\n",
    "gave a method for computing the value of $\\pi$ with precision to $11$ decimal places.\n",
    "\n",
    "He showed that\n",
    "$$ \\pi \\approx \\sqrt{12}\\sum_{k=0}^{21} \\frac{(-3)^{-k}}{2k+1} = \\sqrt{12}\\sum_{k=0}^{21} \\frac{(-\\frac{1}{3})^k}{2k+1} =  \\sum_{k=0}^{21} \\sqrt{12} \\frac{(-\\frac{1}{3})^k}{2k+1}$$\n",
    "is correct to 11 decimal places\n",
    "\n",
    "Use this expression to compute $\\pi$ and check it's accuracy against `math.pi`"
   ]
  },
  {
   "cell_type": "code",
   "execution_count": 52,
   "metadata": {
    "colab": {
     "base_uri": "https://localhost:8080/"
    },
    "executionInfo": {
     "elapsed": 235,
     "status": "ok",
     "timestamp": 1696934475633,
     "user": {
      "displayName": "Samantha Penny",
      "userId": "15930921040156864267"
     },
     "user_tz": -60
    },
    "id": "0d320f4d",
    "outputId": "809931b6-c139-429e-9d90-2857116985a6"
   },
   "outputs": [
    {
     "name": "stdout",
     "output_type": "stream",
     "text": [
      "0.9999999999994081\n"
     ]
    }
   ],
   "source": [
    "import math\n",
    "\n",
    "def my_func7(k):\n",
    "  return(12**(1/2)*((-1/3)**k/(2*k+1)))\n",
    "\n",
    "a = better_sum(0,21,my_func7)\n",
    "\n",
    "#check this is close to the true value of pi\n",
    "print(a/math.pi)"
   ]
  },
  {
   "cell_type": "markdown",
   "metadata": {
    "id": "7a097603"
   },
   "source": [
    "## Exercise 16 - Challenging\n",
    "\n",
    "In 1656 English mathematician, John Wallis, approximated $\\pi$ with products, that is,\n",
    "$$\\pi  = 2 \\prod_{n=1}^{M} \\frac{ 4n^2 }{ 4n^2 - 1 } $$\n",
    "when $M$ becomes large (converges to infinity).\n",
    "\n",
    "As you increase $M$ the product will get closer to $\\pi$.\n",
    "\n",
    "Compute this with the largest value of $M$ that you can (NOTE: using M = 210938120983723897546823764 will not work as the code will never finish!) How accurate can you make this?"
   ]
  },
  {
   "cell_type": "code",
   "execution_count": 61,
   "metadata": {
    "colab": {
     "base_uri": "https://localhost:8080/"
    },
    "executionInfo": {
     "elapsed": 220,
     "status": "ok",
     "timestamp": 1696934719751,
     "user": {
      "displayName": "Samantha Penny",
      "userId": "15930921040156864267"
     },
     "user_tz": -60
    },
    "id": "50926016",
    "outputId": "86cc88af-a824-4bcc-ed7d-11dc538624d0"
   },
   "outputs": [
    {
     "name": "stdout",
     "output_type": "stream",
     "text": [
      "3.141584799657247 3.141592653589793\n"
     ]
    }
   ],
   "source": [
    "def my_func8(n):\n",
    "  return (4*n**2)/(4*n**2 - 1)\n",
    "\n",
    "pi_calc = 2*big_pi(1,100000,my_func8)\n",
    "\n",
    "print(pi_calc, math.pi)"
   ]
  },
  {
   "cell_type": "markdown",
   "metadata": {
    "id": "734a1fce"
   },
   "source": [
    "## Exercise 17\n",
    "\n",
    "Write a function to return the first 10 even prime numbers.\n",
    "\n",
    "**NOTE** Sometimes as mathematicians/physicists if you understand the question being asked you can solve it much quicker than someone without your background! Think carefully about this one!"
   ]
  },
  {
   "cell_type": "code",
   "execution_count": 63,
   "metadata": {
    "colab": {
     "base_uri": "https://localhost:8080/"
    },
    "executionInfo": {
     "elapsed": 299,
     "status": "ok",
     "timestamp": 1696934913459,
     "user": {
      "displayName": "Samantha Penny",
      "userId": "15930921040156864267"
     },
     "user_tz": -60
    },
    "id": "fWI__l_bMFkJ",
    "outputId": "e87d17f5-555b-4df4-f4d7-0e2fd9db526d"
   },
   "outputs": [
    {
     "name": "stdout",
     "output_type": "stream",
     "text": [
      "2 is the only even prime number. So this question makes no sense\n"
     ]
    }
   ],
   "source": [
    "print(f\"2 is the only even prime number. So this question makes no sense.\")"
   ]
  },
  {
   "cell_type": "markdown",
   "metadata": {
    "id": "1KOU5NylL_7b"
   },
   "source": [
    "## Exercise 18 Caesar Shift - Challenge\n",
    "\n",
    "Write functions to impliment (code and decode) a Caesar Shift cipher.\n",
    "\n",
    "Use your functions to decode \"KYV ERKZFERC TZGYVI TYRCCVEXV JKRIKJ FE KYV JZOKY FW FTKFSVI. ZK JKRIKJ HLZKV VRJP SLK JFFE XVKJ UZWWZTLCK. ZK ZJ WIVV KF VEKVI.\"\n",
    "\n",
    "There are several ways to do this. One way that uses only skills we have covered so far, and the fact that Python has a function 'ord' that returns 65 for 'A' and 90 for 'Z', is outlined below:\n",
    "\n",
    "1. Define a string that contains the alphabet in upper case letters.\n",
    "2. Write a function that slices the alphabet, making a new string with letters shifted n places, and wrapped so all letters are present. I'll call this the key.\n",
    "3. Write a new function that creates a new string containing the coded/decoded text, by examining each letter in the text in turn and adding the equivalent letter from the key to the new string.\n",
    "4. Write a short function that prints all 26 possible Caesar shift versions of the text. One of them should make sense.\n",
    "\n",
    "Things to consider:\n",
    "How to cope with a character that is not in the alphabet. Ciphertext is conventionally in upper case, with plaintext in lower case. The method described above is a brute force approach. You could use frequency analysis on a long text, or look for single-letter words.\n",
    "\n"
   ]
  },
  {
   "cell_type": "code",
   "execution_count": 65,
   "metadata": {
    "colab": {
     "base_uri": "https://localhost:8080/",
     "height": 500
    },
    "executionInfo": {
     "elapsed": 281,
     "status": "ok",
     "timestamp": 1696935048929,
     "user": {
      "displayName": "Samantha Penny",
      "userId": "15930921040156864267"
     },
     "user_tz": -60
    },
    "id": "39b4f234",
    "outputId": "af93a72e-5054-4b58-fa20-0bf7ced01487"
   },
   "outputs": [
    {
     "name": "stdout",
     "output_type": "stream",
     "text": [
      "A 65\n",
      "B 66\n",
      "C 67\n",
      "D 68\n",
      "E 69\n",
      "F 70\n",
      "G 71\n",
      "H 72\n",
      "I 73\n",
      "J 74\n",
      "K 75\n",
      "L 76\n",
      "M 77\n",
      "N 78\n",
      "O 79\n",
      "P 80\n",
      "Q 81\n",
      "R 82\n",
      "S 83\n",
      "T 84\n",
      "U 85\n",
      "V 86\n",
      "W 87\n",
      "X 88\n",
      "Y 89\n",
      "Z 90\n"
     ]
    },
    {
     "data": {
      "application/vnd.google.colaboratory.intrinsic+json": {
       "type": "string"
      },
      "text/plain": [
       "'DEFGHIJKLMNOPQRSTUVWXYZABC'"
      ]
     },
     "execution_count": 65,
     "metadata": {},
     "output_type": "execute_result"
    }
   ],
   "source": [
    "A = \"ABCDEFGHIJKLMNOPQRSTUVWXYZ\"\n",
    "\n",
    "#demonstrate that ord gives us a number associated with each letter\n",
    "for char in range(0,len(A)):\n",
    "  print(A[char],ord(A[char]))\n",
    "\n",
    "\n",
    "def shift(A,n):\n",
    "  #slice the list. Take the first n elements and put them on the end.\n",
    "  key = (A[n:]+A[:n])\n",
    "  return key\n",
    "\n",
    "shift(A,3)"
   ]
  },
  {
   "cell_type": "code",
   "execution_count": 66,
   "metadata": {
    "executionInfo": {
     "elapsed": 209,
     "status": "ok",
     "timestamp": 1696935120343,
     "user": {
      "displayName": "Samantha Penny",
      "userId": "15930921040156864267"
     },
     "user_tz": -60
    },
    "id": "p4e7TryUNTmP"
   },
   "outputs": [],
   "source": [
    "def caesar(text,n):\n",
    "  A = \"ABCDEFGHIJKLMNOPQRSTUVWXYZ\"\n",
    "  #shift all the characters along by n\n",
    "  key = shift(A,n)\n",
    "  code = \"\"\n",
    "  for char in range (len(text)):\n",
    "    #keeps characters that are not in the alphabet\n",
    "    if text[char]<\"A\" or text[char]>\"Z\":\n",
    "      code = code+text[char]\n",
    "    else:\n",
    "      #shifts the character back to its original position\n",
    "      c = ord(text[char])-65\n",
    "      code = code+key[c]\n",
    "  return code"
   ]
  },
  {
   "cell_type": "code",
   "execution_count": 67,
   "metadata": {
    "colab": {
     "base_uri": "https://localhost:8080/"
    },
    "executionInfo": {
     "elapsed": 3,
     "status": "ok",
     "timestamp": 1696935128060,
     "user": {
      "displayName": "Samantha Penny",
      "userId": "15930921040156864267"
     },
     "user_tz": -60
    },
    "id": "q8QHeZDXNwvW",
    "outputId": "254ba7cb-3865-48ad-b3a8-e3266570b04f"
   },
   "outputs": [
    {
     "name": "stdout",
     "output_type": "stream",
     "text": [
      "0 KYV ERKZFERC TZGYVI TYRCCVEXV JKRIKJ FE KYV JZOKY FW FTKFSVI. ZK JKRIKJ HLZKV VRJP SLK JFFE XVKJ UZWWZTLCK. ZK ZJ WIVV KF VEKVI.\n",
      "1 LZW FSLAGFSD UAHZWJ UZSDDWFYW KLSJLK GF LZW KAPLZ GX GULGTWJ. AL KLSJLK IMALW WSKQ TML KGGF YWLK VAXXAUMDL. AL AK XJWW LG WFLWJ.\n",
      "2 MAX GTMBHGTE VBIAXK VATEEXGZX LMTKML HG MAX LBQMA HY HVMHUXK. BM LMTKML JNBMX XTLR UNM LHHG ZXML WBYYBVNEM. BM BL YKXX MH XGMXK.\n",
      "3 NBY HUNCIHUF WCJBYL WBUFFYHAY MNULNM IH NBY MCRNB IZ IWNIVYL. CN MNULNM KOCNY YUMS VON MIIH AYNM XCZZCWOFN. CN CM ZLYY NI YHNYL.\n",
      "4 OCZ IVODJIVG XDKCZM XCVGGZIBZ NOVMON JI OCZ NDSOC JA JXOJWZM. DO NOVMON LPDOZ ZVNT WPO NJJI BZON YDAADXPGO. DO DN AMZZ OJ ZIOZM.\n",
      "5 PDA JWPEKJWH YELDAN YDWHHAJCA OPWNPO KJ PDA OETPD KB KYPKXAN. EP OPWNPO MQEPA AWOU XQP OKKJ CAPO ZEBBEYQHP. EP EO BNAA PK AJPAN.\n",
      "6 QEB KXQFLKXI ZFMEBO ZEXIIBKDB PQXOQP LK QEB PFUQE LC LZQLYBO. FQ PQXOQP NRFQB BXPV YRQ PLLK DBQP AFCCFZRIQ. FQ FP COBB QL BKQBO.\n",
      "7 RFC LYRGMLYJ AGNFCP AFYJJCLEC QRYPRQ ML RFC QGVRF MD MARMZCP. GR QRYPRQ OSGRC CYQW ZSR QMML ECRQ BGDDGASJR. GR GQ DPCC RM CLRCP.\n",
      "8 SGD MZSHNMZK BHOGDQ BGZKKDMFD RSZQSR NM SGD RHWSG NE NBSNADQ. HS RSZQSR PTHSD DZRX ATS RNNM FDSR CHEEHBTKS. HS HR EQDD SN DMSDQ.\n",
      "9 THE NATIONAL CIPHER CHALLENGE STARTS ON THE SIXTH OF OCTOBER. IT STARTS QUITE EASY BUT SOON GETS DIFFICULT. IT IS FREE TO ENTER.\n",
      "10 UIF OBUJPOBM DJQIFS DIBMMFOHF TUBSUT PO UIF TJYUI PG PDUPCFS. JU TUBSUT RVJUF FBTZ CVU TPPO HFUT EJGGJDVMU. JU JT GSFF UP FOUFS.\n",
      "11 VJG PCVKQPCN EKRJGT EJCNNGPIG UVCTVU QP VJG UKZVJ QH QEVQDGT. KV UVCTVU SWKVG GCUA DWV UQQP IGVU FKHHKEWNV. KV KU HTGG VQ GPVGT.\n",
      "12 WKH QDWLRQDO FLSKHU FKDOOHQJH VWDUWV RQ WKH VLAWK RI RFWREHU. LW VWDUWV TXLWH HDVB EXW VRRQ JHWV GLIILFXOW. LW LV IUHH WR HQWHU.\n",
      "13 XLI REXMSREP GMTLIV GLEPPIRKI WXEVXW SR XLI WMBXL SJ SGXSFIV. MX WXEVXW UYMXI IEWC FYX WSSR KIXW HMJJMGYPX. MX MW JVII XS IRXIV.\n",
      "14 YMJ SFYNTSFQ HNUMJW HMFQQJSLJ XYFWYX TS YMJ XNCYM TK THYTGJW. NY XYFWYX VZNYJ JFXD GZY XTTS LJYX INKKNHZQY. NY NX KWJJ YT JSYJW.\n",
      "15 ZNK TGZOUTGR IOVNKX INGRRKTMK YZGXZY UT ZNK YODZN UL UIZUHKX. OZ YZGXZY WAOZK KGYE HAZ YUUT MKZY JOLLOIARZ. OZ OY LXKK ZU KTZKX.\n",
      "16 AOL UHAPVUHS JPWOLY JOHSSLUNL ZAHYAZ VU AOL ZPEAO VM VJAVILY. PA ZAHYAZ XBPAL LHZF IBA ZVVU NLAZ KPMMPJBSA. PA PZ MYLL AV LUALY.\n",
      "17 BPM VIBQWVIT KQXPMZ KPITTMVOM ABIZBA WV BPM AQFBP WN WKBWJMZ. QB ABIZBA YCQBM MIAG JCB AWWV OMBA LQNNQKCTB. QB QA NZMM BW MVBMZ.\n",
      "18 CQN WJCRXWJU LRYQNA LQJUUNWPN BCJACB XW CQN BRGCQ XO XLCXKNA. RC BCJACB ZDRCN NJBH KDC BXXW PNCB MROORLDUC. RC RB OANN CX NWCNA.\n",
      "19 DRO XKDSYXKV MSZROB MRKVVOXQO CDKBDC YX DRO CSHDR YP YMDYLOB. SD CDKBDC AESDO OKCI LED CYYX QODC NSPPSMEVD. SD SC PBOO DY OXDOB.\n",
      "20 ESP YLETZYLW NTASPC NSLWWPYRP DELCED ZY ESP DTIES ZQ ZNEZMPC. TE DELCED BFTEP PLDJ MFE DZZY RPED OTQQTNFWE. TE TD QCPP EZ PYEPC.\n",
      "21 FTQ ZMFUAZMX OUBTQD OTMXXQZSQ EFMDFE AZ FTQ EUJFT AR AOFANQD. UF EFMDFE CGUFQ QMEK NGF EAAZ SQFE PURRUOGXF. UF UE RDQQ FA QZFQD.\n",
      "22 GUR ANGVBANY PVCURE PUNYYRATR FGNEGF BA GUR FVKGU BS BPGBORE. VG FGNEGF DHVGR RNFL OHG FBBA TRGF QVSSVPHYG. VG VF SERR GB RAGRE.\n",
      "23 HVS BOHWCBOZ QWDVSF QVOZZSBUS GHOFHG CB HVS GWLHV CT CQHCPSF. WH GHOFHG EIWHS SOGM PIH GCCB USHG RWTTWQIZH. WH WG TFSS HC SBHSF.\n",
      "24 IWT CPIXDCPA RXEWTG RWPAATCVT HIPGIH DC IWT HXMIW DU DRIDQTG. XI HIPGIH FJXIT TPHN QJI HDDC VTIH SXUUXRJAI. XI XH UGTT ID TCITG.\n",
      "25 JXU DQJYEDQB SYFXUH SXQBBUDWU IJQHJI ED JXU IYNJX EV ESJERUH. YJ IJQHJI GKYJU UQIO RKJ IEED WUJI TYVVYSKBJ. YJ YI VHUU JE UDJUH.\n"
     ]
    }
   ],
   "source": [
    "codestring=\"KYV ERKZFERC TZGYVI TYRCCVEXV JKRIKJ FE KYV JZOKY FW FTKFSVI. ZK JKRIKJ HLZKV VRJP SLK JFFE XVKJ UZWWZTLCK. ZK ZJ WIVV KF VEKVI.\"\n",
    "\n",
    "for n in range(0,26):\n",
    "  print(n, caesar(codestring,n))"
   ]
  },
  {
   "cell_type": "code",
   "execution_count": null,
   "metadata": {
    "id": "hWfZ3nhNNyo7"
   },
   "outputs": [],
   "source": []
  }
 ],
 "metadata": {
  "colab": {
   "authorship_tag": "ABX9TyNhspFV5CKfOJ9Bna/r5g0L",
   "provenance": []
  },
  "kernelspec": {
   "display_name": "Python 3 (ipykernel)",
   "language": "python",
   "name": "python3"
  },
  "language_info": {
   "codemirror_mode": {
    "name": "ipython",
    "version": 3
   },
   "file_extension": ".py",
   "mimetype": "text/x-python",
   "name": "python",
   "nbconvert_exporter": "python",
   "pygments_lexer": "ipython3",
   "version": "3.9.7"
  }
 },
 "nbformat": 4,
 "nbformat_minor": 1
}
