{
 "cells": [
  {
   "cell_type": "markdown",
   "metadata": {
    "id": "_59gonZYzJV4"
   },
   "source": [
    "# Indices and ordering: INTERACTIVE - SOLVED\n",
    "\n",
    "Lists are *ordered*, this simply means that you have \"the first object in the list\", \"the second object in the list\", etc.\n",
    "An __index__ is a position of an element in the list. In python, the first element of a list has index $0$ not $1$, therefore indices start from $0$. **REMEMBER THIS** in python we count from 0 ... This is true in *most* computer languages, but as we will see in TB2, it is not true in matlab.\n",
    "\n",
    "We can access elements of the list below (`pow_list`) in the following way: If we want the second element we do `pow_list[1]`. **SAYING THIS AGAIN** python counts from 0, so the first element of the list (the 1) is at position \"0\", the second element (the 4) at position \"1\" and so on."
   ]
  },
  {
   "cell_type": "code",
   "execution_count": 2,
   "metadata": {
    "executionInfo": {
     "elapsed": 191,
     "status": "ok",
     "timestamp": 1696860283406,
     "user": {
      "displayName": "Samantha Penny",
      "userId": "15930921040156864267"
     },
     "user_tz": -60
    },
    "id": "lKp-QC7Ry-pj"
   },
   "outputs": [],
   "source": [
    "pow_list = [1, 4, 9, 16, 25, 36]"
   ]
  },
  {
   "cell_type": "code",
   "execution_count": 3,
   "metadata": {
    "colab": {
     "base_uri": "https://localhost:8080/"
    },
    "executionInfo": {
     "elapsed": 6,
     "status": "ok",
     "timestamp": 1696860283788,
     "user": {
      "displayName": "Samantha Penny",
      "userId": "15930921040156864267"
     },
     "user_tz": -60
    },
    "id": "zfmvXtDmzonj",
    "outputId": "f66d433b-6935-491b-fe5f-925b5e284f49"
   },
   "outputs": [
    {
     "name": "stdout",
     "output_type": "stream",
     "text": [
      "4\n"
     ]
    }
   ],
   "source": [
    "print(pow_list[1])"
   ]
  },
  {
   "cell_type": "markdown",
   "metadata": {
    "id": "UaWHyEBJzgJw"
   },
   "source": [
    "## EXERCISE\n",
    "\n",
    "Print the 1st, 4th and 7th elements of this list"
   ]
  },
  {
   "cell_type": "code",
   "execution_count": 5,
   "metadata": {
    "colab": {
     "base_uri": "https://localhost:8080/"
    },
    "executionInfo": {
     "elapsed": 183,
     "status": "ok",
     "timestamp": 1696860300378,
     "user": {
      "displayName": "Samantha Penny",
      "userId": "15930921040156864267"
     },
     "user_tz": -60
    },
    "id": "sqVRMIt9zbu6",
    "outputId": "acffe87d-9b86-4f70-af6d-c56edeeb83bf"
   },
   "outputs": [
    {
     "name": "stdout",
     "output_type": "stream",
     "text": [
      "1 9\n"
     ]
    }
   ],
   "source": [
    "print(pow_list[0],pow_list[2])"
   ]
  },
  {
   "cell_type": "markdown",
   "metadata": {
    "id": "DmqCIv2DzzH_"
   },
   "source": [
    "If you try to access an element of the list that is out of bounds the code will fail.\n",
    "\n",
    "## EXERCISE\n",
    "\n",
    "Try to access the 8th element of this list"
   ]
  },
  {
   "cell_type": "code",
   "execution_count": null,
   "metadata": {
    "id": "ol3kR3ASz20n"
   },
   "outputs": [],
   "source": []
  },
  {
   "cell_type": "markdown",
   "metadata": {
    "id": "B8IRArVcz4Qm"
   },
   "source": [
    "However, there is a strange (but sometimes useful) feature that you can index on negative numbers. For example `pow_list[-1]` will access the *last* element of the list, `pow_list[-2]` the *second* to last element and so on. `pow_list[-8]` will still fail."
   ]
  },
  {
   "cell_type": "code",
   "execution_count": 6,
   "metadata": {
    "colab": {
     "base_uri": "https://localhost:8080/"
    },
    "executionInfo": {
     "elapsed": 224,
     "status": "ok",
     "timestamp": 1696860325802,
     "user": {
      "displayName": "Samantha Penny",
      "userId": "15930921040156864267"
     },
     "user_tz": -60
    },
    "id": "PScvQQ7Gz3cc",
    "outputId": "4e6ed37c-500a-42ae-b49d-b8fcfd18cdc5"
   },
   "outputs": [
    {
     "data": {
      "text/plain": [
       "36"
      ]
     },
     "execution_count": 6,
     "metadata": {},
     "output_type": "execute_result"
    }
   ],
   "source": [
    "pow_list[-1]"
   ]
  },
  {
   "cell_type": "markdown",
   "metadata": {
    "id": "3n80wNsU0IE2"
   },
   "source": [
    "### Changing elements\n",
    "\n",
    "Lists are a \"mutable\" type. This means that we can change the values of the elements in the list at will. For example let's change the second value of this list to 15."
   ]
  },
  {
   "cell_type": "code",
   "execution_count": 7,
   "metadata": {
    "colab": {
     "base_uri": "https://localhost:8080/"
    },
    "executionInfo": {
     "elapsed": 225,
     "status": "ok",
     "timestamp": 1696860480253,
     "user": {
      "displayName": "Samantha Penny",
      "userId": "15930921040156864267"
     },
     "user_tz": -60
    },
    "id": "aed_9wov0Ma9",
    "outputId": "9a5005cb-cbe0-451e-8c95-75bdda6db7e4"
   },
   "outputs": [
    {
     "name": "stdout",
     "output_type": "stream",
     "text": [
      "[1, 15, 9, 16, 25, 36]\n"
     ]
    }
   ],
   "source": [
    "# Setting the list again explicitly here in case there were issues above\n",
    "pow_list = [1, 4, 9, 16, 25, 36]\n",
    "pow_list[1] = 15\n",
    "print(pow_list)"
   ]
  },
  {
   "cell_type": "markdown",
   "metadata": {
    "id": "jiiV5TjI0Sya"
   },
   "source": [
    "We can change the value back, and again see how this changes"
   ]
  },
  {
   "cell_type": "code",
   "execution_count": 8,
   "metadata": {
    "colab": {
     "base_uri": "https://localhost:8080/"
    },
    "executionInfo": {
     "elapsed": 313,
     "status": "ok",
     "timestamp": 1696860482711,
     "user": {
      "displayName": "Samantha Penny",
      "userId": "15930921040156864267"
     },
     "user_tz": -60
    },
    "id": "QYe697ai0QAe",
    "outputId": "0b050821-1e89-4f5c-87e7-81630fafb0aa"
   },
   "outputs": [
    {
     "name": "stdout",
     "output_type": "stream",
     "text": [
      "[1, 4, 9, 16, 25, 36]\n"
     ]
    }
   ],
   "source": [
    "pow_list[1] = 4\n",
    "print(pow_list)"
   ]
  },
  {
   "cell_type": "markdown",
   "metadata": {
    "id": "b9lj8yYg0Y0N"
   },
   "source": [
    "You can see that the value has changed within the list. If you were to send this list to a function, and the function changes the value, the same thing happens:"
   ]
  },
  {
   "cell_type": "code",
   "execution_count": 9,
   "metadata": {
    "colab": {
     "base_uri": "https://localhost:8080/"
    },
    "executionInfo": {
     "elapsed": 964,
     "status": "ok",
     "timestamp": 1696860499083,
     "user": {
      "displayName": "Samantha Penny",
      "userId": "15930921040156864267"
     },
     "user_tz": -60
    },
    "id": "vHIRZB7x0OyB",
    "outputId": "f2c83450-8be6-44fd-82f0-9faf67545359"
   },
   "outputs": [
    {
     "name": "stdout",
     "output_type": "stream",
     "text": [
      "[1, 15, 9, 16, 25, 36]\n"
     ]
    }
   ],
   "source": [
    "def change_value_1(input_list):\n",
    "    input_list[1] = 15\n",
    "    return input_list\n",
    "\n",
    "pow_list = [1, 4, 9, 16, 25, 36]\n",
    "change_value_1(pow_list)\n",
    "print(pow_list)"
   ]
  },
  {
   "cell_type": "markdown",
   "metadata": {
    "id": "NNa93ND60hBr"
   },
   "source": [
    "**BUT BE CAREFUL HERE** if you assign a list to variables, and change a value in one, it changes both, as both variables reference the same object. If you want to make a copy of the list you have to create a new object and fill it with the same values."
   ]
  },
  {
   "cell_type": "code",
   "execution_count": 10,
   "metadata": {
    "colab": {
     "base_uri": "https://localhost:8080/"
    },
    "executionInfo": {
     "elapsed": 182,
     "status": "ok",
     "timestamp": 1696861138695,
     "user": {
      "displayName": "Samantha Penny",
      "userId": "15930921040156864267"
     },
     "user_tz": -60
    },
    "id": "FkmyW-Db0eVP",
    "outputId": "a71e4992-c761-455d-a152-fa8547b4776b"
   },
   "outputs": [
    {
     "name": "stdout",
     "output_type": "stream",
     "text": [
      "Here is the list we changed\n",
      "[1, 15, 9, 16, 25, 36]\n",
      "\n",
      "Here is the copied list, which has also changed!! Be careful!\n",
      "[1, 15, 9, 16, 25, 36]\n",
      "\n",
      "Here is the correctly copied list, this has not changed.\n",
      "[1, 4, 9, 16, 25, 36]\n",
      "\n"
     ]
    }
   ],
   "source": [
    "def change_value_1(input_list):\n",
    "    input_list[1] = 15\n",
    "    return input_list\n",
    "\n",
    "pow_list = [1, 4, 9, 16, 25, 36]\n",
    "# Let's copy the list badly!\n",
    "backed_up_pow_list = pow_list\n",
    "# Now we copy it properly!\n",
    "properly_backed_up_pow_list = []\n",
    "for entry in pow_list:\n",
    "    properly_backed_up_pow_list.append(entry)\n",
    "\n",
    "# Now change a value in the original list.\n",
    "change_value_1(pow_list)\n",
    "print(\"Here is the list we changed\")\n",
    "print(pow_list)\n",
    "print()\n",
    "\n",
    "# Oh no this changed too!\n",
    "print(\"Here is the copied list, which has also changed!! Be careful!\")\n",
    "print(backed_up_pow_list)\n",
    "print()\n",
    "\n",
    "# But this does not change\n",
    "print(\"Here is the correctly copied list, this has not changed.\")\n",
    "print(properly_backed_up_pow_list)\n",
    "print()"
   ]
  },
  {
   "cell_type": "markdown",
   "metadata": {
    "id": "01bf814c"
   },
   "source": [
    "## Iterating over lists\n",
    "\n",
    "Given a list:"
   ]
  },
  {
   "cell_type": "code",
   "execution_count": 11,
   "metadata": {
    "executionInfo": {
     "elapsed": 245,
     "status": "ok",
     "timestamp": 1696861176972,
     "user": {
      "displayName": "Samantha Penny",
      "userId": "15930921040156864267"
     },
     "user_tz": -60
    },
    "id": "e55411ec"
   },
   "outputs": [],
   "source": [
    "med_list = [1, 4, 5, 6, 2, 9, 10, 16, 38, 16]"
   ]
  },
  {
   "cell_type": "markdown",
   "metadata": {
    "id": "9a5449a5"
   },
   "source": [
    "we may iterate over its elements, say we wanted to print each of the elements:"
   ]
  },
  {
   "cell_type": "code",
   "execution_count": 12,
   "metadata": {
    "colab": {
     "base_uri": "https://localhost:8080/"
    },
    "executionInfo": {
     "elapsed": 185,
     "status": "ok",
     "timestamp": 1696861179683,
     "user": {
      "displayName": "Samantha Penny",
      "userId": "15930921040156864267"
     },
     "user_tz": -60
    },
    "id": "2bdbb852",
    "outputId": "4c59f5bf-36cc-4a67-f306-ce69eefd62a3"
   },
   "outputs": [
    {
     "name": "stdout",
     "output_type": "stream",
     "text": [
      "1 4 5 6 2 9 10 16 38 16 "
     ]
    }
   ],
   "source": [
    "N = len(med_list)\n",
    "\n",
    "for k in range(N):\n",
    "    print(med_list[k], end = \" \")"
   ]
  },
  {
   "cell_type": "markdown",
   "metadata": {
    "id": "774892a5"
   },
   "source": [
    "**BUT** it is much easier to do this by lopping over the items in the list directly, and it is more *pythonic*."
   ]
  },
  {
   "cell_type": "code",
   "execution_count": 13,
   "metadata": {
    "colab": {
     "base_uri": "https://localhost:8080/"
    },
    "executionInfo": {
     "elapsed": 279,
     "status": "ok",
     "timestamp": 1696861193482,
     "user": {
      "displayName": "Samantha Penny",
      "userId": "15930921040156864267"
     },
     "user_tz": -60
    },
    "id": "929326b2",
    "outputId": "6b3b4d76-d1cb-4e33-c376-e83eb65e7458"
   },
   "outputs": [
    {
     "name": "stdout",
     "output_type": "stream",
     "text": [
      "1 4 5 6 2 9 10 16 38 16 "
     ]
    }
   ],
   "source": [
    "for item in med_list:\n",
    "    print(item, end=\" \") # Note the `end = \" \"` makes sure everything is printed on a single line!"
   ]
  },
  {
   "cell_type": "markdown",
   "metadata": {
    "id": "21920a16"
   },
   "source": [
    "The range object is something clever (for a later class!) but it can be converted to a simple list by doing:"
   ]
  },
  {
   "cell_type": "code",
   "execution_count": 14,
   "metadata": {
    "colab": {
     "base_uri": "https://localhost:8080/"
    },
    "executionInfo": {
     "elapsed": 169,
     "status": "ok",
     "timestamp": 1696861213024,
     "user": {
      "displayName": "Samantha Penny",
      "userId": "15930921040156864267"
     },
     "user_tz": -60
    },
    "id": "392f5432",
    "outputId": "2741c6a7-5408-4ec0-d54e-d3dd1232c811"
   },
   "outputs": [
    {
     "data": {
      "text/plain": [
       "[0, 1, 2, 3, 4, 5, 6, 7, 8, 9]"
      ]
     },
     "execution_count": 14,
     "metadata": {},
     "output_type": "execute_result"
    }
   ],
   "source": [
    "list(range(10))"
   ]
  },
  {
   "cell_type": "markdown",
   "metadata": {
    "id": "36c2e81d"
   },
   "source": [
    "This lets us create easy lists of consecutive numbers!"
   ]
  },
  {
   "cell_type": "markdown",
   "metadata": {
    "id": "O0buAQurajMY"
   },
   "source": [
    "## Exercise\n",
    "\n",
    "Create a list of the first 7 powers of 4 ($4^1$, $4^2$, .. $4^7$.). Hint: remember the 'append' to list function.\n",
    "\n",
    "This list should be `[4, 16, 64, 256, 1024, 4096, 16384]`"
   ]
  },
  {
   "cell_type": "code",
   "execution_count": 16,
   "metadata": {
    "colab": {
     "base_uri": "https://localhost:8080/"
    },
    "executionInfo": {
     "elapsed": 181,
     "status": "ok",
     "timestamp": 1696861280834,
     "user": {
      "displayName": "Samantha Penny",
      "userId": "15930921040156864267"
     },
     "user_tz": -60
    },
    "id": "vDPt4cnXah8e",
    "outputId": "e002fdaf-c899-43ed-d11a-aa807bcfb4c3"
   },
   "outputs": [
    {
     "name": "stdout",
     "output_type": "stream",
     "text": [
      "[4, 16, 64, 256, 1024, 4096, 16384] "
     ]
    }
   ],
   "source": [
    "my_lst = []\n",
    "\n",
    "for k in range(1,8):\n",
    "  my_lst.append(4**k)\n",
    "\n",
    "print(my_lst, end=\" \")"
   ]
  },
  {
   "cell_type": "markdown",
   "metadata": {
    "id": "010b37ba"
   },
   "source": [
    "## Exercise\n",
    "\n",
    "* 1) Create a list of $x + 3 x^2 + 5 x^5$ for x between 1 and 7. E.g. `[(1 + 3* 1**2 + 5 * 1**5), (2 + 3* 2**2 + 5 * 2**5), ...]`\n",
    "* 2) Change all values of the list where x is even (the 2nd, 4th and 6th values) to be $-x + 3 x^2 - 5 x^5$\n",
    "* Your list should now look like `[9, -150, 1245, -5076, 15705, -38778, 84189]`."
   ]
  },
  {
   "cell_type": "code",
   "execution_count": 19,
   "metadata": {
    "colab": {
     "base_uri": "https://localhost:8080/"
    },
    "executionInfo": {
     "elapsed": 163,
     "status": "ok",
     "timestamp": 1696861843060,
     "user": {
      "displayName": "Samantha Penny",
      "userId": "15930921040156864267"
     },
     "user_tz": -60
    },
    "id": "a801687a",
    "outputId": "3fda3ea8-7d1d-4a50-c555-117cc546fc5a"
   },
   "outputs": [
    {
     "name": "stdout",
     "output_type": "stream",
     "text": [
      "[9, 174, 1245, 5172, 15705, 38994, 84189]\n",
      "[9, -150, 1245, -5076, 15705, -38778, 84189]\n"
     ]
    }
   ],
   "source": [
    "new_list = []\n",
    "\n",
    "for x in range(1,8):\n",
    "  new_list.append(x + 3*x**2 + 5*x**5)\n",
    "\n",
    "print(new_list)\n",
    "\n",
    "i = 0\n",
    "for item in new_list:\n",
    "  if item % 2 == 0:\n",
    "    x = i+1\n",
    "    new_list[i] = -1*x + 3*x**2 - 5*x**5\n",
    "  i += 1\n",
    "\n",
    "print(new_list)\n",
    "\n"
   ]
  },
  {
   "cell_type": "code",
   "execution_count": null,
   "metadata": {
    "id": "C5XXEyEi0oFJ"
   },
   "outputs": [],
   "source": []
  },
  {
   "cell_type": "code",
   "execution_count": null,
   "metadata": {
    "id": "XWM0sCaZ0knn"
   },
   "outputs": [],
   "source": []
  }
 ],
 "metadata": {
  "colab": {
   "authorship_tag": "ABX9TyNOiAeLLzICFpdcXR8k072n",
   "provenance": []
  },
  "kernelspec": {
   "display_name": "Python 3 (ipykernel)",
   "language": "python",
   "name": "python3"
  },
  "language_info": {
   "codemirror_mode": {
    "name": "ipython",
    "version": 3
   },
   "file_extension": ".py",
   "mimetype": "text/x-python",
   "name": "python",
   "nbconvert_exporter": "python",
   "pygments_lexer": "ipython3",
   "version": "3.9.7"
  }
 },
 "nbformat": 4,
 "nbformat_minor": 1
}
