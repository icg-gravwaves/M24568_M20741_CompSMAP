{
 "cells": [
  {
   "cell_type": "markdown",
   "metadata": {
    "id": "h8iS5cZf1YNW"
   },
   "source": [
    "# Lists: some other list operations - SOLVED\n",
    "\n",
    "## Removing items from lists\n",
    "\n",
    "You can also remove values from a list. Let's say that we want to remove the 4th entry (x=4) from our list of powers of 4 above. So that the list would contain ($4^1$, $4^2$, $4^3$, $4^5$, $4^6$, $4^7$.) There's a few ways to do this. Let's illustrate:\n"
   ]
  },
  {
   "cell_type": "code",
   "execution_count": null,
   "metadata": {
    "id": "rJYYu3WM1u2H"
   },
   "outputs": [],
   "source": []
  },
  {
   "cell_type": "code",
   "execution_count": 2,
   "metadata": {
    "colab": {
     "base_uri": "https://localhost:8080/"
    },
    "executionInfo": {
     "elapsed": 317,
     "status": "ok",
     "timestamp": 1696862026033,
     "user": {
      "displayName": "Samantha Penny",
      "userId": "15930921040156864267"
     },
     "user_tz": -60
    },
    "id": "f28cc737",
    "outputId": "0a423927-f010-40b6-c5a8-7457090fa47c"
   },
   "outputs": [
    {
     "name": "stdout",
     "output_type": "stream",
     "text": [
      "Using .pop method\n",
      "256\n",
      "[4, 16, 64, 1024, 4096, 16384]\n",
      "Copied list [4, 16, 64, 1024, 4096, 16384]\n",
      "\n"
     ]
    }
   ],
   "source": [
    "pow_list = [4, 16, 64, 256, 1024, 4096, 16384]\n",
    "\n",
    "pow_list_copy = pow_list\n",
    "\n",
    "# There's a couple of ways to remove items from the list \"in place\".\n",
    "# This means that the original list is destroyed and only the new list remains\n",
    "\n",
    "# This way removes the element at position 3 (the fourth element remember, as we count from zero!) The number\n",
    "# removed can be saved to a variable\n",
    "removed_value = pow_list.pop(3)\n",
    "print(\"Using .pop method\")\n",
    "print(removed_value)\n",
    "print(pow_list)\n",
    "# Note that the copied list is also changed\n",
    "print(\"Copied list\", pow_list_copy)\n",
    "print()"
   ]
  },
  {
   "cell_type": "code",
   "execution_count": 3,
   "metadata": {
    "colab": {
     "base_uri": "https://localhost:8080/"
    },
    "executionInfo": {
     "elapsed": 426,
     "status": "ok",
     "timestamp": 1696862035456,
     "user": {
      "displayName": "Samantha Penny",
      "userId": "15930921040156864267"
     },
     "user_tz": -60
    },
    "id": "8145d382",
    "outputId": "226621e2-087b-4d07-8335-85a553f2b2de"
   },
   "outputs": [
    {
     "name": "stdout",
     "output_type": "stream",
     "text": [
      "Using .remove method\n",
      "[4, 16, 64, 1024, 4096, 16384]\n",
      "Copied list [4, 16, 64, 1024, 4096, 16384]\n"
     ]
    }
   ],
   "source": [
    "# This is basically the same idea, but here we remove the first number equal to 256.\n",
    "pow_list = [4, 16, 64, 256, 1024, 4096, 16384]\n",
    "pow_list_copy = pow_list\n",
    "# The .remove method does *not* return the removed number\n",
    "pow_list.remove(256)\n",
    "print(\"Using .remove method\")\n",
    "print(pow_list)\n",
    "# Note that the copied list is also changed\n",
    "print(\"Copied list\", pow_list_copy)\n"
   ]
  },
  {
   "cell_type": "code",
   "execution_count": 4,
   "metadata": {
    "colab": {
     "base_uri": "https://localhost:8080/"
    },
    "executionInfo": {
     "elapsed": 297,
     "status": "ok",
     "timestamp": 1696862068647,
     "user": {
      "displayName": "Samantha Penny",
      "userId": "15930921040156864267"
     },
     "user_tz": -60
    },
    "id": "6bffaedf",
    "outputId": "69163731-af26-4c95-9e9e-fa1e0b7c364a"
   },
   "outputs": [
    {
     "name": "stdout",
     "output_type": "stream",
     "text": [
      "Redefining the list\n",
      "[4, 16, 64, 1024, 4096, 16384]\n",
      "Copied list, look this hasn't changed! [4, 16, 64, 256, 1024, 4096, 16384]\n"
     ]
    }
   ],
   "source": [
    "# We could also construct a new list, which doesn't contain this value\n",
    "pow_list = [4, 16, 64, 256, 1024, 4096, 16384]\n",
    "pow_list_copy = pow_list\n",
    "\n",
    "pow_list = [pow_list[0], pow_list[1], pow_list[2], pow_list[4], pow_list[5], pow_list[6]]\n",
    "# NOTE: This above line is a bit tricksy. We are redefining a variable using values from the original variable.\n",
    "# This is okay but pow_list changes once this is evaluated.\n",
    "\n",
    "print(\"Redefining the list\")\n",
    "print(pow_list)\n",
    "print(\"Copied list, look this hasn't changed!\", pow_list_copy)"
   ]
  },
  {
   "cell_type": "code",
   "execution_count": 5,
   "metadata": {
    "colab": {
     "base_uri": "https://localhost:8080/"
    },
    "executionInfo": {
     "elapsed": 352,
     "status": "ok",
     "timestamp": 1696862085567,
     "user": {
      "displayName": "Samantha Penny",
      "userId": "15930921040156864267"
     },
     "user_tz": -60
    },
    "id": "0669ac7d",
    "outputId": "66814d2f-bd34-4694-fe0c-235489897b32"
   },
   "outputs": [
    {
     "name": "stdout",
     "output_type": "stream",
     "text": [
      "Redefining the list\n",
      "[4, 16, 64, 1024, 4096, 16384]\n",
      "Copied list, look this hasn't changed! [4, 16, 64, 256, 1024, 4096, 16384]\n"
     ]
    }
   ],
   "source": [
    "# A shorthand way of doing what was written above is the following:\n",
    "\n",
    "pow_list = [4, 16, 64, 256, 1024, 4096, 16384]\n",
    "pow_list_copy = pow_list\n",
    "\n",
    "pow_list = pow_list[0:3] + pow_list[4:7]\n",
    "# This introduces the \"slicing\" syntax. You will need to be familiar with this for later classes, don't worry, we'll\n",
    "# give lots of practice in future classes!\n",
    "\n",
    "# Here pow_list[0:3] means all elements of pow_list between 0 and 2. The first element *is* included, the last\n",
    "# element is *not* included. That's a bit weird, again, more practice will come!\n",
    "\n",
    "# Finally as pow_list[0:3] and pow_list[4:7] are both lists, we join them together with the \"+\" operator\n",
    "\n",
    "print(\"Redefining the list\")\n",
    "print(pow_list)\n",
    "print(\"Copied list, look this hasn't changed!\", pow_list_copy)"
   ]
  },
  {
   "cell_type": "markdown",
   "metadata": {
    "id": "1a9b56fe"
   },
   "source": [
    "## EXERCISE\n",
    "\n",
    "* 1) Create a list of $x^{1./4.}$ for x between and including x=20 and x=120.\n",
    "* 2) Change the 20th, 40th, 60th and 80th elements to be 1.\n",
    "* 3) Remove the 10th, 30th, 50th, 70th and 90th elements.\n",
    "* 4) For the new list (should now be 96 elements long). Change the 15th and 25th elements to 0."
   ]
  },
  {
   "cell_type": "code",
   "execution_count": 12,
   "metadata": {
    "colab": {
     "base_uri": "https://localhost:8080/"
    },
    "executionInfo": {
     "elapsed": 594,
     "status": "ok",
     "timestamp": 1696863002789,
     "user": {
      "displayName": "Samantha Penny",
      "userId": "15930921040156864267"
     },
     "user_tz": -60
    },
    "id": "fed3c05b",
    "outputId": "2212f600-0c38-4140-e4f8-d88d0fd3db16"
   },
   "outputs": [
    {
     "name": "stdout",
     "output_type": "stream",
     "text": [
      "96\n"
     ]
    }
   ],
   "source": [
    "your_list = []\n",
    "\n",
    "for x in range(20,121):\n",
    "  your_list.append(x**(1/4))\n",
    "\n",
    "for i in [19,39,59,79]:\n",
    "  your_list[i] = 1\n",
    "\n",
    "#remove the 10th, 30th, 50th, 70th and 90th elements\n",
    "#doing this backwards ensures we don't have to play about with re-indexing\n",
    "your_list.pop(89)\n",
    "your_list.pop(69)\n",
    "your_list.pop(49)\n",
    "your_list.pop(29)\n",
    "your_list.pop(9)\n",
    "\n",
    "print(len(your_list))\n",
    "\n",
    "for j in [14,24]:\n",
    "  your_list[j] = 0\n"
   ]
  },
  {
   "cell_type": "code",
   "execution_count": 13,
   "metadata": {
    "colab": {
     "base_uri": "https://localhost:8080/"
    },
    "executionInfo": {
     "elapsed": 370,
     "status": "ok",
     "timestamp": 1696863004841,
     "user": {
      "displayName": "Samantha Penny",
      "userId": "15930921040156864267"
     },
     "user_tz": -60
    },
    "id": "98e11298",
    "outputId": "3c452574-3897-42b9-fb55-5e716a2132b2"
   },
   "outputs": [
    {
     "name": "stdout",
     "output_type": "stream",
     "text": [
      "Maximum difference. This should be 0 (but might be almost 0 due to rounding error): 0\n"
     ]
    }
   ],
   "source": [
    "expected_answer = [2.114742526881128, 2.1406951429280725, 2.1657367706679937, 2.189938703094842, 2.213363839400643, 2.23606797749979, 2.2581008643532257, 2.2795070569547775, 2.300326633791206, 2.340347319320716, 2.359611061770567, 2.378414230005442, 2.39678172692843, 2.414736402766418, 0, 2.449489742783178, 2.4663257145596607, 2.4828237961983883, 1, 2.514866859365871, 2.530439534435243, 2.5457298950218306, 2.5607496020310148, 2.5755095769013945, 0, 2.604290687140218, 2.6183304986958853, 2.6321480259049848, 2.6591479484724942, 2.6723451177837885, 2.68534961428265, 2.6981678764080854, 2.7108060108295344, 2.7232698153315003, 2.7355647997347607, 2.7476962050544724, 2.7596690210718946, 1, 2.7831576837137404, 2.794682392671241, 2.806066263296683, 2.8173132472612576, 2.8284271247461903, 2.8394115144336776, 2.8502698827717983, 2.861005552576305, 2.8716217110259006, 2.892507608519078, 2.9027831081870996, 2.9129506302439405, 2.923012785691765, 2.932972087668518, 2.942830956382712, 2.9525917237371893, 2.962256637665299, 2.9718278662008415, 1, 2.990697562442441, 3.0, 3.009216698434564, 3.018349479292333, 3.027400104035091, 3.036370276710811, 3.0452616464756694, 3.0540758099773515, 3.062814313608786, 3.080070288241023, 3.088590619387661, 3.0970410146824725, 3.1054227990714813, 3.11373725847777, 3.121985641352145, 3.1301691601465746, 3.138288992714996, 3.1463462836457885, 1, 3.1622776601683795, 3.1701538797227005, 3.1779718278112656, 3.1857325005549697, 3.19343686757474, 3.2010858729436795, 3.208680436096278, 3.216221452697031, 3.2237097954706257, 3.238531840464366, 3.245867180408456, 3.2531531233955713, 3.260390438695134, 3.2675798769167543, 3.2747221706220526, 3.281818034911291, 3.288868167986058, 3.295873251689181, 3.3028339520229766, 3.309750919646873]\n",
    "\n",
    "# Make sure your list from above is called your_list!!!\n",
    "\n",
    "max_difference = 0\n",
    "for i in range(len(your_list)):\n",
    "    current_diff = abs(expected_answer[i] - your_list[i])\n",
    "    if current_diff > max_difference:\n",
    "        max_difference = current_diff\n",
    "\n",
    "print(\"Maximum difference. This should be 0 (but might be almost 0 due to rounding error):\", max_difference)"
   ]
  },
  {
   "cell_type": "markdown",
   "metadata": {
    "id": "0314e6c1"
   },
   "source": [
    "## Summing over a list\n",
    "\n",
    "We've already shown above how we can use for loops to sum over lists. However, this can also be done using the builtin `sum` function in python. Here's how this works"
   ]
  },
  {
   "cell_type": "code",
   "execution_count": null,
   "metadata": {
    "colab": {
     "base_uri": "https://localhost:8080/"
    },
    "executionInfo": {
     "elapsed": 215,
     "status": "ok",
     "timestamp": 1696328082903,
     "user": {
      "displayName": "Samantha Penny",
      "userId": "15930921040156864267"
     },
     "user_tz": -60
    },
    "id": "9f5b2b41",
    "outputId": "9d3dccfa-9d9e-494f-96ce-44e7679d4577"
   },
   "outputs": [
    {
     "name": "stdout",
     "output_type": "stream",
     "text": [
      "107\n",
      "107\n"
     ]
    }
   ],
   "source": [
    "med_list = [1, 4, 5, 6, 2, 9, 10, 16, 38, 16]\n",
    "\n",
    "# Summation using a for loop\n",
    "\n",
    "total = 0\n",
    "for item in med_list:\n",
    "    total = total + item\n",
    "\n",
    "print(total)\n",
    "\n",
    "# Direct summation using `sum`\n",
    "print(sum(med_list))"
   ]
  },
  {
   "cell_type": "markdown",
   "metadata": {
    "id": "da625915"
   },
   "source": [
    "### Adding two lists together.\n",
    "\n",
    "To combine (concatenate) two lists together we can use the addition operator."
   ]
  },
  {
   "cell_type": "code",
   "execution_count": null,
   "metadata": {
    "colab": {
     "base_uri": "https://localhost:8080/"
    },
    "executionInfo": {
     "elapsed": 4,
     "status": "ok",
     "timestamp": 1696328084570,
     "user": {
      "displayName": "Samantha Penny",
      "userId": "15930921040156864267"
     },
     "user_tz": -60
    },
    "id": "206e06a2",
    "outputId": "4506a10d-0cff-4a74-f87f-da2729c26271"
   },
   "outputs": [
    {
     "name": "stdout",
     "output_type": "stream",
     "text": [
      "[4, 7, 8] [7, 3, 1] [4, 7, 8, 7, 3, 1]\n"
     ]
    }
   ],
   "source": [
    "L1 = [4,7,8]\n",
    "L2 = [7,3,1]\n",
    "\n",
    "L3 = L1 + L2\n",
    "\n",
    "print (L1, L2, L3)\n"
   ]
  },
  {
   "cell_type": "code",
   "execution_count": null,
   "metadata": {
    "colab": {
     "base_uri": "https://localhost:8080/"
    },
    "executionInfo": {
     "elapsed": 2,
     "status": "ok",
     "timestamp": 1696328084795,
     "user": {
      "displayName": "Samantha Penny",
      "userId": "15930921040156864267"
     },
     "user_tz": -60
    },
    "id": "1159f661",
    "outputId": "058a745d-10eb-462f-c833-533360917684"
   },
   "outputs": [
    {
     "name": "stdout",
     "output_type": "stream",
     "text": [
      "[4, 7, 8, 7, 3, 1] [7, 3, 1]\n"
     ]
    }
   ],
   "source": [
    "L1 = [4,7,8]\n",
    "L2 = [7,3,1]\n",
    "\n",
    "# To combine these together without creating a new variable we could do\n",
    "L1.extend(L2)\n",
    "# But now we no longer have the original list L1\n",
    "\n",
    "print (L1, L2)\n"
   ]
  },
  {
   "cell_type": "markdown",
   "metadata": {
    "id": "e57772cd"
   },
   "source": [
    "## Quick exercise\n",
    "Create two lists\n",
    "- list1, to have elements  2,4,6,8,10,\n",
    "- list2, to have elements, 1,3,5,7,9\n",
    "Now concatenate them together that you obtain a list that has elements $1, 2, 3, 4, 5, 6, 7, 8, 9, 10$.\n"
   ]
  },
  {
   "cell_type": "code",
   "execution_count": 16,
   "metadata": {
    "colab": {
     "base_uri": "https://localhost:8080/"
    },
    "executionInfo": {
     "elapsed": 306,
     "status": "ok",
     "timestamp": 1696863727528,
     "user": {
      "displayName": "Samantha Penny",
      "userId": "15930921040156864267"
     },
     "user_tz": -60
    },
    "id": "df80d95f",
    "outputId": "c4a891d1-5642-4dee-e7ad-8856b290fd09"
   },
   "outputs": [
    {
     "name": "stdout",
     "output_type": "stream",
     "text": [
      "[1, 2, 3, 4, 5, 6, 7, 8, 9, 10]\n"
     ]
    }
   ],
   "source": [
    "list1 = [2,4,6,8,10]\n",
    "list2 = [1,3,5,7,9]\n",
    "\n",
    "list3 = []\n",
    "\n",
    "for i in range(5):\n",
    "  list3.append(list2[i])\n",
    "  list3.append(list1[i])\n",
    "\n",
    "print(list3)"
   ]
  },
  {
   "cell_type": "code",
   "execution_count": 18,
   "metadata": {
    "colab": {
     "base_uri": "https://localhost:8080/"
    },
    "executionInfo": {
     "elapsed": 279,
     "status": "ok",
     "timestamp": 1696863848364,
     "user": {
      "displayName": "Samantha Penny",
      "userId": "15930921040156864267"
     },
     "user_tz": -60
    },
    "id": "T6zzSGU-9Aix",
    "outputId": "9f18bbff-c824-49c5-ad3a-e6be2fd21d29"
   },
   "outputs": [
    {
     "name": "stdout",
     "output_type": "stream",
     "text": [
      "2 1\n",
      "4 3\n",
      "6 5\n",
      "8 7\n",
      "10 9\n",
      "[1, 2, 3, 4, 5, 6, 7, 8, 9, 10]\n"
     ]
    }
   ],
   "source": [
    "#alternative method\n",
    "\n",
    "list4 = []\n",
    "\n",
    "for i,j in zip(list1,list2):\n",
    "  list4.append(j)\n",
    "  list4.append(i)\n",
    "\n",
    "print(list4)\n",
    "\n"
   ]
  },
  {
   "cell_type": "code",
   "execution_count": null,
   "metadata": {
    "id": "ENHDMjlS9Bw1"
   },
   "outputs": [],
   "source": []
  }
 ],
 "metadata": {
  "colab": {
   "authorship_tag": "ABX9TyNYQueIa8+1uj0F6WPSMTSm",
   "provenance": []
  },
  "kernelspec": {
   "display_name": "Python 3 (ipykernel)",
   "language": "python",
   "name": "python3"
  },
  "language_info": {
   "codemirror_mode": {
    "name": "ipython",
    "version": 3
   },
   "file_extension": ".py",
   "mimetype": "text/x-python",
   "name": "python",
   "nbconvert_exporter": "python",
   "pygments_lexer": "ipython3",
   "version": "3.9.7"
  }
 },
 "nbformat": 4,
 "nbformat_minor": 1
}
