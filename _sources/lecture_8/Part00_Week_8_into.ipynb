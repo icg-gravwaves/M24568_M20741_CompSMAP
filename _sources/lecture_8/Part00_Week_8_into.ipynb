{
 "cells": [
  {
   "cell_type": "markdown",
   "metadata": {
    "id": "cBk8ZEnL1dhT"
   },
   "source": [
    "# Introduction"
   ]
  },
  {
   "cell_type": "markdown",
   "metadata": {
    "id": "Mw63Eppq-4bw"
   },
   "source": [
    "![a panda](https://raw.githubusercontent.com/icg-gravwaves/M24568_M20741_CompSMAP/main/lecture_8/images/week8_part0_image1.png)\n"
   ]
  },
  {
   "cell_type": "markdown",
   "metadata": {
    "id": "XeeG9QEv1rVy"
   },
   "source": [
    "In this lecture, we will introduce you to the data analysis library for Python ``pandas``. ``pandas`` is used extensively analysing and manipulating data, designed to be open source, powerful, flexible and easy to use. It is used widely in a variety of academic and commercial settings.\n",
    "\n",
    "OUTLINE:\n",
    "\n",
    " - DataFrames - dictionaries on steroids\n",
    " - Viewing data\n",
    " - Selection - Selecting particular elements of a Data Frame\n",
    " - More operations on DataFrame's rows/columns/entries\n",
    " - Grouping\n",
    " - Visualisation of DataFrames\n",
    " - Importing and Exporting files/spreadsheets.\n",
    " - Summary Exercises"
   ]
  },
  {
   "cell_type": "markdown",
   "metadata": {
    "id": "7lL0QcjQ19Yr"
   },
   "source": [
    "## Importing Pandas\n",
    "\n",
    "Like ``numpy``, ``pandas`` is a libary and will therefore need to be imported before we can use its commands. We'll also be making use of the ``numpy`` library, so let's import this at the same time as ``pandas``. We do this by running the following cell:\n",
    "\n"
   ]
  },
  {
   "cell_type": "code",
   "execution_count": null,
   "metadata": {
    "id": "8Kkcqrxg1bR4"
   },
   "outputs": [],
   "source": [
    "import pandas as pd # we will be using pandas via the abbreviation pd\n",
    "import numpy as np"
   ]
  },
  {
   "cell_type": "markdown",
   "metadata": {
    "id": "waMveVjJ3xbd"
   },
   "source": [
    "## Important: please read below\n",
    "\n",
    "Before starting this week's material please download the following files from Moodle:\n",
    "\n",
    "- titanic.xlsx\n",
    "- avocado.xlsx\n",
    "- C19_portsmouth.xlsx\n",
    "\n",
    "Upload the titanic and avocado data files to this notebook (ask how if you've forgotten).\n",
    "\n",
    "Each individual notebook will start with a section telling you which data files are required for the exercises contained in that notebook."
   ]
  },
  {
   "cell_type": "markdown",
   "metadata": {
    "id": "5OCtHQ3W5XU9"
   },
   "source": [
    "## Spreadsheets in Pandas - No more Excel!\n",
    "\n",
    "In excel or google sheets you deal with spreadsheets. Here is an example of a Titanic spreadsheet containing the basic information about the passengers including if they survived the incident (0 if did not survived, 1 if survived)."
   ]
  },
  {
   "cell_type": "markdown",
   "metadata": {
    "id": "wObtdHZxBt9M"
   },
   "source": [
    "![titanicspreadsheet](https://raw.githubusercontent.com/icg-gravwaves/M24568_M20741_CompSMAP/main/lecture_8/images/week8_part0_image2.png)\n"
   ]
  },
  {
   "cell_type": "markdown",
   "metadata": {
    "id": "WfYY6GXoJQo-"
   },
   "source": [
    "The same spreadsheet can be opened by pandas and viewed as so-called ``DataFrame``.\n",
    "We have attached this spreadsheet to this notebook; it is contained in the ``titanic.xlsx`` file.\n",
    "\n",
    "To import it as pandas Data Frame we use:"
   ]
  },
  {
   "cell_type": "code",
   "execution_count": null,
   "metadata": {
    "id": "n6fFz6fI3wlP"
   },
   "outputs": [],
   "source": [
    "df_titanic = pd.read_excel(\"titanic.xlsx\")"
   ]
  },
  {
   "cell_type": "markdown",
   "metadata": {
    "id": "AmI4zIJ-5ok9"
   },
   "source": [
    "### First let's explain the meaning of each column:\n",
    "\n",
    "- __PassengerId__, an id was assigned to every passenger,\n",
    "- __Name__ contains the full name of the passenger,\n",
    "- __Sex__ is the stated gender of a passenger.\n",
    "- __Age__ contains the age of the passenger during the cruise.\n",
    "- __Ticket__ contains ticket number\n",
    "- __Fare__ contains passenger fare.\n",
    "- __Cabin__ contains the cabin number for each passenger.\n",
    "- __Survived__ contains information if the passenger survived the sinking of titanic (0 = No; 1 = Yes)\n",
    "\n",
    "\n",
    "To display the header of this file we use:"
   ]
  },
  {
   "cell_type": "code",
   "execution_count": null,
   "metadata": {
    "id": "flcyGZC93aGZ"
   },
   "outputs": [],
   "source": [
    "df_titanic.head() #run this cell"
   ]
  },
  {
   "cell_type": "markdown",
   "metadata": {
    "id": "pXwkS9AL52bI"
   },
   "source": [
    "You can also display the tail (end rows) of this spreadsheet:"
   ]
  },
  {
   "cell_type": "code",
   "execution_count": null,
   "metadata": {
    "id": "hwe4k6wU51rY"
   },
   "outputs": [],
   "source": [
    "df_titanic.tail()"
   ]
  },
  {
   "cell_type": "markdown",
   "metadata": {
    "id": "KOBcI7te59ev"
   },
   "source": [
    "Both head and tail function take an integer input, inputting an integer $n$ allows us to display $n$ entries"
   ]
  },
  {
   "cell_type": "code",
   "execution_count": null,
   "metadata": {
    "id": "5I5vpNV_58m5"
   },
   "outputs": [],
   "source": [
    "n = 8\n",
    "df_titanic.head(n)"
   ]
  },
  {
   "cell_type": "code",
   "execution_count": null,
   "metadata": {
    "id": "2n36pysP6Fsq"
   },
   "outputs": [],
   "source": [
    "df_titanic.tail(n)"
   ]
  },
  {
   "cell_type": "markdown",
   "metadata": {
    "id": "lTCDC6Cl6MDV"
   },
   "source": [
    "## Exercise 0.1\n",
    "\n",
    "Import the file avocado.xlsx as pandas Data Frame."
   ]
  },
  {
   "cell_type": "code",
   "execution_count": null,
   "metadata": {
    "id": "-egLloeT6OsP"
   },
   "outputs": [],
   "source": []
  },
  {
   "cell_type": "markdown",
   "metadata": {
    "id": "Lu1azWMD6PBA"
   },
   "source": [
    "Display its header and its tail:"
   ]
  },
  {
   "cell_type": "code",
   "execution_count": null,
   "metadata": {
    "id": "xWG_Q5IC6RTd"
   },
   "outputs": [],
   "source": []
  },
  {
   "cell_type": "markdown",
   "metadata": {
    "id": "oBVRkhHr6R5E"
   },
   "source": [
    "Display first 20 rows of the header:"
   ]
  },
  {
   "cell_type": "code",
   "execution_count": null,
   "metadata": {
    "id": "Rp2vhJ4v6eCh"
   },
   "outputs": [],
   "source": []
  }
 ],
 "metadata": {
  "colab": {
   "authorship_tag": "ABX9TyNo++BLQOwu6+Om+kmcAzdf",
   "provenance": []
  },
  "kernelspec": {
   "display_name": "Python 3 (ipykernel)",
   "language": "python",
   "name": "python3"
  },
  "language_info": {
   "codemirror_mode": {
    "name": "ipython",
    "version": 3
   },
   "file_extension": ".py",
   "mimetype": "text/x-python",
   "name": "python",
   "nbconvert_exporter": "python",
   "pygments_lexer": "ipython3",
   "version": "3.9.7"
  }
 },
 "nbformat": 4,
 "nbformat_minor": 1
}
