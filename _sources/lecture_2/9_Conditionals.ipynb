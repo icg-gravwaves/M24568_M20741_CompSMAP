{
 "cells": [
  {
   "cell_type": "markdown",
   "id": "56da5c6e",
   "metadata": {},
   "source": [
    "# Conditional statements"
   ]
  },
  {
   "cell_type": "markdown",
   "id": "09fb0275",
   "metadata": {},
   "source": [
    "## Binary decision (if XX do YY else do ZZ) diagrams\n",
    "\n",
    "In code you often need to make a decision. Do I want to do \"thing YY\" or should I do \"thing ZZ\". In the case that there are two choices, this is a \"binary decision\". More complex logic branches are possible, and we refer to these as \"branching statements\".\n",
    "\n",
    "The simplest branching statement is a  <b>conditional</b>:\n",
    "<ul>\n",
    "    <li> A test that evaluates the logical value of the expression. </li>\n",
    "    <li> Code to be executed if the test is true (Branch 1).  </li>\n",
    "    <li> Code to be executed if the test is false (Branch 2) </li>\n",
    "</ul>\n",
    "\n",
    "\n",
    "![image.png](./images/Lecture2_Image2.png)"
   ]
  },
  {
   "cell_type": "markdown",
   "id": "0ca89838",
   "metadata": {},
   "source": [
    "## Conditionals - If, elif and else (General Structure)\n",
    "\n",
    "In python conditional statements (including ones with more than two branches) can be written using `if` `elif` and `else`. As with functions, these will require us to correctly indent our code. Indentation is *crucial* in writing and reading python. Things **within** the conditional will be indented with respect to those outside. If we want a conditional within a conditional (an if statement within an if statement) we indent a second layer. Perhaps, as with most things in python, this is easier demonstrated. First with a diagram:\n",
    "\n",
    "![image.png](./images/Lecture2_Image3.png)\n",
    "\n",
    "Then with some code"
   ]
  },
  {
   "cell_type": "code",
   "execution_count": 2,
   "id": "5fd8dcc7",
   "metadata": {},
   "outputs": [
    {
     "name": "stdout",
     "output_type": "stream",
     "text": [
      "Cool, your number is even\n"
     ]
    }
   ],
   "source": [
    "my_number = 4  # You can change this number around and run this cell to test other possibilities\n",
    "\n",
    "if my_number%2 == 0:\n",
    "    print(\"Cool, your number is even\")  # If condition is True, do this. Note the indentation.\n",
    "else:  # Else statement is *not* indented.\n",
    "    print(\"I'm afraid your number is odd\")  # If condition is False, do this. Also indented"
   ]
  },
  {
   "cell_type": "markdown",
   "id": "729f54f5",
   "metadata": {},
   "source": [
    "Some observations on this:\n",
    "\n",
    "* The expression `if my_number%2 == 0` evaluates to `True` if our input `my_number` is even.\n",
    "* Here `==` is used for comparison, once again make sure that you don't confuse it with the assignment operator `=`\n",
    "* The **indentation** is important! Each intended set of expressions stands for a block (branch) of instructions.\n"
   ]
  },
  {
   "cell_type": "markdown",
   "id": "b273e8ed",
   "metadata": {},
   "source": [
    "Now we can make this an example with some more branches. Feel free to run the cell below after choosing a range of different values for my_num. This now has 3 logical branches:\n",
    "\n",
    "* The number is less than 5\n",
    "* The number is less than 10, but *not* less than 5\n",
    "* The number is not less than 10\n",
    "\n",
    "(You could say reword this, to say things like \"the number is greater than or equal to 10\", but the words above are directly what the computer will test)"
   ]
  },
  {
   "cell_type": "code",
   "execution_count": null,
   "id": "f2c1d28b",
   "metadata": {},
   "outputs": [],
   "source": [
    "my_num = 4\n",
    "\n",
    "if my_num < 5:\n",
    "    print(\"My number is less than 5\")\n",
    "elif my_num < 10:\n",
    "    print(\"My number is less than 10 but greater or equal to 5\")\n",
    "else:\n",
    "    print(\"My number has to be greater or equal to 10\")"
   ]
  },
  {
   "cell_type": "markdown",
   "id": "35fca818",
   "metadata": {},
   "source": [
    "We can use the `elif` statement multiple times to add more branches. This example has 5 branches:"
   ]
  },
  {
   "cell_type": "code",
   "execution_count": null,
   "id": "b2ef6b9a",
   "metadata": {},
   "outputs": [],
   "source": [
    "my_num = 4\n",
    "\n",
    "if my_num < 5:\n",
    "    print(\"My number is less than 5\")\n",
    "elif my_num < 7:\n",
    "    print(\"My number is less than 7 but greater or equal to 5\")\n",
    "elif my_num < 8.5:\n",
    "    print(\"My number is less than 8.5 but greater or equal to 7\")\n",
    "elif my_num < 10:\n",
    "    print(\"My number is less than 10 but greater or equal to 8.5\")\n",
    "else:\n",
    "    print(\"My number has to be greater or equal to 10\")"
   ]
  },
  {
   "cell_type": "markdown",
   "id": "80369387",
   "metadata": {},
   "source": [
    "## Nested conditionals\n",
    "\n",
    "Finally, let's look at if statements within if statements .... This is where indentation *really* helps python to be readable. Nested conditionals can sometimes be easier to read than unnested statements, and are sometimes quicker to evaluate. Let's illustrate:"
   ]
  },
  {
   "cell_type": "code",
   "execution_count": null,
   "id": "2f95ccb7",
   "metadata": {},
   "outputs": [],
   "source": [
    "x = -5.2  # Again, feel free to change this number and run the cell again.\n",
    "\n",
    "if x>0:\n",
    "    if x<=10:\n",
    "        print('Your input is less than or equal to 10')\n",
    "    else:\n",
    "        print('Your input is greater than 10')\n",
    "else:\n",
    "    if x>-10:\n",
    "        print('your input is negative and it is greater than -10')\n",
    "    else:\n",
    "        print('your input is less or equal to -10')\n"
   ]
  },
  {
   "cell_type": "markdown",
   "id": "320b948f",
   "metadata": {},
   "source": [
    "Is it clear what's going on here? How will the code walk through all of this? If it's not clear ask one of us and let's walk through it together!\n",
    "\n",
    "The next section will also take us through some examples at writing and using conditionals."
   ]
  }
 ],
 "metadata": {
  "kernelspec": {
   "display_name": "Python 3 (ipykernel)",
   "language": "python",
   "name": "python3"
  },
  "language_info": {
   "codemirror_mode": {
    "name": "ipython",
    "version": 3
   },
   "file_extension": ".py",
   "mimetype": "text/x-python",
   "name": "python",
   "nbconvert_exporter": "python",
   "pygments_lexer": "ipython3",
   "version": "3.9.7"
  }
 },
 "nbformat": 4,
 "nbformat_minor": 5
}
