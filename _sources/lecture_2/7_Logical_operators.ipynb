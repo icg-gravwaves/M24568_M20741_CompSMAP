{
 "cells": [
  {
   "cell_type": "markdown",
   "id": "990a6420",
   "metadata": {},
   "source": [
    "# Logical operators"
   ]
  },
  {
   "cell_type": "markdown",
   "id": "a9699f63",
   "metadata": {},
   "source": [
    "## Comparison operators\n",
    "\n",
    "Recall that we introduced the \"comparison operators\" last week:\n",
    "\n",
    "* `a>b` returns `True` if `a>b` (a greater than b) and `False` otherwise.\n",
    "* `a>=b` returns `True` if `a >= b` (a greater than or equal tob ) and `False` otherwise.\n",
    "* `a<b` returns `True` if `a<b` (a less than b) and `False` otherwise.\n",
    "* `a<=b` returns `True` if `a <= b` (a less than or equal to b) and `False` otherwise.\n",
    "* `a==b`, equality test, returns `True` if `a` equals `b` and `False` otherwise.\n",
    "* `a!=b`, inequality test, returns `True` if `a` does not equal `b`  and `False` otherwise.\n"
   ]
  },
  {
   "cell_type": "code",
   "execution_count": 2,
   "id": "82403ec9",
   "metadata": {},
   "outputs": [
    {
     "data": {
      "text/plain": [
       "(False, False, True, True, False, True)"
      ]
     },
     "execution_count": 2,
     "metadata": {},
     "output_type": "execute_result"
    }
   ],
   "source": [
    "5 > 6, 5 >=6, 5 < 6, 5 <= 6, 5 == 6, 5 != 6"
   ]
  },
  {
   "cell_type": "markdown",
   "id": "f1c67198",
   "metadata": {},
   "source": [
    "We can store the result of the comparison in a varible, e.g.\n",
    "`logicvar = 2==2 ` means that `logicvar` returns `True` when called and `type(logicvar)` returns `<class 'bool'>`."
   ]
  },
  {
   "cell_type": "code",
   "execution_count": 3,
   "id": "c866acc4",
   "metadata": {},
   "outputs": [],
   "source": [
    "logicvar = (2 == 2) # Using brackets to make order of operations clear"
   ]
  },
  {
   "cell_type": "code",
   "execution_count": 4,
   "id": "5c7d543a",
   "metadata": {},
   "outputs": [
    {
     "data": {
      "text/plain": [
       "True"
      ]
     },
     "execution_count": 4,
     "metadata": {},
     "output_type": "execute_result"
    }
   ],
   "source": [
    "logicvar"
   ]
  },
  {
   "cell_type": "markdown",
   "id": "087cb72d",
   "metadata": {},
   "source": [
    "## Logical operators (on booleans)\n",
    "\n",
    "We introduced the boolean type last week: Boolean = a special type that can take two values: True or False. The comparison operators return a boolean object, always `True` or `False`, as we saw.\n",
    "\n",
    "Now we introduce the logical operators. These are *normally* used on booleans to do logic operations (they can be used with other types, we won't discuss that today).\n",
    "For two given variables of type bool `a` and `b` we have\n",
    "\n",
    "* `not a`, returns `True` if `a` is `False`, and returns `False` if `a` is `True`.\n",
    "* `a and b`, returns `True` if both are `True`\n",
    "*  `a or b`, returns `True` if either `a`  or `b` are `True`.\n",
    "\n",
    "There are therefore 3 logical operators that we introduce here `not`, `and` and `or`. "
   ]
  }
 ],
 "metadata": {
  "kernelspec": {
   "display_name": "Python 3 (ipykernel)",
   "language": "python",
   "name": "python3"
  },
  "language_info": {
   "codemirror_mode": {
    "name": "ipython",
    "version": 3
   },
   "file_extension": ".py",
   "mimetype": "text/x-python",
   "name": "python",
   "nbconvert_exporter": "python",
   "pygments_lexer": "ipython3",
   "version": "3.9.7"
  }
 },
 "nbformat": 4,
 "nbformat_minor": 5
}
