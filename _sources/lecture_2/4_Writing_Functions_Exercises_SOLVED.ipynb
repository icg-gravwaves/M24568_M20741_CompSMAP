{
 "cells": [
  {
   "cell_type": "markdown",
   "id": "45e22a70",
   "metadata": {
    "id": "45e22a70"
   },
   "source": [
    "# Writing Functions - Exercises - SOLVED"
   ]
  },
  {
   "cell_type": "markdown",
   "id": "aca3906e",
   "metadata": {
    "id": "aca3906e"
   },
   "source": [
    "## Walkthrough example\n",
    "\n",
    "Write a function that takes a single input value, $x$ and returns that number cubed $x^3$. The function should be called `cube`.\n",
    "\n",
    "If you think you know how to do this, or how to do *parts* of this, please go ahead. If not, or if you need hints on parts of this, please read through the steps below.\n",
    "\n",
    "* Step 1: Add a  `def` line. All functions begin with a `def` line. This provides two things: The *name* of the function, the *input parameters* to the function. So write a line that looks something like `def cube(x):` The `def` says that this is a function, the `cube` is the name of the function, `x` is the *one* input parameter. Don't forget the `:`, which is used to indicate that the function will now start and the next line will be indented.\n",
    "* Step 2: Add the docstring. Add another line explaining what the function will do. This step is *optional* but helps to document your code. So something like `\"\"\"Cube a number\"\"\"`. If you need more space, write this over more than one line (that's why we use triple quotes here).\n",
    "* Step 3: Add the function body. This is the bulk of writing a function, and as we get further in the course the function bodies will get larger and more complex. In this case we just need to assign a new variable to store $x^3$. So add something like `y = x**3`. **Remember indentation here**. The body (and docstring) of a function should be indented. So this should actually be `    y = x**3`. 4 spaces (one level of indentation) and then the code.\n",
    "* Step 4: Add the return statement. Most (but not all) functions will have a `return` statement (functions will have an implicit `return None` if you don't write a `return`, or the function never reaches a `return` statement). In this case we want to `return` the value of $x^3$ that we have computed and stored in `y`. So we would do `    return y` (remembering indentation again).\n",
    "\n",
    "Please ask us if you are not clear on any of this!"
   ]
  },
  {
   "cell_type": "code",
   "execution_count": 7,
   "id": "50510d2e",
   "metadata": {
    "executionInfo": {
     "elapsed": 2,
     "status": "ok",
     "timestamp": 1696494322577,
     "user": {
      "displayName": "Ian Harry",
      "userId": "09765021565160415280"
     },
     "user_tz": -60
    },
    "id": "50510d2e"
   },
   "outputs": [],
   "source": [
    "def cube(x):\n",
    "    \"\"\"Return the cube of x\"\"\"\n",
    "    y = x**3\n",
    "    return y"
   ]
  },
  {
   "cell_type": "code",
   "execution_count": 8,
   "id": "V_75cE0Z8Ef3",
   "metadata": {
    "colab": {
     "base_uri": "https://localhost:8080/"
    },
    "executionInfo": {
     "elapsed": 325,
     "status": "ok",
     "timestamp": 1696494323869,
     "user": {
      "displayName": "Ian Harry",
      "userId": "09765021565160415280"
     },
     "user_tz": -60
    },
    "id": "V_75cE0Z8Ef3",
    "outputId": "8f6c351e-2735-45ed-afb6-8a9eac3f7387"
   },
   "outputs": [
    {
     "data": {
      "text/plain": [
       "64"
      ]
     },
     "execution_count": 8,
     "metadata": {},
     "output_type": "execute_result"
    }
   ],
   "source": [
    "cube(4)"
   ]
  },
  {
   "cell_type": "markdown",
   "id": "7c6e6aa1",
   "metadata": {
    "id": "7c6e6aa1"
   },
   "source": [
    "### Testing your function.\n",
    "\n",
    "Run the cell below to test your function. It will print \"Your function works\" if your function works, and raise an error if it doesn't. If it doesn't work, see if you can figure out what is wrong. If you can't, talk to us!"
   ]
  },
  {
   "cell_type": "code",
   "execution_count": 9,
   "id": "dceca108",
   "metadata": {
    "colab": {
     "base_uri": "https://localhost:8080/"
    },
    "executionInfo": {
     "elapsed": 248,
     "status": "ok",
     "timestamp": 1696494325875,
     "user": {
      "displayName": "Ian Harry",
      "userId": "09765021565160415280"
     },
     "user_tz": -60
    },
    "id": "dceca108",
    "outputId": "7db51ae7-72c2-44e5-ab15-d1b6bf26fe91"
   },
   "outputs": [
    {
     "name": "stdout",
     "output_type": "stream",
     "text": [
      "Your function works, well done!\n"
     ]
    }
   ],
   "source": [
    "# I'll use comments to explain how this test works.\n",
    "bbb = cube(4)  # Call the function with an input value of 4\n",
    "assert (bbb == 64)  # I'm now checking that bbb is equal to 4**4 = 256. If it isn't the code will fail.\n",
    "                     # Note that I'm using the comparison operator == from last week. assert is new. This is\n",
    "                     # another built-in function. It raises an error the input value is False, otherwise it does\n",
    "                     # nothing.\n",
    "\n",
    "bbb2 = cube(-3)\n",
    "assert (bbb2 == -27)\n",
    "\n",
    "bbb3 = cube(11)\n",
    "assert(bbb3 == 1331)\n",
    "\n",
    "print(\"Your function works, well done!\")"
   ]
  },
  {
   "cell_type": "markdown",
   "id": "93849e7e",
   "metadata": {
    "id": "93849e7e"
   },
   "source": [
    "### Calling the function yourself.\n",
    "\n",
    "Finally, call your `cube` function to figure out what $6.78^3$ is equal to."
   ]
  },
  {
   "cell_type": "code",
   "execution_count": 10,
   "id": "17491969",
   "metadata": {
    "colab": {
     "base_uri": "https://localhost:8080/"
    },
    "executionInfo": {
     "elapsed": 279,
     "status": "ok",
     "timestamp": 1696494340602,
     "user": {
      "displayName": "Ian Harry",
      "userId": "09765021565160415280"
     },
     "user_tz": -60
    },
    "id": "17491969",
    "outputId": "976bbd81-829a-4c8b-f6c9-4574ad51cc93"
   },
   "outputs": [
    {
     "data": {
      "text/plain": [
       "311.66575200000005"
      ]
     },
     "execution_count": 10,
     "metadata": {},
     "output_type": "execute_result"
    }
   ],
   "source": [
    "cube(6.78)"
   ]
  },
  {
   "cell_type": "markdown",
   "id": "307c9bd4",
   "metadata": {
    "id": "307c9bd4"
   },
   "source": [
    "### Final note\n",
    "\n",
    "You have now written your first function. Well done!\n",
    "\n",
    "I do note that using a function to compute $x^3$ is probably overkill. You could just type `x**3` directly. However, as we work on more complex examples functions will save us having to write the same block of code repeatedly."
   ]
  },
  {
   "cell_type": "markdown",
   "id": "7e6e5f57",
   "metadata": {
    "id": "7e6e5f57"
   },
   "source": [
    "##  Exercise\n",
    "\n",
    "Write a function that takes one input `x` and returns `x**4`. **HINT** this should look very similar to the case above!"
   ]
  },
  {
   "cell_type": "code",
   "execution_count": 11,
   "id": "8cf64bbb",
   "metadata": {
    "executionInfo": {
     "elapsed": 2,
     "status": "ok",
     "timestamp": 1696494388716,
     "user": {
      "displayName": "Ian Harry",
      "userId": "09765021565160415280"
     },
     "user_tz": -60
    },
    "id": "8cf64bbb"
   },
   "outputs": [],
   "source": [
    "def quartic(x):\n",
    "    \"\"\"Return the quartic of x\"\"\"\n",
    "    y = x**4\n",
    "    return y"
   ]
  },
  {
   "cell_type": "code",
   "execution_count": 12,
   "id": "23c25271",
   "metadata": {
    "colab": {
     "base_uri": "https://localhost:8080/"
    },
    "executionInfo": {
     "elapsed": 236,
     "status": "ok",
     "timestamp": 1696494390426,
     "user": {
      "displayName": "Ian Harry",
      "userId": "09765021565160415280"
     },
     "user_tz": -60
    },
    "id": "23c25271",
    "outputId": "9a0c7c31-5cae-4b19-af38-afa7e36cafc1"
   },
   "outputs": [
    {
     "name": "stdout",
     "output_type": "stream",
     "text": [
      "Congratulations, it looks like your function works!\n"
     ]
    }
   ],
   "source": [
    "# Run this cell to test if your function above works. Change the first line to match the name of your function\n",
    "fn_handle = quartic\n",
    "\n",
    "bbb = fn_handle(4)  # Call the function with an input value of 4\n",
    "assert (bbb == 256)  # I'm now checking that bbb is equal to 4**4 = 256. If it isn't the code will fail.\n",
    "                     # Note that I'm using the comparison operator == from last week. assert is new. This is\n",
    "                     # another built-in function. It raises an error the input value is False, otherwise it does\n",
    "                     # nothing.\n",
    "\n",
    "bbb2 = fn_handle(-3)\n",
    "assert (bbb2 == 81)\n",
    "\n",
    "bbb3 = fn_handle(11)\n",
    "assert(bbb3 == 14641)\n",
    "print(\"Congratulations, it looks like your function works!\")\n"
   ]
  },
  {
   "cell_type": "markdown",
   "id": "c83755ae",
   "metadata": {
    "id": "c83755ae"
   },
   "source": [
    "## Exercise\n",
    "\n",
    "Write a function that takes one input `x` and returns $x^5 - \\frac{x^2}{24.1} + \\sqrt{x}$\n"
   ]
  },
  {
   "cell_type": "code",
   "execution_count": 14,
   "id": "a087c21e",
   "metadata": {
    "executionInfo": {
     "elapsed": 215,
     "status": "ok",
     "timestamp": 1696494469203,
     "user": {
      "displayName": "Ian Harry",
      "userId": "09765021565160415280"
     },
     "user_tz": -60
    },
    "id": "a087c21e"
   },
   "outputs": [],
   "source": [
    "def exercise3(x):\n",
    "    \"\"\"Return weird math function x**5 - x**2/24.1 + x**0.5\"\"\"\n",
    "    return x**5 - x**2/24.1 + x**0.5"
   ]
  },
  {
   "cell_type": "code",
   "execution_count": 15,
   "id": "6c36f77e",
   "metadata": {
    "colab": {
     "base_uri": "https://localhost:8080/"
    },
    "executionInfo": {
     "elapsed": 221,
     "status": "ok",
     "timestamp": 1696494471285,
     "user": {
      "displayName": "Ian Harry",
      "userId": "09765021565160415280"
     },
     "user_tz": -60
    },
    "id": "6c36f77e",
    "outputId": "acdc1ef9-aba5-4633-ddfb-83e644871fee"
   },
   "outputs": [
    {
     "name": "stdout",
     "output_type": "stream",
     "text": [
      "Congratulations, it looks like your function works!\n"
     ]
    }
   ],
   "source": [
    "# Run this cell to test if your function above works. Change the first line to match the name of your function\n",
    "fn_handle = exercise3\n",
    "\n",
    "bbb = fn_handle(4)  # Call the function with an input value of 4\n",
    "assert (bbb > 1025.336099 and bbb < 1025.336100) # This is a float value, so check approximate value\n",
    "\n",
    "bbb2 = fn_handle(-3)\n",
    "# This one is complex, so more involved checking needed.\n",
    "assert (bbb2.real > -243.3735 and bbb2.real < -243.3734 and bbb2.imag > 1.732050 and bbb2.imag < 1.732051)\n",
    "\n",
    "bbb3 = fn_handle(11)\n",
    "assert(bbb3 > 161049.29 and bbb3 < 161049.30)\n",
    "print(\"Congratulations, it looks like your function works!\")\n"
   ]
  },
  {
   "cell_type": "code",
   "execution_count": null,
   "id": "L9VkbcL580Ut",
   "metadata": {
    "id": "L9VkbcL580Ut"
   },
   "outputs": [],
   "source": []
  }
 ],
 "metadata": {
  "colab": {
   "provenance": [
    {
     "file_id": "https://github.com/icg-gravwaves/M24568_M20741_CompSMAP/blob/main/lecture_2/4_Writing_Functions_Exercises.ipynb",
     "timestamp": 1696494164212
    }
   ]
  },
  "kernelspec": {
   "display_name": "Python 3 (ipykernel)",
   "language": "python",
   "name": "python3"
  },
  "language_info": {
   "codemirror_mode": {
    "name": "ipython",
    "version": 3
   },
   "file_extension": ".py",
   "mimetype": "text/x-python",
   "name": "python",
   "nbconvert_exporter": "python",
   "pygments_lexer": "ipython3",
   "version": "3.9.7"
  }
 },
 "nbformat": 4,
 "nbformat_minor": 5
}
