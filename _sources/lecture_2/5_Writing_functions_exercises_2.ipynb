{
 "cells": [
  {
   "cell_type": "markdown",
   "id": "3ec3eaaf",
   "metadata": {},
   "source": [
    "# Writing functions with multiple inputs and outputs\n",
    "\n",
    "You've now written a number of functions. These functions all took a single input value, and returned a single output value.\n",
    "\n",
    "However, functions can take an arbitrary number of inputs (including 0) and return an arbitrary number of outputs (including 0). \n",
    "\n",
    "Let's illustrate how this works, and then give you some exercises to practice!"
   ]
  },
  {
   "cell_type": "markdown",
   "id": "4f78e288",
   "metadata": {},
   "source": [
    "## Two or more inputs\n",
    "\n",
    "The function below takes two inputs `x` and `y` and returns their sum (`x` + `y`). Note that in the `def` line there are *two* values within the input brackets, separated by a comma:"
   ]
  },
  {
   "cell_type": "code",
   "execution_count": 1,
   "id": "53ff5177",
   "metadata": {},
   "outputs": [],
   "source": [
    "def g(x, y):\n",
    "    \"\"\"Takes two inputs, x and y, and returns their sum\"\"\"\n",
    "    return x + y"
   ]
  },
  {
   "cell_type": "markdown",
   "id": "32ff1298",
   "metadata": {},
   "source": [
    "This function can then be called by sending it two values. These can be given (numeric) values, or variables:"
   ]
  },
  {
   "cell_type": "code",
   "execution_count": null,
   "id": "70e44c04",
   "metadata": {},
   "outputs": [],
   "source": [
    "# Using numeric values\n",
    "print(g(5,7))  # Computes and prints 5 + 7\n",
    "\n",
    "# Using variables\n",
    "a = 5\n",
    "b = 7\n",
    "print(g(a, b))  # Also computes and prints 5 + 7\n",
    "\n",
    "# Again using variables, but now we store the output\n",
    "a = 5\n",
    "b = 7\n",
    "c = g(a, b)  # Computes 5 + 7\n",
    "print (c)  # Prints the output. Note in this case, we could use c in future computations"
   ]
  },
  {
   "cell_type": "markdown",
   "id": "37487179",
   "metadata": {},
   "source": [
    "## Two or more outputs\n",
    "\n",
    "The function below takes one input value `x` and returns $x^2$ and $x^3$. Note in this case there are two values on the return line, separated by a comma"
   ]
  },
  {
   "cell_type": "code",
   "execution_count": 2,
   "id": "728419e1",
   "metadata": {},
   "outputs": [
    {
     "name": "stdout",
     "output_type": "stream",
     "text": [
      "(16, 64)\n"
     ]
    }
   ],
   "source": [
    "def output_func(x):\n",
    "    \"\"\"Takes one inputs, x and returns x^2 and x^3\"\"\"\n",
    "    b = x**2\n",
    "    c = x**3\n",
    "    return b, c\n",
    "\n",
    "print(output_func(4))"
   ]
  },
  {
   "cell_type": "markdown",
   "id": "2fe03218",
   "metadata": {},
   "source": [
    "Note that both values are returned. We can store the output by doing something like:"
   ]
  },
  {
   "cell_type": "code",
   "execution_count": 3,
   "id": "c7f989f7",
   "metadata": {},
   "outputs": [
    {
     "name": "stdout",
     "output_type": "stream",
     "text": [
      "For an x of 4 x^2 is 16 and x^3 is 64\n"
     ]
    }
   ],
   "source": [
    "def output_func(x):\n",
    "    \"\"\"Takes one inputs, x and returns x^2 and x^3\"\"\"\n",
    "    b = x**2\n",
    "    c = x**3\n",
    "    return b, c\n",
    "\n",
    "out1, out2 = output_func(4)\n",
    "print(f\"For an x of {4} x^2 is {out1} and x^3 is {out2}\")"
   ]
  },
  {
   "cell_type": "markdown",
   "id": "c3f8d47a",
   "metadata": {},
   "source": [
    "## Exercise\n",
    "\n",
    "Write a function that takes one input `x` and returns $\\sqrt{x}$ and $x^5$ (in that order)."
   ]
  },
  {
   "cell_type": "code",
   "execution_count": 2,
   "id": "0b14fb81",
   "metadata": {},
   "outputs": [],
   "source": []
  },
  {
   "cell_type": "code",
   "execution_count": 5,
   "id": "280ee0bb",
   "metadata": {},
   "outputs": [
    {
     "name": "stdout",
     "output_type": "stream",
     "text": [
      "(2.0, 1024) ((1.0605752387249068e-16+1.7320508075688772j), -243) (3.3166247903554, 161051)\n",
      "Congratulations, it looks like your function works!\n"
     ]
    }
   ],
   "source": [
    "# Run this cell to test if your function above works. Change the first line to match the name of your function\n",
    "fn_handle = exercise1\n",
    "\n",
    "# I'm now going to use some stuff from further in the lecture, and another function, to test this.\n",
    "# the \"isclose\" function tests if two numbers are almost equal. Good when dealing with floating point numbers.\n",
    "import math\n",
    "\n",
    "bbb, ccc = fn_handle(4)  # Call the function with an input value of 4\n",
    "assert (math.isclose(bbb, 2.0) and math.isclose(ccc, 1024))  \n",
    "\n",
    "bbb2, ccc2 = fn_handle(-3)\n",
    "# This one is complex, so more involved checking needed.\n",
    "assert (math.isclose(bbb2.real, 1.0605752387249068e-16) and \n",
    "        math.isclose(bbb2.imag,1.7320508075688772) and\n",
    "        math.isclose(ccc2, -243))\n",
    "\n",
    "bbb3, ccc3 = fn_handle(11)\n",
    "assert(math.isclose(bbb3, 3.3166247903554) and math.isclose(ccc3, 161051))\n",
    "print(\"Congratulations, it looks like your function works!\")\n"
   ]
  },
  {
   "cell_type": "markdown",
   "id": "c6c83ebe",
   "metadata": {},
   "source": [
    "## Exercise\n",
    "\n",
    "Write a function that takes two inputs `x` and `y` and return their product ($x \\times y$)"
   ]
  },
  {
   "cell_type": "code",
   "execution_count": 6,
   "id": "a78200a8",
   "metadata": {},
   "outputs": [],
   "source": []
  },
  {
   "cell_type": "code",
   "execution_count": 7,
   "id": "34f6a954",
   "metadata": {},
   "outputs": [
    {
     "name": "stdout",
     "output_type": "stream",
     "text": [
      "Congratulations, it looks like your function works!\n"
     ]
    }
   ],
   "source": [
    "# Run this cell to test if your function above works. Change the first line to match the name of your function\n",
    "fn_handle = exercise2\n",
    "\n",
    "\n",
    "bbb = fn_handle(4, 10)  # Call the function with an input value of 4\n",
    "assert (bbb == 40)  \n",
    "\n",
    "bbb2 = fn_handle(-3, 18)\n",
    "assert (bbb2 == -54)\n",
    "\n",
    "bbb3 = fn_handle(11, -1)\n",
    "assert(bbb3 == -11)\n",
    "print(\"Congratulations, it looks like your function works!\")\n"
   ]
  },
  {
   "cell_type": "markdown",
   "id": "869c8781",
   "metadata": {},
   "source": [
    "## Exercise\n",
    "\n",
    "Write a function that takes two inputs `x` and `y` (in that order) and returns two outputs. The two outputs should be $x + y$ and $x \\times y$ (in that order)."
   ]
  },
  {
   "cell_type": "code",
   "execution_count": 8,
   "id": "fe82fc14",
   "metadata": {},
   "outputs": [],
   "source": []
  },
  {
   "cell_type": "code",
   "execution_count": 10,
   "id": "dc739cf5",
   "metadata": {},
   "outputs": [
    {
     "name": "stdout",
     "output_type": "stream",
     "text": [
      "Congratulations, it looks like your function works!\n"
     ]
    }
   ],
   "source": [
    "# Run this cell to test if your function above works. Change the first line to match the name of your function\n",
    "fn_handle = exercise3\n",
    "\n",
    "# I'm now going to use some stuff from further in the lecture, and another function, to test this.\n",
    "# the \"isclose\" function tests if two numbers are almost equal. Good when dealing with floating point numbers.\n",
    "import math\n",
    "\n",
    "bbb, ccc = fn_handle(4,10)  # Call the function with an input value of 4\n",
    "assert(bbb == 14 and ccc == 40)  \n",
    "\n",
    "bbb2, ccc2 = fn_handle(-3,18)\n",
    "# This one is complex, so more involved checking needed.\n",
    "assert (bbb2 == 15 and ccc2 == -54)\n",
    "\n",
    "bbb3, ccc3 = fn_handle(11,-1)\n",
    "assert(bbb3 == 10 and ccc3 == -11)\n",
    "print(\"Congratulations, it looks like your function works!\")\n"
   ]
  },
  {
   "cell_type": "code",
   "execution_count": null,
   "id": "530451de",
   "metadata": {},
   "outputs": [],
   "source": []
  }
 ],
 "metadata": {
  "kernelspec": {
   "display_name": "Python 3 (ipykernel)",
   "language": "python",
   "name": "python3"
  },
  "language_info": {
   "codemirror_mode": {
    "name": "ipython",
    "version": 3
   },
   "file_extension": ".py",
   "mimetype": "text/x-python",
   "name": "python",
   "nbconvert_exporter": "python",
   "pygments_lexer": "ipython3",
   "version": "3.9.7"
  }
 },
 "nbformat": 4,
 "nbformat_minor": 5
}
