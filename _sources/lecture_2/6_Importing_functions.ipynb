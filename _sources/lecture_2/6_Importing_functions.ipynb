{
 "cells": [
  {
   "cell_type": "markdown",
   "id": "06f7a758",
   "metadata": {},
   "source": [
    "# Importing a function\n",
    "\n",
    "There's only a few functions built into Python. You may notice that there's no trigonometry functions. Python's capabilities can be massively extended by importing a module. Many very powerful modules are available, but for an example we'll use the math module. Functions in the module are accessed with a similar syntax to methods. We'll see ways of shortening this later.\n",
    "\n",
    "Over the course of the next few weeks we'll be introducing and using many of the most commonly used modules in python. However, it is not intended that you know or remember *every* module available. A big part of coding is knowing when to Google to find our whether the thing you want to code has already been written and can be directly used.\n",
    "\n",
    "Once you know the name of the module you want to use we just the `import` command. It is best practice that `import` commands go at the top of any python code. There's a few different \"styles\" of using `import`, for now we'll just stick with showing how to get to our maths functions, which we're definitely going to need!"
   ]
  },
  {
   "cell_type": "code",
   "execution_count": 1,
   "id": "6bca5cd9",
   "metadata": {},
   "outputs": [],
   "source": [
    "import math  # That's it! We now have access to all the functions in the math library"
   ]
  },
  {
   "cell_type": "code",
   "execution_count": 3,
   "id": "ad432284",
   "metadata": {},
   "outputs": [
    {
     "name": "stdout",
     "output_type": "stream",
     "text": [
      "0.5000000000000001\n",
      "0.5000000000000001\n"
     ]
    }
   ],
   "source": [
    "# An example of using the math library to call a trigonometric function:\n",
    "\n",
    "print(math.cos(math.pi/3))\n",
    "\n",
    "# Note that this computes cos(x) assuming x in \"radians\". If you wanted to do cos of 30 degrees you would do:\n",
    "\n",
    "num_degrees = 60\n",
    "print(math.cos(num_degrees * (2*math.pi / 360.)))"
   ]
  },
  {
   "cell_type": "markdown",
   "id": "93fcc15a",
   "metadata": {},
   "source": [
    "Note that to access things within the math library we do `math.XXX`. We actually used one *function* and one *variable* from the math library in the call above. `math.cos` is a function to compute `cos(x)` and `math.pi` is the constant $\\pi$.\n",
    "\n",
    "I can use Google to find the documentation of the `math` module here:\n",
    "https://docs.python.org/3/library/math.html\n",
    "which tells me all the things in that library. "
   ]
  },
  {
   "cell_type": "markdown",
   "id": "688fb9e6",
   "metadata": {},
   "source": [
    "## Exercise\n",
    "\n",
    "Use the math library to compute $\\cos^2 \\theta + \\sin^2 \\theta$ for many values of $\\theta$. What are these all equal to? Did you already know that?"
   ]
  },
  {
   "cell_type": "code",
   "execution_count": null,
   "id": "36aa9e0f",
   "metadata": {},
   "outputs": [],
   "source": []
  }
 ],
 "metadata": {
  "kernelspec": {
   "display_name": "Python 3 (ipykernel)",
   "language": "python",
   "name": "python3"
  },
  "language_info": {
   "codemirror_mode": {
    "name": "ipython",
    "version": 3
   },
   "file_extension": ".py",
   "mimetype": "text/x-python",
   "name": "python",
   "nbconvert_exporter": "python",
   "pygments_lexer": "ipython3",
   "version": "3.9.7"
  }
 },
 "nbformat": 4,
 "nbformat_minor": 5
}
