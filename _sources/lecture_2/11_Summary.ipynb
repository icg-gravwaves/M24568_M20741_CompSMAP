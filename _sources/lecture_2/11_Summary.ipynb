{
 "cells": [
  {
   "cell_type": "markdown",
   "id": "8dfb190c",
   "metadata": {},
   "source": [
    "# Summary\n",
    "\n",
    "We've now introduced all the new concepts in week 2. Specific learning outcomes from this week are\n",
    "\n",
    "* We want you to be able to write and use functions, and to inspect a function and understand what it is doing.\n",
    "* We want you to be able to write and apply logical operators.\n",
    "* We want you to be able to write and apply conditional statements.\n",
    "\n",
    "So far we've kept these separate, and haven't asked you to write a function using logical operators or conditional statements.\n",
    "\n",
    "You *will* have to combine these in the coursework. The end of class exercises will give many examples where we ask you to combine these together, and give examples of the sort of thing we might ask in the coursework. Please do your best to work through them!"
   ]
  }
 ],
 "metadata": {
  "kernelspec": {
   "display_name": "Python 3 (ipykernel)",
   "language": "python",
   "name": "python3"
  },
  "language_info": {
   "codemirror_mode": {
    "name": "ipython",
    "version": 3
   },
   "file_extension": ".py",
   "mimetype": "text/x-python",
   "name": "python",
   "nbconvert_exporter": "python",
   "pygments_lexer": "ipython3",
   "version": "3.9.7"
  }
 },
 "nbformat": 4,
 "nbformat_minor": 5
}
