{
 "cells": [
  {
   "cell_type": "markdown",
   "id": "6cf25ec2",
   "metadata": {},
   "source": [
    "# Conditionals - Exercises\n"
   ]
  },
  {
   "cell_type": "markdown",
   "id": "ba93d967",
   "metadata": {},
   "source": [
    "## Exercise\n",
    "\n",
    "Write a conditional to check if a number is bigger than 20. Print some message based on if it is, or isn't bigger than 20. Your code should contain:\n",
    "\n",
    "* A line to assign a value to a number\n",
    "* An if to check if the number is bigger than 20\n",
    "* An indented line to print something appropriate if it is bigger.\n",
    "* An `else` (or `elif`, but `else` is preferred here) line.\n",
    "* A second indented line to print something appropriate if the number is smaller than 20.\n",
    "\n",
    "Run your code with some different values of the number (including exactly 20) and see if it does the right thing."
   ]
  },
  {
   "cell_type": "code",
   "execution_count": null,
   "id": "aae81485",
   "metadata": {},
   "outputs": [],
   "source": []
  },
  {
   "cell_type": "markdown",
   "id": "b9a6dfab",
   "metadata": {},
   "source": [
    "## Exercise\n",
    "\n",
    "Write a conditional to check if a number is divisable by 3. **HINT** We showed in the Conditionals section an example to check if a number was even (is divisable by 2), this would be very similar."
   ]
  },
  {
   "cell_type": "code",
   "execution_count": null,
   "id": "714fbc02",
   "metadata": {},
   "outputs": [],
   "source": []
  },
  {
   "cell_type": "markdown",
   "id": "d6400c44",
   "metadata": {},
   "source": [
    "## Exercise\n",
    "\n",
    "Write a conditional to check:\n",
    "\n",
    "* If a number is *greater* than 0 (print \"greater than 0\")\n",
    "* Or if a number is *less* than 0 (print \"less than 0\")\n",
    "* Or if a number is *equal* to 0 (print \"equal to 0\")"
   ]
  },
  {
   "cell_type": "code",
   "execution_count": null,
   "id": "a3f96dcd",
   "metadata": {},
   "outputs": [],
   "source": []
  },
  {
   "cell_type": "markdown",
   "id": "8d9f4932",
   "metadata": {},
   "source": [
    "### Exercise\n",
    "\n",
    "By using what we've demonstrated above try to write a code to\n",
    "check if a number is divisible by both 2 and 3.\n",
    "If it is divisible by both say \"Yay, I divide by 6\", otherwise say \"I wish I divided by 6\"."
   ]
  },
  {
   "cell_type": "code",
   "execution_count": null,
   "id": "3832bed1",
   "metadata": {},
   "outputs": [],
   "source": []
  }
 ],
 "metadata": {
  "kernelspec": {
   "display_name": "Python 3 (ipykernel)",
   "language": "python",
   "name": "python3"
  },
  "language_info": {
   "codemirror_mode": {
    "name": "ipython",
    "version": 3
   },
   "file_extension": ".py",
   "mimetype": "text/x-python",
   "name": "python",
   "nbconvert_exporter": "python",
   "pygments_lexer": "ipython3",
   "version": "3.9.7"
  }
 },
 "nbformat": 4,
 "nbformat_minor": 5
}
