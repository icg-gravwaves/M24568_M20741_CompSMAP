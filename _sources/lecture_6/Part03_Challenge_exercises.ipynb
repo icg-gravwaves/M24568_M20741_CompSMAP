{
 "cells": [
  {
   "cell_type": "markdown",
   "metadata": {
    "id": "42b5r42sIorH"
   },
   "source": [
    "# Challenge exercises\n",
    "\n",
    "## **Challenge exercise 1**\n",
    "\n",
    "Let's practice these plotting skills by making some further plots from a set of sunspot data.\n",
    "\n",
    "1. Download the datafile ```sunspot.month.csv``` from Moodle and upload it to the same directory in which this notebook is running.\n",
    "1. The data is read in using the supplied functions below.\n",
    "2. Plot the number of sunspots as a function of time. Make sure the plot is properly labelled. This should show the number of sunspots varying over time following a sinusoidal behaviour.\n",
    "1. Add Poisson counting error bars to the y-values. (Poisson counting error bars are simply +/-sqrt N).\n",
    "3. Limit the extent of your axes to 30 years for an interval of your choice.\n",
    "5. Save this plot.\n",
    "1. Create a histogram of the number of sunspots\n",
    "1. Label etc. the plot as needed\n",
    "1. Save this plot as well."
   ]
  },
  {
   "cell_type": "code",
   "execution_count": null,
   "metadata": {
    "id": "8AhRaOUv-f62"
   },
   "outputs": [],
   "source": [
    "import matplotlib.pyplot as plt\n",
    "import numpy as np"
   ]
  },
  {
   "cell_type": "code",
   "execution_count": null,
   "metadata": {
    "id": "vu02Roh_AIHM"
   },
   "outputs": [],
   "source": [
    "from ipywidgets import interact, interactive, fixed"
   ]
  },
  {
   "cell_type": "code",
   "execution_count": null,
   "metadata": {
    "id": "M6NIREgKEmHt"
   },
   "outputs": [],
   "source": [
    "# We read in the data using the pandas module.\n",
    "# This could have been read using the File object and techniques shown earlier ... And in fact that's what pandas\n",
    "# will do internally, but if someone else has already provided a good solution its often good to just use it.\n",
    "\n",
    "import pandas as pd\n",
    "dat1 = pd.read_csv('sunspot.month.csv')\n",
    "#What does the following line of code do? Make a note of this.\n",
    "print(dat1.head(5))\n",
    "\n",
    "# We need time and number of sunspots\n",
    "year = dat1['time']\n",
    "number_of_sunspots = dat1['number']\n"
   ]
  },
  {
   "cell_type": "code",
   "execution_count": null,
   "metadata": {
    "id": "BbbcqmsVE_7W"
   },
   "outputs": [],
   "source": [
    "#Write your plotting code here"
   ]
  },
  {
   "cell_type": "code",
   "execution_count": null,
   "metadata": {
    "id": "Tlz_CIwlcgN_"
   },
   "outputs": [],
   "source": [
    "#plot of the histogram"
   ]
  },
  {
   "cell_type": "markdown",
   "metadata": {
    "id": "VSSP7z4cFK3g"
   },
   "source": [
    "## **Challenge exercise 2**\n",
    "\n",
    "The Taylor series expansion for the function $f(x) = e^x$ is an $n^{th}$ order polynomial that approximates $f(x) = e^{x}$ for a given value of $x$. In this exercise, you will visualise how this approximation improves the more terms you add to the Taylor Series expansion. This exercise makes use of functions and for loops.\n",
    "\n",
    "The Taylor series for $f(x) = e^{x}$ is:\n",
    "\n",
    "$$e^{x} \\approx \\sum^{\\infty}_{n=0}\\frac{x^{n}}{n!} = 1+x+\\frac{x^{2}}{2!} + \\frac{x^{3}}{3!} + \\frac{x^{4}}{4!} + \\frac{x^{5}}{5!} + \\cdots$$\n",
    "\n",
    "1. Write a function n_factorial that computes the factorial of any positive integer. This should take a single integer $m$ as an input, and return $m!$ You may need the result $0! = 1$.\n",
    "1. Write a function approx_e that takes a value of x and the order $n$ of the polynomial used to approximate $f(x) = e^{x}$. The function should return an approximation of $f(x) = e^x$ computed using a Taylor series expansion.\n",
    "1. Produce a plot of $f(x) = e^{x}$ for values of $x$ between 0 and 3. You should calculate $e^{x}$ using ``np.exp()``. ``np.exp(2)`` finds $e^{2}$.\n",
    "1. Using your functions, plot the Taylor series approximations of $f(x) = e^{x}$ for $3^{rd}$, $5^{th}$ and $7^{th}$ order polynomial approximations on the same set of axes. Be sure to include a legend to identify each approximation plotted.\n",
    "1. Save the resulting plot."
   ]
  },
  {
   "cell_type": "code",
   "execution_count": null,
   "metadata": {
    "id": "ZcwP_K55sUw6"
   },
   "outputs": [],
   "source": []
  },
  {
   "cell_type": "code",
   "execution_count": null,
   "metadata": {
    "id": "bvSV6G-oHapX"
   },
   "outputs": [],
   "source": []
  },
  {
   "cell_type": "code",
   "execution_count": null,
   "metadata": {
    "id": "a9LNz3h8HdoM"
   },
   "outputs": [],
   "source": []
  }
 ],
 "metadata": {
  "colab": {
   "provenance": []
  },
  "kernelspec": {
   "display_name": "Python 3 (ipykernel)",
   "language": "python",
   "name": "python3"
  },
  "language_info": {
   "codemirror_mode": {
    "name": "ipython",
    "version": 3
   },
   "file_extension": ".py",
   "mimetype": "text/x-python",
   "name": "python",
   "nbconvert_exporter": "python",
   "pygments_lexer": "ipython3",
   "version": "3.9.7"
  }
 },
 "nbformat": 4,
 "nbformat_minor": 1
}
