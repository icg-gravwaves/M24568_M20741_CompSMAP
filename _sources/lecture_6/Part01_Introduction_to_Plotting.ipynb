{
 "cells": [
  {
   "cell_type": "markdown",
   "metadata": {
    "id": "sOlZVgh-5pVq"
   },
   "source": [
    "# Introduction to plotting in matplotlib\n",
    "\n",
    "In this lecture, we'll be making use of the matplotlib package. The matplotlib library is a powerful tool, capable of producing publication quality figures in both 2D and 3D. For more information on matplotlib, including tutorials, visit https://matplotlib.org/. A comprehensive gallery of the possible plots you can produce with matplotlib is available at https://matplotlib.org/stable/gallery/index.html.\n",
    "\n",
    "This week, we'll be covering the basics of creating 2D graphs and images using the matplotlib package. These skills will be crucial in presenting work to others, and will be tested in both courseworks... This also provides you a means to create any plots you might need to produce in your 3rd- or 4th-year project!\n",
    "\n",
    "In papers/reports we commonly see presentational problems in plots/graphs such as:\n",
    "\n",
    "- font size is small\n",
    "- font type is ugly\n",
    "- tick size is small\n",
    "- lines are too thin\n",
    "- colours unsuitable for people who are colour blind\n",
    "- ugly legend formatting\n",
    "\n",
    "\n",
    "Using matplotlib, you have complete control over all of these!"
   ]
  },
  {
   "cell_type": "markdown",
   "metadata": {
    "id": "XN3X2H6B5-iX"
   },
   "source": [
    "## Making a basic plot in python with matplotlib\n",
    "\n",
    "First, we import the matplotlib core plotting library matplotlib.pyplot as follows (be sure to run this code block):"
   ]
  },
  {
   "cell_type": "code",
   "execution_count": null,
   "metadata": {
    "id": "m1i_5nv56JYK"
   },
   "outputs": [],
   "source": [
    "import matplotlib.pyplot as plt\n",
    "import numpy as np"
   ]
  },
  {
   "cell_type": "markdown",
   "metadata": {
    "id": "k6qnk2kW6MmM"
   },
   "source": [
    "We've shortened the subpackage name `matplotlib.pyplot` using the shorthand `plt`.\n",
    "\n",
    "We're also going to create some basic data using numpy, and then plot this. We will create an array of evenly numbers between 0 and 20, and check this has produced the expected numbers using the print command. I'll then plot the result."
   ]
  },
  {
   "cell_type": "code",
   "execution_count": null,
   "metadata": {
    "id": "dCtaJUQx6uDz"
   },
   "outputs": [],
   "source": [
    "#%matplotlib inline"
   ]
  },
  {
   "cell_type": "code",
   "execution_count": null,
   "metadata": {
    "id": "yElogiiA6uv4"
   },
   "outputs": [],
   "source": [
    "# This numpy function creates a list of 11 numbers uniformly spaced between 0 and 20. You can always do\n",
    "# np.linspace? in any cell of the notebook to get a descriptive help about what any function, or method, does.\n",
    "x = np.linspace(0,20,11)\n",
    "print(x)\n",
    "\n",
    "# Then we just make a basic plot of x\n",
    "plt.plot(x)\n",
    "# This plots the array on the y-axis.\n",
    "plt.show()"
   ]
  },
  {
   "cell_type": "markdown",
   "metadata": {
    "id": "LBfpPhi4660h"
   },
   "source": [
    "\n",
    "To produce a more complicated plot, we'll construct another x-array (again using the np.linspace command), calculate their sin and tan values, and plot the result. This will be a plot of y vs. x (for $y = \\sin{x}$) or z vs. x (for $z = \\tan{x}$). Note that the inbuilt python functions accept **radians** as inputs. Please ask us to explain radians if you are unfamiliar with them.\n",
    "\n"
   ]
  },
  {
   "cell_type": "code",
   "execution_count": null,
   "metadata": {
    "id": "5m6EpLVi7awj"
   },
   "outputs": [],
   "source": [
    "x = np.linspace(0,10,200)\n",
    "y = np.sin(x)\n",
    "z = np.tan(x)\n",
    "\n",
    "# Now with two input arrays the first is the x axis and is plotted against the second on the y-axis\n",
    "plt.plot(x,y)\n",
    "plt.plot(x,z)\n",
    "plt.show()"
   ]
  },
  {
   "cell_type": "markdown",
   "metadata": {
    "id": "C4vNpEcJ7jB7"
   },
   "source": [
    "**What's wrong with this plot? What is missing? Would you be happy using this plot as is in a report? Feel free to discuss this with your neighbouring students or a lecturer / demonstrator.**"
   ]
  },
  {
   "cell_type": "markdown",
   "metadata": {
    "id": "8X1cEqhs7qAP"
   },
   "source": [
    "## Adding axis labels, titles and legends\n",
    "\n",
    "Now, let's add some axis labels, a title, and a legend to our plot.\n",
    "\n",
    "You can add axis labels using ```xlabel``` and ```ylabel```:\n",
    "\n",
    "```python\n",
    "plt.xlabel(\"x-axis label\")\n",
    "plt.ylabel(\"y-axis label\")\n",
    "```\n",
    "\n",
    "A title can be added using the command ```plt.title```, and a legend with ```plt.legend```\n",
    "\n",
    "To add a legend to our plot, we need to modify the original plot commands slightly, to include a label for the plot legend. A legend tells us the variable each marker or line represents.\n",
    "\n",
    "```python\n",
    "plt.plot(x,y, label='sin(x)')\n",
    "plt.plot(x,z, label='tan(x)')\n",
    "plt.legend() #Adds the legend to the plot\n",
    "```"
   ]
  },
  {
   "cell_type": "markdown",
   "metadata": {
    "id": "BG3r8HJvS8GL"
   },
   "source": [
    "# Exercise 0.1\n",
    "\n",
    "Reproduce the plot showing $f(x) = \\sin{x}$ and $f(x) = \\tan{x}$, adding the required lines, axis labels, a title and a plot legend. In this plot, $f(x)$ should be plotted on the $y$-axis (ordinate-axis), and $x$ on the $x$-axis (abscissa)."
   ]
  },
  {
   "cell_type": "code",
   "execution_count": null,
   "metadata": {
    "id": "4NeyIo808DpH"
   },
   "outputs": [],
   "source": []
  },
  {
   "cell_type": "markdown",
   "metadata": {
    "id": "ZxAU4RPT84Ug"
   },
   "source": [
    "Unfortunately the range of tan(x) is much larger than sin(x) and we can't see the latter! A grid may also help us explore the behaviour of the two functions in more detail.\n",
    "\n",
    "We can remove some of the white space around the plot using ``plt.ylim(lower limit, upper limit)``:\n",
    "\n",
    "```\n",
    "#modify the axis limits\n",
    "plt.ylim(-1.1,1.1)\n",
    "plt.xlim(0.,10.)\n",
    "\n",
    "# add a grid to improve the readability of the plot\n",
    "\n",
    "plt.grid(alpha=0.5)\n",
    "```"
   ]
  },
  {
   "cell_type": "markdown",
   "metadata": {
    "id": "UtktI5DdByZE"
   },
   "source": [
    "# Exercise 0.2\n",
    "\n",
    "Remake your plot from exercise 0.1, setting the $x$ and $y$ axis limits to more sensible values such that the behaviour of both $\\tan{x}$ and $\\sin{x}$ can be seen. It may be useful to use the `max()` and `min()` commands to explore the behaviour of $\\sin{x}$ and identify an appropriate range for the ordinate ($y$) axis."
   ]
  },
  {
   "cell_type": "code",
   "execution_count": null,
   "metadata": {
    "id": "UONfGCZB9C_z"
   },
   "outputs": [],
   "source": []
  },
  {
   "cell_type": "markdown",
   "metadata": {
    "id": "zMKO9r3_9bJO"
   },
   "source": [
    "## Line formatting\n",
    "\n",
    "You might want lines that are different colours to the default `matplotlib` colour scheme, or use a different line style. Different line styles and colours are often needed to separate datasets or functions that have been plotted on the same set of axes. These can be adjusted by adding formatting strings to the plot command:\n",
    "\n",
    "```python\n",
    "plot(x,y,color='cname', linestyle='lname')\n",
    "\n",
    "```\n",
    "\n",
    "Replace `cname` or `lname` with your choice of colour name or line style as listed below.\n",
    "\n",
    "Python understands all html colour names as input. A good reference for these can be found at this link: https://html-color-codes.info/color-names/\n",
    "\n",
    "Be sure to use the colour name e.g. `MediumPurple` rather than the code.  \n",
    "\n",
    "It also understands these basic colour name commands:\n",
    "\n",
    "-  `r` = red\n",
    "-  `g` = green\n",
    "-  `b` = blue\n",
    "-  `c` = cyan\n",
    "-  `m` = magenta\n",
    "-  `y` = yellow\n",
    "-  `k` = black\n",
    "-  `w` = white\n",
    "\n",
    "The style of the plotted lines can also be adjusted, using the following (other line options are available):\n",
    "\n",
    "-  `-`  = solid line\n",
    "-  `--` = dashed line\n",
    "-  `:`  = dotted line\n",
    "-  `-.` = dot-dash line"
   ]
  },
  {
   "cell_type": "markdown",
   "metadata": {
    "id": "T7R046mE9tVG"
   },
   "source": [
    "## Exercise 0.3\n",
    "\n",
    "Reproduce then modify the earlier plot showing the sine and tan functions as follows:\n",
    "\n",
    "*   The sine function should be plotted as a green dotted line\n",
    "*   The tan function should be plotted as a purple dashed line\n",
    "\n",
    "You may may choose any colour names you like, provided they produce the requested plots. Be sure to restrict the limits of the plots to show a useful data range.\n",
    "\n",
    "\n"
   ]
  },
  {
   "cell_type": "code",
   "execution_count": null,
   "metadata": {
    "id": "XYORSbxP-K8z"
   },
   "outputs": [],
   "source": []
  },
  {
   "cell_type": "markdown",
   "metadata": {
    "id": "YJGYpapU-kxS"
   },
   "source": [
    "## Exercise 0.4\n",
    "\n",
    "Using the above examples as a starting point, create a single plot containing the following:\n",
    "\n",
    "1. Plot $f(x)$  vs. for the functions $f(x) = x^2$, $f(x) = x^3$ and $f(x) = x^4$. Do this for values of $x$ between 0 and 1. All functions should be on the same set of axes. The plot must have a legend, and you should ensure that each function is described in the legend. Use enough values of $x$ such the plot looks smooth.\n",
    "1. You can create a plot with log scale axes by replacing `plt.plot` with `plt.loglog`. Or if you just want a log-scaled y (or x) axis, you can use `plt.semilogy` or `plt.semilogx`. Create three copies of the same plot as previously but use these 3 commands *instead* of `plt.plot`. (Remember that you cannot take the log of 0, so consider this when choosing x and y values!)\n",
    "\n",
    "Hint: using commands from the $\\LaTeX$ (LaTeX) typsetting language can make your labels look really good. Try using `f'$f(x) = x^{2}$'` as a label."
   ]
  },
  {
   "cell_type": "code",
   "execution_count": null,
   "metadata": {
    "id": "NeMrXXfF_Hzt"
   },
   "outputs": [],
   "source": []
  },
  {
   "cell_type": "code",
   "execution_count": null,
   "metadata": {
    "id": "MXxDJx05Tl6V"
   },
   "outputs": [],
   "source": []
  },
  {
   "cell_type": "markdown",
   "metadata": {
    "id": "z3YR-Ego_ELQ"
   },
   "source": [
    "## Scatter plots\n",
    "\n",
    "Another y-vs-x plot, which can take some additional arguments is the scatter plot. Scatter plots contain individual markers for each datapoint, rather than a line representing e.g. a function. It is often most appropriate when plotting unordered data. We give a set of data below.\n",
    "\n",
    "## Exercise 0.5\n",
    "\n",
    "Extend the example below to add plot labels, title and adjust axes limits etc. to make the plot more presentable"
   ]
  },
  {
   "cell_type": "code",
   "execution_count": null,
   "metadata": {
    "id": "86uA1lWd_Z1S"
   },
   "outputs": [],
   "source": [
    "# EXERCISE DATA\n",
    "\n",
    "#An array of miles driven\n",
    "miles_driven = np.array([434.04176413,  58.37912319, 274.49347372, 187.58345291,\n",
    "                         110.44926801, 297.90761681, 427.3174571 ,  40.08715083,\n",
    "                         247.86116708,  38.89521804, 300.07810287, 401.12704009,\n",
    "                         106.67851003, 181.12323573, 166.38794894,  44.99799719,\n",
    "                         34.51051553, 237.9278912 , 334.86250092, 401.45589443])\n",
    "\n",
    "#A second array giving the number of litres of fuel used\n",
    "litres_of_fuel_used = np.array([29.75678795,  8.03556788, 18.4741211 , 17.77530259,  8.16607936,\n",
    "                                20.3677596 , 58.68917566,  2.69293311, 27.78266044,  3.00068322,\n",
    "                                20.71372582, 50.88017624,  8.41255259, 25.94509149, 22.77377999,\n",
    "                                3.29926235,  3.00036682, 35.79350616, 25.93291949, 30.63069581])\n",
    "\n",
    "# Use plt.scatter? (and online help pages) to see the options that this plot can take. Use this to tweak the plot\n",
    "# after creating it if you want to make it nicer!\n",
    "\n",
    "plt.scatter(miles_driven, litres_of_fuel_used, marker='x')\n",
    "\n",
    "# ADD CODE HERE\n",
    "\n"
   ]
  },
  {
   "cell_type": "markdown",
   "metadata": {
    "id": "OZzzk74H_miA"
   },
   "source": [
    "## **Exercise 0.6**\n",
    "\n",
    "Plot the functions $f(x) = x^2$, $f(x) = x^3$ and $f(x) = x^4$ datasets used above with the `plt.scatter` plot command over the range $0 \\leq x \\leq 1$."
   ]
  },
  {
   "cell_type": "code",
   "execution_count": null,
   "metadata": {
    "id": "1mTKROU9TvBQ"
   },
   "outputs": [],
   "source": []
  },
  {
   "cell_type": "markdown",
   "metadata": {
    "id": "7frXEHhnA790"
   },
   "source": [
    "## **Exercise 0.7**\n",
    "\n",
    "Below we provide two datasets. These are a list of length-2 tuples. Each tuple contains an x and y value (x is the first element of the tuple, y the second element). Use the plotting skills learnt so far to plot y as a function of x. *Make sure to include a line connecting the points*.\n",
    "\n",
    "HINT: These datasets are not sorted, you will probably need to sort them before plotting to ensure that the line makes sense!\n",
    "\n",
    "Can you identify what each function is?"
   ]
  },
  {
   "cell_type": "code",
   "execution_count": null,
   "metadata": {
    "id": "GMtopO38BCVl"
   },
   "outputs": [],
   "source": [
    "data_set_one = [(11, 403.31159963300337), (6, 90.18163074019441), (7, 131.64181424216494), (13, 611.3381655534142),\n",
    "                (14, 735.3648478076925), (16, 1026.0), (17, 1193.577525803504), (12, 500.8306325798367),\n",
    "                (4, 34.0), (9, 245.0), (8, 183.01933598375618), (15, 873.4212528966688), (1, 3.0),\n",
    "                (3, 17.588457268119896), (18, 1376.6155826266483), (0, 2.0), (2, 7.656854249492381),\n",
    "                (10, 318.22776601683796), (19, 1575.562518618183), (5, 57.90169943749474)]\n",
    "\n",
    "data_set_two = [(4.25, -1.2460874899137928), (5.5, -0.09133022570874005), (2.0, -1.2161468365471424),\n",
    "                (1.5, -0.7292627983322971), (2.5, -1.6011436155469339), (2.25, -1.428173622722739),\n",
    "                (0.75, -0.06831113112617915), (4.75, -0.7623978471120235), (0.5, 0.07758256189037271),\n",
    "                (4.5, -1.0107957994307797), (3.0, -1.7899924966004455), (5.25, -0.28791452275815943),\n",
    "                (1.25, -0.48467763760473137), (3.25, -1.7941296760805463), (1.75, -0.9782460556494921),\n",
    "                (3.5, -1.7364566872907963), (1.0, -0.2596976941318603), (4.0, -1.453643620863612),\n",
    "                (0.0, 0.19999999999999996), (0.25, 0.1689124217106447), (5.75, 0.061192417161520796),\n",
    "                (5.0, -0.5163378145367737), (3.75, -1.6205593573395607), (2.75, -1.7243023786324636)]"
   ]
  },
  {
   "cell_type": "code",
   "execution_count": null,
   "metadata": {
    "id": "KSJM6p_bCCMX"
   },
   "outputs": [],
   "source": [
    "#sort the datasets\n"
   ]
  },
  {
   "cell_type": "code",
   "execution_count": null,
   "metadata": {
    "id": "21zWKGfGCGKa"
   },
   "outputs": [],
   "source": [
    "#plot data set one\n"
   ]
  },
  {
   "cell_type": "code",
   "execution_count": null,
   "metadata": {
    "id": "fT2UvP9bCeTi"
   },
   "outputs": [],
   "source": [
    "#plot data set two\n"
   ]
  },
  {
   "cell_type": "markdown",
   "metadata": {
    "id": "SGmMkAlbGMKd"
   },
   "source": [
    "## Histograms\n",
    "\n",
    "Let's create a histogram of some data. A histogram divides the range of values into a series of intervals, and then counts the number of values in each internval.  We'll compute the miles driven per litre of fuel, and make a histogram of the result.  The histogram function is a little weird, so let's try and illustrate this with an example.\n"
   ]
  },
  {
   "cell_type": "code",
   "execution_count": null,
   "metadata": {
    "id": "WP6Bt24gVKIo"
   },
   "outputs": [],
   "source": [
    "# Let's generate some fake data to work with.\n",
    "#(don't worry yet about *how* this is generated, we don't need to worry about this yet!)\n",
    "miles_driven = np.random.random(20000) * 90. + 10\n",
    "litres_of_fuel_used = miles_driven / (10.977912440170378 * (np.random.random(20000) * 0.8 + 0.6))"
   ]
  },
  {
   "cell_type": "code",
   "execution_count": null,
   "metadata": {
    "id": "t0a6II68Ubb7"
   },
   "outputs": [],
   "source": [
    "# A basic histogram\n",
    "\n",
    "# Compute what we want to histogram\n",
    "miles_per_litre = miles_driven / litres_of_fuel_used\n",
    "\n",
    "plt.hist(miles_per_litre)\n",
    "plt.title('Histogram example')\n",
    "plt.xlabel('miles_per_litre')\n",
    "plt.ylabel('Frequency')"
   ]
  },
  {
   "cell_type": "markdown",
   "metadata": {
    "id": "pHd2gikFUpM8"
   },
   "source": [
    "Let's see what we can change in this histogram. Here we provide two *key-word arguments* to `plt.hist`. `bins` is an integer specifying the number of bins, `density` can be used to normalize the plot so this becomes a probability. Using `plt.hist?` will tell you what these options are."
   ]
  },
  {
   "cell_type": "code",
   "execution_count": null,
   "metadata": {
    "id": "fbRGnGP6VujR"
   },
   "outputs": [],
   "source": [
    "# A basic histogram again\n",
    "\n",
    "# Compute what we want to histogram\n",
    "miles_per_litre = miles_driven / litres_of_fuel_used\n",
    "\n",
    "plt.hist(miles_per_litre, bins=20, density=True)\n",
    "plt.title('Histogram example')\n",
    "plt.xlabel('miles_per_litre')\n",
    "plt.ylabel('Probability')"
   ]
  },
  {
   "cell_type": "markdown",
   "metadata": {
    "id": "1wPUwon4WDv4"
   },
   "source": [
    "`bins` can also take an array of values:"
   ]
  },
  {
   "cell_type": "code",
   "execution_count": null,
   "metadata": {
    "id": "N-zXo4BxWGLD"
   },
   "outputs": [],
   "source": [
    "# A basic histogram again\n",
    "\n",
    "# Compute what we want to histogram\n",
    "miles_per_litre = miles_driven / litres_of_fuel_used\n",
    "\n",
    "plt.hist(miles_per_litre, bins=np.arange(5,20,0.2), density=True)\n",
    "plt.title('Histogram example')\n",
    "plt.xlabel('miles_per_litre')\n",
    "plt.xlim(0,20)\n",
    "plt.ylabel('Probability')"
   ]
  },
  {
   "cell_type": "markdown",
   "metadata": {
    "id": "zDis4EPSeuNi"
   },
   "source": [
    "The `plt.hist` command also returns some useful information. It returns 3 values, `n`, `bins` and `patches`. We can ignore `patches` it's an internal for the plotting and very rarely used. `n` is the probability (or frequency) of each of the bars used in the histogram, or the height of each bar. `bins` is the *edge* of each of the bars. The length of this will be one larger than `n` as each bar has two edges and all but the outer two are shared. If we use `n` and the *center* of each bar, we can also plot a line graph on top of this!"
   ]
  },
  {
   "cell_type": "code",
   "execution_count": null,
   "metadata": {
    "id": "Yui0dKB6ewHZ"
   },
   "outputs": [],
   "source": [
    "# A basic histogram again\n",
    "\n",
    "# Compute what we want to histogram\n",
    "miles_per_litre = miles_driven / litres_of_fuel_used\n",
    "\n",
    "n, bins, patches = plt.hist(miles_per_litre, bins=np.arange(5,20,1), density=True)\n",
    "# Want center of bins, this is done with:\n",
    "bin_centers = (bins[:-1] + bins[1:]) / 2\n",
    "# THINK ABOUT WHAT THE PREVIOUS LINE IS DOING, how does it work??\n",
    "plt.title('Histogram example')\n",
    "plt.xlabel('miles_per_litre')\n",
    "plt.xlim(0,20)\n",
    "plt.ylabel('Probability')\n",
    "\n",
    "# Create a second! figure\n",
    "plt.figure()\n",
    "plt.plot(bin_centers, n)\n",
    "plt.title('Still the same histogram')\n",
    "plt.xlabel('miles_per_litre')\n",
    "plt.xlim(0,20)\n",
    "plt.ylabel('Probability')\n",
    "plt.show()\n"
   ]
  },
  {
   "cell_type": "markdown",
   "metadata": {
    "id": "iLLQ4QLiT9qF"
   },
   "source": [
    "## Using histograms to explore data\n",
    "\n",
    "Let's create a histogram of some exam results. In the code block below, results for two subjects are presented as a numpy array, along with student number. The first column of the array is the student identity, the second column is the result for subject 1, and the third column is the result for subject 2."
   ]
  },
  {
   "cell_type": "code",
   "execution_count": null,
   "metadata": {
    "id": "WwWMfLc5RTpA"
   },
   "outputs": [],
   "source": [
    "exam_results = np.array([[  1.        ,  70.73956466,  72.41314302],\n",
    "       [  2.        ,  67.99148762,  78.92281229],\n",
    "       [  3.        ,  63.267019  ,  73.70905389],\n",
    "       [  4.        ,  80.92116686,  97.09605513],\n",
    "       [  5.        ,  45.26067825,  51.29838892],\n",
    "       [  6.        ,  47.82370635,  54.11048266],\n",
    "       [  7.        ,  71.16827658,  80.03105428],\n",
    "       [  8.        ,  69.53215499,  76.25594456],\n",
    "       [  9.        ,  42.8598281 ,  62.61465786],\n",
    "       [ 10.        ,  36.43916344,  45.82388885],\n",
    "       [ 11.        ,  82.90174814,  84.32172436],\n",
    "       [ 12.        ,  50.37521144,  65.6275095 ],\n",
    "       [ 13.        ,  66.74455826,  75.83412285],\n",
    "       [ 14.        ,  55.32285171,  63.10303691],\n",
    "       [ 15.        ,  65.73495683,  75.81885856],\n",
    "       [ 16.        ,  76.0219976 ,  85.5319897 ],\n",
    "       [ 17.        ,  38.08746824,  54.64233231],\n",
    "       [ 18.        ,  79.8372733 ,  93.00396844],\n",
    "       [ 19.        ,  76.01442223,  96.46448714],\n",
    "       [ 20.        ,  58.02985105,  64.75190419],\n",
    "       [ 21.        ,  40.52704653,  60.47125425],\n",
    "       [ 22.        ,  70.66882769,  84.71060747],\n",
    "       [ 23.        ,  48.5342397 ,  58.02515169],\n",
    "       [ 24.        ,  47.54020755,  47.62578148],\n",
    "       [ 25.        ,  54.11323876,  67.97462115],\n",
    "       [ 26.        ,  38.28093002,  42.79495584],\n",
    "       [ 27.        ,  36.59503322,  48.69430327],\n",
    "       [ 28.        ,  33.84867708,  44.43720282],\n",
    "       [ 29.        ,  74.66290772,  90.18370617],\n",
    "       [ 30.        ,  47.23836888,  59.73585737],\n",
    "       [ 31.        ,  54.75012795,  68.87991986],\n",
    "       [ 32.        ,  62.03758377,  71.84132858],\n",
    "       [ 33.        ,  66.65167142,  79.90693845],\n",
    "       [ 34.        ,  26.72953461,  36.69420763],\n",
    "       [ 35.        ,  53.08619   ,  54.91571935],\n",
    "       [ 36.        ,  47.21023846,  55.30553085],\n",
    "       [ 37.        ,  66.02714831,  62.06656138],\n",
    "       [ 38.        ,  75.20276983,  90.48009585],\n",
    "       [ 39.        ,  63.2538258 ,  69.13807308],\n",
    "       [ 40.        ,  51.56423263,  54.39883796],\n",
    "       [ 41.        ,  64.91847439,  67.59731781],\n",
    "       [ 42.        ,  46.95447299,  51.84797284],\n",
    "       [ 43.        ,  47.77083436,  61.81327459],\n",
    "       [ 44.        ,  59.69085344,  73.50586767],\n",
    "       [ 45.        ,   8.17242208,  23.18407151],\n",
    "       [ 46.        ,  34.62284483,  45.71480234],\n",
    "       [ 47.        ,  52.8604269 ,  70.25417135],\n",
    "       [ 48.        ,  51.74504612,  55.76399523],\n",
    "       [ 49.        ,  54.50697994,  59.68155288],\n",
    "       [ 50.        ,  82.48217025, 103.48154944],\n",
    "       [ 51.        ,  60.28539761,  70.78967487],\n",
    "       [ 52.        ,  58.54967699,  65.75231913],\n",
    "       [ 53.        ,  77.17822098,  84.42547234],\n",
    "       [ 54.        ,  78.31459855,  84.5724306 ],\n",
    "       [ 55.        ,  38.34086535,  52.21166258],\n",
    "       [ 56.        ,  67.35682844,  66.24734467],\n",
    "       [ 57.        ,  64.97912032,  80.03917431],\n",
    "       [ 58.        ,  65.72149585,  82.28469639],\n",
    "       [ 59.        ,  36.53819421,  49.27764887],\n",
    "       [ 60.        ,  86.43103191,  98.06981689],\n",
    "       [ 61.        ,  45.95170777,  44.45078473],\n",
    "       [ 62.        ,  79.2032959 ,  90.18129041],\n",
    "       [ 63.        ,  51.19023925,  66.71286159],\n",
    "       [ 64.        ,  32.26181842,  38.25816568],\n",
    "       [ 65.        ,  53.24160216,  62.96163071],\n",
    "       [ 66.        ,  62.43142538,  68.74879939],\n",
    "       [ 67.        ,  44.46113729,  52.21153366],\n",
    "       [ 68.        ,  60.92604303,  74.02768794],\n",
    "       [ 69.        ,  38.15081469,  51.38430159],\n",
    "       [ 70.        ,  29.26667822,  39.27582798],\n",
    "       [ 71.        ,  50.9334228 ,  60.28670523],\n",
    "       [ 72.        ,  56.29361108,  70.43569258],\n",
    "       [ 73.        ,  38.64293222,  57.52761187],\n",
    "       [ 74.        ,  56.6881452 ,  72.12088168],\n",
    "       [ 75.        ,  40.695333  ,  60.47617002],\n",
    "       [ 76.        ,  55.75334792,  66.07146542],\n",
    "       [ 77.        ,  47.75259096,  47.68539031],\n",
    "       [ 78.        ,  75.0085495 ,  83.17227103],\n",
    "       [ 79.        ,  62.2028212 ,  71.23363559],\n",
    "       [ 80.        ,  43.75410011,  60.51900205],\n",
    "       [ 81.        ,  35.18835159,  45.02149959],\n",
    "       [ 82.        ,  59.983474  ,  70.15753838],\n",
    "       [ 83.        ,  51.00087488,  55.96757473],\n",
    "       [ 84.        ,  64.54303038,  68.55737492],\n",
    "       [ 85.        ,  38.22527241,  49.40639262],\n",
    "       [ 86.        ,  58.96817727,  59.56603956],\n",
    "       [ 87.        ,  56.39589119,  66.8567686 ],\n",
    "       [ 88.        ,  37.05702865,  48.43399149],\n",
    "       [ 89.        ,  41.516083  ,  58.50291861],\n",
    "       [ 90.        ,  54.31904919,  64.40041264],\n",
    "       [ 91.        ,  46.04248627,  49.25228526],\n",
    "       [ 92.        ,  55.23428729,  61.04316797],\n",
    "       [ 93.        ,  45.89224131,  48.19227671],\n",
    "       [ 94.        ,  65.82101245,  69.61489965],\n",
    "       [ 95.        ,  61.96416517,  77.11649529],\n",
    "       [ 96.        ,  67.39839128,  70.62675872],\n",
    "       [ 97.        ,  56.3951805 ,  68.94576081],\n",
    "       [ 98.        ,  21.06575367,  37.1626017 ],\n",
    "       [ 99.        ,  69.86085469,  61.02910376],\n",
    "       [100.        ,  35.8927636 ,  42.94057985]])\n"
   ]
  },
  {
   "cell_type": "markdown",
   "metadata": {
    "id": "BZhkIPaFGd9H"
   },
   "source": [
    "## **Exercise 0.8**\n",
    "\n",
    "Let's explore this data using some numpy functions and histograms. You will need to slice the array to access the required columns. For example, ``arrayname[:,0]`` will access all values in the first column an  array.\n",
    "\n",
    "1. Create an array ``subject_one`` containing the results presented in column 2 of the array\n",
    "2. Create a second array ``subject_two`` containing the results presented in column 3 of the array\n",
    "3. Calculate the mean and standard deviation for each of these subjects. You can write your own functions or use inbuilt functions for this purpose.\n",
    "\n",
    "\n",
    "\n"
   ]
  },
  {
   "cell_type": "code",
   "execution_count": null,
   "metadata": {
    "id": "bt_pGR3lbsmW"
   },
   "outputs": [],
   "source": []
  },
  {
   "cell_type": "markdown",
   "metadata": {
    "id": "Ke4bm22ebtCl"
   },
   "source": [
    "## **Exercise 0.9**\n",
    "Let's visualise these results using the data visualisation techniques we have explored so far.\n",
    "\n",
    "1.   Plot a histogram showing the results for subject 1.\n",
    "1. Plot a histogram showing the results for subject 2.\n",
    "1. Plot a scatter plot of subject 1 versus subject 2.  \n",
    "1. Save each of these plots."
   ]
  },
  {
   "cell_type": "code",
   "execution_count": null,
   "metadata": {
    "id": "gJBsuZX2cPcl"
   },
   "outputs": [],
   "source": []
  },
  {
   "cell_type": "markdown",
   "metadata": {
    "id": "eVVAOW3wcIhH"
   },
   "source": [
    "# **Exercise 0.10**\n",
    "\n",
    "You may have noticed that some of the exam results are over 100. Given these results are percentages, these results need to be flagged.\n",
    "\n",
    "Write a function that takes the exam results array as an input, and returns the student ID and subject for any incorrect marks. You can write this function using a numerical method of your choice (i.e. we don't mind how you code this, use a method that makes sense to you).\n",
    "\n"
   ]
  },
  {
   "cell_type": "code",
   "execution_count": null,
   "metadata": {
    "id": "IDXYhNNreJF5"
   },
   "outputs": [],
   "source": []
  },
  {
   "cell_type": "code",
   "execution_count": null,
   "metadata": {
    "id": "3ZIyuqxXhf42"
   },
   "outputs": [],
   "source": []
  },
  {
   "cell_type": "markdown",
   "metadata": {
    "id": "kX3e8-0oF3Tx"
   },
   "source": [
    "## The figure environment\n",
    "So far, we have mainly made use of the ```plt``` command to make simple plots. This is a very quick, convenient method of plotting, but doesn't always produce the nicest looking results.\n",
    "\n",
    "```figure``` is a very powerful tool, giving us a very fine level of control over the appearance of the final figure. The Figure is the top-level container in the hierarchy of our plot. It is the overall window/page that everything is drawn on.\n",
    "\n",
    "Most plotting ocurs on  ```Axes```. The axes is effectively the area that we plot data on and any ticks/labels/etc associated with it. You use subplots to set up and place your Axes on a regular grid.\n",
    "\n",
    "We can set up a very basic figure as follows:\n",
    "\n",
    "```python\n",
    "fig = plt.figure()\n",
    "ax = fig.add_subplot(111) # We'll explain the \"111\" later. Basically, 1 row and 1 column.\n",
    "ax.set(xlim=[0.5, 4.5], ylim=[-2, 8], title='An Example Axes',\n",
    "       ylabel='Y-Axis', xlabel='X-Axis')\n",
    "plt.show()\n",
    "```\n"
   ]
  },
  {
   "cell_type": "code",
   "execution_count": null,
   "metadata": {
    "id": "bCfxYsZuH-sn"
   },
   "outputs": [],
   "source": [
    "fig = plt.figure()\n",
    "ax = fig.add_subplot(111) # We'll explain the \"111\" later. Basically, 1 row and 1 column.\n",
    "ax.set(xlim=[0.5, 4.5], ylim=[-2, 8], title='An Example Axes',\n",
    "       ylabel='Y-Axis', xlabel='X-Axis')\n",
    "plt.show()"
   ]
  },
  {
   "cell_type": "markdown",
   "metadata": {
    "id": "QMFicCC2IATV"
   },
   "source": [
    "You can set up axes as follows, as it makes it easier to make changes things like axis lables. Note the addition of ```figsize=(8,8)```- this allows us to adjust the size of the figure, in this case to 8x8 inches.\n",
    "\n",
    "```python\n",
    "fig = plt.figure(figsize=(8,8))\n",
    "ax = fig.add_subplot(111) # We'll explain the \"111\" later. Basically, 1 row and 1 column.\n",
    "ax.set_xlim([0.5, 4.5])\n",
    "ax.set_ylim([-2, 8])\n",
    "ax.set_title('A Different Example Axes Title')\n",
    "ax.set_ylabel('Y-Axis (changed)')\n",
    "ax.set_xlabel('X-Axis (changed)')\n",
    "ax.scatter(np.linspace(0, 1, 5), np.linspace(0, 5, 5))\n",
    "plt.show()\n",
    "```\n",
    "\n",
    "We can also choose to save the figure, using the following, replacing ```format``` with the filetype we want to save our figure as.  \n",
    "\n",
    "```python\n",
    "fig.savefig('myplot.format')\n",
    "```\n",
    "\n",
    "You are able to save this figure in many different formats, including ```pdf```, ```jpeg```, ```png``` etc. You can find out the available formats using the command ```plt.gcf().canvas.get_supported_filetypes()```\n",
    "\n",
    "\n",
    "Note that your figure will be overwritten each time you run your script."
   ]
  },
  {
   "cell_type": "markdown",
   "metadata": {
    "id": "2FbkB-fBILnz"
   },
   "source": [
    "## Exercise 0.11: putting this all together\n",
    "\n",
    "In this example, we're going to generate some fake data, tweak the plot until we're happy with it, then save the plot. An example code is given, but try editing this for your example. For example change the provided function to a different one!\n",
    "\n",
    "1. Generate some fake data using a function of your choice. First, define an x-array of data, then generate a y-array of data e.g. ```y(x)```. This could be something like e.g. ```y = x**3 + np.sin(x)```\n",
    "2. Plot this data using the figure environment.\n",
    "3. Adjust the plot axes, labels, colours etc. until you are happpy with them.\n",
    "4. Save the figure in your chosen format.\n",
    "\n",
    "If you generate a scatter plot, you can select a marker (point style) of your choice, using options on the following link:\n",
    "\n",
    "https://matplotlib.org/api/markers_api.html\n",
    "\n",
    "For example, if you want a scatter plot to use red hexagons, you can do the following, where ```s``` increases the size fo the plot:\n",
    "\n",
    "```python\n",
    "ax.scatter(x,y, marker=\"h\", color='red' , s=20)\n",
    "```\n",
    "\n",
    "You're free to generate whatever fake data you choose here, or you could use some of the data earlier. Feel free to customise your plot by choosing different colours, markers etc."
   ]
  },
  {
   "cell_type": "code",
   "execution_count": null,
   "metadata": {
    "id": "kf2FMt87Id9h"
   },
   "outputs": [],
   "source": []
  },
  {
   "cell_type": "code",
   "execution_count": null,
   "metadata": {
    "id": "bvSV6G-oHapX"
   },
   "outputs": [],
   "source": []
  },
  {
   "cell_type": "code",
   "execution_count": null,
   "metadata": {
    "id": "a9LNz3h8HdoM"
   },
   "outputs": [],
   "source": []
  }
 ],
 "metadata": {
  "colab": {
   "provenance": []
  },
  "kernelspec": {
   "display_name": "Python 3 (ipykernel)",
   "language": "python",
   "name": "python3"
  },
  "language_info": {
   "codemirror_mode": {
    "name": "ipython",
    "version": 3
   },
   "file_extension": ".py",
   "mimetype": "text/x-python",
   "name": "python",
   "nbconvert_exporter": "python",
   "pygments_lexer": "ipython3",
   "version": "3.9.7"
  }
 },
 "nbformat": 4,
 "nbformat_minor": 1
}
