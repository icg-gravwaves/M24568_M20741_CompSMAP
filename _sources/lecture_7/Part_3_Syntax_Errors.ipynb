{
 "cells": [
  {
   "cell_type": "markdown",
   "id": "d45e0eaf",
   "metadata": {},
   "source": [
    "# Exercise 1: Syntax errors\n",
    "\n",
    "\n",
    "In this, and subsequent, noteboooks in this class we'll walk through a number of different problems. Each of these fail in some way. For many of the early problems, the issue can be solved by inspecting the code. However, for later ones you may need to use PDB to really understand what the code is doing and diagnose the problems. Some of the later problem sets are quite challenging, so just get through as much of this as you can. **There are no \"summary exercises\" this week, just work through as much as you can. Try to get at least as far as exercise 5**. Good luck!"
   ]
  },
  {
   "cell_type": "markdown",
   "id": "fb2466fa",
   "metadata": {},
   "source": [
    "## Syntax errors\n",
    "\n",
    "Syntax errors are the first type of bug you encounter in new code. Luckily these prevent the code from running so you *know* there's a problem, you just need to fix it.\n",
    "\n",
    "Here are some examples of code containing syntax errors. **Identify and fix the issues in each of the cells below**. In some cases there are errors beyond just the syntax error to resolve!"
   ]
  },
  {
   "cell_type": "markdown",
   "id": "ac586353",
   "metadata": {},
   "source": [
    "## Exercise 1.1"
   ]
  },
  {
   "cell_type": "code",
   "execution_count": null,
   "id": "d2754332",
   "metadata": {},
   "outputs": [],
   "source": [
    "counter=0\n",
    "While counter < 5:\n",
    "    print (\"hello\")\n",
    "        counter = counter + 1"
   ]
  },
  {
   "cell_type": "markdown",
   "id": "103df371",
   "metadata": {},
   "source": [
    "## Exercise 1.2"
   ]
  },
  {
   "cell_type": "code",
   "execution_count": null,
   "id": "6b9c5047",
   "metadata": {},
   "outputs": [],
   "source": [
    "counter = 0\n",
    "if counter == 4\n",
    "    print (\"counter is 4\")"
   ]
  },
  {
   "cell_type": "markdown",
   "id": "4cccaa5c",
   "metadata": {},
   "source": [
    "## Exercise 1.3"
   ]
  },
  {
   "cell_type": "code",
   "execution_count": null,
   "id": "1a7ee113",
   "metadata": {},
   "outputs": [],
   "source": [
    "x = 3\n",
    "y = ((x + 3) * (x + 4)\n",
    "print y\n"
   ]
  },
  {
   "cell_type": "markdown",
   "id": "ac004758",
   "metadata": {},
   "source": [
    "## Exercise 1.4"
   ]
  },
  {
   "cell_type": "code",
   "execution_count": 1,
   "id": "f9fc934b",
   "metadata": {},
   "outputs": [
    {
     "ename": "SyntaxError",
     "evalue": "unmatched ')' (2527653058.py, line 1)",
     "output_type": "error",
     "traceback": [
      "\u001b[0;36m  Input \u001b[0;32mIn [1]\u001b[0;36m\u001b[0m\n\u001b[0;31m    name = input)\u001b[0m\n\u001b[0m                ^\u001b[0m\n\u001b[0;31mSyntaxError\u001b[0m\u001b[0;31m:\u001b[0m unmatched ')'\n"
     ]
    }
   ],
   "source": [
    "name = input)\n",
    "print(name)"
   ]
  },
  {
   "cell_type": "markdown",
   "id": "7e381723",
   "metadata": {},
   "source": [
    "## Exercise 1.5"
   ]
  },
  {
   "cell_type": "code",
   "execution_count": null,
   "id": "7d69c7c7",
   "metadata": {},
   "outputs": [],
   "source": [
    "greeting = \"hello\" + \" world\n",
    "print(greeting)"
   ]
  },
  {
   "cell_type": "markdown",
   "id": "e301952d",
   "metadata": {},
   "source": [
    "## Exercise 1.6"
   ]
  },
  {
   "cell_type": "code",
   "execution_count": 3,
   "id": "cc843dab",
   "metadata": {},
   "outputs": [
    {
     "ename": "SyntaxError",
     "evalue": "invalid syntax (1803116143.py, line 1)",
     "output_type": "error",
     "traceback": [
      "\u001b[0;36m  Input \u001b[0;32mIn [3]\u001b[0;36m\u001b[0m\n\u001b[0;31m    def example1_A()\u001b[0m\n\u001b[0m                    ^\u001b[0m\n\u001b[0;31mSyntaxError\u001b[0m\u001b[0;31m:\u001b[0m invalid syntax\n"
     ]
    }
   ],
   "source": [
    "def example1_A()\n",
    "    x = 0\n",
    "     y = 1\n",
    "     return x+y\n",
    "\n",
    "print(example1_A())"
   ]
  },
  {
   "cell_type": "markdown",
   "id": "167d2176",
   "metadata": {},
   "source": [
    "## Exercise 1.7"
   ]
  },
  {
   "cell_type": "code",
   "execution_count": null,
   "id": "b90d2e44",
   "metadata": {},
   "outputs": [],
   "source": [
    "import numpy\n",
    "\n",
    "def example1_B(list_of_vals):\n",
    "    b = ((list_of_vals.sum() + list_of_vals.mean() + numpy.cos(list_of_vals)*(sorted(list_of_vals)))\n",
    "    return b\n",
    "\n",
    "a = numpy.random.random(100)\n",
    "example1_B(a)"
   ]
  },
  {
   "cell_type": "markdown",
   "id": "ba655914",
   "metadata": {},
   "source": [
    "## Exercise 1.8"
   ]
  },
  {
   "cell_type": "code",
   "execution_count": null,
   "id": "5aa0d882",
   "metadata": {},
   "outputs": [],
   "source": [
    "first = 1\n",
    "second = 2\n",
    "third = \n",
    "extra = input(\"What is the extra value? \")\n",
    "\n",
    "total = first+second+third+extra\n",
    "print(total)\n"
   ]
  },
  {
   "cell_type": "markdown",
   "id": "79870721",
   "metadata": {},
   "source": [
    "## Exercise 1.9\n",
    "\n",
    "For this one here, after fixing, ensure it works with both an odd *and* an even number as input!"
   ]
  },
  {
   "cell_type": "code",
   "execution_count": null,
   "id": "2ee29894",
   "metadata": {},
   "outputs": [],
   "source": [
    "x = int(input('Enter a number: '))\n",
    "\n",
    "whille x%2 == 0:\n",
    "    print('You have entered an even number.')\n",
    "else:\n",
    "    print ('You have entered an odd number.')\n"
   ]
  },
  {
   "cell_type": "markdown",
   "id": "e0f55d52",
   "metadata": {},
   "source": [
    "## Exercise 1.10\n",
    "\n",
    "The following example case is long. It's an example of coding up a noughts and crosses game. There's nothing in here that you haven't seen before, so can you use the error messages, and your knowledge, to fix the broken code? (If you get stuck, don't spend too much time on this, it's important to also see later exercises!)\n",
    "\n",
    "**HINT**: After resolving the syntax errors, are the input, and output, arguments in the right order??"
   ]
  },
  {
   "cell_type": "code",
   "execution_count": 13,
   "id": "cf486994",
   "metadata": {},
   "outputs": [
    {
     "ename": "SyntaxError",
     "evalue": "invalid syntax (2035446839.py, line 3)",
     "output_type": "error",
     "traceback": [
      "\u001b[0;36m  Input \u001b[0;32mIn [13]\u001b[0;36m\u001b[0m\n\u001b[0;31m    def create_empty_board()\u001b[0m\n\u001b[0m                            ^\u001b[0m\n\u001b[0;31mSyntaxError\u001b[0m\u001b[0;31m:\u001b[0m invalid syntax\n"
     ]
    }
   ],
   "source": [
    "import numpy\n",
    "\n",
    "def create_empty_board()\n",
    "    return numpy.zeros([3,3)\n",
    "                        \n",
    "\n",
    "def print_board(board):\n",
    "    for i in range(3):\n",
    "        curr_line = ''\n",
    "        for j in range(3):\n",
    "            if board[i,j] == -1:\n",
    "                curr_line += \"O\"\n",
    "            elif board[i,j] == 1:\n",
    "                curr_line += \"X\"\n",
    "            elif board[i,j] == 0:\n",
    "                curr_line += \"*\"\n",
    "        print(curr_line)\n",
    "    print()\n",
    "    \n",
    "def place_nought(board, current_player, i, j):\n",
    "    if current_player == 'crosses':\n",
    "        print(\"It's not nought's turn!\")\n",
    "        return board, current_player\n",
    "    if not board[i,j] == 0:\n",
    "        print(\"That square already has a piece on it\")\n",
    "        return board, current_player\n",
    "    board[i,j] = -1\n",
    "    current_player = 'crosses'\n",
    "    check_board_status(board)\n",
    "    return board, current_player\n",
    "    \n",
    "def place_cross(board, current_player, i, j):\n",
    "    if current_plazer == 'noughts':\n",
    "        print(\"It's not nought's turn!\")\n",
    "        return board, current_player\n",
    "    if not board[i,j] == 0:\n",
    "        print(\"That square already has a piece on it\")\n",
    "        return board, current_player\n",
    "    board[i,j] = 1\n",
    "    current_player = 'noughts\n",
    "    check_board_status(board)\n",
    "    return board, current_player\n",
    "    \n",
    "def check_board_status(board):\n",
    "    # Check horizontal and vertical rows\n",
    "    diag_sum = board[0,0] + board[1,1] + board2,2]\n",
    "    diag_sum2 = board[0,2] + board[1,1] + board[2,0]\n",
    "    for i in range(3):\n",
    "        if board[i,:].sum() == 3 or board[:,i].sum() == 3 or diag_sum == 3 or diag_sum == 3:\n",
    "           print(\"CROSSES WIN\")\n",
    "            print_board(board)\n",
    "        if board[i,:].sum() == -3 or board[:,i].sum() == -3 or diag_sum == -3 or diag_sum == -3:\n",
    "            print(\"NOUGHTS WIN\")\n",
    "            print_board(board)\n",
    "        \n",
    "    # Check if any values are 0\n",
    "    if not (board == 0).any():\n",
    "        print(\"GAME IS A DRAW\")\n",
    "        print_board(board)\n",
    "\n",
    "board = create_empty_board()\n",
    "current_player = 'noughts'\n",
    "print_bord(board)\n",
    "current_player, board = place_nought(current_player, board, 0,1)\n",
    "# This one below should fail, it's not nought's turn!\n",
    "current_player, board = place_nought(current_player, board, 1,1)\n",
    "print_board(board)\n",
    "current_player, board = place_cross(current_player, board, 1,1)\n",
    "current_player, board = place_nought(current_player, board, 0,0)\n",
    "current_player, board = place_cross(current_player, board, 2,2)\n",
    "current_player, board = place_nought(current_player, board, 0,2)\n",
    "# Nought wins\n",
    "\n",
    "board = create_empty_board()\n",
    "current_player = 'noughts'\n",
    "print_bord(board)\n",
    "current_player, board = place_nought(current_player, board, 1,1)\n",
    "current_player, board = place_cross(current_player, board, 0,0)\n",
    "current_player, board = place_nought(current_player, board, 0,2)\n",
    "current_player, board = place_cross(current_player, board, 2,0)\n",
    "current_player, board = place_nought(current_player, board, 1,0)\n",
    "current_player, board = place_cross(current_player, board, 1,2)\n",
    "current_player, board = place_nought(current_player, board, 0,1)\n",
    "current_player, board = place_cross(current_player, board, 2,1)\n",
    "current_player, board = place_nought(current_player, board, 2,2)\n",
    "# DRAW\n"
   ]
  },
  {
   "cell_type": "code",
   "execution_count": null,
   "id": "1c17218e",
   "metadata": {},
   "outputs": [],
   "source": []
  }
 ],
 "metadata": {
  "kernelspec": {
   "display_name": "Python 3 (ipykernel)",
   "language": "python",
   "name": "python3"
  },
  "language_info": {
   "codemirror_mode": {
    "name": "ipython",
    "version": 3
   },
   "file_extension": ".py",
   "mimetype": "text/x-python",
   "name": "python",
   "nbconvert_exporter": "python",
   "pygments_lexer": "ipython3",
   "version": "3.9.7"
  }
 },
 "nbformat": 4,
 "nbformat_minor": 5
}
