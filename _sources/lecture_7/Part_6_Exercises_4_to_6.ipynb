{
 "cells": [
  {
   "cell_type": "markdown",
   "id": "dc3fffa8",
   "metadata": {},
   "source": [
    "# Exercises 4 - 6\n",
    "\n",
    "Some slightly longer examples now. These are all code written to do some action, or solve some problem, but don't work. Why not? Please fix them!"
   ]
  },
  {
   "cell_type": "markdown",
   "id": "b2902215",
   "metadata": {},
   "source": [
    "## Exercise 4 - Arithmetic expression\n",
    "\n",
    "We want to write a function that will take three integers A, B or C.\n",
    "\n",
    "We want the code to check if `A+B = C` *OR* if `A-B =C` *OR* if `A*B=C` *OR* if `A/B=C`. If it is return True. Otherwise return False. We've written the following code, and sometimes it works, but sometimes it doesn't.\n",
    "\n",
    "**Find out why and edit the code to fix the problem**"
   ]
  },
  {
   "cell_type": "code",
   "execution_count": null,
   "id": "bf622e01",
   "metadata": {},
   "outputs": [],
   "source": [
    "# CHANGE THIS CODE TO FIX THE PROBLEM\n",
    "def example_4(a, b, c):\n",
    "\n",
    "    if a + b == c or a * b == c and b * c == a or a - b == c:\n",
    "        return True\n",
    "    return False\n",
    "\n",
    "\n",
    "print(\"example_4(1,2,3)\", example_4(1,2,3)) # Should be True, 1 + 2 = 3\n",
    "\n",
    "print(\"example_4(3,6,17)\", example_4(3,6,17)) # Should be False\n",
    "\n",
    "print(\"example_4(10,2,5)\", example_4(10,2,5)) # Should be True 10 / 2 = 5\n",
    "\n",
    "print(\"example_4(2,3,6)\", example_4(2,3,6)) # Should be True, 2 * 3 = 6\n"
   ]
  },
  {
   "cell_type": "markdown",
   "id": "fb2ee87b",
   "metadata": {},
   "source": [
    "## Exercise 5 - The non-reproducible function\n",
    "\n",
    "Here we want to create a simple function that takes an integer $a$, and then returns `sum(a,a+1,a+2)`. We run this on 3 examples and the first example is correct, but the other answers are not. Then we run it again and now get silly output. What's going on here? ... This is an example of a well documented issue in python, but this is also a good case for using PDB to try to understand what is happening.\n",
    "\n",
    "**Find the error and fix the code so that the function does what it's supposed to**\n"
   ]
  },
  {
   "cell_type": "code",
   "execution_count": 1,
   "id": "d9e5d5df",
   "metadata": {},
   "outputs": [],
   "source": [
    "# What is wrong, if anything, with this code??\n",
    "vals = []\n",
    "\n",
    "def exercise_5(a):\n",
    "    for i in range(3):\n",
    "        vals.append(a + i)\n",
    "    \n",
    "    return sum(vals)\n"
   ]
  },
  {
   "cell_type": "code",
   "execution_count": null,
   "id": "45af9c0f",
   "metadata": {},
   "outputs": [],
   "source": [
    "print(exercise_5(0), exercise_5(1), exercise_5(2))\n",
    "# And we'll run it again, because why not.\n",
    "print(exercise_5(0), exercise_5(1), exercise_5(2))\n"
   ]
  },
  {
   "cell_type": "markdown",
   "id": "a0c25d9d",
   "metadata": {},
   "source": [
    "## Exercise 6 - Square digits\n",
    "\n",
    "Here the task is to write a code to do the following.\n",
    "\n",
    "\n",
    "* Consider a sequence of numbers $a_0$, $a_1$, ..., $a_n$, in which an element is equal to the sum of squared digits of the previous element. The sequence ends once an element that has already been in the sequence appears again. Given the first element a0, find the length of the sequence.\n",
    "\n",
    "\n",
    "So for example if a0 = 16. `1**2 + 6**2 = 37` -> `3**2 + 7**2 = 58` -> `5**2 + 8**2 = 89` -> `8**2 + 9**2 = 145` -> `1**2 + 4**2 + 5**2 = 42` -> `4**2 + 2**2 = 20` -> `2**2 + 0**2 = 4` -> `4**2 = 16` We've already seen 16 so we stop here. The sequence is `[16,37,58,89,145,42,20,4,16]` which has a length of 9, return 9.\n",
    "\n",
    "**Except the code we've written doesn't return this. What is wrong?**"
   ]
  },
  {
   "cell_type": "code",
   "execution_count": null,
   "id": "449d0ec5",
   "metadata": {},
   "outputs": [],
   "source": [
    "def exercise_6(a0):\n",
    "\n",
    "    cur = a0\n",
    "    was = set()\n",
    "\n",
    "    while not (cur in was):\n",
    "        was.add(cur)\n",
    "        nxt = 0\n",
    "        while cur > 0:\n",
    "            nxt += (cur % 10) * (cur % 10)\n",
    "            cur //= 10\n",
    "        cur = nxt\n",
    "\n",
    "    return len(was)\n",
    "\n",
    "print(\"exercise_6(103) gives:\",exercise_6(103), \"\\n Should be 4\")\n",
    "print()\n",
    "print(\"exercise_6(1) gives:\",exercise_6(1), \"\\n Should be 2\")\n",
    "print()\n",
    "print(\"exercise_6(13) gives:\",exercise_6(13), \"\\n Should be 4\")\n",
    "print()\n",
    "print(\"exercise_6(16) gives:\",exercise_5(16), \"\\n Should be 9\")\n",
    "print()\n",
    "print(\"exercise_6(612) gives:\",exercise_6(612), \"\\n Should be 16\")\n",
    "print()\n",
    "print(\"exercise_6(89) gives:\",exercise_6(89), \"\\n What should it be?\")\n"
   ]
  }
 ],
 "metadata": {
  "kernelspec": {
   "display_name": "Python 3 (ipykernel)",
   "language": "python",
   "name": "python3"
  },
  "language_info": {
   "codemirror_mode": {
    "name": "ipython",
    "version": 3
   },
   "file_extension": ".py",
   "mimetype": "text/x-python",
   "name": "python",
   "nbconvert_exporter": "python",
   "pygments_lexer": "ipython3",
   "version": "3.9.7"
  }
 },
 "nbformat": 4,
 "nbformat_minor": 5
}
