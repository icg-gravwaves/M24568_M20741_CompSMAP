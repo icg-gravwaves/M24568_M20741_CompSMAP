{
 "cells": [
  {
   "cell_type": "markdown",
   "id": "ee65402b",
   "metadata": {},
   "source": [
    "# Using PDB to debug code\n",
    "\n",
    "***Note that a video walkthrough of this PDB tutorial is in Moodle, and will be shown at the start of the lab sessions***\n",
    "\n",
    "In this notebook we will show how to use PDB to debug code. This is an interactive walkthrough, so open in Colab!\n",
    "\n",
    "See the example below. A code to compute `cos(1/x)` at a set of values between x=0 to x=10 and then sum all of them (this is actually a basic example of integration done numerically, we'll explore that more at a later date!)"
   ]
  },
  {
   "cell_type": "code",
   "execution_count": 1,
   "id": "e5124353",
   "metadata": {},
   "outputs": [
    {
     "name": "stdout",
     "output_type": "stream",
     "text": [
      "nan\n"
     ]
    },
    {
     "name": "stderr",
     "output_type": "stream",
     "text": [
      "/var/folders/67/1t4_rwdj441c8g3j147_fwrh0000gs/T/ipykernel_1205/1868074832.py:5: RuntimeWarning: divide by zero encountered in divide\n",
      "  inverse_x = 1./x_vals\n",
      "/var/folders/67/1t4_rwdj441c8g3j147_fwrh0000gs/T/ipykernel_1205/1868074832.py:7: RuntimeWarning: divide by zero encountered in divide\n",
      "  cos_inv_x = numpy.cos(1./x_vals)\n",
      "/var/folders/67/1t4_rwdj441c8g3j147_fwrh0000gs/T/ipykernel_1205/1868074832.py:7: RuntimeWarning: invalid value encountered in cos\n",
      "  cos_inv_x = numpy.cos(1./x_vals)\n"
     ]
    }
   ],
   "source": [
    "import numpy\n",
    "# Specify 1000 values of x between 0 and 10, with delta_x = 0.01\n",
    "x_vals = numpy.linspace(0,10.,1000)\n",
    "# Convert to 1 / x\n",
    "inverse_x = 1./x_vals\n",
    "# And take the cos of this\n",
    "cos_inv_x = numpy.cos(1./x_vals)\n",
    "# To integrate multiply the above by delta_x and sum over all values. This is the very basic\n",
    "# \"rectangular integration\". There are more accurate ways to do this, but we're illustrating a problem. \n",
    "dx = 10 / 1000\n",
    "sum_vals = numpy.sum(cos_inv_x)\n",
    "# Finally print the integral\n",
    "print (sum_vals * dx)"
   ]
  },
  {
   "cell_type": "markdown",
   "id": "40f4112d",
   "metadata": {},
   "source": [
    "Hmmm, some nasty warnings and the code returns NaN. Can this be solved by inspecting the code (Step 1) and by using debug statements (Step 2). Yes, quite probably. But let's illustrate PDB. You can add the following lines to the code (see cell below). Now when the code runs, it will enter a interactive window after getting to `set_trace`. From here, you can:\n",
    "\n",
    "* Enter a name of a variable to see what it is set to\n",
    "* Enter n to move to the next line of the code\n",
    "* Enter c to exit interactive mode and continue executing the code\n",
    "\n",
    "(and other commands which can be found by googling).\n",
    "\n",
    "Here's what this looks like when running this and adding some commands. Reproduce this below:\n",
    "\n",
    "```\n",
    "# Illustrating PDB\n",
    "from IPython.core.debugger import Pdb\n",
    "import numpy\n",
    "\n",
    "debug_here = Pdb()\n",
    "\n",
    "def run_command():\n",
    "    debug_here.set_trace()\n",
    "    x_val = 5.\n",
    "    inv_x = 1./x_val\n",
    "    dx = 10 / 1000\n",
    "    product = inv_x * dx\n",
    "\n",
    "run_command()\n",
    "\n",
    "> <ipython-input-39-54f52ffa365c>(5)run_command()\n",
    "-> x_val = 5.\n",
    "(Pdb) n\n",
    "> <ipython-input-39-54f52ffa365c>(6)run_command()\n",
    "-> inv_x = 1./x_val\n",
    "(Pdb) x_val\n",
    "5.0\n",
    "(Pdb) inv_x\n",
    "*** NameError: name 'inv_x' is not defined\n",
    "(Pdb) n\n",
    "> <ipython-input-39-54f52ffa365c>(7)run_command()\n",
    "-> dx = 10 / 1000\n",
    "(Pdb) inv_x\n",
    "0.2\n",
    "(Pdb) c\n",
    "```"
   ]
  },
  {
   "cell_type": "code",
   "execution_count": 3,
   "id": "4d103d4e",
   "metadata": {},
   "outputs": [],
   "source": [
    "# Illustrating PDB\n",
    "from IPython.core.debugger import Pdb\n",
    "import numpy\n",
    "\n",
    "debug_here = Pdb()\n",
    "\n",
    "def run_command():\n",
    "    debug_here.set_trace()\n",
    "    x_val = 5.\n",
    "    inv_x = 1./x_val\n",
    "    dx = 10 / 1000\n",
    "    product = inv_x * dx\n",
    "\n",
    "# PLEASE UNCOMMENT THE LINE BELOW AND RUN THIS! \n",
    "#run_command() "
   ]
  },
  {
   "cell_type": "markdown",
   "id": "53f0dc38",
   "metadata": {},
   "source": [
    "Here we demonstrated that we are able to check the values of elements in this function and walk through line-by-line. Some notes:\n",
    "\n",
    " * If you are not in a function, the `n` command might not work well in a Jupyter notebook. You can still pause the code with `debug_here.set_trace()` and query values, but you might not be able to move to the next line easily.\n",
    " \n",
    "However, we saw no problem in what we did here, so let's look at this more closely:"
   ]
  },
  {
   "cell_type": "markdown",
   "id": "6afafcc7",
   "metadata": {},
   "source": [
    "In the example below we again run through the command. Walk through line by line and identify where the divide-by-zero appears. Can you now see why this code is returning NaN? Is the problem one of implementation, or was the question just ill-defined? Can you explain to other students in the class what is happening here?"
   ]
  },
  {
   "cell_type": "code",
   "execution_count": 6,
   "id": "9a9eba60",
   "metadata": {},
   "outputs": [],
   "source": [
    "from IPython.core.debugger import Pdb\n",
    "import numpy\n",
    "\n",
    "debug_here = Pdb()\n",
    "\n",
    "def run_command():\n",
    "    x_vals = numpy.linspace(0,10.,20)\n",
    "    debug_here.set_trace()\n",
    "    inverse_x = 1./x_vals\n",
    "    cos_inv_x = numpy.cos(1./x_vals)\n",
    "    dx = 10 / 1000\n",
    "    sum_vals = numpy.sum(cos_inv_x)\n",
    "    return (sum_vals * dx)\n",
    "\n",
    "# AGAIN UNCOMMENT THE LINE BELOW TO RUN THIS!\n",
    "#print (run_command())"
   ]
  }
 ],
 "metadata": {
  "kernelspec": {
   "display_name": "Python 3 (ipykernel)",
   "language": "python",
   "name": "python3"
  },
  "language_info": {
   "codemirror_mode": {
    "name": "ipython",
    "version": 3
   },
   "file_extension": ".py",
   "mimetype": "text/x-python",
   "name": "python",
   "nbconvert_exporter": "python",
   "pygments_lexer": "ipython3",
   "version": "3.9.7"
  }
 },
 "nbformat": 4,
 "nbformat_minor": 5
}
