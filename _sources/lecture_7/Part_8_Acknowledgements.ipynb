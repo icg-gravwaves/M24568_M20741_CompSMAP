{
 "cells": [
  {
   "cell_type": "markdown",
   "id": "97b3ef29",
   "metadata": {},
   "source": [
    "# Acknowledgements\n",
    "\n",
    "Many helpful places on the internet to demonstrate python errors. I am grateful to:\n",
    "\n",
    "* https://geek-university.com/python/syntax-and-logical-errors/\n",
    "* http://www.wellho.net/resources/ex.php4?item=y109/syntax.py\n",
    "* https://www.toptal.com/python/top-10-mistakes-that-python-programmers-make\n",
    "* https://davidhamann.de/2017/04/22/debugging-jupyter-notebooks/\n",
    "* http://level1wiki.wikidot.com/syntax-error\n",
    "* https://app.codesignal.com/home"
   ]
  }
 ],
 "metadata": {
  "kernelspec": {
   "display_name": "Python 3 (ipykernel)",
   "language": "python",
   "name": "python3"
  },
  "language_info": {
   "codemirror_mode": {
    "name": "ipython",
    "version": 3
   },
   "file_extension": ".py",
   "mimetype": "text/x-python",
   "name": "python",
   "nbconvert_exporter": "python",
   "pygments_lexer": "ipython3",
   "version": "3.9.7"
  }
 },
 "nbformat": 4,
 "nbformat_minor": 5
}
