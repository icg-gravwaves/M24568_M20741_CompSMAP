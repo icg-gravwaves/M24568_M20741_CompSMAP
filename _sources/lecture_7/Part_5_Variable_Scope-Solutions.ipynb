{
 "cells": [
  {
   "cell_type": "markdown",
   "id": "9fbd60d5",
   "metadata": {},
   "source": [
    "# Exercise 3 - Variable Scope - SOLVED\n",
    "\n",
    "This is a common problem in Jupyter notebooks, where \"variable scope\" is not as clear as when writing a block of code. What does \"variable scope\" mean? In short: There are *some* cases where python can use variables within a function which is not declared within the function, normally if that variable is not changed. However, it is almost always better to always have any variables that a function needs be declared in the function or declared as input variables.\n",
    "\n",
    "So to illustrate this we can do:"
   ]
  },
  {
   "cell_type": "code",
   "execution_count": null,
   "id": "2fec647f",
   "metadata": {},
   "outputs": [],
   "source": [
    "x = 10\n",
    "def exercise3_A():\n",
    "    y = x * x\n",
    "    print(y)\n",
    "\n",
    "exercise3_A()\n"
   ]
  },
  {
   "cell_type": "markdown",
   "id": "2b8ae018",
   "metadata": {},
   "source": [
    "But it might be much clearer to do:"
   ]
  },
  {
   "cell_type": "code",
   "execution_count": null,
   "id": "a4332d86",
   "metadata": {},
   "outputs": [],
   "source": [
    "x = 10\n",
    "def exercise3_A(x):\n",
    "    y = x * x\n",
    "    return y\n",
    "\n",
    "print(exercise3_A(x))\n"
   ]
  },
  {
   "cell_type": "markdown",
   "id": "d5e1f5cc",
   "metadata": {},
   "source": [
    "Do you understand the difference? Please ask us if it is not clear!\n",
    "\n",
    "However, if we do:"
   ]
  },
  {
   "cell_type": "code",
   "execution_count": 1,
   "id": "66320b10",
   "metadata": {},
   "outputs": [
    {
     "ename": "UnboundLocalError",
     "evalue": "local variable 'x' referenced before assignment",
     "output_type": "error",
     "traceback": [
      "\u001b[0;31m---------------------------------------------------------------------------\u001b[0m",
      "\u001b[0;31mUnboundLocalError\u001b[0m                         Traceback (most recent call last)",
      "Input \u001b[0;32mIn [1]\u001b[0m, in \u001b[0;36m<module>\u001b[0;34m\u001b[0m\n\u001b[1;32m      3\u001b[0m     x \u001b[38;5;241m+\u001b[39m\u001b[38;5;241m=\u001b[39m \u001b[38;5;241m1\u001b[39m\n\u001b[1;32m      4\u001b[0m     \u001b[38;5;28mprint\u001b[39m(x)\n\u001b[0;32m----> 6\u001b[0m \u001b[43mexercise3_B\u001b[49m\u001b[43m(\u001b[49m\u001b[43m)\u001b[49m\n",
      "Input \u001b[0;32mIn [1]\u001b[0m, in \u001b[0;36mexercise3_B\u001b[0;34m()\u001b[0m\n\u001b[1;32m      2\u001b[0m \u001b[38;5;28;01mdef\u001b[39;00m \u001b[38;5;21mexercise3_B\u001b[39m():\n\u001b[0;32m----> 3\u001b[0m     x \u001b[38;5;241m+\u001b[39m\u001b[38;5;241m=\u001b[39m \u001b[38;5;241m1\u001b[39m\n\u001b[1;32m      4\u001b[0m     \u001b[38;5;28mprint\u001b[39m(x)\n",
      "\u001b[0;31mUnboundLocalError\u001b[0m: local variable 'x' referenced before assignment"
     ]
    }
   ],
   "source": [
    "x = 10\n",
    "def exercise3_B():\n",
    "    x += 1\n",
    "    print(x)\n",
    "\n",
    "exercise3_B()\n"
   ]
  },
  {
   "cell_type": "markdown",
   "id": "59944936",
   "metadata": {},
   "source": [
    "Then the code fails. This is because you cannot change variables within a function that are defined outside of it.\n",
    "\n",
    "\n",
    "**EXERCISE: Fix the code such that it correctly increments x by 1 and prints it. The value of x outside the function should also increment by 1**."
   ]
  },
  {
   "cell_type": "code",
   "execution_count": 1,
   "id": "ea0bed0c",
   "metadata": {},
   "outputs": [
    {
     "name": "stdout",
     "output_type": "stream",
     "text": [
      "11\n"
     ]
    }
   ],
   "source": [
    "# FEEL FREE TO EDIT ANY CODE IN THIS CELL TO FIX THE PROBLEM\n",
    "\n",
    "x = 10\n",
    "\n",
    "def exercise3_B(y):\n",
    "    y += 1\n",
    "    return y\n",
    "\n",
    "x = exercise3_B(x)\n",
    "print(x)"
   ]
  },
  {
   "cell_type": "markdown",
   "id": "c6b08455",
   "metadata": {},
   "source": [
    "A slightly more involved example of the following problem is this. Think about what the difference is here."
   ]
  },
  {
   "cell_type": "code",
   "execution_count": 3,
   "id": "61b6fb8b",
   "metadata": {},
   "outputs": [
    {
     "name": "stdout",
     "output_type": "stream",
     "text": [
      "[1, 2, 3, 5]\n"
     ]
    },
    {
     "ename": "UnboundLocalError",
     "evalue": "local variable 'lst' referenced before assignment",
     "output_type": "error",
     "traceback": [
      "\u001b[0;31m---------------------------------------------------------------------------\u001b[0m",
      "\u001b[0;31mUnboundLocalError\u001b[0m                         Traceback (most recent call last)",
      "Input \u001b[0;32mIn [3]\u001b[0m, in \u001b[0;36m<module>\u001b[0;34m\u001b[0m\n\u001b[1;32m      9\u001b[0m \u001b[38;5;28;01mdef\u001b[39;00m \u001b[38;5;21mexercise3_D\u001b[39m():\n\u001b[1;32m     10\u001b[0m     lst \u001b[38;5;241m+\u001b[39m\u001b[38;5;241m=\u001b[39m [\u001b[38;5;241m5\u001b[39m]      \u001b[38;5;66;03m# ... but this fails, despite being the same operation!\u001b[39;00m\n\u001b[0;32m---> 12\u001b[0m \u001b[43mexercise3_D\u001b[49m\u001b[43m(\u001b[49m\u001b[43m)\u001b[49m\n\u001b[1;32m     13\u001b[0m \u001b[38;5;28mprint\u001b[39m(lst)\n\u001b[1;32m     15\u001b[0m \u001b[38;5;66;03m# Again the better solution here is something like:\u001b[39;00m\n",
      "Input \u001b[0;32mIn [3]\u001b[0m, in \u001b[0;36mexercise3_D\u001b[0;34m()\u001b[0m\n\u001b[1;32m      9\u001b[0m \u001b[38;5;28;01mdef\u001b[39;00m \u001b[38;5;21mexercise3_D\u001b[39m():\n\u001b[0;32m---> 10\u001b[0m     lst \u001b[38;5;241m+\u001b[39m\u001b[38;5;241m=\u001b[39m [\u001b[38;5;241m5\u001b[39m]\n",
      "\u001b[0;31mUnboundLocalError\u001b[0m: local variable 'lst' referenced before assignment"
     ]
    }
   ],
   "source": [
    "lst = [1, 2, 3]\n",
    "def exercise3_C():\n",
    "    lst.append(5)   # This works ok...\n",
    "\n",
    "exercise3_C()\n",
    "print(lst)\n",
    "\n",
    "lst = [1, 2, 3]\n",
    "def exercise3_D():\n",
    "    lst += [5]      # ... but this fails, despite being the same operation!\n",
    "\n",
    "exercise3_D()\n",
    "print(lst)\n",
    "\n",
    "# Again the better solution here is something like:\n",
    "lst = [1, 2, 3]\n",
    "def exercise3_E(lst):\n",
    "    lst += [5]\n",
    "    return lst\n",
    "\n",
    "lst = exercise3_E(lst)\n",
    "\n"
   ]
  }
 ],
 "metadata": {
  "kernelspec": {
   "display_name": "Python 3 (ipykernel)",
   "language": "python",
   "name": "python3"
  },
  "language_info": {
   "codemirror_mode": {
    "name": "ipython",
    "version": 3
   },
   "file_extension": ".py",
   "mimetype": "text/x-python",
   "name": "python",
   "nbconvert_exporter": "python",
   "pygments_lexer": "ipython3",
   "version": "3.9.7"
  }
 },
 "nbformat": 4,
 "nbformat_minor": 5
}
