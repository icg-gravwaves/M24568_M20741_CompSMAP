{
 "cells": [
  {
   "cell_type": "markdown",
   "id": "ce6a6f01",
   "metadata": {},
   "source": [
    "# Writing a root finding algorithm using the bisection method\n",
    "\n",
    "## Theory and problem statement\n",
    "\n",
    "Bolzano's theorem offers a way of writing a numerical root finding algorithm. If we have identified a point where the function is above 0 ($x_1$), and a point where the function is below 0 ($x_2$), we can just try points in the middle to find where it crosses over. A simple way to do this is to test the value of the function halfway between $x_1$ and $x_2$ at the point $x_m$. If that value is also above 0, then we know the root is beween $x_m$ and $x_2$, is it is below 0 then the root is between $x_1$ and $x_m$. We can repeat that process until we've found a point where the function is \"close enough\" to 0.\n",
    "\n",
    "An illustration of this process is shown here\n",
    "\n",
    "![Animated GIF of Bisection method](https://upload.wikimedia.org/wikipedia/commons/d/d9/Bisection_anime.gif)\n",
    "\n",
    "or see the interactive example here:\n",
    "\n",
    "https://www.geogebra.org/m/XndvAujc\n",
    "\n",
    "Let's state the problem again more formally:\n",
    "\n",
    "**PROBLEM**:\n",
    "Given a continuous function $f$ defined on the interval $[a, b]$ for $-\\infty<a<b<\\infty$ we wish to find a $x \\in [a, b]$ such that $$f(x) = 0.$$\n",
    "Let us assume that $f(a)f(b)<0$ and so by Bolzano's Theorem we know that such a value of $x$ exists!\n",
    "\n",
    "**Approximation** We provide a method to approximate $x$, so we need to specify the error $\\varepsilon$ in approximation, e.g. \n",
    "if $$ f(x) \\in (-\\varepsilon, \\varepsilon) \\ \\mbox{  or equivalently  } \\  |f(x)| < \\varepsilon$$\n",
    "then we wish to accept $x$ as the solution. "
   ]
  },
  {
   "cell_type": "markdown",
   "id": "cd4c0a47",
   "metadata": {},
   "source": [
    "\n",
    "Let's now implement this in code. We'll do this step by step, and ask you to write the blocks needed as we go.\n",
    "\n",
    "## IMPLEMENTATION STEP 1 \n",
    "\n",
    "Define $c= \\frac{a+b}{2}$, the midpoint of the interval $[a,b]$.\n",
    "\n",
    "Complete a function, __midpoint__, with two inputs, $a$ and $b$,\n",
    "which returns the mid-point, $c$, of the interval $[a,\n",
    "  b]$. __Hint:__ the midpoint is the average value."
   ]
  },
  {
   "cell_type": "code",
   "execution_count": 2,
   "id": "132063fe",
   "metadata": {},
   "outputs": [
    {
     "ename": "IndentationError",
     "evalue": "expected an indented block (242362758.py, line 2)",
     "output_type": "error",
     "traceback": [
      "\u001b[0;36m  Input \u001b[0;32mIn [2]\u001b[0;36m\u001b[0m\n\u001b[0;31m    #Please write your code here\u001b[0m\n\u001b[0m                                ^\u001b[0m\n\u001b[0;31mIndentationError\u001b[0m\u001b[0;31m:\u001b[0m expected an indented block\n"
     ]
    }
   ],
   "source": [
    "def midpoint(a, b):\n",
    "    #Please write your code here"
   ]
  },
  {
   "cell_type": "markdown",
   "id": "37e01590",
   "metadata": {},
   "source": [
    "### Testing your answers"
   ]
  },
  {
   "cell_type": "markdown",
   "id": "89b2d457",
   "metadata": {},
   "source": [
    "If the below test cases do not return __AssertionError__ then your solution to __Exercise 3.1__ is correct.  So __shift+enter__ through all the cell below.  "
   ]
  },
  {
   "cell_type": "code",
   "execution_count": 4,
   "id": "e516a683",
   "metadata": {},
   "outputs": [
    {
     "ename": "NameError",
     "evalue": "name 'midpoint' is not defined",
     "output_type": "error",
     "traceback": [
      "\u001b[0;31m---------------------------------------------------------------------------\u001b[0m",
      "\u001b[0;31mNameError\u001b[0m                                 Traceback (most recent call last)",
      "Input \u001b[0;32mIn [4]\u001b[0m, in \u001b[0;36m<module>\u001b[0;34m\u001b[0m\n\u001b[1;32m      3\u001b[0m a2, b2 \u001b[38;5;241m=\u001b[39m \u001b[38;5;241m-\u001b[39m\u001b[38;5;241m3\u001b[39m, \u001b[38;5;241m3\u001b[39m\n\u001b[1;32m      4\u001b[0m a3, b3 \u001b[38;5;241m=\u001b[39m np\u001b[38;5;241m.\u001b[39msqrt(\u001b[38;5;241m2\u001b[39m), \u001b[38;5;241m2\u001b[39m\n\u001b[0;32m----> 6\u001b[0m \u001b[38;5;28;01massert\u001b[39;00m \u001b[43mmidpoint\u001b[49m(a1, b1) \u001b[38;5;241m==\u001b[39m \u001b[38;5;241m1.0\u001b[39m\n\u001b[1;32m      7\u001b[0m \u001b[38;5;28;01massert\u001b[39;00m midpoint(a2, b2) \u001b[38;5;241m==\u001b[39m \u001b[38;5;241m0.0\u001b[39m\n\u001b[1;32m      8\u001b[0m \u001b[38;5;28;01massert\u001b[39;00m midpoint(a3, b3) \u001b[38;5;241m==\u001b[39m np\u001b[38;5;241m.\u001b[39msqrt(\u001b[38;5;241m2\u001b[39m)\u001b[38;5;241m/\u001b[39m\u001b[38;5;241m2\u001b[39m\u001b[38;5;241m+\u001b[39m\u001b[38;5;241m1\u001b[39m\n",
      "\u001b[0;31mNameError\u001b[0m: name 'midpoint' is not defined"
     ]
    }
   ],
   "source": [
    "import numpy as np\n",
    "a1, b1 = 0, 2\n",
    "a2, b2 = -3, 3\n",
    "a3, b3 = np.sqrt(2), 2\n",
    "\n",
    "assert midpoint(a1, b1) == 1.0\n",
    "assert midpoint(a2, b2) == 0.0\n",
    "assert midpoint(a3, b3) == np.sqrt(2)/2+1"
   ]
  },
  {
   "cell_type": "markdown",
   "id": "24a03778",
   "metadata": {},
   "source": [
    "## Step 2\n",
    "\n",
    "Check if $f(c) \\neq 0$, if $|f(c)|$ is sufficiently small then return $c$ as your answer\n",
    "\n",
    "In the cell below complete the function __if_root__ so that it has three inputs:\n",
    "- $c$, a float,\n",
    "- $f$, a function of one numerical variable that has numerical output, \n",
    "- $eps$, a float, that represents the error in approxiation.\n",
    "\n",
    "If should return `True` if $|f(c)| < \\varepsilon$,  else it should return `False`. For absolute value please use $\\verb|abs|$."
   ]
  },
  {
   "cell_type": "code",
   "execution_count": 5,
   "id": "d6221eb1",
   "metadata": {},
   "outputs": [
    {
     "ename": "SyntaxError",
     "evalue": "unexpected EOF while parsing (338194659.py, line 2)",
     "output_type": "error",
     "traceback": [
      "\u001b[0;36m  Input \u001b[0;32mIn [5]\u001b[0;36m\u001b[0m\n\u001b[0;31m    # Please add function content\u001b[0m\n\u001b[0m                                 ^\u001b[0m\n\u001b[0;31mSyntaxError\u001b[0m\u001b[0;31m:\u001b[0m unexpected EOF while parsing\n"
     ]
    }
   ],
   "source": [
    "def is_root(c, f, eps):\n",
    "    # Please add function content"
   ]
  },
  {
   "cell_type": "markdown",
   "id": "d81c00c2",
   "metadata": {},
   "source": [
    "### Testing your answers\n",
    "\n",
    "Again run the cell below. An AssertionError means that your function is not working!"
   ]
  },
  {
   "cell_type": "code",
   "execution_count": 8,
   "id": "05b4dda0",
   "metadata": {},
   "outputs": [
    {
     "ename": "NameError",
     "evalue": "name 'is_root' is not defined",
     "output_type": "error",
     "traceback": [
      "\u001b[0;31m---------------------------------------------------------------------------\u001b[0m",
      "\u001b[0;31mNameError\u001b[0m                                 Traceback (most recent call last)",
      "Input \u001b[0;32mIn [8]\u001b[0m, in \u001b[0;36m<module>\u001b[0;34m\u001b[0m\n\u001b[1;32m      5\u001b[0m f2 \u001b[38;5;241m=\u001b[39m np\u001b[38;5;241m.\u001b[39msin\n\u001b[1;32m      6\u001b[0m eps \u001b[38;5;241m=\u001b[39m \u001b[38;5;241m1E-5\u001b[39m\n\u001b[0;32m----> 8\u001b[0m \u001b[38;5;28;01massert\u001b[39;00m \u001b[43mis_root\u001b[49m(c1, f1, eps) \u001b[38;5;241m==\u001b[39m \u001b[38;5;28;01mFalse\u001b[39;00m\n\u001b[1;32m      9\u001b[0m \u001b[38;5;28;01massert\u001b[39;00m is_root(c1, f2, eps) \u001b[38;5;241m==\u001b[39m \u001b[38;5;28;01mTrue\u001b[39;00m\n\u001b[1;32m     10\u001b[0m \u001b[38;5;28;01massert\u001b[39;00m is_root(c2, f1, eps) \u001b[38;5;241m==\u001b[39m \u001b[38;5;28;01mTrue\u001b[39;00m\n",
      "\u001b[0;31mNameError\u001b[0m: name 'is_root' is not defined"
     ]
    }
   ],
   "source": [
    "import numpy as np\n",
    "c1 = 0\n",
    "c2 = np.pi/2.\n",
    "f1 = np.cos\n",
    "f2 = np.sin\n",
    "eps = 1E-5\n",
    "\n",
    "assert is_root(c1, f1, eps) == False\n",
    "assert is_root(c1, f2, eps) == True\n",
    "assert is_root(c2, f1, eps) == True\n",
    "assert is_root(c2, f2, eps) == False"
   ]
  },
  {
   "cell_type": "markdown",
   "id": "292e27ca",
   "metadata": {},
   "source": [
    "## Step 3\n",
    "\n",
    "Check if $f(a)f(c)<0$ if so then replace $b$ with $c$ otherwise replace $a$ with $c$.\n",
    "\n",
    "In the cell below complete the function __new_interval__ so that it has four inputs, \n",
    "- $a$ a float, beginning of interval, \n",
    "- $b$ a float, end of interval, \n",
    "- $c$ a float, a point inside $[a, b]$,\n",
    "- $f$ a function of one numerical variable that has numerical output.\n",
    "\n",
    "It should return a tuple (a pair) of numbers which represents the new interval according to __Step 3__. "
   ]
  },
  {
   "cell_type": "code",
   "execution_count": null,
   "id": "ec3e683b",
   "metadata": {},
   "outputs": [],
   "source": [
    "def new_interval(a, b, c, f):\n",
    "    # Complete code here"
   ]
  },
  {
   "cell_type": "code",
   "execution_count": null,
   "id": "28306c56",
   "metadata": {},
   "outputs": [],
   "source": [
    "import numpy as np\n",
    "eps = 1E-5\n",
    "\n",
    "assert new_interval(-1, 1, 0.5, np.sin) == (-1,0.5)\n",
    "assert new_interval(-1, 1, -0.5, np.sin) == (-0.5, 1)\n",
    "assert new_interval(1, 2, 1.5, np.cos) == (1.5,2)\n",
    "assert new_interval(1, 3, 2, np.cos) == (1, 2)\n"
   ]
  },
  {
   "cell_type": "markdown",
   "id": "160788c3",
   "metadata": {},
   "source": [
    "## Step 4\n",
    "\n",
    "These previous 3 steps represent a single iteration of the bisection method. Let's now string these together to carry out one iteration.\n",
    "\n",
    "Complete a function, __bisection_step__, with inputs $f$ (supposed to\n",
    "be a function), $a$, $b$, and $eps$ that performs a single step of the\n",
    "bisection method, returning the endpoints of the new interval. An\n",
    "outline of the function is given below:"
   ]
  },
  {
   "cell_type": "code",
   "execution_count": 9,
   "id": "47c95921",
   "metadata": {},
   "outputs": [
    {
     "ename": "IndentationError",
     "evalue": "expected an indented block (1543225580.py, line 6)",
     "output_type": "error",
     "traceback": [
      "\u001b[0;36m  Input \u001b[0;32mIn [9]\u001b[0;36m\u001b[0m\n\u001b[0;31m    # Otherwise call new_interval to find the new interval, and return that.\u001b[0m\n\u001b[0m                                                                            ^\u001b[0m\n\u001b[0;31mIndentationError\u001b[0m\u001b[0;31m:\u001b[0m expected an indented block\n"
     ]
    }
   ],
   "source": [
    "def bisection_step(f, a, b, eps):\n",
    "    # Call the function midpoint to get a value for c\n",
    "    \n",
    "    # Check if f(c) is small enough to be a root (using the is_root function). If it is, return (c,c)\n",
    "    \n",
    "    # Otherwise call new_interval to find the new interval, and return that."
   ]
  },
  {
   "cell_type": "markdown",
   "id": "772f7c6d",
   "metadata": {},
   "source": [
    "### Testing your answers"
   ]
  },
  {
   "cell_type": "markdown",
   "id": "e2114a59",
   "metadata": {},
   "source": [
    "If the below test cases do not return __AssertionError__ then your code is correct so far.  So __shift+enter__  the cell below.  "
   ]
  },
  {
   "cell_type": "code",
   "execution_count": 10,
   "id": "67a8416f",
   "metadata": {},
   "outputs": [],
   "source": [
    "def f1(x):\n",
    "    return x\n",
    "\n",
    "def f2(x):\n",
    "    return np.cos(x)\n",
    "\n",
    "def f3(x):\n",
    "    return x-np.sqrt(2)\n",
    "\n",
    "a1, b1 = -1.0, 2.0\n",
    "a2, b2 = 0.2, 3.0\n",
    "a3, b3 = 0.0, 2.0\n",
    "a4, b4 = -1, 1\n",
    "eps = 1E-5\n",
    "\n",
    "assert bisection_step(f1, a1, b1, eps) == (-1.0, 0.5)\n",
    "assert bisection_step(f2, a2, b2, eps) == (0.2, 1.6)\n",
    "assert bisection_step(f3, a3, b3, eps) == (1.0, 2.0)\n",
    "assert bisection_step(f1, a4, b4, eps) == (0., 0.)"
   ]
  },
  {
   "cell_type": "markdown",
   "id": "ee76f38b",
   "metadata": {},
   "source": [
    "## Step 5\n",
    "\n",
    "Now we want to be able to run this function multiple steps. First we try running it a *fixed* number of iterations, using a for loop\n",
    "\n",
    "Complete a function, __bisection__, with inputs $f$ (supposed to be\n",
    "a function), $a$, $b$, $eps$ and $n$ that performs the bisection step $n$\n",
    "times. The final approximation to the root is then taken as the midpoint of the interval obtained after $n$ iterations.\n",
    "\n",
    "__Hints:__ you will need a for loop. Your single-step bisection code then needs to be\n",
    "__inside__ the loop, i.e., it needs to be __indented__ in the\n",
    "loop. Take care that the calculation for the final approximation to\n",
    "the root is done __after__ the loop.  You can update the values of\n",
    "$a$ and $b$ in the loop by using __a, b = bisectionStep(f, a,\n",
    "  b)__.\n",
    "\n",
    " An\n",
    "outline of the function is given below:"
   ]
  },
  {
   "cell_type": "code",
   "execution_count": 12,
   "id": "66eba411",
   "metadata": {},
   "outputs": [
    {
     "ename": "IndentationError",
     "evalue": "expected an indented block (884896276.py, line 8)",
     "output_type": "error",
     "traceback": [
      "\u001b[0;36m  Input \u001b[0;32mIn [12]\u001b[0;36m\u001b[0m\n\u001b[0;31m    c = #\u001b[0m\n\u001b[0m    ^\u001b[0m\n\u001b[0;31mIndentationError\u001b[0m\u001b[0;31m:\u001b[0m expected an indented block\n"
     ]
    }
   ],
   "source": [
    "def bisection(f, a, b, eps, n):\n",
    "    # perform bisection_step n times here\n",
    "    # updating the values a, b each time...\n",
    "    for k in range(n):\n",
    "        # Here you just want to call bisection_step and update the values of a and b.\n",
    "        # This would be *exactly one line of code in the for loop*.\n",
    "    # calculate and return the final approximation to the root.\n",
    "    c = #\n",
    "    return c"
   ]
  },
  {
   "cell_type": "markdown",
   "id": "8ab9dbcb",
   "metadata": {},
   "source": [
    "### Testing your answers\n",
    "\n",
    "If the below test cases do not return __AssertionError__ then your solution is correct.  So __shift+enter__ the cell below.  "
   ]
  },
  {
   "cell_type": "code",
   "execution_count": 19,
   "id": "4a070731",
   "metadata": {},
   "outputs": [
    {
     "ename": "NameError",
     "evalue": "name 'bisection' is not defined",
     "output_type": "error",
     "traceback": [
      "\u001b[0;31m---------------------------------------------------------------------------\u001b[0m",
      "\u001b[0;31mNameError\u001b[0m                                 Traceback (most recent call last)",
      "Input \u001b[0;32mIn [19]\u001b[0m, in \u001b[0;36m<module>\u001b[0;34m\u001b[0m\n\u001b[1;32m      3\u001b[0m n3 \u001b[38;5;241m=\u001b[39m \u001b[38;5;241m15\u001b[39m\n\u001b[1;32m      4\u001b[0m eps \u001b[38;5;241m=\u001b[39m \u001b[38;5;241m1E-5\u001b[39m\n\u001b[0;32m----> 6\u001b[0m \u001b[38;5;28;01massert\u001b[39;00m \u001b[43mbisection\u001b[49m(f1, a1, b1, eps, n1) \u001b[38;5;241m==\u001b[39m \u001b[38;5;241m-\u001b[39m\u001b[38;5;241m0.015625\u001b[39m\n\u001b[1;32m      7\u001b[0m \u001b[38;5;28;01massert\u001b[39;00m bisection(f2, a2, b2, eps, n2) \u001b[38;5;241m==\u001b[39m \u001b[38;5;241m1.5712890625\u001b[39m\n\u001b[1;32m      8\u001b[0m \u001b[38;5;28;01massert\u001b[39;00m bisection(f3, a3, b3, eps, n3) \u001b[38;5;241m==\u001b[39m \u001b[38;5;241m1.414215087890625\u001b[39m\n",
      "\u001b[0;31mNameError\u001b[0m: name 'bisection' is not defined"
     ]
    }
   ],
   "source": [
    "n1 = 5\n",
    "n2 = 10\n",
    "n3 = 15\n",
    "eps = 1E-5\n",
    "\n",
    "assert bisection(f1, a1, b1, eps, n1) == -0.015625\n",
    "assert bisection(f2, a2, b2, eps, n2) == 1.5712890625\n",
    "assert bisection(f3, a3, b3, eps, n3) == 1.414215087890625"
   ]
  },
  {
   "cell_type": "markdown",
   "id": "98d7eda2",
   "metadata": {},
   "source": [
    "## Step 6\n",
    "\n",
    "Now let's improve our algorithm. In general we don't know how many steps are required to reach a root that is accurate to within the accuracy ($eps$) specified. We want to take *exactly* the number of steps that are needed to obtain the answer to within the specified accuracy (not too many, not too few).\n",
    "\n",
    "This is a perfect use case for a `while` loop. We can just iterate our algorithm until the `is_root` function returns `True`, this will then mean that our boundary lower and upper values are the same, and we can stop at this point.\n",
    "\n",
    "So let's write a function `bisection2` with inputs $f$ (supposed to be\n",
    "a function), $a$, $b$ and $eps$ that performs the bisection step the required number of times to obtain a root within $eps$ of the true value and returns that root."
   ]
  },
  {
   "cell_type": "code",
   "execution_count": 14,
   "id": "c921a507",
   "metadata": {},
   "outputs": [
    {
     "ename": "IndentationError",
     "evalue": "expected an indented block (1900714917.py, line 8)",
     "output_type": "error",
     "traceback": [
      "\u001b[0;36m  Input \u001b[0;32mIn [14]\u001b[0;36m\u001b[0m\n\u001b[0;31m    return a\u001b[0m\n\u001b[0m    ^\u001b[0m\n\u001b[0;31mIndentationError\u001b[0m\u001b[0;31m:\u001b[0m expected an indented block\n"
     ]
    }
   ],
   "source": [
    "def bisection2(f, a, b, eps):\n",
    "    # perform bisection_step n times here\n",
    "    # updating the values a, b each time...\n",
    "    while a != b:\n",
    "        # Here you just want to call bisection_step and update the values of a and b.\n",
    "        # This would be *exactly one line of code in the for loop*.\n",
    "    # As a is equal to b when we exit the while loop, we need no extra code here, just return a *or* b, both are the root.\n",
    "    return a"
   ]
  },
  {
   "cell_type": "markdown",
   "id": "a34381da",
   "metadata": {},
   "source": [
    "### Testing your answers\n",
    "\n",
    "If the below test cases do not return __AssertionError__ then your solution is correct.  So __shift+enter__ the cell below.  "
   ]
  },
  {
   "cell_type": "code",
   "execution_count": 20,
   "id": "cf0dae90",
   "metadata": {},
   "outputs": [
    {
     "ename": "NameError",
     "evalue": "name 'bisection2' is not defined",
     "output_type": "error",
     "traceback": [
      "\u001b[0;31m---------------------------------------------------------------------------\u001b[0m",
      "\u001b[0;31mNameError\u001b[0m                                 Traceback (most recent call last)",
      "Input \u001b[0;32mIn [20]\u001b[0m, in \u001b[0;36m<module>\u001b[0;34m\u001b[0m\n\u001b[1;32m      7\u001b[0m a1, b1, eps1 \u001b[38;5;241m=\u001b[39m \u001b[38;5;241m20\u001b[39m, \u001b[38;5;241m40\u001b[39m, \u001b[38;5;241m0.001\u001b[39m\n\u001b[1;32m      8\u001b[0m a2, b2, eps2 \u001b[38;5;241m=\u001b[39m \u001b[38;5;241m3.1\u001b[39m, \u001b[38;5;241m3.3\u001b[39m, \u001b[38;5;241m0.0001\u001b[39m\n\u001b[0;32m---> 10\u001b[0m \u001b[38;5;28;01massert\u001b[39;00m np\u001b[38;5;241m.\u001b[39mround(\u001b[43mbisection2\u001b[49m(f1, a1, b1, eps1),\u001b[38;5;241m3\u001b[39m) \u001b[38;5;241m==\u001b[39m \u001b[38;5;241m40.000\u001b[39m\n\u001b[1;32m     11\u001b[0m \u001b[38;5;28;01massert\u001b[39;00m np\u001b[38;5;241m.\u001b[39mround(bisection2(f2, a2, b2, eps2),\u001b[38;5;241m4\u001b[39m) \u001b[38;5;241m==\u001b[39m \u001b[38;5;241m3.1414\u001b[39m\n",
      "\u001b[0;31mNameError\u001b[0m: name 'bisection2' is not defined"
     ]
    }
   ],
   "source": [
    "def f1(x):\n",
    "    return x-np.sin(x)\n",
    "\n",
    "def f2(x):\n",
    "    return np.tan(x/4) -1\n",
    "\n",
    "a1, b1, eps1 = 20, 40, 0.001\n",
    "a2, b2, eps2 = 3.1, 3.3, 0.0001\n",
    "\n",
    "assert np.round(bisection2(f1, a1, b1, eps1),3) == 40.000\n",
    "assert np.round(bisection2(f2, a2, b2, eps2),4) == 3.1414"
   ]
  },
  {
   "cell_type": "markdown",
   "id": "f81f1e25",
   "metadata": {},
   "source": [
    "## Example\n",
    "\n",
    "Now we use the bisection methods that we programmed to find the root of \n",
    "$$r(x) = x^{11}-4x^7+3x^5+11x^3+12x^2+x-170$$\n",
    "in the interval $[-20, 20]$."
   ]
  },
  {
   "cell_type": "code",
   "execution_count": 21,
   "id": "29511cfc",
   "metadata": {},
   "outputs": [
    {
     "name": "stdout",
     "output_type": "stream",
     "text": [
      "-204794889683390 204794889692650\n"
     ]
    }
   ],
   "source": [
    "def r(x):\n",
    "    return x**11 - 4 * x**7 + 3 * x**5 + 11 * x**3 + 12 * x**2 + x - 170\n",
    "\n",
    "a = -20\n",
    "b = 20\n",
    "eps = 0.000001\n",
    "print(r(a), r(b))"
   ]
  },
  {
   "cell_type": "code",
   "execution_count": 17,
   "id": "d08486a0",
   "metadata": {},
   "outputs": [
    {
     "ename": "NameError",
     "evalue": "name 'bisection2' is not defined",
     "output_type": "error",
     "traceback": [
      "\u001b[0;31m---------------------------------------------------------------------------\u001b[0m",
      "\u001b[0;31mNameError\u001b[0m                                 Traceback (most recent call last)",
      "Input \u001b[0;32mIn [17]\u001b[0m, in \u001b[0;36m<module>\u001b[0;34m\u001b[0m\n\u001b[0;32m----> 1\u001b[0m root \u001b[38;5;241m=\u001b[39m \u001b[43mbisection2\u001b[49m(r, a, b, eps)\n\u001b[1;32m      2\u001b[0m \u001b[38;5;28mprint\u001b[39m(root)\n",
      "\u001b[0;31mNameError\u001b[0m: name 'bisection2' is not defined"
     ]
    }
   ],
   "source": [
    "root = bisection2(r, a, b, eps)\n",
    "print(root)"
   ]
  },
  {
   "cell_type": "code",
   "execution_count": 18,
   "id": "bcc42f70",
   "metadata": {},
   "outputs": [
    {
     "ename": "NameError",
     "evalue": "name 'root' is not defined",
     "output_type": "error",
     "traceback": [
      "\u001b[0;31m---------------------------------------------------------------------------\u001b[0m",
      "\u001b[0;31mNameError\u001b[0m                                 Traceback (most recent call last)",
      "Input \u001b[0;32mIn [18]\u001b[0m, in \u001b[0;36m<module>\u001b[0;34m\u001b[0m\n\u001b[0;32m----> 1\u001b[0m \u001b[38;5;28mprint\u001b[39m(r(\u001b[43mroot\u001b[49m))\n",
      "\u001b[0;31mNameError\u001b[0m: name 'root' is not defined"
     ]
    }
   ],
   "source": [
    "print(r(root))"
   ]
  },
  {
   "cell_type": "markdown",
   "id": "7adb2ed4",
   "metadata": {},
   "source": [
    "## Exercise\n",
    "\n",
    "Use Python to show that the equation\n",
    "$$\\cos x-\\ln x+0.8=0,$$\n",
    "has a root in the interval $[1,2]$. \n",
    "- Write the above equation as $f(x) = 0$, and define f in Python. \n",
    "- Use your function __bisection__ with large $n$ or __bisection2__ to calculate the root."
   ]
  },
  {
   "cell_type": "code",
   "execution_count": 22,
   "id": "c3b7717e",
   "metadata": {},
   "outputs": [],
   "source": [
    "# HINT: The root is 1.790216, make sure you get that number back!"
   ]
  }
 ],
 "metadata": {
  "kernelspec": {
   "display_name": "Python 3 (ipykernel)",
   "language": "python",
   "name": "python3"
  },
  "language_info": {
   "codemirror_mode": {
    "name": "ipython",
    "version": 3
   },
   "file_extension": ".py",
   "mimetype": "text/x-python",
   "name": "python",
   "nbconvert_exporter": "python",
   "pygments_lexer": "ipython3",
   "version": "3.9.7"
  }
 },
 "nbformat": 4,
 "nbformat_minor": 5
}
