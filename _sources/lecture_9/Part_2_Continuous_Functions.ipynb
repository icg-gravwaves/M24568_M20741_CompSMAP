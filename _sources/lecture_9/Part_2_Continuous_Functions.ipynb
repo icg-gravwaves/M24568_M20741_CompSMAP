{
 "cells": [
  {
   "cell_type": "markdown",
   "id": "ad84760f",
   "metadata": {},
   "source": [
    "# Continuous functions\n",
    "\n",
    "A continuous function is one whose range of values can be drawn without lifting the pencil from the paper.\n",
    "\n",
    "A continuous function does not have jumps, or discontinuities, its graph is a single unbroken curve. "
   ]
  },
  {
   "cell_type": "markdown",
   "id": "29c71760",
   "metadata": {},
   "source": [
    "## Examples of continuous functions\n",
    "\n",
    "- Polynomials. A **polynomial** is a function that is defined/built from constants and symbols/variables by means of addition, multiplication and exponentiation to a non-negative integer power.  General form of a polynomial: $p(x) = a_nx^n + a_{n-1}x^{n-1} + \\ldots + a_1 x + a_0$, where $n \\in \\{1, 2, \\ldots\\}$ and $a_n$ are real numbers, are continuous functions, \n",
    "- trygonometric functions such as $\\sin(x)$, $\\cos(x)$ are continuous functions, \n",
    "- exponential functions, e.,g., $2^x, 3^x$ or $e^x$ are continuous functions. \n",
    "\n",
    "Linear combinations (these includes sums and differences) of continuous functions are continuous functions. "
   ]
  },
  {
   "cell_type": "markdown",
   "id": "0d9b3346",
   "metadata": {},
   "source": [
    "### Polynomials - can you identify them?\n",
    "Which of the below functions are polynomials?\n",
    "\n",
    "*   $f(x) = 2x^3+2x+\\frac{1}{x^2}$,\n",
    "*   $g(x) = x^2+7x$, \n",
    "*   $h(x) = x^5$,\n",
    "*   $k(x) = \\frac{2x^2+5x}{1+2x}$.\n"
   ]
  },
  {
   "cell_type": "markdown",
   "id": "472a0240",
   "metadata": {},
   "source": [
    "**Write your answers here (double click on this field)**"
   ]
  },
  {
   "cell_type": "markdown",
   "id": "67428c22",
   "metadata": {},
   "source": [
    "## Examples of discontinuous functions"
   ]
  },
  {
   "cell_type": "markdown",
   "id": "c364e4d4",
   "metadata": {},
   "source": [
    "In discontinuous functions we can see gaps in the curve. For example\n",
    "$$f(x) = \\frac{1}{x-1}$$\n",
    "\n",
    "is not continous at $x=1$.\n",
    "\n",
    "The function $f(x) = x^{-1}$ is not continuous at $x=0$; negative powers bring discontinuities.  \n",
    "\n",
    "If a function is not defined at some points, e.g., like $x^{-1}$ is not defined at zero, in Python if you call such function at this point it will raise \n",
    "**ZeroDivisionError**.\n"
   ]
  },
  {
   "cell_type": "code",
   "execution_count": 4,
   "id": "39d48a6d",
   "metadata": {},
   "outputs": [
    {
     "ename": "ZeroDivisionError",
     "evalue": "0.0 cannot be raised to a negative power",
     "output_type": "error",
     "traceback": [
      "\u001b[0;31m---------------------------------------------------------------------------\u001b[0m",
      "\u001b[0;31mZeroDivisionError\u001b[0m                         Traceback (most recent call last)",
      "Input \u001b[0;32mIn [4]\u001b[0m, in \u001b[0;36m<module>\u001b[0;34m\u001b[0m\n\u001b[1;32m      1\u001b[0m \u001b[38;5;28;01mdef\u001b[39;00m \u001b[38;5;21mf\u001b[39m(x):\n\u001b[1;32m      2\u001b[0m     \u001b[38;5;28;01mreturn\u001b[39;00m x\u001b[38;5;241m*\u001b[39m\u001b[38;5;241m*\u001b[39m(\u001b[38;5;241m-\u001b[39m\u001b[38;5;241m1\u001b[39m)\n\u001b[0;32m----> 4\u001b[0m \u001b[38;5;28mprint\u001b[39m(\u001b[43mf\u001b[49m\u001b[43m(\u001b[49m\u001b[38;5;241;43m0\u001b[39;49m\u001b[43m)\u001b[49m)\n",
      "Input \u001b[0;32mIn [4]\u001b[0m, in \u001b[0;36mf\u001b[0;34m(x)\u001b[0m\n\u001b[1;32m      1\u001b[0m \u001b[38;5;28;01mdef\u001b[39;00m \u001b[38;5;21mf\u001b[39m(x):\n\u001b[0;32m----> 2\u001b[0m     \u001b[38;5;28;01mreturn\u001b[39;00m \u001b[43mx\u001b[49m\u001b[38;5;241;43m*\u001b[39;49m\u001b[38;5;241;43m*\u001b[39;49m\u001b[43m(\u001b[49m\u001b[38;5;241;43m-\u001b[39;49m\u001b[38;5;241;43m1\u001b[39;49m\u001b[43m)\u001b[49m\n",
      "\u001b[0;31mZeroDivisionError\u001b[0m: 0.0 cannot be raised to a negative power"
     ]
    }
   ],
   "source": [
    "def f(x):\n",
    "    return x**(-1)\n",
    "\n",
    "print(f(0))"
   ]
  },
  {
   "cell_type": "markdown",
   "id": "57fb806d",
   "metadata": {},
   "source": [
    "However, discontinuous functions don't always raise errors at the discontinuity. "
   ]
  },
  {
   "cell_type": "code",
   "execution_count": 5,
   "id": "73b3d963",
   "metadata": {},
   "outputs": [],
   "source": [
    "def f(x):\n",
    "    if x >0:\n",
    "        return x**2\n",
    "    else:\n",
    "        return x+5"
   ]
  },
  {
   "cell_type": "code",
   "execution_count": 8,
   "id": "4e05e22e",
   "metadata": {},
   "outputs": [
    {
     "data": {
      "image/png": "[encoded data removed]",
      "text/plain": [
       "<Figure size 640x480 with 1 Axes>"
      ]
     },
     "metadata": {},
     "output_type": "display_data"
    }
   ],
   "source": [
    "import numpy as np\n",
    "import matplotlib.pyplot as plt\n",
    "\n",
    "arguments = np.linspace(-5, 5, num=1000) # an array of arguments [x1, x2,..., xn]\n",
    "vals = []\n",
    "for value in arguments:\n",
    "    vals.append(f(value))\n",
    "plt.plot(arguments, vals)\n",
    "plt.show()"
   ]
  },
  {
   "cell_type": "markdown",
   "id": "ff4eb960",
   "metadata": {},
   "source": [
    "There is a jump at $0$. The function has an instantaneous jump from 5 to 0. This function is discontinuous. "
   ]
  },
  {
   "cell_type": "markdown",
   "id": "06b63945",
   "metadata": {},
   "source": [
    "## Exercise 1.1\n",
    "\n",
    "Give an example of a function that is not continuous and plot its graphs from which we can clearly see the discontinuity. "
   ]
  },
  {
   "cell_type": "code",
   "execution_count": null,
   "id": "03ce7c52",
   "metadata": {},
   "outputs": [],
   "source": []
  }
 ],
 "metadata": {
  "kernelspec": {
   "display_name": "Python 3 (ipykernel)",
   "language": "python",
   "name": "python3"
  },
  "language_info": {
   "codemirror_mode": {
    "name": "ipython",
    "version": 3
   },
   "file_extension": ".py",
   "mimetype": "text/x-python",
   "name": "python",
   "nbconvert_exporter": "python",
   "pygments_lexer": "ipython3",
   "version": "3.9.7"
  }
 },
 "nbformat": 4,
 "nbformat_minor": 5
}
