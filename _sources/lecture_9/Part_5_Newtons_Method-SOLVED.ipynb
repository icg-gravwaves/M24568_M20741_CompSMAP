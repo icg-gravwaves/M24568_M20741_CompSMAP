{
 "cells": [
  {
   "cell_type": "markdown",
   "id": "9018e26b",
   "metadata": {},
   "source": [
    "# Newton's Method"
   ]
  },
  {
   "cell_type": "markdown",
   "id": "5c35b34c",
   "metadata": {},
   "source": [
    "Another root-finding algorithm that is often used is called **Newton's method** or the **Newton-Raphson method**. \n",
    "  \n",
    "It is a simple iterative algorithm, based on the idea that we draw a tangent line to $f(x)$ (by computing the derivative of $f(x)$) sufficiently near to a root of $f(x)=0$, then the tangent will cut the axis nearer to the root than the original point.  \n",
    "\n",
    "![Newtons's method graphical illustration](https://raw.githubusercontent.com/icg-gravwaves/M24568_M20741_CompSMAP/main/lecture_9/images/Newtons.png)\n",
    "The equation of a tangent line to a curve $f$ at point $x_0$ is given by \n",
    "\n",
    "$$ y = f^{\\prime}(x_0)(x - x_0) + f(x_0)$$\n",
    "\n",
    "The following code (needs to be run in Colab) gives an interative illustration of generating this tangent line."
   ]
  },
  {
   "cell_type": "code",
   "execution_count": 1,
   "id": "0de9a917",
   "metadata": {},
   "outputs": [],
   "source": [
    "import numpy as np\n",
    "import matplotlib.pyplot as plt\n",
    "from ipywidgets import interact, interactive, fixed"
   ]
  },
  {
   "cell_type": "code",
   "execution_count": 2,
   "id": "2e6e7bf9",
   "metadata": {},
   "outputs": [
    {
     "data": {
      "application/vnd.jupyter.widget-view+json": {
       "model_id": "7f32d49d8ef44e0fb4858cb137ef66dc",
       "version_major": 2,
       "version_minor": 0
      },
      "text/plain": [
       "interactive(children=(FloatSlider(value=2.5, description='x0', max=5.0, step=0.01), Output()), _dom_classes=('…"
      ]
     },
     "execution_count": 2,
     "metadata": {},
     "output_type": "execute_result"
    }
   ],
   "source": [
    "def f(x): # the curve f\n",
    "  return (x - 3)**2 - 4\n",
    "\n",
    "def df(x): # derivative of f\n",
    "  return 2*(x - 3)\n",
    "\n",
    "\n",
    "def tangent(x0): # plotting the curve f and the tangent line to f at point x0\n",
    "    x = np.linspace(0, 6, num = 1000)\n",
    "    plt.plot(x, f(x))\n",
    "    plt.plot(x, df(x0)*(x - x0) + f(x0))\n",
    "    plt.ylim(-5, 5) # limits of y axis\n",
    "    plt.show()\n",
    "\n",
    "x0_inc = 0.01 #this is the increment in x0\n",
    "interactive_plot = interactive(tangent, x0 = (0, 5.0, x0_inc))\n",
    "interactive_plot"
   ]
  },
  {
   "cell_type": "markdown",
   "id": "f3c7427b",
   "metadata": {},
   "source": [
    "You can also see https://www.geogebra.org/m/n6KXp4hE for another interactive demonstration of this."
   ]
  },
  {
   "cell_type": "markdown",
   "id": "894998ef",
   "metadata": {},
   "source": [
    "## Some formal theory\n",
    "\n",
    "![Newton's theory illustration of tangent lines](https://raw.githubusercontent.com/icg-gravwaves/M24568_M20741_CompSMAP/main/lecture_9/images/Newtons2.png)\n",
    "\n",
    "When the tangent crosses the $x$-axis $y=0$.\n",
    "Hence, at this point we have the equation\n",
    " \n",
    "$$ 0 = f^{\\prime}(x_0)(x - x_0) + f(x_0)$$\n",
    "\n",
    "Replacing $x_0$ with the current $x_k$ point in the $k$-th iteration, and \n",
    "$x$ with $x_{k+1}$ we obtain\n",
    "\n",
    "$$0 = f^{\\prime}(x_k)(x_{k+1} - x_k) + f(x_k)$$\n",
    "\n",
    "$$f(x_k) = f^{\\prime}(x_k)(x_k - x_{k+1})$$\n",
    "\n",
    "Denote the current approximate solution as $x_k$ and the new point as $x_{k+1}$ the above figure shows that the gradient of the tangent is \n",
    "$$ f^{\\prime}(x_k) = \\frac{f(x_k)}{x_k-x_{k+1}}$$\n",
    "\n",
    "We can rearrange $$ f^{\\prime}(x_k) = \\frac{f(x_k)}{x_k-x_{k+1}}$$ into \n",
    "$$ x_{k+1} = x_{k} - \\frac{f(x_k)}{f^{\\prime}(x_k)}.$$"
   ]
  },
  {
   "cell_type": "markdown",
   "id": "3615f3ef",
   "metadata": {},
   "source": [
    "### Main, important formula for coding this!\n",
    "\n",
    "The main formula in Newton's method is\n",
    "\t$$ x_{k+1} = x_{k} - \\frac{f(x_k)}{f^{\\prime}(x_k)}.$$\n"
   ]
  },
  {
   "cell_type": "markdown",
   "id": "47d20f6e",
   "metadata": {},
   "source": [
    "## Step 1\n",
    "\n",
    "Now let's start implementing this. First, write a function that makes *one* iteration of Newton's method. That is, the function should take a value of $x$ ($x_k$), the function object $f$ and it's derivative $f'$ and return the *next* value of $x$ ($x_{k+1}$)"
   ]
  },
  {
   "cell_type": "code",
   "execution_count": 3,
   "id": "f00a987e",
   "metadata": {},
   "outputs": [],
   "source": [
    "def newton_step(xk, f, df):\n",
    "    return xk - f(xk)/df(xk)"
   ]
  },
  {
   "cell_type": "markdown",
   "id": "9c8fcb44",
   "metadata": {},
   "source": [
    "### Testing this code\n",
    "\n",
    "Now test this out with a specific function. Find the root of:\n",
    "\n",
    "$$x - e^{-2x} = 0$$\n",
    "\n",
    "Now use **netwon_step** with $x_0 = 0.5$ to obtain the above $x_1$, $x_2$ and $x_3$ also print $f_1$, $f_2$, $f_3$ and $f_1^{\\prime}$, $f_2^{\\prime}$"
   ]
  },
  {
   "cell_type": "code",
   "execution_count": 5,
   "id": "3c5cbd66",
   "metadata": {},
   "outputs": [
    {
     "name": "stdout",
     "output_type": "stream",
     "text": [
      "x1 is 0.423883, it should be 0.423883\n",
      "x2 is 0.4263, it should be 0.4263\n",
      "x3 is 0.426303, it should be 0.426303\n",
      "f(x1) is -0.004487630303117329\n",
      "f(x2) is -4.996680327662428e-06\n",
      "f(x3) is -6.2021499047659745e-12\n",
      "df(x1) is 1.8567414910745765\n",
      "df(x2) is 1.852610101161614\n"
     ]
    }
   ],
   "source": [
    "import math\n",
    "\n",
    "def f(x):\n",
    "    # Define the function here\n",
    "    return x - math.exp(-2*x)\n",
    "\n",
    "def df(x):\n",
    "    # Define the derivative of the function here.\n",
    "    return 1 + 2*math.exp(-2*x)\n",
    "\n",
    "    \n",
    "x0 = 0.5\n",
    "x1 = newton_step(x0, f, df)\n",
    "x2 = newton_step(x1, f, df)\n",
    "x3 = newton_step(x2, f, df)\n",
    "\n",
    "\n",
    "print(\"x1 is {0}, it should be 0.423883\".format(np.round(x1, 6)))\n",
    "print(\"x2 is {0}, it should be 0.4263\".format(np.round(x2, 6)))\n",
    "print(\"x3 is {0}, it should be 0.426303\".format(np.round(x3, 6)))\n",
    "\n",
    "print(f\"f(x1) is {f(x1)}\")\n",
    "print(f\"f(x2) is {f(x2)}\")\n",
    "print(f\"f(x3) is {f(x3)}\")\n",
    "\n",
    "print(f\"df(x1) is {df(x1)}\")\n",
    "print(f\"df(x2) is {df(x2)}\")"
   ]
  },
  {
   "cell_type": "markdown",
   "id": "0529c6a4",
   "metadata": {},
   "source": [
    "It definitely feels like a `for` loop, or a `while` loop would be nicer if needing to iterate this a lot of times!"
   ]
  },
  {
   "cell_type": "markdown",
   "id": "8efc287f",
   "metadata": {},
   "source": [
    "## Step 2\n",
    "\n",
    "Complete a function, __newton__, with inputs \n",
    "- a float $\\verb|x0|$ (initial approximation), \n",
    "- a function $\\verb|f|$, \n",
    "- its derivative $\\verb|df|$, \n",
    "- and $n$.\n",
    "\n",
    "Your function should perform $n$ interations of the __newton_step__ function\n",
    "before calculating the final approximation to the root of $f$.  An\n",
    "outline of the function is given below:"
   ]
  },
  {
   "cell_type": "code",
   "execution_count": 6,
   "id": "dba7af27",
   "metadata": {},
   "outputs": [],
   "source": [
    "def newton(x0, f, df, n):\n",
    "    #Please write your code here\n",
    "    x = x0\n",
    "    for _ in range(n):\n",
    "        x = newton_step(x, f, df)\n",
    "    return x"
   ]
  },
  {
   "cell_type": "markdown",
   "id": "ec264670",
   "metadata": {},
   "source": [
    "### Testing your answers\n",
    "\n",
    "Run the cell below to test if this is correct"
   ]
  },
  {
   "cell_type": "code",
   "execution_count": 13,
   "id": "959cc2d8",
   "metadata": {},
   "outputs": [
    {
     "name": "stdout",
     "output_type": "stream",
     "text": [
      "2.1062959527559428e-08\n"
     ]
    }
   ],
   "source": [
    "x0 = 10.0\n",
    "n = 1000\n",
    "\n",
    "def test_f1(x):\n",
    "    return np.sin(x)-np.exp(x)\n",
    "\n",
    "def dtest_f1(x):\n",
    "    return np.cos(x)-np.exp(x)\n",
    "    \n",
    "def test_f2(x):\n",
    "    return x-50\n",
    "\n",
    "def dtest_f2(x):\n",
    "    return 1\n",
    "\n",
    "def test_f3(x):\n",
    "    return np.sinh(x) - np.sin(x)\n",
    "\n",
    "def dtest_f3(x):\n",
    "    return np.cosh(x) - np.cos(x)\n",
    "\n",
    "assert np.isclose(newton(x0, test_f1, dtest_f1, n), -9.424858653775413)\n",
    "assert np.isclose(newton(x0, test_f3, dtest_f3, n), 0, atol=1E-6)"
   ]
  },
  {
   "cell_type": "markdown",
   "id": "1d08af42",
   "metadata": {},
   "source": [
    "## Step 3: Using a while loop\n",
    "\n",
    "Complete a function, __newton2__, with inputs\n",
    "- a float $\\verb|x0|$ (initial approximation), \n",
    "- a function $\\verb|f|$, \n",
    "- its derivative $\\verb|df|$, \n",
    "- a float $\\verb|eps|$ (approximation error)\n",
    "\n",
    "Iterate the __newton_step__ function until \n",
    "the difference between $x_k$ and $x_{k+1}$ lies in the interval $(-\\verb|eps|, \\verb|eps|)$. \n",
    "\n",
    "Your function should return \n",
    "- the root,\n",
    "- and the step $k$, when the loop was broken. "
   ]
  },
  {
   "cell_type": "code",
   "execution_count": 17,
   "id": "1966da90",
   "metadata": {},
   "outputs": [],
   "source": [
    "def newton2(x0, f, df, eps):\n",
    "    #Please write your code here\n",
    "    x = x0\n",
    "    count = 0\n",
    "    while 1:\n",
    "        xn = newton_step(x, f, df)\n",
    "        count += 1\n",
    "        if abs(xn - x) < eps:\n",
    "            return xn, count\n",
    "        x = xn\n"
   ]
  },
  {
   "cell_type": "markdown",
   "id": "9e64455e",
   "metadata": {},
   "source": [
    "### Testing your answers\n",
    "\n",
    "As before, please run the cell below to test if your function is correct!"
   ]
  },
  {
   "cell_type": "code",
   "execution_count": 21,
   "id": "5950e601",
   "metadata": {},
   "outputs": [
    {
     "name": "stdout",
     "output_type": "stream",
     "text": [
      "(0.016381808949641218, 20)\n"
     ]
    }
   ],
   "source": [
    "eps = 0.01\n",
    "x0 = 10.0\n",
    "\n",
    "print(newton2(x0, test_f3, dtest_f3, eps) )\n",
    "\n",
    "ans1, count1 = newton2(x0, test_f1, dtest_f1, eps)\n",
    "assert count1 == 16\n",
    "assert np.isclose(ans1, (-9.424858653775413))\n",
    "ans2, count2 = newton2(x0, test_f3, dtest_f3, eps)\n",
    "assert count2 == 20\n",
    "assert np.isclose(ans2, 0.0163818089496369)\n"
   ]
  },
  {
   "cell_type": "markdown",
   "id": "2fd6e795",
   "metadata": {},
   "source": [
    "## Exercise 1\n",
    "\n",
    "Consider the equation\n",
    "\\begin{equation}\n",
    "\\tan^{-1}x=0.5x.\n",
    "\\end{equation}\n",
    "- Re-arrange the equation into the form $f_1(x)=0$ and hence write a Python function $\\verb|f1|$ for $f_1$. \n",
    "- Differentiate $f_1(x)$ with respect to $x$ and hence write a Python function, $\\verb|df1|$ for the derivative $f_1'(x)$. \n",
    "- Using a starting point of $3$, apply your __newton2__ function in order to find a root of the equation to $9$ decimal places. \n",
    "\n",
    "How many steps were needed? \n",
    "\n",
    "The function\n",
    "$\\tan^{-1}$ is implemented in the __numpy__ library, under\n",
    "the name __np.arctan__."
   ]
  },
  {
   "cell_type": "code",
   "execution_count": 22,
   "id": "01fb2047",
   "metadata": {},
   "outputs": [],
   "source": [
    "def f1(x):\n",
    "    #Please write your code here\n",
    "    return math.atan(x) - 0.5*x\n",
    "\n",
    "def df1(x):\n",
    "    #Please write your code here\n",
    "    return 1/(x**2 + 1) - 0.5"
   ]
  },
  {
   "cell_type": "code",
   "execution_count": 23,
   "id": "06cb24f0",
   "metadata": {},
   "outputs": [
    {
     "name": "stdout",
     "output_type": "stream",
     "text": [
      "2.3311223704144224 5\n"
     ]
    }
   ],
   "source": [
    "x0 = 3 #Please write your code here\n",
    "eps = 1E-9 #Please write your code here\n",
    "\n",
    "x, k = newton2(x0, f1, df1, eps)\n",
    "print(x, k)"
   ]
  },
  {
   "cell_type": "markdown",
   "id": "167b8ca8",
   "metadata": {},
   "source": [
    "### Testing your code\n",
    "\n",
    "Run the cell below!"
   ]
  },
  {
   "cell_type": "code",
   "execution_count": 25,
   "id": "257b5372",
   "metadata": {},
   "outputs": [],
   "source": [
    "assert abs(f1(x0)) == 0.25095422760174557\n",
    "assert abs(df1(x0)) == 0.4\n",
    "assert x0 == 3\n",
    "assert eps == 10**(-9)\n",
    "assert np.isclose(x, 2.331122370414423)\n",
    "assert k == 5\n"
   ]
  },
  {
   "cell_type": "markdown",
   "id": "2dc6e311",
   "metadata": {},
   "source": [
    "## Exercise 2\n",
    "\n",
    "Use your Newton method to find the root of the following equation as\n",
    "accurately as you can.\n",
    "\n",
    "\\begin{equation}\n",
    "x^5+3=8x \\quad{}\\mbox{near}\\quad{} x=0.5,\n",
    "\\end{equation}\n",
    "\n",
    "- Re-arrange the equation into the form $f_2(x)=0$ and hence write a Python function $\\verb|f2|$ for $f_2$. \n",
    "- Differentiate $f_2(x)$ with respect to $x$ and hence write a Python function, $\\verb|df2|$ for the derivative $f_2'(x)$. \n",
    "- Using a starting point of $0.5$, apply your __newton2__ function in order to find a root of the equation to $9$ decimal places. \n",
    "\n",
    "How many steps were needed? "
   ]
  },
  {
   "cell_type": "code",
   "execution_count": 26,
   "id": "d5e2b14a",
   "metadata": {},
   "outputs": [],
   "source": [
    "def f2(x):\n",
    "    #Please write your code here\n",
    "    return x**5 + 3 - 8*x\n",
    "\n",
    "def df2(x):\n",
    "    #Please write your code here\n",
    "    return 5*x**4 - 8"
   ]
  },
  {
   "cell_type": "code",
   "execution_count": 27,
   "id": "a6a3b916",
   "metadata": {},
   "outputs": [
    {
     "name": "stdout",
     "output_type": "stream",
     "text": [
      "0.37593863077555095 4\n"
     ]
    }
   ],
   "source": [
    "x0 = 0.5 #Please write your code here\n",
    "eps = 1E-9 #Please write your code here\n",
    "\n",
    "x, k = newton2(x0, f2, df2, eps)\n",
    "print(x, k)"
   ]
  },
  {
   "cell_type": "markdown",
   "id": "1f9f2e67",
   "metadata": {},
   "source": [
    "### Testing your code\n",
    "\n",
    "Run the cell!"
   ]
  },
  {
   "cell_type": "code",
   "execution_count": 28,
   "id": "b0394548",
   "metadata": {},
   "outputs": [],
   "source": [
    "assert abs(f2(x0)) == 0.96875\n",
    "assert abs(df2(x0)) == 7.6875\n",
    "assert x0 ==0.5\n",
    "assert eps == 10**(-9)\n",
    "assert np.isclose(x, 0.37593863077555095)\n",
    "assert k == 4\n"
   ]
  },
  {
   "cell_type": "code",
   "execution_count": null,
   "id": "c7f86428",
   "metadata": {},
   "outputs": [],
   "source": []
  }
 ],
 "metadata": {
  "kernelspec": {
   "display_name": "Python 3 (ipykernel)",
   "language": "python",
   "name": "python3"
  },
  "language_info": {
   "codemirror_mode": {
    "name": "ipython",
    "version": 3
   },
   "file_extension": ".py",
   "mimetype": "text/x-python",
   "name": "python",
   "nbconvert_exporter": "python",
   "pygments_lexer": "ipython3",
   "version": "3.9.7"
  }
 },
 "nbformat": 4,
 "nbformat_minor": 5
}
