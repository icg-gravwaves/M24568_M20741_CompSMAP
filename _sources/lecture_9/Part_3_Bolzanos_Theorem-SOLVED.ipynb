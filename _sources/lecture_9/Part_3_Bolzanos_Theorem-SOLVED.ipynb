{
 "cells": [
  {
   "cell_type": "markdown",
   "id": "0f57e9e7",
   "metadata": {},
   "source": [
    "# Bolzano's Theorem - SOLUTIONS\n",
    "\n",
    "Bolzano's theorem states: For a continuous function $f$, given $a$, $b \\in \\mathbb{R}$ such that $a<b$, if $f(a)$ and $f(b)$ have opposite signs, that is, $f(a)f(b)<0$, then the equation \n",
    "$$ f(x) = 0$$\n",
    "has a solution (a root) between $a$ and $b$.\n",
    "\n",
    "... This may be hard to parse, but is really quite intuitive. If the function has a value less than 0 at position $x_1$ and a value greater than 0 at position $x_2$, and the function is continuous, at some point between $x_1$ and $x_2$ the function must have a value of 0.\n",
    "\n",
    "\n",
    "![Bolzano's theorem graphical illustration](https://raw.githubusercontent.com/icg-gravwaves/M24568_M20741_CompSMAP/main/lecture_9/images/Bolzanos.png)"
   ]
  },
  {
   "cell_type": "markdown",
   "id": "5667d467",
   "metadata": {},
   "source": [
    "## Exercise 2.1\n",
    "\n",
    "Can you see why this theorem does not work if the function is discontinuous? Think about it and try to type your explanation below.  \n"
   ]
  },
  {
   "cell_type": "markdown",
   "id": "033b548c",
   "metadata": {},
   "source": [
    "*A discontinuous function does not have to go through 0. For e.g. $1/x$ is positive above $x=0$ and negative below  $x=0$ but does not cross 0 to swap from positive to negative, it has a discontinuity at $x=0$.*"
   ]
  },
  {
   "cell_type": "markdown",
   "id": "d35d1163",
   "metadata": {},
   "source": [
    "## Exercise 2.2"
   ]
  },
  {
   "cell_type": "markdown",
   "id": "d56b8552",
   "metadata": {},
   "source": [
    "In the cell below define a function \n",
    "$$ f(x) = x^5+6x^3+x-17.$$\n",
    "Then use Bolzano's theorem to show that $f$ has a root in the interval $\\left[1, \\frac{3}{2}\\right]$.\n",
    "\n",
    "You may want to evaluate $f$ at both ends of the interval, if the value of $f$ changes sign then it proves that $f$ has a root in this interval. "
   ]
  },
  {
   "cell_type": "code",
   "execution_count": 1,
   "id": "f382cd0f",
   "metadata": {},
   "outputs": [
    {
     "name": "stdout",
     "output_type": "stream",
     "text": [
      "-9 12.34375\n",
      "As one of these is negative, and one is positive, there must be a root in this interval\n"
     ]
    }
   ],
   "source": [
    "def f(x):\n",
    "    return x**5 + 6*x**3 + x - 17\n",
    "\n",
    "print(f(1), f(1.5))\n",
    "\n",
    "print(\"As one of these is negative, and one is positive, there must be a root in this interval\")"
   ]
  }
 ],
 "metadata": {
  "kernelspec": {
   "display_name": "Python 3 (ipykernel)",
   "language": "python",
   "name": "python3"
  },
  "language_info": {
   "codemirror_mode": {
    "name": "ipython",
    "version": 3
   },
   "file_extension": ".py",
   "mimetype": "text/x-python",
   "name": "python",
   "nbconvert_exporter": "python",
   "pygments_lexer": "ipython3",
   "version": "3.9.7"
  }
 },
 "nbformat": 4,
 "nbformat_minor": 5
}
