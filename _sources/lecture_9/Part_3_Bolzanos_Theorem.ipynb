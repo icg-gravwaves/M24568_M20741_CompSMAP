{
 "cells": [
  {
   "cell_type": "markdown",
   "id": "08da7094",
   "metadata": {},
   "source": [
    "# Bolzano's Theorem\n",
    "\n",
    "Bolzano's theorem states: For a continuous function $f$, given $a$, $b \\in \\mathbb{R}$ such that $a<b$, if $f(a)$ and $f(b)$ have opposite signs, that is, $f(a)f(b)<0$, then the equation \n",
    "$$ f(x) = 0$$\n",
    "has a solution (a root) between $a$ and $b$.\n",
    "\n",
    "... This may be hard to parse, but is really quite intuitive. If the function has a value less than 0 at position $x_1$ and a value greater than 0 at position $x_2$, and the function is continuous, at some point between $x_1$ and $x_2$ the function must have a value of 0.\n",
    "\n",
    "\n",
    "![Bolzano's theorem graphical illustration](https://raw.githubusercontent.com/icg-gravwaves/M24568_M20741_CompSMAP/main/lecture_9/images/Bolzanos.png)"
   ]
  },
  {
   "cell_type": "markdown",
   "id": "90dd905a",
   "metadata": {},
   "source": [
    "## Exercise 2.1\n",
    "\n",
    "Can you see why this theorem does not work if the function is discontinuous? Think about it and try to type your explanation below.  \n"
   ]
  },
  {
   "cell_type": "markdown",
   "id": "d1899ab6",
   "metadata": {},
   "source": [
    "**Write your answer here (Double click on this field)**"
   ]
  },
  {
   "cell_type": "markdown",
   "id": "74fa36b2",
   "metadata": {},
   "source": [
    "## Exercise 2.2"
   ]
  },
  {
   "cell_type": "markdown",
   "id": "dd72ced6",
   "metadata": {},
   "source": [
    "In the cell below define a function \n",
    "$$ f(x) = x^5+6x^3+x-17.$$\n",
    "Then use Bolzano's theorem to show that $f$ has a root in the interval $\\left[1, \\frac{3}{2}\\right]$.\n",
    "\n",
    "You may want to evaluate $f$ at both ends of the interval, if the value of $f$ changes sign then it proves that $f$ has a root in this interval. "
   ]
  },
  {
   "cell_type": "code",
   "execution_count": null,
   "id": "6062f386",
   "metadata": {},
   "outputs": [],
   "source": []
  }
 ],
 "metadata": {
  "kernelspec": {
   "display_name": "Python 3 (ipykernel)",
   "language": "python",
   "name": "python3"
  },
  "language_info": {
   "codemirror_mode": {
    "name": "ipython",
    "version": 3
   },
   "file_extension": ".py",
   "mimetype": "text/x-python",
   "name": "python",
   "nbconvert_exporter": "python",
   "pygments_lexer": "ipython3",
   "version": "3.9.7"
  }
 },
 "nbformat": 4,
 "nbformat_minor": 5
}
