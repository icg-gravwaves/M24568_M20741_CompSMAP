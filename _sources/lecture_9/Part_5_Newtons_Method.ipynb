{
 "cells": [
  {
   "cell_type": "markdown",
   "id": "1aff6cff",
   "metadata": {},
   "source": [
    "# Newton's Method"
   ]
  },
  {
   "cell_type": "markdown",
   "id": "aa94ca9d",
   "metadata": {},
   "source": [
    "Another root-finding algorithm that is often used is called **Newton's method** or the **Newton-Raphson method**. \n",
    "  \n",
    "It is a simple iterative algorithm, based on the idea that we draw a tangent line to $f(x)$ (by computing the derivative of $f(x)$) sufficiently near to a root of $f(x)=0$, then the tangent will cut the axis nearer to the root than the original point.  \n",
    "\n",
    "![Newtons's method graphical illustration](https://raw.githubusercontent.com/icg-gravwaves/M24568_M20741_CompSMAP/main/lecture_9/images/Newtons.png)\n",
    "The equation of a tangent line to a curve $f$ at point $x_0$ is given by \n",
    "\n",
    "$$ y = f^{\\prime}(x_0)(x - x_0) + f(x_0)$$\n",
    "\n",
    "The following code (needs to be run in Colab) gives an interative illustration of generating this tangent line."
   ]
  },
  {
   "cell_type": "code",
   "execution_count": 5,
   "id": "58a83ce2",
   "metadata": {},
   "outputs": [],
   "source": [
    "import numpy as np\n",
    "import matplotlib.pyplot as plt\n",
    "from ipywidgets import interact, interactive, fixed"
   ]
  },
  {
   "cell_type": "code",
   "execution_count": 7,
   "id": "a2c834aa",
   "metadata": {},
   "outputs": [
    {
     "data": {
      "application/vnd.jupyter.widget-view+json": {
       "model_id": "1ee808b41ae047f1add8ca035087eccf",
       "version_major": 2,
       "version_minor": 0
      },
      "text/plain": [
       "interactive(children=(FloatSlider(value=2.5, description='x0', max=5.0, step=0.01), Output()), _dom_classes=('…"
      ]
     },
     "execution_count": 7,
     "metadata": {},
     "output_type": "execute_result"
    }
   ],
   "source": [
    "def f(x): # the curve f\n",
    "  return (x - 3)**2 - 4\n",
    "\n",
    "def df(x): # derivative of f\n",
    "  return 2*(x - 3)\n",
    "\n",
    "\n",
    "def tangent(x0): # plotting the curve f and the tangent line to f at point x0\n",
    "    x = np.linspace(0, 6, num = 1000)\n",
    "    plt.plot(x, f(x))\n",
    "    plt.plot(x, df(x0)*(x - x0) + f(x0))\n",
    "    plt.ylim(-5, 5) # limits of y axis\n",
    "    plt.show()\n",
    "\n",
    "x0_inc = 0.01 #this is the increment in x0\n",
    "interactive_plot = interactive(tangent, x0 = (0, 5.0, x0_inc))\n",
    "interactive_plot"
   ]
  },
  {
   "cell_type": "markdown",
   "id": "061d9468",
   "metadata": {},
   "source": [
    "You can also see https://www.geogebra.org/m/n6KXp4hE for another interactive demonstration of this."
   ]
  },
  {
   "cell_type": "markdown",
   "id": "0f52eda6",
   "metadata": {},
   "source": [
    "## Some formal theory\n",
    "\n",
    "![Newton's theory illustration of tangent lines](https://raw.githubusercontent.com/icg-gravwaves/M24568_M20741_CompSMAP/main/lecture_9/images/Newtons2.png)\n",
    "\n",
    "When the tangent crosses the $x$-axis $y=0$.\n",
    "Hence, at this point we have the equation\n",
    " \n",
    "$$ 0 = f^{\\prime}(x_0)(x - x_0) + f(x_0)$$\n",
    "\n",
    "Replacing $x_0$ with the current $x_k$ point in the $k$-th iteration, and \n",
    "$x$ with $x_{k+1}$ we obtain\n",
    "\n",
    "$$0 = f^{\\prime}(x_k)(x_{k+1} - x_k) + f(x_k)$$\n",
    "\n",
    "$$f(x_k) = f^{\\prime}(x_k)(x_k - x_{k+1})$$\n",
    "\n",
    "Denote the current approximate solution as $x_k$ and the new point as $x_{k+1}$ the above figure shows that the gradient of the tangent is \n",
    "$$ f^{\\prime}(x_k) = \\frac{f(x_k)}{x_k-x_{k+1}}$$\n",
    "\n",
    "We can rearrange $$ f^{\\prime}(x_k) = \\frac{f(x_k)}{x_k-x_{k+1}}$$ into \n",
    "$$ x_{k+1} = x_{k} - \\frac{f(x_k)}{f^{\\prime}(x_k)}.$$"
   ]
  },
  {
   "cell_type": "markdown",
   "id": "3af3b9e8",
   "metadata": {},
   "source": [
    "### Main, important formula for coding this!\n",
    "\n",
    "The main formula in Newton's method is\n",
    "\t$$ x_{k+1} = x_{k} - \\frac{f(x_k)}{f^{\\prime}(x_k)}.$$\n"
   ]
  },
  {
   "cell_type": "markdown",
   "id": "dcc07d1e",
   "metadata": {},
   "source": [
    "## Step 1\n",
    "\n",
    "Now let's start implementing this. First, write a function that makes *one* iteration of Newton's method. That is, the function should take a value of $x$ ($x_k$), the function object $f$ and it's derivative $f'$ and return the *next* value of $x$ ($x_{k+1}$)"
   ]
  },
  {
   "cell_type": "code",
   "execution_count": 8,
   "id": "eac550a1",
   "metadata": {},
   "outputs": [
    {
     "ename": "IndentationError",
     "evalue": "expected an indented block (1390567112.py, line 3)",
     "output_type": "error",
     "traceback": [
      "\u001b[0;36m  Input \u001b[0;32mIn [8]\u001b[0;36m\u001b[0m\n\u001b[0;31m    #Please write your code here\u001b[0m\n\u001b[0m                                ^\u001b[0m\n\u001b[0;31mIndentationError\u001b[0m\u001b[0;31m:\u001b[0m expected an indented block\n"
     ]
    }
   ],
   "source": [
    "def newton_step(xk, f, df):\n",
    "  #df represents the derivative of f, it is a function of one variable\n",
    "  #Please write your code here"
   ]
  },
  {
   "cell_type": "markdown",
   "id": "d9acdca7",
   "metadata": {},
   "source": [
    "### Testing this code\n",
    "\n",
    "Now test this out with a specific function. Find the root of:\n",
    "\n",
    "$$x - e^{-2x} = 0$$\n",
    "\n",
    "Now use **netwon_step** with $x_0 = 0.5$ to obtain the above $x_1$, $x_2$ and $x_3$ also print $f_1$, $f_2$, $f_3$ and $f_1^{\\prime}$, $f_2^{\\prime}$"
   ]
  },
  {
   "cell_type": "code",
   "execution_count": 10,
   "id": "7a3deaf1",
   "metadata": {},
   "outputs": [
    {
     "ename": "IndentationError",
     "evalue": "expected an indented block (1633596374.py, line 4)",
     "output_type": "error",
     "traceback": [
      "\u001b[0;36m  Input \u001b[0;32mIn [10]\u001b[0;36m\u001b[0m\n\u001b[0;31m    def df(x):\u001b[0m\n\u001b[0m    ^\u001b[0m\n\u001b[0;31mIndentationError\u001b[0m\u001b[0;31m:\u001b[0m expected an indented block\n"
     ]
    }
   ],
   "source": [
    "def f(x):\n",
    "    # Define the function here\n",
    "\n",
    "def df(x):\n",
    "    # Define the derivative of the function here.\n",
    "\n",
    "    \n",
    "x0 = #Please write your code here\n",
    "x1 = #Please write your code here\n",
    "x2 = #Please write your code here\n",
    "x3 = #Please write your code here\n",
    "\n",
    "\n",
    "print(\"x1 is {0}, it should be 0.423883\".format(np.round(x1, 6)))\n",
    "print(\"x2 is {0}, it should be 0.4263\".format(np.round(x2, 6)))\n",
    "print(\"x3 is {0}, it should be 0.426303\".format(np.round(x3, 6)))\n",
    "\n",
    "print(f\"f(x1) is {f(x1)}\")\n",
    "print(f\"f(x2) is {f(x2)}\")\n",
    "print(f\"f(x3) is {f(x3)}\")\n",
    "\n",
    "print(f\"df(x1) is {df(x1)}\")\n",
    "print(f\"df(x2) is {df(x2)}\")"
   ]
  },
  {
   "cell_type": "markdown",
   "id": "ee6d0889",
   "metadata": {},
   "source": [
    "It definitely feels like a `for` loop, or a `while` loop would be nicer if needing to iterate this a lot of times!"
   ]
  },
  {
   "cell_type": "markdown",
   "id": "cb408108",
   "metadata": {},
   "source": [
    "## Step 2\n",
    "\n",
    "Complete a function, __newton__, with inputs \n",
    "- a float $\\verb|x0|$ (initial approximation), \n",
    "- a function $\\verb|f|$, \n",
    "- its derivative $\\verb|df|$, \n",
    "- and $n$.\n",
    "\n",
    "Your function should perform $n$ interations of the __newton_step__ function\n",
    "before calculating the final approximation to the root of $f$.  An\n",
    "outline of the function is given below:"
   ]
  },
  {
   "cell_type": "code",
   "execution_count": null,
   "id": "b0168b51",
   "metadata": {},
   "outputs": [],
   "source": [
    "def newton(x0, f, df, n):\n",
    "    #Please write your code here"
   ]
  },
  {
   "cell_type": "markdown",
   "id": "33c9160f",
   "metadata": {},
   "source": [
    "### Testing your answers\n",
    "\n",
    "Run the cell below to test if this is correct"
   ]
  },
  {
   "cell_type": "code",
   "execution_count": 17,
   "id": "55bbf2cd",
   "metadata": {},
   "outputs": [
    {
     "ename": "NameError",
     "evalue": "name 'newton' is not defined",
     "output_type": "error",
     "traceback": [
      "\u001b[0;31m---------------------------------------------------------------------------\u001b[0m",
      "\u001b[0;31mNameError\u001b[0m                                 Traceback (most recent call last)",
      "Input \u001b[0;32mIn [17]\u001b[0m, in \u001b[0;36m<module>\u001b[0;34m\u001b[0m\n\u001b[1;32m     19\u001b[0m \u001b[38;5;28;01mdef\u001b[39;00m \u001b[38;5;21mdtest_f3\u001b[39m(x):\n\u001b[1;32m     20\u001b[0m     \u001b[38;5;28;01mreturn\u001b[39;00m np\u001b[38;5;241m.\u001b[39mcosh(x) \u001b[38;5;241m-\u001b[39m np\u001b[38;5;241m.\u001b[39mcos(x)\n\u001b[0;32m---> 22\u001b[0m \u001b[38;5;28;01massert\u001b[39;00m np\u001b[38;5;241m.\u001b[39misclose(\u001b[43mnewton\u001b[49m(x0, test_f1, dtest_f1, n), \u001b[38;5;241m-\u001b[39m\u001b[38;5;241m9.424858653775413\u001b[39m)\n\u001b[1;32m     23\u001b[0m \u001b[38;5;28;01massert\u001b[39;00m np\u001b[38;5;241m.\u001b[39misclose(newton(x0, test_f3, dtest_f3, n), \u001b[38;5;241m0\u001b[39m, atol\u001b[38;5;241m=\u001b[39m\u001b[38;5;241m1E-6\u001b[39m)\n",
      "\u001b[0;31mNameError\u001b[0m: name 'newton' is not defined"
     ]
    }
   ],
   "source": [
    "x0 = 10.0\n",
    "n = 1000\n",
    "\n",
    "def test_f1(x):\n",
    "    return np.sin(x)-np.exp(x)\n",
    "\n",
    "def dtest_f1(x):\n",
    "    return np.cos(x)-np.exp(x)\n",
    "    \n",
    "def test_f2(x):\n",
    "    return x-50\n",
    "\n",
    "def dtest_f2(x):\n",
    "    return 1\n",
    "\n",
    "def test_f3(x):\n",
    "    return np.sinh(x) - np.sin(x)\n",
    "\n",
    "def dtest_f3(x):\n",
    "    return np.cosh(x) - np.cos(x)\n",
    "\n",
    "assert np.isclose(newton(x0, test_f1, dtest_f1, n), -9.424858653775413)\n",
    "assert np.isclose(newton(x0, test_f3, dtest_f3, n), 0, atol=1E-6)"
   ]
  },
  {
   "cell_type": "markdown",
   "id": "99c245fc",
   "metadata": {},
   "source": [
    "## Step 3: Using a while loop\n",
    "\n",
    "Complete a function, __newton2__, with inputs\n",
    "- a float $\\verb|x0|$ (initial approximation), \n",
    "- a function $\\verb|f|$, \n",
    "- its derivative $\\verb|df|$, \n",
    "- a float $\\verb|eps|$ (approximation error)\n",
    "\n",
    "Iterate the __newton_step__ function until \n",
    "the difference between $x_k$ and $x_{k+1}$ lies in the interval $(-\\verb|eps|, \\verb|eps|)$. \n",
    "\n",
    "Your function should return \n",
    "- the root,\n",
    "- and the step $k$, when the loop was broken. "
   ]
  },
  {
   "cell_type": "code",
   "execution_count": 13,
   "id": "6fe7c074",
   "metadata": {},
   "outputs": [
    {
     "ename": "IndentationError",
     "evalue": "expected an indented block (3835044624.py, line 2)",
     "output_type": "error",
     "traceback": [
      "\u001b[0;36m  Input \u001b[0;32mIn [13]\u001b[0;36m\u001b[0m\n\u001b[0;31m    #Please write your code here\u001b[0m\n\u001b[0m                                ^\u001b[0m\n\u001b[0;31mIndentationError\u001b[0m\u001b[0;31m:\u001b[0m expected an indented block\n"
     ]
    }
   ],
   "source": [
    "def newton2(x0, f, df, eps):\n",
    "    #Please write your code here"
   ]
  },
  {
   "cell_type": "markdown",
   "id": "5ae716d5",
   "metadata": {},
   "source": [
    "### Testing your answers\n",
    "\n",
    "As before, please run the cell below to test if your function is correct!"
   ]
  },
  {
   "cell_type": "code",
   "execution_count": null,
   "id": "c1dabd36",
   "metadata": {},
   "outputs": [],
   "source": [
    "eps = 0.01\n",
    "x0 = 10.0\n",
    "\n",
    "print(newton2(x0, test_f3, dtest_f3, eps) )\n",
    "\n",
    "ans1, count1 = newton2(x0, test_f1, dtest_f1, eps)\n",
    "assert count1 == 16\n",
    "assert np.isclose(ans1, (-9.424858653775413))\n",
    "ans2, count2 = newton2(x0, test_f3, dtest_f3, eps)\n",
    "assert count2 == 20\n",
    "assert np.isclose(ans2, 0.0163818089496369)"
   ]
  },
  {
   "cell_type": "markdown",
   "id": "be3ac3be",
   "metadata": {},
   "source": [
    "## Exercise 1\n",
    "\n",
    "Consider the equation\n",
    "\\begin{equation}\n",
    "\\tan^{-1}x=0.5x.\n",
    "\\end{equation}\n",
    "- Re-arrange the equation into the form $f_1(x)=0$ and hence write a Python function $\\verb|f1|$ for $f_1$. \n",
    "- Differentiate $f_1(x)$ with respect to $x$ and hence write a Python function, $\\verb|df1|$ for the derivative $f_1'(x)$. \n",
    "- Using a starting point of $3$, apply your __newton2__ function in order to find a root of the equation to $9$ decimal places. \n",
    "\n",
    "How many steps were needed? \n",
    "\n",
    "The function\n",
    "$\\tan^{-1}$ is implemented in the __numpy__ library, under\n",
    "the name __np.arctan__."
   ]
  },
  {
   "cell_type": "code",
   "execution_count": 14,
   "id": "2a76811d",
   "metadata": {},
   "outputs": [
    {
     "ename": "IndentationError",
     "evalue": "expected an indented block (3736035496.py, line 4)",
     "output_type": "error",
     "traceback": [
      "\u001b[0;36m  Input \u001b[0;32mIn [14]\u001b[0;36m\u001b[0m\n\u001b[0;31m    def df1(x):\u001b[0m\n\u001b[0m    ^\u001b[0m\n\u001b[0;31mIndentationError\u001b[0m\u001b[0;31m:\u001b[0m expected an indented block\n"
     ]
    }
   ],
   "source": [
    "def f1(x):\n",
    "    #Please write your code here\n",
    "\n",
    "def df1(x):\n",
    "    #Please write your code here"
   ]
  },
  {
   "cell_type": "code",
   "execution_count": 15,
   "id": "bcecd107",
   "metadata": {},
   "outputs": [
    {
     "ename": "SyntaxError",
     "evalue": "invalid syntax (1074802677.py, line 1)",
     "output_type": "error",
     "traceback": [
      "\u001b[0;36m  Input \u001b[0;32mIn [15]\u001b[0;36m\u001b[0m\n\u001b[0;31m    x0 = #Please write your code here\u001b[0m\n\u001b[0m         ^\u001b[0m\n\u001b[0;31mSyntaxError\u001b[0m\u001b[0;31m:\u001b[0m invalid syntax\n"
     ]
    }
   ],
   "source": [
    "x0 = #Please write your code here\n",
    "eps = #Please write your code here\n",
    "\n",
    "x, k = #Please write your code here\n",
    "print(x, k)"
   ]
  },
  {
   "cell_type": "markdown",
   "id": "e30bbb83",
   "metadata": {},
   "source": [
    "### Testing your code\n",
    "\n",
    "Run the cell below!"
   ]
  },
  {
   "cell_type": "code",
   "execution_count": 16,
   "id": "8d750e58",
   "metadata": {},
   "outputs": [
    {
     "ename": "NameError",
     "evalue": "name 'f1' is not defined",
     "output_type": "error",
     "traceback": [
      "\u001b[0;31m---------------------------------------------------------------------------\u001b[0m",
      "\u001b[0;31mNameError\u001b[0m                                 Traceback (most recent call last)",
      "Input \u001b[0;32mIn [16]\u001b[0m, in \u001b[0;36m<module>\u001b[0;34m\u001b[0m\n\u001b[0;32m----> 1\u001b[0m \u001b[38;5;28;01massert\u001b[39;00m \u001b[38;5;28mabs\u001b[39m(\u001b[43mf1\u001b[49m(x0)) \u001b[38;5;241m==\u001b[39m \u001b[38;5;241m0.25095422760174557\u001b[39m\n\u001b[1;32m      2\u001b[0m \u001b[38;5;28;01massert\u001b[39;00m \u001b[38;5;28mabs\u001b[39m(df1(x0)) \u001b[38;5;241m==\u001b[39m \u001b[38;5;241m0.4\u001b[39m\n\u001b[1;32m      3\u001b[0m \u001b[38;5;28;01massert\u001b[39;00m x0 \u001b[38;5;241m==\u001b[39m \u001b[38;5;241m3\u001b[39m\n",
      "\u001b[0;31mNameError\u001b[0m: name 'f1' is not defined"
     ]
    }
   ],
   "source": [
    "assert abs(f1(x0)) == 0.25095422760174557\n",
    "assert abs(df1(x0)) == 0.4\n",
    "assert x0 == 3\n",
    "assert eps == 10**(-9)\n",
    "assert np.isclose(x, 2.331122370414423)\n",
    "assert k == 5\n"
   ]
  },
  {
   "cell_type": "markdown",
   "id": "fb076bab",
   "metadata": {},
   "source": [
    "## Exercise 2\n",
    "\n",
    "Use your Newton method to find the root of the following equation as\n",
    "accurately as you can.\n",
    "\n",
    "\\begin{equation}\n",
    "x^5+3=8x \\quad{}\\mbox{near}\\quad{} x=0.5,\n",
    "\\end{equation}\n",
    "\n",
    "- Re-arrange the equation into the form $f_2(x)=0$ and hence write a Python function $\\verb|f2|$ for $f_2$. \n",
    "- Differentiate $f_2(x)$ with respect to $x$ and hence write a Python function, $\\verb|df2|$ for the derivative $f_2'(x)$. \n",
    "- Using a starting point of $0.5$, apply your __newton2__ function in order to find a root of the equation to $9$ decimal places. \n",
    "\n",
    "How many steps were needed? "
   ]
  },
  {
   "cell_type": "code",
   "execution_count": null,
   "id": "30e36e26",
   "metadata": {},
   "outputs": [],
   "source": [
    "def f2(x):\n",
    "    #Please write your code here\n",
    "\n",
    "def df2(x):\n",
    "    #Please write your code here"
   ]
  },
  {
   "cell_type": "code",
   "execution_count": 18,
   "id": "afa39407",
   "metadata": {},
   "outputs": [
    {
     "ename": "SyntaxError",
     "evalue": "invalid syntax (4031431655.py, line 1)",
     "output_type": "error",
     "traceback": [
      "\u001b[0;36m  Input \u001b[0;32mIn [18]\u001b[0;36m\u001b[0m\n\u001b[0;31m    x0 = #Please write your code here\u001b[0m\n\u001b[0m         ^\u001b[0m\n\u001b[0;31mSyntaxError\u001b[0m\u001b[0;31m:\u001b[0m invalid syntax\n"
     ]
    }
   ],
   "source": [
    "x0 = #Please write your code here\n",
    "eps = #Please write your code here\n",
    "\n",
    "x, k = #Please write your code here\n",
    "print(x, k)"
   ]
  },
  {
   "cell_type": "markdown",
   "id": "e21d86ba",
   "metadata": {},
   "source": [
    "### Testing your code\n",
    "\n",
    "Run the cell!"
   ]
  },
  {
   "cell_type": "code",
   "execution_count": 19,
   "id": "059c8277",
   "metadata": {},
   "outputs": [
    {
     "ename": "NameError",
     "evalue": "name 'f2' is not defined",
     "output_type": "error",
     "traceback": [
      "\u001b[0;31m---------------------------------------------------------------------------\u001b[0m",
      "\u001b[0;31mNameError\u001b[0m                                 Traceback (most recent call last)",
      "Input \u001b[0;32mIn [19]\u001b[0m, in \u001b[0;36m<module>\u001b[0;34m\u001b[0m\n\u001b[0;32m----> 1\u001b[0m \u001b[38;5;28;01massert\u001b[39;00m \u001b[38;5;28mabs\u001b[39m(\u001b[43mf2\u001b[49m(x0)) \u001b[38;5;241m==\u001b[39m \u001b[38;5;241m0.96875\u001b[39m\n\u001b[1;32m      2\u001b[0m \u001b[38;5;28;01massert\u001b[39;00m \u001b[38;5;28mabs\u001b[39m(df2(x0)) \u001b[38;5;241m==\u001b[39m \u001b[38;5;241m7.6875\u001b[39m\n\u001b[1;32m      3\u001b[0m \u001b[38;5;28;01massert\u001b[39;00m x0 \u001b[38;5;241m==\u001b[39m\u001b[38;5;241m0.5\u001b[39m\n",
      "\u001b[0;31mNameError\u001b[0m: name 'f2' is not defined"
     ]
    }
   ],
   "source": [
    "assert abs(f2(x0)) == 0.96875\n",
    "assert abs(df2(x0)) == 7.6875\n",
    "assert x0 ==0.5\n",
    "assert eps == 10**(-9)\n",
    "assert np.isclose(x, 0.37593863077555095)\n",
    "assert k == 4\n"
   ]
  },
  {
   "cell_type": "code",
   "execution_count": null,
   "id": "9d783844",
   "metadata": {},
   "outputs": [],
   "source": []
  }
 ],
 "metadata": {
  "kernelspec": {
   "display_name": "Python 3 (ipykernel)",
   "language": "python",
   "name": "python3"
  },
  "language_info": {
   "codemirror_mode": {
    "name": "ipython",
    "version": 3
   },
   "file_extension": ".py",
   "mimetype": "text/x-python",
   "name": "python",
   "nbconvert_exporter": "python",
   "pygments_lexer": "ipython3",
   "version": "3.9.7"
  }
 },
 "nbformat": 4,
 "nbformat_minor": 5
}
