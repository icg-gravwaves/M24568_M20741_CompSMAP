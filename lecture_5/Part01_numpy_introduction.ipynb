{
 "cells": [
  {
   "cell_type": "markdown",
   "metadata": {
    "id": "Lt8xWPj9owLq"
   },
   "source": [
    "# Introduction"
   ]
  },
  {
   "cell_type": "markdown",
   "metadata": {
    "id": "LEBn4jcsowLu"
   },
   "source": [
    "In this lecture, we will introduce you to the numerical Python library ``numpy``. Numpy is used almost in every field of science and engineering. This library provides the universal standard for working with numerical data in Python, and it also the essential scientific tool.\n",
    "\n",
    "**OUTLINE:**\n",
    "\n",
    "1. How to create basic arrays\n",
    "1. Basic array operations\n",
    "1. Indices and slicing.\n",
    "1. Iterating over a numpy array\n",
    "1. Sorting, adding and removing elements of an array\n",
    "1. Broadcasting.\n",
    "1. Using a particular axis.\n",
    "1. Summary Exercises.\n"
   ]
  },
  {
   "cell_type": "markdown",
   "metadata": {
    "id": "lC6FI9ggL65J"
   },
   "source": [
    "## First we import numpy"
   ]
  },
  {
   "cell_type": "code",
   "execution_count": null,
   "metadata": {
    "id": "Z-Bhg-PXowMa"
   },
   "outputs": [],
   "source": [
    "import numpy as np # we will be using numpy via the abbreviation np"
   ]
  },
  {
   "cell_type": "markdown",
   "metadata": {
    "id": "Jlma04KKMR_J"
   },
   "source": [
    "## New lists that allow multi-dimensional indices\n",
    "\n",
    "So far we have introduced lists, the equivalent of a list in numpy is a numpy array.\n",
    "\n",
    "In general, the array is a grid of values containing information about the raw data, such as the location and the interpratation of the data element.\n",
    "\n",
    "Let's build our first numpy array:\n"
   ]
  },
  {
   "cell_type": "code",
   "execution_count": null,
   "metadata": {
    "id": "6p2WbH0nMGej"
   },
   "outputs": [],
   "source": [
    "my_first_numpy = np.array([1, 10, 100, 1000])"
   ]
  },
  {
   "cell_type": "markdown",
   "metadata": {
    "id": "tZchwCKxNBWe"
   },
   "source": [
    "Similarly to lists we can assess its elements by calling the indices, namely:"
   ]
  },
  {
   "cell_type": "code",
   "execution_count": null,
   "metadata": {
    "colab": {
     "base_uri": "https://localhost:8080/"
    },
    "id": "ShZck98YM_vV",
    "outputId": "f0f56e33-9000-4f7d-c79f-e8dafc79059d"
   },
   "outputs": [
    {
     "name": "stdout",
     "output_type": "stream",
     "text": [
      "This is the first element of the above numpy array: 1\n"
     ]
    }
   ],
   "source": [
    "first_element = my_first_numpy[0]\n",
    "print(f\"This is the first element of the above numpy array: {first_element}\")"
   ]
  },
  {
   "cell_type": "code",
   "execution_count": null,
   "metadata": {
    "colab": {
     "base_uri": "https://localhost:8080/"
    },
    "id": "J9ZYMp37NSeS",
    "outputId": "7ffa3241-1852-46ef-a0f8-0e77c18d16a6"
   },
   "outputs": [
    {
     "name": "stdout",
     "output_type": "stream",
     "text": [
      "This is the last element of the above numpy array: 1000\n"
     ]
    }
   ],
   "source": [
    "first_element = my_first_numpy[-1]\n",
    "print(f\"This is the last element of the above numpy array: {first_element}\")"
   ]
  },
  {
   "cell_type": "markdown",
   "metadata": {
    "id": "48SfN1xhqAmU"
   },
   "source": [
    "## Exercise 0.1\n",
    "In the cell below, create a numpy array with 5 elements, then print its first and last element."
   ]
  },
  {
   "cell_type": "code",
   "execution_count": null,
   "metadata": {
    "id": "BPIf2LsgqA7b"
   },
   "outputs": [],
   "source": []
  }
 ],
 "metadata": {
  "colab": {
   "authorship_tag": "ABX9TyPXZNiaVP/b1hsSaadGBYD/",
   "provenance": []
  },
  "kernelspec": {
   "display_name": "Python 3 (ipykernel)",
   "language": "python",
   "name": "python3"
  },
  "language_info": {
   "codemirror_mode": {
    "name": "ipython",
    "version": 3
   },
   "file_extension": ".py",
   "mimetype": "text/x-python",
   "name": "python",
   "nbconvert_exporter": "python",
   "pygments_lexer": "ipython3",
   "version": "3.9.7"
  }
 },
 "nbformat": 4,
 "nbformat_minor": 1
}
