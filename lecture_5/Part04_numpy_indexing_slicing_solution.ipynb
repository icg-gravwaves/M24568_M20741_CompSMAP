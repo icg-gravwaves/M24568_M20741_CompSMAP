{
 "cells": [
  {
   "cell_type": "markdown",
   "metadata": {
    "id": "QHtxzyBqmCAK"
   },
   "source": [
    "# Indexing and Slicing - SOLVED\n",
    "\n",
    "Indexing and slicing is a **crucial** component of data science, but is one that we've watched students find difficult in the past. Try to think carefully about what is going on here as we go through the examples and exercises, we definitely be using this a lot going forward, and will be using it extensively in MATLAB in TB2 as well!"
   ]
  },
  {
   "cell_type": "code",
   "execution_count": null,
   "metadata": {
    "id": "wBbLSSku7-UO"
   },
   "outputs": [],
   "source": [
    "import numpy as np # we will be using numpy via the abbreviation np"
   ]
  },
  {
   "cell_type": "code",
   "execution_count": null,
   "metadata": {
    "id": "brMLzkTdmil4"
   },
   "outputs": [],
   "source": [
    "data = np.array([1, 2, 3])"
   ]
  },
  {
   "cell_type": "markdown",
   "metadata": {
    "id": "7BL7BxH0mlTX"
   },
   "source": [
    "We can visualise the indicing and slicing of an array ``data`` as follows:"
   ]
  },
  {
   "cell_type": "markdown",
   "metadata": {
    "id": "s9MEbXHPb7BO"
   },
   "source": [
    "![image.png](https://raw.githubusercontent.com/icg-gravwaves/M24568_M20741_CompSMAP/main/lecture_5/images/Part04_numpy_slicing.png)"
   ]
  },
  {
   "cell_type": "markdown",
   "metadata": {
    "id": "R_1oyrKQ8Kak"
   },
   "source": [
    "To explain what each of these are doing in turn:\n",
    "\n",
    "`data = np.array([1,2,3])` creates the array we will use for illustration\n",
    "\n",
    "`data[0]` takes the first element of the array (remember python counts from 0!)\n",
    "\n",
    "`data[1]` takes the second element of the array.\n",
    "\n",
    "`data[0:2]` takes all values in data between 0 and 2, including the value at point 0 and *not* including the value at point 2.\n",
    "\n",
    "`data[1:]` takes all values in data from point 1 until the end of the array.\n",
    "\n",
    "`data[-2:]` Note the negative number here! This indicates that it is the second-from-last value. So it takes all values in data from the point second-from-last until the end.\n",
    "\n",
    "`data` or `data[:]` will return all values in data."
   ]
  },
  {
   "cell_type": "code",
   "execution_count": null,
   "metadata": {
    "colab": {
     "base_uri": "https://localhost:8080/"
    },
    "executionInfo": {
     "elapsed": 357,
     "status": "ok",
     "timestamp": 1698767444022,
     "user": {
      "displayName": "Samantha Penny",
      "userId": "15930921040156864267"
     },
     "user_tz": 0
    },
    "id": "ZufW9NTpb2SN",
    "outputId": "00700175-7753-44ff-9447-a1e9cbe9fc2b"
   },
   "outputs": [
    {
     "name": "stdout",
     "output_type": "stream",
     "text": [
      "1\n",
      "2\n",
      "[1 2]\n",
      "[2 3]\n",
      "[2 3]\n",
      "[1 2 3]\n"
     ]
    }
   ],
   "source": [
    "print(data[0])\n",
    "print(data[1])\n",
    "print(data[0:2])\n",
    "print(data[1:])\n",
    "print(data[-2:])\n",
    "print(data)"
   ]
  },
  {
   "cell_type": "markdown",
   "metadata": {
    "id": "ydekb60imsen"
   },
   "source": [
    "\n",
    "Let's explore this in more detail, with more examples!\n",
    "\n",
    "Slicing works as follows:     \n",
    "``array[start:stop:step]``"
   ]
  },
  {
   "cell_type": "code",
   "execution_count": null,
   "metadata": {
    "colab": {
     "base_uri": "https://localhost:8080/"
    },
    "executionInfo": {
     "elapsed": 232,
     "status": "ok",
     "timestamp": 1698767448776,
     "user": {
      "displayName": "Samantha Penny",
      "userId": "15930921040156864267"
     },
     "user_tz": 0
    },
    "id": "TyDzoE_nm0Zh",
    "outputId": "e46d649f-4839-413f-c827-10e89778dc09"
   },
   "outputs": [
    {
     "name": "stdout",
     "output_type": "stream",
     "text": [
      "[8 3 3 4]\n"
     ]
    }
   ],
   "source": [
    "example_data = np.array([1, 5, 8, 4, 3, 6, 3, 7, 4, 6, 8, 9])\n",
    "start = 2\n",
    "stop = -3\n",
    "step = 2\n",
    "print(example_data[start:stop:step])"
   ]
  },
  {
   "cell_type": "markdown",
   "metadata": {
    "id": "n33D5wFs9QqE"
   },
   "source": [
    "This example `example_data[start:stop:step]` would take every `step` value in `example_data` between `start` and `stop`.\n",
    "\n",
    "This example `example_data[2:-3:2]` would take every second (or every other) value in `example_data` between the third point in the array and the third point from the end (not including the point that is third from the end).\n",
    "\n"
   ]
  },
  {
   "cell_type": "markdown",
   "metadata": {
    "id": "ZphRjziV2aVM"
   },
   "source": [
    "## Exercise 3.1A\n",
    "\n",
    "Create an array of first 100 positive integers (starting from $1$). Then use slicing to halve this array and get the first 50 positive integers. After that print every 3-rd element of the resulting array."
   ]
  },
  {
   "cell_type": "code",
   "execution_count": null,
   "metadata": {
    "colab": {
     "base_uri": "https://localhost:8080/"
    },
    "executionInfo": {
     "elapsed": 275,
     "status": "ok",
     "timestamp": 1698767588358,
     "user": {
      "displayName": "Samantha Penny",
      "userId": "15930921040156864267"
     },
     "user_tz": 0
    },
    "id": "mUnM9p7s2aVM",
    "outputId": "1f7fc324-438e-4f77-b506-169e05be585d"
   },
   "outputs": [
    {
     "name": "stdout",
     "output_type": "stream",
     "text": [
      "[  1   2   3   4   5   6   7   8   9  10  11  12  13  14  15  16  17  18\n",
      "  19  20  21  22  23  24  25  26  27  28  29  30  31  32  33  34  35  36\n",
      "  37  38  39  40  41  42  43  44  45  46  47  48  49  50  51  52  53  54\n",
      "  55  56  57  58  59  60  61  62  63  64  65  66  67  68  69  70  71  72\n",
      "  73  74  75  76  77  78  79  80  81  82  83  84  85  86  87  88  89  90\n",
      "  91  92  93  94  95  96  97  98  99 100]\n",
      "[ 1  2  3  4  5  6  7  8  9 10 11 12 13 14 15 16 17 18 19 20 21 22 23 24\n",
      " 25 26 27 28 29 30 31 32 33 34 35 36 37 38 39 40 41 42 43 44 45 46 47 48\n",
      " 49 50]\n",
      "[  1   4   7  10  13  16  19  22  25  28  31  34  37  40  43  46  49  52\n",
      "  55  58  61  64  67  70  73  76  79  82  85  88  91  94  97 100]\n"
     ]
    }
   ],
   "source": [
    "integer_array = np.arange(1,101)\n",
    "print(integer_array)\n",
    "\n",
    "first_half = integer_array[:50]\n",
    "print(first_half)\n",
    "\n",
    "every_third= integer_array[::3]\n",
    "print(every_third)"
   ]
  },
  {
   "cell_type": "markdown",
   "metadata": {
    "id": "M43ANTpJ94Tq"
   },
   "source": [
    "## Exercise 3.1B\n",
    "\n",
    "Create an array which is `[2**0, 2**1, 2**2, 2**3, 2**4, ... 2**10]` you can do this by:\n",
    "\n",
    "\n",
    "\n",
    "*   First create an array of integers between 0 and 10 inclusive (called `my_array`)\n",
    "*   Compute `2**my_array`\n",
    "\n",
    "Then slice this array to contain only the 3rd, 4th, 5th, 6th and 7th entries.\n",
    "\n"
   ]
  },
  {
   "cell_type": "code",
   "execution_count": null,
   "metadata": {
    "colab": {
     "base_uri": "https://localhost:8080/"
    },
    "executionInfo": {
     "elapsed": 211,
     "status": "ok",
     "timestamp": 1698767667023,
     "user": {
      "displayName": "Samantha Penny",
      "userId": "15930921040156864267"
     },
     "user_tz": 0
    },
    "id": "nLDCtwMr93ZF",
    "outputId": "25e96c89-bab5-4d2c-c00d-29ff4ffdb5de"
   },
   "outputs": [
    {
     "name": "stdout",
     "output_type": "stream",
     "text": [
      "[ 4  8 16 32 64]\n"
     ]
    }
   ],
   "source": [
    "my_array = np.arange(0,11)\n",
    "pow_array = 2**my_array\n",
    "\n",
    "power_slice = pow_array[2:7]\n",
    "print(power_slice)"
   ]
  },
  {
   "cell_type": "markdown",
   "metadata": {
    "id": "zqG_AbOk_dua"
   },
   "source": [
    "## Exercise 3.1C\n",
    "\n",
    "Create the following list of numbers as a numpy array\n",
    "\n",
    "`[1, 3.4656, 4, 8.23423, 9, 3.3424, 16, 32.5465, 25, 23.435, 36, 34.65567]`\n",
    "\n",
    "and slice the array to take every other value starting from the first (so the first, third, fifth ...) values"
   ]
  },
  {
   "cell_type": "code",
   "execution_count": null,
   "metadata": {
    "colab": {
     "base_uri": "https://localhost:8080/"
    },
    "executionInfo": {
     "elapsed": 192,
     "status": "ok",
     "timestamp": 1698767778522,
     "user": {
      "displayName": "Samantha Penny",
      "userId": "15930921040156864267"
     },
     "user_tz": 0
    },
    "id": "LC0eJ8mn_d6Z",
    "outputId": "47ad8704-1ea0-4852-dc06-224dc6de959d"
   },
   "outputs": [
    {
     "name": "stdout",
     "output_type": "stream",
     "text": [
      "[ 1.  4.  9. 16. 25. 36.]\n"
     ]
    }
   ],
   "source": [
    "array_for_slicing = np.array([1, 3.4656, 4, 8.23423, 9,\n",
    "                              3.3424, 16, 32.5465, 25, 23.435, 36, 34.65567])\n",
    "\n",
    "sliced = array_for_slicing[0::2]\n",
    "print(sliced)"
   ]
  },
  {
   "cell_type": "markdown",
   "metadata": {
    "id": "xT5wZV6rnB3Y"
   },
   "source": [
    "## Filtering arrays via a condition\n",
    "\n",
    "If you wish to select certain values of a numpy array that fulfil a certain condition, then numpy is again very useful!\n",
    "\n",
    "FOr example if we want all values in an array that are bigger than 40:"
   ]
  },
  {
   "cell_type": "code",
   "execution_count": null,
   "metadata": {
    "colab": {
     "base_uri": "https://localhost:8080/"
    },
    "id": "K4H_rG6fnRXz",
    "outputId": "9ea01028-eeee-4133-cf67-1ae0a95ca7bb"
   },
   "outputs": [
    {
     "name": "stdout",
     "output_type": "stream",
     "text": [
      "[ 50 100  90]\n"
     ]
    }
   ],
   "source": [
    "example_array = np.array([1, 40, 50, 100, 90])\n",
    "print(example_array[example_array > 40])"
   ]
  },
  {
   "cell_type": "markdown",
   "metadata": {
    "id": "CdSKxNdhnbx5"
   },
   "source": [
    "This does not work on regular python lists\n"
   ]
  },
  {
   "cell_type": "code",
   "execution_count": null,
   "metadata": {
    "colab": {
     "base_uri": "https://localhost:8080/",
     "height": 180
    },
    "id": "SdJu7iWXnfLj",
    "outputId": "ebec86f4-4b1c-48ec-e2dc-abccbf3befd0"
   },
   "outputs": [
    {
     "ename": "TypeError",
     "evalue": "ignored",
     "output_type": "error",
     "traceback": [
      "\u001b[0;31m---------------------------------------------------------------------------\u001b[0m",
      "\u001b[0;31mTypeError\u001b[0m                                 Traceback (most recent call last)",
      "\u001b[0;32m<ipython-input-54-bc0c7ad92161>\u001b[0m in \u001b[0;36m<module>\u001b[0;34m()\u001b[0m\n\u001b[1;32m      1\u001b[0m \u001b[0mexample_list\u001b[0m \u001b[0;34m=\u001b[0m \u001b[0;34m[\u001b[0m\u001b[0;36m1\u001b[0m\u001b[0;34m,\u001b[0m \u001b[0;36m40\u001b[0m\u001b[0;34m,\u001b[0m \u001b[0;36m50\u001b[0m\u001b[0;34m,\u001b[0m \u001b[0;36m100\u001b[0m\u001b[0;34m,\u001b[0m \u001b[0;36m90\u001b[0m\u001b[0;34m]\u001b[0m\u001b[0;34m\u001b[0m\u001b[0;34m\u001b[0m\u001b[0m\n\u001b[0;32m----> 2\u001b[0;31m \u001b[0mprint\u001b[0m\u001b[0;34m(\u001b[0m\u001b[0mexample_list\u001b[0m\u001b[0;34m[\u001b[0m\u001b[0mexample_list\u001b[0m \u001b[0;34m>\u001b[0m \u001b[0;36m40\u001b[0m\u001b[0;34m]\u001b[0m\u001b[0;34m)\u001b[0m\u001b[0;34m\u001b[0m\u001b[0;34m\u001b[0m\u001b[0m\n\u001b[0m",
      "\u001b[0;31mTypeError\u001b[0m: '>' not supported between instances of 'list' and 'int'"
     ]
    }
   ],
   "source": [
    "example_list = [1, 40, 50, 100, 90]\n",
    "print(example_list[example_list > 40])"
   ]
  },
  {
   "cell_type": "markdown",
   "metadata": {
    "id": "QCiGsGom2cgs"
   },
   "source": [
    "## Exercise 3.2\n",
    "\n",
    "Please evaluate the cell below."
   ]
  },
  {
   "cell_type": "code",
   "execution_count": null,
   "metadata": {
    "colab": {
     "base_uri": "https://localhost:8080/"
    },
    "executionInfo": {
     "elapsed": 289,
     "status": "ok",
     "timestamp": 1698767799116,
     "user": {
      "displayName": "Samantha Penny",
      "userId": "15930921040156864267"
     },
     "user_tz": 0
    },
    "id": "YiR6RnLY2cgs",
    "outputId": "b69e7c7f-3513-4605-d2c6-e07407082b84"
   },
   "outputs": [
    {
     "name": "stdout",
     "output_type": "stream",
     "text": [
      "[68 62 10 74 33 53 97 42 38  4 25 93 14 54 68 15 84 76 91 44 96 41 72 21\n",
      " 36 84 89 55 66 83  2 16 88 52 98  9 55 26 24 78 80 89 56 90  9 18  2 41\n",
      " 67 50 11 48 15 95 63 82 71 39 10 91 82  4 14 48 63 78 69  2 34 35 79  5\n",
      " 17 89 16 34 23 86 98 62 29 39 94 11 35 31 43  1 35 89 18 42 54 98 41 26\n",
      " 91 30 82 99]\n"
     ]
    }
   ],
   "source": [
    "array_with_some_numbers = np.random.randint(0, 100, size=100)\n",
    "print(array_with_some_numbers)"
   ]
  },
  {
   "cell_type": "markdown",
   "metadata": {
    "id": "9HnHGyIT87rw"
   },
   "source": [
    "In the cell below write a condition that prints all the numbers from this array that are greater than 50."
   ]
  },
  {
   "cell_type": "code",
   "execution_count": null,
   "metadata": {
    "colab": {
     "base_uri": "https://localhost:8080/"
    },
    "executionInfo": {
     "elapsed": 224,
     "status": "ok",
     "timestamp": 1698767824454,
     "user": {
      "displayName": "Samantha Penny",
      "userId": "15930921040156864267"
     },
     "user_tz": 0
    },
    "id": "m0VvtgBa9GU3",
    "outputId": "29195540-27a6-45c5-8bf0-52500087d17a"
   },
   "outputs": [
    {
     "name": "stdout",
     "output_type": "stream",
     "text": [
      "[68 62 74 53 97 93 54 68 84 76 91 96 72 84 89 55 66 83 88 52 98 55 78 80\n",
      " 89 56 90 67 95 63 82 71 91 82 63 78 69 79 89 86 98 62 94 89 54 98 91 82\n",
      " 99]\n"
     ]
    }
   ],
   "source": [
    "print(array_with_some_numbers[array_with_some_numbers > 50])"
   ]
  },
  {
   "cell_type": "markdown",
   "metadata": {
    "id": "2qboQ7Nl9GqH"
   },
   "source": [
    "In the cell below write a condition that prints all numbers from ``array_with_some_numbers `` that are less than 10."
   ]
  },
  {
   "cell_type": "code",
   "execution_count": null,
   "metadata": {
    "colab": {
     "base_uri": "https://localhost:8080/"
    },
    "executionInfo": {
     "elapsed": 298,
     "status": "ok",
     "timestamp": 1698767833573,
     "user": {
      "displayName": "Samantha Penny",
      "userId": "15930921040156864267"
     },
     "user_tz": 0
    },
    "id": "zV_lKyeS9bJg",
    "outputId": "1a496eec-dd60-4793-b9c6-5a7b6d590138"
   },
   "outputs": [
    {
     "name": "stdout",
     "output_type": "stream",
     "text": [
      "[4 2 9 9 2 4 2 5 1]\n"
     ]
    }
   ],
   "source": [
    "print(array_with_some_numbers[array_with_some_numbers < 10])"
   ]
  },
  {
   "cell_type": "code",
   "execution_count": null,
   "metadata": {
    "id": "8tWDQpzAx2v3"
   },
   "outputs": [],
   "source": []
  },
  {
   "cell_type": "markdown",
   "metadata": {
    "id": "IYRCZKD5nl7F"
   },
   "source": [
    "You can use **or** and **and**, with **or** being ``|`` and **and** being ``&``"
   ]
  },
  {
   "cell_type": "code",
   "execution_count": null,
   "metadata": {
    "colab": {
     "base_uri": "https://localhost:8080/"
    },
    "id": "Rbhd4GVqn0JT",
    "outputId": "b656bf41-1e85-40a5-f642-2eff9a1238d7"
   },
   "outputs": [
    {
     "name": "stdout",
     "output_type": "stream",
     "text": [
      "[50 90]\n"
     ]
    }
   ],
   "source": [
    "print(example_array[(example_array > 40) & (example_array <= 90) ])"
   ]
  },
  {
   "cell_type": "code",
   "execution_count": null,
   "metadata": {
    "colab": {
     "base_uri": "https://localhost:8080/"
    },
    "id": "X5OiHFmboCH3",
    "outputId": "1f3c490c-3516-4e32-8033-648b20696128"
   },
   "outputs": [
    {
     "name": "stdout",
     "output_type": "stream",
     "text": [
      "[  1 100]\n"
     ]
    }
   ],
   "source": [
    "print(example_array[(example_array < 40) | (example_array > 90) ])"
   ]
  },
  {
   "cell_type": "markdown",
   "metadata": {
    "id": "m5ZV1Q_92d-D"
   },
   "source": [
    "## Exercise 3.3\n",
    "\n",
    "In the cell below please filter the values from the array from Exercise 3.2 so that you create an array of elements which are greater than $10$ and smaller than $20$."
   ]
  },
  {
   "cell_type": "code",
   "execution_count": null,
   "metadata": {
    "colab": {
     "base_uri": "https://localhost:8080/"
    },
    "executionInfo": {
     "elapsed": 213,
     "status": "ok",
     "timestamp": 1698767960374,
     "user": {
      "displayName": "Samantha Penny",
      "userId": "15930921040156864267"
     },
     "user_tz": 0
    },
    "id": "SM-v8zLD2d-D",
    "outputId": "a508e167-db4c-4b7c-8e92-50c969f033f9"
   },
   "outputs": [
    {
     "name": "stdout",
     "output_type": "stream",
     "text": [
      "[14 15 16 18 11 15 14 17 16 11 18]\n"
     ]
    }
   ],
   "source": [
    "print(array_with_some_numbers[(array_with_some_numbers > 10) & (array_with_some_numbers < 20)])"
   ]
  },
  {
   "cell_type": "markdown",
   "metadata": {
    "id": "XXv3Xg7BoOXp"
   },
   "source": [
    "The expressions that we insert in the square bracket return an array of True/False statement that matches the position of the array that has been used."
   ]
  },
  {
   "cell_type": "code",
   "execution_count": null,
   "metadata": {
    "colab": {
     "base_uri": "https://localhost:8080/"
    },
    "id": "6w0ZHSexoYW1",
    "outputId": "764335be-2a97-4dba-c60d-102bca33775a"
   },
   "outputs": [
    {
     "data": {
      "text/plain": [
       "array([False, False,  True,  True,  True])"
      ]
     },
     "execution_count": 57,
     "metadata": {},
     "output_type": "execute_result"
    }
   ],
   "source": [
    "example_array > 40"
   ]
  },
  {
   "cell_type": "code",
   "execution_count": null,
   "metadata": {
    "colab": {
     "base_uri": "https://localhost:8080/"
    },
    "id": "gtxHGfNWoblD",
    "outputId": "02ef2a86-3a0d-4356-cbac-3aa83ffb41c8"
   },
   "outputs": [
    {
     "data": {
      "text/plain": [
       "array([False, False,  True, False,  True])"
      ]
     },
     "execution_count": 58,
     "metadata": {},
     "output_type": "execute_result"
    }
   ],
   "source": [
    "(example_array > 40) & (example_array <= 90)"
   ]
  },
  {
   "cell_type": "code",
   "execution_count": null,
   "metadata": {
    "colab": {
     "base_uri": "https://localhost:8080/"
    },
    "id": "SuLRNM2qoebg",
    "outputId": "5962ddb5-5a7e-4b70-b86d-433e4af397b1"
   },
   "outputs": [
    {
     "data": {
      "text/plain": [
       "array([ True, False, False,  True, False])"
      ]
     },
     "execution_count": 59,
     "metadata": {},
     "output_type": "execute_result"
    }
   ],
   "source": [
    "(example_array < 40) | (example_array > 90)"
   ]
  }
 ],
 "metadata": {
  "colab": {
   "authorship_tag": "ABX9TyOIvf5nO/Q46+AF9fcrRiB1",
   "provenance": []
  },
  "kernelspec": {
   "display_name": "Python 3 (ipykernel)",
   "language": "python",
   "name": "python3"
  },
  "language_info": {
   "codemirror_mode": {
    "name": "ipython",
    "version": 3
   },
   "file_extension": ".py",
   "mimetype": "text/x-python",
   "name": "python",
   "nbconvert_exporter": "python",
   "pygments_lexer": "ipython3",
   "version": "3.9.7"
  }
 },
 "nbformat": 4,
 "nbformat_minor": 1
}
