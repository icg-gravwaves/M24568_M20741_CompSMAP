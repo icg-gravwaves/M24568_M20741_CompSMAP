{
 "cells": [
  {
   "cell_type": "markdown",
   "metadata": {
    "id": "KSQerDpXO-FR"
   },
   "source": [
    "# How to create basic arrays - SOLVED"
   ]
  },
  {
   "cell_type": "markdown",
   "metadata": {
    "id": "nDNsUDiLPFIH"
   },
   "source": [
    "To create an array of a specified number of zeros we use:"
   ]
  },
  {
   "cell_type": "code",
   "execution_count": null,
   "metadata": {
    "id": "9qOhX_tG7dzg"
   },
   "outputs": [],
   "source": [
    "import numpy as np # Run this cell or the numpy commands won't run"
   ]
  },
  {
   "cell_type": "code",
   "execution_count": null,
   "metadata": {
    "colab": {
     "base_uri": "https://localhost:8080/"
    },
    "executionInfo": {
     "elapsed": 7,
     "status": "ok",
     "timestamp": 1698683475390,
     "user": {
      "displayName": "Samantha Penny",
      "userId": "15930921040156864267"
     },
     "user_tz": 0
    },
    "id": "UZzArZeMOW7N",
    "outputId": "43a4ba55-d027-4914-ed5b-49747ca543fe"
   },
   "outputs": [
    {
     "name": "stdout",
     "output_type": "stream",
     "text": [
      "[0. 0. 0. 0. 0.]\n"
     ]
    }
   ],
   "source": [
    "n = 5\n",
    "array_of_zeros = np.zeros(n)\n",
    "print(array_of_zeros)"
   ]
  },
  {
   "cell_type": "markdown",
   "metadata": {
    "id": "bzRoDf0grnpl"
   },
   "source": [
    "## Exercise 1.1\n",
    "\n",
    "In the cell below create a numpy array that is filled with 50 zeros. Then print it."
   ]
  },
  {
   "cell_type": "code",
   "execution_count": null,
   "metadata": {
    "colab": {
     "base_uri": "https://localhost:8080/"
    },
    "executionInfo": {
     "elapsed": 180,
     "status": "ok",
     "timestamp": 1698683494256,
     "user": {
      "displayName": "Samantha Penny",
      "userId": "15930921040156864267"
     },
     "user_tz": 0
    },
    "id": "06HUANWtrnGR",
    "outputId": "624efe6d-405f-4e82-d6b6-92f91df522a6"
   },
   "outputs": [
    {
     "name": "stdout",
     "output_type": "stream",
     "text": [
      "[0. 0. 0. 0. 0. 0. 0. 0. 0. 0. 0. 0. 0. 0. 0. 0. 0. 0. 0. 0. 0. 0. 0. 0.\n",
      " 0. 0. 0. 0. 0. 0. 0. 0. 0. 0. 0. 0. 0. 0. 0. 0. 0. 0. 0. 0. 0. 0. 0. 0.\n",
      " 0. 0.]\n"
     ]
    }
   ],
   "source": [
    "array_zeros_2 =  np.zeros(50)\n",
    "print(array_zeros_2)"
   ]
  },
  {
   "cell_type": "markdown",
   "metadata": {
    "id": "HWwD0182PSKm"
   },
   "source": [
    "To create an array of a specified number of ones we use:"
   ]
  },
  {
   "cell_type": "code",
   "execution_count": null,
   "metadata": {
    "colab": {
     "base_uri": "https://localhost:8080/"
    },
    "id": "IsQYrBliPP5o",
    "outputId": "bd28f0be-ccc4-4403-8083-62aa9d2ce966"
   },
   "outputs": [
    {
     "name": "stdout",
     "output_type": "stream",
     "text": [
      "[1. 1. 1. 1. 1. 1.]\n"
     ]
    }
   ],
   "source": [
    "m = 6\n",
    "array_of_ones = np.ones(m)\n",
    "print(array_of_ones)"
   ]
  },
  {
   "cell_type": "markdown",
   "metadata": {
    "id": "qs3Ne6xgrz_p"
   },
   "source": [
    "## Exercise 1.2\n",
    "\n",
    "In the cell below create a numpy array that is filled with 65 ones. Then print it."
   ]
  },
  {
   "cell_type": "code",
   "execution_count": null,
   "metadata": {
    "colab": {
     "base_uri": "https://localhost:8080/"
    },
    "executionInfo": {
     "elapsed": 173,
     "status": "ok",
     "timestamp": 1698683529186,
     "user": {
      "displayName": "Samantha Penny",
      "userId": "15930921040156864267"
     },
     "user_tz": 0
    },
    "id": "gbARjbm8r1i6",
    "outputId": "46b7b126-497d-4828-8f0b-2a995f7bb6d8"
   },
   "outputs": [
    {
     "name": "stdout",
     "output_type": "stream",
     "text": [
      "[1. 1. 1. 1. 1. 1. 1. 1. 1. 1. 1. 1. 1. 1. 1. 1. 1. 1. 1. 1. 1. 1. 1. 1.\n",
      " 1. 1. 1. 1. 1. 1. 1. 1. 1. 1. 1. 1. 1. 1. 1. 1. 1. 1. 1. 1. 1. 1. 1. 1.\n",
      " 1. 1. 1. 1. 1. 1. 1. 1. 1. 1. 1. 1. 1. 1. 1. 1. 1.]\n"
     ]
    }
   ],
   "source": [
    "array_ones_2 = np.ones(65)\n",
    "print(array_ones_2)"
   ]
  },
  {
   "cell_type": "markdown",
   "metadata": {
    "id": "2Tapj-V2Pf-L"
   },
   "source": [
    "To create an array of a specified number of some other value we use:"
   ]
  },
  {
   "cell_type": "code",
   "execution_count": null,
   "metadata": {
    "colab": {
     "base_uri": "https://localhost:8080/"
    },
    "id": "1Y64T22wPfO8",
    "outputId": "7f2c1933-a496-4f12-ebe1-52ce38d6304c"
   },
   "outputs": [
    {
     "name": "stdout",
     "output_type": "stream",
     "text": [
      "[2. 2. 2. 2. 2. 2. 2.]\n"
     ]
    }
   ],
   "source": [
    "r = 7\n",
    "value = 2.\n",
    "array_of_same_val = np.full(r, value)\n",
    "print(array_of_same_val)"
   ]
  },
  {
   "cell_type": "markdown",
   "metadata": {
    "id": "uZGaqXcUP3t1"
   },
   "source": [
    "Note that the first argument of ``np.full`` is its shape, and the second argument is the value that we wish to fill."
   ]
  },
  {
   "cell_type": "markdown",
   "metadata": {
    "id": "A3TwUut5sCD5"
   },
   "source": [
    "## Exercise 1.3\n",
    "\n",
    "In the cell below create a numpy array that is filled with 40 occurences of a string \"I'm only a clone\"."
   ]
  },
  {
   "cell_type": "code",
   "execution_count": null,
   "metadata": {
    "colab": {
     "base_uri": "https://localhost:8080/"
    },
    "executionInfo": {
     "elapsed": 219,
     "status": "ok",
     "timestamp": 1698683578262,
     "user": {
      "displayName": "Samantha Penny",
      "userId": "15930921040156864267"
     },
     "user_tz": 0
    },
    "id": "DSXU0y3tsAtT",
    "outputId": "86380b95-1add-4043-9ccb-8cf5e27d82f3"
   },
   "outputs": [
    {
     "name": "stdout",
     "output_type": "stream",
     "text": [
      "['I am only a clone' 'I am only a clone' 'I am only a clone'\n",
      " 'I am only a clone' 'I am only a clone' 'I am only a clone'\n",
      " 'I am only a clone' 'I am only a clone' 'I am only a clone'\n",
      " 'I am only a clone' 'I am only a clone' 'I am only a clone'\n",
      " 'I am only a clone' 'I am only a clone' 'I am only a clone'\n",
      " 'I am only a clone' 'I am only a clone' 'I am only a clone'\n",
      " 'I am only a clone' 'I am only a clone' 'I am only a clone'\n",
      " 'I am only a clone' 'I am only a clone' 'I am only a clone'\n",
      " 'I am only a clone' 'I am only a clone' 'I am only a clone'\n",
      " 'I am only a clone' 'I am only a clone' 'I am only a clone'\n",
      " 'I am only a clone' 'I am only a clone' 'I am only a clone'\n",
      " 'I am only a clone' 'I am only a clone' 'I am only a clone'\n",
      " 'I am only a clone' 'I am only a clone' 'I am only a clone'\n",
      " 'I am only a clone']\n"
     ]
    }
   ],
   "source": [
    "n = 40\n",
    "s = \"I am only a clone\"\n",
    "clone_array = np.full(n,s)\n",
    "print(clone_array)"
   ]
  },
  {
   "cell_type": "markdown",
   "metadata": {
    "id": "Ld-45AfARbvc"
   },
   "source": [
    "### Ranging values\n",
    "\n",
    "To create an array with elements to match the ``range`` function, so that we specify the start, stop and the step we use:\n",
    "\n",
    "``np.arange(start, stop, step)``\n"
   ]
  },
  {
   "cell_type": "code",
   "execution_count": null,
   "metadata": {
    "colab": {
     "base_uri": "https://localhost:8080/"
    },
    "id": "flsk1fiMP0xS",
    "outputId": "ba98357c-075f-4438-ae0a-0de21bc4181b"
   },
   "outputs": [
    {
     "name": "stdout",
     "output_type": "stream",
     "text": [
      "[5 7 9]\n"
     ]
    }
   ],
   "source": [
    "start = 5\n",
    "stop = 10\n",
    "step = 2\n",
    "print(np.arange(start, stop, step))"
   ]
  },
  {
   "cell_type": "markdown",
   "metadata": {
    "id": "34Vds4JUsiBa"
   },
   "source": [
    "## Exercise 1.4\n",
    "\n",
    "In the cell below create an array of consecutive 50 integers, starting from 100 (ie, [100,101,102, 103, ...]. Use the np.arange function, not range. Then print the resulting array.  "
   ]
  },
  {
   "cell_type": "code",
   "execution_count": null,
   "metadata": {
    "colab": {
     "base_uri": "https://localhost:8080/"
    },
    "executionInfo": {
     "elapsed": 183,
     "status": "ok",
     "timestamp": 1698683960374,
     "user": {
      "displayName": "Samantha Penny",
      "userId": "15930921040156864267"
     },
     "user_tz": 0
    },
    "id": "JR-8rZiWsffn",
    "outputId": "3fc4b7be-2664-4993-a63e-e51c29e9c1e4"
   },
   "outputs": [
    {
     "name": "stdout",
     "output_type": "stream",
     "text": [
      "[100 101 102 103 104 105 106 107 108 109 110 111 112 113 114 115 116 117\n",
      " 118 119 120 121 122 123 124 125 126 127 128 129 130 131 132 133 134 135\n",
      " 136 137 138 139 140 141 142 143 144 145 146 147 148 149]\n"
     ]
    }
   ],
   "source": [
    "start = 100\n",
    "stop = 150\n",
    "step = 1\n",
    "print(np.arange(start,stop,step))"
   ]
  },
  {
   "cell_type": "markdown",
   "metadata": {
    "id": "T225UpNjsxq1"
   },
   "source": [
    "## Exercise 1.5\n",
    "\n",
    "In the cell below create an array of all even integers in the interval $[0, 100]$. Then print the resulting array."
   ]
  },
  {
   "cell_type": "code",
   "execution_count": null,
   "metadata": {
    "colab": {
     "base_uri": "https://localhost:8080/"
    },
    "executionInfo": {
     "elapsed": 197,
     "status": "ok",
     "timestamp": 1698684038310,
     "user": {
      "displayName": "Samantha Penny",
      "userId": "15930921040156864267"
     },
     "user_tz": 0
    },
    "id": "4Z4sOj0pRsON",
    "outputId": "4babbb0e-4269-4c46-8388-cefed0e44d91"
   },
   "outputs": [
    {
     "name": "stdout",
     "output_type": "stream",
     "text": [
      "[  0   2   4   6   8  10  12  14  16  18  20  22  24  26  28  30  32  34\n",
      "  36  38  40  42  44  46  48  50  52  54  56  58  60  62  64  66  68  70\n",
      "  72  74  76  78  80  82  84  86  88  90  92  94  96  98 100]\n"
     ]
    }
   ],
   "source": [
    "start = 0\n",
    "stop = 101\n",
    "step = 2\n",
    "stepped_array = np.arange(start,stop,step)\n",
    "\n",
    "print(stepped_array)"
   ]
  },
  {
   "cell_type": "markdown",
   "metadata": {
    "id": "AqaAM7BtR7CR"
   },
   "source": [
    "### Linear space\n",
    "To create an array with values that are spaced linearly in a specific interval, we use:\n",
    "\n",
    "``np.linspace(start_int, end_int, num_points)``"
   ]
  },
  {
   "cell_type": "code",
   "execution_count": null,
   "metadata": {
    "colab": {
     "base_uri": "https://localhost:8080/"
    },
    "id": "7TqJIAg6R3jD",
    "outputId": "a26b7e11-518b-4c71-83a0-9a076397e8cc"
   },
   "outputs": [
    {
     "name": "stdout",
     "output_type": "stream",
     "text": [
      "[ 0.   2.5  5.   7.5 10. ]\n"
     ]
    }
   ],
   "source": [
    "start_int = 0\n",
    "end_int = 10\n",
    "num_points = 5\n",
    "print(np.linspace(start_int, end_int, num_points))"
   ]
  },
  {
   "cell_type": "markdown",
   "metadata": {
    "id": "dfB7kkz9tPbI"
   },
   "source": [
    "## Exercise 1.6\n",
    "\n",
    "In the cell below create an array of 100 equally spaced points from an interval $[0, 1]$. First find the start of the interval, that the end point of the interval, and then specify the number of equally spaced points."
   ]
  },
  {
   "cell_type": "code",
   "execution_count": null,
   "metadata": {
    "colab": {
     "base_uri": "https://localhost:8080/"
    },
    "executionInfo": {
     "elapsed": 5,
     "status": "ok",
     "timestamp": 1698684097168,
     "user": {
      "displayName": "Samantha Penny",
      "userId": "15930921040156864267"
     },
     "user_tz": 0
    },
    "id": "rfjUefm_tMyN",
    "outputId": "042c022e-dac5-4338-fa3b-33d633facead"
   },
   "outputs": [
    {
     "name": "stdout",
     "output_type": "stream",
     "text": [
      "[0.         0.01010101 0.02020202 0.03030303 0.04040404 0.05050505\n",
      " 0.06060606 0.07070707 0.08080808 0.09090909 0.1010101  0.11111111\n",
      " 0.12121212 0.13131313 0.14141414 0.15151515 0.16161616 0.17171717\n",
      " 0.18181818 0.19191919 0.2020202  0.21212121 0.22222222 0.23232323\n",
      " 0.24242424 0.25252525 0.26262626 0.27272727 0.28282828 0.29292929\n",
      " 0.3030303  0.31313131 0.32323232 0.33333333 0.34343434 0.35353535\n",
      " 0.36363636 0.37373737 0.38383838 0.39393939 0.4040404  0.41414141\n",
      " 0.42424242 0.43434343 0.44444444 0.45454545 0.46464646 0.47474747\n",
      " 0.48484848 0.49494949 0.50505051 0.51515152 0.52525253 0.53535354\n",
      " 0.54545455 0.55555556 0.56565657 0.57575758 0.58585859 0.5959596\n",
      " 0.60606061 0.61616162 0.62626263 0.63636364 0.64646465 0.65656566\n",
      " 0.66666667 0.67676768 0.68686869 0.6969697  0.70707071 0.71717172\n",
      " 0.72727273 0.73737374 0.74747475 0.75757576 0.76767677 0.77777778\n",
      " 0.78787879 0.7979798  0.80808081 0.81818182 0.82828283 0.83838384\n",
      " 0.84848485 0.85858586 0.86868687 0.87878788 0.88888889 0.8989899\n",
      " 0.90909091 0.91919192 0.92929293 0.93939394 0.94949495 0.95959596\n",
      " 0.96969697 0.97979798 0.98989899 1.        ]\n"
     ]
    }
   ],
   "source": [
    "start = 0\n",
    "stop = 1\n",
    "num_points =100\n",
    "\n",
    "new_array = np.linspace(start,stop,num_points)\n",
    "print(new_array)"
   ]
  },
  {
   "cell_type": "markdown",
   "metadata": {
    "id": "ajVUFqi_SgAq"
   },
   "source": [
    "## Differences and similarities between ``arange`` and ``linspace``.\n",
    "\n",
    "Note the difference and similarities between ``np.arange`` and ``np.linspace``.\n",
    "\n",
    "With ``np.arange`` similarly to ``range`` function the last value is ``stop - step``, while in the ``np.linspace`` the last value is ``end_int``.\n",
    "\n",
    "Unlike ``range`` ``np.arange`` allows the step to be a float; in ``range`` only ``ints`` are accepted for the step.\n",
    "\n",
    "``np.linspace`` finds the right step automatically, based on the number of points. In ``np.arange`` we specify the step that then determines the number of points."
   ]
  },
  {
   "cell_type": "markdown",
   "metadata": {
    "id": "Px2gJldOZ16X"
   },
   "source": [
    "### Caution\n",
    "\n",
    "In some cases it is recommended to use ``np.linspace`` over ``np.arange``. With steps being floats ``np.arange`` sometimes returns unexpected outputs due to a floating point error. See the example below:"
   ]
  },
  {
   "cell_type": "code",
   "execution_count": null,
   "metadata": {
    "colab": {
     "base_uri": "https://localhost:8080/"
    },
    "executionInfo": {
     "elapsed": 218,
     "status": "ok",
     "timestamp": 1666277735699,
     "user": {
      "displayName": "Ian Harry",
      "userId": "12539231435418418952"
     },
     "user_tz": -60
    },
    "id": "s1vvI-8EUm78",
    "outputId": "fbe25203-b215-450f-c971-27715421fe31"
   },
   "outputs": [
    {
     "data": {
      "text/plain": [
       "array([1. , 1.1, 1.2, 1.3])"
      ]
     },
     "execution_count": 3,
     "metadata": {},
     "output_type": "execute_result"
    }
   ],
   "source": [
    "np.arange(1.0, 1.3, 0.1)"
   ]
  },
  {
   "cell_type": "markdown",
   "metadata": {
    "id": "Q77cnq3CaN89"
   },
   "source": [
    "Due to a floating point error it includes 1.3, and does not follow the rule of the last element of an array being ``stop - step``.\n",
    "\n",
    "This issue can occur only if the step is a float.\n",
    "\n",
    "\n",
    "**NOTE** both `np.linspace` and `np.arange` are very useful tools where \"iterating\" (or looping) over a range of values. Think again about the differences between both and consider which one is more appropriate for what you are doing!"
   ]
  }
 ],
 "metadata": {
  "colab": {
   "authorship_tag": "ABX9TyOKbZXVDhvQIVnNdEFD70N+",
   "provenance": []
  },
  "kernelspec": {
   "display_name": "Python 3 (ipykernel)",
   "language": "python",
   "name": "python3"
  },
  "language_info": {
   "codemirror_mode": {
    "name": "ipython",
    "version": 3
   },
   "file_extension": ".py",
   "mimetype": "text/x-python",
   "name": "python",
   "nbconvert_exporter": "python",
   "pygments_lexer": "ipython3",
   "version": "3.9.7"
  }
 },
 "nbformat": 4,
 "nbformat_minor": 1
}
