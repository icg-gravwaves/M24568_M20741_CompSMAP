{
 "cells": [
  {
   "cell_type": "markdown",
   "metadata": {
    "id": "30moUmlYbmdw"
   },
   "source": [
    "# Sorting, adding and removing elements from an array"
   ]
  },
  {
   "cell_type": "markdown",
   "metadata": {
    "id": "o-pfnxZMciDl"
   },
   "source": [
    "To quickly sort the numbers of an array in ascending order we use ``np.sort`` function:"
   ]
  },
  {
   "cell_type": "code",
   "execution_count": null,
   "metadata": {
    "id": "oCiXGB9x9bru"
   },
   "outputs": [],
   "source": [
    "import numpy as np #Run this cell or none of the np commands will work"
   ]
  },
  {
   "cell_type": "code",
   "execution_count": null,
   "metadata": {
    "colab": {
     "base_uri": "https://localhost:8080/"
    },
    "id": "SQ5x3gswckaQ",
    "outputId": "9919cfa7-f9cd-4fd4-9391-ca217596bf97"
   },
   "outputs": [
    {
     "name": "stdout",
     "output_type": "stream",
     "text": [
      "[ 1  3  5 10 13 15 20]\n"
     ]
    }
   ],
   "source": [
    "array_unsorted = np.array([10, 5, 3, 13, 15, 1, 20])\n",
    "array_sorted = np.sort(array_unsorted)\n",
    "print(array_sorted)"
   ]
  },
  {
   "cell_type": "markdown",
   "metadata": {
    "id": "Gu0X-3hr2jgr"
   },
   "source": [
    "---"
   ]
  },
  {
   "cell_type": "markdown",
   "metadata": {
    "id": "SyT0qMXq2jgs"
   },
   "source": [
    "## Exercise 5.1\n",
    "\n",
    "Please evaluate the cell below:"
   ]
  },
  {
   "cell_type": "code",
   "execution_count": null,
   "metadata": {
    "id": "NGOKPV1-2jgs"
   },
   "outputs": [],
   "source": [
    "some_array = np.random.randint(0,10, size=20)"
   ]
  },
  {
   "cell_type": "markdown",
   "metadata": {
    "id": "xrWlAGBHA5eq"
   },
   "source": [
    "In the cell below print the sorted version of the above array."
   ]
  },
  {
   "cell_type": "code",
   "execution_count": null,
   "metadata": {
    "id": "EYvjgvEoA5nT"
   },
   "outputs": [],
   "source": []
  },
  {
   "cell_type": "markdown",
   "metadata": {
    "id": "3W7U20TL2jgs"
   },
   "source": [
    "---"
   ]
  },
  {
   "cell_type": "markdown",
   "metadata": {
    "id": "iwJ_0-qac61Y"
   },
   "source": [
    "To concatenate two arrays we use ``np.concatenate``:"
   ]
  },
  {
   "cell_type": "code",
   "execution_count": null,
   "metadata": {
    "colab": {
     "base_uri": "https://localhost:8080/"
    },
    "id": "nPlbN_XGc-oF",
    "outputId": "599b2d1a-9674-403b-bd7b-1f95705d1d72"
   },
   "outputs": [
    {
     "name": "stdout",
     "output_type": "stream",
     "text": [
      "[2 4 7 3 5 8]\n"
     ]
    }
   ],
   "source": [
    "array1 = np.array([2, 4, 7])\n",
    "array2 = np.array([3, 5, 8])\n",
    "concat_arrat = np.concatenate((array1, array2))\n",
    "print(concat_arrat)"
   ]
  },
  {
   "cell_type": "markdown",
   "metadata": {
    "id": "Nr28wIRQ2j48"
   },
   "source": [
    "---"
   ]
  },
  {
   "cell_type": "markdown",
   "metadata": {
    "id": "iKGHZmtz2j48"
   },
   "source": [
    "## Exercise 5.2\n",
    "\n",
    "We wish to pad our 1d-array with zeros. This means that we wish to add zeros to the end of the array (add right padding).\n",
    "\n",
    "In the cell below write a function has two inputs:      \n",
    "- one-dimensional numpy array, an array of numbers,\n",
    "- an int, integer that represents the number of zeros that we wish to use in our padding.\n",
    "\n",
    "You function should return a modified array that consists of the original input concatenated to the array of zeros.\n",
    "\n",
    "Please test your function on a few examples."
   ]
  },
  {
   "cell_type": "code",
   "execution_count": null,
   "metadata": {
    "id": "kw8HDKOv2j48"
   },
   "outputs": [],
   "source": []
  },
  {
   "cell_type": "markdown",
   "metadata": {
    "id": "zhXg3WmR2j49"
   },
   "source": [
    "---"
   ]
  },
  {
   "cell_type": "markdown",
   "metadata": {
    "id": "f7UAMkNSdXz3"
   },
   "source": [
    "We add an value by appending it to the end of an array. Funcion ``np.append`` creates a copy of an old array with the new values at its end."
   ]
  },
  {
   "cell_type": "code",
   "execution_count": null,
   "metadata": {
    "colab": {
     "base_uri": "https://localhost:8080/"
    },
    "id": "5RCXkjtedcg2",
    "outputId": "493d1d66-a33f-4759-9b1a-ab08f1d7c889"
   },
   "outputs": [
    {
     "name": "stdout",
     "output_type": "stream",
     "text": [
      "The old array is [1 4 5]\n",
      "The new array is [ 1  4  5 99]\n"
     ]
    }
   ],
   "source": [
    "old_array = np.array([1, 4, 5])\n",
    "new_array = np.append(old_array, 99)\n",
    "\n",
    "print(f\"The old array is {old_array}\")\n",
    "print(f\"The new array is {new_array}\")"
   ]
  },
  {
   "cell_type": "markdown",
   "metadata": {
    "id": "v1SGJt642kxb"
   },
   "source": [
    "---"
   ]
  },
  {
   "cell_type": "markdown",
   "metadata": {
    "id": "7KRlvJQg2kxc"
   },
   "source": [
    "## Exercise 5.3\n",
    "\n",
    "Write a function that has three inputs   \n",
    "- first one dimensional numpy array, an array with numbers,\n",
    "- second one dimensional numpy array, an array with numbers,\n",
    "- a float.\n",
    "\n",
    "This function should add an element of the second numpy array to the first one, then add a float to the first numpy array.\n",
    "You should iterate over all elements of the second numpy array add it to the first and in the same iteration add the float.\n",
    "\n",
    "Example:     \n",
    "- first numpy array is ``[1, 2, 3]``,\n",
    "- second numpy array is ``[5, 7]``\n",
    "- a float is ``99``.\n",
    "\n",
    "Then the output of the function should be ``[1, 2, 3, 5, 99, 7, 99]``.\n"
   ]
  },
  {
   "cell_type": "code",
   "execution_count": null,
   "metadata": {
    "id": "2oVWZrs02kxc"
   },
   "outputs": [],
   "source": []
  },
  {
   "cell_type": "markdown",
   "metadata": {
    "id": "HS5Ip6JB2kxc"
   },
   "source": [
    "---"
   ]
  },
  {
   "cell_type": "markdown",
   "metadata": {
    "id": "K8quCSixeNxI"
   },
   "source": [
    "To remove the value by specifying the index we use ``np.delete``. This function creates a copy of the old array without the element on the specified index."
   ]
  },
  {
   "cell_type": "code",
   "execution_count": null,
   "metadata": {
    "colab": {
     "base_uri": "https://localhost:8080/"
    },
    "id": "ya2dl2bDeOFk",
    "outputId": "147523d1-1b54-4334-94c4-1c0b62ac0dce"
   },
   "outputs": [
    {
     "name": "stdout",
     "output_type": "stream",
     "text": [
      "The old array is [ 1  4  5 99]\n",
      "The new array is [ 4  5 99]\n"
     ]
    }
   ],
   "source": [
    "old_array = np.array([1, 4, 5, 99])\n",
    "new_array = np.delete(old_array, 0)\n",
    "\n",
    "print(f\"The old array is {old_array}\")\n",
    "print(f\"The new array is {new_array}\")"
   ]
  },
  {
   "cell_type": "markdown",
   "metadata": {
    "id": "ceDHJAF12lWb"
   },
   "source": [
    "---"
   ]
  },
  {
   "cell_type": "markdown",
   "metadata": {
    "id": "8VC4OyGz2lWc"
   },
   "source": [
    "## Exercise 5.4"
   ]
  },
  {
   "cell_type": "markdown",
   "metadata": {
    "id": "t4Tmr2K7MQ03"
   },
   "source": [
    "Create a function that has one input\n",
    "- a one dimensional numpy array.\n",
    "\n",
    "You function should use ``np.delete`` to create a copy of the original array without the first, middle and the last element. If there are two middle elements (if the size of the array is an even number), then remove them both.  "
   ]
  },
  {
   "cell_type": "code",
   "execution_count": null,
   "metadata": {
    "id": "fX4xKDJz2lWc"
   },
   "outputs": [],
   "source": []
  }
 ],
 "metadata": {
  "colab": {
   "authorship_tag": "ABX9TyMoEPrvL4w9LYlMgRDdPC/p",
   "provenance": []
  },
  "kernelspec": {
   "display_name": "Python 3 (ipykernel)",
   "language": "python",
   "name": "python3"
  },
  "language_info": {
   "codemirror_mode": {
    "name": "ipython",
    "version": 3
   },
   "file_extension": ".py",
   "mimetype": "text/x-python",
   "name": "python",
   "nbconvert_exporter": "python",
   "pygments_lexer": "ipython3",
   "version": "3.9.7"
  }
 },
 "nbformat": 4,
 "nbformat_minor": 1
}
