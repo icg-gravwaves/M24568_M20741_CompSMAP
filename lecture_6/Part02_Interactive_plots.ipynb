{
 "cells": [
  {
   "cell_type": "markdown",
   "metadata": {
    "id": "lb8T50bE_-BE"
   },
   "source": [
    "# Adding Interactive Elements: Sliders\n",
    "Sometimes it is useful to offer the user control over the features a plot displays. In particular, sliders allow the user to control the values assigned to individual variables. In order to obtain some interactive features we have to import the following library:"
   ]
  },
  {
   "cell_type": "code",
   "execution_count": null,
   "metadata": {
    "id": "vu02Roh_AIHM"
   },
   "outputs": [],
   "source": [
    "from ipywidgets import interact, interactive, fixed"
   ]
  },
  {
   "cell_type": "code",
   "execution_count": null,
   "metadata": {
    "id": "8AhRaOUv-f62"
   },
   "outputs": [],
   "source": [
    "import matplotlib.pyplot as plt\n",
    "import numpy as np"
   ]
  },
  {
   "cell_type": "markdown",
   "metadata": {
    "id": "mb9E863BASdb"
   },
   "source": [
    "Let's define some function of two variables, and a value c that is fixed."
   ]
  },
  {
   "cell_type": "code",
   "execution_count": null,
   "metadata": {
    "id": "LtAQjywaAPb1"
   },
   "outputs": [],
   "source": [
    "def g(x, y, c):\n",
    "    return x**2+y**2 + c\n",
    "\n",
    "#We call the function below\n",
    "g(4,5,6)"
   ]
  },
  {
   "cell_type": "markdown",
   "metadata": {
    "id": "84FFsLzIAYD4"
   },
   "source": [
    "To interact with our values of ``x`` and ``y`` to change the output of $g(x,y)$, we can make use of sliders:"
   ]
  },
  {
   "cell_type": "code",
   "execution_count": null,
   "metadata": {
    "id": "JELUPKVhAh3u"
   },
   "outputs": [],
   "source": [
    "interact(g, x=(0,10), y=(-10, 0), c=fixed(5))"
   ]
  },
  {
   "cell_type": "markdown",
   "metadata": {
    "id": "zHzV56ODAp-Q"
   },
   "source": [
    "Now you can use the sliders above to check different values of $g$ for different inputs $x$ and $y$.\n",
    "\n",
    "You could also have input an array of values for $c$ as follows:"
   ]
  },
  {
   "cell_type": "code",
   "execution_count": null,
   "metadata": {
    "id": "lFue3Pzue_J_"
   },
   "outputs": [],
   "source": [
    "cvals = np.linspace(1,5,5)\n",
    "interact(g, x=(0,10), y=(-10, 0), c=fixed(cvals))"
   ]
  },
  {
   "cell_type": "markdown",
   "metadata": {
    "id": "p1pEOQ95jIiP"
   },
   "source": [
    "Suppose we want non-integar changes for our slider-generated values of $x$ and $y$. This can be dones as follows:"
   ]
  },
  {
   "cell_type": "code",
   "execution_count": null,
   "metadata": {
    "id": "zTQ4pmWljW4E"
   },
   "outputs": [],
   "source": [
    "cvals = np.linspace(1,5,5)\n",
    "interact(g, x=(0,10,0.5), y=(-10, 0, 0.5), c=fixed(cvals))"
   ]
  },
  {
   "cell_type": "markdown",
   "metadata": {
    "id": "cBQzgJ_KAs3u"
   },
   "source": [
    "## **Exercise 0.12**\n",
    "\n",
    "Let's make a plot of the function $ x(t) = \\sin{(\\omega t - \\phi)} $, using sliders to control the values of $\\omega$ and $\\phi$:\n",
    "\n",
    "\n",
    "1.   Create an array of $t$ values between 0 and $5\\pi$.\n",
    "2.   Add sliders called ``omega`` and ``phi`` to control the values of $\\omega$ and $\\phi$.\n",
    "3. Complete the function ``func_t`` to calculate $x(t)$, using $t$, $\\omega$ and $\\phi$ as inputs.\n",
    "4. Modify the command for the plot of $x(t)$ versus $t$ to add appropriate labels to your plot.   \n",
    "\n",
    "\n"
   ]
  },
  {
   "cell_type": "code",
   "execution_count": null,
   "metadata": {
    "id": "UzmDpb9MCfyJ"
   },
   "outputs": [],
   "source": [
    "def func_t(omega,phi,t):\n",
    "  #Modify this to calculte x(t)\n",
    "  xt = #complete this line to code up the requested mathematical function\n",
    "  #make the plot below look nicer\n",
    "  plt.clf()\n",
    "  plt.plot(t,xt)\n",
    "  plt.show()\n",
    "  return xt\n",
    "\n",
    "#Add the rest of the code to make the sliders here"
   ]
  },
  {
   "cell_type": "markdown",
   "metadata": {
    "id": "qvvoRWj-FYLx"
   },
   "source": [
    "#Adding error bars\n",
    "When performing an experiment, any measurements will have a degree of uncertainty. We represent this uncertainty on plots using error bars. An error bar often shows one standard deviation of uncertainty on a measured value.\n",
    "\n",
    "In this example we will go over plotting uncertainties in various ways:\n",
    "\n",
    "-  y errorbars\n",
    "-  x errorbars\n",
    "-  x and y errorbars\n",
    "\n",
    "We can plot errorbars on our data as follows:\n",
    "\n",
    "```python\n",
    "ax.errorbar(x,y,xerr=A,yerr=B)\n",
    "```\n",
    "\n",
    "An excellent demo of errorbar plotting can be found in the matplotlib gallery: https://matplotlib.org/examples/statistics/errorbar_demo_features.html\n",
    "\n",
    "If your data has asymmetric errorbars, documentation on this can be found at:\n",
    "https://matplotlib.org/examples/statistics/errorbar_demo_features.html\n",
    "\n",
    "For example, for fixed size errorbars (each data point has the same error)"
   ]
  },
  {
   "cell_type": "code",
   "execution_count": null,
   "metadata": {
    "id": "1ku1tSARFrh1"
   },
   "outputs": [],
   "source": [
    "#generate some data to plot.\n",
    "x = np.linspace(0.,20.,20)\n",
    "y = (3*x**2) - (0.25*x**3) - 5.\n",
    "\n",
    "fig = plt.figure(figsize=(8,8))\n",
    "ax = fig.add_subplot(111)\n",
    "#ax.scatter(x,y)\n",
    "\n",
    "#Add error bars\n",
    "ax.errorbar(x, y, xerr=0.5, yerr=40, fmt='o', capsize=5, elinewidth=1)\n",
    "\n",
    "ax.set_title(\"Simplest errorbars, 0.5 in x, 40 in y\");\n",
    "ax.set_xlabel(\"x axis\")\n",
    "ax.set_ylabel(\"Y axis\")\n",
    "plt.show()"
   ]
  },
  {
   "cell_type": "code",
   "execution_count": null,
   "metadata": {
    "id": "ZcwP_K55sUw6"
   },
   "outputs": [],
   "source": []
  },
  {
   "cell_type": "code",
   "execution_count": null,
   "metadata": {
    "id": "bvSV6G-oHapX"
   },
   "outputs": [],
   "source": []
  },
  {
   "cell_type": "code",
   "execution_count": null,
   "metadata": {
    "id": "a9LNz3h8HdoM"
   },
   "outputs": [],
   "source": []
  }
 ],
 "metadata": {
  "colab": {
   "provenance": []
  },
  "kernelspec": {
   "display_name": "Python 3 (ipykernel)",
   "language": "python",
   "name": "python3"
  },
  "language_info": {
   "codemirror_mode": {
    "name": "ipython",
    "version": 3
   },
   "file_extension": ".py",
   "mimetype": "text/x-python",
   "name": "python",
   "nbconvert_exporter": "python",
   "pygments_lexer": "ipython3",
   "version": "3.9.7"
  }
 },
 "nbformat": 4,
 "nbformat_minor": 1
}
