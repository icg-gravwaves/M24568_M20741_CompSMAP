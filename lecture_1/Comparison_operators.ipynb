{
 "cells": [
  {
   "cell_type": "markdown",
   "id": "de07608a",
   "metadata": {},
   "source": [
    "# Comparison operators - interactively introduced\n",
    "\n",
    "\n",
    "The comparison operators in python are:\n",
    "\n",
    "- comparison operators (return either `True` or `False`)\n",
    "  - **`==`** (equal to)\n",
    "  - **`!=`** (not equal to)\n",
    "  - **`<`** (less than)\n",
    "  - **`<=`** (less than or equal to)\n",
    "  - **`>`** (greater than)\n",
    "  - **`>=`** (greater than or equal to)\n",
    "\n",
    "To illustrate using these, 3 is bigger than 2 so doing:"
   ]
  },
  {
   "cell_type": "code",
   "execution_count": 1,
   "id": "b9c582eb",
   "metadata": {},
   "outputs": [
    {
     "data": {
      "text/plain": [
       "True"
      ]
     },
     "execution_count": 1,
     "metadata": {},
     "output_type": "execute_result"
    }
   ],
   "source": [
    "3 > 2"
   ]
  },
  {
   "cell_type": "markdown",
   "id": "1fcdcee7",
   "metadata": {},
   "source": [
    "returns True. Using some of the variables defined previously we can try this out a few times:"
   ]
  },
  {
   "cell_type": "code",
   "execution_count": 3,
   "id": "aa9519c6",
   "metadata": {},
   "outputs": [],
   "source": [
    "# Here are the variables from previously\n",
    "num1 = 10\n",
    "num2 = -3\n",
    "num3 = 7.41\n",
    "num4 = -.6\n",
    "num5 = 7\n",
    "num6 = 3\n",
    "num7 = 11.11"
   ]
  },
  {
   "cell_type": "code",
   "execution_count": 4,
   "id": "64f5006d",
   "metadata": {},
   "outputs": [
    {
     "data": {
      "text/plain": [
       "True"
      ]
     },
     "execution_count": 4,
     "metadata": {},
     "output_type": "execute_result"
    }
   ],
   "source": [
    "# Are these two expressions not equal to each other?\n",
    "num3 != num4"
   ]
  },
  {
   "cell_type": "code",
   "execution_count": 5,
   "id": "9f05233d",
   "metadata": {},
   "outputs": [
    {
     "data": {
      "text/plain": [
       "True"
      ]
     },
     "execution_count": 5,
     "metadata": {},
     "output_type": "execute_result"
    }
   ],
   "source": [
    "# Are these two expressions equal to each other?\n",
    "# Note I use brackets to make it clear what is being compared and the order in which to evaluate.\n",
    "(num1 + num2) == num5"
   ]
  },
  {
   "cell_type": "code",
   "execution_count": 6,
   "id": "2c3a6e88",
   "metadata": {},
   "outputs": [
    {
     "data": {
      "text/plain": [
       "False"
      ]
     },
     "execution_count": 6,
     "metadata": {},
     "output_type": "execute_result"
    }
   ],
   "source": [
    "# Is the first expression less than the second expression?\n",
    "num5 < num6"
   ]
  },
  {
   "cell_type": "code",
   "execution_count": 7,
   "id": "d6d560e3",
   "metadata": {},
   "outputs": [
    {
     "data": {
      "text/plain": [
       "True"
      ]
     },
     "execution_count": 7,
     "metadata": {},
     "output_type": "execute_result"
    }
   ],
   "source": [
    "# Is this expression True?\n",
    "5 > 3 "
   ]
  },
  {
   "cell_type": "code",
   "execution_count": 8,
   "id": "207314c0",
   "metadata": {},
   "outputs": [
    {
     "data": {
      "text/plain": [
       "True"
      ]
     },
     "execution_count": 8,
     "metadata": {},
     "output_type": "execute_result"
    }
   ],
   "source": [
    "# You can do messy things like this. But what does it actually mean? Don't write things like this!\n",
    "# Simple rule with coding: If it isn't clear what's going on, can you write it in a clearer way?\n",
    "5 > 3 < 4 == 3 + 1"
   ]
  }
 ],
 "metadata": {
  "kernelspec": {
   "display_name": "Python 3 (ipykernel)",
   "language": "python",
   "name": "python3"
  },
  "language_info": {
   "codemirror_mode": {
    "name": "ipython",
    "version": 3
   },
   "file_extension": ".py",
   "mimetype": "text/x-python",
   "name": "python",
   "nbconvert_exporter": "python",
   "pygments_lexer": "ipython3",
   "version": "3.9.7"
  }
 },
 "nbformat": 4,
 "nbformat_minor": 5
}
