{
 "cells": [
  {
   "cell_type": "markdown",
   "id": "70831567",
   "metadata": {
    "id": "70831567"
   },
   "source": [
    "# Arithmetic Operators - Interactive exercises - SOLVED"
   ]
  },
  {
   "cell_type": "markdown",
   "id": "4371efe1",
   "metadata": {
    "id": "4371efe1"
   },
   "source": [
    "Make sure you are running this in Colab!\n",
    "\n",
    "Everything in a notebook is in cells. Text like what you're reading right now goes in a 'Markdown' cell. Code goes in a code cell, like the one below. Try doing a simple math calculation like $2+2$, and push `Shift+Enter` or click 'Run' in the top bar to evaluate it."
   ]
  },
  {
   "cell_type": "code",
   "execution_count": 2,
   "id": "36e3d4af",
   "metadata": {
    "colab": {
     "base_uri": "https://localhost:8080/"
    },
    "executionInfo": {
     "elapsed": 423,
     "status": "ok",
     "timestamp": 1695207934921,
     "user": {
      "displayName": "Ian Harry",
      "userId": "09765021565160415280"
     },
     "user_tz": -60
    },
    "id": "36e3d4af",
    "outputId": "86253904-7c6f-40de-88e0-584f78050a01"
   },
   "outputs": [
    {
     "data": {
      "text/plain": [
       "4"
      ]
     },
     "execution_count": 2,
     "metadata": {},
     "output_type": "execute_result"
    }
   ],
   "source": [
    "2+2"
   ]
  },
  {
   "cell_type": "markdown",
   "id": "25e5f1fe",
   "metadata": {
    "id": "25e5f1fe"
   },
   "source": [
    "Now try multiplying, dividing, subtraction. When you evaluate a Python command in a code cell, the result is printed below the cell. You can put multiple lines in a cell by using `Enter` between them. When you evaluate the cell, the output is only the last value calculated. Try it."
   ]
  },
  {
   "cell_type": "code",
   "execution_count": 7,
   "id": "a41ea394",
   "metadata": {
    "colab": {
     "base_uri": "https://localhost:8080/"
    },
    "executionInfo": {
     "elapsed": 2,
     "status": "ok",
     "timestamp": 1695207960291,
     "user": {
      "displayName": "Ian Harry",
      "userId": "09765021565160415280"
     },
     "user_tz": -60
    },
    "id": "a41ea394",
    "outputId": "76932ad2-9963-46d8-b3fc-19c1ec6e6703"
   },
   "outputs": [
    {
     "data": {
      "text/plain": [
       "4"
      ]
     },
     "execution_count": 7,
     "metadata": {},
     "output_type": "execute_result"
    }
   ],
   "source": [
    "2-2\n",
    "2*2"
   ]
  },
  {
   "cell_type": "markdown",
   "id": "ffdc5e2a",
   "metadata": {
    "id": "ffdc5e2a"
   },
   "source": [
    "Most math expressions are straightforward. One slightly unusual thing is the power operator. We code $x^y$ as `x**y`. Try using this to:\n",
    " 1. Find $2^{10}$.\n",
    " 2. Find the square root of a million.\n",
    " 3. Find the cube root of $4913$."
   ]
  },
  {
   "cell_type": "code",
   "execution_count": 8,
   "id": "b69e6760",
   "metadata": {
    "colab": {
     "base_uri": "https://localhost:8080/"
    },
    "executionInfo": {
     "elapsed": 2,
     "status": "ok",
     "timestamp": 1695208009787,
     "user": {
      "displayName": "Ian Harry",
      "userId": "09765021565160415280"
     },
     "user_tz": -60
    },
    "id": "b69e6760",
    "outputId": "bf4ef519-c022-40b6-af69-89d929eb2a7e"
   },
   "outputs": [
    {
     "data": {
      "text/plain": [
       "1024"
      ]
     },
     "execution_count": 8,
     "metadata": {},
     "output_type": "execute_result"
    }
   ],
   "source": [
    "2**10"
   ]
  },
  {
   "cell_type": "code",
   "execution_count": 9,
   "id": "9b145a7d",
   "metadata": {
    "colab": {
     "base_uri": "https://localhost:8080/"
    },
    "executionInfo": {
     "elapsed": 1,
     "status": "ok",
     "timestamp": 1695208022032,
     "user": {
      "displayName": "Ian Harry",
      "userId": "09765021565160415280"
     },
     "user_tz": -60
    },
    "id": "9b145a7d",
    "outputId": "62a69952-191d-43d9-f2ba-56588ea6b975"
   },
   "outputs": [
    {
     "data": {
      "text/plain": [
       "1000.0"
      ]
     },
     "execution_count": 9,
     "metadata": {},
     "output_type": "execute_result"
    }
   ],
   "source": [
    "1000000**0.5"
   ]
  },
  {
   "cell_type": "code",
   "execution_count": 10,
   "id": "19d3b157",
   "metadata": {
    "colab": {
     "base_uri": "https://localhost:8080/"
    },
    "executionInfo": {
     "elapsed": 197,
     "status": "ok",
     "timestamp": 1695208033300,
     "user": {
      "displayName": "Ian Harry",
      "userId": "09765021565160415280"
     },
     "user_tz": -60
    },
    "id": "19d3b157",
    "outputId": "ec2a2f9c-c328-42a0-f625-9466fefc29e6"
   },
   "outputs": [
    {
     "data": {
      "text/plain": [
       "16.999999999999996"
      ]
     },
     "execution_count": 10,
     "metadata": {},
     "output_type": "execute_result"
    }
   ],
   "source": [
    "4913**(1./3.)"
   ]
  },
  {
   "cell_type": "markdown",
   "id": "d8c14088",
   "metadata": {
    "id": "d8c14088"
   },
   "source": [
    "The standard division operator is `/`, for instance $1/4 = 0.25$. There is also the integer division operator `//` and the remainder operator `%` which are described above.\n",
    "\n",
    "**Exercise** Try a few things like `7//3` and `7%3` to see how they work."
   ]
  },
  {
   "cell_type": "code",
   "execution_count": 16,
   "id": "111f6fd2",
   "metadata": {
    "colab": {
     "base_uri": "https://localhost:8080/"
    },
    "executionInfo": {
     "elapsed": 1,
     "status": "ok",
     "timestamp": 1695208151945,
     "user": {
      "displayName": "Ian Harry",
      "userId": "09765021565160415280"
     },
     "user_tz": -60
    },
    "id": "111f6fd2",
    "outputId": "1029adb7-076a-457c-e055-c271f223bad7"
   },
   "outputs": [
    {
     "data": {
      "text/plain": [
       "(4, 2, 4.285714285714286)"
      ]
     },
     "execution_count": 16,
     "metadata": {},
     "output_type": "execute_result"
    }
   ],
   "source": [
    "30//7, 30%7, 30/7."
   ]
  },
  {
   "cell_type": "code",
   "execution_count": null,
   "id": "1a83e06a",
   "metadata": {
    "id": "1a83e06a"
   },
   "outputs": [],
   "source": []
  },
  {
   "cell_type": "markdown",
   "id": "0c2212d5",
   "metadata": {
    "id": "0c2212d5"
   },
   "source": [
    "**Exercise** Demonstrate how these operators (or just one of them!) can be used to quickly evaluate if a number is even or odd"
   ]
  },
  {
   "cell_type": "code",
   "execution_count": 20,
   "id": "5920040c",
   "metadata": {
    "colab": {
     "base_uri": "https://localhost:8080/"
    },
    "executionInfo": {
     "elapsed": 2,
     "status": "ok",
     "timestamp": 1695208239198,
     "user": {
      "displayName": "Ian Harry",
      "userId": "09765021565160415280"
     },
     "user_tz": -60
    },
    "id": "5920040c",
    "outputId": "190dfa3c-0823-4f0b-a037-7b0ca61a27ce"
   },
   "outputs": [
    {
     "data": {
      "text/plain": [
       "0"
      ]
     },
     "execution_count": 20,
     "metadata": {},
     "output_type": "execute_result"
    }
   ],
   "source": [
    "12391872391874 % 2"
   ]
  },
  {
   "cell_type": "code",
   "execution_count": null,
   "id": "2e38909e",
   "metadata": {
    "id": "2e38909e"
   },
   "outputs": [],
   "source": []
  },
  {
   "cell_type": "markdown",
   "id": "3e23abf7",
   "metadata": {
    "id": "3e23abf7"
   },
   "source": [
    "**WARNING** we will be using `//` and `%` for problems in the coming weeks, and will require you to identify *when* to use them. Still confused about what these do? Ask one of us!"
   ]
  }
 ],
 "metadata": {
  "colab": {
   "provenance": [
    {
     "file_id": "https://github.com/icg-gravwaves/M24568_M20741_CompSMAP/blob/main/lecture_1/Arithmetic_exercises.ipynb",
     "timestamp": 1695207895188
    }
   ]
  },
  "kernelspec": {
   "display_name": "Python 3 (ipykernel)",
   "language": "python",
   "name": "python3"
  },
  "language_info": {
   "codemirror_mode": {
    "name": "ipython",
    "version": 3
   },
   "file_extension": ".py",
   "mimetype": "text/x-python",
   "name": "python",
   "nbconvert_exporter": "python",
   "pygments_lexer": "ipython3",
   "version": "3.9.7"
  }
 },
 "nbformat": 4,
 "nbformat_minor": 5
}
