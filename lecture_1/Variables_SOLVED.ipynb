{
 "cells": [
  {
   "cell_type": "markdown",
   "id": "236f9ff3",
   "metadata": {
    "id": "236f9ff3"
   },
   "source": [
    "# Variables - an interactive introduction - SOLVED\n",
    "\n",
    "Variables are used to store values and other objects. To create a variable, you use the assignment operator, like `x = 1`.\n",
    "\n",
    "Variables should be\n",
    "    <ul>\n",
    "\t\t\t<li> descriptive</li>\n",
    "\t\t\t<li> meaningful</li>\n",
    "\t\t\t<li> helps to re-read the code</li>\n",
    "\t\t\t<li> keywords cannot be used as a name</li>\n",
    "    </ul>\n",
    "\n",
    "Values assigned to a variable are\n",
    "\t<ul>\n",
    "\t\t\t<li> information that is stored</li>\n",
    "\t\t\t<li> can be updated</li>\n",
    "\t</ul>\n",
    "\n",
    "Assigning a value to a variable in steps:\n",
    "\n",
    "* We start with `name_of_a_variable = <expression>`.\n",
    "* Python computes the right hand side to obtain a value\n",
    "* Then stores it (in the left hand side) as a variable.\n",
    "\n",
    "You can always replace the value of the variable by using the assignment operator `=`\n",
    "\n",
    "\n",
    "**Let's try it**. Set x to 1, y to 2, and then calculate something with them, like x*y."
   ]
  },
  {
   "cell_type": "code",
   "execution_count": 2,
   "id": "5548d45a",
   "metadata": {
    "executionInfo": {
     "elapsed": 1,
     "status": "ok",
     "timestamp": 1695208392014,
     "user": {
      "displayName": "Ian Harry",
      "userId": "09765021565160415280"
     },
     "user_tz": -60
    },
    "id": "5548d45a"
   },
   "outputs": [],
   "source": [
    "x=1\n",
    "y=2"
   ]
  },
  {
   "cell_type": "code",
   "execution_count": 3,
   "id": "d3ff8d61",
   "metadata": {
    "colab": {
     "base_uri": "https://localhost:8080/"
    },
    "executionInfo": {
     "elapsed": 230,
     "status": "ok",
     "timestamp": 1695208395135,
     "user": {
      "displayName": "Ian Harry",
      "userId": "09765021565160415280"
     },
     "user_tz": -60
    },
    "id": "d3ff8d61",
    "outputId": "42ed57cb-ea36-4e6f-84b7-df71756e44a0"
   },
   "outputs": [
    {
     "data": {
      "text/plain": [
       "2"
      ]
     },
     "execution_count": 3,
     "metadata": {},
     "output_type": "execute_result"
    }
   ],
   "source": [
    "x*y"
   ]
  },
  {
   "cell_type": "markdown",
   "id": "77ea83a6",
   "metadata": {
    "id": "77ea83a6"
   },
   "source": [
    "Here's a bunch of examples to show how to use these to do basic arithmetic"
   ]
  },
  {
   "cell_type": "code",
   "execution_count": 4,
   "id": "72eb46a7",
   "metadata": {
    "executionInfo": {
     "elapsed": 225,
     "status": "ok",
     "timestamp": 1695208441924,
     "user": {
      "displayName": "Ian Harry",
      "userId": "09765021565160415280"
     },
     "user_tz": -60
    },
    "id": "72eb46a7"
   },
   "outputs": [],
   "source": [
    "# Assigning some numbers to different variables\n",
    "# NOTE: This is a comment, it's just to help you understand the code, the computer will ignore it!\n",
    "num1 = 10\n",
    "num2 = -3\n",
    "num3 = 7.41\n",
    "num4 = -.6\n",
    "num5 = 7\n",
    "num6 = 3\n",
    "num7 = 11.11"
   ]
  },
  {
   "cell_type": "code",
   "execution_count": 5,
   "id": "1cc8488e",
   "metadata": {
    "colab": {
     "base_uri": "https://localhost:8080/"
    },
    "executionInfo": {
     "elapsed": 260,
     "status": "ok",
     "timestamp": 1695208443687,
     "user": {
      "displayName": "Ian Harry",
      "userId": "09765021565160415280"
     },
     "user_tz": -60
    },
    "id": "1cc8488e",
    "outputId": "ba75fb0e-dcc1-47b8-f03d-c8ca28f4de02"
   },
   "outputs": [
    {
     "data": {
      "text/plain": [
       "7"
      ]
     },
     "execution_count": 5,
     "metadata": {},
     "output_type": "execute_result"
    }
   ],
   "source": [
    "# Addition\n",
    "num1 + num2"
   ]
  },
  {
   "cell_type": "code",
   "execution_count": 6,
   "id": "4c597a4f",
   "metadata": {
    "colab": {
     "base_uri": "https://localhost:8080/"
    },
    "executionInfo": {
     "elapsed": 211,
     "status": "ok",
     "timestamp": 1695208452274,
     "user": {
      "displayName": "Ian Harry",
      "userId": "09765021565160415280"
     },
     "user_tz": -60
    },
    "id": "4c597a4f",
    "outputId": "df8e3740-951e-4fd2-abe2-502c6034ec1d"
   },
   "outputs": [
    {
     "data": {
      "text/plain": [
       "-10.41"
      ]
     },
     "execution_count": 6,
     "metadata": {},
     "output_type": "execute_result"
    }
   ],
   "source": [
    "# Subtraction\n",
    "num2 - num3"
   ]
  },
  {
   "cell_type": "code",
   "execution_count": 7,
   "id": "7787610c",
   "metadata": {
    "colab": {
     "base_uri": "https://localhost:8080/"
    },
    "executionInfo": {
     "elapsed": 2,
     "status": "ok",
     "timestamp": 1695208457891,
     "user": {
      "displayName": "Ian Harry",
      "userId": "09765021565160415280"
     },
     "user_tz": -60
    },
    "id": "7787610c",
    "outputId": "a2d4dab7-d5c5-4178-bec0-14d8f7558637"
   },
   "outputs": [
    {
     "data": {
      "text/plain": [
       "-4.446"
      ]
     },
     "execution_count": 7,
     "metadata": {},
     "output_type": "execute_result"
    }
   ],
   "source": [
    "# Multiplication\n",
    "num3 * num4"
   ]
  },
  {
   "cell_type": "code",
   "execution_count": 8,
   "id": "a7bfdca9",
   "metadata": {
    "colab": {
     "base_uri": "https://localhost:8080/"
    },
    "executionInfo": {
     "elapsed": 206,
     "status": "ok",
     "timestamp": 1695208464569,
     "user": {
      "displayName": "Ian Harry",
      "userId": "09765021565160415280"
     },
     "user_tz": -60
    },
    "id": "a7bfdca9",
    "outputId": "06bc4bc4-f449-4a94-fd47-aa5fc3846e55"
   },
   "outputs": [
    {
     "data": {
      "text/plain": [
       "-0.08571428571428572"
      ]
     },
     "execution_count": 8,
     "metadata": {},
     "output_type": "execute_result"
    }
   ],
   "source": [
    "# Division\n",
    "num4 / num5"
   ]
  },
  {
   "cell_type": "code",
   "execution_count": 9,
   "id": "cbdb748c",
   "metadata": {
    "colab": {
     "base_uri": "https://localhost:8080/"
    },
    "executionInfo": {
     "elapsed": 219,
     "status": "ok",
     "timestamp": 1695208471937,
     "user": {
      "displayName": "Ian Harry",
      "userId": "09765021565160415280"
     },
     "user_tz": -60
    },
    "id": "cbdb748c",
    "outputId": "7b84076f-86ae-4890-e1c1-e9188d2d6bf9"
   },
   "outputs": [
    {
     "data": {
      "text/plain": [
       "343"
      ]
     },
     "execution_count": 9,
     "metadata": {},
     "output_type": "execute_result"
    }
   ],
   "source": [
    "# Exponent (powers)\n",
    "num5 ** num6"
   ]
  },
  {
   "cell_type": "markdown",
   "id": "1e100bcb",
   "metadata": {
    "id": "1e100bcb"
   },
   "source": [
    "What happens if we set a variable to another one? Try doing `x = y`. Think about what x and y should be, *then* test whether you're correct."
   ]
  },
  {
   "cell_type": "code",
   "execution_count": 10,
   "id": "2c1934e5",
   "metadata": {
    "colab": {
     "base_uri": "https://localhost:8080/"
    },
    "executionInfo": {
     "elapsed": 218,
     "status": "ok",
     "timestamp": 1695208506322,
     "user": {
      "displayName": "Ian Harry",
      "userId": "09765021565160415280"
     },
     "user_tz": -60
    },
    "id": "2c1934e5",
    "outputId": "a6a80280-9fef-45f1-d6ae-872424c87d81"
   },
   "outputs": [
    {
     "name": "stdout",
     "output_type": "stream",
     "text": [
      "5 2\n",
      "2 2\n"
     ]
    }
   ],
   "source": [
    "x = 5\n",
    "y = 2\n",
    "print(x, y)\n",
    "x = y\n",
    "print(x, y)"
   ]
  },
  {
   "cell_type": "code",
   "execution_count": 11,
   "id": "fcf02e0b",
   "metadata": {
    "colab": {
     "base_uri": "https://localhost:8080/"
    },
    "executionInfo": {
     "elapsed": 346,
     "status": "ok",
     "timestamp": 1695208507473,
     "user": {
      "displayName": "Ian Harry",
      "userId": "09765021565160415280"
     },
     "user_tz": -60
    },
    "id": "fcf02e0b",
    "outputId": "dfb370b7-94b2-489e-8b3f-5dfd5577b8d4"
   },
   "outputs": [
    {
     "name": "stdout",
     "output_type": "stream",
     "text": [
      "2 3\n"
     ]
    }
   ],
   "source": [
    "y = 3\n",
    "print(x, y)"
   ]
  },
  {
   "cell_type": "markdown",
   "id": "14de6462",
   "metadata": {
    "id": "14de6462"
   },
   "source": [
    "What is this output telling us? Think about it. Ask us if you're unsure!"
   ]
  },
  {
   "cell_type": "markdown",
   "id": "2507946b",
   "metadata": {
    "id": "2507946b"
   },
   "source": [
    "Now set y to something else, like `y = 3`. What will x be equal to after doing that? There are two possibilities. Think about them both, then test it. Try to explain to someone else the two possibilities, and what you've just learned about how Python treats variables."
   ]
  },
  {
   "cell_type": "code",
   "execution_count": null,
   "id": "c64cee1f",
   "metadata": {
    "id": "c64cee1f"
   },
   "outputs": [],
   "source": []
  },
  {
   "cell_type": "code",
   "execution_count": null,
   "id": "58fd80e1",
   "metadata": {
    "id": "58fd80e1"
   },
   "outputs": [],
   "source": []
  },
  {
   "cell_type": "markdown",
   "id": "4fd104cd",
   "metadata": {
    "id": "4fd104cd"
   },
   "source": [
    "Variable names should be descriptive but not too long. Any name made with letters, numbers, and underscores will work if it's not a reserved Python keyword. Examples are energy, variable7, and very_long_variable_name. Try assigning to a few of your own."
   ]
  },
  {
   "cell_type": "code",
   "execution_count": null,
   "id": "97c9c701",
   "metadata": {
    "id": "97c9c701"
   },
   "outputs": [],
   "source": [
    "speed_of_light = 300000000"
   ]
  },
  {
   "cell_type": "code",
   "execution_count": null,
   "id": "5573b274",
   "metadata": {
    "id": "5573b274"
   },
   "outputs": [],
   "source": [
    "number_of_students = 120"
   ]
  },
  {
   "cell_type": "code",
   "execution_count": null,
   "id": "41b62489",
   "metadata": {
    "id": "41b62489"
   },
   "outputs": [],
   "source": []
  },
  {
   "cell_type": "markdown",
   "id": "c14a5867",
   "metadata": {
    "id": "c14a5867"
   },
   "source": [
    "You can make your code clear by choosing good variable names, and also by writing comments. A comment is made by putting text after a hash sign."
   ]
  },
  {
   "cell_type": "code",
   "execution_count": null,
   "id": "1cea022c",
   "metadata": {
    "id": "1cea022c"
   },
   "outputs": [],
   "source": [
    "# Example of a Python comment\n",
    "\n",
    "some_variable = 5 # You can put a comment after a statement\n",
    "\n",
    "# You can add a hash sign before a line\n",
    "# to temporarily stop it from being evaluated\n",
    "# when you're trying to debug your code, e.g.:\n",
    "\n",
    "# another_variable = 10*(some broken code)"
   ]
  },
  {
   "cell_type": "markdown",
   "id": "05d8d990",
   "metadata": {
    "id": "05d8d990"
   },
   "source": [
    "There's also some quick ways to write basic operators, let us demonstrate"
   ]
  },
  {
   "cell_type": "code",
   "execution_count": null,
   "id": "b63c6643",
   "metadata": {
    "id": "b63c6643",
    "outputId": "1a925b52-12b1-4a0b-8b55-44e44ec4643b"
   },
   "outputs": [
    {
     "data": {
      "text/plain": [
       "21.11"
      ]
     },
     "execution_count": 11,
     "metadata": {},
     "output_type": "execute_result"
    }
   ],
   "source": [
    "# Increment existing variable\n",
    "num7 += 10 # the same as num7 = num7 + 10\n",
    "num7"
   ]
  },
  {
   "cell_type": "code",
   "execution_count": null,
   "id": "afe25102",
   "metadata": {
    "id": "afe25102",
    "outputId": "010eae0d-e941-4f4f-f64a-c24794b88c30"
   },
   "outputs": [
    {
     "data": {
      "text/plain": [
       "1"
      ]
     },
     "execution_count": 12,
     "metadata": {},
     "output_type": "execute_result"
    }
   ],
   "source": [
    "# Decrement existing variable\n",
    "num6 -= 2 # the same as num6 = num6 - 2\n",
    "num6"
   ]
  },
  {
   "cell_type": "code",
   "execution_count": null,
   "id": "25577418",
   "metadata": {
    "id": "25577418",
    "outputId": "a784e522-0b60-4ce8-d323-9bd1b344baea"
   },
   "outputs": [
    {
     "data": {
      "text/plain": [
       "105.55"
      ]
     },
     "execution_count": 13,
     "metadata": {},
     "output_type": "execute_result"
    }
   ],
   "source": [
    "# Multiply & re-assign\n",
    "num7 *= 5 # the same as num3 = num3*5\n",
    "num7"
   ]
  }
 ],
 "metadata": {
  "colab": {
   "provenance": [
    {
     "file_id": "https://github.com/icg-gravwaves/M24568_M20741_CompSMAP/blob/main/lecture_1/Variables.ipynb",
     "timestamp": 1695208350384
    }
   ]
  },
  "kernelspec": {
   "display_name": "Python 3 (ipykernel)",
   "language": "python",
   "name": "python3"
  },
  "language_info": {
   "codemirror_mode": {
    "name": "ipython",
    "version": 3
   },
   "file_extension": ".py",
   "mimetype": "text/x-python",
   "name": "python",
   "nbconvert_exporter": "python",
   "pygments_lexer": "ipython3",
   "version": "3.9.7"
  }
 },
 "nbformat": 4,
 "nbformat_minor": 5
}
