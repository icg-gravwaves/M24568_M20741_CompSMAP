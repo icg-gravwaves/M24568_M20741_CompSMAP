{
 "cells": [
  {
   "cell_type": "markdown",
   "metadata": {
    "id": "WI1_MNCwne07"
   },
   "source": [
    "# Lecture 1 - Introduction: full lecture in a single notebook\n"
   ]
  },
  {
   "cell_type": "markdown",
   "metadata": {
    "id": "qdYSqDD3ne1A"
   },
   "source": [
    "Welcome to Computational SMAP! We'll be teaching you how to use Python 3 by using Jupyter notebooks. This is a Jupyter notebook. The notebook gives you an interactive programming environment where you can test out ideas, and mix code, plots, and notes."
   ]
  },
  {
   "cell_type": "markdown",
   "metadata": {
    "id": "GZBs4itOne1B"
   },
   "source": [
    "## Quick note about Colab/Jupyter cells\n",
    "\n",
    "A \"cell\" is a box in the Jupyter notebook. You can see one below.\n",
    "\n",
    "When you are editing a cell in Jupyter notebook, you need to run (or re-run) the cell by pressing **`<Shift> + <Enter>`**. This will allow changes you made to be available to other cells.\n",
    "\n",
    "Use **`<Enter>`** to make new lines inside a cell you are editing.\n",
    "\n",
    "### Code cells\n",
    "\n",
    "Re-running will execute any statements you have written. To edit an existing code cell, click on it.\n",
    "\n",
    "### Text cells (also known as Markdown cells)\n",
    "\n",
    "Re-running will render the text cell. To edit an existing markdown cell, double-click on it.\n",
    "\n",
    "<hr>"
   ]
  },
  {
   "cell_type": "markdown",
   "metadata": {
    "id": "PskLbzJrne1B"
   },
   "source": [
    "## Common Colab/Jupyter operations\n",
    "\n",
    "Near the top of the page, Colab provides a row of menu options (`File`, `Edit`, `View`, `Insert`, ...).  Also, after highlighting a cell there is a row of icons appearing on the RHS: ![image.png](data:image/png;base64,iVBORw0KGgoAAAANSUhEUgAAAOsAAAAYCAYAAAAbDApiAAAFf0lEQVR4Ae2cOU8kOxSF+6+SQgoppJAQQEpMTERASkwMIcTE7Ih6+lo66DyPq8pbD92DLVneru9+bFcPmsXn5+fw8fGxrO/v70Ov3Qc9B9YzBxZvb2/D6+vr8PLy0mv3Qc+BNc6BxdfX19BL90D3wPp7YLH+KnYNuwe6B/BAB2vPg43wwMPDw3B3dzdZn56eNsKWUiU7WEs9N7Hv8fFxuLi4yK7sa1FIbJfPeJPL4eHhsLW1lVQ32c453TtY5zxUsL67u5uUWGEC7u3tFUj7cwtAdd6MW5Tr6+shBfjccGdnZwP0LQq2wO/29na0Xl1dLW2GpkU5Pz8fjo6Ovivjny7JYCUAKJ8SrFqjcDgBauX4Wn1y9ztQcvu5sqAnNn4rk9gul7EKdKXPRfjs7OzM5sD+/v63/BaAxZa5A6dFzqTe4NC1Ljpgp+xMAivBPTg4WAYgJVi1hrRwfK0ONfsdKDh/rjp9iVxOfXicnp4uD1Tnpz4HLeuMa26JKcDyz4CXl5fLG1Vyaf0gKbEPHlNJDM8WOcPBMhcr1lscQKEf3F/hmsazYHWgiuGqAdvC8TLQW2zhuaSkJoGVuLR69rAOXekNJD/RppRceucJEHx/ar8GQDHAAlT8h3wHLLdsSeH2Eijg+TfAip7IVR6MtSX2zO3Bvjk7J8EqoG5vby+TF2YkMeNVAnYVYMUWvgnRnYCoOlg1Rwsd9CWAxU+qznOsL1ra3HJycvIty/kAKBKA1ufVZ19NccA6UMUfwN7c3BT5D73gI4B6f0znVjkj/afaMR1WPT8KVgcq36nuDMarBKzLauUAkgudU28U6KBnX27xQKfszaV3nsQi/EGLA9ULY5cBfYvfHgTY+/v74fj4+H8yuJWen59djaw++v4msJJv2DuVn1GwhkDFyyGAWgEWPtxgnjyhLOTH6HKiD/AUfPbxxIo9c/T0ggb6kl9oHRgxGeGc0+fYJFriNcfD10teC5LlLXx4YVEdsNjHbVtT0FfxIh+mkhg5sZwpke9+GuuX8J3bowN3Kt9GwcqTLQVA0NUEn7181/izOnQ8erAO4FynOQf4egyssWdpCFacmFs8yCl7c+lDnvhwjoev18RLsuGhHx3h7YCtBSoy4Olg9T+IiAE3zBnpmdu6n8b6uTxT6AXWqXyLgjXGvJUzYrxDwLqsFkBFpp5ssUDHdIKOBKx9BpNwc9WTIqbL1Bz+4TR2HnPP4PAlM8U/thYCVbL9wI3ty5mDp8Aq/mo17/w8Z3w+ty8ZU20uzxR68g27pvJzLcCKMQ5YfWPR1t6ochT8ObXg589Q/4HJ56GDnn25ZSrQc2u5sv72D0xjQOV1pAOx9PXjtuMngRIgwlu+07zTbzpY3Zax/tqAFQUFWAWFtubpGxoNfw4AElxPYAer5liHrgSoyNSTxu1I7Yc6z405iVN5O93UCT4mcwqo8lUrwKKrQMmnCWP9sYXmAaiexzrgmasp7qOxfg3/sb3Y5DbH6NYKrChI0BWUlkCNGb+qOT1pCEBKlb0Eq6Rw4LBXh1AsyTiIdAvrgMqVpdvL+aO7gCp+LQCLDHznQEWO5pHletAnX2pLyDM2rpUR2+9yYuvMrR1YUYqgkFwtnlNjhq/TvB9QJXqx329KfzKSBIxVoIO+pIRgjQFVfGsBi96AlRwgF6QzOshW+l5FIx1KWgDvwAn7LQ6EmF7YKptj68wlg3WMQZ9v4wESjeRvURR4JRrjFkXA0S09Bw4Bdo4uphu6s1/P3Lk2xqNkjj/kwL6xyvpPlQ7Wn/J8RG5JUkfYLG8jAKqqmyhGu+o5br6S4p8GOnSm2hIZm7ang3XTIvaL9OUm92fuVP83uKWD9TdEudv4T3hgwX872Uv3QPfA+nvgP0Kvigk698uXAAAAAElFTkSuQmCC)\n",
    "\n",
    "### Inserting and removing cells\n",
    "\n",
    "- Use the ![image.png](data:image/png;base64,iVBORw0KGgoAAAANSUhEUgAAAH0AAAAfCAYAAADKvMJ0AAADpElEQVRoBe1Y32fkUBjt33afLstQQilLqvSlMS/z0r7sWiZau0rzNPpQpfKwsqzsyzxUlt08rC41fYoupYQhLEMJJYSz7s38uDObaZLOHRq5IeTnd79zzne/e5INqK1xDGw0DrECDCV6A4tAia5EbyADDYSsZroSvYEMNBCymulK9AYy0EDIaqYr0RvIQAMh12+m31gg+y6iBoolC/LaRY//uDB3W6CEgNAW9K6L+3iF9OsoOsuZ4V+yWzcr8kEsDCqEKC368fExwjCsEBpIbi1oRIP5PUScAEkcwjvSQNsuorRSqNnDr0D0l3AxBRC5MIgBV1ar4gW1JtF3dnZwd3c3zb34IISzS6BfLhTKkw+TUEyrOw3hnRho0awTGCf+fEHEAc7bWaegugn34v18e08j+OL7FwPELy2oYlD8iepcCIGXib4MRxrB2SfQzoJxkBh+l4IeePh5Ot89ppwKw+Udlp7plYE+ejgk27AfFodNEN1eYzBMAGQAtHd9hOw0CeG0KWjXR7YCjOAdUGhHHiLWKUYB7DYVRI9x/bEF7fQaIyb0KMD5PoHxVdY0Wsw9O6/MhRgmV/QCHA829El3CHrQqNApXtVMzwUnogfAn+mgPxKuj/roTADm3f/9aSY6v2/Cf5q9n/wwQdouxJCzu3KOpIteAkdwpoF27ayovwhFLVN0tm4xcM/tz1LIgQgVmfcwS/itjfkFIEBvk2Ttn93f7GHS2HgIdm3i3jng+RbHzdLkft6YL7i2MhfimHm8lMHxNIC1SUC2egjE5Yu/K2lNZ6aNreGTnYl/dXU1PS9c35e2d2boYm7swBL+T/QBLFpB9MWiEAmWdLwyF2Iey0QvwhH7MJnv2bIwEDob53Bd7r16Sxsbuc/z8xiikeMErNDeQwc60eGIQ4izQCRb4nF1LoTB80QvxJGt+a3TPlzmcaamDnhlogPxjQWN7sH6FSJJ8z7ZxkZubNSYkXMPWs8YuQF6e6KRy4webdu4fwSQjhBcGtDPAjBfuK5NuugowMHN2yE8ZlSGDv/kc4ZjdEMHe6QD92+CpCTo9bn3cU7xrY3Dyc+ZNxo6J/35nzNpiH5XFz7ZPITibC38ZBPeJ3T1nz8lKkW+6Kxgl+BIQ9gLn77c1E3/dUTwPmzzn1/Gt3L2tbToJbhQj9SEASV6TYSSmaYSXSabNYmlRK+JUDLTVKLLZLMmsZToNRFKZppKdJls1iSWEr0mQslMU4kuk82axPoHkNmOo+R9tioAAAAASUVORK5CYII=) buttons to insert either a code or text cell below the currently selected cell.\n",
    "\n",
    "### Clear the output of all cells\n",
    "\n",
    "- Use \"EDIT\" -> \"Clear All OUTPUTS\"\n",
    "\n",
    "### Clearing the memory / restarting the kernel\n",
    "\n",
    "- Use \"Runtime\" -> \"Restart Runtime\".\n",
    "\n",
    "### Save your notebook file locally\n",
    "\n",
    "- Clear the output of all cells\n",
    "- Use \"File\" -> \"Download .ipynb\" to download a notebook file representing your session"
   ]
  },
  {
   "cell_type": "markdown",
   "metadata": {
    "id": "rDZYGvg4ne1D"
   },
   "source": [
    "## References\n",
    "\n",
    "- https://colab.research.google.com/notebooks/intro.ipynb#\n",
    "\n",
    "Here is a link to Google's own introduction to Google Colab.\n",
    "\n",
    "<hr>"
   ]
  },
  {
   "cell_type": "markdown",
   "metadata": {
    "id": "T3uH5_Gmne1D"
   },
   "source": [
    "## Getting started - Python objects, basic types, and variables\n",
    "\n",
    "Everything in Python is an **object** and every object in Python has a **type**. Some of the basic types include:\n",
    "\n",
    "- **`int`** (integer; a whole number with no decimal place)\n",
    "  - `10`\n",
    "  - `-3`\n",
    "- **`float`** (float; a number that has a decimal place)\n",
    "  - `7.41`\n",
    "  - `-0.006`\n",
    "- **`str`** (string; a sequence of characters enclosed in single quotes, double quotes, or triple quotes)\n",
    "  - `'this is a string using single quotes'`\n",
    "  - `\"this is a string using double quotes\"`\n",
    "  - `'''this is a triple quoted string using single quotes'''`\n",
    "  - `\"\"\"this is a triple quoted string using double quotes\"\"\"`\n",
    "- **`bool`** (boolean; a binary value that is either true or false)\n",
    "  - `True`\n",
    "  - `False`\n",
    "- **`NoneType`** (a special type representing the absence of a value)\n",
    "  - `None`\n",
    "\n",
    "In Python, a **variable** is a name you specify in your code that maps to a particular **object**, object **instance**, or value.\n",
    "\n",
    "By defining variables, we can refer to things by names that make sense to us. Names for variables can only contain letters, underscores (`_`), or numbers (no spaces, dashes, or other characters). Variable names must start with a letter or underscore.\n",
    "\n",
    "<hr>"
   ]
  },
  {
   "cell_type": "markdown",
   "metadata": {
    "id": "_ETDPpB8ne1E"
   },
   "source": [
    "### Checking the types\n",
    "\n",
    "In order to check the type of an object, we use `type(<input_object>)`, where `<input_object>` is your input.\n",
    "Try the following (remember <shift> + <enter> to run the cells!):"
   ]
  },
  {
   "cell_type": "code",
   "execution_count": null,
   "metadata": {
    "colab": {
     "base_uri": "https://localhost:8080/"
    },
    "id": "ZtN8j598ne1E",
    "outputId": "42109bbc-59ff-405d-db47-5cd72217ca7d"
   },
   "outputs": [
    {
     "name": "stdout",
     "output_type": "stream",
     "text": [
      "<class 'int'>\n"
     ]
    }
   ],
   "source": [
    "print(type(10))"
   ]
  },
  {
   "cell_type": "code",
   "execution_count": null,
   "metadata": {
    "colab": {
     "base_uri": "https://localhost:8080/"
    },
    "id": "ciRwowpine1G",
    "outputId": "413264a2-2c4b-4bcc-e67a-7d96949eda35"
   },
   "outputs": [
    {
     "name": "stdout",
     "output_type": "stream",
     "text": [
      "<class 'float'>\n"
     ]
    }
   ],
   "source": [
    "print(type(10.0))"
   ]
  },
  {
   "cell_type": "code",
   "execution_count": null,
   "metadata": {
    "colab": {
     "base_uri": "https://localhost:8080/"
    },
    "id": "3p0i_Extne1G",
    "outputId": "200d0f47-f44b-4523-9b4f-4ebea725f719"
   },
   "outputs": [
    {
     "name": "stdout",
     "output_type": "stream",
     "text": [
      "<class 'int'>\n"
     ]
    }
   ],
   "source": [
    "print(type(-3))"
   ]
  },
  {
   "cell_type": "code",
   "execution_count": null,
   "metadata": {
    "colab": {
     "base_uri": "https://localhost:8080/"
    },
    "id": "ArqrWIKone1H",
    "outputId": "78b5d4fc-a88b-4922-a40f-eef2c5df866c"
   },
   "outputs": [
    {
     "name": "stdout",
     "output_type": "stream",
     "text": [
      "<class 'float'>\n"
     ]
    }
   ],
   "source": [
    "print(type(3.14))"
   ]
  },
  {
   "cell_type": "code",
   "execution_count": null,
   "metadata": {
    "colab": {
     "base_uri": "https://localhost:8080/"
    },
    "id": "2uFK7sXYne1H",
    "outputId": "a4d6d426-a343-4167-f780-f7c9ac02cc22"
   },
   "outputs": [
    {
     "name": "stdout",
     "output_type": "stream",
     "text": [
      "<class 'str'>\n"
     ]
    }
   ],
   "source": [
    "print(type(\"this is a string\"))"
   ]
  },
  {
   "cell_type": "code",
   "execution_count": null,
   "metadata": {
    "colab": {
     "base_uri": "https://localhost:8080/"
    },
    "id": "j1SCBOxVne1H",
    "outputId": "0d967d55-af13-4749-8c2f-85910f2bdd11"
   },
   "outputs": [
    {
     "name": "stdout",
     "output_type": "stream",
     "text": [
      "<class 'str'>\n"
     ]
    }
   ],
   "source": [
    "print(type('this is also a string'))"
   ]
  },
  {
   "cell_type": "code",
   "execution_count": null,
   "metadata": {
    "colab": {
     "base_uri": "https://localhost:8080/"
    },
    "id": "U0LyO9qAne1H",
    "outputId": "75dc3d4f-5b6c-4e74-e44a-a9b0ab7d2196"
   },
   "outputs": [
    {
     "name": "stdout",
     "output_type": "stream",
     "text": [
      "<class 'bool'>\n"
     ]
    }
   ],
   "source": [
    "print(type(True))"
   ]
  },
  {
   "cell_type": "code",
   "execution_count": null,
   "metadata": {
    "colab": {
     "base_uri": "https://localhost:8080/"
    },
    "id": "ZA-cBYDsne1I",
    "outputId": "8c56389a-ab17-49db-a3b4-8f98175f10bd"
   },
   "outputs": [
    {
     "name": "stdout",
     "output_type": "stream",
     "text": [
      "<class 'str'>\n"
     ]
    }
   ],
   "source": [
    "print(type(\"True\"))"
   ]
  },
  {
   "cell_type": "code",
   "execution_count": null,
   "metadata": {
    "colab": {
     "base_uri": "https://localhost:8080/"
    },
    "id": "IozTooI8ne1I",
    "outputId": "b6bccf11-2d53-4402-8581-5e2394c3b3e8"
   },
   "outputs": [
    {
     "name": "stdout",
     "output_type": "stream",
     "text": [
      "<class 'NoneType'>\n"
     ]
    }
   ],
   "source": [
    "print(type(None))"
   ]
  },
  {
   "cell_type": "markdown",
   "metadata": {
    "id": "sF89vOipne1I"
   },
   "source": [
    "Did all of that make sense? Was any answer unexpected? If so, ask one of us! This course relies on us discussing anything that's not clear, so make sure to talk to us.\n",
    "\n",
    "Note that we have used the `print( .. )` command here. Anything within `print( .. )` will be printed after the cell runs."
   ]
  },
  {
   "cell_type": "markdown",
   "metadata": {
    "id": "WdzsmNQDne1I"
   },
   "source": [
    "## Quick Exercise\n",
    "\n",
    "What is the correct type of\n",
    "- a) 4.5\n",
    "- b) 1.0\n",
    "- c) 2\n",
    "- d) \"Hello World\"\n",
    "- e) False\n",
    "- f) \"False\"\n",
    "\n",
    "Please check your answers in the cell below, by using `type()`. You can put multiple `print( .. )` statements in the same cell, try it!"
   ]
  },
  {
   "cell_type": "code",
   "execution_count": null,
   "metadata": {
    "id": "n7By3pZDne1J"
   },
   "outputs": [],
   "source": []
  },
  {
   "cell_type": "markdown",
   "metadata": {
    "id": "H0UcyVI8ne1Z"
   },
   "source": [
    "## Printing results\n",
    "\n",
    "In order to print results in the same cell, one below the other. Use <b>print (<your_expression>) </b> as follows\n",
    "\n"
   ]
  },
  {
   "cell_type": "code",
   "execution_count": null,
   "metadata": {
    "id": "Afcv_aBcne1Z"
   },
   "outputs": [],
   "source": [
    "print(\"You can use multiple\")\n",
    "print(\"lines in a cell\")\n",
    "print(\"This works for all python operations\")\n",
    "print(\"not just the print statement\")"
   ]
  },
  {
   "cell_type": "markdown",
   "metadata": {
    "id": "tHcANqwtne1J"
   },
   "source": [
    "## Basic operators ... You will never need a calculator again!\n",
    "\n",
    "In Python, there are different types of **operators** (special symbols) that operate on different values. Some of the basic operators include:\n",
    "\n",
    "- arithmetic operators\n",
    "  - **`+`** (addition)\n",
    "  - **`-`** (subtraction)\n",
    "  - **`*`** (multiplication)\n",
    "  - **`/`** (division)\n",
    "  - **`//`** (integer division)\n",
    "  - **`%`** (modulus ... this means the remainder if doing junior school division. So if 9 / 4 is equal to \"2 remainder 1\" then 9 % 4 is equal to 1 and 9 // 4 is equal to 2)\n",
    "  - __`**`__ (exponent)\n",
    "- assignment operators\n",
    "  - **`=`** (assign a value)\n",
    "- comparison operators (return either `True` or `False`)\n",
    "  - **`==`** (equal to)\n",
    "  - **`!=`** (not equal to)\n",
    "  - **`<`** (less than)\n",
    "  - **`<=`** (less than or equal to)\n",
    "  - **`>`** (greater than)\n",
    "  - **`>=`** (greater than or equal to)\n",
    "\n",
    "When multiple operators are used in a single expression, **operator precedence** determines which parts of the expression are evaluated in which order. Operators with higher precedence are evaluated first (like PEMDAS/BODMAS in math). Operators with the same precedence are evaluated from left to right.\n",
    "\n",
    "- `()` parentheses, for grouping\n",
    "- `**` exponent\n",
    "- `*`, `/` multiplication and division\n",
    "- `+`, `-` addition and subtraction\n",
    "- `==`, `!=`, `<`, `<=`, `>`, `>=` comparisons\n",
    "\n",
    "> See https://docs.python.org/3/reference/expressions.html#operator-precedence"
   ]
  },
  {
   "cell_type": "markdown",
   "metadata": {
    "id": "azuPqOpBne1J"
   },
   "source": [
    "## Simple Expressions - Maths\n",
    "\n",
    "Everything in a notebook is in cells. Text like what you're reading right now goes in a 'Markdown' cell. Code goes in a code cell, like the one below. Try doing a simple math calculation like $2+2$, and push `Shift+Enter` or click 'Run' in the top bar to evaluate it."
   ]
  },
  {
   "cell_type": "code",
   "execution_count": null,
   "metadata": {
    "id": "_KpUAu3xne1J"
   },
   "outputs": [],
   "source": [
    "\n"
   ]
  },
  {
   "cell_type": "markdown",
   "metadata": {
    "id": "SjlBNLgyne1J"
   },
   "source": [
    "Now try multiplying, dividing, subtraction. When you evaluate a Python command in a code cell, the result is printed below the cell. You can put multiple lines in a cell by using `Enter` between them. When you evaluate the cell, the output is only the last value calculated. Try it."
   ]
  },
  {
   "cell_type": "code",
   "execution_count": null,
   "metadata": {
    "id": "I6lLl1y8ne1K"
   },
   "outputs": [],
   "source": []
  },
  {
   "cell_type": "markdown",
   "metadata": {
    "id": "kXBO-lbTne1K"
   },
   "source": [
    "Most math expressions are straightforward. One slightly unusual thing is the power operator. We code $x^y$ as `x**y`. Try using this to:\n",
    " 1. Find $2^{10}$.\n",
    " 2. Find the square root of a million.\n",
    " 3. Find the cube root of $4913$."
   ]
  },
  {
   "cell_type": "code",
   "execution_count": null,
   "metadata": {
    "id": "VbGkCBiAne1K"
   },
   "outputs": [],
   "source": []
  },
  {
   "cell_type": "code",
   "execution_count": null,
   "metadata": {
    "id": "3L0HUx65ne1K"
   },
   "outputs": [],
   "source": []
  },
  {
   "cell_type": "code",
   "execution_count": null,
   "metadata": {
    "id": "4YECG1-wne1K"
   },
   "outputs": [],
   "source": []
  },
  {
   "cell_type": "markdown",
   "metadata": {
    "id": "HIq5Vk9Kne1K"
   },
   "source": [
    "The standard division operator is `/`, for instance $1/4 = 0.25$. There is also the integer division operator `//` and the remainder operator `%` which are described above.\n",
    "\n",
    "**Exercise** Try a few things like `7//3` and `7%3` to see how they work."
   ]
  },
  {
   "cell_type": "code",
   "execution_count": null,
   "metadata": {
    "id": "zgMtyHyune1K"
   },
   "outputs": [],
   "source": []
  },
  {
   "cell_type": "code",
   "execution_count": null,
   "metadata": {
    "id": "AYtBp2v5ne1K"
   },
   "outputs": [],
   "source": []
  },
  {
   "cell_type": "markdown",
   "metadata": {
    "id": "PiMn9GHEDDhH"
   },
   "source": [
    "**Exercise** Demonstrate how these operators (or just one of them!) can be used to quickly evaluate if a number is even or odd"
   ]
  },
  {
   "cell_type": "code",
   "execution_count": null,
   "metadata": {
    "id": "oT7x4-Kane1L"
   },
   "outputs": [],
   "source": []
  },
  {
   "cell_type": "code",
   "execution_count": null,
   "metadata": {
    "id": "aJO83p7Nne1L"
   },
   "outputs": [],
   "source": []
  },
  {
   "cell_type": "markdown",
   "metadata": {
    "id": "4Z4thX8QDGse"
   },
   "source": [
    "**WARNING** we will be using `//` and `%` for problems in the coming weeks, and will require you to identify *when* to use them. Still confused about what these do? Ask one of us!"
   ]
  },
  {
   "cell_type": "markdown",
   "metadata": {
    "id": "PM6uRAaADTQ2"
   },
   "source": [
    "### Operations with different types"
   ]
  },
  {
   "cell_type": "markdown",
   "metadata": {
    "id": "d5je31yzne1L"
   },
   "source": [
    "When you combine types in an expression, Python will try to do what it thinks is the most sensible thing. Let's explore this:\n",
    "\n",
    "`1` is an integer. `2` is an integer.\n",
    "\n",
    "**Exercise** What is the type of `1/2`? . What about `5.0 * 2`? Is that the same as `5 * 2`"
   ]
  },
  {
   "cell_type": "code",
   "execution_count": null,
   "metadata": {
    "id": "GZQmKMVHne1L"
   },
   "outputs": [],
   "source": []
  },
  {
   "cell_type": "markdown",
   "metadata": {
    "id": "xD4nRkqVDpCU"
   },
   "source": [
    "**Exercise** What is the type of `1 // 2` and `1 % 2`"
   ]
  },
  {
   "cell_type": "code",
   "execution_count": null,
   "metadata": {
    "id": "yR0WR0gtne1L"
   },
   "outputs": [],
   "source": []
  },
  {
   "cell_type": "markdown",
   "metadata": {
    "id": "ayoEizceDr-J"
   },
   "source": [
    "**Exercise** What is the type of `5.0 * 2`? Is that the same type as `5 * 2`"
   ]
  },
  {
   "cell_type": "code",
   "execution_count": null,
   "metadata": {
    "id": "B4RpR9PODw_Q"
   },
   "outputs": [],
   "source": []
  },
  {
   "cell_type": "markdown",
   "metadata": {
    "id": "mDkrCoGhDyXg"
   },
   "source": [
    "### The complex number type"
   ]
  },
  {
   "cell_type": "markdown",
   "metadata": {
    "id": "j0UUmQngne1L"
   },
   "source": [
    "There's also a complex type, which are made in the form `1+2j` or `0.5-0.3j` where `j` is defined as the square-root of `-1` (normally written in maths/physics as `i`). (If complex numbers doesn't mean anything to you now, don't worry. It will do soon, and this could very well be useful in the future!)\n",
    "\n",
    "**Exercise** What is the type of `1 + 2j`?"
   ]
  },
  {
   "cell_type": "code",
   "execution_count": null,
   "metadata": {
    "id": "p1n8jRT5ne1L"
   },
   "outputs": [],
   "source": [
    "1 + 2j"
   ]
  },
  {
   "cell_type": "code",
   "execution_count": null,
   "metadata": {
    "id": "pZe7Fidtne1M"
   },
   "outputs": [],
   "source": []
  },
  {
   "cell_type": "markdown",
   "metadata": {
    "id": "pg3HIBmDne1M"
   },
   "source": [
    "## Variables\n",
    "\n",
    "Variables are used to store values and other objects. To create a variable, you use the assignment operator, like `x = 1`.\n",
    "\n",
    "Variables should be\n",
    "    <ul>\n",
    "\t\t\t<li> descriptive</li>\n",
    "\t\t\t<li> meaningful</li>\n",
    "\t\t\t<li> helps to re-read the code</li>\n",
    "\t\t\t<li> keywords cannot be used as a name</li>\n",
    "    </ul>\n",
    "\n",
    "Values assigned to a variable are\n",
    "\t<ul>\n",
    "\t\t\t<li> information that is stored</li>\n",
    "\t\t\t<li> can be updated</li>\n",
    "\t</ul>\n",
    "\n",
    "Assigning a value to a variable in steps:\n",
    "\n",
    "* We start with `name_of_a_variable = <expression>`.\n",
    "* Python computes the right hand side to obtain a value\n",
    "* Then stores it (in the left hand side) as a variable.\n",
    "\n",
    "You can always replace the value of the variable by using the assignment operator `=`\n",
    "\n",
    "\n",
    "**Let's try it**. Set x to 1, y to 2, and then calculate something with them, like x*y."
   ]
  },
  {
   "cell_type": "code",
   "execution_count": null,
   "metadata": {
    "id": "UhEAoINGne1M"
   },
   "outputs": [],
   "source": []
  },
  {
   "cell_type": "code",
   "execution_count": null,
   "metadata": {
    "id": "9n3OuSOEne1M"
   },
   "outputs": [],
   "source": []
  },
  {
   "cell_type": "markdown",
   "metadata": {
    "id": "Re4UY9Icne1M"
   },
   "source": [
    "Here's a bunch of examples to show how to use these to do basic arithmetic"
   ]
  },
  {
   "cell_type": "code",
   "execution_count": null,
   "metadata": {
    "id": "vhVuSIeHne1M"
   },
   "outputs": [],
   "source": [
    "# Assigning some numbers to different variables\n",
    "# NOTE: This is a comment, it's just to help you understand the code, the computer will ignore it!\n",
    "num1 = 10\n",
    "num2 = -3\n",
    "num3 = 7.41\n",
    "num4 = -.6\n",
    "num5 = 7\n",
    "num6 = 3\n",
    "num7 = 11.11"
   ]
  },
  {
   "cell_type": "code",
   "execution_count": null,
   "metadata": {
    "colab": {
     "base_uri": "https://localhost:8080/"
    },
    "id": "8NmSiBd4ne1N",
    "outputId": "6ff7a48e-d35f-4844-cf02-c2fe837043d8"
   },
   "outputs": [
    {
     "data": {
      "text/plain": [
       "7"
      ]
     },
     "execution_count": 32,
     "metadata": {},
     "output_type": "execute_result"
    }
   ],
   "source": [
    "# Addition\n",
    "num1 + num2"
   ]
  },
  {
   "cell_type": "code",
   "execution_count": null,
   "metadata": {
    "colab": {
     "base_uri": "https://localhost:8080/"
    },
    "id": "-7Jergwhne1N",
    "outputId": "22e7fa32-1ddf-4dbc-c8af-30eb8bc9f143"
   },
   "outputs": [
    {
     "data": {
      "text/plain": [
       "-10.41"
      ]
     },
     "execution_count": 33,
     "metadata": {},
     "output_type": "execute_result"
    }
   ],
   "source": [
    "# Subtraction\n",
    "num2 - num3"
   ]
  },
  {
   "cell_type": "code",
   "execution_count": null,
   "metadata": {
    "colab": {
     "base_uri": "https://localhost:8080/"
    },
    "id": "URj7oe6Qne1N",
    "outputId": "8b07f840-ef53-4d10-fec0-68daa940d338"
   },
   "outputs": [
    {
     "data": {
      "text/plain": [
       "-4.446"
      ]
     },
     "execution_count": 34,
     "metadata": {},
     "output_type": "execute_result"
    }
   ],
   "source": [
    "# Multiplication\n",
    "num3 * num4"
   ]
  },
  {
   "cell_type": "code",
   "execution_count": null,
   "metadata": {
    "colab": {
     "base_uri": "https://localhost:8080/"
    },
    "id": "qn9Eca7nne1N",
    "outputId": "2767f939-75b5-4260-e860-4cf5c5ee5e69"
   },
   "outputs": [
    {
     "data": {
      "text/plain": [
       "-0.08571428571428572"
      ]
     },
     "execution_count": 35,
     "metadata": {},
     "output_type": "execute_result"
    }
   ],
   "source": [
    "# Division\n",
    "num4 / num5"
   ]
  },
  {
   "cell_type": "code",
   "execution_count": null,
   "metadata": {
    "colab": {
     "base_uri": "https://localhost:8080/"
    },
    "id": "MlUmaPLFne1N",
    "outputId": "5071fa05-7c5e-49d0-a5d2-b9318f006eb6"
   },
   "outputs": [
    {
     "data": {
      "text/plain": [
       "343"
      ]
     },
     "execution_count": 36,
     "metadata": {},
     "output_type": "execute_result"
    }
   ],
   "source": [
    "# Exponent (powers)\n",
    "num5 ** num6"
   ]
  },
  {
   "cell_type": "markdown",
   "metadata": {
    "id": "wUKUN-G3ne1O"
   },
   "source": [
    "What happens if we set a variable to another one? Try doing `x = y`. Think about what x and y should be, *then* test whether you're correct."
   ]
  },
  {
   "cell_type": "code",
   "execution_count": null,
   "metadata": {
    "colab": {
     "base_uri": "https://localhost:8080/"
    },
    "id": "9voOnC-Une1O",
    "outputId": "69460810-c9ea-4ac3-9141-94207a56cc78"
   },
   "outputs": [
    {
     "name": "stdout",
     "output_type": "stream",
     "text": [
      "5 2\n",
      "2 2\n"
     ]
    }
   ],
   "source": [
    "x = 5\n",
    "y = 2\n",
    "print(x, y)\n",
    "x = y\n",
    "print(x, y)"
   ]
  },
  {
   "cell_type": "code",
   "execution_count": null,
   "metadata": {
    "colab": {
     "base_uri": "https://localhost:8080/"
    },
    "id": "qoSQzTlqne1P",
    "outputId": "a7e9e390-02fc-41b4-afb4-e0580f68d2d7"
   },
   "outputs": [
    {
     "name": "stdout",
     "output_type": "stream",
     "text": [
      "2 3\n"
     ]
    }
   ],
   "source": [
    "y = 3\n",
    "print(x, y)"
   ]
  },
  {
   "cell_type": "markdown",
   "metadata": {
    "id": "2R-s2D4yne1P"
   },
   "source": [
    "Now set y to something else, like `y = 3`. What will x be after doing that? There are two possibilities. Think about them both, then test it. Try to explain to someone else the two possibilities, and what you've just learned about how Python treats variables."
   ]
  },
  {
   "cell_type": "code",
   "execution_count": null,
   "metadata": {
    "id": "Zz2PpTY-ne1P"
   },
   "outputs": [],
   "source": []
  },
  {
   "cell_type": "code",
   "execution_count": null,
   "metadata": {
    "id": "BhLU6D6Tne1P"
   },
   "outputs": [],
   "source": []
  },
  {
   "cell_type": "markdown",
   "metadata": {
    "id": "XIlOKfh_ne1P"
   },
   "source": [
    "Variable names should be descriptive but not too long. Any name made with letters, numbers, and underscores will work if it's not a reserved Python keyword. Examples are `energy`, `variable7`, and `very_long_variable_name`. Try assigning to a few of your own."
   ]
  },
  {
   "cell_type": "code",
   "execution_count": null,
   "metadata": {
    "id": "UjA45nVxne1P"
   },
   "outputs": [],
   "source": []
  },
  {
   "cell_type": "code",
   "execution_count": null,
   "metadata": {
    "id": "jEKqIvrQne1P"
   },
   "outputs": [],
   "source": []
  },
  {
   "cell_type": "code",
   "execution_count": null,
   "metadata": {
    "id": "BPdHDWkSne1P"
   },
   "outputs": [],
   "source": []
  },
  {
   "cell_type": "markdown",
   "metadata": {
    "id": "MjLym9mWne1P"
   },
   "source": [
    "You can make your code clear by choosing good variable names, and also by writing comments. A comment is made by putting text after a hash sign."
   ]
  },
  {
   "cell_type": "code",
   "execution_count": null,
   "metadata": {
    "id": "vb9vx8rwne1P"
   },
   "outputs": [],
   "source": [
    "# Example of a Python comment\n",
    "\n",
    "some_variable = 5 # You can put a comment after a statement\n",
    "\n",
    "# You can add a hash sign before a line\n",
    "# to temporarily stop it from being evaluated\n",
    "# when you're trying to debug your code, e.g.:\n",
    "\n",
    "# another_variable = 10*(some broken code)"
   ]
  },
  {
   "cell_type": "markdown",
   "metadata": {
    "id": "Mu_G4QMpne1Q"
   },
   "source": [
    "There's also some quick ways to write basic operators, let us demonstrate"
   ]
  },
  {
   "cell_type": "code",
   "execution_count": null,
   "metadata": {
    "colab": {
     "base_uri": "https://localhost:8080/"
    },
    "id": "I97jQYRIne1Q",
    "outputId": "9ecb37fd-06d0-49ac-e5b9-d25be7d7abf0"
   },
   "outputs": [
    {
     "data": {
      "text/plain": [
       "21.11"
      ]
     },
     "execution_count": 41,
     "metadata": {},
     "output_type": "execute_result"
    }
   ],
   "source": [
    "# Increment existing variable\n",
    "num7 += 10 # the same as num7 = num7 + 10\n",
    "num7"
   ]
  },
  {
   "cell_type": "code",
   "execution_count": null,
   "metadata": {
    "colab": {
     "base_uri": "https://localhost:8080/"
    },
    "id": "QdQNJ8C4ne1Q",
    "outputId": "79349f42-7280-43cf-c28e-86313e433ada"
   },
   "outputs": [
    {
     "data": {
      "text/plain": [
       "1"
      ]
     },
     "execution_count": 42,
     "metadata": {},
     "output_type": "execute_result"
    }
   ],
   "source": [
    "# Decrement existing variable\n",
    "num6 -= 2 # the same as num6 = num6 - 2\n",
    "num6"
   ]
  },
  {
   "cell_type": "code",
   "execution_count": null,
   "metadata": {
    "colab": {
     "base_uri": "https://localhost:8080/"
    },
    "id": "jtUcIjU0ne1Q",
    "outputId": "503f814f-95fc-4488-de82-6f6075bca161"
   },
   "outputs": [
    {
     "data": {
      "text/plain": [
       "105.55"
      ]
     },
     "execution_count": 43,
     "metadata": {},
     "output_type": "execute_result"
    }
   ],
   "source": [
    "# Multiply & re-assign\n",
    "num7 *= 5 # the same as num3 = num3*5\n",
    "num7"
   ]
  },
  {
   "cell_type": "markdown",
   "metadata": {
    "id": "bvBWBcUyf1J6"
   },
   "source": [
    "### Swapping variables\n",
    "\n",
    "You have two variables `x` and `y`. You want to swap their values so that the value of `x` is stored in `y` and the value of `y` is stored in `x`."
   ]
  },
  {
   "cell_type": "markdown",
   "metadata": {
    "id": "3Pq5Jdf5f1J7"
   },
   "source": [
    "<font color=\"red\"><b>This won't work!</b></font>"
   ]
  },
  {
   "cell_type": "code",
   "execution_count": null,
   "metadata": {
    "id": "5RjcssHQf1J7"
   },
   "outputs": [],
   "source": [
    "x = 5\n",
    "y = 4\n",
    "y = x\n",
    "x = y"
   ]
  },
  {
   "cell_type": "markdown",
   "metadata": {
    "id": "jOAmsad3f1J8"
   },
   "source": [
    "In the cell below try to print `x` and `y`:"
   ]
  },
  {
   "cell_type": "code",
   "execution_count": null,
   "metadata": {
    "id": "oo5pupxQf1J8"
   },
   "outputs": [],
   "source": []
  },
  {
   "cell_type": "markdown",
   "metadata": {
    "id": "gucAbzKlf1J8"
   },
   "source": [
    "What is wrong?"
   ]
  },
  {
   "cell_type": "markdown",
   "metadata": {
    "id": "Hy9frY3nf1J9"
   },
   "source": [
    "<font color=\"blue\"><b>Correct</b></font>"
   ]
  },
  {
   "cell_type": "code",
   "execution_count": null,
   "metadata": {
    "id": "-IljaaJ4f1J9"
   },
   "outputs": [],
   "source": [
    "x = 5\n",
    "y = 4\n",
    "temp_var = y\n",
    "y = x\n",
    "x = temp_var"
   ]
  },
  {
   "cell_type": "markdown",
   "metadata": {
    "id": "fj4xhOKqf1J9"
   },
   "source": [
    "Again, try printing `x` and `y`, is it correct now? Consider what happened here from the computer's perspective? Do you understand why one method worked and the other didn't? If not: Ask one of us!"
   ]
  },
  {
   "cell_type": "code",
   "execution_count": null,
   "metadata": {
    "id": "530QBz2rO6Ls"
   },
   "outputs": [],
   "source": []
  },
  {
   "cell_type": "markdown",
   "metadata": {
    "id": "eeRnFpM_ne1Q"
   },
   "source": [
    "## Comparison operators\n",
    "\n",
    "\n",
    "The comparison operators in python are:\n",
    "\n",
    "- comparison operators (return either `True` or `False`)\n",
    "  - **`==`** (equal to)\n",
    "  - **`!=`** (not equal to)\n",
    "  - **`<`** (less than)\n",
    "  - **`<=`** (less than or equal to)\n",
    "  - **`>`** (greater than)\n",
    "  - **`>=`** (greater than or equal to)\n",
    "\n",
    "To illustrate using these, 3 is bigger than 2 so doing:"
   ]
  },
  {
   "cell_type": "code",
   "execution_count": null,
   "metadata": {
    "colab": {
     "base_uri": "https://localhost:8080/"
    },
    "id": "zpQQzOeMne1Q",
    "outputId": "617467a5-8fec-452f-825d-c90264a41d1c"
   },
   "outputs": [
    {
     "data": {
      "text/plain": [
       "True"
      ]
     },
     "execution_count": 44,
     "metadata": {},
     "output_type": "execute_result"
    }
   ],
   "source": [
    "3 > 2"
   ]
  },
  {
   "cell_type": "markdown",
   "metadata": {
    "id": "jpPDrRyTne1R"
   },
   "source": [
    "returns True. Using some of the variables defined above we can try this out a few times:"
   ]
  },
  {
   "cell_type": "code",
   "execution_count": null,
   "metadata": {
    "colab": {
     "base_uri": "https://localhost:8080/"
    },
    "id": "7mBC1AWhne1R",
    "outputId": "34cf51e2-132b-48d6-c915-bd1454ad8512"
   },
   "outputs": [
    {
     "data": {
      "text/plain": [
       "True"
      ]
     },
     "execution_count": 45,
     "metadata": {},
     "output_type": "execute_result"
    }
   ],
   "source": [
    "# Are these two expressions not equal to each other?\n",
    "num3 != num4"
   ]
  },
  {
   "cell_type": "code",
   "execution_count": null,
   "metadata": {
    "colab": {
     "base_uri": "https://localhost:8080/"
    },
    "id": "zm4EUHUXne1R",
    "outputId": "a322b827-e57b-4bf9-9abe-30e7926baba5"
   },
   "outputs": [
    {
     "data": {
      "text/plain": [
       "True"
      ]
     },
     "execution_count": 46,
     "metadata": {},
     "output_type": "execute_result"
    }
   ],
   "source": [
    "# Are these two expressions equal to each other?\n",
    "# Note I use brackets to make it clear what is being compared and the order in which to evaluate.\n",
    "(num1 + num2) == num5"
   ]
  },
  {
   "cell_type": "code",
   "execution_count": null,
   "metadata": {
    "colab": {
     "base_uri": "https://localhost:8080/"
    },
    "id": "R0E-SThUne1R",
    "outputId": "5c96d97b-de28-43de-d80e-b9a1db6a1cda"
   },
   "outputs": [
    {
     "data": {
      "text/plain": [
       "False"
      ]
     },
     "execution_count": 47,
     "metadata": {},
     "output_type": "execute_result"
    }
   ],
   "source": [
    "# Is the first expression less than the second expression?\n",
    "num5 < num6"
   ]
  },
  {
   "cell_type": "code",
   "execution_count": null,
   "metadata": {
    "colab": {
     "base_uri": "https://localhost:8080/"
    },
    "id": "Jarn6rsyne1R",
    "outputId": "6b0d7987-a6c3-4aa7-d389-3a343b38ac7f"
   },
   "outputs": [
    {
     "data": {
      "text/plain": [
       "True"
      ]
     },
     "execution_count": 48,
     "metadata": {},
     "output_type": "execute_result"
    }
   ],
   "source": [
    "# Is this expression True?\n",
    "5 > 3"
   ]
  },
  {
   "cell_type": "code",
   "execution_count": null,
   "metadata": {
    "colab": {
     "base_uri": "https://localhost:8080/"
    },
    "id": "WwlaZnH7ne1R",
    "outputId": "2c9127ec-6751-48b4-ccd6-f76a27184911"
   },
   "outputs": [
    {
     "data": {
      "text/plain": [
       "True"
      ]
     },
     "execution_count": 49,
     "metadata": {},
     "output_type": "execute_result"
    }
   ],
   "source": [
    "# You can do messy things like this. But what does it actually mean? Don't write things like this!\n",
    "# Simple rule with coding: If it isn't clear what's going on, can you write it in a clearer way?\n",
    "5 > 3 < 4 == 3 + 1"
   ]
  },
  {
   "cell_type": "markdown",
   "metadata": {
    "id": "aECdpTqAne1R"
   },
   "source": [
    "## The string type\n",
    "\n",
    "A string is made by enclosing something in quotes. Here are three different ways of making a string. All are allowed, and you'll see all of them."
   ]
  },
  {
   "cell_type": "code",
   "execution_count": null,
   "metadata": {
    "id": "TCTGALBRne1S"
   },
   "outputs": [],
   "source": [
    "string1 = 'string1'\n",
    "string2 = \"string2\"\n",
    "string3 = \"\"\"string3\"\"\" # Triple quotes"
   ]
  },
  {
   "cell_type": "markdown",
   "metadata": {
    "id": "grMo1lFSne1S"
   },
   "source": [
    "The first two are common with short strings. If you want a long string that spans several lines, or that contains quotes in it, you can enclose it in triple quotes.\n",
    "\n",
    "Now let's try some operations on strings. For each, think about what you expect, remembering that Python should try to do the most sensible thing if it can.\n",
    " 1. Can you add two strings?\n",
    " 2. Can you add a number to a string?\n",
    " 3. Can you multiply two strings?\n",
    " 4. Can you multiply a string by an integer?\n",
    " 5. If two strings have the same content, what happens if I do `string1` == `string2`\n",
    " 6. What happens if you do `string1` > `string2`? Try with some test examples to figure out what's going on. Discuss with us!"
   ]
  },
  {
   "cell_type": "code",
   "execution_count": null,
   "metadata": {
    "id": "v31LaYM2Ig0G"
   },
   "outputs": [],
   "source": []
  },
  {
   "cell_type": "code",
   "execution_count": null,
   "metadata": {
    "id": "xLp0MY_KULgf"
   },
   "outputs": [],
   "source": []
  },
  {
   "cell_type": "code",
   "execution_count": null,
   "metadata": {
    "id": "P-WMNtaUULjT"
   },
   "outputs": [],
   "source": []
  },
  {
   "cell_type": "markdown",
   "metadata": {
    "id": "WgF72KlIne1S"
   },
   "source": [
    "## Type Conversion\n",
    "\n",
    "The name of the type is also a function that converts an object to that type (if possible). For instance, you can turn an integer to a float by doing `float(5)`.\n",
    "\n",
    " 1. Convert a float to an integer. What does it do with the decimal part? (Try a few to be sure)\n",
    " 2. What kind of strings can be converted to int or float?"
   ]
  },
  {
   "cell_type": "code",
   "execution_count": null,
   "metadata": {
    "id": "CFEOb80hUKWZ"
   },
   "outputs": [],
   "source": []
  },
  {
   "cell_type": "code",
   "execution_count": null,
   "metadata": {
    "id": "Bqq6WNXaUKaH"
   },
   "outputs": [],
   "source": []
  },
  {
   "cell_type": "markdown",
   "metadata": {
    "id": "ybn8lS_bne1T"
   },
   "source": [
    "## Errors\n",
    "\n",
    "By now, you've seen a few examples of errors. Let's look at one in detail. Below, we've tried to access a variable that doesn't exist. Python stops, but gives us a lot of helpful information. It tells us the name of the error, and gives a traceback. The traceback points to the line with the error. The final line gives more detail about this specific error - here it names the variable which we tried to access but wasn't actually defined."
   ]
  },
  {
   "cell_type": "code",
   "execution_count": null,
   "metadata": {
    "colab": {
     "base_uri": "https://localhost:8080/"
    },
    "id": "nfal-n12ne1T",
    "outputId": "9cfd49b6-03cc-4e6b-8e40-1cc67d88392b"
   },
   "outputs": [
    {
     "data": {
      "text/plain": [
       "0"
      ]
     },
     "execution_count": 54,
     "metadata": {},
     "output_type": "execute_result"
    }
   ],
   "source": [
    "\n",
    "2*z"
   ]
  },
  {
   "cell_type": "markdown",
   "metadata": {
    "id": "oszYuduXne1T"
   },
   "source": [
    "Try going back and looking at other errors from before. Do they make sense? See how many other different error types you can discover below."
   ]
  },
  {
   "cell_type": "code",
   "execution_count": null,
   "metadata": {
    "id": "0ggwlJjYne1T"
   },
   "outputs": [],
   "source": []
  },
  {
   "cell_type": "code",
   "execution_count": null,
   "metadata": {
    "id": "hQDj9cfpVZFG"
   },
   "outputs": [],
   "source": []
  },
  {
   "cell_type": "code",
   "execution_count": null,
   "metadata": {
    "id": "7GYx1mQFVZMw"
   },
   "outputs": [],
   "source": []
  },
  {
   "cell_type": "code",
   "execution_count": null,
   "metadata": {
    "id": "67VpE94Pne1U"
   },
   "outputs": [],
   "source": []
  },
  {
   "cell_type": "markdown",
   "metadata": {
    "id": "BXeoV0vIk7kD"
   },
   "source": [
    "## Summary\n",
    "\n",
    "We've now introduced all the new concepts in week 1. Specific learning outcomes from this week arey\n",
    "\n",
    "* We want you to be able to use Google Colab, open the work notebooks in Colab, save them and be able to find your previous work.\n",
    "* We want you to be able to use *arithmetic operators* in python\n",
    "* We want you to be able to use *variables* and the *assignment operator* and know how to suitably name your variables.\n",
    "* We want you to be able to use *comparison operators* in python.\n",
    "* We want you to be able to recognize an error, identify the type of the error and know where to look to see the error message.\n",
    "* We want you to be able to get the *type* of a variable/object in python and know how to perform *type conversion* to change the type of an object.\n",
    "* We want you to be able to use and manipulate *strings* in python."
   ]
  },
  {
   "cell_type": "markdown",
   "metadata": {
    "id": "q16XYofek987"
   },
   "source": [
    "To test these learning outcomes please continue and work through the summary exercises. Every week we will produce summary exercises. Within the next few weeks the final summary exercises will become challenging.\n",
    "\n",
    "Your aim every week will be to work through the main body of the notebook, and then to attempt as many of the summary exercises as possible. This work should be done during the 2 hours timetabled in the lab, but also in the 3 hours assigned to work on this module outside of the timetabled lab classes. We will release solutions (video and on the website) for all exercises at the beginning of the next week. Also ask questions in the drop-in classes.\n",
    "\n",
    "Now try the summary exercises for week 1!"
   ]
  },
  {
   "cell_type": "markdown",
   "metadata": {
    "id": "iOzQS-sxne1U"
   },
   "source": [
    "## Exercises"
   ]
  },
  {
   "cell_type": "markdown",
   "metadata": {
    "id": "v3sRVp88ne1U"
   },
   "source": [
    "### Exercise 1\n",
    "\n",
    "In the cell below assign your three favourite digits to three variables,\n",
    "- `fav_num1`, `fav_num2`, `fav_num3`"
   ]
  },
  {
   "cell_type": "code",
   "execution_count": null,
   "metadata": {
    "id": "D4NTgHKlne1U"
   },
   "outputs": [],
   "source": []
  },
  {
   "cell_type": "markdown",
   "metadata": {
    "id": "7L2Pvr-1ne1U"
   },
   "source": [
    "In the cell below, display\n",
    "\n",
    "`fav_num1 + fav_num2 - fav_num3`"
   ]
  },
  {
   "cell_type": "code",
   "execution_count": null,
   "metadata": {
    "id": "FBgBN3lxne1U"
   },
   "outputs": [],
   "source": []
  },
  {
   "cell_type": "markdown",
   "metadata": {
    "id": "_-xEuKhRne1U"
   },
   "source": [
    "Now try:\n",
    "$$\\frac{\\mbox{fav_num1} + \\mbox{fav_num2}}{\\mbox{fav_num2} - \\mbox{fav_num3}}$$\n",
    "you need to put both numerator and denominator in (separate) round brackets, and use / for the __fraction bar__.\n",
    "Please try it in the cell below."
   ]
  },
  {
   "cell_type": "code",
   "execution_count": null,
   "metadata": {
    "id": "iU4j-dzIne1U"
   },
   "outputs": [],
   "source": []
  },
  {
   "cell_type": "markdown",
   "metadata": {
    "id": "7HLTKT8lJiUX"
   },
   "source": [
    "Now try\n",
    "$$\\mbox{fav_num1}  + \\frac{\\mbox{fav_num2}}{\\mbox{fav_num3}} - \\mbox{fav_num2} $$"
   ]
  },
  {
   "cell_type": "code",
   "execution_count": null,
   "metadata": {
    "id": "5MsuxJxSJfvu"
   },
   "outputs": [],
   "source": []
  },
  {
   "cell_type": "markdown",
   "metadata": {
    "id": "LwasX5QPne1U"
   },
   "source": [
    "In the cell below, display\n",
    "$$(\\mbox{fav_num1})^{ (\\mbox{fav_num3})}$$\n",
    "that is, __fav_num1__ to the power of __fav_num3__."
   ]
  },
  {
   "cell_type": "code",
   "execution_count": null,
   "metadata": {
    "id": "MynebjNBne1V"
   },
   "outputs": [],
   "source": []
  },
  {
   "cell_type": "markdown",
   "metadata": {
    "id": "xYT82re2ne1V"
   },
   "source": [
    "Now try some boolean expressions:\n",
    "\n",
    "In the cells below evaluate the expressions above these empty cells:\n",
    "\n",
    "$$\\mbox{fav_num1} < \\mbox{fav_num3}$$"
   ]
  },
  {
   "cell_type": "code",
   "execution_count": null,
   "metadata": {
    "id": "hJgSrLkPne1V"
   },
   "outputs": [],
   "source": []
  },
  {
   "cell_type": "markdown",
   "metadata": {
    "id": "x7QTRMwLne1V"
   },
   "source": [
    "$$\\mbox{fav_num2} > \\mbox{fav_num3}$$"
   ]
  },
  {
   "cell_type": "code",
   "execution_count": null,
   "metadata": {
    "id": "DINRW60pne1V"
   },
   "outputs": [],
   "source": []
  },
  {
   "cell_type": "markdown",
   "metadata": {
    "id": "GotkWIB2ne1V"
   },
   "source": [
    "$$\\mbox{fav_num2} <= \\mbox{fav_num1}$$"
   ]
  },
  {
   "cell_type": "code",
   "execution_count": null,
   "metadata": {
    "id": "1YS5oe2Kne1V"
   },
   "outputs": [],
   "source": []
  },
  {
   "cell_type": "markdown",
   "metadata": {
    "id": "IlC3l2Eyne1V"
   },
   "source": [
    "$$\\mbox{fav_num3} >= \\mbox{fav_num2}$$"
   ]
  },
  {
   "cell_type": "code",
   "execution_count": null,
   "metadata": {
    "id": "pkl_8ei3ne1V"
   },
   "outputs": [],
   "source": []
  },
  {
   "cell_type": "markdown",
   "metadata": {
    "id": "l5rn3G8tne1V"
   },
   "source": [
    "$$\\mbox{fav_num1} == \\mbox{fav_num1}$$"
   ]
  },
  {
   "cell_type": "code",
   "execution_count": null,
   "metadata": {
    "id": "g6kObE5One1W"
   },
   "outputs": [],
   "source": []
  },
  {
   "cell_type": "markdown",
   "metadata": {
    "id": "64ipGEvnne1W"
   },
   "source": [
    "$$\\mbox{fav_num1} != \\mbox{fav_num2}$$"
   ]
  },
  {
   "cell_type": "markdown",
   "metadata": {
    "id": "dAUHh1A0ne1W"
   },
   "source": [
    "## Exercise 2\n",
    "\n",
    "What results do the following expressions produce, when typed into the cells below (each one to a new cell. Make new cells as needed)\n",
    "\n",
    "* `1+1`   \n",
    "* `1+3-8`   \n",
    "* `2*3`   \n",
    "* `4/2`  \n",
    "* `1/3`    \n",
    "* `1//3`  \n",
    "* `2**2`\n",
    "* `2**3`\n",
    "* `2**0.5`\n",
    "* `5 % 3`"
   ]
  },
  {
   "cell_type": "code",
   "execution_count": null,
   "metadata": {
    "id": "--Qp_YZFne1W"
   },
   "outputs": [],
   "source": []
  },
  {
   "cell_type": "markdown",
   "metadata": {
    "id": "YXQgyjP1ne1W"
   },
   "source": [
    "## Exercise 3\n",
    "\n",
    "In Mathematical notation, we often omit the multiplication symbol. What happens in a Python expression such as\n",
    "$2 \\times 3$ if you omit the multiplication and use a space instead? (Make a note of what you find.)"
   ]
  },
  {
   "cell_type": "code",
   "execution_count": null,
   "metadata": {
    "id": "4vfedeiOne1W"
   },
   "outputs": [],
   "source": []
  },
  {
   "cell_type": "markdown",
   "metadata": {
    "id": "o5djGQ3dne1W"
   },
   "source": [
    "## Exercise 4\n",
    "\n",
    "In Maths and Physics, we often deal with expressions involving unknowns. What happens if you type the following into the cell below?\n",
    "$$ 2 + x + x $$"
   ]
  },
  {
   "cell_type": "code",
   "execution_count": null,
   "metadata": {
    "id": "zelQw0hXne1W"
   },
   "outputs": [],
   "source": []
  },
  {
   "cell_type": "markdown",
   "metadata": {
    "id": "4hyhLgklne1W"
   },
   "source": [
    "Python requires all objects involved in an expression to have <b>known</b> values. Later in the year we will discuss symbolic programming, but let's get the basics first."
   ]
  },
  {
   "cell_type": "markdown",
   "metadata": {
    "id": "TEt9eJaNne1W"
   },
   "source": [
    "## Exercise 5\n",
    "\n",
    "Try typing the following sentence into the cell below: <b>\"Hello World\"</b>.\n",
    "What happens if you omit the quotation marks?"
   ]
  },
  {
   "cell_type": "code",
   "execution_count": null,
   "metadata": {
    "id": "40bc1aKOne1X"
   },
   "outputs": [],
   "source": []
  },
  {
   "cell_type": "markdown",
   "metadata": {
    "id": "0hNpv_ONne1X"
   },
   "source": [
    "## Exercise 6\n",
    "\n",
    "Integers and real numbers are represented in different ways inside the computer. In Python, integers are represented by a type called <b>int</b>. To approximate real numbers in Python we have floating-point numbers, represented by a type called <b>float</b>. Thus the number $1$ in Python is an <b>int</b>, where as the number $1.0$ is a <b>float</b>.\n",
    "\n",
    "What do the following expressions evaluate to, when put into the below cells (each in an individual cell)?\n",
    "<ul>\n",
    "<li>type(3)</li>\n",
    "<li>type(-5)</li>\n",
    "<li>type(1.02)</li>\n",
    "<li>type(\"test\")</li>\n",
    "<li>type(\"Hello World\")</li>\n",
    "</ul>"
   ]
  },
  {
   "cell_type": "code",
   "execution_count": null,
   "metadata": {
    "id": "0C1yE_B7ne1X"
   },
   "outputs": [],
   "source": []
  },
  {
   "cell_type": "markdown",
   "metadata": {
    "id": "hqkxywYJne1X"
   },
   "source": [
    "<b>For each arithmetic operation, there are two versions:\n",
    "\n",
    "(a) the version between integers, and\n",
    "\n",
    "(b) the version between floats. </b>  \n",
    "\n",
    "These two sets of operations work in different ways. Python decides which operation to use, based on the types of the operands. So, if we write **1+2**, then integer addition is used, because both operands are integers. If we write **1.0 + 2.0**, then float addition is used, because both operands are floats. For addition, subtraction, and multiplication, this doesn't matter very much, because performing these operations between two integers always produces another integer in everyday mathematics.\n",
    "\n",
    "<b>Integer division:</b>  In a division operation involving only integers, many programming languages will perform <b>pure integer division</b>, producing only the integer part of the result. This is not the case in Python 3, the integer division can be executed by using $//$."
   ]
  },
  {
   "cell_type": "markdown",
   "metadata": {
    "id": "BPbwXs9qne1X"
   },
   "source": [
    "## Exercise 7 - The importance of correct bracketing.\n",
    "\n",
    "The following is an attempt to calculate $\\frac{2+4}{2}$. What does `2+4/2`\n",
    "produce in Python? Try it in the cell below."
   ]
  },
  {
   "cell_type": "code",
   "execution_count": null,
   "metadata": {
    "id": "rb7sF3T7ne1X"
   },
   "outputs": [],
   "source": []
  },
  {
   "cell_type": "markdown",
   "metadata": {
    "id": "ctYfTBRcne1X"
   },
   "source": [
    "Can you explain this behaviour? What needs to be done to fix the\n",
    "calculation? Try fixing it in the cell below."
   ]
  },
  {
   "cell_type": "code",
   "execution_count": null,
   "metadata": {
    "id": "5UU0Fqnane1X"
   },
   "outputs": [],
   "source": []
  },
  {
   "cell_type": "markdown",
   "metadata": {
    "id": "KCGabJ3nne1Y"
   },
   "source": [
    "## Exercise 8\n",
    "\n",
    "How should the following expression be entered in the below cell, in\n",
    "order to be sure to come up with the correct answer?\n",
    "$$\\frac{1 + \\sqrt{5}}{2} - 2^3 $$"
   ]
  },
  {
   "cell_type": "code",
   "execution_count": null,
   "metadata": {
    "id": "hC8csgWALS9J"
   },
   "outputs": [],
   "source": []
  },
  {
   "cell_type": "markdown",
   "metadata": {
    "id": "tQ8mzxL2ne1Y"
   },
   "source": [
    "HINT: You can get the square root by using 5 to the power of 0.5?"
   ]
  },
  {
   "cell_type": "markdown",
   "metadata": {
    "id": "i73MloLcne1Y"
   },
   "source": [
    "## Exercise 9\n",
    "\n",
    "Now we assign the numbers to the following variables,\n",
    "\\begin{align*}\n",
    "a = 1+ \\sqrt{5},\\\\\n",
    "b = 2, \\\\\n",
    "c = b^3.\n",
    "\\end{align*}\n",
    "Please do it in the cell below."
   ]
  },
  {
   "cell_type": "code",
   "execution_count": null,
   "metadata": {
    "id": "dBjah9g5ne1Y"
   },
   "outputs": [],
   "source": []
  },
  {
   "cell_type": "markdown",
   "metadata": {
    "id": "RKnRErBqne1Y"
   },
   "source": [
    "Now in the cell below write the following\n",
    "$$ \\frac{a}{b} - c$$\n",
    "Compare the answer with the one from Exercise 8."
   ]
  },
  {
   "cell_type": "code",
   "execution_count": null,
   "metadata": {
    "id": "HvYGIgt8ne1Y"
   },
   "outputs": [],
   "source": []
  },
  {
   "cell_type": "markdown",
   "metadata": {
    "id": "urSUURM3ne1Y"
   },
   "source": [
    "## Exercise 10 - CHALLENGING(!)\n",
    "\n",
    "The famous Fibonacci Numbers are given by the sequence\n",
    "\\begin{equation}\n",
    "f_0 = 0,\\quad f_1 = 1,\\quad f_n = f_{n-1}+f_{n-2}\\ \\mbox{for $n\\ge 2$},\n",
    "\\end{equation}\n",
    "This means that we begin with the numbers $0$ and $1$ and then each successive number is the sum of the previous two.\n",
    "Thus we have\n",
    "\\begin{equation}\n",
    "0, 1, 1, 2, 3, 5, 8, 13,21,34, \\ldots\n",
    "\\end{equation}\n",
    "It is possible to find a <b>closed form</b> solution for any given Fibonacci number (e.g. if I want to get the 234th number, I don't have to count up all 233 preceding it). This is given by:\n",
    "\\begin{equation}\n",
    "f_n = \\frac{a^n - b^n}{a-b},\n",
    "\\end{equation}\n",
    "\n",
    "Here n represents the nth Fibonacci number and\n",
    "\n",
    "\\begin{equation}\n",
    "a = \\frac{1+\\sqrt{5}}{2},\n",
    "\\quad\\mbox{and}\\quad\n",
    "b = \\frac{1-\\sqrt{5}}{2}.\n",
    "\\end{equation}\n",
    "<ul>\n",
    "    <li>How would you write down expressions for $a$ and $b$ in Python? Do it in a cell below.</li>\n",
    "    <li>In the another cell, do `type(a)` and `type(b)`. Are you happy with the results?</li>\n",
    "<li>How would you put those expressions together to make one large expression to calculate $f_4$ (we would call this the fourth number, but as we count from 0, this is actually the fifth number, which is 3)? Set the variable $n=4$ in one cell. Then in another cell write your $f_4$ by using the variables that you have already defined. </li>\n",
    "Check that you obtain the correct answer.\n",
    "</ul>"
   ]
  },
  {
   "cell_type": "code",
   "execution_count": null,
   "metadata": {
    "id": "rRnmqBpune1Z"
   },
   "outputs": [],
   "source": []
  },
  {
   "cell_type": "code",
   "execution_count": null,
   "metadata": {
    "id": "r_xY-Up-MMyQ"
   },
   "outputs": [],
   "source": []
  },
  {
   "cell_type": "code",
   "execution_count": null,
   "metadata": {
    "id": "xAoGRPAxMUBk"
   },
   "outputs": [],
   "source": []
  },
  {
   "cell_type": "code",
   "execution_count": null,
   "metadata": {
    "id": "F33VGaG0MdcY"
   },
   "outputs": [],
   "source": []
  },
  {
   "cell_type": "markdown",
   "metadata": {
    "id": "VketQw3Kne1Z"
   },
   "source": [
    "HINTS:\n",
    "<ul>\n",
    "<li> First ensure that you are able to calculate the expressions for $a$ and $b$, by typing their right-hand sides into the cell and checking the result (approximate values are $a\\simeq 1.618$ and $b\\simeq -0.618$). </li>\n",
    "<li> Using pen and paper, \\textbf{substitute the algebraic expressions} for $a$ and $b$ into $f_n$ with $n=4$. Carefully introduce pairs of brackets around any sub-expressions that need to be bracketed in order to override the usual BODMAS/BIDMAS operator precedence.</li>\n",
    "<li> Check that your brackets balance properly! Check that the corresponding pairs of brackets really do surround the correct sub-expressions. Try to use brackets only where needed.</li>\n",
    "<li> Once you have planned how to type in the complicated expression for $f_4$, try it out in the interpreter window and check that you get the correct result (compare with the Fibonacci sequence above, which gives $f_0, f_1,f_2,\\ldots$).</li>\n",
    "    <li> Was the result <b>exactly</b> correct? If not, subtract your answer from the correct answer, to see how large the error was (it should be rather small).</li>\n",
    "</ul>"
   ]
  },
  {
   "cell_type": "code",
   "execution_count": null,
   "metadata": {
    "id": "ypcVyqZ_ne1Z"
   },
   "outputs": [],
   "source": []
  }
 ],
 "metadata": {
  "colab": {
   "provenance": []
  },
  "kernelspec": {
   "display_name": "Python 3 (ipykernel)",
   "language": "python",
   "name": "python3"
  },
  "language_info": {
   "codemirror_mode": {
    "name": "ipython",
    "version": 3
   },
   "file_extension": ".py",
   "mimetype": "text/x-python",
   "name": "python",
   "nbconvert_exporter": "python",
   "pygments_lexer": "ipython3",
   "version": "3.9.7"
  }
 },
 "nbformat": 4,
 "nbformat_minor": 1
}
