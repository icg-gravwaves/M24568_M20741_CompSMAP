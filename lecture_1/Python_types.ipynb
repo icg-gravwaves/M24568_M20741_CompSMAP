{
 "cells": [
  {
   "cell_type": "markdown",
   "id": "02484556",
   "metadata": {},
   "source": [
    "# Getting started - Python objects, basic types, and variables\n",
    "\n",
    "Everything in Python is an **object** and every object in Python has a **type**. Some of the basic types include:\n",
    "\n",
    "- **`int`** (integer; a whole number with no decimal place)\n",
    "  - `10`\n",
    "  - `-3`\n",
    "- **`float`** (float; a number that has a decimal place)\n",
    "  - `7.41`\n",
    "  - `-0.006`\n",
    "- **`str`** (string; a sequence of characters enclosed in single quotes, double quotes, or triple quotes)\n",
    "  - `'this is a string using single quotes'`\n",
    "  - `\"this is a string using double quotes\"`\n",
    "  - `'''this is a triple quoted string using single quotes'''`\n",
    "  - `\"\"\"this is a triple quoted string using double quotes\"\"\"`\n",
    "- **`bool`** (boolean; a binary value that is either true or false)\n",
    "  - `True`\n",
    "  - `False`\n",
    "- **`NoneType`** (a special type representing the absence of a value)\n",
    "  - `None`\n",
    "\n",
    "In Python, a **variable** is a name you specify in your code that maps to a particular **object**, object **instance**, or value.\n",
    "\n",
    "By defining variables, we can refer to things by names that make sense to us. Names for variables can only contain letters, underscores (`_`), or numbers (no spaces, dashes, or other characters). Variable names must start with a letter or underscore.\n"
   ]
  }
 ],
 "metadata": {
  "kernelspec": {
   "display_name": "Python 3 (ipykernel)",
   "language": "python",
   "name": "python3"
  },
  "language_info": {
   "codemirror_mode": {
    "name": "ipython",
    "version": 3
   },
   "file_extension": ".py",
   "mimetype": "text/x-python",
   "name": "python",
   "nbconvert_exporter": "python",
   "pygments_lexer": "ipython3",
   "version": "3.9.7"
  }
 },
 "nbformat": 4,
 "nbformat_minor": 5
}
