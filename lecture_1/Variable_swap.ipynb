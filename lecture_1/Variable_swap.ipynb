{
 "cells": [
  {
   "cell_type": "markdown",
   "id": "ef555796",
   "metadata": {},
   "source": [
    "# Swapping Variables\n",
    "\n",
    "One more quick exercise to test your understanding of variables.\n",
    "\n",
    "You have two variables `x` and `y`. You want to swap their values so that the value of `x` is stored in `y` and the value of `y` is stored in `x`.\n",
    "\n",
    "Here is some code I have written to do that. Will this code work? ... Think about it before running the cell in Colab."
   ]
  },
  {
   "cell_type": "code",
   "execution_count": 1,
   "id": "9f53e804",
   "metadata": {},
   "outputs": [],
   "source": [
    "x = 5\n",
    "y = 4\n",
    "y = x\n",
    "x = y"
   ]
  },
  {
   "cell_type": "markdown",
   "id": "f0185ed1",
   "metadata": {},
   "source": [
    "In the cell below try to print x and y:"
   ]
  },
  {
   "cell_type": "code",
   "execution_count": null,
   "id": "6294bc4a",
   "metadata": {},
   "outputs": [],
   "source": []
  },
  {
   "cell_type": "markdown",
   "id": "c00502dd",
   "metadata": {},
   "source": [
    "Did we get the expected output `y=5` and `x=4`? If not, why not."
   ]
  },
  {
   "cell_type": "code",
   "execution_count": null,
   "id": "9740b644",
   "metadata": {},
   "outputs": [],
   "source": []
  },
  {
   "cell_type": "markdown",
   "id": "74824b40",
   "metadata": {},
   "source": [
    "Here is another attempt at doing this"
   ]
  },
  {
   "cell_type": "code",
   "execution_count": 2,
   "id": "3f6a15b0",
   "metadata": {},
   "outputs": [],
   "source": [
    "x = 5\n",
    "y = 4\n",
    "temp_var = y\n",
    "y = x\n",
    "x = temp_var"
   ]
  },
  {
   "cell_type": "markdown",
   "id": "4e89023a",
   "metadata": {},
   "source": [
    "Again, try printing `x` and `y`, is it correct now? Consider what happened here from the computer's perspective? Do you understand why one method worked and the other didn't? If not: Ask one of us!"
   ]
  }
 ],
 "metadata": {
  "kernelspec": {
   "display_name": "Python 3 (ipykernel)",
   "language": "python",
   "name": "python3"
  },
  "language_info": {
   "codemirror_mode": {
    "name": "ipython",
    "version": 3
   },
   "file_extension": ".py",
   "mimetype": "text/x-python",
   "name": "python",
   "nbconvert_exporter": "python",
   "pygments_lexer": "ipython3",
   "version": "3.9.7"
  }
 },
 "nbformat": 4,
 "nbformat_minor": 5
}
