{
 "cells": [
  {
   "cell_type": "markdown",
   "id": "06bd75e7",
   "metadata": {},
   "source": [
    "# Type Conversion - A quick interactive intro\n",
    "\n",
    "The name of the type is also a function that converts an object to that type (if possible). For instance, you can turn an integer to a float by doing `float(5)`.\n",
    "\n",
    " 1. Convert a float to an integer. What does it do with the decimal part? (Try a few to be sure)\n",
    " 2. What kind of strings can be converted to int or float?"
   ]
  },
  {
   "cell_type": "code",
   "execution_count": null,
   "id": "f17d1e84",
   "metadata": {},
   "outputs": [],
   "source": []
  },
  {
   "cell_type": "code",
   "execution_count": null,
   "id": "9aca2229",
   "metadata": {},
   "outputs": [],
   "source": []
  }
 ],
 "metadata": {
  "kernelspec": {
   "display_name": "Python 3 (ipykernel)",
   "language": "python",
   "name": "python3"
  },
  "language_info": {
   "codemirror_mode": {
    "name": "ipython",
    "version": 3
   },
   "file_extension": ".py",
   "mimetype": "text/x-python",
   "name": "python",
   "nbconvert_exporter": "python",
   "pygments_lexer": "ipython3",
   "version": "3.9.7"
  }
 },
 "nbformat": 4,
 "nbformat_minor": 5
}
