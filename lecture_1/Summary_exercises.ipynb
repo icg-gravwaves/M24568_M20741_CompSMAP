{
 "cells": [
  {
   "cell_type": "markdown",
   "id": "8c603d1d",
   "metadata": {},
   "source": [
    "# Summary exercises"
   ]
  },
  {
   "cell_type": "markdown",
   "id": "dcc718a9",
   "metadata": {},
   "source": [
    "## Exercise 1\n",
    "\n",
    "In the cell below assign your three favourite digits to three variables, \n",
    "- `fav_num1`, `fav_num2`, `fav_num3`"
   ]
  },
  {
   "cell_type": "code",
   "execution_count": null,
   "id": "c4447815",
   "metadata": {},
   "outputs": [],
   "source": []
  },
  {
   "cell_type": "markdown",
   "id": "9160660e",
   "metadata": {},
   "source": [
    "In the cell below, display \n",
    "\n",
    "`fav_num1 + fav_num2 - fav_num3`"
   ]
  },
  {
   "cell_type": "code",
   "execution_count": null,
   "id": "23988cf9",
   "metadata": {},
   "outputs": [],
   "source": []
  },
  {
   "cell_type": "markdown",
   "id": "f34e7c9d",
   "metadata": {},
   "source": [
    "Now try:\n",
    "\n",
    "$$\\frac{\\mbox{fav_num1} + \\mbox{fav_num2}}{\\mbox{fav_num2} - \\mbox{fav_num3}}$$\n",
    "\n",
    "you need to put both numerator and denominator in (separate) round brackets, and use / for the __fraction bar__.\n",
    "Please try it in the cell below. "
   ]
  },
  {
   "cell_type": "code",
   "execution_count": null,
   "id": "276e1182",
   "metadata": {},
   "outputs": [],
   "source": []
  },
  {
   "cell_type": "markdown",
   "id": "5a69badd",
   "metadata": {},
   "source": [
    "Now try \n",
    "\n",
    "$$\\mbox{fav_num1}  + \\frac{\\mbox{fav_num2}}{\\mbox{fav_num3}} - \\mbox{fav_num2} $$"
   ]
  },
  {
   "cell_type": "code",
   "execution_count": null,
   "id": "2515999e",
   "metadata": {},
   "outputs": [],
   "source": []
  },
  {
   "cell_type": "markdown",
   "id": "384d0f42",
   "metadata": {},
   "source": [
    "In the cell below, display\n",
    "\n",
    "$$(\\mbox{fav_num1})^{ (\\mbox{fav_num3})}$$\n",
    "\n",
    "that is, __fav_num1__ to the power of __fav_num3__. "
   ]
  },
  {
   "cell_type": "code",
   "execution_count": null,
   "id": "8d443147",
   "metadata": {},
   "outputs": [],
   "source": []
  },
  {
   "cell_type": "markdown",
   "id": "9738b2cc",
   "metadata": {},
   "source": [
    "Now try some boolean expressions: \n",
    "\n",
    "In the cells below evaluate the expressions above these empty cells:\n",
    "\n",
    "$$\\mbox{fav_num1} < \\mbox{fav_num3}$$"
   ]
  },
  {
   "cell_type": "code",
   "execution_count": null,
   "id": "dd80868b",
   "metadata": {},
   "outputs": [],
   "source": []
  },
  {
   "cell_type": "markdown",
   "id": "e9ea320e",
   "metadata": {},
   "source": [
    "$$\\mbox{fav_num2} > \\mbox{fav_num3}$$"
   ]
  },
  {
   "cell_type": "code",
   "execution_count": null,
   "id": "71177399",
   "metadata": {},
   "outputs": [],
   "source": []
  },
  {
   "cell_type": "markdown",
   "id": "f66aa30e",
   "metadata": {},
   "source": [
    "$$\\mbox{fav_num2} <= \\mbox{fav_num1}$$"
   ]
  },
  {
   "cell_type": "code",
   "execution_count": null,
   "id": "a51a403d",
   "metadata": {},
   "outputs": [],
   "source": []
  },
  {
   "cell_type": "markdown",
   "id": "c822abc7",
   "metadata": {},
   "source": [
    "$$\\mbox{fav_num3} >= \\mbox{fav_num2}$$"
   ]
  },
  {
   "cell_type": "code",
   "execution_count": null,
   "id": "aa5fe6ca",
   "metadata": {},
   "outputs": [],
   "source": []
  },
  {
   "cell_type": "markdown",
   "id": "53ffa5fe",
   "metadata": {},
   "source": [
    "$$\\mbox{fav_num1} == \\mbox{fav_num1}$$"
   ]
  },
  {
   "cell_type": "code",
   "execution_count": null,
   "id": "1eea8c30",
   "metadata": {},
   "outputs": [],
   "source": []
  },
  {
   "cell_type": "markdown",
   "id": "974d1e2f",
   "metadata": {},
   "source": [
    "$$\\mbox{fav_num1} != \\mbox{fav_num2}$$"
   ]
  },
  {
   "cell_type": "code",
   "execution_count": null,
   "id": "73a52ae9",
   "metadata": {},
   "outputs": [],
   "source": []
  },
  {
   "cell_type": "markdown",
   "id": "49099292",
   "metadata": {},
   "source": [
    "## Exercise 2\n",
    "\n",
    "What results do the following expressions produce, when typed into the cells below (each one to a new cell. Make new cells as needed)\n",
    "\n",
    "* `1+1`   \n",
    "* `1+3-8`   \n",
    "* `2*3`   \n",
    "* `4/2`  \n",
    "* `1/3`    \n",
    "* `1//3`  \n",
    "* `2**2`\n",
    "* `2**3`\n",
    "* `2**0.5`\n",
    "* `5 % 3`"
   ]
  },
  {
   "cell_type": "code",
   "execution_count": null,
   "id": "b48cce1d",
   "metadata": {},
   "outputs": [],
   "source": []
  },
  {
   "cell_type": "markdown",
   "id": "0d20dd80",
   "metadata": {},
   "source": [
    "## Exercise 3\n",
    "\n",
    "In Mathematical notation, we often omit the multiplication symbol. What happens in a Python expression such as\n",
    "$2 \\times 3$ if you omit the multiplication and use a space instead? (Make a note of what you find.)"
   ]
  },
  {
   "cell_type": "code",
   "execution_count": null,
   "id": "f3f88f4b",
   "metadata": {},
   "outputs": [],
   "source": []
  },
  {
   "cell_type": "markdown",
   "id": "de756068",
   "metadata": {},
   "source": [
    "## Exercise 4\n",
    "\n",
    "In Maths and Physics, we often deal with expressions involving unknowns. What happens if you type the following into the cell below?\n",
    "\n",
    "$$ 2 + x + x $$"
   ]
  },
  {
   "cell_type": "code",
   "execution_count": null,
   "id": "b8c22b0e",
   "metadata": {},
   "outputs": [],
   "source": []
  },
  {
   "cell_type": "markdown",
   "id": "d7c8e138",
   "metadata": {},
   "source": [
    "In general, Python requires all objects involved in an expression to have <b>known</b> values. Later in the year we will discuss symbolic programming, but let's get the basics first."
   ]
  },
  {
   "cell_type": "markdown",
   "id": "b3ba95f4",
   "metadata": {},
   "source": [
    "## Exercise 5\n",
    "\n",
    "Try typing the following sentence into the cell below: <b>\"Hello World\"</b>.\n",
    "What happens if you omit the quotation marks?"
   ]
  },
  {
   "cell_type": "code",
   "execution_count": null,
   "id": "7c922797",
   "metadata": {},
   "outputs": [],
   "source": []
  },
  {
   "cell_type": "markdown",
   "id": "f74e020f",
   "metadata": {},
   "source": [
    "## Exercise 6\n",
    "\n",
    "Integers and real numbers are represented in different ways inside the computer. In Python, integers are represented by a type called <b>int</b>. To approximate real numbers in Python we have floating-point numbers, represented by a type called <b>float</b>. Thus the number $1$ in Python is an <b>int</b>, where as the number $1.0$ is a <b>float</b>.\n",
    "\n",
    "What do the following expressions evaluate to, when put into the below cells (each in an individual cell)?\n",
    "<ul>\n",
    "<li>type(3)</li>\n",
    "<li>type(-5)</li>\n",
    "<li>type(1.02)</li>\n",
    "<li>type(\"test\")</li>\n",
    "<li>type(\"Hello World\")</li>\n",
    "</ul>"
   ]
  },
  {
   "cell_type": "code",
   "execution_count": null,
   "id": "68094802",
   "metadata": {},
   "outputs": [],
   "source": []
  },
  {
   "cell_type": "markdown",
   "id": "83a86189",
   "metadata": {},
   "source": [
    "<b>For each arithmetic operation, there are two versions: \n",
    "\n",
    "(a) the version between integers, and \n",
    "\n",
    "(b) the version between floats. </b>  \n",
    "\n",
    "These two sets of operations work in different ways. Python decides which operation to use, based on the types of the operands. So, if we write **1+2**, then integer addition is used, because both operands are integers. If we write **1.0 + 2.0**, then float addition is used, because both operands are floats. For addition, subtraction, and multiplication, this doesn't matter very much, because performing these operations between two integers always produces another integer in everyday mathematics. \n",
    "\n",
    "<b>Integer division:</b>  In a division operation involving only integers, many programming languages will perform <b>pure integer division</b>, producing only the integer part of the result. This is not the case in Python 3, the integer division can be executed by using $//$."
   ]
  },
  {
   "cell_type": "markdown",
   "id": "201501c5",
   "metadata": {},
   "source": [
    "## Exercise 7 - The importance of correct bracketing.\n",
    "\n",
    "Let's assume we are trying to compute $\\frac{2+4}{2}$. What does `2+4/2`\n",
    "produce in Python? Try it in the cell below. "
   ]
  },
  {
   "cell_type": "code",
   "execution_count": null,
   "id": "bfb73200",
   "metadata": {},
   "outputs": [],
   "source": []
  },
  {
   "cell_type": "markdown",
   "id": "0de2a590",
   "metadata": {},
   "source": [
    "Can you explain this behaviour? What needs to be done to fix the\n",
    "calculation? Try fixing it in the cell below. "
   ]
  },
  {
   "cell_type": "code",
   "execution_count": null,
   "id": "4eb877dc",
   "metadata": {},
   "outputs": [],
   "source": []
  },
  {
   "cell_type": "markdown",
   "id": "33a66bb9",
   "metadata": {},
   "source": [
    "## Exercise 8\n",
    "\n",
    "How should the following expression be entered in the below cell, in\n",
    "order to be sure to come up with the correct answer?\n",
    "\n",
    "$$\\frac{1 + \\sqrt{5}}{2} - 2^3 $$"
   ]
  },
  {
   "cell_type": "code",
   "execution_count": null,
   "id": "fdb51f93",
   "metadata": {},
   "outputs": [],
   "source": []
  },
  {
   "cell_type": "markdown",
   "id": "8a9eea13",
   "metadata": {},
   "source": [
    "HINT: You can get the square root by using 5 to the power of 0.5?"
   ]
  },
  {
   "cell_type": "markdown",
   "id": "1f8a4757",
   "metadata": {},
   "source": [
    "## Exercise 9\n",
    "\n",
    "Now we assign the numbers to the following variables, \n",
    "\n",
    "$$\n",
    "a = 1+ \\sqrt{5},\\\\ \n",
    "b = 2, \\\\\n",
    "c = b^3. \n",
    "$$\n",
    "\n",
    "Please do it in the cell below. "
   ]
  },
  {
   "cell_type": "code",
   "execution_count": null,
   "id": "d0513376",
   "metadata": {},
   "outputs": [],
   "source": []
  },
  {
   "cell_type": "markdown",
   "id": "4ee372d1",
   "metadata": {},
   "source": [
    "Now in the cell below write the following\n",
    "\n",
    "$$ \\frac{a}{b} - c$$\n",
    "\n",
    "Compare the answer with the one from Exercise 8. "
   ]
  },
  {
   "cell_type": "code",
   "execution_count": null,
   "id": "90aec7c1",
   "metadata": {},
   "outputs": [],
   "source": []
  },
  {
   "cell_type": "markdown",
   "id": "39be3115",
   "metadata": {},
   "source": [
    "## Exercise 10 - CHALLENGING(!)\n",
    "\n",
    "The famous Fibonacci Numbers are given by the sequence\n",
    "\n",
    "$$\n",
    "f_0 = 0,\\quad f_1 = 1,\\quad f_n = f_{n-1}+f_{n-2}\\ \\mbox{for $n\\ge 2$},\n",
    "$$\n",
    "\n",
    "This means that we begin with the numbers $0$ and $1$ and then each successive number is the sum of the previous two.\n",
    "Thus we have\n",
    "\n",
    "$$\n",
    "0, 1, 1, 2, 3, 5, 8, 13,21,34, \\ldots\n",
    "$$\n",
    "\n",
    "It is possible to find a <b>closed form</b> solution for any given Fibonacci number (e.g. if I want to get the 234th number, I don't have to count up all 233 preceding it). This is given by:\n",
    "\n",
    "$$\n",
    "f_n = \\frac{a^n - b^n}{a-b},\n",
    "$$\n",
    "\n",
    "Here n represents the nth Fibonacci number and\n",
    "\n",
    "$$\n",
    "a = \\frac{1+\\sqrt{5}}{2},\n",
    "\\quad\\mbox{and}\\quad\n",
    "b = \\frac{1-\\sqrt{5}}{2}.\n",
    "$$\n",
    "\n",
    "* How would you write down expressions for $a$ and $b$ in Python? Do it in a cell below.\n",
    "* In the another cell, do `type(a)` and `type(b)`. Are you happy with the results?\n",
    "* How would you put those expressions together to make one large expression to calculate $f_4$ (we would call this the fourth number, but as we count from 0, this is actually the fifth number, which is 3)? Set the variable $n=4$ in one cell. Then in another cell write your $f_4$ by using the variables that you have already defined.\n",
    "* Check that you obtain the correct answer.\n"
   ]
  },
  {
   "cell_type": "code",
   "execution_count": null,
   "id": "e6e49ff5",
   "metadata": {},
   "outputs": [],
   "source": []
  },
  {
   "cell_type": "code",
   "execution_count": null,
   "id": "941155bc",
   "metadata": {},
   "outputs": [],
   "source": []
  },
  {
   "cell_type": "code",
   "execution_count": null,
   "id": "62f3522a",
   "metadata": {},
   "outputs": [],
   "source": []
  },
  {
   "cell_type": "markdown",
   "id": "dc35a0dd",
   "metadata": {},
   "source": [
    "HINTS:\n",
    "\n",
    "\n",
    "* First ensure that you are able to calculate the expressions for $a$ and $b$, by typing their right-hand sides into the cell and checking the result (approximate values are $a\\simeq 1.618$ and $b\\simeq -0.618$).\n",
    "* Using pen and paper, **substitute the algebraic expressions** for $a$ and $b$ into $f_n$ with $n=4$. Carefully introduce pairs of brackets around any sub-expressions that need to be bracketed in order to override the usual BODMAS/BIDMAS operator precedence.\n",
    "* Check that your brackets balance properly! Check that the corresponding pairs of brackets really do surround the correct sub-expressions. Try to use brackets only where needed.\n",
    "* Once you have planned how to type in the complicated expression for $f_4$, try it out in the interpreter window and check that you get the correct result (compare with the Fibonacci sequence above, which gives $f_0, f_1,f_2,\\ldots$).\n",
    "* Was the result **exactly** correct? If not, subtract your answer from the correct answer, to see how large the error was (it should be rather small)."
   ]
  },
  {
   "cell_type": "code",
   "execution_count": null,
   "id": "c91b271f",
   "metadata": {},
   "outputs": [],
   "source": []
  }
 ],
 "metadata": {
  "kernelspec": {
   "display_name": "Python 3 (ipykernel)",
   "language": "python",
   "name": "python3"
  },
  "language_info": {
   "codemirror_mode": {
    "name": "ipython",
    "version": 3
   },
   "file_extension": ".py",
   "mimetype": "text/x-python",
   "name": "python",
   "nbconvert_exporter": "python",
   "pygments_lexer": "ipython3",
   "version": "3.9.7"
  }
 },
 "nbformat": 4,
 "nbformat_minor": 5
}
