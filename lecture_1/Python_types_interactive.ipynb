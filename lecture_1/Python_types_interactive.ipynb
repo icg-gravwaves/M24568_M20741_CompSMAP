{
 "cells": [
  {
   "cell_type": "markdown",
   "id": "841719fd",
   "metadata": {},
   "source": [
    "# INTERACTIVE: Checking object types in Python\n",
    "\n",
    "This is our first interactive exercise. Click the button at the top to open this notebook in Colab, and run through the exercises interactively there!\n",
    "\n",
    "In order to check the type of an object, we use `type(<input_object>)`, where `<input_object>` is your input. \n",
    "Try the following (remember <shift> + <enter> to run the cells!):"
   ]
  },
  {
   "cell_type": "code",
   "execution_count": 1,
   "id": "5d2f2b3d",
   "metadata": {},
   "outputs": [
    {
     "name": "stdout",
     "output_type": "stream",
     "text": [
      "<class 'int'>\n"
     ]
    }
   ],
   "source": [
    "print(type(10))"
   ]
  },
  {
   "cell_type": "code",
   "execution_count": 2,
   "id": "715677dc",
   "metadata": {},
   "outputs": [
    {
     "name": "stdout",
     "output_type": "stream",
     "text": [
      "<class 'float'>\n"
     ]
    }
   ],
   "source": [
    "print(type(10.0))"
   ]
  },
  {
   "cell_type": "code",
   "execution_count": 3,
   "id": "ad876280",
   "metadata": {},
   "outputs": [
    {
     "name": "stdout",
     "output_type": "stream",
     "text": [
      "<class 'int'>\n"
     ]
    }
   ],
   "source": [
    "print(type(-3))"
   ]
  },
  {
   "cell_type": "code",
   "execution_count": 4,
   "id": "e9d85f05",
   "metadata": {},
   "outputs": [
    {
     "name": "stdout",
     "output_type": "stream",
     "text": [
      "<class 'float'>\n"
     ]
    }
   ],
   "source": [
    "print(type(3.14))"
   ]
  },
  {
   "cell_type": "code",
   "execution_count": 5,
   "id": "d97ee69e",
   "metadata": {},
   "outputs": [
    {
     "name": "stdout",
     "output_type": "stream",
     "text": [
      "<class 'str'>\n"
     ]
    }
   ],
   "source": [
    "print(type(\"this is a string\"))"
   ]
  },
  {
   "cell_type": "code",
   "execution_count": 6,
   "id": "93c4fa7a",
   "metadata": {},
   "outputs": [
    {
     "name": "stdout",
     "output_type": "stream",
     "text": [
      "<class 'str'>\n"
     ]
    }
   ],
   "source": [
    "print(type('this is also a string'))"
   ]
  },
  {
   "cell_type": "code",
   "execution_count": 7,
   "id": "6b8852f2",
   "metadata": {},
   "outputs": [
    {
     "name": "stdout",
     "output_type": "stream",
     "text": [
      "<class 'bool'>\n"
     ]
    }
   ],
   "source": [
    "print(type(True))"
   ]
  },
  {
   "cell_type": "code",
   "execution_count": 8,
   "id": "b63251bd",
   "metadata": {},
   "outputs": [
    {
     "name": "stdout",
     "output_type": "stream",
     "text": [
      "<class 'str'>\n"
     ]
    }
   ],
   "source": [
    "print(type(\"True\"))"
   ]
  },
  {
   "cell_type": "code",
   "execution_count": 9,
   "id": "c3084fc2",
   "metadata": {},
   "outputs": [
    {
     "name": "stdout",
     "output_type": "stream",
     "text": [
      "<class 'NoneType'>\n"
     ]
    }
   ],
   "source": [
    "print(type(None))"
   ]
  },
  {
   "cell_type": "markdown",
   "id": "fd452b7f",
   "metadata": {},
   "source": [
    "Did all of that make sense? Was any answer unexpected? If so, ask one of us! This course relies on us discussing anything that's not clear, so make sure to talk to us.\n",
    "\n",
    "Note that we have used the `print( .. )` command here. Anything within `print( .. )` will be printed after the cell runs."
   ]
  },
  {
   "cell_type": "markdown",
   "id": "cdb01821",
   "metadata": {},
   "source": [
    "## Quick Exercise\n",
    "\n",
    "What is the correct type of\n",
    "- a) 4.5\n",
    "- b) 1.0\n",
    "- c) 2\n",
    "- d) \"Hello World\"\n",
    "- e) False\n",
    "- f) \"False\"\n",
    "\n",
    "Please check your answers in the cell below, by using `type()`. You can put multiple `print( .. )` statements in the same cell, try it!"
   ]
  },
  {
   "cell_type": "code",
   "execution_count": null,
   "id": "58a8322c",
   "metadata": {},
   "outputs": [],
   "source": []
  },
  {
   "cell_type": "markdown",
   "id": "8f46daf9",
   "metadata": {},
   "source": [
    "## Printing results \n",
    "\n",
    "In order to print results in the same cell, one below the other. Use <b>print (<your_expression>) </b> as follows\n",
    "\n",
    " "
   ]
  },
  {
   "cell_type": "code",
   "execution_count": 10,
   "id": "8e2c28b9",
   "metadata": {},
   "outputs": [
    {
     "name": "stdout",
     "output_type": "stream",
     "text": [
      "You can use multiple\n",
      "lines in a cell\n",
      "This works for all python operations\n",
      "not just the print statement\n"
     ]
    }
   ],
   "source": [
    "print(\"You can use multiple\")\n",
    "print(\"lines in a cell\")\n",
    "print(\"This works for all python operations\")\n",
    "print(\"not just the print statement\")"
   ]
  }
 ],
 "metadata": {
  "kernelspec": {
   "display_name": "Python 3 (ipykernel)",
   "language": "python",
   "name": "python3"
  },
  "language_info": {
   "codemirror_mode": {
    "name": "ipython",
    "version": 3
   },
   "file_extension": ".py",
   "mimetype": "text/x-python",
   "name": "python",
   "nbconvert_exporter": "python",
   "pygments_lexer": "ipython3",
   "version": "3.9.7"
  }
 },
 "nbformat": 4,
 "nbformat_minor": 5
}
