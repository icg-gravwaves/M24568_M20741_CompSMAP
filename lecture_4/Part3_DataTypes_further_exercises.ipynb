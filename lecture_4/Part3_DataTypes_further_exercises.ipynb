{
 "cells": [
  {
   "cell_type": "markdown",
   "metadata": {
    "id": "Lt8xWPj9owLq"
   },
   "source": [
    "# Further exercises on sets, tuples and dictionaries"
   ]
  },
  {
   "cell_type": "markdown",
   "metadata": {
    "id": "BNXkatG3mJxX"
   },
   "source": [
    "## Exercise 1\n",
    "\n",
    "Write a function `disjoint_sets` that will take as input two sets and determine if they are \"disjoint\". If they are disjoint it should return `True` otherwise it returns `False`.  Two sets are disjoint if no element is found in both sets. Construct some example scenarios to test that your function does what it should.\n",
    "\n",
    "For example:\n",
    "\n",
    "`disjoint_sets(set([0,1,2]), set([3,4,5]))` should return `True`, there are no common elements.\n",
    "\n",
    "`disjoint_sets(set([0,1,2,3]), set([3,4,5]))` should return `False`, there are common elements.\n"
   ]
  },
  {
   "cell_type": "code",
   "execution_count": null,
   "metadata": {
    "id": "ZWrtfK1_mG0-"
   },
   "outputs": [],
   "source": []
  },
  {
   "cell_type": "markdown",
   "metadata": {
    "id": "RX4df3dHmmdq"
   },
   "source": [
    "## Exercise 2\n",
    "\n",
    "In the code cell below you have a set and a list. Add all the things in the list `sample_list` to the set. You should end up with\n",
    "\n",
    "`sample_set= {'Green', 'Yellow', 'Black', 'Orange', 'Red', 'Blue'}`\n",
    "\n",
    "(Thanks to pynative.com for the example exercise!)"
   ]
  },
  {
   "cell_type": "code",
   "execution_count": null,
   "metadata": {
    "id": "f8QPB4fPmG9u"
   },
   "outputs": [],
   "source": [
    "sample_set = {\"Yellow\", \"Orange\", \"Black\"}\n",
    "sample_list = [\"Blue\", \"Green\", \"Red\"]\n",
    "\n",
    "sample_set"
   ]
  },
  {
   "cell_type": "markdown",
   "metadata": {
    "id": "_WrXyK6TnPEa"
   },
   "source": [
    "## Exercise 3\n",
    "\n",
    "Write a function `remove_items_from_set` that will take as input two sets and return a set containing the elements that exist only in the first set and not in the second set. I constructed some example scenarios to test that your function does what it should.\n",
    "\n",
    "For example:\n",
    "\n",
    "`remove_items_from_set(set([0,1,2]), set([3,4,5]))` should return `set([0,1,2])`.\n",
    "\n",
    "`remove_items_from_set(set([0,2,3]), set([3,4,5]))` should return `set([0,2])`.\n"
   ]
  },
  {
   "cell_type": "code",
   "execution_count": null,
   "metadata": {
    "id": "hN750evCoSTd"
   },
   "outputs": [],
   "source": []
  },
  {
   "cell_type": "markdown",
   "metadata": {
    "id": "goGCRBWioScz"
   },
   "source": [
    "## Exercise 4\n",
    "\n",
    "In your Google colab environment you can find some example data files. We'll show how to parse some of these in later weeks, but for now print the contents of the `README` file to understand what this data is.\n",
    "\n",
    "HINT: The README file can be opened with:\n",
    "\n",
    "`open('sample_data/README.md', 'r')`"
   ]
  },
  {
   "cell_type": "code",
   "execution_count": null,
   "metadata": {
    "id": "xFl8nafpouI1"
   },
   "outputs": [],
   "source": []
  },
  {
   "cell_type": "markdown",
   "metadata": {
    "id": "WTgCHXqHpLab"
   },
   "source": [
    "## Exercise 5\n",
    "\n",
    "In the code cell below you can see two lists. Convert this into a dictionary. You should get:\n",
    "\n",
    "`{'Ten': 10, 'Twenty': 20, 'Thirty': 30}`\n",
    "\n",
    "when printing the dictionary.\n",
    "\n",
    "(Thanks to pynative.com)\n"
   ]
  },
  {
   "cell_type": "code",
   "execution_count": null,
   "metadata": {
    "id": "P4PrCl6mpKi1"
   },
   "outputs": [],
   "source": [
    "keys = ['Ten', 'Twenty', 'Thirty']\n",
    "values = [10, 20, 30]\n"
   ]
  },
  {
   "cell_type": "markdown",
   "metadata": {
    "id": "g-u_npljpl8G"
   },
   "source": [
    "## Exercise 6\n",
    "\n",
    "In the cell below you can see two dictionaries. Combine these together into one dictionary. You should get:\n",
    "\n",
    "`{'Ten': 10, 'Twenty': 20, 'Thirty': 30, 'Fourty': 40, 'Fifty': 50}`\n",
    "\n",
    "(credit to pynative.com)"
   ]
  },
  {
   "cell_type": "code",
   "execution_count": null,
   "metadata": {
    "id": "iqZJTHSOps_T"
   },
   "outputs": [],
   "source": [
    "dict1 = {'Ten': 10, 'Twenty': 20, 'Thirty': 30}\n",
    "dict2 = {'Thirty': 30, 'Fourty': 40, 'Fifty': 50}"
   ]
  },
  {
   "cell_type": "markdown",
   "metadata": {
    "id": "JuWZmmWIpvzf"
   },
   "source": [
    "## Exercise 7\n",
    "\n",
    "In the cell below you can see quite a complicated dictionary. It contains dictionaries within dictionaries (and demonstrated how you could store a lot of data in a structured format). Print Mike's mark for history and for physics (without printing everything else). The output should just read:\n",
    "\n",
    "`70 80`\n",
    "\n",
    "(credit to pynative.com)"
   ]
  },
  {
   "cell_type": "code",
   "execution_count": null,
   "metadata": {
    "id": "HOf7OH5mpwfc"
   },
   "outputs": [],
   "source": [
    "sample_dict = {\n",
    "   \"class\":{\n",
    "      \"student\":{\n",
    "         \"name\":\"Mike\",\n",
    "         \"marks\":{\n",
    "            \"physics\":70,\n",
    "            \"history\":80\n",
    "         }\n",
    "      }\n",
    "   }\n",
    "}\n"
   ]
  },
  {
   "cell_type": "markdown",
   "metadata": {
    "id": "kEY5TgYAq5Tp"
   },
   "source": [
    "## Exercise 8\n",
    "\n",
    "In the code cell below a tuple is defined. Reverse it. You should get:\n",
    "\n",
    "`(50, 40, 30, 20, 10)`\n",
    "\n",
    "(credit to pynative.com)"
   ]
  },
  {
   "cell_type": "code",
   "execution_count": null,
   "metadata": {
    "id": "z9zr0Uqsq4tz"
   },
   "outputs": [],
   "source": [
    "a_tuple = (10, 20, 30, 40, 50)\n"
   ]
  },
  {
   "cell_type": "markdown",
   "metadata": {
    "id": "jl_qWLS4rEjf"
   },
   "source": [
    "## Exercise 9\n",
    "\n",
    "In the code cell below is a tuple containing a few different things. One of these things is a list, whose second item is `20`. Complete the line below to get the code to print `20`\n",
    "\n",
    "(credit to pynative.com)"
   ]
  },
  {
   "cell_type": "code",
   "execution_count": null,
   "metadata": {
    "id": "cDrt6ys_rErp"
   },
   "outputs": [],
   "source": [
    "a_tuple = (\"Orange\", [10, 20, 30], (5, 15, 25))\n",
    "\n",
    "print(a_tuple   # Complete this line so it prints `20`. Do not add another line."
   ]
  },
  {
   "cell_type": "markdown",
   "metadata": {
    "id": "11P5Q8E7ruYX"
   },
   "source": [
    "## Exercise 10\n",
    "\n",
    "In the code cell below is a tuple. Write a code to count how many times `50` occurs within this tuple."
   ]
  },
  {
   "cell_type": "code",
   "execution_count": null,
   "metadata": {
    "id": "8mzaVRbNrugn"
   },
   "outputs": [],
   "source": [
    "tuple1 = (50, 10, 60, 70, 50)"
   ]
  },
  {
   "cell_type": "code",
   "execution_count": null,
   "metadata": {
    "id": "Z-Bhg-PXowMa"
   },
   "outputs": [],
   "source": []
  }
 ],
 "metadata": {
  "colab": {
   "collapsed_sections": [
    "0VigoPDtowMa"
   ],
   "provenance": []
  },
  "kernelspec": {
   "display_name": "Python 3 (ipykernel)",
   "language": "python",
   "name": "python3"
  },
  "language_info": {
   "codemirror_mode": {
    "name": "ipython",
    "version": 3
   },
   "file_extension": ".py",
   "mimetype": "text/x-python",
   "name": "python",
   "nbconvert_exporter": "python",
   "pygments_lexer": "ipython3",
   "version": "3.9.7"
  }
 },
 "nbformat": 4,
 "nbformat_minor": 1
}
