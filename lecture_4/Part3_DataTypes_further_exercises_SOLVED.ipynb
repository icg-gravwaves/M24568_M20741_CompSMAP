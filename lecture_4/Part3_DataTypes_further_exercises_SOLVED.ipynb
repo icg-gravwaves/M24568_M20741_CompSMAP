{
 "cells": [
  {
   "cell_type": "markdown",
   "metadata": {
    "id": "uTRhrriUowMQ"
   },
   "source": [
    "# Further exercises on sets, tuples and dictionaries - SOLVED"
   ]
  },
  {
   "cell_type": "markdown",
   "metadata": {
    "id": "BNXkatG3mJxX"
   },
   "source": [
    "## Exercise 1\n",
    "\n",
    "Write a function `disjoint_sets` that will take as input two sets and determine if they are \"disjoint\". If they are disjoint it should return `True` otherwise it returns `False`.  Two sets are disjoint if no element is found in both sets. Construct some example scenarios to test that your function does what it should.\n",
    "\n",
    "For example:\n",
    "\n",
    "`disjoint_sets(set([0,1,2]), set([3,4,5]))` should return `True`, there are no common elements.\n",
    "\n",
    "`disjoint_sets(set([0,1,2,3]), set([3,4,5]))` should return `False`, there are common elements.\n"
   ]
  },
  {
   "cell_type": "code",
   "execution_count": null,
   "metadata": {
    "id": "ZWrtfK1_mG0-"
   },
   "outputs": [],
   "source": [
    "def disjoint_sets(set1, set2):\n",
    "    if len(set1 & set2) == 0:\n",
    "        return True\n",
    "    return False"
   ]
  },
  {
   "cell_type": "code",
   "execution_count": null,
   "metadata": {
    "colab": {
     "base_uri": "https://localhost:8080/"
    },
    "id": "lZS6EkGq4F3z",
    "outputId": "9ec7da7f-6918-48e1-a18c-24b9a3287eae"
   },
   "outputs": [
    {
     "data": {
      "text/plain": [
       "True"
      ]
     },
     "execution_count": 24,
     "metadata": {},
     "output_type": "execute_result"
    }
   ],
   "source": [
    "disjoint_sets(set([0,1,2]), set([3,4,5]))"
   ]
  },
  {
   "cell_type": "code",
   "execution_count": null,
   "metadata": {
    "colab": {
     "base_uri": "https://localhost:8080/"
    },
    "id": "vR7qKLOc4NIV",
    "outputId": "029323f2-8821-46bb-8ec6-4cc5811ad0be"
   },
   "outputs": [
    {
     "data": {
      "text/plain": [
       "False"
      ]
     },
     "execution_count": 25,
     "metadata": {},
     "output_type": "execute_result"
    }
   ],
   "source": [
    "disjoint_sets(set([0,1,2,3]), set([3,4,5]))"
   ]
  },
  {
   "cell_type": "markdown",
   "metadata": {
    "id": "RX4df3dHmmdq"
   },
   "source": [
    "## Exercise 2\n",
    "\n",
    "In the code cell below you have a set and a list. Add all the things in the list `sample_list` to the set. You should end up with\n",
    "\n",
    "`sample_set= {'Green', 'Yellow', 'Black', 'Orange', 'Red', 'Blue'}`\n",
    "\n",
    "(Thanks to pynative.com for the example exercise!)"
   ]
  },
  {
   "cell_type": "code",
   "execution_count": null,
   "metadata": {
    "colab": {
     "base_uri": "https://localhost:8080/"
    },
    "id": "f8QPB4fPmG9u",
    "outputId": "5fcdc684-9188-423f-cf9c-9c407e1d326b"
   },
   "outputs": [
    {
     "data": {
      "text/plain": [
       "{'Black', 'Orange', 'Yellow'}"
      ]
     },
     "execution_count": 26,
     "metadata": {},
     "output_type": "execute_result"
    }
   ],
   "source": [
    "sample_set = {\"Yellow\", \"Orange\", \"Black\"}\n",
    "sample_list = [\"Blue\", \"Green\", \"Red\"]\n",
    "\n",
    "sample_set"
   ]
  },
  {
   "cell_type": "code",
   "execution_count": null,
   "metadata": {
    "colab": {
     "base_uri": "https://localhost:8080/"
    },
    "id": "2JVg_2DP4X5S",
    "outputId": "661ae746-c127-4b2d-f196-d435b548a345"
   },
   "outputs": [
    {
     "data": {
      "text/plain": [
       "{'Black', 'Blue', 'Green', 'Orange', 'Red', 'Yellow'}"
      ]
     },
     "execution_count": 27,
     "metadata": {},
     "output_type": "execute_result"
    }
   ],
   "source": [
    "sample_set = set(sample_list) | sample_set\n",
    "sample_set"
   ]
  },
  {
   "cell_type": "markdown",
   "metadata": {
    "id": "_WrXyK6TnPEa"
   },
   "source": [
    "## Exercise 3\n",
    "\n",
    "Write a function `remove_items_from_set` that will take as input two sets and return a set containing that exist only in the first set and not in the second set. I Construct some example scenarios to test that your function does what it should.\n",
    "\n",
    "For example:\n",
    "\n",
    "`remove_items_from_set(set([0,1,2]), set([3,4,5]))` should return `set([0,1,2])`.\n",
    "\n",
    "`remove_items_from_set(set([0,2,3]), set([3,4,5]))` should return `set([0,2])`.\n"
   ]
  },
  {
   "cell_type": "code",
   "execution_count": null,
   "metadata": {
    "id": "hN750evCoSTd"
   },
   "outputs": [],
   "source": [
    "def remove_items_from_set(set1, set2):\n",
    "    return set1 - set2"
   ]
  },
  {
   "cell_type": "code",
   "execution_count": null,
   "metadata": {
    "colab": {
     "base_uri": "https://localhost:8080/"
    },
    "id": "3K79pmOi5Bht",
    "outputId": "64085a51-ba73-47a6-9458-bb0c0913b744"
   },
   "outputs": [
    {
     "data": {
      "text/plain": [
       "{0, 1, 2}"
      ]
     },
     "execution_count": 29,
     "metadata": {},
     "output_type": "execute_result"
    }
   ],
   "source": [
    "remove_items_from_set(set([0,1,2]), set([3,4,5]))"
   ]
  },
  {
   "cell_type": "code",
   "execution_count": null,
   "metadata": {
    "colab": {
     "base_uri": "https://localhost:8080/"
    },
    "id": "vslEP32w5FpR",
    "outputId": "da89f4d9-e795-42eb-d088-2c03ea8d6e94"
   },
   "outputs": [
    {
     "data": {
      "text/plain": [
       "{0, 2}"
      ]
     },
     "execution_count": 30,
     "metadata": {},
     "output_type": "execute_result"
    }
   ],
   "source": [
    "remove_items_from_set(set([0,2,3]), set([3,4,5]))"
   ]
  },
  {
   "cell_type": "markdown",
   "metadata": {
    "id": "goGCRBWioScz"
   },
   "source": [
    "## Exercise 4\n",
    "\n",
    "In your Google colab environment you can find some example data files. We'll show how to parse some of these in later weeks, but for now print the contents of the `README` file to understand what this data is.\n",
    "\n",
    "HINT: The README file can be opened with:\n",
    "\n",
    "`open('sample_data/README.md', 'r')`"
   ]
  },
  {
   "cell_type": "code",
   "execution_count": null,
   "metadata": {
    "colab": {
     "base_uri": "https://localhost:8080/"
    },
    "id": "xFl8nafpouI1",
    "outputId": "8659be9a-d008-4e42-a7f9-6e7aa1f62b4e"
   },
   "outputs": [
    {
     "name": "stdout",
     "output_type": "stream",
     "text": [
      "This directory includes a few sample datasets to get you started.\n",
      "\n",
      "*   `california_housing_data*.csv` is California housing data from the 1990 US\n",
      "Census; more information is available at:\n",
      "https://developers.google.com/machine-learning/crash-course/california-housing-data-description\n",
      "\n",
      "*   `mnist_*.csv` is a small sample of the\n",
      "[MNIST database](https://en.wikipedia.org/wiki/MNIST_database), which is\n",
      "described at: http://yann.lecun.com/exdb/mnist/\n",
      "\n",
      "*   `anscombe.json` contains a copy of\n",
      "[Anscombe's quartet](https://en.wikipedia.org/wiki/Anscombe%27s_quartet); it\n",
      "was originally described in\n",
      "\n",
      "Anscombe, F. J. (1973). 'Graphs in Statistical Analysis'. American\n",
      "Statistician. 27 (1): 17-21. JSTOR 2682899.\n",
      "\n",
      "and our copy was prepared by the\n",
      "[vega_datasets library](https://github.com/altair-viz/vega_datasets/blob/4f67bdaad10f45e3549984e17e1b3088c731503d/vega_datasets/_data/anscombe.json).\n"
     ]
    }
   ],
   "source": [
    "with open('sample_data/README.md', 'r') as file_pointer:\n",
    "    for line in file_pointer:\n",
    "        # We need the strip method here to avoid the newline character being written twice!\n",
    "        print(line.strip())"
   ]
  },
  {
   "cell_type": "markdown",
   "metadata": {
    "id": "WTgCHXqHpLab"
   },
   "source": [
    "## Exercise 5\n",
    "\n",
    "In the code cell below you can see two lists. Convert this into a dictionary. You should get:\n",
    "\n",
    "`{'Ten': 10, 'Twenty': 20, 'Thirty': 30}`\n",
    "\n",
    "when printing the dictionary.\n",
    "\n",
    "(Thanks to pynative.com)\n"
   ]
  },
  {
   "cell_type": "code",
   "execution_count": null,
   "metadata": {
    "id": "P4PrCl6mpKi1"
   },
   "outputs": [],
   "source": [
    "keys = ['Ten', 'Twenty', 'Thirty']\n",
    "values = [10, 20, 30]"
   ]
  },
  {
   "cell_type": "code",
   "execution_count": null,
   "metadata": {
    "id": "RaSM2iUR5h7R"
   },
   "outputs": [],
   "source": [
    "my_dict = {}\n",
    "for key, val in zip(keys, values):\n",
    "    my_dict[key] = val"
   ]
  },
  {
   "cell_type": "code",
   "execution_count": null,
   "metadata": {
    "colab": {
     "base_uri": "https://localhost:8080/"
    },
    "id": "6CfueUb-5txM",
    "outputId": "bd24d47a-8f1a-47e2-ddf5-acf683c2db84"
   },
   "outputs": [
    {
     "data": {
      "text/plain": [
       "{'Ten': 10, 'Twenty': 20, 'Thirty': 30}"
      ]
     },
     "execution_count": 34,
     "metadata": {},
     "output_type": "execute_result"
    }
   ],
   "source": [
    "my_dict"
   ]
  },
  {
   "cell_type": "markdown",
   "metadata": {
    "id": "g-u_npljpl8G"
   },
   "source": [
    "## Exercise 6\n",
    "\n",
    "In the cell below you can see two dictionaries. Combine these together into one dictionary. You should get:\n",
    "\n",
    "`{'Ten': 10, 'Twenty': 20, 'Thirty': 30, 'Fourty': 40, 'Fifty': 50}`\n",
    "\n",
    "(credit to pynative.com)"
   ]
  },
  {
   "cell_type": "code",
   "execution_count": null,
   "metadata": {
    "id": "iqZJTHSOps_T"
   },
   "outputs": [],
   "source": [
    "dict1 = {'Ten': 10, 'Twenty': 20, 'Thirty': 30}\n",
    "dict2 = {'Thirty': 30, 'Fourty': 40, 'Fifty': 50}"
   ]
  },
  {
   "cell_type": "code",
   "execution_count": null,
   "metadata": {
    "colab": {
     "base_uri": "https://localhost:8080/"
    },
    "id": "oXMPzlXg5zei",
    "outputId": "281f5cab-5e7e-4cad-bb2d-95511bf88f56"
   },
   "outputs": [
    {
     "data": {
      "text/plain": [
       "{'Ten': 10, 'Twenty': 20, 'Thirty': 30, 'Fourty': 40, 'Fifty': 50}"
      ]
     },
     "execution_count": 36,
     "metadata": {},
     "output_type": "execute_result"
    }
   ],
   "source": [
    "output_dict = dict(dict1, **dict2)\n",
    "output_dict"
   ]
  },
  {
   "cell_type": "code",
   "execution_count": null,
   "metadata": {
    "colab": {
     "base_uri": "https://localhost:8080/"
    },
    "id": "AGW6ZYsf6YXL",
    "outputId": "aba0307f-cb66-498e-af00-2be2b38bdaba"
   },
   "outputs": [
    {
     "name": "stdout",
     "output_type": "stream",
     "text": [
      "{'Ten': 10, 'Twenty': 20, 'Thirty': 30, 'Fourty': 40, 'Fifty': 50}\n"
     ]
    }
   ],
   "source": [
    "for key, val in dict2.items():\n",
    "    dict1[key] = val\n",
    "print(dict1)"
   ]
  },
  {
   "cell_type": "markdown",
   "metadata": {
    "id": "JuWZmmWIpvzf"
   },
   "source": [
    "## Exercise 7\n",
    "\n",
    "In the cell below you can see quite a complicated dictionary. It contains dictionaries within dictionaries (and demonstrated how you could store a lot of data in a structured format). Print Mike's mark for history and for physics (without printing everything else). The output should just read:\n",
    "\n",
    "`70 80`\n",
    "\n",
    "(credit to pynative.com)"
   ]
  },
  {
   "cell_type": "code",
   "execution_count": null,
   "metadata": {
    "id": "HOf7OH5mpwfc"
   },
   "outputs": [],
   "source": [
    "sample_dict = {\n",
    "   \"class\":{\n",
    "      \"student\":{\n",
    "         \"name\":\"Mike\",\n",
    "         \"marks\":{\n",
    "            \"physics\":70,\n",
    "            \"history\":80\n",
    "         }\n",
    "      }\n",
    "   }\n",
    "}"
   ]
  },
  {
   "cell_type": "code",
   "execution_count": null,
   "metadata": {
    "colab": {
     "base_uri": "https://localhost:8080/"
    },
    "id": "dqblvxnz6oAC",
    "outputId": "0af7cf2f-6903-4b64-fcf8-ab55d1d58e1a"
   },
   "outputs": [
    {
     "name": "stdout",
     "output_type": "stream",
     "text": [
      "70\n",
      "80\n"
     ]
    }
   ],
   "source": [
    "for val in sample_dict[\"class\"][\"student\"][\"marks\"].values():\n",
    "    print(val)"
   ]
  },
  {
   "cell_type": "markdown",
   "metadata": {
    "id": "kEY5TgYAq5Tp"
   },
   "source": [
    "## Exercise 8\n",
    "\n",
    "In the code cell below a tuple is defined. Reverse it. You should get:\n",
    "\n",
    "`(50, 40, 30, 20, 10)`\n",
    "\n",
    "(credit to pynative.com)"
   ]
  },
  {
   "cell_type": "code",
   "execution_count": null,
   "metadata": {
    "id": "z9zr0Uqsq4tz"
   },
   "outputs": [],
   "source": [
    "a_tuple = (10, 20, 30, 40, 50)"
   ]
  },
  {
   "cell_type": "code",
   "execution_count": null,
   "metadata": {
    "colab": {
     "base_uri": "https://localhost:8080/"
    },
    "id": "IwHT3jN664oY",
    "outputId": "5061e0db-29be-4037-f91e-53e565a129e1"
   },
   "outputs": [
    {
     "data": {
      "text/plain": [
       "(50, 40, 30, 20, 10)"
      ]
     },
     "execution_count": 41,
     "metadata": {},
     "output_type": "execute_result"
    }
   ],
   "source": [
    "a_tuple[::-1]"
   ]
  },
  {
   "cell_type": "markdown",
   "metadata": {
    "id": "jl_qWLS4rEjf"
   },
   "source": [
    "## Exercise 9\n",
    "\n",
    "In the code cell below is a tuple containing a few different things. One of these things is a list, whose second item is `20`. Complete the line below to get the code to print `20`\n",
    "\n",
    "(credit to pynative.com)"
   ]
  },
  {
   "cell_type": "code",
   "execution_count": null,
   "metadata": {
    "colab": {
     "base_uri": "https://localhost:8080/"
    },
    "id": "cDrt6ys_rErp",
    "outputId": "4c074a5f-9f02-4008-da65-028e48f8a53f"
   },
   "outputs": [
    {
     "name": "stdout",
     "output_type": "stream",
     "text": [
      "20\n"
     ]
    }
   ],
   "source": [
    "a_tuple = (\"Orange\", [10, 20, 30], (5, 15, 25))\n",
    "print(a_tuple[1][1])   # Complete this line so it prints `20`. Do not add another line."
   ]
  },
  {
   "cell_type": "markdown",
   "metadata": {
    "id": "11P5Q8E7ruYX"
   },
   "source": [
    "## Exercise 10\n",
    "\n",
    "In the code cell below is a tuple. Write a code to count how many times `50` occurs within this tuple."
   ]
  },
  {
   "cell_type": "code",
   "execution_count": null,
   "metadata": {
    "id": "8mzaVRbNrugn"
   },
   "outputs": [],
   "source": [
    "tuple1 = (50, 10, 60, 70, 50)"
   ]
  },
  {
   "cell_type": "code",
   "execution_count": null,
   "metadata": {
    "colab": {
     "base_uri": "https://localhost:8080/"
    },
    "id": "mBblTJkk7BgE",
    "outputId": "7413b0cb-2869-4207-c41f-f773e8604626"
   },
   "outputs": [
    {
     "name": "stdout",
     "output_type": "stream",
     "text": [
      "2\n"
     ]
    }
   ],
   "source": [
    "counter = 0\n",
    "for item in tuple1:\n",
    "    if item == 50:\n",
    "        counter+=1\n",
    "print(counter)"
   ]
  },
  {
   "cell_type": "markdown",
   "metadata": {
    "id": "dA1g9aC1_xKV"
   },
   "source": [
    "Alternative"
   ]
  },
  {
   "cell_type": "code",
   "execution_count": null,
   "metadata": {
    "colab": {
     "base_uri": "https://localhost:8080/"
    },
    "id": "s35IdplY_zKH",
    "outputId": "4e73cc33-0d47-4a31-8244-fc1a23115b5c"
   },
   "outputs": [
    {
     "name": "stdout",
     "output_type": "stream",
     "text": [
      "2\n"
     ]
    }
   ],
   "source": [
    "print(tuple1.count(50))"
   ]
  }
 ],
 "metadata": {
  "colab": {
   "collapsed_sections": [
    "0VigoPDtowMa"
   ],
   "provenance": []
  },
  "kernelspec": {
   "display_name": "Python 3 (ipykernel)",
   "language": "python",
   "name": "python3"
  },
  "language_info": {
   "codemirror_mode": {
    "name": "ipython",
    "version": 3
   },
   "file_extension": ".py",
   "mimetype": "text/x-python",
   "name": "python",
   "nbconvert_exporter": "python",
   "pygments_lexer": "ipython3",
   "version": "3.9.7"
  }
 },
 "nbformat": 4,
 "nbformat_minor": 1
}
