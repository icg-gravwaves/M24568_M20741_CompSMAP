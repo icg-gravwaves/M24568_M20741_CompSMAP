{
 "cells": [
  {
   "cell_type": "markdown",
   "metadata": {
    "id": "tIBKkwNsowMa"
   },
   "source": [
    "# Challenge exercises - SOLVED\n",
    "\n",
    "## Exercise 11 - NASTY\n",
    "\n",
    "Dictionaries can store any value, including lists or tuples. Here is a list of multiple exam scores for multiple students, unfortunately the person giving you this data did not bother to format it nicely or make it easy to access!\n",
    "\n",
    "Enter the first 6 entries into a *single* dictionary where each students name is the key to a `list` of their results in each exam. Then compute the mean score in each exam. Then compute the mean score for each student (the first exam contributes 20% of the final grade, the second 30% of the final grade and the final exam 50% of the final grade). How many students of the first 6 students acheive more than 50%?\n",
    "\n",
    "Entering all 30 entries manually will be pretty boring. Can you write a code to automate this. HINT: Such a dataset would probably be provided as a file, so starting with this in a `.txt` file might be a standard start. Then use string functions (for example line.strip().split(' '), would create a list of the 4 entries in each row) to put all this into a dictionary. With such things there is always a balance between the \"just put everything in manually\" solution and the \"write a code to automate this\" solution. Sometimes the first approach might be taken, but if you end up doing the same task 10 times, you might wish you had automated it the first time!\n",
    "\n",
    "\n",
    "* student_0 87.3592999364 3.37866031026 32.8097794971\n",
    "* student_1 9.86538375948 11.0437312624 38.4932617531\n",
    "* student_2 25.963639253 20.8563583237 88.4300049955\n",
    "* student_3 30.2038194796 22.812201764 85.2175968781\n",
    "* student_4 16.5874952038 63.5631000888 86.9778753162\n",
    "* student_5 57.0253746378 78.8878102638 18.4202631202\n",
    "* student_6 50.5463216934 52.2568795177 84.4682984034\n",
    "* student_7 78.9827218944 22.4422061024 2.00667872644\n",
    "* student_8 78.9545904148 49.7611187489 46.7692351127\n",
    "* student_9 64.735206255 81.4064311353 70.0081293759\n",
    "* student_10 11.7269062969 62.72706027 10.2218481603\n",
    "* student_11 71.4044529547 66.5836251842 10.2694872354\n",
    "* student_12 81.3828376715 71.798158876 33.5844353739\n",
    "* student_13 59.0420600512 80.1134095101 88.2724111772\n",
    "* student_14 74.372018484 94.3984409391 77.5679312504\n",
    "* student_15 5.14345903779 96.0881927358 64.0192557522\n",
    "* student_16 51.6523760283 62.094671032 46.6902006538\n",
    "* student_17 91.9095916802 75.4053875815 88.7899377962\n",
    "* student_18 5.14728683748 65.1376023859 20.7781007454\n",
    "* student_19 48.5992574523 50.1859764973 77.1063820482\n",
    "* student_20 13.8820890827 4.51359403037 61.6067068397\n",
    "* student_21 34.3808727896 5.55120497214 59.9145612904\n",
    "* student_22 28.4280441591 75.8506212292 65.8736427871\n",
    "* student_23 9.67244062007 73.6464379016 17.0263221461\n",
    "* student_24 63.0906910542 33.5055666984 91.1132994181\n",
    "* student_25 41.1944088063 32.5586632451 7.2766441878\n",
    "* student_26 97.7590360722 73.5192294375 63.3297502109\n",
    "* student_27 60.7651979143 34.2949461495 43.3947706873\n",
    "* student_28 3.83213772216 22.3135097308 61.7020963915\n",
    "* student_29 40.3269747767 4.16295597511 35.0905738466"
   ]
  },
  {
   "cell_type": "markdown",
   "metadata": {
    "id": "Bfjctzuy8Fs-"
   },
   "source": [
    "First part - manually adding 6 entries"
   ]
  },
  {
   "cell_type": "code",
   "execution_count": null,
   "metadata": {
    "id": "ZkwOhsjVPcxt"
   },
   "outputs": [],
   "source": [
    "partial_gradebook = {}\n",
    "partial_gradebook[\"student_0\"] = [87.3592999364, 3.37866031026, 32.8097794971]\n",
    "partial_gradebook[\"student_1\"] = [9.86538375948, 11.0437312624, 38.4932617531]\n",
    "partial_gradebook[\"student_2\"] = [25.963639253, 20.8563583237, 88.4300049955]\n",
    "partial_gradebook[\"student_3\"] = [30.2038194796, 22.812201764, 85.2175968781]\n",
    "partial_gradebook[\"student_4\"] = [16.5874952038, 63.5631000888, 86.9778753162]\n",
    "partial_gradebook[\"student_5\"] = [57.0253746378, 78.8878102638, 18.4202631202]\n"
   ]
  },
  {
   "cell_type": "code",
   "execution_count": null,
   "metadata": {
    "id": "6hTw2jNB8l5_"
   },
   "outputs": [],
   "source": [
    "def weight_mean(student_id, gradebook):\n",
    "    weights = [0.2, 0.3, 0.5]\n",
    "    total = 0\n",
    "    for grade, weight in zip(gradebook[student_id], weights):\n",
    "        total += grade*weight\n",
    "    if total>50:\n",
    "        achieved50plus = \"Achieved more than 50%\"\n",
    "        return total, achieved50plus\n",
    "    return total"
   ]
  },
  {
   "cell_type": "code",
   "execution_count": null,
   "metadata": {
    "colab": {
     "base_uri": "https://localhost:8080/"
    },
    "id": "Qd2VQi5e9dNF",
    "outputId": "aa9e5a52-69b7-4044-e88d-4ef03d692377"
   },
   "outputs": [
    {
     "name": "stdout",
     "output_type": "stream",
     "text": [
      "34.890347828908006\n",
      "24.532827007166\n",
      "(55.66463784546, 'Achieved more than 50%')\n",
      "(55.49322286417, 'Achieved more than 50%')\n",
      "(65.8753667255, 'Achieved more than 50%')\n",
      "44.2815495668\n"
     ]
    }
   ],
   "source": [
    "for key in partial_gradebook.keys():\n",
    "    print(weight_mean(key, partial_gradebook))"
   ]
  },
  {
   "cell_type": "markdown",
   "metadata": {
    "id": "r_jmWi8U91Lf"
   },
   "source": [
    "#### Automation"
   ]
  },
  {
   "cell_type": "code",
   "execution_count": null,
   "metadata": {
    "id": "v-eBcKhl90pA"
   },
   "outputs": [],
   "source": [
    "file_pointer = open('gradebook.data', 'w')\n",
    "file_pointer.write(\"\"\"student_0 87.3592999364 3.37866031026 32.8097794971\n",
    "student_1 9.86538375948 11.0437312624 38.4932617531\n",
    "student_2 25.963639253 20.8563583237 88.4300049955\n",
    "student_3 30.2038194796 22.812201764 85.2175968781\n",
    "student_4 16.5874952038 63.5631000888 86.9778753162\n",
    "student_5 57.0253746378 78.8878102638 18.4202631202\n",
    "student_6 50.5463216934 52.2568795177 84.4682984034\n",
    "student_7 78.9827218944 22.4422061024 2.00667872644\n",
    "student_8 78.9545904148 49.7611187489 46.7692351127\n",
    "student_9 64.735206255 81.4064311353 70.0081293759\n",
    "student_10 11.7269062969 62.72706027 10.2218481603\n",
    "student_11 71.4044529547 66.5836251842 10.2694872354\n",
    "student_12 81.3828376715 71.798158876 33.5844353739\n",
    "student_13 59.0420600512 80.1134095101 88.2724111772\n",
    "student_14 74.372018484 94.3984409391 77.5679312504\n",
    "student_15 5.14345903779 96.0881927358 64.0192557522\n",
    "student_16 51.6523760283 62.094671032 46.6902006538\n",
    "student_17 91.9095916802 75.4053875815 88.7899377962\n",
    "student_18 5.14728683748 65.1376023859 20.7781007454\n",
    "student_19 48.5992574523 50.1859764973 77.1063820482\n",
    "student_20 13.8820890827 4.51359403037 61.6067068397\n",
    "student_21 34.3808727896 5.55120497214 59.9145612904\n",
    "student_22 28.4280441591 75.8506212292 65.8736427871\n",
    "student_23 9.67244062007 73.6464379016 17.0263221461\n",
    "student_24 63.0906910542 33.5055666984 91.1132994181\n",
    "student_25 41.1944088063 32.5586632451 7.2766441878\n",
    "student_26 97.7590360722 73.5192294375 63.3297502109\n",
    "student_27 60.7651979143 34.2949461495 43.3947706873\n",
    "student_28 3.83213772216 22.3135097308 61.7020963915\n",
    "student_29 40.3269747767 4.16295597511 35.0905738466\"\"\")\n",
    "file_pointer.close()"
   ]
  },
  {
   "cell_type": "code",
   "execution_count": null,
   "metadata": {
    "id": "B8mYvsG3-ebk"
   },
   "outputs": [],
   "source": [
    "full_gradebook = {}\n",
    "with open('gradebook.data', 'r') as file_pointer:\n",
    "    for line in file_pointer:\n",
    "        # We need the strip method here to avoid the newline character being written twice!\n",
    "        output = line.strip().split(\" \")\n",
    "        full_gradebook[output[0]] = [float(grade) for grade in output[1:]]"
   ]
  },
  {
   "cell_type": "code",
   "execution_count": null,
   "metadata": {
    "colab": {
     "base_uri": "https://localhost:8080/"
    },
    "id": "Rr1dJ_1V_WIt",
    "outputId": "303a7a20-2c24-4688-d2db-90e95738f477"
   },
   "outputs": [
    {
     "data": {
      "text/plain": [
       "{'student_0': [87.3592999364, 3.37866031026, 32.8097794971],\n",
       " 'student_1': [9.86538375948, 11.0437312624, 38.4932617531],\n",
       " 'student_10': [11.7269062969, 62.72706027, 10.2218481603],\n",
       " 'student_11': [71.4044529547, 66.5836251842, 10.2694872354],\n",
       " 'student_12': [81.3828376715, 71.798158876, 33.5844353739],\n",
       " 'student_13': [59.0420600512, 80.1134095101, 88.2724111772],\n",
       " 'student_14': [74.372018484, 94.3984409391, 77.5679312504],\n",
       " 'student_15': [5.14345903779, 96.0881927358, 64.0192557522],\n",
       " 'student_16': [51.6523760283, 62.094671032, 46.6902006538],\n",
       " 'student_17': [91.9095916802, 75.4053875815, 88.7899377962],\n",
       " 'student_18': [5.14728683748, 65.1376023859, 20.7781007454],\n",
       " 'student_19': [48.5992574523, 50.1859764973, 77.1063820482],\n",
       " 'student_2': [25.963639253, 20.8563583237, 88.4300049955],\n",
       " 'student_20': [13.8820890827, 4.51359403037, 61.6067068397],\n",
       " 'student_21': [34.3808727896, 5.55120497214, 59.9145612904],\n",
       " 'student_22': [28.4280441591, 75.8506212292, 65.8736427871],\n",
       " 'student_23': [9.67244062007, 73.6464379016, 17.0263221461],\n",
       " 'student_24': [63.0906910542, 33.5055666984, 91.1132994181],\n",
       " 'student_25': [41.1944088063, 32.5586632451, 7.2766441878],\n",
       " 'student_26': [97.7590360722, 73.5192294375, 63.3297502109],\n",
       " 'student_27': [60.7651979143, 34.2949461495, 43.3947706873],\n",
       " 'student_28': [3.83213772216, 22.3135097308, 61.7020963915],\n",
       " 'student_29': [40.3269747767, 4.16295597511, 35.0905738466],\n",
       " 'student_3': [30.2038194796, 22.812201764, 85.2175968781],\n",
       " 'student_4': [16.5874952038, 63.5631000888, 86.9778753162],\n",
       " 'student_5': [57.0253746378, 78.8878102638, 18.4202631202],\n",
       " 'student_6': [50.5463216934, 52.2568795177, 84.4682984034],\n",
       " 'student_7': [78.9827218944, 22.4422061024, 2.00667872644],\n",
       " 'student_8': [78.9545904148, 49.7611187489, 46.7692351127],\n",
       " 'student_9': [64.735206255, 81.4064311353, 70.0081293759]}"
      ]
     },
     "execution_count": 106,
     "metadata": {},
     "output_type": "execute_result"
    }
   ],
   "source": [
    "full_gradebook"
   ]
  },
  {
   "cell_type": "code",
   "execution_count": null,
   "metadata": {
    "colab": {
     "base_uri": "https://localhost:8080/"
    },
    "id": "uFoV4Hud_BKy",
    "outputId": "32adaf4a-ac3d-4692-8ac5-c6aa44ecb2ca"
   },
   "outputs": [
    {
     "name": "stdout",
     "output_type": "stream",
     "text": [
      "34.890347828908006\n",
      "24.532827007166\n",
      "(55.66463784546, 'Achieved more than 50%')\n",
      "(55.49322286417, 'Achieved more than 50%')\n",
      "(65.8753667255, 'Achieved more than 50%')\n",
      "44.2815495668\n",
      "(68.02047739569, 'Achieved more than 50%')\n",
      "23.53254557282\n",
      "(54.10387126398, 'Achieved more than 50%')\n",
      "(72.37303527954, 'Achieved more than 50%')\n",
      "26.27442342053\n",
      "39.390721763900004\n",
      "(54.60823288405, 'Achieved more than 50%')\n",
      "(79.97864045187, 'Achieved more than 50%')\n",
      "(81.97790160373, 'Achieved more than 50%')\n",
      "(61.864777504398, 'Achieved more than 50%')\n",
      "(52.30397684216, 'Achieved more than 50%')\n",
      "(85.39850350858998, 'Achieved more than 50%')\n",
      "30.959788455966\n",
      "(63.32883546375, 'Achieved more than 50%')\n",
      "34.933849445501004\n",
      "38.498816694762\n",
      "(61.377616594130004, 'Achieved more than 50%')\n",
      "32.541580567543996\n",
      "(68.22645792941, 'Achieved more than 50%')\n",
      "21.64480282869\n",
      "(73.27245115114, 'Achieved more than 50%')\n",
      "44.13890877136001\n",
      "38.311528659422\n",
      "26.859568671173\n"
     ]
    }
   ],
   "source": [
    "for key in full_gradebook.keys():\n",
    "    print(weight_mean(key, full_gradebook))"
   ]
  },
  {
   "cell_type": "markdown",
   "metadata": {
    "id": "_e7UZ3DAowMa"
   },
   "source": [
    "## Exercise 12:\n",
    "\n",
    "Write a Python function to take as input a list, and output 3 lists. The first output list should contain the 1st, 4th, 7th ... elements of the original list, the second list should contain the 2nd, 5th, 8th, ... elements and the third list should contain the 3rd, 6th, 9th, ... elements. So for example if the input is `['a', 'b', 'c', 'd', 'e', 'f', 'g', 'h', 'i', 'j', 'k', 'l', 'm', 'n']` the output should be `[['a', 'd', 'g', 'j', 'm'], ['b', 'e', 'h', 'k', 'n'], ['c', 'f', 'i', 'l']]`"
   ]
  },
  {
   "cell_type": "code",
   "execution_count": null,
   "metadata": {
    "colab": {
     "base_uri": "https://localhost:8080/"
    },
    "id": "Vh4J1kJMowMa",
    "outputId": "b41f70e2-0a78-4000-d706-2d1b5ca12dc2"
   },
   "outputs": [
    {
     "name": "stdout",
     "output_type": "stream",
     "text": [
      "This should give [['a', 'd', 'g', 'j', 'm'], ['b', 'e', 'h', 'k', 'n'], ['c', 'f', 'i', 'l']]\n",
      "(['a', 'd', 'g', 'j', 'm'], ['b', 'e', 'h', 'k', 'n'], ['c', 'f', 'i', 'l'])\n"
     ]
    }
   ],
   "source": [
    "def split_lists_into_three(original_list):\n",
    "    first_list = original_list[::3]\n",
    "    second_list = original_list[1::3]\n",
    "    third_list = original_list[2::3]\n",
    "    return first_list, second_list, third_list\n",
    "\n",
    "input_list = ['a', 'b', 'c', 'd', 'e', 'f', 'g', 'h', 'i', 'j', 'k', 'l', 'm', 'n']\n",
    "\n",
    "print(\"\"\"This should give [['a', 'd', 'g', 'j', 'm'], ['b', 'e', 'h', 'k', 'n'], ['c', 'f', 'i', 'l']]\"\"\")\n",
    "print(split_lists_into_three(input_list))"
   ]
  }
 ],
 "metadata": {
  "colab": {
   "collapsed_sections": [
    "0VigoPDtowMa"
   ],
   "provenance": []
  },
  "kernelspec": {
   "display_name": "Python 3 (ipykernel)",
   "language": "python",
   "name": "python3"
  },
  "language_info": {
   "codemirror_mode": {
    "name": "ipython",
    "version": 3
   },
   "file_extension": ".py",
   "mimetype": "text/x-python",
   "name": "python",
   "nbconvert_exporter": "python",
   "pygments_lexer": "ipython3",
   "version": "3.9.7"
  }
 },
 "nbformat": 4,
 "nbformat_minor": 1
}
