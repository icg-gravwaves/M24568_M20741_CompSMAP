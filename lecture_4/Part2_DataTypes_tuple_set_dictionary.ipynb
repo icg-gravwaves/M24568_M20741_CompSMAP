{
 "cells": [
  {
   "cell_type": "markdown",
   "metadata": {
    "id": "5Hhha3HWowL8"
   },
   "source": [
    "# Introducing tuples, sets and dictionaries"
   ]
  },
  {
   "cell_type": "markdown",
   "metadata": {},
   "source": [
    "## The tuple: An \"immutable\" list of values"
   ]
  },
  {
   "cell_type": "markdown",
   "metadata": {
    "id": "h16QyZ6KowL8"
   },
   "source": [
    "Let's introduce now a second type, the tuple. This might appear to be very similar to the list. It is created using curved brackets instead of square brackets"
   ]
  },
  {
   "cell_type": "code",
   "execution_count": null,
   "metadata": {
    "id": "GE7bsVxGowL9"
   },
   "outputs": [],
   "source": [
    "a_list = [1,2,3,4,5]\n",
    "a_tuple = (1,2,3,4,5)"
   ]
  },
  {
   "cell_type": "markdown",
   "metadata": {
    "id": "nZHdRZNmowL9"
   },
   "source": [
    "**EXERCISE**: Print the first, third and fifth elements of both the list and the tuple. This should be identical in both cases."
   ]
  },
  {
   "cell_type": "code",
   "execution_count": null,
   "metadata": {
    "id": "uiFzAPLIowL9"
   },
   "outputs": [],
   "source": []
  },
  {
   "cell_type": "markdown",
   "metadata": {
    "id": "vG_-23YFowL9"
   },
   "source": [
    "So what's different? **EXERCISE**: Try the following. In both cases change the 2nd element of the list, or the tuple, to be 10"
   ]
  },
  {
   "cell_type": "code",
   "execution_count": null,
   "metadata": {
    "id": "fnvUux1vowL9"
   },
   "outputs": [],
   "source": []
  },
  {
   "cell_type": "markdown",
   "metadata": {
    "id": "3ktJRJj5owL9"
   },
   "source": [
    "The tuple should have raised an error. Unlike a list, a tuple cannot be changed, it is \"immutable\". This has a few advantages, for example if you have defined a tuple somewhere, and then sent it to some functions, you know that your tuple cannot have changed. The same is not true if it were a list. If you want to change a tuple, you need to make a new tuple. So to complete our exercise above we can do:"
   ]
  },
  {
   "cell_type": "code",
   "execution_count": null,
   "metadata": {
    "id": "TiIALvM-owL9"
   },
   "outputs": [],
   "source": [
    "a_new_tuple = (a_tuple[0], 10, a_tuple[2], a_tuple[3], a_tuple[4])\n",
    "print(a_new_tuple)"
   ]
  },
  {
   "cell_type": "markdown",
   "metadata": {
    "id": "lxRLMBfyowL9"
   },
   "source": [
    "Trying to do this with tuples can sometimes be fiddly, so it's often simpler to convert to a list, make changes, and then convert back to a tuple. ... But then if you want to be able to change values, you probably shouldn't be using tuples, use a list instead!"
   ]
  },
  {
   "cell_type": "code",
   "execution_count": null,
   "metadata": {
    "id": "UyvMTxesowL9"
   },
   "outputs": [],
   "source": [
    "a_tuple = (1,2,3,4,5)\n",
    "a_list = list(a_tuple)\n",
    "a_list[1] = 10\n",
    "a_new_tuple = tuple(a_list)\n",
    "print(a_new_tuple)"
   ]
  },
  {
   "cell_type": "markdown",
   "metadata": {
    "id": "d8oa_kQqowL-"
   },
   "source": [
    "If you want a bit more of the technical side of a tuple vs list, there's lots of resources on Google. For example see: https://www.afternerd.com/blog/difference-between-list-tuple/"
   ]
  },
  {
   "cell_type": "markdown",
   "metadata": {
    "id": "SNiwrTmJowL-"
   },
   "source": [
    "\n",
    "## The set: A collection of unique objects\n",
    "\n",
    "This brings us to a third python type for storing collections of things: The set. The basic idea is that a set contains a set of *unique* objects. So if we were to do"
   ]
  },
  {
   "cell_type": "code",
   "execution_count": null,
   "metadata": {
    "id": "hr8pKgPXowL-"
   },
   "outputs": [],
   "source": [
    "a = [1,1,1,1,2,2,2,3,3,5,5,1,1,7,8,100]\n",
    "b = set(a)\n",
    "print(b)"
   ]
  },
  {
   "cell_type": "markdown",
   "metadata": {
    "id": "-neUz_9eowL-"
   },
   "source": [
    "You can see that we have only the 7 unique elements. The order of the objects is not relevant in the `set` type, and you should not assume anything about that. For example you cannot do"
   ]
  },
  {
   "cell_type": "code",
   "execution_count": null,
   "metadata": {
    "id": "haPO1xFcowL-"
   },
   "outputs": [],
   "source": [
    "b[1]"
   ]
  },
  {
   "cell_type": "markdown",
   "metadata": {
    "id": "zWTaTxDYowL_"
   },
   "source": [
    "You *can* do:"
   ]
  },
  {
   "cell_type": "code",
   "execution_count": null,
   "metadata": {
    "id": "h49WAHGmowL_"
   },
   "outputs": [],
   "source": [
    "c = list(b)\n",
    "print(c[1], c)"
   ]
  },
  {
   "cell_type": "markdown",
   "metadata": {
    "id": "_eMy0ioJowL_"
   },
   "source": [
    "But you should expect that these items not be in any particular order. Sets are mutable, you can add items into a set, or remove them, this is done with methods:"
   ]
  },
  {
   "cell_type": "code",
   "execution_count": null,
   "metadata": {
    "id": "EIIhs0bZowL_"
   },
   "outputs": [],
   "source": [
    "b.add(12)\n",
    "b.add(13)\n",
    "b.remove(5)\n",
    "print(b)"
   ]
  },
  {
   "cell_type": "markdown",
   "metadata": {
    "id": "zQskDrRYowL_"
   },
   "source": [
    "The set is changed in-place, so if you try that again, it will fail the second time as 5 will no longer be in the set. (Note that adding a number already in the set will do nothing, removing a number not in the set will cause a failure)"
   ]
  },
  {
   "cell_type": "code",
   "execution_count": null,
   "metadata": {
    "id": "ZtvhiY2-owL_"
   },
   "outputs": [],
   "source": [
    "b.add(12)\n",
    "b.add(13)\n",
    "b.remove(5)\n",
    "print(b)"
   ]
  },
  {
   "cell_type": "markdown",
   "metadata": {
    "id": "desVE7xvowL_"
   },
   "source": [
    "You can also take the \"intersection\" of sets (this means take two sets, and create a new set containing things that are in both of the original sets), or the \"union\" of sets (take two sets and create a new set containing things in *either* of the original sets) or remove one set from another. The syntax here is a bit odd as it uses \"bitwise\" operators. We won't worry today about what those operators mean for other types, but for sets we can illustrate this."
   ]
  },
  {
   "cell_type": "code",
   "execution_count": null,
   "metadata": {
    "id": "D-nc_Z9AowMA"
   },
   "outputs": [],
   "source": [
    "a_set = set([1,2,3,4,5])\n",
    "another_set = set([7,8,9,10,11])\n",
    "a_third_set = set([1,2,3])\n",
    "\n",
    "# The intersection\n",
    "print(\"Intersections\")\n",
    "print(a_set & another_set)\n",
    "print(a_third_set & another_set)\n",
    "print(a_set & a_third_set)\n",
    "print()\n",
    "\n",
    "# The union\n",
    "print(\"Unions\")\n",
    "print(a_set | another_set)\n",
    "print(a_third_set | another_set)\n",
    "print(a_set | a_third_set)\n",
    "print()\n",
    "\n",
    "# Taking one set from another (will remove items from the second if they are in the first)\n",
    "print(\"Removing one set from another\")\n",
    "print(a_set - another_set)\n",
    "print(a_third_set - another_set)\n",
    "print(a_set - a_third_set)\n",
    "print()\n",
    "\n",
    "# Taking one set from another (will remove items from the second if they are in the first)\n",
    "print(\"The exclusive or: Numbers in one set, but not both\")\n",
    "print(a_set ^ another_set)\n",
    "# This is equivalent to (a_set | another_set) - (a_set & another_set)\n",
    "print((a_set | another_set) - (a_set & another_set))\n",
    "print(a_third_set ^ another_set)\n",
    "print(a_set ^ a_third_set)\n",
    "print()"
   ]
  },
  {
   "cell_type": "markdown",
   "metadata": {
    "id": "FL1BuXCKowMA"
   },
   "source": [
    "One key advantage to a set is the speed of access. For example if I define the following as a list, tuple or set:"
   ]
  },
  {
   "cell_type": "code",
   "execution_count": null,
   "metadata": {
    "id": "rAzf7PmbowMA"
   },
   "outputs": [],
   "source": [
    "a_list = [1,2,3,4,5,6,7,8,9,10]\n",
    "a_tuple = tuple(a_list)\n",
    "a_set = set(a_list)"
   ]
  },
  {
   "cell_type": "markdown",
   "metadata": {
    "id": "tKn7ywktowMA"
   },
   "source": [
    "I can check if a number is in any of these objects using the `in` keyword"
   ]
  },
  {
   "cell_type": "code",
   "execution_count": null,
   "metadata": {
    "id": "sjAuflLDowMA"
   },
   "outputs": [],
   "source": [
    "print(5 in a_list)\n",
    "print(11 in a_tuple)\n",
    "print(6 in a_set)\n",
    "print(21 in a_list)\n",
    "print(21 in a_set)"
   ]
  },
  {
   "cell_type": "markdown",
   "metadata": {
    "id": "Tj6PY3kqowMA"
   },
   "source": [
    "However, the speed of doing this is *much* faster for a set than the other two types. So for very large collections of unique numbers the set can offer significant advantages. There is a type called a `frozenset` which is an immutable set. We will not illustrate that today, but it's useful to know it exists!"
   ]
  },
  {
   "cell_type": "markdown",
   "metadata": {
    "id": "glgAmC6lowMB"
   },
   "source": [
    "## Dictionaries: Storing data with no obvious order.\n",
    "\n",
    "Our final builtin python type for storing collections of data is the dictionary. The dictionary is used for storing  data with no obvious order, or for when it's easier to access data based on something *other* than the order. For example: details of students in a first year computing class, where you'd often look to access data based on the student's name, or UP number rather than \"I want the fifth student if they are alphabetically sorted\". Here's an example of creating a dictionary. I recommend doing this as illustrated below, by starting with an empty dictionary and adding items in:"
   ]
  },
  {
   "cell_type": "code",
   "execution_count": null,
   "metadata": {
    "id": "Kk0jA2sMowMB"
   },
   "outputs": [],
   "source": [
    "# This dictionary might be for example marks in some exam\n",
    "a_dictionary = {}\n",
    "a_dictionary['student_a'] = 47\n",
    "a_dictionary['student_b'] = 74\n",
    "a_dictionary['student_c'] = 39\n",
    "a_dictionary['student_d'] = 56\n",
    "a_dictionary['student_e'] = 62\n",
    "a_dictionary['student_f'] = 72\n",
    "a_dictionary['student_g'] = 58"
   ]
  },
  {
   "cell_type": "markdown",
   "metadata": {
    "id": "6hojl_AvowMB"
   },
   "source": [
    "You can then access information by keying the student's name directly"
   ]
  },
  {
   "cell_type": "code",
   "execution_count": null,
   "metadata": {
    "id": "2XPZsFgkowMB"
   },
   "outputs": [],
   "source": [
    "print(a_dictionary['student_d'])"
   ]
  },
  {
   "cell_type": "markdown",
   "metadata": {
    "id": "4fGv738NowMB"
   },
   "source": [
    "You can also access the list of student names, or associated grades, or both, in the following way. **NOTE** It's important to cast these to list before printing ... They are similar to the `range` object in this way."
   ]
  },
  {
   "cell_type": "code",
   "execution_count": null,
   "metadata": {
    "id": "LSRUuE96owMB"
   },
   "outputs": [],
   "source": [
    "print( list( a_dictionary.keys() ) )\n",
    "print( list( a_dictionary.values() ) )\n",
    "print( list( a_dictionary.items() ) )"
   ]
  },
  {
   "cell_type": "markdown",
   "metadata": {
    "id": "SfelZTouowMB"
   },
   "source": [
    "**EXERCISE** Compute the mean and standard deviation of these students' grades by accessing the grades from the dictionary. There are functions available in python for this, which you can easily find by Googling. Do *not* use these, write your own function!\n",
    "\n",
    "$$mean, \\overline{x} =\\frac{1}{n}\\sum_{i=1}^nx_i$$\n",
    "$$ standard deviation, \\sigma = \\sqrt{\\frac{\\sum(x_i-\\overline{x})^2}{n}}$$"
   ]
  },
  {
   "cell_type": "code",
   "execution_count": null,
   "metadata": {
    "id": "9jLnJCX2owMB"
   },
   "outputs": [],
   "source": []
  },
  {
   "cell_type": "code",
   "execution_count": null,
   "metadata": {
    "id": "Z-Bhg-PXowMa"
   },
   "outputs": [],
   "source": []
  }
 ],
 "metadata": {
  "colab": {
   "collapsed_sections": [
    "0VigoPDtowMa"
   ],
   "provenance": []
  },
  "kernelspec": {
   "display_name": "Python 3 (ipykernel)",
   "language": "python",
   "name": "python3"
  },
  "language_info": {
   "codemirror_mode": {
    "name": "ipython",
    "version": 3
   },
   "file_extension": ".py",
   "mimetype": "text/x-python",
   "name": "python",
   "nbconvert_exporter": "python",
   "pygments_lexer": "ipython3",
   "version": "3.9.7"
  }
 },
 "nbformat": 4,
 "nbformat_minor": 1
}
