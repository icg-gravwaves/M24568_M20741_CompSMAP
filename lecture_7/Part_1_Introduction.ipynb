{
 "cells": [
  {
   "cell_type": "markdown",
   "id": "ae464046",
   "metadata": {},
   "source": [
    "# Introduction"
   ]
  },
  {
   "cell_type": "markdown",
   "id": "2a8ae7fb",
   "metadata": {},
   "source": [
    "It's normal. You've just finished writing that new bit of code. You're certain that you've done it right, but when you run it, it fails or doesn't give the right output. What can you do to try to get the code working again? Here are some steps that can normally be used to try to identify, and fix, the problem:\n",
    "\n",
    "* Step 1: Look at the error message. When a failure happens python will print an error message, *and* indicate at what line in the code that error occurs. Look at the error message, look at the indicated line of code. What might be happening here to produce the error that you are seeing?\n",
    "* Step 2: Add debug statements to the code (e.g. add print statements to monitor what the code is doing at every line). What should be happening at each line, and is the code doing what you think it should be doing?\n",
    "* Step 2A: To assist with this you can use python's PDB debugger, as we will demonstrate below.\n",
    "\n",
    "Here is a really good diagram (from pythonforbiologists.com) describing a bunch of the most common python errors (e.g SyntaxErrors and where to look to fix them), and some of the processes by which you might debug the code."
   ]
  },
  {
   "cell_type": "markdown",
   "id": "67287b5d",
   "metadata": {},
   "source": [
    "![image.png](https://raw.githubusercontent.com/icg-gravwaves/M24568_M20741_CompSMAP/main/lecture_7/images/Debugging.png)"
   ]
  },
  {
   "cell_type": "markdown",
   "id": "bd4bcaa1",
   "metadata": {},
   "source": [
    "and also another resource with a bit more detail\n",
    "\n",
    "https://runestone.academy/runestone/books/published/fopp/Debugging/toctree.html\n",
    "\n",
    "We will explore some examples of debugging python code in today's class, demonstrate the use of some tools like PDB, and try to give you more confidence in understanding and fixing problems that will *always* arise in your code.\n",
    "\n",
    "**WARNING** This is a lecture in debugging, so all errors I made while putting this content together have been deliberately left in the code .. Enjoy!"
   ]
  }
 ],
 "metadata": {
  "kernelspec": {
   "display_name": "Python 3 (ipykernel)",
   "language": "python",
   "name": "python3"
  },
  "language_info": {
   "codemirror_mode": {
    "name": "ipython",
    "version": 3
   },
   "file_extension": ".py",
   "mimetype": "text/x-python",
   "name": "python",
   "nbconvert_exporter": "python",
   "pygments_lexer": "ipython3",
   "version": "3.9.7"
  }
 },
 "nbformat": 4,
 "nbformat_minor": 5
}
