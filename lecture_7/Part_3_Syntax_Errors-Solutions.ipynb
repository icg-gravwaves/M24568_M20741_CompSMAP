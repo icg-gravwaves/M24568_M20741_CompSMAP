{
 "cells": [
  {
   "cell_type": "markdown",
   "id": "d45e0eaf",
   "metadata": {},
   "source": [
    "# Exercise 1: Syntax errors - SOLVED\n",
    "\n",
    "\n",
    "In this, and subsequent, noteboooks in this class we'll walk through a number of different problems. Each of these fail in some way. For many of the early problems, the issue can be solved by inspecting the code. However, for later ones you may need to use PDB to really understand what the code is doing and diagnose the problems. Some of the later problem sets are quite challenging, so just get through as much of this as you can. **There are no \"summary exercises\" this week, just work through as much as you can. Try to get at least as far as exercise 5**. Good luck!"
   ]
  },
  {
   "cell_type": "markdown",
   "id": "fb2466fa",
   "metadata": {},
   "source": [
    "## Syntax errors\n",
    "\n",
    "Syntax errors are the first type of bug you encounter in new code. Luckily these prevent the code from running so you *know* there's a problem, you just need to fix it.\n",
    "\n",
    "Here are some examples of code containing syntax errors. **Identify and fix the issues in each of the cells below**. In some cases there are errors beyond just the syntax error to resolve!"
   ]
  },
  {
   "cell_type": "markdown",
   "id": "ac586353",
   "metadata": {},
   "source": [
    "## Exercise 1.1"
   ]
  },
  {
   "cell_type": "code",
   "execution_count": 1,
   "id": "d2754332",
   "metadata": {},
   "outputs": [
    {
     "name": "stdout",
     "output_type": "stream",
     "text": [
      "hello\n",
      "hello\n",
      "hello\n",
      "hello\n",
      "hello\n"
     ]
    }
   ],
   "source": [
    "counter=0\n",
    "while counter < 5:\n",
    "    print (\"hello\")\n",
    "    counter = counter + 1"
   ]
  },
  {
   "cell_type": "markdown",
   "id": "103df371",
   "metadata": {},
   "source": [
    "## Exercise 1.2"
   ]
  },
  {
   "cell_type": "code",
   "execution_count": 3,
   "id": "6b9c5047",
   "metadata": {},
   "outputs": [
    {
     "name": "stdout",
     "output_type": "stream",
     "text": [
      "counter is 4\n"
     ]
    }
   ],
   "source": [
    "counter = 4\n",
    "if counter == 4:\n",
    "    print (\"counter is 4\")"
   ]
  },
  {
   "cell_type": "markdown",
   "id": "4cccaa5c",
   "metadata": {},
   "source": [
    "## Exercise 1.3"
   ]
  },
  {
   "cell_type": "code",
   "execution_count": 5,
   "id": "1a7ee113",
   "metadata": {},
   "outputs": [
    {
     "name": "stdout",
     "output_type": "stream",
     "text": [
      "42\n"
     ]
    }
   ],
   "source": [
    "x = 3\n",
    "y = ((x + 3) * (x + 4))\n",
    "print (y)\n"
   ]
  },
  {
   "cell_type": "markdown",
   "id": "ac004758",
   "metadata": {},
   "source": [
    "## Exercise 1.4"
   ]
  },
  {
   "cell_type": "code",
   "execution_count": 7,
   "id": "f9fc934b",
   "metadata": {},
   "outputs": [
    {
     "name": "stdout",
     "output_type": "stream",
     "text": [
      "Ian\n",
      "Ian\n"
     ]
    }
   ],
   "source": [
    "name = input()\n",
    "print(name)"
   ]
  },
  {
   "cell_type": "markdown",
   "id": "7e381723",
   "metadata": {},
   "source": [
    "## Exercise 1.5"
   ]
  },
  {
   "cell_type": "code",
   "execution_count": 8,
   "id": "7d69c7c7",
   "metadata": {},
   "outputs": [
    {
     "name": "stdout",
     "output_type": "stream",
     "text": [
      "hello world\n"
     ]
    }
   ],
   "source": [
    "greeting = \"hello\" + \" world\"\n",
    "print(greeting)"
   ]
  },
  {
   "cell_type": "markdown",
   "id": "e301952d",
   "metadata": {},
   "source": [
    "## Exercise 1.6"
   ]
  },
  {
   "cell_type": "code",
   "execution_count": 9,
   "id": "cc843dab",
   "metadata": {},
   "outputs": [
    {
     "name": "stdout",
     "output_type": "stream",
     "text": [
      "1\n"
     ]
    }
   ],
   "source": [
    "def example1_A():\n",
    "    x = 0\n",
    "    y = 1\n",
    "    return x+y\n",
    "\n",
    "print(example1_A())"
   ]
  },
  {
   "cell_type": "markdown",
   "id": "167d2176",
   "metadata": {},
   "source": [
    "## Exercise 1.7"
   ]
  },
  {
   "cell_type": "code",
   "execution_count": 11,
   "id": "b90d2e44",
   "metadata": {},
   "outputs": [
    {
     "data": {
      "text/plain": [
       "array([50.17834356, 50.1787854 , 50.18775404, 50.2279057 , 50.21488661,\n",
       "       50.21641328, 50.23904921, 50.23909224, 50.21089147, 50.24370496,\n",
       "       50.2355012 , 50.23765946, 50.24139908, 50.24202056, 50.26632734,\n",
       "       50.26138849, 50.29553524, 50.31759975, 50.33778864, 50.28344007,\n",
       "       50.34644045, 50.28032592, 50.37898847, 50.36956474, 50.41121819,\n",
       "       50.42828603, 50.38403536, 50.41453741, 50.41590692, 50.46657446,\n",
       "       50.44750838, 50.36832425, 50.49175375, 50.46695973, 50.46733356,\n",
       "       50.40205017, 50.51368294, 50.51795217, 50.40983227, 50.47138683,\n",
       "       50.57184258, 50.49856968, 50.47483857, 50.48836733, 50.53961144,\n",
       "       50.47028332, 50.61611404, 50.51971896, 50.60387857, 50.64322323,\n",
       "       50.44076062, 50.63005084, 50.4554188 , 50.52171883, 50.66696191,\n",
       "       50.5937239 , 50.64844627, 50.74554057, 50.54987229, 50.54039605,\n",
       "       50.55449883, 50.69624138, 50.66826351, 50.85204   , 50.78387172,\n",
       "       50.8262503 , 50.78333738, 50.64062935, 50.77284761, 50.83556846,\n",
       "       50.72156622, 50.88474152, 50.71097565, 50.68127651, 50.89557504,\n",
       "       50.83286775, 50.84889315, 50.94517831, 50.96167317, 50.85055997,\n",
       "       50.89998331, 50.97978044, 50.95838068, 50.98401132, 50.99719765,\n",
       "       50.81909672, 51.02090474, 50.98500953, 50.98486598, 50.89529998,\n",
       "       50.95839274, 50.68906922, 51.06212532, 51.04038458, 50.90319241,\n",
       "       50.9708864 , 50.88402315, 51.12673842, 51.13938843, 50.85443548])"
      ]
     },
     "execution_count": 11,
     "metadata": {},
     "output_type": "execute_result"
    }
   ],
   "source": [
    "import numpy\n",
    "\n",
    "def example1_B(list_of_vals):\n",
    "    b = (list_of_vals.sum() + list_of_vals.mean() + numpy.cos(list_of_vals)*(sorted(list_of_vals)))\n",
    "    return b\n",
    "\n",
    "a = numpy.random.random(100)\n",
    "example1_B(a)"
   ]
  },
  {
   "cell_type": "markdown",
   "id": "ba655914",
   "metadata": {},
   "source": [
    "## Exercise 1.8"
   ]
  },
  {
   "cell_type": "code",
   "execution_count": 12,
   "id": "5aa0d882",
   "metadata": {},
   "outputs": [
    {
     "name": "stdout",
     "output_type": "stream",
     "text": [
      "What is the extra value? 4\n",
      "10\n"
     ]
    }
   ],
   "source": [
    "first = 1\n",
    "second = 2\n",
    "third = 3\n",
    "extra = int(input(\"What is the extra value? \"))\n",
    "\n",
    "total = first+second+third+extra\n",
    "print(total)\n"
   ]
  },
  {
   "cell_type": "markdown",
   "id": "79870721",
   "metadata": {},
   "source": [
    "## Exercise 1.9\n",
    "\n",
    "For this one here, after fixing, ensure it works with both an odd *and* an even number as input!"
   ]
  },
  {
   "cell_type": "code",
   "execution_count": 13,
   "id": "2ee29894",
   "metadata": {},
   "outputs": [
    {
     "name": "stdout",
     "output_type": "stream",
     "text": [
      "Enter a number: 2\n",
      "You have entered an even number.\n"
     ]
    }
   ],
   "source": [
    "x = int(input('Enter a number: '))\n",
    "\n",
    "if x%2 == 0:\n",
    "    print('You have entered an even number.')\n",
    "else:\n",
    "    print ('You have entered an odd number.')\n"
   ]
  },
  {
   "cell_type": "markdown",
   "id": "e0f55d52",
   "metadata": {},
   "source": [
    "## Exercise 1.10\n",
    "\n",
    "The following example case is long. It's an example of coding up a noughts and crosses game. There's nothing in here that you haven't seen before, so can you use the error messages, and your knowledge, to fix the broken code? (If you get stuck, don't spend too much time on this, it's important to also see later exercises!)\n",
    "\n",
    "**HINT**: After resolving the syntax errors, are the input, and output, arguments in the right order??"
   ]
  },
  {
   "cell_type": "code",
   "execution_count": 22,
   "id": "cf486994",
   "metadata": {},
   "outputs": [
    {
     "name": "stdout",
     "output_type": "stream",
     "text": [
      "***\n",
      "***\n",
      "***\n",
      "\n",
      "It's not nought's turn!\n",
      "*O*\n",
      "***\n",
      "***\n",
      "\n",
      "NOUGHTS WIN\n",
      "OOO\n",
      "*X*\n",
      "**X\n",
      "\n",
      "***\n",
      "***\n",
      "***\n",
      "\n",
      "GAME IS A DRAW\n",
      "XOO\n",
      "OOX\n",
      "XXO\n",
      "\n"
     ]
    }
   ],
   "source": [
    "import numpy\n",
    "\n",
    "def create_empty_board():\n",
    "    return numpy.zeros([3,3])\n",
    "                        \n",
    "\n",
    "def print_board(board):\n",
    "    for i in range(3):\n",
    "        curr_line = ''\n",
    "        for j in range(3):\n",
    "            if board[i,j] == -1:\n",
    "                curr_line += \"O\"\n",
    "            elif board[i,j] == 1:\n",
    "                curr_line += \"X\"\n",
    "            elif board[i,j] == 0:\n",
    "                curr_line += \"*\"\n",
    "        print(curr_line)\n",
    "    print()\n",
    "    \n",
    "def place_nought(current_player, board, i, j):\n",
    "    if current_player == 'crosses':\n",
    "        print(\"It's not nought's turn!\")\n",
    "        return current_player, board\n",
    "    if not board[i,j] == 0:\n",
    "        print(\"That square already has a piece on it\")\n",
    "        return current_player, board\n",
    "    board[i,j] = -1\n",
    "    current_player = 'crosses'\n",
    "    check_board_status(board)\n",
    "    return current_player, board\n",
    "    \n",
    "def place_cross(current_player, board, i, j):\n",
    "    if current_player == 'noughts':\n",
    "        print(\"It's not nought's turn!\")\n",
    "        return current_player, board\n",
    "    if not board[i,j] == 0:\n",
    "        print(\"That square already has a piece on it\")\n",
    "        return current_player, board\n",
    "    board[i,j] = 1\n",
    "    current_player = 'noughts'\n",
    "    check_board_status(board)\n",
    "    return current_player, board\n",
    "    \n",
    "def check_board_status(board):\n",
    "    # Check horizontal and vertical rows\n",
    "    diag_sum = board[0,0] + board[1,1] + board[2,2]\n",
    "    diag_sum2 = board[0,2] + board[1,1] + board[2,0]\n",
    "    for i in range(3):\n",
    "        if board[i,:].sum() == 3 or board[:,i].sum() == 3 or diag_sum == 3 or diag_sum == 3:\n",
    "            print(\"CROSSES WIN\")\n",
    "            print_board(board)\n",
    "        if board[i,:].sum() == -3 or board[:,i].sum() == -3 or diag_sum == -3 or diag_sum == -3:\n",
    "            print(\"NOUGHTS WIN\")\n",
    "            print_board(board)\n",
    "        \n",
    "    # Check if any values are 0\n",
    "    if not (board == 0).any():\n",
    "        print(\"GAME IS A DRAW\")\n",
    "        print_board(board)\n",
    "\n",
    "board = create_empty_board()\n",
    "current_player = 'noughts'\n",
    "print_board(board)\n",
    "current_player, board = place_nought(current_player, board, 0,1)\n",
    "# This one below should fail, it's not nought's turn!\n",
    "current_player, board = place_nought(current_player, board, 1,1)\n",
    "print_board(board)\n",
    "current_player, board = place_cross(current_player, board, 1,1)\n",
    "current_player, board = place_nought(current_player, board, 0,0)\n",
    "current_player, board = place_cross(current_player, board, 2,2)\n",
    "current_player, board = place_nought(current_player, board, 0,2)\n",
    "# Nought wins\n",
    "\n",
    "board = create_empty_board()\n",
    "current_player = 'noughts'\n",
    "print_board(board)\n",
    "current_player, board = place_nought(current_player, board, 1,1)\n",
    "current_player, board = place_cross(current_player, board, 0,0)\n",
    "current_player, board = place_nought(current_player, board, 0,2)\n",
    "current_player, board = place_cross(current_player, board, 2,0)\n",
    "current_player, board = place_nought(current_player, board, 1,0)\n",
    "current_player, board = place_cross(current_player, board, 1,2)\n",
    "current_player, board = place_nought(current_player, board, 0,1)\n",
    "current_player, board = place_cross(current_player, board, 2,1)\n",
    "current_player, board = place_nought(current_player, board, 2,2)\n",
    "# DRAW\n"
   ]
  },
  {
   "cell_type": "code",
   "execution_count": null,
   "id": "1c17218e",
   "metadata": {},
   "outputs": [],
   "source": []
  }
 ],
 "metadata": {
  "kernelspec": {
   "display_name": "Python 3 (ipykernel)",
   "language": "python",
   "name": "python3"
  },
  "language_info": {
   "codemirror_mode": {
    "name": "ipython",
    "version": 3
   },
   "file_extension": ".py",
   "mimetype": "text/x-python",
   "name": "python",
   "nbconvert_exporter": "python",
   "pygments_lexer": "ipython3",
   "version": "3.9.7"
  }
 },
 "nbformat": 4,
 "nbformat_minor": 5
}
