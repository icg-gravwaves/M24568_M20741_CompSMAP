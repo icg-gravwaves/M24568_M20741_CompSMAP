{
 "cells": [
  {
   "cell_type": "markdown",
   "id": "d62edff8",
   "metadata": {},
   "source": [
    "# Exercise 2 - Short failing examples - SOLVED\n",
    "\n",
    "Here we give a series of short functions that are failing for a variety of reasons. Please look over each of these in turn, and try to identify and fix the problem.\n",
    "\n"
   ]
  },
  {
   "cell_type": "markdown",
   "id": "679603c3",
   "metadata": {},
   "source": [
    "## Exercise 2A - Nothing being printed??\n",
    "\n",
    "In this code we have written a function to take two inputs `a` and `b` and compute `(a + b) / (a - b + 0.01)**2`. However, when we try to use it nothing is printed. Please fix this! "
   ]
  },
  {
   "cell_type": "code",
   "execution_count": 2,
   "id": "f549edac",
   "metadata": {},
   "outputs": [
    {
     "name": "stdout",
     "output_type": "stream",
     "text": [
      "0.9933665191333431\n"
     ]
    }
   ],
   "source": [
    "def some_expression(a, b):\n",
    "    output = (a + b)/(a - b + 0.01)**2\n",
    "    return output\n",
    "\n",
    "\n",
    "my_fav_a = 6\n",
    "my_least_fav_b = 3\n",
    "\n",
    "print(some_expression(my_fav_a, my_least_fav_b))"
   ]
  },
  {
   "cell_type": "markdown",
   "id": "f7443968",
   "metadata": {},
   "source": [
    "## Exercise 2B - TypeError??\n",
    "\n",
    "We have written a function to concatenate two strings. We then provide two strings, but the code says TypeError. Please make it add my strings together!!"
   ]
  },
  {
   "cell_type": "code",
   "execution_count": 4,
   "id": "82aba34c",
   "metadata": {},
   "outputs": [
    {
     "name": "stdout",
     "output_type": "stream",
     "text": [
      "I think I'm okI feel trapped\n"
     ]
    }
   ],
   "source": [
    "def string_contatenator(string1, string2):\n",
    "    output = string1 + string2\n",
    "    return output\n",
    "\n",
    "string1 = \"I think I'm ok\"\n",
    "string2 = \"I feel trapped\"\n",
    "\n",
    "print(string_contatenator(string1, string2))"
   ]
  },
  {
   "cell_type": "markdown",
   "id": "707b7f21",
   "metadata": {},
   "source": [
    "## Exercise 2C - Assignment and logical equality\n",
    "\n",
    "Here is a function for determining whether you have a good amount of flour, sugar and eggs to make a cake. Except it doesn't work. Please fix it! \n"
   ]
  },
  {
   "cell_type": "code",
   "execution_count": 8,
   "id": "8ce86abf",
   "metadata": {},
   "outputs": [
    {
     "name": "stdout",
     "output_type": "stream",
     "text": [
      "This looks good for making a cake, but maybe check with Mary Berry.\n"
     ]
    }
   ],
   "source": [
    "def baking_cake(amount_flour, sugar_spoons, num_eggs):\n",
    "    if amount_flour == 5:\n",
    "        return f\"Are you sure that you want to use {amount_flout} kg of flour to bake a cake?\"\n",
    "    elif amount_flour < 0.25 and sugar_spoons == 20:\n",
    "        return f\"This is going to be very sugary\"\n",
    "    else:\n",
    "        return f\"This looks good for making a cake, but maybe check with Mary Berry.\"\n",
    "\n",
    "amount_flour = 4\n",
    "sugar_spoons = 5\n",
    "num_eggs = 2\n",
    "print(baking_cake(amount_flour, sugar_spoons, num_eggs))"
   ]
  },
  {
   "cell_type": "markdown",
   "id": "a8ac3a74",
   "metadata": {},
   "source": [
    "## Exercise 2D - N factorial always equals 1??\n",
    "\n",
    "We wish to calculate a factorial of $n$, in maths we often denote this as $n!$ it is defined as \n",
    "$$ n! = 1 \\cdot 2 \\cdot 3 \\cdot 4 \\cdot \\cdots \\cdot n$$\n",
    "\n",
    "We have written a code to do this .... except whatever we give it as input it always returns 1. Please fix my code!"
   ]
  },
  {
   "cell_type": "code",
   "execution_count": 9,
   "id": "a62542dc",
   "metadata": {},
   "outputs": [
    {
     "name": "stdout",
     "output_type": "stream",
     "text": [
      "6.0 120.0 5040.0\n"
     ]
    }
   ],
   "source": [
    "def my_func(n):\n",
    "    total = 1.0\n",
    "    for k in range(1, n+1):\n",
    "        total *= k\n",
    "    return total\n",
    "\n",
    "print(my_func(3), my_func(5), my_func(7))"
   ]
  },
  {
   "cell_type": "markdown",
   "id": "1f557746",
   "metadata": {},
   "source": [
    "## Exercise 2E - List is not callable??\n",
    "\n",
    "We have a function that takes a list and returns the last 2 elements as a new list. Except it fails with the strange error seen below. Please fix!"
   ]
  },
  {
   "cell_type": "code",
   "execution_count": 10,
   "id": "cc6363dc",
   "metadata": {},
   "outputs": [
    {
     "name": "stdout",
     "output_type": "stream",
     "text": [
      "[3, 4]\n"
     ]
    }
   ],
   "source": [
    "def last_but_one_and_last(my_list):\n",
    "    if len(my_list)>=2:\n",
    "        output = [my_list[-2], my_list[-1]]\n",
    "        return output\n",
    "\n",
    "my_list = [1, 2, 3, 4]\n",
    "print(last_but_one_and_last(my_list))"
   ]
  },
  {
   "cell_type": "markdown",
   "id": "afe53c7d",
   "metadata": {},
   "source": [
    "## Exercise 2F - Function just gives the wrong output??\n",
    "\n",
    "After being upset that none of my 5 short code snippets above worked, I tried to reassure myself by coding something quick. A function that takes one input and returns the number squared. However, the function just seems to return random numbers? HEEEELLLPPP!!!!"
   ]
  },
  {
   "cell_type": "code",
   "execution_count": 12,
   "id": "b5d9bf68",
   "metadata": {},
   "outputs": [
    {
     "name": "stdout",
     "output_type": "stream",
     "text": [
      "36\n"
     ]
    }
   ],
   "source": [
    "def my_fonc(my_fav_n):\n",
    "    return my_fav_a**2\n",
    "\n",
    "print(my_fonc(2))"
   ]
  },
  {
   "cell_type": "code",
   "execution_count": null,
   "id": "b2f74c0a",
   "metadata": {},
   "outputs": [],
   "source": []
  }
 ],
 "metadata": {
  "kernelspec": {
   "display_name": "Python 3 (ipykernel)",
   "language": "python",
   "name": "python3"
  },
  "language_info": {
   "codemirror_mode": {
    "name": "ipython",
    "version": 3
   },
   "file_extension": ".py",
   "mimetype": "text/x-python",
   "name": "python",
   "nbconvert_exporter": "python",
   "pygments_lexer": "ipython3",
   "version": "3.9.7"
  }
 },
 "nbformat": 4,
 "nbformat_minor": 5
}
