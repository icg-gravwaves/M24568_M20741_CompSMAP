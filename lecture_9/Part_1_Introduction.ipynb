{
 "cells": [
  {
   "cell_type": "markdown",
   "id": "6ba984d4",
   "metadata": {},
   "source": [
    "# What is root finding and why do it on a computer?\n",
    "\n",
    "## Root finding briefly explained\n",
    "\n",
    "Root finding means finding a solution to equations. For example you might be asked something like:\n",
    "\n",
    "* Find values of $x$ that satisfy $x^2 - 1 = 0$.\n",
    "\n",
    "This case can be solved analytically, it will be true if $x^2 = 1$, and there are two cases where $x^2 = 1$, either $x=1$ or $x=-1$. $x=-1$, or $x=1$ would then be the two *roots* (or solutions) of this equation."
   ]
  },
  {
   "cell_type": "markdown",
   "id": "fee50520",
   "metadata": {},
   "source": [
    "## Why do we need a computer?\n",
    "\n",
    "Some equations are difficult (or impossible) to solve analytically. Consider some non-linear equations such as\n",
    "\n",
    "- **Polynomial equations**, that is, equations of the form\n",
    "    $$ a_n x^n + a_{n-1}x^{n-1} + \\dotsb + a_2 x^2 + a_1 x + a_0 = 0,$$.\n",
    "    For example $x^5+7x^3-18x^2-4=0$.\n",
    "- **Trigonometric equations**, that is, equations which include trigonometric functions. For example $a \\sin(x) +b\\cos(x) = c$.\n",
    "- **Mixed equations**, that is, equations which contain different types of functions, e.g., \n",
    "    $e^{-2x} = \\sin{x}$.\n",
    "    \n",
    "Some of these can be solved analytically, but it's to see how we can keep adding and mixing terms and getting some very complicated equations."
   ]
  },
  {
   "cell_type": "markdown",
   "id": "c61cce56",
   "metadata": {},
   "source": [
    "## Numerical (computational) root finding in short\n",
    "\n",
    "Numerical root finding works by first taking an equation, for e.g.\n",
    "\n",
    "$$e^{-2x} = \\sin{x}.$$\n",
    "\n",
    "Generally, this is then rearranged so that it is of the form $f(x) = 0$. So here:\n",
    "\n",
    "$$e^{-2x} - \\sin{x} = 0. $$\n",
    "\n",
    "Then we take a guess at a solution (for e.g. what about $x=0$), find the value of the function at that guess (and perhaps other information, such as an estimate of it's derivative at that point), and use that information to make an improved guess. We then iterate until we find a value of x that is suitably close to 0. This is our solution."
   ]
  },
  {
   "cell_type": "markdown",
   "id": "6f8e9348",
   "metadata": {},
   "source": [
    "## Notation \n",
    "\n",
    "We use some mathematical notation in this notebook. Let's explain this here, so you can read over and refer back if you later encounter something you're not sure about.\n",
    "\n",
    "The set of all natural numbers, that is, all positive integers, that is numbers $$1, 2, 3, 4, 5, \\ldots$$\n",
    "is denoted by $\\mathbb{N}$. \n",
    "\n",
    "The set of all real numbers is denoted by $\\mathbb{R}$. Real numbers contain all integers, all rational (these are fractions) and irrational numbers (for example, $\\sqrt{2}$, $\\pi$ or $e$). \n",
    "\n",
    "If a variable $n$ is a natural number, we will denote it by $n \\in \\mathbb{N}$, the symbol $\\in$ means ``in``. \n",
    "\n",
    "Given two real numbers, $a$ and $b$ so that $a<b$:\n",
    "- the interval $[a, b]$ is all real numbers which are greater or equal to $a$ and less or equal to $b$. \n",
    "- the interval $(a, b)$ is all real numbers which are greater than $a$ and less than  $b$. This excludes $a$ and $b$. \n",
    "\n",
    "Instead of writing $x$ is an element of an interval $[a, b]$ we will shortly write $x \\in [a, b]$.\n",
    "\n",
    "Similarly, instead of writing $x$ is an element of an interval $(a, b)$ we will shortly write $x \\in (a, b)$.\n",
    "\n"
   ]
  },
  {
   "cell_type": "code",
   "execution_count": null,
   "id": "b758e689",
   "metadata": {},
   "outputs": [],
   "source": []
  }
 ],
 "metadata": {
  "kernelspec": {
   "display_name": "Python 3 (ipykernel)",
   "language": "python",
   "name": "python3"
  },
  "language_info": {
   "codemirror_mode": {
    "name": "ipython",
    "version": 3
   },
   "file_extension": ".py",
   "mimetype": "text/x-python",
   "name": "python",
   "nbconvert_exporter": "python",
   "pygments_lexer": "ipython3",
   "version": "3.9.7"
  }
 },
 "nbformat": 4,
 "nbformat_minor": 5
}
